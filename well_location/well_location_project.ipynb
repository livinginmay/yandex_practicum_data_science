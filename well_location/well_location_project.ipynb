{
 "cells": [
  {
   "cell_type": "markdown",
   "metadata": {
    "toc": true
   },
   "source": [
    "<h1>Содержание<span class=\"tocSkip\"></span></h1>\n",
    "<div class=\"toc\"><ul class=\"toc-item\"><li><span><a href=\"#Загрузка-и-подготовка-данных\" data-toc-modified-id=\"Загрузка-и-подготовка-данных-1\"><span class=\"toc-item-num\">1&nbsp;&nbsp;</span>Загрузка и подготовка данных</a></span></li><li><span><a href=\"#Обучение-и-проверка-модели\" data-toc-modified-id=\"Обучение-и-проверка-модели-2\"><span class=\"toc-item-num\">2&nbsp;&nbsp;</span>Обучение и проверка модели</a></span></li><li><span><a href=\"#Подготовка-к-расчёту-прибыли\" data-toc-modified-id=\"Подготовка-к-расчёту-прибыли-3\"><span class=\"toc-item-num\">3&nbsp;&nbsp;</span>Подготовка к расчёту прибыли</a></span></li><li><span><a href=\"#Расчёт-прибыли-и-рисков\" data-toc-modified-id=\"Расчёт-прибыли-и-рисков-4\"><span class=\"toc-item-num\">4&nbsp;&nbsp;</span>Расчёт прибыли и рисков</a></span></li></ul></div>"
   ]
  },
  {
   "cell_type": "markdown",
   "metadata": {},
   "source": [
    "# Выбор локации для нефтяной скважины"
   ]
  },
  {
   "cell_type": "markdown",
   "metadata": {},
   "source": [
    "## Загрузка и подготовка данных"
   ]
  },
  {
   "cell_type": "code",
   "execution_count": 1,
   "metadata": {},
   "outputs": [],
   "source": [
    "import pandas as pd\n",
    "import numpy as np\n",
    "\n",
    "from sklearn.model_selection import train_test_split\n",
    "from sklearn.linear_model import LinearRegression\n",
    "from sklearn.metrics import mean_squared_error, r2_score\n",
    "\n",
    "import seaborn as sns\n",
    "import matplotlib.pyplot as plt"
   ]
  },
  {
   "cell_type": "code",
   "execution_count": 2,
   "metadata": {},
   "outputs": [],
   "source": [
    "data_0 = pd.read_csv('/datasets/geo_data_0.csv')\n",
    "data_1 = pd.read_csv('/datasets/geo_data_1.csv')\n",
    "data_2 = pd.read_csv('/datasets/geo_data_2.csv')"
   ]
  },
  {
   "cell_type": "code",
   "execution_count": 3,
   "metadata": {},
   "outputs": [
    {
     "data": {
      "text/html": [
       "<div>\n",
       "<style scoped>\n",
       "    .dataframe tbody tr th:only-of-type {\n",
       "        vertical-align: middle;\n",
       "    }\n",
       "\n",
       "    .dataframe tbody tr th {\n",
       "        vertical-align: top;\n",
       "    }\n",
       "\n",
       "    .dataframe thead th {\n",
       "        text-align: right;\n",
       "    }\n",
       "</style>\n",
       "<table border=\"1\" class=\"dataframe\">\n",
       "  <thead>\n",
       "    <tr style=\"text-align: right;\">\n",
       "      <th></th>\n",
       "      <th>id</th>\n",
       "      <th>f0</th>\n",
       "      <th>f1</th>\n",
       "      <th>f2</th>\n",
       "      <th>product</th>\n",
       "    </tr>\n",
       "  </thead>\n",
       "  <tbody>\n",
       "    <tr>\n",
       "      <th>0</th>\n",
       "      <td>txEyH</td>\n",
       "      <td>0.705745</td>\n",
       "      <td>-0.497823</td>\n",
       "      <td>1.221170</td>\n",
       "      <td>105.280062</td>\n",
       "    </tr>\n",
       "    <tr>\n",
       "      <th>1</th>\n",
       "      <td>2acmU</td>\n",
       "      <td>1.334711</td>\n",
       "      <td>-0.340164</td>\n",
       "      <td>4.365080</td>\n",
       "      <td>73.037750</td>\n",
       "    </tr>\n",
       "    <tr>\n",
       "      <th>2</th>\n",
       "      <td>409Wp</td>\n",
       "      <td>1.022732</td>\n",
       "      <td>0.151990</td>\n",
       "      <td>1.419926</td>\n",
       "      <td>85.265647</td>\n",
       "    </tr>\n",
       "    <tr>\n",
       "      <th>3</th>\n",
       "      <td>iJLyR</td>\n",
       "      <td>-0.032172</td>\n",
       "      <td>0.139033</td>\n",
       "      <td>2.978566</td>\n",
       "      <td>168.620776</td>\n",
       "    </tr>\n",
       "    <tr>\n",
       "      <th>4</th>\n",
       "      <td>Xdl7t</td>\n",
       "      <td>1.988431</td>\n",
       "      <td>0.155413</td>\n",
       "      <td>4.751769</td>\n",
       "      <td>154.036647</td>\n",
       "    </tr>\n",
       "  </tbody>\n",
       "</table>\n",
       "</div>"
      ],
      "text/plain": [
       "      id        f0        f1        f2     product\n",
       "0  txEyH  0.705745 -0.497823  1.221170  105.280062\n",
       "1  2acmU  1.334711 -0.340164  4.365080   73.037750\n",
       "2  409Wp  1.022732  0.151990  1.419926   85.265647\n",
       "3  iJLyR -0.032172  0.139033  2.978566  168.620776\n",
       "4  Xdl7t  1.988431  0.155413  4.751769  154.036647"
      ]
     },
     "execution_count": 3,
     "metadata": {},
     "output_type": "execute_result"
    }
   ],
   "source": [
    "data_0.head()"
   ]
  },
  {
   "cell_type": "code",
   "execution_count": 4,
   "metadata": {},
   "outputs": [
    {
     "name": "stdout",
     "output_type": "stream",
     "text": [
      "<class 'pandas.core.frame.DataFrame'>\n",
      "RangeIndex: 100000 entries, 0 to 99999\n",
      "Data columns (total 5 columns):\n",
      " #   Column   Non-Null Count   Dtype  \n",
      "---  ------   --------------   -----  \n",
      " 0   id       100000 non-null  object \n",
      " 1   f0       100000 non-null  float64\n",
      " 2   f1       100000 non-null  float64\n",
      " 3   f2       100000 non-null  float64\n",
      " 4   product  100000 non-null  float64\n",
      "dtypes: float64(4), object(1)\n",
      "memory usage: 3.8+ MB\n"
     ]
    }
   ],
   "source": [
    "data_0.info()"
   ]
  },
  {
   "cell_type": "code",
   "execution_count": 5,
   "metadata": {},
   "outputs": [
    {
     "data": {
      "text/html": [
       "<div>\n",
       "<style scoped>\n",
       "    .dataframe tbody tr th:only-of-type {\n",
       "        vertical-align: middle;\n",
       "    }\n",
       "\n",
       "    .dataframe tbody tr th {\n",
       "        vertical-align: top;\n",
       "    }\n",
       "\n",
       "    .dataframe thead th {\n",
       "        text-align: right;\n",
       "    }\n",
       "</style>\n",
       "<table border=\"1\" class=\"dataframe\">\n",
       "  <thead>\n",
       "    <tr style=\"text-align: right;\">\n",
       "      <th></th>\n",
       "      <th>id</th>\n",
       "      <th>f0</th>\n",
       "      <th>f1</th>\n",
       "      <th>f2</th>\n",
       "      <th>product</th>\n",
       "    </tr>\n",
       "  </thead>\n",
       "  <tbody>\n",
       "    <tr>\n",
       "      <th>0</th>\n",
       "      <td>kBEdx</td>\n",
       "      <td>-15.001348</td>\n",
       "      <td>-8.276000</td>\n",
       "      <td>-0.005876</td>\n",
       "      <td>3.179103</td>\n",
       "    </tr>\n",
       "    <tr>\n",
       "      <th>1</th>\n",
       "      <td>62mP7</td>\n",
       "      <td>14.272088</td>\n",
       "      <td>-3.475083</td>\n",
       "      <td>0.999183</td>\n",
       "      <td>26.953261</td>\n",
       "    </tr>\n",
       "    <tr>\n",
       "      <th>2</th>\n",
       "      <td>vyE1P</td>\n",
       "      <td>6.263187</td>\n",
       "      <td>-5.948386</td>\n",
       "      <td>5.001160</td>\n",
       "      <td>134.766305</td>\n",
       "    </tr>\n",
       "    <tr>\n",
       "      <th>3</th>\n",
       "      <td>KcrkZ</td>\n",
       "      <td>-13.081196</td>\n",
       "      <td>-11.506057</td>\n",
       "      <td>4.999415</td>\n",
       "      <td>137.945408</td>\n",
       "    </tr>\n",
       "    <tr>\n",
       "      <th>4</th>\n",
       "      <td>AHL4O</td>\n",
       "      <td>12.702195</td>\n",
       "      <td>-8.147433</td>\n",
       "      <td>5.004363</td>\n",
       "      <td>134.766305</td>\n",
       "    </tr>\n",
       "  </tbody>\n",
       "</table>\n",
       "</div>"
      ],
      "text/plain": [
       "      id         f0         f1        f2     product\n",
       "0  kBEdx -15.001348  -8.276000 -0.005876    3.179103\n",
       "1  62mP7  14.272088  -3.475083  0.999183   26.953261\n",
       "2  vyE1P   6.263187  -5.948386  5.001160  134.766305\n",
       "3  KcrkZ -13.081196 -11.506057  4.999415  137.945408\n",
       "4  AHL4O  12.702195  -8.147433  5.004363  134.766305"
      ]
     },
     "execution_count": 5,
     "metadata": {},
     "output_type": "execute_result"
    }
   ],
   "source": [
    "data_1.head()"
   ]
  },
  {
   "cell_type": "code",
   "execution_count": 6,
   "metadata": {},
   "outputs": [
    {
     "name": "stdout",
     "output_type": "stream",
     "text": [
      "<class 'pandas.core.frame.DataFrame'>\n",
      "RangeIndex: 100000 entries, 0 to 99999\n",
      "Data columns (total 5 columns):\n",
      " #   Column   Non-Null Count   Dtype  \n",
      "---  ------   --------------   -----  \n",
      " 0   id       100000 non-null  object \n",
      " 1   f0       100000 non-null  float64\n",
      " 2   f1       100000 non-null  float64\n",
      " 3   f2       100000 non-null  float64\n",
      " 4   product  100000 non-null  float64\n",
      "dtypes: float64(4), object(1)\n",
      "memory usage: 3.8+ MB\n"
     ]
    }
   ],
   "source": [
    "data_1.info()"
   ]
  },
  {
   "cell_type": "code",
   "execution_count": 7,
   "metadata": {},
   "outputs": [
    {
     "data": {
      "text/html": [
       "<div>\n",
       "<style scoped>\n",
       "    .dataframe tbody tr th:only-of-type {\n",
       "        vertical-align: middle;\n",
       "    }\n",
       "\n",
       "    .dataframe tbody tr th {\n",
       "        vertical-align: top;\n",
       "    }\n",
       "\n",
       "    .dataframe thead th {\n",
       "        text-align: right;\n",
       "    }\n",
       "</style>\n",
       "<table border=\"1\" class=\"dataframe\">\n",
       "  <thead>\n",
       "    <tr style=\"text-align: right;\">\n",
       "      <th></th>\n",
       "      <th>id</th>\n",
       "      <th>f0</th>\n",
       "      <th>f1</th>\n",
       "      <th>f2</th>\n",
       "      <th>product</th>\n",
       "    </tr>\n",
       "  </thead>\n",
       "  <tbody>\n",
       "    <tr>\n",
       "      <th>0</th>\n",
       "      <td>fwXo0</td>\n",
       "      <td>-1.146987</td>\n",
       "      <td>0.963328</td>\n",
       "      <td>-0.828965</td>\n",
       "      <td>27.758673</td>\n",
       "    </tr>\n",
       "    <tr>\n",
       "      <th>1</th>\n",
       "      <td>WJtFt</td>\n",
       "      <td>0.262778</td>\n",
       "      <td>0.269839</td>\n",
       "      <td>-2.530187</td>\n",
       "      <td>56.069697</td>\n",
       "    </tr>\n",
       "    <tr>\n",
       "      <th>2</th>\n",
       "      <td>ovLUW</td>\n",
       "      <td>0.194587</td>\n",
       "      <td>0.289035</td>\n",
       "      <td>-5.586433</td>\n",
       "      <td>62.871910</td>\n",
       "    </tr>\n",
       "    <tr>\n",
       "      <th>3</th>\n",
       "      <td>q6cA6</td>\n",
       "      <td>2.236060</td>\n",
       "      <td>-0.553760</td>\n",
       "      <td>0.930038</td>\n",
       "      <td>114.572842</td>\n",
       "    </tr>\n",
       "    <tr>\n",
       "      <th>4</th>\n",
       "      <td>WPMUX</td>\n",
       "      <td>-0.515993</td>\n",
       "      <td>1.716266</td>\n",
       "      <td>5.899011</td>\n",
       "      <td>149.600746</td>\n",
       "    </tr>\n",
       "  </tbody>\n",
       "</table>\n",
       "</div>"
      ],
      "text/plain": [
       "      id        f0        f1        f2     product\n",
       "0  fwXo0 -1.146987  0.963328 -0.828965   27.758673\n",
       "1  WJtFt  0.262778  0.269839 -2.530187   56.069697\n",
       "2  ovLUW  0.194587  0.289035 -5.586433   62.871910\n",
       "3  q6cA6  2.236060 -0.553760  0.930038  114.572842\n",
       "4  WPMUX -0.515993  1.716266  5.899011  149.600746"
      ]
     },
     "execution_count": 7,
     "metadata": {},
     "output_type": "execute_result"
    }
   ],
   "source": [
    "data_2.head()"
   ]
  },
  {
   "cell_type": "code",
   "execution_count": 8,
   "metadata": {},
   "outputs": [
    {
     "name": "stdout",
     "output_type": "stream",
     "text": [
      "<class 'pandas.core.frame.DataFrame'>\n",
      "RangeIndex: 100000 entries, 0 to 99999\n",
      "Data columns (total 5 columns):\n",
      " #   Column   Non-Null Count   Dtype  \n",
      "---  ------   --------------   -----  \n",
      " 0   id       100000 non-null  object \n",
      " 1   f0       100000 non-null  float64\n",
      " 2   f1       100000 non-null  float64\n",
      " 3   f2       100000 non-null  float64\n",
      " 4   product  100000 non-null  float64\n",
      "dtypes: float64(4), object(1)\n",
      "memory usage: 3.8+ MB\n"
     ]
    }
   ],
   "source": [
    "data_2.info()"
   ]
  },
  {
   "cell_type": "code",
   "execution_count": 9,
   "metadata": {},
   "outputs": [],
   "source": [
    "datasets = [data_0, data_1, data_2]\n",
    "for i in range(0, 3):\n",
    "    datasets[i] = datasets[i].drop('id', axis=1)"
   ]
  },
  {
   "cell_type": "markdown",
   "metadata": {},
   "source": [
    "**Вывод**\n",
    "\n",
    "Единственное преобразование - удалила в каждом датасете колонку `id`, т.к. она не должна влиять на результаты обучения.\n",
    "\n",
    "В остальном данные изначально подготовлены для задачи: нет пропусков, нечисловых признаков, названия колонок соответствуют общепринятым правилам стиля, не требуется преобразование типов."
   ]
  },
  {
   "cell_type": "markdown",
   "metadata": {},
   "source": [
    "## Обучение и проверка модели"
   ]
  },
  {
   "cell_type": "code",
   "execution_count": 10,
   "metadata": {},
   "outputs": [],
   "source": [
    "def learn_for_region(data, region_ind, answers):\n",
    "    features = data.drop('product', axis=1)\n",
    "    target = data['product']\n",
    "    \n",
    "    features_train, features_valid, target_train, target_valid  = \\\n",
    "    train_test_split(features, target, test_size=0.25, random_state=12345)\n",
    "    \n",
    "    model = LinearRegression()\n",
    "    model.fit(features_train, target_train)\n",
    "    predictions_valid = model.predict(features_valid)\n",
    "    \n",
    "    print(f'Регион {region_ind+1}: средний запас предсказанного сырья {predictions_valid.mean():.2f} \\\n",
    "(RMSE модели {mean_squared_error(target_valid, predictions_valid)**0.5:.6f}, \\\n",
    "R2 {r2_score(target_valid, predictions_valid):.6f})')\n",
    "    \n",
    "    target_valid = target_valid.reset_index(drop=True)\n",
    "    \n",
    "    answers.append([target_valid, pd.Series(predictions_valid, target_valid.index)])"
   ]
  },
  {
   "cell_type": "code",
   "execution_count": 11,
   "metadata": {
    "scrolled": true
   },
   "outputs": [
    {
     "name": "stdout",
     "output_type": "stream",
     "text": [
      "Регион 1: средний запас предсказанного сырья 92.59 (RMSE модели 37.579422, R2 0.279943)\n",
      "Регион 2: средний запас предсказанного сырья 68.73 (RMSE модели 0.893099, R2 0.999623)\n",
      "Регион 3: средний запас предсказанного сырья 94.97 (RMSE модели 40.029709, R2 0.205248)\n"
     ]
    }
   ],
   "source": [
    "answers = []\n",
    "for i in range(0, 3):\n",
    "    learn_for_region(datasets[i], i, answers)"
   ]
  },
  {
   "cell_type": "code",
   "execution_count": 12,
   "metadata": {
    "scrolled": false
   },
   "outputs": [
    {
     "data": {
      "image/png": "[encoded data removed]",
      "text/plain": [
       "<Figure size 1152x360 with 3 Axes>"
      ]
     },
     "metadata": {
      "needs_background": "light"
     },
     "output_type": "display_data"
    }
   ],
   "source": [
    "fig, axis = plt.subplots(1,3, figsize=(16, 5))\n",
    "\n",
    "for i in range(0,3):\n",
    "    g = sns.histplot(datasets[i]['product'], bins=10, ax=axis[i])\n",
    "    g.set(ylim=(0, 17000))\n",
    "    g.set_title(f'Регион {i+1}') "
   ]
  },
  {
   "cell_type": "markdown",
   "metadata": {},
   "source": [
    "**Вывод**\n",
    "\n",
    "По итогам обучения каждой модели самую точную модель получили на данных второго региона, на остальных средняя квадратичная ошибка равна примерно половине среднего запаса предсказанного сырья. \n",
    "\n",
    "По графику распределения целевого показателя видим, что по второму региону он имеет распределение, близкое к равномерному с выбросами по краям, а у первого и третьего распределения достаточно похожи между собой. \n",
    "\n",
    "Соответственно и метрики моделей первого и третьего региона схожи. А у второй модели потому метрики и лучше, потому что в большинстве случае правильный ответ примерно одинаков."
   ]
  },
  {
   "cell_type": "markdown",
   "metadata": {},
   "source": [
    "## Подготовка к расчёту прибыли"
   ]
  },
  {
   "cell_type": "code",
   "execution_count": 13,
   "metadata": {
    "scrolled": false
   },
   "outputs": [
    {
     "name": "stdout",
     "output_type": "stream",
     "text": [
      "Средний достаточный объем сырья для безубыточной разработки новой скважины составляет 111.11\n"
     ]
    }
   ],
   "source": [
    "REVENUE_1 = 450*10**3\n",
    "BUDGET = 10**10\n",
    "QUANTITY = 200\n",
    "TOTAL_QUANTITY = 500\n",
    "ALPHA = 0.025\n",
    "BOOTSTRAP_SAMPLES = 1000\n",
    "print(f'Средний достаточный объем сырья для безубыточной разработки новой скважины составляет {BUDGET/REVENUE_1/QUANTITY:.2f}')"
   ]
  },
  {
   "cell_type": "code",
   "execution_count": 14,
   "metadata": {},
   "outputs": [],
   "source": [
    "def revenue(target, predictions, QUANTITY, BUDGET, REVENUE_1):\n",
    "    predictions_sorted = predictions.sort_values(ascending=False)\n",
    "    target_selected = target[predictions_sorted.index][:QUANTITY]\n",
    "    return target_selected.sum() * REVENUE_1 - BUDGET"
   ]
  },
  {
   "cell_type": "markdown",
   "metadata": {},
   "source": [
    "**Вывод**\n",
    "\n",
    "Средний достаточный объем сырья для безубыточной разработки новой скважины составляет 111.11 тыс. баррелей, что больше среднего запаса предсказанного сырья, рассчитанного моделью для каждого региона."
   ]
  },
  {
   "cell_type": "markdown",
   "metadata": {},
   "source": [
    "## Расчёт прибыли и рисков "
   ]
  },
  {
   "cell_type": "code",
   "execution_count": 15,
   "metadata": {
    "scrolled": false
   },
   "outputs": [
    {
     "name": "stdout",
     "output_type": "stream",
     "text": [
      "Регион 1: средняя прибыль с 200 скважин 425938526.91\n",
      "          вероятность убытка 6.0%\n",
      "          с вероятность 95% средняя прибыль будет варьироваться в пределах от -102090094.84 до 947976353.36\n",
      "\n",
      "Регион 2: средняя прибыль с 200 скважин 518259493.70\n",
      "          вероятность убытка 0.3%\n",
      "          с вероятность 95% средняя прибыль будет варьироваться в пределах от 128123231.43 до 953612982.07\n",
      "\n",
      "Регион 3: средняя прибыль с 200 скважин 420194005.34\n",
      "          вероятность убытка 6.2%\n",
      "          с вероятность 95% средняя прибыль будет варьироваться в пределах от -115852609.16 до 989629939.84\n",
      "\n"
     ]
    },
    {
     "data": {
      "image/png": "[encoded data removed]",
      "text/plain": [
       "<Figure size 1152x360 with 3 Axes>"
      ]
     },
     "metadata": {
      "needs_background": "light"
     },
     "output_type": "display_data"
    }
   ],
   "source": [
    "state = np.random.RandomState(12345)\n",
    "\n",
    "fig, axis = plt.subplots(1,3, figsize=(16, 5))\n",
    "\n",
    "for i in range(0,3):\n",
    "    values = []\n",
    "    for j in range(0, BOOTSTRAP_SAMPLES):     \n",
    "        target_subsample = answers[i][0].sample(n=TOTAL_QUANTITY, replace=True, random_state=state)\n",
    "        predictions_subsample = answers[i][1][target_subsample.index]\n",
    "        \n",
    "        value = revenue(target_subsample, predictions_subsample, QUANTITY, BUDGET, REVENUE_1)\n",
    "        values.append(value)\n",
    "        \n",
    "    values = pd.Series(values) \n",
    "    \n",
    "    lower = values.quantile(ALPHA)\n",
    "    upper = values.quantile(1-ALPHA)\n",
    "    \n",
    "    print(f'Регион {i+1}: средняя прибыль с {QUANTITY} скважин {values.mean():.2f}')\n",
    "    print(f'          вероятность убытка {(values<0).mean():.1%}')\n",
    "    print(f'          с вероятность {1-2*ALPHA:.0%} средняя прибыль будет варьироваться в пределах \\\n",
    "от {lower:.2f} до {upper:.2f}')\n",
    "    print()\n",
    "    \n",
    "    plt.subplot(1, 3, i+1)\n",
    "    \n",
    "    g = sns.histplot(values/10**6, bins=10)\n",
    "    g.set(xlim=(-500, 1500))\n",
    "    g.set(ylim=(0, 270))\n",
    "    g.set_title(f'Регион {i+1}')    \n",
    "    g.set_xlabel('Прибыль (млн руб)')\n",
    "    \n",
    "    g_lower = lower/10**6\n",
    "    g_upper = upper/10**6\n",
    "    \n",
    "    plt.plot([g_lower, g_lower], [0, 270], linestyle='--')\n",
    "    plt.plot([g_upper, g_upper], [0, 270], linestyle='--')"
   ]
  },
  {
   "cell_type": "markdown",
   "metadata": {},
   "source": [
    "**Вывод**\n",
    "\n",
    "Наилучшим вариантом для бурения новых скважин является второй регион - вероятность убытка 0.3%, в 95% случаях прибыль составит от 128 до 953 млн рублей. \n",
    "\n",
    "В остальных двух регионах вероятность убытка около 6%."
   ]
  }
 ],
 "metadata": {
  "ExecuteTimeLog": [
   {
    "duration": 51,
    "start_time": "2022-03-24T19:21:24.623Z"
   },
   {
    "duration": 414,
    "start_time": "2022-03-24T19:21:28.316Z"
   },
   {
    "duration": 144,
    "start_time": "2022-03-24T19:21:30.101Z"
   },
   {
    "duration": 17,
    "start_time": "2022-03-24T19:21:50.932Z"
   },
   {
    "duration": 9,
    "start_time": "2022-03-24T19:22:25.915Z"
   },
   {
    "duration": 366,
    "start_time": "2022-03-24T19:22:46.060Z"
   },
   {
    "duration": 9,
    "start_time": "2022-03-24T19:22:49.411Z"
   },
   {
    "duration": 16,
    "start_time": "2022-03-24T19:22:51.747Z"
   },
   {
    "duration": 12,
    "start_time": "2022-03-24T19:23:04.210Z"
   },
   {
    "duration": 16,
    "start_time": "2022-03-24T19:23:13.539Z"
   },
   {
    "duration": 10,
    "start_time": "2022-03-24T19:23:25.778Z"
   },
   {
    "duration": 18,
    "start_time": "2022-03-24T19:23:32.930Z"
   },
   {
    "duration": 144,
    "start_time": "2022-03-24T19:28:51.460Z"
   },
   {
    "duration": 30,
    "start_time": "2022-03-24T19:28:56.674Z"
   },
   {
    "duration": 8,
    "start_time": "2022-03-24T19:29:07.452Z"
   },
   {
    "duration": 6,
    "start_time": "2022-03-24T19:29:17.876Z"
   },
   {
    "duration": 9,
    "start_time": "2022-03-24T19:29:28.877Z"
   },
   {
    "duration": 10,
    "start_time": "2022-03-24T19:29:39.258Z"
   },
   {
    "duration": 8,
    "start_time": "2022-03-24T19:29:48.075Z"
   },
   {
    "duration": 9,
    "start_time": "2022-03-24T19:29:50.283Z"
   },
   {
    "duration": 9,
    "start_time": "2022-03-24T19:29:55.475Z"
   },
   {
    "duration": 1114,
    "start_time": "2022-03-24T20:03:43.434Z"
   },
   {
    "duration": 140,
    "start_time": "2022-03-24T20:03:47.323Z"
   },
   {
    "duration": 5,
    "start_time": "2022-03-24T20:03:53.292Z"
   },
   {
    "duration": 5,
    "start_time": "2022-03-24T20:04:13.222Z"
   },
   {
    "duration": 60,
    "start_time": "2022-03-24T20:04:55.433Z"
   },
   {
    "duration": 4,
    "start_time": "2022-03-24T20:05:37.210Z"
   },
   {
    "duration": 31,
    "start_time": "2022-03-24T20:05:39.025Z"
   },
   {
    "duration": 3,
    "start_time": "2022-03-24T20:05:44.657Z"
   },
   {
    "duration": 5,
    "start_time": "2022-03-24T20:05:54.505Z"
   },
   {
    "duration": 110,
    "start_time": "2022-03-24T20:05:56.593Z"
   },
   {
    "duration": 4,
    "start_time": "2022-03-24T20:06:06.857Z"
   },
   {
    "duration": 246,
    "start_time": "2022-03-24T20:06:08.961Z"
   },
   {
    "duration": 13,
    "start_time": "2022-03-24T20:06:33.818Z"
   },
   {
    "duration": 5,
    "start_time": "2022-03-24T20:06:36.520Z"
   },
   {
    "duration": 369,
    "start_time": "2022-03-24T20:06:38.839Z"
   },
   {
    "duration": 4,
    "start_time": "2022-03-24T20:06:45.472Z"
   },
   {
    "duration": 360,
    "start_time": "2022-03-24T20:06:47.656Z"
   },
   {
    "duration": 9,
    "start_time": "2022-03-24T20:07:32.175Z"
   },
   {
    "duration": 1786,
    "start_time": "2022-03-28T08:21:54.782Z"
   },
   {
    "duration": 607,
    "start_time": "2022-03-28T08:21:56.571Z"
   },
   {
    "duration": 24,
    "start_time": "2022-03-28T08:21:57.181Z"
   },
   {
    "duration": 20,
    "start_time": "2022-03-28T08:21:57.208Z"
   },
   {
    "duration": 42,
    "start_time": "2022-03-28T08:21:57.231Z"
   },
   {
    "duration": 20,
    "start_time": "2022-03-28T08:21:57.275Z"
   },
   {
    "duration": 17,
    "start_time": "2022-03-28T08:21:57.297Z"
   },
   {
    "duration": 61,
    "start_time": "2022-03-28T08:21:57.316Z"
   },
   {
    "duration": 17,
    "start_time": "2022-03-28T08:21:57.380Z"
   },
   {
    "duration": 8,
    "start_time": "2022-03-28T08:21:57.401Z"
   },
   {
    "duration": 384,
    "start_time": "2022-03-28T08:21:57.411Z"
   },
   {
    "duration": 6,
    "start_time": "2022-03-28T08:22:17.188Z"
   },
   {
    "duration": 410,
    "start_time": "2022-03-28T08:22:18.973Z"
   },
   {
    "duration": 5,
    "start_time": "2022-03-28T08:22:24.782Z"
   },
   {
    "duration": 456,
    "start_time": "2022-03-28T08:22:26.821Z"
   },
   {
    "duration": 6,
    "start_time": "2022-03-28T08:22:33.109Z"
   },
   {
    "duration": 422,
    "start_time": "2022-03-28T08:22:34.957Z"
   },
   {
    "duration": 6,
    "start_time": "2022-03-28T08:22:41.652Z"
   },
   {
    "duration": 407,
    "start_time": "2022-03-28T08:22:43.397Z"
   },
   {
    "duration": 102,
    "start_time": "2022-03-28T08:23:31.829Z"
   },
   {
    "duration": 6,
    "start_time": "2022-03-28T08:23:37.132Z"
   },
   {
    "duration": 490,
    "start_time": "2022-03-28T08:23:38.886Z"
   },
   {
    "duration": 5,
    "start_time": "2022-03-28T08:25:52.810Z"
   },
   {
    "duration": 416,
    "start_time": "2022-03-28T08:25:55.066Z"
   },
   {
    "duration": 5,
    "start_time": "2022-03-28T08:26:21.547Z"
   },
   {
    "duration": 370,
    "start_time": "2022-03-28T08:26:23.624Z"
   },
   {
    "duration": 5,
    "start_time": "2022-03-28T08:26:27.368Z"
   },
   {
    "duration": 341,
    "start_time": "2022-03-28T08:26:29.153Z"
   },
   {
    "duration": 6,
    "start_time": "2022-03-28T08:26:33.920Z"
   },
   {
    "duration": 8,
    "start_time": "2022-03-28T08:38:05.166Z"
   },
   {
    "duration": 426,
    "start_time": "2022-03-28T08:38:07.083Z"
   },
   {
    "duration": 183,
    "start_time": "2022-03-28T08:38:55.090Z"
   },
   {
    "duration": 90,
    "start_time": "2022-03-28T08:39:14.545Z"
   },
   {
    "duration": 7,
    "start_time": "2022-03-28T08:40:00.473Z"
   },
   {
    "duration": 57,
    "start_time": "2022-03-28T08:40:02.433Z"
   },
   {
    "duration": 6,
    "start_time": "2022-03-28T08:40:08.087Z"
   },
   {
    "duration": 151,
    "start_time": "2022-03-28T08:40:10.025Z"
   },
   {
    "duration": 6,
    "start_time": "2022-03-28T08:40:18.657Z"
   },
   {
    "duration": 449,
    "start_time": "2022-03-28T08:40:20.544Z"
   },
   {
    "duration": 6,
    "start_time": "2022-03-28T08:40:41.829Z"
   },
   {
    "duration": 461,
    "start_time": "2022-03-28T08:40:44.023Z"
   },
   {
    "duration": 6,
    "start_time": "2022-03-28T08:41:16.227Z"
   },
   {
    "duration": 416,
    "start_time": "2022-03-28T08:41:17.975Z"
   },
   {
    "duration": 6,
    "start_time": "2022-03-28T08:41:24.343Z"
   },
   {
    "duration": 441,
    "start_time": "2022-03-28T08:41:26.239Z"
   },
   {
    "duration": 1802,
    "start_time": "2022-03-28T09:07:54.913Z"
   },
   {
    "duration": 438,
    "start_time": "2022-03-28T09:07:56.718Z"
   },
   {
    "duration": 26,
    "start_time": "2022-03-28T09:07:57.159Z"
   },
   {
    "duration": 22,
    "start_time": "2022-03-28T09:07:57.189Z"
   },
   {
    "duration": 13,
    "start_time": "2022-03-28T09:07:57.213Z"
   },
   {
    "duration": 54,
    "start_time": "2022-03-28T09:07:57.228Z"
   },
   {
    "duration": 12,
    "start_time": "2022-03-28T09:07:57.284Z"
   },
   {
    "duration": 20,
    "start_time": "2022-03-28T09:07:57.298Z"
   },
   {
    "duration": 14,
    "start_time": "2022-03-28T09:07:57.321Z"
   },
   {
    "duration": 8,
    "start_time": "2022-03-28T09:07:57.370Z"
   },
   {
    "duration": 589,
    "start_time": "2022-03-28T09:07:57.380Z"
   },
   {
    "duration": 9,
    "start_time": "2022-03-28T09:09:21.133Z"
   },
   {
    "duration": 381,
    "start_time": "2022-03-28T09:09:27.702Z"
   },
   {
    "duration": 6,
    "start_time": "2022-03-28T09:25:26.605Z"
   },
   {
    "duration": 450,
    "start_time": "2022-03-28T09:25:28.531Z"
   },
   {
    "duration": 7,
    "start_time": "2022-03-28T09:36:40.953Z"
   },
   {
    "duration": 145,
    "start_time": "2022-03-28T09:36:42.949Z"
   },
   {
    "duration": 7,
    "start_time": "2022-03-28T09:38:38.084Z"
   },
   {
    "duration": 11,
    "start_time": "2022-03-28T09:38:40.267Z"
   },
   {
    "duration": 6,
    "start_time": "2022-03-28T09:38:52.108Z"
   },
   {
    "duration": 138,
    "start_time": "2022-03-28T09:38:53.932Z"
   },
   {
    "duration": 6,
    "start_time": "2022-03-28T09:40:59.412Z"
   },
   {
    "duration": 180,
    "start_time": "2022-03-28T09:41:01.490Z"
   },
   {
    "duration": 7,
    "start_time": "2022-03-28T09:42:11.743Z"
   },
   {
    "duration": 196,
    "start_time": "2022-03-28T09:42:13.784Z"
   },
   {
    "duration": 5,
    "start_time": "2022-03-28T09:42:34.464Z"
   },
   {
    "duration": 406,
    "start_time": "2022-03-28T09:42:36.575Z"
   },
   {
    "duration": 5,
    "start_time": "2022-03-28T09:42:49.655Z"
   },
   {
    "duration": 74,
    "start_time": "2022-03-28T09:42:51.502Z"
   },
   {
    "duration": 7,
    "start_time": "2022-03-28T09:44:10.918Z"
   },
   {
    "duration": 427,
    "start_time": "2022-03-28T09:44:13.445Z"
   },
   {
    "duration": 6,
    "start_time": "2022-03-28T09:44:29.456Z"
   },
   {
    "duration": 430,
    "start_time": "2022-03-28T09:44:31.644Z"
   },
   {
    "duration": 6,
    "start_time": "2022-03-28T09:47:07.690Z"
   },
   {
    "duration": 437,
    "start_time": "2022-03-28T09:47:09.441Z"
   },
   {
    "duration": 67,
    "start_time": "2022-03-28T09:47:28.603Z"
   },
   {
    "duration": 5,
    "start_time": "2022-03-28T09:47:35.602Z"
   },
   {
    "duration": 7,
    "start_time": "2022-03-28T09:49:02.891Z"
   },
   {
    "duration": 430,
    "start_time": "2022-03-28T09:49:04.848Z"
   },
   {
    "duration": 6,
    "start_time": "2022-03-28T09:54:57.976Z"
   },
   {
    "duration": 397,
    "start_time": "2022-03-28T09:55:00.080Z"
   },
   {
    "duration": 661,
    "start_time": "2022-03-28T09:58:53.285Z"
   },
   {
    "duration": 100,
    "start_time": "2022-03-28T10:04:35.605Z"
   },
   {
    "duration": 197,
    "start_time": "2022-03-28T10:04:41.413Z"
   },
   {
    "duration": 4,
    "start_time": "2022-03-28T10:05:34.125Z"
   },
   {
    "duration": 434,
    "start_time": "2022-03-28T10:05:42.189Z"
   },
   {
    "duration": 544,
    "start_time": "2022-03-28T10:06:02.859Z"
   },
   {
    "duration": 31,
    "start_time": "2022-03-28T10:06:46.388Z"
   },
   {
    "duration": 15,
    "start_time": "2022-03-28T10:06:51.827Z"
   },
   {
    "duration": 13,
    "start_time": "2022-03-28T10:06:56.571Z"
   },
   {
    "duration": 14,
    "start_time": "2022-03-28T10:07:03.339Z"
   },
   {
    "duration": 47,
    "start_time": "2022-03-28T10:07:10.403Z"
   },
   {
    "duration": 43,
    "start_time": "2022-03-28T10:07:20.409Z"
   },
   {
    "duration": 54,
    "start_time": "2022-03-28T10:07:28.411Z"
   },
   {
    "duration": 21,
    "start_time": "2022-03-28T10:08:38.841Z"
   },
   {
    "duration": 449,
    "start_time": "2022-03-28T10:09:24.409Z"
   },
   {
    "duration": 270,
    "start_time": "2022-03-28T10:13:11.540Z"
   },
   {
    "duration": 617,
    "start_time": "2022-03-28T10:13:20.835Z"
   },
   {
    "duration": 14,
    "start_time": "2022-03-28T10:13:58.123Z"
   },
   {
    "duration": 1153,
    "start_time": "2022-03-28T10:14:13.299Z"
   },
   {
    "duration": 1793,
    "start_time": "2022-03-28T10:14:42.137Z"
   },
   {
    "duration": 1175,
    "start_time": "2022-03-28T10:14:52.034Z"
   },
   {
    "duration": 1664,
    "start_time": "2022-03-28T10:17:32.990Z"
   },
   {
    "duration": 1794,
    "start_time": "2022-03-28T10:20:32.556Z"
   },
   {
    "duration": 53,
    "start_time": "2022-03-28T12:19:29.407Z"
   },
   {
    "duration": 1828,
    "start_time": "2022-03-28T12:19:44.734Z"
   },
   {
    "duration": 395,
    "start_time": "2022-03-28T12:19:46.564Z"
   },
   {
    "duration": 17,
    "start_time": "2022-03-28T12:19:46.961Z"
   },
   {
    "duration": 24,
    "start_time": "2022-03-28T12:19:46.981Z"
   },
   {
    "duration": 29,
    "start_time": "2022-03-28T12:19:47.007Z"
   },
   {
    "duration": 19,
    "start_time": "2022-03-28T12:19:47.038Z"
   },
   {
    "duration": 10,
    "start_time": "2022-03-28T12:19:47.059Z"
   },
   {
    "duration": 18,
    "start_time": "2022-03-28T12:19:47.071Z"
   },
   {
    "duration": 13,
    "start_time": "2022-03-28T12:19:47.091Z"
   },
   {
    "duration": 132,
    "start_time": "2022-03-28T12:19:47.133Z"
   },
   {
    "duration": 0,
    "start_time": "2022-03-28T12:19:47.267Z"
   },
   {
    "duration": 0,
    "start_time": "2022-03-28T12:19:47.268Z"
   },
   {
    "duration": 0,
    "start_time": "2022-03-28T12:19:47.269Z"
   },
   {
    "duration": 1699,
    "start_time": "2022-03-28T12:20:36.568Z"
   },
   {
    "duration": 777,
    "start_time": "2022-03-28T12:20:59.472Z"
   },
   {
    "duration": 578,
    "start_time": "2022-03-28T12:22:11.031Z"
   },
   {
    "duration": 1861,
    "start_time": "2022-03-28T12:23:44.670Z"
   },
   {
    "duration": 578,
    "start_time": "2022-03-28T12:23:54.188Z"
   },
   {
    "duration": 508,
    "start_time": "2022-03-28T12:24:11.072Z"
   },
   {
    "duration": 1977,
    "start_time": "2022-03-28T12:24:29.332Z"
   },
   {
    "duration": 504,
    "start_time": "2022-03-28T12:24:36.203Z"
   },
   {
    "duration": 391,
    "start_time": "2022-03-28T12:26:21.370Z"
   },
   {
    "duration": 390,
    "start_time": "2022-03-28T12:26:32.754Z"
   },
   {
    "duration": 376,
    "start_time": "2022-03-28T12:26:42.947Z"
   },
   {
    "duration": 663,
    "start_time": "2022-03-28T12:27:00.937Z"
   },
   {
    "duration": 519,
    "start_time": "2022-03-28T12:27:05.209Z"
   },
   {
    "duration": 526,
    "start_time": "2022-03-28T12:27:20.720Z"
   },
   {
    "duration": 330,
    "start_time": "2022-03-28T12:28:20.992Z"
   },
   {
    "duration": 529,
    "start_time": "2022-03-28T12:28:25.033Z"
   },
   {
    "duration": 1767,
    "start_time": "2022-03-28T12:28:52.173Z"
   },
   {
    "duration": 404,
    "start_time": "2022-03-28T12:28:53.942Z"
   },
   {
    "duration": 17,
    "start_time": "2022-03-28T12:28:54.349Z"
   },
   {
    "duration": 26,
    "start_time": "2022-03-28T12:28:54.368Z"
   },
   {
    "duration": 9,
    "start_time": "2022-03-28T12:28:54.397Z"
   },
   {
    "duration": 38,
    "start_time": "2022-03-28T12:28:54.408Z"
   },
   {
    "duration": 11,
    "start_time": "2022-03-28T12:28:54.448Z"
   },
   {
    "duration": 20,
    "start_time": "2022-03-28T12:28:54.461Z"
   },
   {
    "duration": 12,
    "start_time": "2022-03-28T12:28:54.483Z"
   },
   {
    "duration": 33,
    "start_time": "2022-03-28T12:28:54.498Z"
   },
   {
    "duration": 499,
    "start_time": "2022-03-28T12:28:54.533Z"
   },
   {
    "duration": 638,
    "start_time": "2022-03-28T12:28:55.034Z"
   },
   {
    "duration": 113,
    "start_time": "2022-03-28T12:30:32.342Z"
   },
   {
    "duration": 5,
    "start_time": "2022-03-28T12:30:45.294Z"
   },
   {
    "duration": 382,
    "start_time": "2022-03-28T12:30:48.566Z"
   },
   {
    "duration": 532,
    "start_time": "2022-03-28T12:56:15.644Z"
   },
   {
    "duration": 5,
    "start_time": "2022-03-28T12:56:38.716Z"
   },
   {
    "duration": 364,
    "start_time": "2022-03-28T12:56:41.781Z"
   },
   {
    "duration": 614,
    "start_time": "2022-03-28T12:57:22.803Z"
   },
   {
    "duration": 1692,
    "start_time": "2022-03-28T12:59:06.199Z"
   },
   {
    "duration": 399,
    "start_time": "2022-03-28T12:59:07.893Z"
   },
   {
    "duration": 15,
    "start_time": "2022-03-28T12:59:08.293Z"
   },
   {
    "duration": 26,
    "start_time": "2022-03-28T12:59:08.310Z"
   },
   {
    "duration": 10,
    "start_time": "2022-03-28T12:59:08.338Z"
   },
   {
    "duration": 18,
    "start_time": "2022-03-28T12:59:08.350Z"
   },
   {
    "duration": 9,
    "start_time": "2022-03-28T12:59:08.370Z"
   },
   {
    "duration": 17,
    "start_time": "2022-03-28T12:59:08.381Z"
   },
   {
    "duration": 42,
    "start_time": "2022-03-28T12:59:08.399Z"
   },
   {
    "duration": 7,
    "start_time": "2022-03-28T12:59:08.444Z"
   },
   {
    "duration": 384,
    "start_time": "2022-03-28T12:59:08.453Z"
   },
   {
    "duration": 764,
    "start_time": "2022-03-28T12:59:08.840Z"
   },
   {
    "duration": 5,
    "start_time": "2022-03-28T13:43:05.177Z"
   },
   {
    "duration": 4,
    "start_time": "2022-03-28T13:43:09.099Z"
   },
   {
    "duration": 4,
    "start_time": "2022-03-28T13:43:17.243Z"
   },
   {
    "duration": 4,
    "start_time": "2022-03-28T13:43:42.258Z"
   },
   {
    "duration": 5,
    "start_time": "2022-03-28T13:43:47.202Z"
   },
   {
    "duration": 3,
    "start_time": "2022-03-28T13:43:56.065Z"
   },
   {
    "duration": 5,
    "start_time": "2022-03-28T13:44:45.663Z"
   },
   {
    "duration": 5,
    "start_time": "2022-03-28T13:45:09.711Z"
   },
   {
    "duration": 5,
    "start_time": "2022-03-28T13:46:08.335Z"
   },
   {
    "duration": 121,
    "start_time": "2022-03-28T13:46:15.040Z"
   },
   {
    "duration": 11,
    "start_time": "2022-03-28T13:46:31.204Z"
   },
   {
    "duration": 5,
    "start_time": "2022-03-28T13:46:38.982Z"
   },
   {
    "duration": 4,
    "start_time": "2022-03-28T13:46:45.279Z"
   },
   {
    "duration": 3,
    "start_time": "2022-03-28T13:46:58.822Z"
   },
   {
    "duration": 4,
    "start_time": "2022-03-28T13:47:52.439Z"
   },
   {
    "duration": 4,
    "start_time": "2022-03-28T13:58:38.096Z"
   },
   {
    "duration": 4,
    "start_time": "2022-03-28T13:59:51.055Z"
   },
   {
    "duration": 2154,
    "start_time": "2022-03-28T15:19:14.154Z"
   },
   {
    "duration": 391,
    "start_time": "2022-03-28T15:19:16.311Z"
   },
   {
    "duration": 18,
    "start_time": "2022-03-28T15:19:16.704Z"
   },
   {
    "duration": 39,
    "start_time": "2022-03-28T15:19:16.725Z"
   },
   {
    "duration": 20,
    "start_time": "2022-03-28T15:19:16.766Z"
   },
   {
    "duration": 34,
    "start_time": "2022-03-28T15:19:16.789Z"
   },
   {
    "duration": 12,
    "start_time": "2022-03-28T15:19:16.825Z"
   },
   {
    "duration": 26,
    "start_time": "2022-03-28T15:19:16.839Z"
   },
   {
    "duration": 23,
    "start_time": "2022-03-28T15:19:16.867Z"
   },
   {
    "duration": 7,
    "start_time": "2022-03-28T15:19:16.893Z"
   },
   {
    "duration": 586,
    "start_time": "2022-03-28T15:19:16.902Z"
   },
   {
    "duration": 907,
    "start_time": "2022-03-28T15:19:17.491Z"
   },
   {
    "duration": 168,
    "start_time": "2022-03-28T15:19:18.401Z"
   },
   {
    "duration": 0,
    "start_time": "2022-03-28T15:19:18.571Z"
   },
   {
    "duration": 5,
    "start_time": "2022-03-28T15:19:41.356Z"
   },
   {
    "duration": 5,
    "start_time": "2022-03-28T15:19:43.909Z"
   },
   {
    "duration": 6,
    "start_time": "2022-03-28T15:20:01.585Z"
   },
   {
    "duration": 4,
    "start_time": "2022-03-28T15:20:03.860Z"
   },
   {
    "duration": 6,
    "start_time": "2022-03-28T15:46:34.998Z"
   },
   {
    "duration": 14,
    "start_time": "2022-03-28T16:03:11.273Z"
   },
   {
    "duration": 6,
    "start_time": "2022-03-28T16:03:19.456Z"
   },
   {
    "duration": 5,
    "start_time": "2022-03-28T16:03:21.418Z"
   },
   {
    "duration": 26,
    "start_time": "2022-03-28T16:03:23.778Z"
   },
   {
    "duration": 3605,
    "start_time": "2022-03-28T16:03:45.994Z"
   },
   {
    "duration": 3826,
    "start_time": "2022-03-28T16:04:02.682Z"
   },
   {
    "duration": 5580,
    "start_time": "2022-03-28T16:04:27.778Z"
   },
   {
    "duration": 2232,
    "start_time": "2022-03-28T19:21:49.132Z"
   },
   {
    "duration": 404,
    "start_time": "2022-03-28T19:21:51.367Z"
   },
   {
    "duration": 22,
    "start_time": "2022-03-28T19:21:51.773Z"
   },
   {
    "duration": 20,
    "start_time": "2022-03-28T19:21:51.798Z"
   },
   {
    "duration": 13,
    "start_time": "2022-03-28T19:21:51.820Z"
   },
   {
    "duration": 53,
    "start_time": "2022-03-28T19:21:51.835Z"
   },
   {
    "duration": 13,
    "start_time": "2022-03-28T19:21:51.891Z"
   },
   {
    "duration": 37,
    "start_time": "2022-03-28T19:21:51.906Z"
   },
   {
    "duration": 15,
    "start_time": "2022-03-28T19:21:51.945Z"
   },
   {
    "duration": 23,
    "start_time": "2022-03-28T19:21:51.964Z"
   },
   {
    "duration": 503,
    "start_time": "2022-03-28T19:21:51.990Z"
   },
   {
    "duration": 927,
    "start_time": "2022-03-28T19:21:52.496Z"
   },
   {
    "duration": 5,
    "start_time": "2022-03-28T19:21:53.425Z"
   },
   {
    "duration": 23,
    "start_time": "2022-03-28T19:21:53.432Z"
   },
   {
    "duration": 5135,
    "start_time": "2022-03-28T19:21:53.457Z"
   },
   {
    "duration": 5116,
    "start_time": "2022-03-28T19:25:14.487Z"
   },
   {
    "duration": 5510,
    "start_time": "2022-03-28T19:26:27.894Z"
   },
   {
    "duration": 5,
    "start_time": "2022-03-28T19:33:07.597Z"
   },
   {
    "duration": 1847,
    "start_time": "2022-03-28T19:34:52.051Z"
   },
   {
    "duration": 1780,
    "start_time": "2022-03-28T19:35:46.367Z"
   },
   {
    "duration": 383,
    "start_time": "2022-03-28T19:35:48.150Z"
   },
   {
    "duration": 18,
    "start_time": "2022-03-28T19:35:48.535Z"
   },
   {
    "duration": 35,
    "start_time": "2022-03-28T19:35:48.556Z"
   },
   {
    "duration": 18,
    "start_time": "2022-03-28T19:35:48.594Z"
   },
   {
    "duration": 32,
    "start_time": "2022-03-28T19:35:48.614Z"
   },
   {
    "duration": 16,
    "start_time": "2022-03-28T19:35:48.648Z"
   },
   {
    "duration": 31,
    "start_time": "2022-03-28T19:35:48.666Z"
   },
   {
    "duration": 24,
    "start_time": "2022-03-28T19:35:48.699Z"
   },
   {
    "duration": 29,
    "start_time": "2022-03-28T19:35:48.726Z"
   },
   {
    "duration": 437,
    "start_time": "2022-03-28T19:35:48.757Z"
   },
   {
    "duration": 914,
    "start_time": "2022-03-28T19:35:49.197Z"
   },
   {
    "duration": 6,
    "start_time": "2022-03-28T19:35:50.113Z"
   },
   {
    "duration": 36,
    "start_time": "2022-03-28T19:35:50.121Z"
   },
   {
    "duration": 5437,
    "start_time": "2022-03-28T19:35:50.159Z"
   },
   {
    "duration": 5257,
    "start_time": "2022-03-28T19:36:41.416Z"
   },
   {
    "duration": 6597,
    "start_time": "2022-03-28T19:43:26.246Z"
   },
   {
    "duration": 7,
    "start_time": "2022-03-28T19:50:50.966Z"
   },
   {
    "duration": 408,
    "start_time": "2022-03-28T19:50:52.887Z"
   },
   {
    "duration": 7,
    "start_time": "2022-03-28T19:51:21.014Z"
   },
   {
    "duration": 7,
    "start_time": "2022-03-28T19:51:25.374Z"
   },
   {
    "duration": 471,
    "start_time": "2022-03-28T19:51:29.414Z"
   },
   {
    "duration": 7,
    "start_time": "2022-03-28T19:51:42.958Z"
   },
   {
    "duration": 338,
    "start_time": "2022-03-28T19:51:45.405Z"
   },
   {
    "duration": 7,
    "start_time": "2022-03-28T19:51:59.821Z"
   },
   {
    "duration": 496,
    "start_time": "2022-03-28T19:52:02.501Z"
   },
   {
    "duration": 1988,
    "start_time": "2022-03-28T19:52:53.532Z"
   },
   {
    "duration": 408,
    "start_time": "2022-03-28T19:52:55.522Z"
   },
   {
    "duration": 19,
    "start_time": "2022-03-28T19:52:55.933Z"
   },
   {
    "duration": 41,
    "start_time": "2022-03-28T19:52:55.954Z"
   },
   {
    "duration": 14,
    "start_time": "2022-03-28T19:52:55.997Z"
   },
   {
    "duration": 33,
    "start_time": "2022-03-28T19:52:56.014Z"
   },
   {
    "duration": 40,
    "start_time": "2022-03-28T19:52:56.050Z"
   },
   {
    "duration": 21,
    "start_time": "2022-03-28T19:52:56.094Z"
   },
   {
    "duration": 15,
    "start_time": "2022-03-28T19:52:56.118Z"
   },
   {
    "duration": 44,
    "start_time": "2022-03-28T19:52:56.138Z"
   },
   {
    "duration": 413,
    "start_time": "2022-03-28T19:52:56.184Z"
   },
   {
    "duration": 1390,
    "start_time": "2022-03-28T19:52:56.601Z"
   },
   {
    "duration": 5,
    "start_time": "2022-03-28T19:52:57.994Z"
   },
   {
    "duration": 8,
    "start_time": "2022-03-28T19:52:58.003Z"
   },
   {
    "duration": 5791,
    "start_time": "2022-03-28T19:52:58.013Z"
   },
   {
    "duration": 1815,
    "start_time": "2022-03-28T19:55:23.312Z"
   },
   {
    "duration": 392,
    "start_time": "2022-03-28T19:55:25.129Z"
   },
   {
    "duration": 17,
    "start_time": "2022-03-28T19:55:25.524Z"
   },
   {
    "duration": 38,
    "start_time": "2022-03-28T19:55:25.544Z"
   },
   {
    "duration": 13,
    "start_time": "2022-03-28T19:55:25.585Z"
   },
   {
    "duration": 21,
    "start_time": "2022-03-28T19:55:25.600Z"
   },
   {
    "duration": 13,
    "start_time": "2022-03-28T19:55:25.623Z"
   },
   {
    "duration": 57,
    "start_time": "2022-03-28T19:55:25.639Z"
   },
   {
    "duration": 16,
    "start_time": "2022-03-28T19:55:25.699Z"
   },
   {
    "duration": 14,
    "start_time": "2022-03-28T19:55:25.718Z"
   },
   {
    "duration": 463,
    "start_time": "2022-03-28T19:55:25.734Z"
   },
   {
    "duration": 910,
    "start_time": "2022-03-28T19:55:26.201Z"
   },
   {
    "duration": 6,
    "start_time": "2022-03-28T19:55:27.113Z"
   },
   {
    "duration": 13,
    "start_time": "2022-03-28T19:55:27.121Z"
   },
   {
    "duration": 5507,
    "start_time": "2022-03-28T19:55:27.136Z"
   },
   {
    "duration": 2100,
    "start_time": "2022-03-28T19:58:47.409Z"
   },
   {
    "duration": 5443,
    "start_time": "2022-03-28T19:59:23.375Z"
   },
   {
    "duration": 5611,
    "start_time": "2022-03-28T20:01:31.607Z"
   },
   {
    "duration": 5452,
    "start_time": "2022-03-28T20:02:03.975Z"
   },
   {
    "duration": 6426,
    "start_time": "2022-03-28T20:02:30.759Z"
   },
   {
    "duration": 5356,
    "start_time": "2022-03-28T20:03:22.615Z"
   },
   {
    "duration": 5610,
    "start_time": "2022-03-28T20:03:37.909Z"
   },
   {
    "duration": 5952,
    "start_time": "2022-03-28T20:03:48.733Z"
   },
   {
    "duration": 5337,
    "start_time": "2022-03-28T20:04:36.484Z"
   },
   {
    "duration": 5324,
    "start_time": "2022-03-28T20:04:50.460Z"
   },
   {
    "duration": 1833,
    "start_time": "2022-03-28T20:05:00.340Z"
   },
   {
    "duration": 5387,
    "start_time": "2022-03-28T20:05:05.660Z"
   },
   {
    "duration": 5630,
    "start_time": "2022-03-28T20:05:30.587Z"
   },
   {
    "duration": 1632,
    "start_time": "2022-03-29T09:48:01.408Z"
   },
   {
    "duration": 336,
    "start_time": "2022-03-29T09:48:03.042Z"
   },
   {
    "duration": 13,
    "start_time": "2022-03-29T09:48:03.380Z"
   },
   {
    "duration": 15,
    "start_time": "2022-03-29T09:48:03.395Z"
   },
   {
    "duration": 27,
    "start_time": "2022-03-29T09:48:03.412Z"
   },
   {
    "duration": 19,
    "start_time": "2022-03-29T09:48:03.441Z"
   },
   {
    "duration": 8,
    "start_time": "2022-03-29T09:48:03.461Z"
   },
   {
    "duration": 21,
    "start_time": "2022-03-29T09:48:03.471Z"
   },
   {
    "duration": 12,
    "start_time": "2022-03-29T09:48:03.493Z"
   },
   {
    "duration": 25,
    "start_time": "2022-03-29T09:48:03.508Z"
   },
   {
    "duration": 412,
    "start_time": "2022-03-29T09:48:03.535Z"
   },
   {
    "duration": 634,
    "start_time": "2022-03-29T09:48:03.950Z"
   },
   {
    "duration": 4,
    "start_time": "2022-03-29T09:48:04.585Z"
   },
   {
    "duration": 18,
    "start_time": "2022-03-29T09:48:04.591Z"
   },
   {
    "duration": 3443,
    "start_time": "2022-03-29T09:48:04.611Z"
   },
   {
    "duration": 3818,
    "start_time": "2022-03-29T09:49:42.494Z"
   },
   {
    "duration": 3818,
    "start_time": "2022-03-29T09:50:31.900Z"
   },
   {
    "duration": 3864,
    "start_time": "2022-03-29T09:52:27.585Z"
   },
   {
    "duration": 3839,
    "start_time": "2022-03-29T09:52:40.402Z"
   },
   {
    "duration": 3879,
    "start_time": "2022-03-29T09:54:30.391Z"
   },
   {
    "duration": 4071,
    "start_time": "2022-03-29T09:54:48.289Z"
   },
   {
    "duration": 1623,
    "start_time": "2022-03-29T12:19:23.704Z"
   },
   {
    "duration": 334,
    "start_time": "2022-03-29T12:19:25.329Z"
   },
   {
    "duration": 13,
    "start_time": "2022-03-29T12:19:25.665Z"
   },
   {
    "duration": 15,
    "start_time": "2022-03-29T12:19:25.680Z"
   },
   {
    "duration": 9,
    "start_time": "2022-03-29T12:19:25.697Z"
   },
   {
    "duration": 17,
    "start_time": "2022-03-29T12:19:25.708Z"
   },
   {
    "duration": 8,
    "start_time": "2022-03-29T12:19:25.727Z"
   },
   {
    "duration": 13,
    "start_time": "2022-03-29T12:19:25.764Z"
   },
   {
    "duration": 11,
    "start_time": "2022-03-29T12:19:25.779Z"
   },
   {
    "duration": 7,
    "start_time": "2022-03-29T12:19:25.792Z"
   },
   {
    "duration": 469,
    "start_time": "2022-03-29T12:19:25.800Z"
   },
   {
    "duration": 641,
    "start_time": "2022-03-29T12:19:26.271Z"
   },
   {
    "duration": 4,
    "start_time": "2022-03-29T12:19:26.914Z"
   },
   {
    "duration": 16,
    "start_time": "2022-03-29T12:19:26.919Z"
   },
   {
    "duration": 173,
    "start_time": "2022-03-29T12:19:26.937Z"
   },
   {
    "duration": 3665,
    "start_time": "2022-03-29T12:19:38.962Z"
   },
   {
    "duration": 3727,
    "start_time": "2022-03-29T12:25:35.911Z"
   },
   {
    "duration": 1508,
    "start_time": "2022-03-29T12:25:58.456Z"
   },
   {
    "duration": 4540,
    "start_time": "2022-03-29T12:26:24.225Z"
   },
   {
    "duration": 3592,
    "start_time": "2022-03-29T12:26:44.560Z"
   },
   {
    "duration": 3920,
    "start_time": "2022-03-29T12:27:40.645Z"
   },
   {
    "duration": 3634,
    "start_time": "2022-03-29T12:27:52.097Z"
   },
   {
    "duration": 1502,
    "start_time": "2022-03-29T12:28:54.386Z"
   },
   {
    "duration": 343,
    "start_time": "2022-03-29T12:28:55.889Z"
   },
   {
    "duration": 13,
    "start_time": "2022-03-29T12:28:56.233Z"
   },
   {
    "duration": 15,
    "start_time": "2022-03-29T12:28:56.264Z"
   },
   {
    "duration": 9,
    "start_time": "2022-03-29T12:28:56.280Z"
   },
   {
    "duration": 20,
    "start_time": "2022-03-29T12:28:56.292Z"
   },
   {
    "duration": 10,
    "start_time": "2022-03-29T12:28:56.313Z"
   },
   {
    "duration": 47,
    "start_time": "2022-03-29T12:28:56.324Z"
   },
   {
    "duration": 11,
    "start_time": "2022-03-29T12:28:56.372Z"
   },
   {
    "duration": 9,
    "start_time": "2022-03-29T12:28:56.386Z"
   },
   {
    "duration": 369,
    "start_time": "2022-03-29T12:28:56.397Z"
   },
   {
    "duration": 591,
    "start_time": "2022-03-29T12:28:56.771Z"
   },
   {
    "duration": 4,
    "start_time": "2022-03-29T12:28:57.364Z"
   },
   {
    "duration": 9,
    "start_time": "2022-03-29T12:28:57.370Z"
   },
   {
    "duration": 3810,
    "start_time": "2022-03-29T12:28:57.380Z"
   },
   {
    "duration": 4571,
    "start_time": "2022-03-29T12:30:33.953Z"
   },
   {
    "duration": 3778,
    "start_time": "2022-03-29T12:30:48.286Z"
   },
   {
    "duration": 3762,
    "start_time": "2022-03-29T12:31:01.841Z"
   },
   {
    "duration": 3848,
    "start_time": "2022-03-29T12:31:29.456Z"
   },
   {
    "duration": 3709,
    "start_time": "2022-03-29T12:31:38.639Z"
   },
   {
    "duration": 3908,
    "start_time": "2022-03-29T12:32:30.245Z"
   },
   {
    "duration": 1464,
    "start_time": "2022-03-29T12:33:07.670Z"
   },
   {
    "duration": 1424,
    "start_time": "2022-03-29T12:33:22.559Z"
   },
   {
    "duration": 1463,
    "start_time": "2022-03-29T12:33:30.391Z"
   },
   {
    "duration": 1386,
    "start_time": "2022-03-29T12:35:32.732Z"
   },
   {
    "duration": 3877,
    "start_time": "2022-03-29T12:36:28.515Z"
   },
   {
    "duration": 1378,
    "start_time": "2022-03-29T12:48:44.263Z"
   },
   {
    "duration": 1423,
    "start_time": "2022-03-29T12:48:59.024Z"
   },
   {
    "duration": 4168,
    "start_time": "2022-03-29T12:49:28.004Z"
   },
   {
    "duration": 3951,
    "start_time": "2022-03-29T12:49:48.130Z"
   },
   {
    "duration": 3960,
    "start_time": "2022-03-29T12:51:13.705Z"
   },
   {
    "duration": 2514,
    "start_time": "2022-03-29T12:51:56.624Z"
   },
   {
    "duration": 3681,
    "start_time": "2022-03-29T12:52:08.200Z"
   },
   {
    "duration": 1420,
    "start_time": "2022-03-29T12:52:31.431Z"
   },
   {
    "duration": 3836,
    "start_time": "2022-03-29T12:52:46.695Z"
   },
   {
    "duration": 3715,
    "start_time": "2022-03-29T12:53:11.398Z"
   },
   {
    "duration": 4067,
    "start_time": "2022-03-29T12:53:44.645Z"
   },
   {
    "duration": 1528,
    "start_time": "2022-03-29T12:57:35.597Z"
   },
   {
    "duration": 4187,
    "start_time": "2022-03-29T12:57:49.161Z"
   },
   {
    "duration": 1542,
    "start_time": "2022-03-29T12:59:06.747Z"
   },
   {
    "duration": 324,
    "start_time": "2022-03-29T12:59:08.291Z"
   },
   {
    "duration": 12,
    "start_time": "2022-03-29T12:59:08.617Z"
   },
   {
    "duration": 13,
    "start_time": "2022-03-29T12:59:08.631Z"
   },
   {
    "duration": 18,
    "start_time": "2022-03-29T12:59:08.645Z"
   },
   {
    "duration": 13,
    "start_time": "2022-03-29T12:59:08.664Z"
   },
   {
    "duration": 8,
    "start_time": "2022-03-29T12:59:08.678Z"
   },
   {
    "duration": 16,
    "start_time": "2022-03-29T12:59:08.687Z"
   },
   {
    "duration": 12,
    "start_time": "2022-03-29T12:59:08.704Z"
   },
   {
    "duration": 5,
    "start_time": "2022-03-29T12:59:08.719Z"
   },
   {
    "duration": 445,
    "start_time": "2022-03-29T12:59:08.726Z"
   },
   {
    "duration": 629,
    "start_time": "2022-03-29T12:59:09.173Z"
   },
   {
    "duration": 4,
    "start_time": "2022-03-29T12:59:09.803Z"
   },
   {
    "duration": 10,
    "start_time": "2022-03-29T12:59:09.809Z"
   },
   {
    "duration": 3701,
    "start_time": "2022-03-29T12:59:09.820Z"
   },
   {
    "duration": 1596,
    "start_time": "2022-03-29T13:33:38.176Z"
   },
   {
    "duration": 350,
    "start_time": "2022-03-29T13:33:39.774Z"
   },
   {
    "duration": 14,
    "start_time": "2022-03-29T13:33:40.126Z"
   },
   {
    "duration": 44,
    "start_time": "2022-03-29T13:33:40.142Z"
   },
   {
    "duration": 37,
    "start_time": "2022-03-29T13:33:40.188Z"
   },
   {
    "duration": 59,
    "start_time": "2022-03-29T13:33:40.227Z"
   },
   {
    "duration": 32,
    "start_time": "2022-03-29T13:33:40.288Z"
   },
   {
    "duration": 34,
    "start_time": "2022-03-29T13:33:40.322Z"
   },
   {
    "duration": 50,
    "start_time": "2022-03-29T13:33:40.358Z"
   },
   {
    "duration": 45,
    "start_time": "2022-03-29T13:33:40.411Z"
   },
   {
    "duration": 416,
    "start_time": "2022-03-29T13:33:40.457Z"
   },
   {
    "duration": 663,
    "start_time": "2022-03-29T13:33:40.875Z"
   },
   {
    "duration": 4,
    "start_time": "2022-03-29T13:33:41.540Z"
   },
   {
    "duration": 19,
    "start_time": "2022-03-29T13:33:41.546Z"
   },
   {
    "duration": 3862,
    "start_time": "2022-03-29T13:33:41.567Z"
   },
   {
    "duration": 1603,
    "start_time": "2022-03-29T13:39:55.463Z"
   },
   {
    "duration": 323,
    "start_time": "2022-03-29T13:39:57.068Z"
   },
   {
    "duration": 13,
    "start_time": "2022-03-29T13:39:57.393Z"
   },
   {
    "duration": 17,
    "start_time": "2022-03-29T13:39:57.407Z"
   },
   {
    "duration": 8,
    "start_time": "2022-03-29T13:39:57.425Z"
   },
   {
    "duration": 36,
    "start_time": "2022-03-29T13:39:57.434Z"
   },
   {
    "duration": 8,
    "start_time": "2022-03-29T13:39:57.471Z"
   },
   {
    "duration": 14,
    "start_time": "2022-03-29T13:39:57.480Z"
   },
   {
    "duration": 10,
    "start_time": "2022-03-29T13:39:57.496Z"
   },
   {
    "duration": 7,
    "start_time": "2022-03-29T13:39:57.508Z"
   },
   {
    "duration": 447,
    "start_time": "2022-03-29T13:39:57.517Z"
   },
   {
    "duration": 538,
    "start_time": "2022-03-29T13:39:57.966Z"
   },
   {
    "duration": 3,
    "start_time": "2022-03-29T13:39:58.506Z"
   },
   {
    "duration": 4,
    "start_time": "2022-03-29T13:39:58.511Z"
   },
   {
    "duration": 3731,
    "start_time": "2022-03-29T13:39:58.517Z"
   },
   {
    "duration": 2167,
    "start_time": "2022-04-01T08:55:51.996Z"
   },
   {
    "duration": 420,
    "start_time": "2022-04-01T08:55:54.166Z"
   },
   {
    "duration": 21,
    "start_time": "2022-04-01T08:55:54.588Z"
   },
   {
    "duration": 22,
    "start_time": "2022-04-01T08:55:54.611Z"
   },
   {
    "duration": 12,
    "start_time": "2022-04-01T08:55:54.636Z"
   },
   {
    "duration": 53,
    "start_time": "2022-04-01T08:55:54.650Z"
   },
   {
    "duration": 12,
    "start_time": "2022-04-01T08:55:54.705Z"
   },
   {
    "duration": 21,
    "start_time": "2022-04-01T08:55:54.719Z"
   },
   {
    "duration": 46,
    "start_time": "2022-04-01T08:55:54.742Z"
   },
   {
    "duration": 147,
    "start_time": "2022-04-01T08:55:57.013Z"
   },
   {
    "duration": 178,
    "start_time": "2022-04-01T08:56:23.963Z"
   },
   {
    "duration": 11691,
    "start_time": "2022-04-01T08:59:16.434Z"
   },
   {
    "duration": 6129,
    "start_time": "2022-04-01T08:59:55.785Z"
   },
   {
    "duration": 1932,
    "start_time": "2022-04-01T09:12:52.972Z"
   },
   {
    "duration": 416,
    "start_time": "2022-04-01T09:12:54.907Z"
   },
   {
    "duration": 20,
    "start_time": "2022-04-01T09:12:55.326Z"
   },
   {
    "duration": 51,
    "start_time": "2022-04-01T09:12:55.350Z"
   },
   {
    "duration": 14,
    "start_time": "2022-04-01T09:12:55.404Z"
   },
   {
    "duration": 20,
    "start_time": "2022-04-01T09:12:55.421Z"
   },
   {
    "duration": 46,
    "start_time": "2022-04-01T09:12:55.444Z"
   },
   {
    "duration": 36,
    "start_time": "2022-04-01T09:12:55.493Z"
   },
   {
    "duration": 16,
    "start_time": "2022-04-01T09:12:55.531Z"
   },
   {
    "duration": 8,
    "start_time": "2022-04-01T09:12:55.552Z"
   },
   {
    "duration": 439,
    "start_time": "2022-04-01T09:12:55.562Z"
   },
   {
    "duration": 922,
    "start_time": "2022-04-01T09:12:56.005Z"
   },
   {
    "duration": 5,
    "start_time": "2022-04-01T09:12:56.929Z"
   },
   {
    "duration": 13,
    "start_time": "2022-04-01T09:12:56.937Z"
   },
   {
    "duration": 6170,
    "start_time": "2022-04-01T09:12:56.953Z"
   },
   {
    "duration": 1560,
    "start_time": "2022-09-04T16:36:38.322Z"
   },
   {
    "duration": 814,
    "start_time": "2022-09-04T16:36:39.884Z"
   },
   {
    "duration": 14,
    "start_time": "2022-09-04T16:36:40.700Z"
   },
   {
    "duration": 15,
    "start_time": "2022-09-04T16:36:40.716Z"
   },
   {
    "duration": 12,
    "start_time": "2022-09-04T16:36:40.733Z"
   },
   {
    "duration": 18,
    "start_time": "2022-09-04T16:36:40.750Z"
   },
   {
    "duration": 8,
    "start_time": "2022-09-04T16:36:40.769Z"
   },
   {
    "duration": 14,
    "start_time": "2022-09-04T16:36:40.779Z"
   },
   {
    "duration": 11,
    "start_time": "2022-09-04T16:36:40.794Z"
   },
   {
    "duration": 8,
    "start_time": "2022-09-04T16:36:40.808Z"
   },
   {
    "duration": 335,
    "start_time": "2022-09-04T16:36:40.818Z"
   },
   {
    "duration": 652,
    "start_time": "2022-09-04T16:36:41.157Z"
   },
   {
    "duration": 4,
    "start_time": "2022-09-04T16:36:41.810Z"
   },
   {
    "duration": 11,
    "start_time": "2022-09-04T16:36:41.816Z"
   },
   {
    "duration": 4156,
    "start_time": "2022-09-04T16:36:41.829Z"
   }
  ],
  "kernelspec": {
   "display_name": "Python 3 (ipykernel)",
   "language": "python",
   "name": "python3"
  },
  "language_info": {
   "codemirror_mode": {
    "name": "ipython",
    "version": 3
   },
   "file_extension": ".py",
   "mimetype": "text/x-python",
   "name": "python",
   "nbconvert_exporter": "python",
   "pygments_lexer": "ipython3",
   "version": "3.9.5"
  },
  "toc": {
   "base_numbering": 1,
   "nav_menu": {},
   "number_sections": true,
   "sideBar": true,
   "skip_h1_title": true,
   "title_cell": "Содержание",
   "title_sidebar": "Contents",
   "toc_cell": true,
   "toc_position": {},
   "toc_section_display": true,
   "toc_window_display": true
  }
 },
 "nbformat": 4,
 "nbformat_minor": 2
}
