{
 "cells": [
  {
   "cell_type": "markdown",
   "metadata": {
    "toc": true
   },
   "source": [
    "<h1>Содержание<span class=\"tocSkip\"></span></h1>\n",
    "<div class=\"toc\"><ul class=\"toc-item\"><li><span><a href=\"#Общая-информация-о-датасете\" data-toc-modified-id=\"Общая-информация-о-датасете-1\"><span class=\"toc-item-num\">1&nbsp;&nbsp;</span>Общая информация о датасете</a></span></li><li><span><a href=\"#Обучающая,-валидационная-и-тестовая-выборки\" data-toc-modified-id=\"Обучающая,-валидационная-и-тестовая-выборки-2\"><span class=\"toc-item-num\">2&nbsp;&nbsp;</span>Обучающая, валидационная и тестовая выборки</a></span></li><li><span><a href=\"#Обучение-моделей\" data-toc-modified-id=\"Обучение-моделей-3\"><span class=\"toc-item-num\">3&nbsp;&nbsp;</span>Обучение моделей</a></span><ul class=\"toc-item\"><li><span><a href=\"#Дерево-решений\" data-toc-modified-id=\"Дерево-решений-3.1\"><span class=\"toc-item-num\">3.1&nbsp;&nbsp;</span>Дерево решений</a></span></li><li><span><a href=\"#Случайный-лес\" data-toc-modified-id=\"Случайный-лес-3.2\"><span class=\"toc-item-num\">3.2&nbsp;&nbsp;</span>Случайный лес</a></span></li><li><span><a href=\"#Регрессия\" data-toc-modified-id=\"Регрессия-3.3\"><span class=\"toc-item-num\">3.3&nbsp;&nbsp;</span>Регрессия</a></span></li></ul></li><li><span><a href=\"#Accuracy-на-тестовой-выборке\" data-toc-modified-id=\"Accuracy-на-тестовой-выборке-4\"><span class=\"toc-item-num\">4&nbsp;&nbsp;</span>Accuracy на тестовой выборке</a></span></li><li><span><a href=\"#Вменяемость-лучшей-из-обученных-моделей\" data-toc-modified-id=\"Вменяемость-лучшей-из-обученных-моделей-5\"><span class=\"toc-item-num\">5&nbsp;&nbsp;</span>Вменяемость лучшей из обученных моделей</a></span></li><li><span><a href=\"#Общий-вывод\" data-toc-modified-id=\"Общий-вывод-6\"><span class=\"toc-item-num\">6&nbsp;&nbsp;</span>Общий вывод</a></span></li></ul></div>"
   ]
  },
  {
   "cell_type": "markdown",
   "metadata": {
    "id": "QB3-IYbtFdDl"
   },
   "source": [
    "# Рекомендация тарифов оператора мобильной связи"
   ]
  },
  {
   "cell_type": "markdown",
   "metadata": {
    "id": "RcsDDEtgF2Yf"
   },
   "source": [
    "## Общая информация о датасете"
   ]
  },
  {
   "cell_type": "code",
   "execution_count": 1,
   "metadata": {
    "id": "_rDXmyr9FrcI"
   },
   "outputs": [],
   "source": [
    "import pandas as pd\n",
    "from sklearn.model_selection import train_test_split\n",
    "\n",
    "from sklearn.tree import DecisionTreeClassifier \n",
    "from sklearn.ensemble import RandomForestClassifier\n",
    "from sklearn.linear_model import LogisticRegression\n",
    "\n",
    "from sklearn.metrics import accuracy_score\n",
    "\n",
    "import matplotlib.pyplot as plt\n",
    "\n",
    "from sklearn.dummy import DummyClassifier"
   ]
  },
  {
   "cell_type": "code",
   "execution_count": 2,
   "metadata": {
    "colab": {
     "base_uri": "https://localhost:8080/"
    },
    "id": "7F3Av5wSGDiJ",
    "outputId": "3a913e5b-7773-4b57-c5ae-f3f46330c789"
   },
   "outputs": [
    {
     "name": "stdout",
     "output_type": "stream",
     "text": [
      "<class 'pandas.core.frame.DataFrame'>\n",
      "RangeIndex: 3214 entries, 0 to 3213\n",
      "Data columns (total 5 columns):\n",
      " #   Column    Non-Null Count  Dtype  \n",
      "---  ------    --------------  -----  \n",
      " 0   calls     3214 non-null   float64\n",
      " 1   minutes   3214 non-null   float64\n",
      " 2   messages  3214 non-null   float64\n",
      " 3   mb_used   3214 non-null   float64\n",
      " 4   is_ultra  3214 non-null   int64  \n",
      "dtypes: float64(4), int64(1)\n",
      "memory usage: 125.7 KB\n"
     ]
    }
   ],
   "source": [
    "data = pd.read_csv('/datasets/users_behavior.csv')\n",
    "data.info()"
   ]
  },
  {
   "cell_type": "code",
   "execution_count": 3,
   "metadata": {
    "colab": {
     "base_uri": "https://localhost:8080/",
     "height": 206
    },
    "id": "3fsHuDtZGJkQ",
    "outputId": "736370b4-b9fe-4497-929d-5b56e645ca42"
   },
   "outputs": [
    {
     "data": {
      "text/html": [
       "<div>\n",
       "<style scoped>\n",
       "    .dataframe tbody tr th:only-of-type {\n",
       "        vertical-align: middle;\n",
       "    }\n",
       "\n",
       "    .dataframe tbody tr th {\n",
       "        vertical-align: top;\n",
       "    }\n",
       "\n",
       "    .dataframe thead th {\n",
       "        text-align: right;\n",
       "    }\n",
       "</style>\n",
       "<table border=\"1\" class=\"dataframe\">\n",
       "  <thead>\n",
       "    <tr style=\"text-align: right;\">\n",
       "      <th></th>\n",
       "      <th>calls</th>\n",
       "      <th>minutes</th>\n",
       "      <th>messages</th>\n",
       "      <th>mb_used</th>\n",
       "      <th>is_ultra</th>\n",
       "    </tr>\n",
       "  </thead>\n",
       "  <tbody>\n",
       "    <tr>\n",
       "      <th>0</th>\n",
       "      <td>40.0</td>\n",
       "      <td>311.90</td>\n",
       "      <td>83.0</td>\n",
       "      <td>19915.42</td>\n",
       "      <td>0</td>\n",
       "    </tr>\n",
       "    <tr>\n",
       "      <th>1</th>\n",
       "      <td>85.0</td>\n",
       "      <td>516.75</td>\n",
       "      <td>56.0</td>\n",
       "      <td>22696.96</td>\n",
       "      <td>0</td>\n",
       "    </tr>\n",
       "    <tr>\n",
       "      <th>2</th>\n",
       "      <td>77.0</td>\n",
       "      <td>467.66</td>\n",
       "      <td>86.0</td>\n",
       "      <td>21060.45</td>\n",
       "      <td>0</td>\n",
       "    </tr>\n",
       "    <tr>\n",
       "      <th>3</th>\n",
       "      <td>106.0</td>\n",
       "      <td>745.53</td>\n",
       "      <td>81.0</td>\n",
       "      <td>8437.39</td>\n",
       "      <td>1</td>\n",
       "    </tr>\n",
       "    <tr>\n",
       "      <th>4</th>\n",
       "      <td>66.0</td>\n",
       "      <td>418.74</td>\n",
       "      <td>1.0</td>\n",
       "      <td>14502.75</td>\n",
       "      <td>0</td>\n",
       "    </tr>\n",
       "  </tbody>\n",
       "</table>\n",
       "</div>"
      ],
      "text/plain": [
       "   calls  minutes  messages   mb_used  is_ultra\n",
       "0   40.0   311.90      83.0  19915.42         0\n",
       "1   85.0   516.75      56.0  22696.96         0\n",
       "2   77.0   467.66      86.0  21060.45         0\n",
       "3  106.0   745.53      81.0   8437.39         1\n",
       "4   66.0   418.74       1.0  14502.75         0"
      ]
     },
     "execution_count": 3,
     "metadata": {},
     "output_type": "execute_result"
    }
   ],
   "source": [
    "data.head()"
   ]
  },
  {
   "cell_type": "code",
   "execution_count": 4,
   "metadata": {
    "colab": {
     "base_uri": "https://localhost:8080/"
    },
    "id": "ihvxfS7yGTMg",
    "outputId": "c1d07f8d-a329-433a-b65a-cc9a2d678a1a"
   },
   "outputs": [
    {
     "data": {
      "text/plain": [
       "Index(['calls', 'minutes', 'messages', 'mb_used', 'is_ultra'], dtype='object')"
      ]
     },
     "execution_count": 4,
     "metadata": {},
     "output_type": "execute_result"
    }
   ],
   "source": [
    "data.columns"
   ]
  },
  {
   "cell_type": "markdown",
   "metadata": {
    "id": "YDCqlJ5PGpv5"
   },
   "source": [
    "**Вывод**\n",
    "\n",
    "Датасет состоит из 1 таблицы, в которой 5 колонок. Их названия соответствуют общепринятым правилам стиля. Пропусков нет. Предобработка данных не требуется."
   ]
  },
  {
   "cell_type": "markdown",
   "metadata": {
    "id": "OBuWQl4IHYeX"
   },
   "source": [
    "## Обучающая, валидационная и тестовая выборки"
   ]
  },
  {
   "cell_type": "code",
   "execution_count": 5,
   "metadata": {
    "id": "4aTJpGhEGYW4"
   },
   "outputs": [],
   "source": [
    "data_train, data_valid = train_test_split(data, test_size=0.20, random_state=12345)"
   ]
  },
  {
   "cell_type": "code",
   "execution_count": 6,
   "metadata": {
    "id": "2BP7jGprIgEq"
   },
   "outputs": [],
   "source": [
    "data_train, data_test = train_test_split(data_train, test_size=0.25, random_state=12345)"
   ]
  },
  {
   "cell_type": "code",
   "execution_count": 7,
   "metadata": {
    "colab": {
     "base_uri": "https://localhost:8080/"
    },
    "id": "OYqPmLTmIy6L",
    "outputId": "0c1b4530-46de-4088-ee75-7ebca4df97cd"
   },
   "outputs": [
    {
     "data": {
      "text/plain": [
       "1928"
      ]
     },
     "execution_count": 7,
     "metadata": {},
     "output_type": "execute_result"
    }
   ],
   "source": [
    "len(data_train)"
   ]
  },
  {
   "cell_type": "code",
   "execution_count": 8,
   "metadata": {
    "colab": {
     "base_uri": "https://localhost:8080/"
    },
    "id": "03tn8EetI34M",
    "outputId": "c6df153b-fb97-4095-8876-05f5b7e1e501"
   },
   "outputs": [
    {
     "data": {
      "text/plain": [
       "643"
      ]
     },
     "execution_count": 8,
     "metadata": {},
     "output_type": "execute_result"
    }
   ],
   "source": [
    "len(data_test)"
   ]
  },
  {
   "cell_type": "code",
   "execution_count": 9,
   "metadata": {
    "colab": {
     "base_uri": "https://localhost:8080/"
    },
    "id": "tejegAeGInXx",
    "outputId": "6b28e427-88dc-4e2a-e333-1a3d6a745e4b"
   },
   "outputs": [
    {
     "data": {
      "text/plain": [
       "643"
      ]
     },
     "execution_count": 9,
     "metadata": {},
     "output_type": "execute_result"
    }
   ],
   "source": [
    "len(data_valid)"
   ]
  },
  {
   "cell_type": "code",
   "execution_count": 10,
   "metadata": {
    "id": "4MrITOQJK-R9"
   },
   "outputs": [],
   "source": [
    "features_train = data_train.drop('is_ultra', axis=1)\n",
    "target_train = data_train['is_ultra']"
   ]
  },
  {
   "cell_type": "code",
   "execution_count": 11,
   "metadata": {
    "id": "3Vr6Z-xELkVK"
   },
   "outputs": [],
   "source": [
    "features_test = data_test.drop('is_ultra', axis=1)\n",
    "target_test = data_test['is_ultra']"
   ]
  },
  {
   "cell_type": "code",
   "execution_count": 12,
   "metadata": {
    "id": "qr8YJksvL0rG"
   },
   "outputs": [],
   "source": [
    "features_valid = data_valid.drop('is_ultra', axis=1)\n",
    "target_valid = data_valid['is_ultra']"
   ]
  },
  {
   "cell_type": "markdown",
   "metadata": {
    "id": "0LC9eTvcJekr"
   },
   "source": [
    "**Вывод**\n",
    "\n",
    "Получили валидационную выборку как 20% датасета.\n",
    "\n",
    "Далее из оставшихся 80% получили 25% для тестовой выборки - это 20% исходного датасета.\n",
    "\n",
    "И 60% от исходного датасета попало в обучающую выборку.\n",
    "\n",
    "Далее выделили признаки и целевой признак для каждой выборки."
   ]
  },
  {
   "cell_type": "markdown",
   "metadata": {
    "id": "AQ8Fv7YCM8RV"
   },
   "source": [
    "## Обучение моделей"
   ]
  },
  {
   "cell_type": "markdown",
   "metadata": {
    "id": "OS5UTjSUND2R"
   },
   "source": [
    "### Дерево решений"
   ]
  },
  {
   "cell_type": "code",
   "execution_count": 13,
   "metadata": {
    "colab": {
     "base_uri": "https://localhost:8080/"
    },
    "id": "gpzuQWIGT6AJ",
    "outputId": "f0e12cc9-73ff-451e-f9ec-b0b48683f56c"
   },
   "outputs": [
    {
     "name": "stdout",
     "output_type": "stream",
     "text": [
      "Глубина дерева = 1 accuracy: 0.7480559875583204\n",
      "Глубина дерева = 2 accuracy: 0.7838258164852255\n",
      "Глубина дерева = 3 accuracy: 0.7869362363919129\n",
      "Глубина дерева = 4 accuracy: 0.7869362363919129\n",
      "Глубина дерева = 5 accuracy: 0.7884914463452566\n",
      "Глубина дерева = 6 accuracy: 0.7791601866251944\n",
      "Глубина дерева = 7 accuracy: 0.7884914463452566\n",
      "Глубина дерева = 8 accuracy: 0.7807153965785381\n",
      "Глубина дерева = 9 accuracy: 0.7776049766718507\n",
      "Глубина дерева = 10 accuracy: 0.7713841368584758\n",
      "\n",
      "Accuracy наилучшей модели на валидационной выборке: 0.7884914463452566 Глубина дерева: 5\n"
     ]
    },
    {
     "data": {
      "image/png": "[encoded data removed]",
      "text/plain": [
       "<Figure size 432x288 with 1 Axes>"
      ]
     },
     "metadata": {
      "needs_background": "light"
     },
     "output_type": "display_data"
    }
   ],
   "source": [
    "best_model = None\n",
    "best_result = 0\n",
    "best_depth = 0\n",
    "\n",
    "accuracy_data = []\n",
    "\n",
    "for depth in range(1, 11):\n",
    "    model = DecisionTreeClassifier(max_depth=depth, random_state=12345)\n",
    "    model.fit(features_train, target_train)\n",
    "    result = model.score(features_valid, target_valid)\n",
    "    print('Глубина дерева =', depth, 'accuracy:', result)\n",
    "\n",
    "    accuracy_data.append([depth, result])  \n",
    "\n",
    "    if result > best_result:\n",
    "        best_depth = depth\n",
    "        best_model = model\n",
    "        best_result = result\n",
    "\n",
    "pd.DataFrame(data = accuracy_data, columns = ['depth', 'accuracy']).plot(x='depth', y = 'accuracy', \\\n",
    "    title = 'Зависимость accuracy дерева решений от глубины')    \n",
    "    \n",
    "print()\n",
    "print('Accuracy наилучшей модели на валидационной выборке:', best_result, 'Глубина дерева:', best_depth)\n",
    "best_model_tree = best_model"
   ]
  },
  {
   "cell_type": "markdown",
   "metadata": {
    "id": "V_pCYFKu5nIh"
   },
   "source": [
    "**Вывод**\n",
    "\n",
    "Обучили модель \"Решающее дерево\" на тренировочной выборке, поэкспериментировав с разной глубиной дерева. \n",
    "\n",
    "В итоге accuracy наилучшей модели на валидационной выборке составляет 0.78849 - при глубине дерева 5."
   ]
  },
  {
   "cell_type": "markdown",
   "metadata": {
    "id": "tQSrkVlhNG0B"
   },
   "source": [
    "### Случайный лес"
   ]
  },
  {
   "cell_type": "code",
   "execution_count": 14,
   "metadata": {
    "colab": {
     "base_uri": "https://localhost:8080/"
    },
    "id": "pqw-K7JXSjYc",
    "outputId": "fb03691c-739d-46e4-9dd4-4a0bd9fbb18f"
   },
   "outputs": [
    {
     "name": "stdout",
     "output_type": "stream",
     "text": [
      "Accuracy наилучшей модели на валидационной выборке: 0.80248833592535 Глубина дерева: 7 Количество деревьев: 3\n"
     ]
    },
    {
     "data": {
      "image/png": "[encoded data removed]",
      "text/plain": [
       "<Figure size 1152x720 with 1 Axes>"
      ]
     },
     "metadata": {
      "needs_background": "light"
     },
     "output_type": "display_data"
    }
   ],
   "source": [
    "best_model = None\n",
    "best_result = 0\n",
    "best_est = 0\n",
    "best_depth = 0\n",
    "\n",
    "accuracy_data = [] \n",
    "\n",
    "for est in range(1, 11):    \n",
    "    for depth in range(1,11):\n",
    "        model = RandomForestClassifier(random_state=12345, n_estimators=est, max_depth = depth)\n",
    "        model.fit(features_train, target_train)\n",
    "        result = model.score(features_valid, target_valid)\n",
    "        #print('Количество деревьев =', est, 'Глубина дерева', depth, 'accuracy:', result)\n",
    "    \n",
    "        accuracy_data.append([est, depth, result])  \n",
    "\n",
    "        if result > best_result:\n",
    "            best_model = model\n",
    "            best_result = result\n",
    "            best_est = est\n",
    "            best_depth = depth\n",
    "\n",
    "pd.DataFrame(data = accuracy_data, columns = ['est', 'depth', 'accuracy']) \\\n",
    "  .pivot_table(index = 'depth', columns = 'est', values = 'accuracy', aggfunc = 'sum') \\\n",
    "  .plot(title = 'Зависимость accuracy случайного леса от глубины по количеству деревьев', grid = True, figsize=(16, 10))\n",
    "        \n",
    "#print()\n",
    "print('Accuracy наилучшей модели на валидационной выборке:', best_result, 'Глубина дерева:', best_depth, 'Количество деревьев:', best_est)    \n",
    "best_model_forest = best_model  "
   ]
  },
  {
   "cell_type": "markdown",
   "metadata": {
    "id": "QXkh1sD8DGdK"
   },
   "source": [
    "**Вывод**\n",
    "\n",
    "Обучили модель \"Случайный лес\" на тренировочной выборке, поэкспериментировав с разным количеством деревьев и глубиной дерева. \n",
    "\n",
    "В итоге accuracy наилучшей модели на валидационной выборке составляет 0.80249 - при количестве деревьев 3 и глубине - 7."
   ]
  },
  {
   "cell_type": "markdown",
   "metadata": {
    "id": "UYFi5UpgNJ7j"
   },
   "source": [
    "### Регрессия"
   ]
  },
  {
   "cell_type": "code",
   "execution_count": 15,
   "metadata": {
    "colab": {
     "base_uri": "https://localhost:8080/"
    },
    "id": "lKROmYh4ItLZ",
    "outputId": "ab4a48b7-03d7-4290-83a8-44cf8338c599"
   },
   "outputs": [
    {
     "name": "stdout",
     "output_type": "stream",
     "text": [
      "Accuracy модели логистической регрессии на валидационной выборке: 0.7589424572317263\n"
     ]
    }
   ],
   "source": [
    "model = LogisticRegression(random_state=12345)\n",
    "model.fit(features_train, target_train)\n",
    "result = model.score(features_valid, target_valid)\n",
    "print('Accuracy модели логистической регрессии на валидационной выборке:', result)"
   ]
  },
  {
   "cell_type": "markdown",
   "metadata": {
    "id": "epXHfRWSD3o6"
   },
   "source": [
    "**Вывод**\n",
    "\n",
    "Обучили модель \"Логистическая регрессия\" на тренировочной выборке. \n",
    "\n",
    "В итоге accuracy наилучшей модели на валидационной выборке составляет 0.75894."
   ]
  },
  {
   "cell_type": "markdown",
   "metadata": {
    "id": "UK-UHb27ZXBd"
   },
   "source": [
    "## Accuracy на тестовой выборке"
   ]
  },
  {
   "cell_type": "code",
   "execution_count": 16,
   "metadata": {
    "colab": {
     "base_uri": "https://localhost:8080/"
    },
    "id": "puRPGGCYTz1d",
    "outputId": "ed504622-84a8-4e7e-8219-98d022903e37"
   },
   "outputs": [
    {
     "data": {
      "text/plain": [
       "0.776049766718507"
      ]
     },
     "execution_count": 16,
     "metadata": {},
     "output_type": "execute_result"
    }
   ],
   "source": [
    "best_model_forest.score(features_test, target_test)"
   ]
  },
  {
   "cell_type": "markdown",
   "metadata": {
    "id": "x5y3TqwME545"
   },
   "source": [
    "**Вывод**\n",
    "\n",
    "Лучшая модель - \"Случайный лес\" с количеством деревьев 3 и глубине дерева - 7. Ее accuracy на валидационной выборке составляет 0.80249, а на тестовой - 0.77605."
   ]
  },
  {
   "cell_type": "markdown",
   "metadata": {
    "id": "CrVxtT1kJLYu"
   },
   "source": [
    "## Вменяемость лучшей из обученных моделей"
   ]
  },
  {
   "cell_type": "code",
   "execution_count": 17,
   "metadata": {},
   "outputs": [
    {
     "data": {
      "text/plain": [
       "0.6889580093312597"
      ]
     },
     "execution_count": 17,
     "metadata": {},
     "output_type": "execute_result"
    }
   ],
   "source": [
    "dummy_clf = DummyClassifier(strategy=\"most_frequent\", random_state=12345)\n",
    "dummy_clf.fit(features_train, target_train)\n",
    "dummy_clf.score(features_test, target_test)"
   ]
  },
  {
   "cell_type": "markdown",
   "metadata": {
    "id": "j7Pmf4LAJ_MM"
   },
   "source": [
    "**Вывод**\n",
    "\n",
    "Чтобы оценить адекватность модели в задачах классификации, нужно сравнить её со случайной. \n",
    "\n",
    "В нашей классификации 2 варианта - accuracy случайной модели 0.5. Таким образом, accuracy лучшей модели на тестовой выборке больше на 0.27605, чем у случайной.\n",
    "\n",
    "Дополнительно оценили accuracy на тестовой выборке, для случая, когда все ответы равны 0 (константная модель). Результат получился 0.68896, что также ниже accuracy полученной модели."
   ]
  },
  {
   "cell_type": "markdown",
   "metadata": {
    "id": "r93Ox6Q0N4L1"
   },
   "source": [
    "## Общий вывод"
   ]
  },
  {
   "cell_type": "markdown",
   "metadata": {
    "id": "GjMtvBDYN7nT"
   },
   "source": [
    "В текущем проекте решали задачу классификации.\n",
    "\n",
    "Лучшая модель - \"Случайный лес\" с количеством деревьев 3 и глубине дерева - 7. Ее accuracy на тестовой выборке составляет 0.77605, т.е.вероятность правильного ответа составляет 77,6%."
   ]
  }
 ],
 "metadata": {
  "ExecuteTimeLog": [
   {
    "duration": 1324,
    "start_time": "2022-03-06T13:38:09.094Z"
   },
   {
    "duration": 1525,
    "start_time": "2022-03-06T13:38:10.420Z"
   },
   {
    "duration": -815,
    "start_time": "2022-03-06T13:38:12.763Z"
   },
   {
    "duration": -816,
    "start_time": "2022-03-06T13:38:12.765Z"
   },
   {
    "duration": -818,
    "start_time": "2022-03-06T13:38:12.768Z"
   },
   {
    "duration": -819,
    "start_time": "2022-03-06T13:38:12.770Z"
   },
   {
    "duration": -820,
    "start_time": "2022-03-06T13:38:12.773Z"
   },
   {
    "duration": -823,
    "start_time": "2022-03-06T13:38:12.777Z"
   },
   {
    "duration": -831,
    "start_time": "2022-03-06T13:38:12.786Z"
   },
   {
    "duration": -833,
    "start_time": "2022-03-06T13:38:12.789Z"
   },
   {
    "duration": -833,
    "start_time": "2022-03-06T13:38:12.790Z"
   },
   {
    "duration": -834,
    "start_time": "2022-03-06T13:38:12.792Z"
   },
   {
    "duration": -835,
    "start_time": "2022-03-06T13:38:12.794Z"
   },
   {
    "duration": -836,
    "start_time": "2022-03-06T13:38:12.796Z"
   },
   {
    "duration": -837,
    "start_time": "2022-03-06T13:38:12.798Z"
   },
   {
    "duration": -837,
    "start_time": "2022-03-06T13:38:12.799Z"
   },
   {
    "duration": -838,
    "start_time": "2022-03-06T13:38:12.801Z"
   },
   {
    "duration": -838,
    "start_time": "2022-03-06T13:38:12.802Z"
   },
   {
    "duration": -839,
    "start_time": "2022-03-06T13:38:12.804Z"
   },
   {
    "duration": 1105,
    "start_time": "2022-03-06T13:39:12.283Z"
   },
   {
    "duration": 16,
    "start_time": "2022-03-06T13:39:13.390Z"
   },
   {
    "duration": 14,
    "start_time": "2022-03-06T13:39:13.408Z"
   },
   {
    "duration": 4,
    "start_time": "2022-03-06T13:39:13.424Z"
   },
   {
    "duration": 7,
    "start_time": "2022-03-06T13:39:13.429Z"
   },
   {
    "duration": 22,
    "start_time": "2022-03-06T13:39:13.438Z"
   },
   {
    "duration": 3,
    "start_time": "2022-03-06T13:39:13.462Z"
   },
   {
    "duration": 6,
    "start_time": "2022-03-06T13:39:13.467Z"
   },
   {
    "duration": 4,
    "start_time": "2022-03-06T13:39:13.475Z"
   },
   {
    "duration": 4,
    "start_time": "2022-03-06T13:39:13.480Z"
   },
   {
    "duration": 7,
    "start_time": "2022-03-06T13:39:13.486Z"
   },
   {
    "duration": 6,
    "start_time": "2022-03-06T13:39:13.494Z"
   },
   {
    "duration": 95,
    "start_time": "2022-03-06T13:39:13.502Z"
   },
   {
    "duration": 1473,
    "start_time": "2022-03-06T13:39:13.598Z"
   },
   {
    "duration": 12,
    "start_time": "2022-03-06T13:39:15.073Z"
   },
   {
    "duration": 6,
    "start_time": "2022-03-06T13:39:15.087Z"
   },
   {
    "duration": 4,
    "start_time": "2022-03-06T13:39:15.095Z"
   },
   {
    "duration": 6,
    "start_time": "2022-03-06T13:39:15.100Z"
   },
   {
    "duration": 5,
    "start_time": "2022-03-06T13:39:15.108Z"
   },
   {
    "duration": 266,
    "start_time": "2022-03-06T16:38:48.225Z"
   },
   {
    "duration": 1007,
    "start_time": "2022-03-06T16:38:59.051Z"
   },
   {
    "duration": 18,
    "start_time": "2022-03-06T16:39:00.060Z"
   },
   {
    "duration": 23,
    "start_time": "2022-03-06T16:39:00.081Z"
   },
   {
    "duration": 19,
    "start_time": "2022-03-06T16:39:00.106Z"
   },
   {
    "duration": 27,
    "start_time": "2022-03-06T16:39:00.127Z"
   },
   {
    "duration": 18,
    "start_time": "2022-03-06T16:39:00.157Z"
   },
   {
    "duration": 24,
    "start_time": "2022-03-06T16:39:00.177Z"
   },
   {
    "duration": 18,
    "start_time": "2022-03-06T16:39:00.203Z"
   },
   {
    "duration": 19,
    "start_time": "2022-03-06T16:39:00.223Z"
   },
   {
    "duration": 21,
    "start_time": "2022-03-06T16:39:00.244Z"
   },
   {
    "duration": 11,
    "start_time": "2022-03-06T16:39:00.267Z"
   },
   {
    "duration": 11,
    "start_time": "2022-03-06T16:39:00.280Z"
   },
   {
    "duration": 333,
    "start_time": "2022-03-06T16:39:00.293Z"
   },
   {
    "duration": 1593,
    "start_time": "2022-03-06T16:39:00.628Z"
   },
   {
    "duration": 12,
    "start_time": "2022-03-06T16:39:02.223Z"
   },
   {
    "duration": 52,
    "start_time": "2022-03-06T16:39:02.237Z"
   },
   {
    "duration": 11,
    "start_time": "2022-03-06T16:39:02.291Z"
   },
   {
    "duration": 35,
    "start_time": "2022-03-06T16:39:02.304Z"
   },
   {
    "duration": 15,
    "start_time": "2022-03-06T16:39:02.340Z"
   },
   {
    "duration": 257,
    "start_time": "2022-03-06T16:39:39.269Z"
   },
   {
    "duration": 276,
    "start_time": "2022-03-06T16:40:49.291Z"
   },
   {
    "duration": 292,
    "start_time": "2022-03-06T16:41:53.385Z"
   },
   {
    "duration": 1745,
    "start_time": "2022-03-06T16:45:08.626Z"
   },
   {
    "duration": 305,
    "start_time": "2022-03-06T16:52:09.036Z"
   },
   {
    "duration": 3,
    "start_time": "2022-03-06T16:52:31.812Z"
   },
   {
    "duration": 1327,
    "start_time": "2022-03-06T16:52:38.101Z"
   },
   {
    "duration": 1281,
    "start_time": "2022-03-06T16:53:47.835Z"
   },
   {
    "duration": 1375,
    "start_time": "2022-03-06T16:54:05.541Z"
   },
   {
    "duration": 2124,
    "start_time": "2022-03-06T16:54:17.522Z"
   },
   {
    "duration": 2251,
    "start_time": "2022-03-06T16:54:41.257Z"
   },
   {
    "duration": 1408,
    "start_time": "2022-03-06T16:55:50.536Z"
   },
   {
    "duration": 1285,
    "start_time": "2022-03-06T16:56:25.799Z"
   },
   {
    "duration": 1542,
    "start_time": "2022-03-06T16:56:39.415Z"
   },
   {
    "duration": 2126,
    "start_time": "2022-03-06T16:57:06.685Z"
   },
   {
    "duration": 2467,
    "start_time": "2022-03-06T16:57:26.868Z"
   },
   {
    "duration": 3498,
    "start_time": "2022-03-06T16:58:00.236Z"
   },
   {
    "duration": 2833,
    "start_time": "2022-03-06T16:58:11.403Z"
   },
   {
    "duration": 3097,
    "start_time": "2022-03-06T16:58:36.123Z"
   },
   {
    "duration": 81,
    "start_time": "2022-03-06T16:58:52.259Z"
   },
   {
    "duration": 3133,
    "start_time": "2022-03-06T16:58:58.971Z"
   },
   {
    "duration": 3712,
    "start_time": "2022-03-06T16:59:23.002Z"
   },
   {
    "duration": 7039,
    "start_time": "2022-03-06T16:59:36.883Z"
   },
   {
    "duration": 3334,
    "start_time": "2022-03-06T16:59:54.887Z"
   },
   {
    "duration": 3160,
    "start_time": "2022-03-06T17:00:11.079Z"
   },
   {
    "duration": 3603,
    "start_time": "2022-03-06T17:00:23.057Z"
   },
   {
    "duration": 4210,
    "start_time": "2022-03-06T17:00:41.808Z"
   },
   {
    "duration": 3783,
    "start_time": "2022-03-06T17:01:08.014Z"
   },
   {
    "duration": 3435,
    "start_time": "2022-03-06T17:01:30.528Z"
   },
   {
    "duration": 3499,
    "start_time": "2022-03-06T17:02:17.478Z"
   },
   {
    "duration": 6020,
    "start_time": "2022-03-06T17:07:32.351Z"
   },
   {
    "duration": 1961,
    "start_time": "2022-03-06T17:08:32.319Z"
   },
   {
    "duration": 1852,
    "start_time": "2022-03-06T17:09:15.924Z"
   },
   {
    "duration": 2129,
    "start_time": "2022-03-06T17:09:38.493Z"
   },
   {
    "duration": 2028,
    "start_time": "2022-03-06T17:10:02.796Z"
   },
   {
    "duration": 2165,
    "start_time": "2022-03-06T17:10:10.413Z"
   },
   {
    "duration": 2326,
    "start_time": "2022-03-06T17:10:23.677Z"
   },
   {
    "duration": 2232,
    "start_time": "2022-03-06T17:10:38.852Z"
   },
   {
    "duration": 2304,
    "start_time": "2022-03-06T17:11:13.500Z"
   },
   {
    "duration": 2241,
    "start_time": "2022-03-06T17:12:07.314Z"
   },
   {
    "duration": 2165,
    "start_time": "2022-03-06T17:12:27.785Z"
   },
   {
    "duration": 2126,
    "start_time": "2022-03-06T17:12:38.162Z"
   },
   {
    "duration": 2354,
    "start_time": "2022-03-06T17:14:33.552Z"
   },
   {
    "duration": 2158,
    "start_time": "2022-03-06T17:15:14.366Z"
   },
   {
    "duration": 2347,
    "start_time": "2022-03-06T17:15:43.546Z"
   },
   {
    "duration": 2215,
    "start_time": "2022-03-06T17:15:53.169Z"
   },
   {
    "duration": 2074,
    "start_time": "2022-03-06T18:16:16.930Z"
   },
   {
    "duration": 2001,
    "start_time": "2022-03-06T18:16:31.246Z"
   },
   {
    "duration": 2068,
    "start_time": "2022-03-06T18:18:15.742Z"
   },
   {
    "duration": 2065,
    "start_time": "2022-03-06T18:20:24.650Z"
   },
   {
    "duration": 4,
    "start_time": "2022-03-06T18:28:11.815Z"
   },
   {
    "duration": 7,
    "start_time": "2022-03-06T18:31:21.571Z"
   },
   {
    "duration": 5,
    "start_time": "2022-03-06T18:31:51.154Z"
   },
   {
    "duration": 6,
    "start_time": "2022-03-06T18:32:38.533Z"
   },
   {
    "duration": 70,
    "start_time": "2022-03-06T18:34:22.632Z"
   },
   {
    "duration": 1133,
    "start_time": "2022-03-06T18:36:41.309Z"
   },
   {
    "duration": 23,
    "start_time": "2022-03-06T18:36:42.444Z"
   },
   {
    "duration": 12,
    "start_time": "2022-03-06T18:36:42.469Z"
   },
   {
    "duration": 8,
    "start_time": "2022-03-06T18:36:42.483Z"
   },
   {
    "duration": 11,
    "start_time": "2022-03-06T18:36:42.493Z"
   },
   {
    "duration": 8,
    "start_time": "2022-03-06T18:36:42.506Z"
   },
   {
    "duration": 11,
    "start_time": "2022-03-06T18:36:42.516Z"
   },
   {
    "duration": 9,
    "start_time": "2022-03-06T18:36:42.529Z"
   },
   {
    "duration": 7,
    "start_time": "2022-03-06T18:36:42.540Z"
   },
   {
    "duration": 8,
    "start_time": "2022-03-06T18:36:42.549Z"
   },
   {
    "duration": 10,
    "start_time": "2022-03-06T18:36:42.559Z"
   },
   {
    "duration": 15,
    "start_time": "2022-03-06T18:36:42.571Z"
   },
   {
    "duration": 333,
    "start_time": "2022-03-06T18:36:42.588Z"
   },
   {
    "duration": 2155,
    "start_time": "2022-03-06T18:36:42.923Z"
   },
   {
    "duration": 28,
    "start_time": "2022-03-06T18:36:45.080Z"
   },
   {
    "duration": 9,
    "start_time": "2022-03-06T18:36:45.110Z"
   },
   {
    "duration": 5,
    "start_time": "2022-03-06T18:36:45.121Z"
   },
   {
    "duration": 5,
    "start_time": "2022-03-06T18:36:45.129Z"
   },
   {
    "duration": 11,
    "start_time": "2022-03-06T18:36:45.136Z"
   },
   {
    "duration": 8,
    "start_time": "2022-03-06T18:36:45.150Z"
   },
   {
    "duration": 1292,
    "start_time": "2022-03-06T18:37:11.286Z"
   },
   {
    "duration": 25,
    "start_time": "2022-03-06T18:37:12.580Z"
   },
   {
    "duration": 14,
    "start_time": "2022-03-06T18:37:12.607Z"
   },
   {
    "duration": 4,
    "start_time": "2022-03-06T18:37:12.625Z"
   },
   {
    "duration": 7,
    "start_time": "2022-03-06T18:37:12.631Z"
   },
   {
    "duration": 18,
    "start_time": "2022-03-06T18:37:12.640Z"
   },
   {
    "duration": 9,
    "start_time": "2022-03-06T18:37:12.660Z"
   },
   {
    "duration": 10,
    "start_time": "2022-03-06T18:37:12.672Z"
   },
   {
    "duration": 4,
    "start_time": "2022-03-06T18:37:12.702Z"
   },
   {
    "duration": 7,
    "start_time": "2022-03-06T18:37:12.708Z"
   },
   {
    "duration": 6,
    "start_time": "2022-03-06T18:37:12.717Z"
   },
   {
    "duration": 9,
    "start_time": "2022-03-06T18:37:12.724Z"
   },
   {
    "duration": 329,
    "start_time": "2022-03-06T18:37:12.735Z"
   },
   {
    "duration": 2324,
    "start_time": "2022-03-06T18:37:13.066Z"
   },
   {
    "duration": 17,
    "start_time": "2022-03-06T18:37:15.400Z"
   },
   {
    "duration": 8,
    "start_time": "2022-03-06T18:37:15.419Z"
   },
   {
    "duration": 10,
    "start_time": "2022-03-06T18:37:15.429Z"
   },
   {
    "duration": 9,
    "start_time": "2022-03-06T18:37:15.441Z"
   },
   {
    "duration": 10,
    "start_time": "2022-03-06T18:37:15.452Z"
   },
   {
    "duration": 6,
    "start_time": "2022-03-06T18:37:15.464Z"
   },
   {
    "duration": 1658,
    "start_time": "2022-09-06T09:36:43.593Z"
   },
   {
    "duration": 76,
    "start_time": "2022-09-06T09:36:45.253Z"
   },
   {
    "duration": 18,
    "start_time": "2022-09-06T09:36:45.331Z"
   },
   {
    "duration": 5,
    "start_time": "2022-09-06T09:36:45.352Z"
   },
   {
    "duration": 22,
    "start_time": "2022-09-06T09:36:45.359Z"
   },
   {
    "duration": 10,
    "start_time": "2022-09-06T09:36:45.382Z"
   },
   {
    "duration": 17,
    "start_time": "2022-09-06T09:36:45.393Z"
   },
   {
    "duration": 19,
    "start_time": "2022-09-06T09:36:45.412Z"
   },
   {
    "duration": 18,
    "start_time": "2022-09-06T09:36:45.432Z"
   },
   {
    "duration": 41,
    "start_time": "2022-09-06T09:36:45.453Z"
   },
   {
    "duration": 26,
    "start_time": "2022-09-06T09:36:45.496Z"
   },
   {
    "duration": 17,
    "start_time": "2022-09-06T09:36:45.523Z"
   },
   {
    "duration": 293,
    "start_time": "2022-09-06T09:36:45.543Z"
   },
   {
    "duration": 2255,
    "start_time": "2022-09-06T09:36:45.838Z"
   },
   {
    "duration": 40,
    "start_time": "2022-09-06T09:36:48.095Z"
   },
   {
    "duration": 7,
    "start_time": "2022-09-06T09:36:48.136Z"
   },
   {
    "duration": 20,
    "start_time": "2022-09-06T09:36:48.145Z"
   },
   {
    "duration": 42,
    "start_time": "2022-09-06T09:38:52.349Z"
   },
   {
    "duration": 47,
    "start_time": "2022-09-06T09:38:57.947Z"
   },
   {
    "duration": 1396,
    "start_time": "2022-09-06T09:40:59.486Z"
   },
   {
    "duration": 39,
    "start_time": "2022-09-06T09:41:00.884Z"
   },
   {
    "duration": 14,
    "start_time": "2022-09-06T09:41:00.924Z"
   },
   {
    "duration": 10,
    "start_time": "2022-09-06T09:41:00.940Z"
   },
   {
    "duration": 16,
    "start_time": "2022-09-06T09:41:00.952Z"
   },
   {
    "duration": 10,
    "start_time": "2022-09-06T09:41:00.970Z"
   },
   {
    "duration": 7,
    "start_time": "2022-09-06T09:41:00.982Z"
   },
   {
    "duration": 11,
    "start_time": "2022-09-06T09:41:00.991Z"
   },
   {
    "duration": 6,
    "start_time": "2022-09-06T09:41:01.004Z"
   },
   {
    "duration": 11,
    "start_time": "2022-09-06T09:41:01.012Z"
   },
   {
    "duration": 8,
    "start_time": "2022-09-06T09:41:01.025Z"
   },
   {
    "duration": 12,
    "start_time": "2022-09-06T09:41:01.035Z"
   },
   {
    "duration": 264,
    "start_time": "2022-09-06T09:41:01.048Z"
   },
   {
    "duration": 2120,
    "start_time": "2022-09-06T09:41:01.313Z"
   },
   {
    "duration": 44,
    "start_time": "2022-09-06T09:41:03.435Z"
   },
   {
    "duration": 9,
    "start_time": "2022-09-06T09:41:03.480Z"
   },
   {
    "duration": 10,
    "start_time": "2022-09-06T09:41:03.491Z"
   }
  ],
  "colab": {
   "collapsed_sections": [
    "RcsDDEtgF2Yf",
    "OBuWQl4IHYeX",
    "AQ8Fv7YCM8RV",
    "OS5UTjSUND2R",
    "tQSrkVlhNG0B",
    "UYFi5UpgNJ7j",
    "UK-UHb27ZXBd"
   ],
   "name": "Sprint7.ipynb",
   "provenance": []
  },
  "kernelspec": {
   "display_name": "Python 3 (ipykernel)",
   "language": "python",
   "name": "python3"
  },
  "language_info": {
   "codemirror_mode": {
    "name": "ipython",
    "version": 3
   },
   "file_extension": ".py",
   "mimetype": "text/x-python",
   "name": "python",
   "nbconvert_exporter": "python",
   "pygments_lexer": "ipython3",
   "version": "3.9.5"
  },
  "toc": {
   "base_numbering": 1,
   "nav_menu": {},
   "number_sections": true,
   "sideBar": true,
   "skip_h1_title": true,
   "title_cell": "Содержание",
   "title_sidebar": "Contents",
   "toc_cell": true,
   "toc_position": {},
   "toc_section_display": true,
   "toc_window_display": true
  }
 },
 "nbformat": 4,
 "nbformat_minor": 1
}
