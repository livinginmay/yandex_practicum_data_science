{
  "cells": [
    {
      "cell_type": "markdown",
      "source": [
        "# Векторный поиск в задаче матчинга"
      ],
      "metadata": {
        "id": "h47FHdKS59d7"
      }
    },
    {
      "cell_type": "markdown",
      "source": [
        "Необходимо решить усеченную задачу матчинга - векторный поиск.\n",
        "\n",
        "Осуществляется поиск ближайших N товаров из коллекции base для каждого товара из query."
      ],
      "metadata": {
        "id": "xnpCuyEq6CLJ"
      }
    },
    {
      "cell_type": "markdown",
      "source": [
        "## Подготовка данных"
      ],
      "metadata": {
        "id": "Rpzl8BTQ6vOV"
      }
    },
    {
      "cell_type": "markdown",
      "source": [
        "### Установка и импорт библиотек"
      ],
      "metadata": {
        "id": "W-vCn98r6pmb"
      }
    },
    {
      "cell_type": "code",
      "execution_count": 1,
      "metadata": {
        "colab": {
          "base_uri": "https://localhost:8080/"
        },
        "id": "8JxJB0SR3PBM",
        "outputId": "e77f9bf3-0593-4020-ed12-8ca8bed916a5"
      },
      "outputs": [
        {
          "output_type": "stream",
          "name": "stdout",
          "text": [
            "Looking in indexes: https://pypi.org/simple, https://us-python.pkg.dev/colab-wheels/public/simple/\n",
            "Requirement already satisfied: faiss-gpu in /usr/local/lib/python3.10/dist-packages (1.7.2)\n"
          ]
        }
      ],
      "source": [
        "!pip install faiss-gpu"
      ]
    },
    {
      "cell_type": "code",
      "execution_count": 2,
      "metadata": {
        "id": "afa4p20R3PBP"
      },
      "outputs": [],
      "source": [
        "import os\n",
        "import pandas as pd\n",
        "import faiss\n",
        "import numpy as np\n",
        "\n",
        "from sklearn.preprocessing import StandardScaler\n",
        "from sklearn.utils import shuffle\n",
        "from sklearn.linear_model import LogisticRegression\n",
        "from sklearn.model_selection import cross_val_score\n",
        "from sklearn.model_selection import train_test_split\n",
        "from sklearn.metrics import recall_score"
      ]
    },
    {
      "cell_type": "markdown",
      "source": [
        "### Константы и базовые настройки"
      ],
      "metadata": {
        "id": "__5L-UcQ61Bi"
      }
    },
    {
      "cell_type": "code",
      "execution_count": 3,
      "metadata": {
        "id": "v6UMRhEXk9xz"
      },
      "outputs": [],
      "source": [
        "CV = 4\n",
        "FALSE_PART = 1"
      ]
    },
    {
      "cell_type": "code",
      "execution_count": 4,
      "metadata": {
        "id": "UdxJsuDR3PBP"
      },
      "outputs": [],
      "source": [
        "np.random.seed(1234)"
      ]
    },
    {
      "cell_type": "code",
      "execution_count": 5,
      "metadata": {
        "colab": {
          "base_uri": "https://localhost:8080/"
        },
        "id": "_BNBOn_S451X",
        "outputId": "855130ed-e40d-4cfd-f293-fe4140eb0f38"
      },
      "outputs": [
        {
          "output_type": "stream",
          "name": "stdout",
          "text": [
            "Drive already mounted at /content/gdrive/; to attempt to forcibly remount, call drive.mount(\"/content/gdrive/\", force_remount=True).\n"
          ]
        }
      ],
      "source": [
        "from google.colab import drive\n",
        "drive.mount('/content/gdrive/')"
      ]
    },
    {
      "cell_type": "code",
      "execution_count": 6,
      "metadata": {
        "id": "JylzRxcU5ceR"
      },
      "outputs": [],
      "source": [
        "os.chdir('/content/gdrive/MyDrive/Colab_Notebooks_Samokat/')"
      ]
    },
    {
      "cell_type": "markdown",
      "source": [
        "### Общая информация о датасете"
      ],
      "metadata": {
        "id": "baCd15ZjCns3"
      }
    },
    {
      "cell_type": "markdown",
      "source": [
        "Датасет содержит каталог товаров на 2.918.139 позиций.\n",
        "\n",
        "100.000 запросов с ответами - правильными матчами (обучающая выборка).\n",
        "\n",
        "100.000 запросов без ответов (тестовая выборка) - для проверки результатов на закрытых данных.\n",
        "\n",
        "Каждая позиция представлена в векторном виде с 72 координатами-признаками.\n",
        "\n"
      ],
      "metadata": {
        "id": "JZhqcvJnNzNC"
      }
    },
    {
      "cell_type": "code",
      "execution_count": 7,
      "metadata": {
        "colab": {
          "base_uri": "https://localhost:8080/"
        },
        "id": "MOpU8nUw3PBP",
        "outputId": "f0e3185d-1dd9-477e-c012-ee4521e1cc92"
      },
      "outputs": [
        {
          "output_type": "execute_result",
          "data": {
            "text/plain": [
              "(2918139, 73)"
            ]
          },
          "metadata": {},
          "execution_count": 7
        }
      ],
      "source": [
        "base = pd.read_csv('base.csv')\n",
        "base.shape"
      ]
    },
    {
      "cell_type": "code",
      "execution_count": 8,
      "metadata": {
        "colab": {
          "base_uri": "https://localhost:8080/"
        },
        "id": "24yUqHsF3PBP",
        "outputId": "d7bedd14-293c-473a-c03c-72fab110a82b"
      },
      "outputs": [
        {
          "output_type": "execute_result",
          "data": {
            "text/plain": [
              "(100000, 74)"
            ]
          },
          "metadata": {},
          "execution_count": 8
        }
      ],
      "source": [
        "train = pd.read_csv('train.csv')\n",
        "train.shape"
      ]
    },
    {
      "cell_type": "code",
      "execution_count": 9,
      "metadata": {
        "colab": {
          "base_uri": "https://localhost:8080/"
        },
        "id": "tmzAHAoo3PBQ",
        "outputId": "2a76e0fd-39b2-4eb9-d58e-59fec2d679b1"
      },
      "outputs": [
        {
          "output_type": "execute_result",
          "data": {
            "text/plain": [
              "(100000, 73)"
            ]
          },
          "metadata": {},
          "execution_count": 9
        }
      ],
      "source": [
        "test = pd.read_csv('test.csv')\n",
        "test.shape"
      ]
    },
    {
      "cell_type": "markdown",
      "metadata": {
        "id": "Y00VADRRnmVf"
      },
      "source": [
        "### Отбор признаков"
      ]
    },
    {
      "cell_type": "markdown",
      "source": [
        "Благодаря наличию обучающей выборки можно выполнить анализ корреляций 72 пар координат запроса и соответствующего ему матча-товара."
      ],
      "metadata": {
        "id": "yrTV6rBUPxBn"
      }
    },
    {
      "cell_type": "code",
      "execution_count": 10,
      "metadata": {
        "id": "yqGFmOYopBTG"
      },
      "outputs": [],
      "source": [
        "base = base.rename(columns={'Id': 'target'})\n",
        "train = train.rename(columns={'Target': 'target'})"
      ]
    },
    {
      "cell_type": "code",
      "execution_count": 11,
      "metadata": {
        "id": "nQy0glIqnlI5"
      },
      "outputs": [],
      "source": [
        "df = train.merge(base, how='inner', on='target')"
      ]
    },
    {
      "cell_type": "code",
      "execution_count": 12,
      "metadata": {
        "colab": {
          "base_uri": "https://localhost:8080/"
        },
        "id": "dfZiCwKEozgT",
        "outputId": "f3421fe5-e711-412f-ed48-8504e0786b3b"
      },
      "outputs": [
        {
          "output_type": "stream",
          "name": "stdout",
          "text": [
            "<class 'pandas.core.frame.DataFrame'>\n",
            "Int64Index: 100000 entries, 0 to 99999\n",
            "Columns: 146 entries, Id to 71_y\n",
            "dtypes: float64(144), object(2)\n",
            "memory usage: 112.2+ MB\n"
          ]
        }
      ],
      "source": [
        "df.info()"
      ]
    },
    {
      "cell_type": "code",
      "execution_count": 13,
      "metadata": {
        "colab": {
          "base_uri": "https://localhost:8080/"
        },
        "id": "9SzAiNhmtxI9",
        "outputId": "b86520ce-bf4b-4439-d15c-3d012f30b7d9"
      },
      "outputs": [
        {
          "output_type": "stream",
          "name": "stdout",
          "text": [
            "0 0.8449447537712971\n",
            "1 0.8478439158094286\n",
            "2 0.8334490344301374\n",
            "3 0.8511180082446534\n",
            "4 0.841223126598558\n",
            "5 0.8441899324722842\n",
            "6 0.6322338996868498\n",
            "7 0.8377651642015352\n",
            "8 0.8437878524560236\n",
            "9 0.8452779026253773\n",
            "10 0.8595229186576993\n",
            "11 0.8337949068049615\n",
            "12 0.8532650978245585\n",
            "13 0.8481128821807487\n",
            "14 0.8500162975996597\n",
            "15 0.8521129968011875\n",
            "16 0.8418913646803291\n",
            "17 0.8441879416805943\n",
            "18 0.8381387977799976\n",
            "19 0.8452056239284101\n",
            "20 0.8437645745710631\n",
            "21 0.32684470188040965\n",
            "22 0.8341134518158314\n",
            "23 0.8418297148377708\n",
            "24 0.8453072892269006\n",
            "25 0.36247749147804476\n",
            "26 0.8341064978470665\n",
            "27 0.8395475709384276\n",
            "28 0.8522746615896958\n",
            "29 0.8518623720096529\n",
            "30 0.8505579991706796\n",
            "31 0.8535795670485254\n",
            "32 0.8370928258754424\n",
            "33 -0.06376557635158732\n",
            "34 0.8486118071722741\n",
            "35 0.8441001871901369\n",
            "36 0.8467277899654437\n",
            "37 0.8526558730849103\n",
            "38 0.8487193551518449\n",
            "39 0.8404080521291137\n",
            "40 0.8396626392349058\n",
            "41 0.842777972692936\n",
            "42 0.8456295834098554\n",
            "43 0.8475255592013271\n",
            "44 0.6304830233791149\n",
            "45 0.8291208939650448\n",
            "46 0.8542603986373426\n",
            "47 0.8398898118358908\n",
            "48 0.8491696883840634\n",
            "49 0.8510725945636358\n",
            "50 0.8542458481789766\n",
            "51 0.845063499874073\n",
            "52 0.8374241614238579\n",
            "53 0.8439867967174471\n",
            "54 0.829062329129405\n",
            "55 0.8484541380969102\n",
            "56 0.8545831241549233\n",
            "57 0.8351646915137237\n",
            "58 0.8462127540834358\n",
            "59 0.0007518553077549762\n",
            "60 0.8394227421194992\n",
            "61 0.8437942231022822\n",
            "62 0.8294665726116479\n",
            "63 0.8451012339317341\n",
            "64 0.8316137106138753\n",
            "65 0.29540054858223475\n",
            "66 0.8463660998685844\n",
            "67 0.846631226928931\n",
            "68 0.8544707167397159\n",
            "69 0.8409488948841126\n",
            "70 0.6774312102253431\n",
            "71 0.847667330742981\n"
          ]
        }
      ],
      "source": [
        "incorrect_features = []\n",
        "\n",
        "for i in range(0, 72):\n",
        "  corr_result = df[f'{i}_x'].corr(df[f'{i}_y'])\n",
        "\n",
        "  print(i, corr_result)\n",
        "  if corr_result < 0.8:\n",
        "    incorrect_features.append(str(i))"
      ]
    },
    {
      "cell_type": "markdown",
      "source": [
        "По результатам этого анализа видно, что по 8 из 72 координат корреляция меньше 0.8. Т.к. это координаты вектора и векторный поиск матчей сводится к поиску ближайших точек, то эти 8 координат можно отбросить как \"мусорные\".\n",
        "\n",
        "В дальнейшем задача будет выполняться на 64 признаках."
      ],
      "metadata": {
        "id": "-HcV7Kh0RaRt"
      }
    },
    {
      "cell_type": "code",
      "execution_count": 14,
      "metadata": {
        "colab": {
          "base_uri": "https://localhost:8080/"
        },
        "id": "kMRvvffCtxOh",
        "outputId": "e0865277-a28c-4a1f-d567-4a3dcceee08f"
      },
      "outputs": [
        {
          "output_type": "execute_result",
          "data": {
            "text/plain": [
              "['6', '21', '25', '33', '44', '59', '65', '70']"
            ]
          },
          "metadata": {},
          "execution_count": 14
        }
      ],
      "source": [
        "incorrect_features"
      ]
    },
    {
      "cell_type": "code",
      "execution_count": 15,
      "metadata": {
        "id": "AdpzlFLZIG8N"
      },
      "outputs": [],
      "source": [
        "del df"
      ]
    },
    {
      "cell_type": "markdown",
      "metadata": {
        "id": "_j7a98N9AxyD"
      },
      "source": [
        "### Масштабирование"
      ]
    },
    {
      "cell_type": "markdown",
      "source": [
        "Масштабирую признаки для более точного поиска."
      ],
      "metadata": {
        "id": "91DSbYYrSsQr"
      }
    },
    {
      "cell_type": "code",
      "execution_count": 16,
      "metadata": {
        "id": "QRopOg2aA0OL"
      },
      "outputs": [],
      "source": [
        "feature_columns = base.drop(['target'] + incorrect_features, axis=1).columns"
      ]
    },
    {
      "cell_type": "code",
      "execution_count": 17,
      "metadata": {
        "id": "McgcuiRoA0Qy"
      },
      "outputs": [],
      "source": [
        "scaler = StandardScaler()\n",
        "scaler.fit(base[feature_columns])\n",
        "base[feature_columns] = scaler.transform(base[feature_columns])\n",
        "train[feature_columns] = scaler.transform(train[feature_columns])\n",
        "test[feature_columns] = scaler.transform(test[feature_columns])"
      ]
    },
    {
      "cell_type": "markdown",
      "source": [
        "## Векторный поиск"
      ],
      "metadata": {
        "id": "elN5ViWwDCd1"
      }
    },
    {
      "cell_type": "markdown",
      "source": [
        "Для векторного поиска использую библиотеку faiss."
      ],
      "metadata": {
        "id": "fsZZwxc2TJ6u"
      }
    },
    {
      "cell_type": "code",
      "execution_count": 18,
      "metadata": {
        "id": "Rt4DAEoi3PBQ"
      },
      "outputs": [],
      "source": [
        "base_dict = dict(base['target'].reset_index().set_index('target')['index'])\n",
        "id_base_dict = dict(base['target'])"
      ]
    },
    {
      "cell_type": "code",
      "execution_count": 19,
      "metadata": {
        "id": "agIe2nP93PBQ"
      },
      "outputs": [],
      "source": [
        "dim = 72 - len(incorrect_features)\n",
        "nb = base.shape[0]\n",
        "nq = train.shape[0]"
      ]
    },
    {
      "cell_type": "markdown",
      "source": [
        "Выполняется подготовка векторов."
      ],
      "metadata": {
        "id": "HHMR0V1PTnkZ"
      }
    },
    {
      "cell_type": "code",
      "execution_count": 20,
      "metadata": {
        "id": "sYjl1Luo3PBQ"
      },
      "outputs": [],
      "source": [
        "vectors = base.drop(['target'] + incorrect_features, axis=1).to_numpy().astype('float32').copy(order='C')\n",
        "query = train.drop(['Id', 'target'] + incorrect_features, axis=1).to_numpy().astype('float32').copy(order='C')\n",
        "query_test = test.drop(['Id'] + incorrect_features, axis=1).to_numpy().astype('float32').copy(order='C')"
      ]
    },
    {
      "cell_type": "markdown",
      "source": [
        "Т.к. будет использоваться косинусное расстояние, векторы нормализуются (это необходимо согласно документации)."
      ],
      "metadata": {
        "id": "3PMmUtX-TtVd"
      }
    },
    {
      "cell_type": "code",
      "execution_count": 21,
      "metadata": {
        "id": "uNA4PH3BJEpS"
      },
      "outputs": [],
      "source": [
        "faiss.normalize_L2(vectors)\n",
        "faiss.normalize_L2(query)\n",
        "faiss.normalize_L2(query_test)"
      ]
    },
    {
      "cell_type": "markdown",
      "metadata": {
        "id": "JMMzbrAe288i"
      },
      "source": [
        "### GPU"
      ]
    },
    {
      "cell_type": "markdown",
      "source": [
        "Индекс строю на GPU - ресурсов Colab для этого более чем достаточно, поиск выполняется быстро, а полный перебор по понятным причинам дает лучшие метрики."
      ],
      "metadata": {
        "id": "CrE-CDN4U8Kt"
      }
    },
    {
      "cell_type": "code",
      "execution_count": 22,
      "metadata": {
        "id": "Pk1sT52e3UMq"
      },
      "outputs": [],
      "source": [
        "res = faiss.StandardGpuResources()"
      ]
    },
    {
      "cell_type": "code",
      "execution_count": 23,
      "metadata": {
        "id": "TYSn61tI28FC"
      },
      "outputs": [],
      "source": [
        "index = faiss.IndexFlatIP(dim)\n",
        "gpu_index = faiss.index_cpu_to_gpu(res, 0, index)\n",
        "gpu_index.add(vectors)"
      ]
    },
    {
      "cell_type": "markdown",
      "source": [
        "Для каждого запроса получаю топ-10 матчей."
      ],
      "metadata": {
        "id": "Pp7Annz0Wvyd"
      }
    },
    {
      "cell_type": "code",
      "execution_count": 24,
      "metadata": {
        "id": "Xj9yWdXz6uue"
      },
      "outputs": [],
      "source": [
        "topn = 10"
      ]
    },
    {
      "cell_type": "code",
      "execution_count": 25,
      "metadata": {
        "colab": {
          "base_uri": "https://localhost:8080/"
        },
        "id": "KJn1mp6O3IcA",
        "outputId": "1f298092-e607-467d-8401-955031fad9d2"
      },
      "outputs": [
        {
          "output_type": "stream",
          "name": "stdout",
          "text": [
            "CPU times: user 13.4 s, sys: 6.01 s, total: 19.4 s\n",
            "Wall time: 20.1 s\n"
          ]
        }
      ],
      "source": [
        "%%time\n",
        "D, I = gpu_index.search(query, topn) "
      ]
    },
    {
      "cell_type": "markdown",
      "source": [
        "По итогам поиска считаю метрику на обучающей выборке:\n",
        "\n",
        "Recall@10 = (общая сумма найденных в топ10 матчей) / (общая сумма матчей)"
      ],
      "metadata": {
        "id": "bnuqNBcXWgZD"
      }
    },
    {
      "cell_type": "code",
      "execution_count": 26,
      "metadata": {
        "id": "naDfUPvF3MtG"
      },
      "outputs": [],
      "source": [
        "results = pd.DataFrame()\n",
        "results['target'] = train['target']\n",
        "results['top10'] = list(I)\n",
        "results['true'] = results.apply(lambda x: 1 if base_dict[x['target']] in x['top10'] else 0, axis=1)\n",
        "results['position'] = results.apply(lambda x: list(x['top10']).index(base_dict[x['target']]) if base_dict[x['target']] in x['top10'] else -1, axis=1)"
      ]
    },
    {
      "cell_type": "code",
      "execution_count": 27,
      "metadata": {
        "colab": {
          "base_uri": "https://localhost:8080/"
        },
        "id": "cRWTO7a-3PhP",
        "outputId": "80aeba70-bd29-44d2-e4b8-acdf459aea19"
      },
      "outputs": [
        {
          "output_type": "execute_result",
          "data": {
            "text/plain": [
              "0.73977"
            ]
          },
          "metadata": {},
          "execution_count": 27
        }
      ],
      "source": [
        "recall = results['true'].sum()/results.shape[0]\n",
        "recall"
      ]
    },
    {
      "cell_type": "markdown",
      "source": [
        "Видно, что большая часть правильных матчей приходится на 1-3 позицию в топ-10."
      ],
      "metadata": {
        "id": "S6t6-8VhW4jo"
      }
    },
    {
      "cell_type": "code",
      "execution_count": 28,
      "metadata": {
        "colab": {
          "base_uri": "https://localhost:8080/"
        },
        "id": "bbGTgxTN9zqa",
        "outputId": "b1b0db5f-de8d-4a8f-ef06-2f98acbec665"
      },
      "outputs": [
        {
          "output_type": "execute_result",
          "data": {
            "text/plain": [
              " 0    59578\n",
              "-1    26023\n",
              " 1     6196\n",
              " 2     2684\n",
              " 3     1615\n",
              " 4     1081\n",
              " 5      804\n",
              " 6      651\n",
              " 7      541\n",
              " 8      438\n",
              " 9      389\n",
              "Name: position, dtype: int64"
            ]
          },
          "metadata": {},
          "execution_count": 28
        }
      ],
      "source": [
        "results['position'].value_counts().head(50)"
      ]
    },
    {
      "cell_type": "code",
      "execution_count": 29,
      "metadata": {
        "id": "Pog3nnqNOKqc"
      },
      "outputs": [],
      "source": [
        "del results"
      ]
    },
    {
      "cell_type": "markdown",
      "source": [
        "## Получение результатов по тестовой выборке для отправки"
      ],
      "metadata": {
        "id": "TZ8nueoyXmVw"
      }
    },
    {
      "cell_type": "code",
      "source": [
        "%%time\n",
        "D, I = gpu_index.search(query_test, topn) "
      ],
      "metadata": {
        "colab": {
          "base_uri": "https://localhost:8080/"
        },
        "outputId": "63e9c647-f7d4-45de-acd1-4ff62d748c2f",
        "id": "XZuxU8XaXmVx"
      },
      "execution_count": 30,
      "outputs": [
        {
          "output_type": "stream",
          "name": "stdout",
          "text": [
            "CPU times: user 14.3 s, sys: 6.55 s, total: 20.8 s\n",
            "Wall time: 20.9 s\n"
          ]
        }
      ]
    },
    {
      "cell_type": "code",
      "execution_count": 31,
      "metadata": {
        "colab": {
          "base_uri": "https://localhost:8080/"
        },
        "id": "rOJKWJV7XmV8",
        "outputId": "518d31f2-37d6-483e-84a3-1454080de6f0"
      },
      "outputs": [
        {
          "output_type": "stream",
          "name": "stderr",
          "text": [
            "<ipython-input-31-1d26d5f93ac6>:9: SettingWithCopyWarning: \n",
            "A value is trying to be set on a copy of a slice from a DataFrame.\n",
            "Try using .loc[row_indexer,col_indexer] = value instead\n",
            "\n",
            "See the caveats in the documentation: https://pandas.pydata.org/pandas-docs/stable/user_guide/indexing.html#returning-a-view-versus-a-copy\n",
            "  baseline_answer['Predicted'] = predicted_list\n"
          ]
        }
      ],
      "source": [
        "#из таблицы I с индексами кандидатов формируем строку в формате ответа\n",
        "                    \n",
        "predicted_list = []\n",
        "for candidates in I:\n",
        "    predicted_list.append(' '.join([id_base_dict[candidate] for candidate in candidates]))\n",
        "    \n",
        "#формируем ответ\n",
        "baseline_answer = test[['Id']]\n",
        "baseline_answer['Predicted'] = predicted_list"
      ]
    },
    {
      "cell_type": "code",
      "execution_count": 32,
      "metadata": {
        "id": "TFMQQSaiXmV8"
      },
      "outputs": [],
      "source": [
        "baseline_answer.to_csv('answer_test.csv', index=False)"
      ]
    },
    {
      "cell_type": "markdown",
      "metadata": {
        "id": "S9Kp_4hlTlVa"
      },
      "source": [
        "## Ранжирование"
      ]
    },
    {
      "cell_type": "markdown",
      "source": [
        "Для получения более точных результатов можно получить, например, топ-100 матчей вместо топ-10 и проранжировать их с помощью обученной модели.\n",
        "\n",
        "Моя идея была в следующем:\n",
        "* на основе обучающей выборки собрать 64 признака товара и 64 признака запроса - это матчи с таргетом 1.\n",
        "* для таргета 0 - собрать 128 аналогичных признаков для случайных пар из base (запрос - из первой половины base, матч - из второй половины base).\n",
        "* на полученных данных обучить модель логистической регрессии.\n",
        "* с помощью модели получить вероятности для каждой пары запрос - кандидат из топ-100.\n",
        "* отранжировать кандидатов по вероятностям и выбрать из них топ-10."
      ],
      "metadata": {
        "id": "dwcYeSCGXF5M"
      }
    },
    {
      "cell_type": "markdown",
      "source": [
        "Получаю первую часть данных для обучения модели - таргет 1 на основе исходной обучающей выборки."
      ],
      "metadata": {
        "id": "xsn-nvHciM90"
      }
    },
    {
      "cell_type": "code",
      "execution_count": 33,
      "metadata": {
        "colab": {
          "base_uri": "https://localhost:8080/"
        },
        "id": "0E0KeQfJTkwP",
        "outputId": "b67cfad5-d9de-4cab-d71a-45cc2d4ecf0d"
      },
      "outputs": [
        {
          "output_type": "stream",
          "name": "stdout",
          "text": [
            "<class 'pandas.core.frame.DataFrame'>\n",
            "Int64Index: 100000 entries, 0 to 99999\n",
            "Columns: 146 entries, Id to 71_y\n",
            "dtypes: float64(144), object(2)\n",
            "memory usage: 112.2+ MB\n"
          ]
        }
      ],
      "source": [
        "df_scaller = train.merge(base, how='inner', on='target')\n",
        "df_scaller.info()"
      ]
    },
    {
      "cell_type": "code",
      "execution_count": 34,
      "metadata": {
        "colab": {
          "base_uri": "https://localhost:8080/"
        },
        "id": "X0lTDHcfeyUk",
        "outputId": "5dd1b8cd-8e3f-4666-bea5-13017723074b"
      },
      "outputs": [
        {
          "output_type": "execute_result",
          "data": {
            "text/plain": [
              "Index(['0', '1', '2', '3', '4', '5', '7', '8', '9', '10', '11', '12', '13',\n",
              "       '14', '15', '16', '17', '18', '19', '20', '22', '23', '24', '26', '27',\n",
              "       '28', '29', '30', '31', '32', '34', '35', '36', '37', '38', '39', '40',\n",
              "       '41', '42', '43', '45', '46', '47', '48', '49', '50', '51', '52', '53',\n",
              "       '54', '55', '56', '57', '58', '60', '61', '62', '63', '64', '66', '67',\n",
              "       '68', '69', '71'],\n",
              "      dtype='object')"
            ]
          },
          "metadata": {},
          "execution_count": 34
        }
      ],
      "source": [
        "feature_columns"
      ]
    },
    {
      "cell_type": "code",
      "execution_count": 35,
      "metadata": {
        "id": "C4RzEp6ye17G"
      },
      "outputs": [],
      "source": [
        "lr_features = [f'{x}_x' for x in feature_columns] + [f'{x}_y' for x in feature_columns]"
      ]
    },
    {
      "cell_type": "code",
      "execution_count": 36,
      "metadata": {
        "id": "HRASMtXmTkyt"
      },
      "outputs": [],
      "source": [
        "train_true = df_scaller[lr_features]#.sample(n=20000, random_state=12345).reset_index(drop=True)"
      ]
    },
    {
      "cell_type": "code",
      "execution_count": 37,
      "metadata": {
        "id": "m-KI6xPsPNjw"
      },
      "outputs": [],
      "source": [
        "del df_scaller"
      ]
    },
    {
      "cell_type": "code",
      "execution_count": 38,
      "metadata": {
        "id": "pFcNtezIfMv0",
        "colab": {
          "base_uri": "https://localhost:8080/"
        },
        "outputId": "207a93dc-930e-4867-a9c3-6c5c2f1ea0bc"
      },
      "outputs": [
        {
          "output_type": "stream",
          "name": "stderr",
          "text": [
            "<ipython-input-38-74bcc60548c1>:1: SettingWithCopyWarning: \n",
            "A value is trying to be set on a copy of a slice from a DataFrame.\n",
            "Try using .loc[row_indexer,col_indexer] = value instead\n",
            "\n",
            "See the caveats in the documentation: https://pandas.pydata.org/pandas-docs/stable/user_guide/indexing.html#returning-a-view-versus-a-copy\n",
            "  train_true['target'] = 1\n"
          ]
        }
      ],
      "source": [
        "train_true['target'] = 1"
      ]
    },
    {
      "cell_type": "code",
      "execution_count": 39,
      "metadata": {
        "colab": {
          "base_uri": "https://localhost:8080/"
        },
        "id": "iZaf9ucnfUNn",
        "outputId": "e30c555a-44dd-4204-95dc-4644928cbae5"
      },
      "outputs": [
        {
          "output_type": "stream",
          "name": "stdout",
          "text": [
            "<class 'pandas.core.frame.DataFrame'>\n",
            "Int64Index: 100000 entries, 0 to 99999\n",
            "Columns: 129 entries, 0_x to target\n",
            "dtypes: float64(128), int64(1)\n",
            "memory usage: 99.2 MB\n"
          ]
        }
      ],
      "source": [
        "train_true.info()"
      ]
    },
    {
      "cell_type": "markdown",
      "source": [
        "Перед получением второй части с таргетом 0 удаляю из каталога товаров base дубли (они появились после удаления 8 \"мусорных\" координат)."
      ],
      "metadata": {
        "id": "p2tC0jSkia-_"
      }
    },
    {
      "cell_type": "code",
      "execution_count": 40,
      "metadata": {
        "id": "mKm7z57efbNQ"
      },
      "outputs": [],
      "source": [
        "base_wo_duples = base[feature_columns].drop_duplicates()"
      ]
    },
    {
      "cell_type": "code",
      "execution_count": 41,
      "metadata": {
        "colab": {
          "base_uri": "https://localhost:8080/"
        },
        "id": "Pk-wWme_fcOh",
        "outputId": "e61ea9d5-54c8-446c-aee3-fec6bd9f8fa0"
      },
      "outputs": [
        {
          "output_type": "execute_result",
          "data": {
            "text/plain": [
              "(2539424, 64)"
            ]
          },
          "metadata": {},
          "execution_count": 41
        }
      ],
      "source": [
        "base_wo_duples.shape"
      ]
    },
    {
      "cell_type": "markdown",
      "source": [
        "Определяю размер части с таргетом 0 относительно размера части с таргетом 1 (с помощью регулирования константы FALSE_PART можно менять баланс классов)."
      ],
      "metadata": {
        "id": "v-Zfx6jSivsx"
      }
    },
    {
      "cell_type": "code",
      "execution_count": 42,
      "metadata": {
        "id": "22D8beMGgyNm"
      },
      "outputs": [],
      "source": [
        "sample_size = FALSE_PART * train_true.shape[0]"
      ]
    },
    {
      "cell_type": "markdown",
      "source": [
        "Из первой половины каталога получаю запросы, из второй - матчи. У таких пар таргет равен 0. Итог - вторая часть данных для обучения модели."
      ],
      "metadata": {
        "id": "TZUT_jbVi-ZL"
      }
    },
    {
      "cell_type": "code",
      "execution_count": 43,
      "metadata": {
        "id": "P3z6zFAvfcRa"
      },
      "outputs": [],
      "source": [
        "sample_query = base_wo_duples[0:1250001].sample(n=sample_size, random_state=12345).reset_index(drop=True)"
      ]
    },
    {
      "cell_type": "code",
      "execution_count": 44,
      "metadata": {
        "colab": {
          "base_uri": "https://localhost:8080/"
        },
        "id": "Q0iZvYlofbQJ",
        "outputId": "3c28e675-7418-4434-9012-a54987872815"
      },
      "outputs": [
        {
          "output_type": "execute_result",
          "data": {
            "text/plain": [
              "(100000, 64)"
            ]
          },
          "metadata": {},
          "execution_count": 44
        }
      ],
      "source": [
        "sample_query.shape"
      ]
    },
    {
      "cell_type": "code",
      "execution_count": 45,
      "metadata": {
        "id": "VQZXE51ZfbTp"
      },
      "outputs": [],
      "source": [
        "sample_base = base_wo_duples[1250001:base_wo_duples.shape[0]].sample(n=sample_size, random_state=12345).reset_index(drop=True)"
      ]
    },
    {
      "cell_type": "code",
      "execution_count": 46,
      "metadata": {
        "colab": {
          "base_uri": "https://localhost:8080/"
        },
        "id": "nQlemjOmfbWx",
        "outputId": "880af27c-1e20-4ab5-92e5-18833f26b9e8"
      },
      "outputs": [
        {
          "output_type": "execute_result",
          "data": {
            "text/plain": [
              "(100000, 64)"
            ]
          },
          "metadata": {},
          "execution_count": 46
        }
      ],
      "source": [
        "sample_base.shape"
      ]
    },
    {
      "cell_type": "code",
      "execution_count": 47,
      "metadata": {
        "id": "ccRfgc-ltTlm"
      },
      "outputs": [],
      "source": [
        "del base_wo_duples"
      ]
    },
    {
      "cell_type": "code",
      "execution_count": 48,
      "metadata": {
        "id": "Pe-N51jofbaI"
      },
      "outputs": [],
      "source": [
        "train_false = sample_query.join(sample_base, lsuffix='_x', rsuffix='_y')"
      ]
    },
    {
      "cell_type": "code",
      "execution_count": 49,
      "metadata": {
        "id": "doCt3XfDOshb"
      },
      "outputs": [],
      "source": [
        "del sample_query, sample_base"
      ]
    },
    {
      "cell_type": "code",
      "execution_count": 50,
      "metadata": {
        "id": "lkaUzQzgija1"
      },
      "outputs": [],
      "source": [
        "train_false['target'] = 0"
      ]
    },
    {
      "cell_type": "markdown",
      "source": [
        "Объединяю части и получаю выборку для обучения логистической регрессии."
      ],
      "metadata": {
        "id": "xni4W-PqjWRF"
      }
    },
    {
      "cell_type": "code",
      "execution_count": 51,
      "metadata": {
        "id": "FQ7gFIy1ijgc"
      },
      "outputs": [],
      "source": [
        "train_for_range = shuffle(pd.concat([train_true, train_false]), random_state=12345).reset_index(drop=True)"
      ]
    },
    {
      "cell_type": "code",
      "execution_count": 52,
      "metadata": {
        "colab": {
          "base_uri": "https://localhost:8080/"
        },
        "id": "n3D8KD0Kijjt",
        "outputId": "adb0a483-274d-4029-84c8-3f80a480537a"
      },
      "outputs": [
        {
          "output_type": "stream",
          "name": "stdout",
          "text": [
            "<class 'pandas.core.frame.DataFrame'>\n",
            "RangeIndex: 200000 entries, 0 to 199999\n",
            "Columns: 129 entries, 0_x to target\n",
            "dtypes: float64(128), int64(1)\n",
            "memory usage: 196.8 MB\n"
          ]
        }
      ],
      "source": [
        "train_for_range.info()"
      ]
    },
    {
      "cell_type": "code",
      "execution_count": 53,
      "metadata": {
        "id": "fjDgzGLmOzzU"
      },
      "outputs": [],
      "source": [
        "del train_true, train_false"
      ]
    },
    {
      "cell_type": "code",
      "execution_count": 54,
      "metadata": {
        "id": "q3E6TsqekW3U"
      },
      "outputs": [],
      "source": [
        "features = train_for_range[lr_features]\n",
        "target = train_for_range['target']"
      ]
    },
    {
      "cell_type": "code",
      "execution_count": 55,
      "metadata": {
        "id": "oSbV8_vcoH7t"
      },
      "outputs": [],
      "source": [
        "features_train, features_test, target_train, target_test = train_test_split(features, target, test_size=0.2, random_state=12345)"
      ]
    },
    {
      "cell_type": "code",
      "execution_count": 56,
      "metadata": {
        "id": "qKFDxZlst8_I"
      },
      "outputs": [],
      "source": [
        "del train_for_range\n",
        "del features\n",
        "del target"
      ]
    },
    {
      "cell_type": "markdown",
      "source": [
        "Обучаю логистическу регрессию."
      ],
      "metadata": {
        "id": "v98Y0T2TjgvX"
      }
    },
    {
      "cell_type": "code",
      "execution_count": 57,
      "metadata": {
        "colab": {
          "base_uri": "https://localhost:8080/"
        },
        "id": "8SH3xxS0ijnA",
        "outputId": "152fe9bc-eacb-474a-a6f5-8a12801c41de"
      },
      "outputs": [
        {
          "output_type": "execute_result",
          "data": {
            "text/plain": [
              "0.587"
            ]
          },
          "metadata": {},
          "execution_count": 57
        }
      ],
      "source": [
        "model = LogisticRegression(random_state=12345, solver='lbfgs')#, class_weight = 'balanced')\n",
        "scores = cross_val_score(model, features_train, target_train, scoring='recall', cv=CV)\n",
        "round(pd.Series(scores).mean(), 3)"
      ]
    },
    {
      "cell_type": "code",
      "execution_count": 58,
      "metadata": {
        "colab": {
          "base_uri": "https://localhost:8080/"
        },
        "id": "K8OFaCaSopM5",
        "outputId": "498f6349-90a3-44f6-d2a8-b4dae3b13160"
      },
      "outputs": [
        {
          "output_type": "stream",
          "name": "stdout",
          "text": [
            "0.5868446043884641\n"
          ]
        }
      ],
      "source": [
        "model.fit(features_train, target_train)\n",
        "predictions = model.predict(features_test)\n",
        "print(recall_score(target_test, predictions))"
      ]
    },
    {
      "cell_type": "code",
      "execution_count": 59,
      "metadata": {
        "id": "vtC9Q-SVv4Ac"
      },
      "outputs": [],
      "source": [
        "del features_train, features_test, target_train, target_test"
      ]
    },
    {
      "cell_type": "markdown",
      "source": [
        "### Качество ранжирования на исходной обучающей выборке с топ-15"
      ],
      "metadata": {
        "id": "hE8vnj523qpV"
      }
    },
    {
      "cell_type": "code",
      "execution_count": 60,
      "metadata": {
        "id": "x7Fj5ShU3_kr"
      },
      "outputs": [],
      "source": [
        "topn = 15"
      ]
    },
    {
      "cell_type": "code",
      "execution_count": 61,
      "metadata": {
        "colab": {
          "base_uri": "https://localhost:8080/"
        },
        "outputId": "d2eff5a3-b4ad-4a32-dc11-00c87d76ed59",
        "id": "UZ30wsrl3_lH"
      },
      "outputs": [
        {
          "output_type": "stream",
          "name": "stdout",
          "text": [
            "CPU times: user 14.8 s, sys: 6.79 s, total: 21.6 s\n",
            "Wall time: 21.7 s\n"
          ]
        }
      ],
      "source": [
        "%%time\n",
        "D, I = gpu_index.search(query, topn) "
      ]
    },
    {
      "cell_type": "markdown",
      "source": [
        "По итогам поиска считаю метрику на обучающей выборке - для топ-15:\n",
        "\n",
        "Recall@15 = (общая сумма найденных в топ15 матчей) / (общая сумма матчей)\n",
        "\n",
        "Для топ-10 было значение 0.73977"
      ],
      "metadata": {
        "id": "legLRj0C3_lI"
      }
    },
    {
      "cell_type": "code",
      "execution_count": 62,
      "metadata": {
        "id": "wq-ununn3_lI"
      },
      "outputs": [],
      "source": [
        "results = pd.DataFrame()\n",
        "results['target'] = train['target']\n",
        "results['top10'] = list(I)\n",
        "results['true'] = results.apply(lambda x: 1 if base_dict[x['target']] in x['top10'] else 0, axis=1)\n",
        "results['position'] = results.apply(lambda x: list(x['top10']).index(base_dict[x['target']]) if base_dict[x['target']] in x['top10'] else -1, axis=1)"
      ]
    },
    {
      "cell_type": "code",
      "execution_count": 63,
      "metadata": {
        "colab": {
          "base_uri": "https://localhost:8080/"
        },
        "outputId": "fcd2314f-de0a-4ddc-e9f1-069daf060063",
        "id": "LIkkzd6t3_lI"
      },
      "outputs": [
        {
          "output_type": "execute_result",
          "data": {
            "text/plain": [
              "0.75413"
            ]
          },
          "metadata": {},
          "execution_count": 63
        }
      ],
      "source": [
        "recall = results['true'].sum()/results.shape[0]\n",
        "recall"
      ]
    },
    {
      "cell_type": "code",
      "execution_count": 64,
      "metadata": {
        "id": "FVdGlR6F3_lK"
      },
      "outputs": [],
      "source": [
        "del results"
      ]
    },
    {
      "cell_type": "markdown",
      "source": [
        "Готовлю признаки для предсказания моделью."
      ],
      "metadata": {
        "id": "J2zEO2aej_Lk"
      }
    },
    {
      "cell_type": "code",
      "execution_count": 65,
      "metadata": {
        "id": "UKxTGXdueU51"
      },
      "outputs": [],
      "source": [
        "df_candidates = train[['Id'] + list(feature_columns)]"
      ]
    },
    {
      "cell_type": "code",
      "execution_count": 66,
      "metadata": {
        "id": "zD4WjRxSeU9C",
        "colab": {
          "base_uri": "https://localhost:8080/"
        },
        "outputId": "55398ac9-c0ca-48da-f0d2-3192525d4998"
      },
      "outputs": [
        {
          "output_type": "stream",
          "name": "stderr",
          "text": [
            "<ipython-input-66-6ac1ace7dbb4>:1: SettingWithCopyWarning: \n",
            "A value is trying to be set on a copy of a slice from a DataFrame.\n",
            "Try using .loc[row_indexer,col_indexer] = value instead\n",
            "\n",
            "See the caveats in the documentation: https://pandas.pydata.org/pandas-docs/stable/user_guide/indexing.html#returning-a-view-versus-a-copy\n",
            "  df_candidates['target_index'] = list(I)\n"
          ]
        }
      ],
      "source": [
        "df_candidates['target_index'] = list(I)"
      ]
    },
    {
      "cell_type": "code",
      "execution_count": 67,
      "metadata": {
        "id": "CYD8bIaoeVD1"
      },
      "outputs": [],
      "source": [
        "df_candidates = df_candidates.explode(\"target_index\", ignore_index=True)"
      ]
    },
    {
      "cell_type": "code",
      "execution_count": 68,
      "metadata": {
        "id": "BEno4Q3REosq"
      },
      "outputs": [],
      "source": [
        "df_candidates['target'] = df_candidates['target_index'].apply(lambda x: id_base_dict[x])"
      ]
    },
    {
      "cell_type": "code",
      "execution_count": 69,
      "metadata": {
        "id": "IMacQP7KvibI",
        "colab": {
          "base_uri": "https://localhost:8080/",
          "height": 386
        },
        "outputId": "7f7dace8-52ca-4b86-8de8-fe49621ca2ff"
      },
      "outputs": [
        {
          "output_type": "execute_result",
          "data": {
            "text/plain": [
              "        Id         0         1         2         3       4         5  \\\n",
              "0  0-query  1.299519  1.996888  0.063774 -1.879671  1.6441 -0.537626   \n",
              "1  0-query  1.299519  1.996888  0.063774 -1.879671  1.6441 -0.537626   \n",
              "2  0-query  1.299519  1.996888  0.063774 -1.879671  1.6441 -0.537626   \n",
              "3  0-query  1.299519  1.996888  0.063774 -1.879671  1.6441 -0.537626   \n",
              "4  0-query  1.299519  1.996888  0.063774 -1.879671  1.6441 -0.537626   \n",
              "\n",
              "          7         8         9  ...        62        63       64        66  \\\n",
              "0  0.279598 -2.296794 -1.459626  ... -0.866975  1.274319 -0.02441 -1.035388   \n",
              "1  0.279598 -2.296794 -1.459626  ... -0.866975  1.274319 -0.02441 -1.035388   \n",
              "2  0.279598 -2.296794 -1.459626  ... -0.866975  1.274319 -0.02441 -1.035388   \n",
              "3  0.279598 -2.296794 -1.459626  ... -0.866975  1.274319 -0.02441 -1.035388   \n",
              "4  0.279598 -2.296794 -1.459626  ... -0.866975  1.274319 -0.02441 -1.035388   \n",
              "\n",
              "         67        68        69        71  target_index        target  \n",
              "0  0.197184 -0.200786  0.906575  0.522963        336969   361564-base  \n",
              "1  0.197184 -0.200786  0.906575  0.522963       1113711  1375561-base  \n",
              "2  0.197184 -0.200786  0.906575  0.522963       1818641  2515747-base  \n",
              "3  0.197184 -0.200786  0.906575  0.522963        480296   530165-base  \n",
              "4  0.197184 -0.200786  0.906575  0.522963        232405   244376-base  \n",
              "\n",
              "[5 rows x 67 columns]"
            ],
            "text/html": [
              "\n",
              "  <div id=\"df-191619cc-a621-452e-ae75-abdbf3f48bfa\">\n",
              "    <div class=\"colab-df-container\">\n",
              "      <div>\n",
              "<style scoped>\n",
              "    .dataframe tbody tr th:only-of-type {\n",
              "        vertical-align: middle;\n",
              "    }\n",
              "\n",
              "    .dataframe tbody tr th {\n",
              "        vertical-align: top;\n",
              "    }\n",
              "\n",
              "    .dataframe thead th {\n",
              "        text-align: right;\n",
              "    }\n",
              "</style>\n",
              "<table border=\"1\" class=\"dataframe\">\n",
              "  <thead>\n",
              "    <tr style=\"text-align: right;\">\n",
              "      <th></th>\n",
              "      <th>Id</th>\n",
              "      <th>0</th>\n",
              "      <th>1</th>\n",
              "      <th>2</th>\n",
              "      <th>3</th>\n",
              "      <th>4</th>\n",
              "      <th>5</th>\n",
              "      <th>7</th>\n",
              "      <th>8</th>\n",
              "      <th>9</th>\n",
              "      <th>...</th>\n",
              "      <th>62</th>\n",
              "      <th>63</th>\n",
              "      <th>64</th>\n",
              "      <th>66</th>\n",
              "      <th>67</th>\n",
              "      <th>68</th>\n",
              "      <th>69</th>\n",
              "      <th>71</th>\n",
              "      <th>target_index</th>\n",
              "      <th>target</th>\n",
              "    </tr>\n",
              "  </thead>\n",
              "  <tbody>\n",
              "    <tr>\n",
              "      <th>0</th>\n",
              "      <td>0-query</td>\n",
              "      <td>1.299519</td>\n",
              "      <td>1.996888</td>\n",
              "      <td>0.063774</td>\n",
              "      <td>-1.879671</td>\n",
              "      <td>1.6441</td>\n",
              "      <td>-0.537626</td>\n",
              "      <td>0.279598</td>\n",
              "      <td>-2.296794</td>\n",
              "      <td>-1.459626</td>\n",
              "      <td>...</td>\n",
              "      <td>-0.866975</td>\n",
              "      <td>1.274319</td>\n",
              "      <td>-0.02441</td>\n",
              "      <td>-1.035388</td>\n",
              "      <td>0.197184</td>\n",
              "      <td>-0.200786</td>\n",
              "      <td>0.906575</td>\n",
              "      <td>0.522963</td>\n",
              "      <td>336969</td>\n",
              "      <td>361564-base</td>\n",
              "    </tr>\n",
              "    <tr>\n",
              "      <th>1</th>\n",
              "      <td>0-query</td>\n",
              "      <td>1.299519</td>\n",
              "      <td>1.996888</td>\n",
              "      <td>0.063774</td>\n",
              "      <td>-1.879671</td>\n",
              "      <td>1.6441</td>\n",
              "      <td>-0.537626</td>\n",
              "      <td>0.279598</td>\n",
              "      <td>-2.296794</td>\n",
              "      <td>-1.459626</td>\n",
              "      <td>...</td>\n",
              "      <td>-0.866975</td>\n",
              "      <td>1.274319</td>\n",
              "      <td>-0.02441</td>\n",
              "      <td>-1.035388</td>\n",
              "      <td>0.197184</td>\n",
              "      <td>-0.200786</td>\n",
              "      <td>0.906575</td>\n",
              "      <td>0.522963</td>\n",
              "      <td>1113711</td>\n",
              "      <td>1375561-base</td>\n",
              "    </tr>\n",
              "    <tr>\n",
              "      <th>2</th>\n",
              "      <td>0-query</td>\n",
              "      <td>1.299519</td>\n",
              "      <td>1.996888</td>\n",
              "      <td>0.063774</td>\n",
              "      <td>-1.879671</td>\n",
              "      <td>1.6441</td>\n",
              "      <td>-0.537626</td>\n",
              "      <td>0.279598</td>\n",
              "      <td>-2.296794</td>\n",
              "      <td>-1.459626</td>\n",
              "      <td>...</td>\n",
              "      <td>-0.866975</td>\n",
              "      <td>1.274319</td>\n",
              "      <td>-0.02441</td>\n",
              "      <td>-1.035388</td>\n",
              "      <td>0.197184</td>\n",
              "      <td>-0.200786</td>\n",
              "      <td>0.906575</td>\n",
              "      <td>0.522963</td>\n",
              "      <td>1818641</td>\n",
              "      <td>2515747-base</td>\n",
              "    </tr>\n",
              "    <tr>\n",
              "      <th>3</th>\n",
              "      <td>0-query</td>\n",
              "      <td>1.299519</td>\n",
              "      <td>1.996888</td>\n",
              "      <td>0.063774</td>\n",
              "      <td>-1.879671</td>\n",
              "      <td>1.6441</td>\n",
              "      <td>-0.537626</td>\n",
              "      <td>0.279598</td>\n",
              "      <td>-2.296794</td>\n",
              "      <td>-1.459626</td>\n",
              "      <td>...</td>\n",
              "      <td>-0.866975</td>\n",
              "      <td>1.274319</td>\n",
              "      <td>-0.02441</td>\n",
              "      <td>-1.035388</td>\n",
              "      <td>0.197184</td>\n",
              "      <td>-0.200786</td>\n",
              "      <td>0.906575</td>\n",
              "      <td>0.522963</td>\n",
              "      <td>480296</td>\n",
              "      <td>530165-base</td>\n",
              "    </tr>\n",
              "    <tr>\n",
              "      <th>4</th>\n",
              "      <td>0-query</td>\n",
              "      <td>1.299519</td>\n",
              "      <td>1.996888</td>\n",
              "      <td>0.063774</td>\n",
              "      <td>-1.879671</td>\n",
              "      <td>1.6441</td>\n",
              "      <td>-0.537626</td>\n",
              "      <td>0.279598</td>\n",
              "      <td>-2.296794</td>\n",
              "      <td>-1.459626</td>\n",
              "      <td>...</td>\n",
              "      <td>-0.866975</td>\n",
              "      <td>1.274319</td>\n",
              "      <td>-0.02441</td>\n",
              "      <td>-1.035388</td>\n",
              "      <td>0.197184</td>\n",
              "      <td>-0.200786</td>\n",
              "      <td>0.906575</td>\n",
              "      <td>0.522963</td>\n",
              "      <td>232405</td>\n",
              "      <td>244376-base</td>\n",
              "    </tr>\n",
              "  </tbody>\n",
              "</table>\n",
              "<p>5 rows × 67 columns</p>\n",
              "</div>\n",
              "      <button class=\"colab-df-convert\" onclick=\"convertToInteractive('df-191619cc-a621-452e-ae75-abdbf3f48bfa')\"\n",
              "              title=\"Convert this dataframe to an interactive table.\"\n",
              "              style=\"display:none;\">\n",
              "        \n",
              "  <svg xmlns=\"http://www.w3.org/2000/svg\" height=\"24px\"viewBox=\"0 0 24 24\"\n",
              "       width=\"24px\">\n",
              "    <path d=\"M0 0h24v24H0V0z\" fill=\"none\"/>\n",
              "    <path d=\"M18.56 5.44l.94 2.06.94-2.06 2.06-.94-2.06-.94-.94-2.06-.94 2.06-2.06.94zm-11 1L8.5 8.5l.94-2.06 2.06-.94-2.06-.94L8.5 2.5l-.94 2.06-2.06.94zm10 10l.94 2.06.94-2.06 2.06-.94-2.06-.94-.94-2.06-.94 2.06-2.06.94z\"/><path d=\"M17.41 7.96l-1.37-1.37c-.4-.4-.92-.59-1.43-.59-.52 0-1.04.2-1.43.59L10.3 9.45l-7.72 7.72c-.78.78-.78 2.05 0 2.83L4 21.41c.39.39.9.59 1.41.59.51 0 1.02-.2 1.41-.59l7.78-7.78 2.81-2.81c.8-.78.8-2.07 0-2.86zM5.41 20L4 18.59l7.72-7.72 1.47 1.35L5.41 20z\"/>\n",
              "  </svg>\n",
              "      </button>\n",
              "      \n",
              "  <style>\n",
              "    .colab-df-container {\n",
              "      display:flex;\n",
              "      flex-wrap:wrap;\n",
              "      gap: 12px;\n",
              "    }\n",
              "\n",
              "    .colab-df-convert {\n",
              "      background-color: #E8F0FE;\n",
              "      border: none;\n",
              "      border-radius: 50%;\n",
              "      cursor: pointer;\n",
              "      display: none;\n",
              "      fill: #1967D2;\n",
              "      height: 32px;\n",
              "      padding: 0 0 0 0;\n",
              "      width: 32px;\n",
              "    }\n",
              "\n",
              "    .colab-df-convert:hover {\n",
              "      background-color: #E2EBFA;\n",
              "      box-shadow: 0px 1px 2px rgba(60, 64, 67, 0.3), 0px 1px 3px 1px rgba(60, 64, 67, 0.15);\n",
              "      fill: #174EA6;\n",
              "    }\n",
              "\n",
              "    [theme=dark] .colab-df-convert {\n",
              "      background-color: #3B4455;\n",
              "      fill: #D2E3FC;\n",
              "    }\n",
              "\n",
              "    [theme=dark] .colab-df-convert:hover {\n",
              "      background-color: #434B5C;\n",
              "      box-shadow: 0px 1px 3px 1px rgba(0, 0, 0, 0.15);\n",
              "      filter: drop-shadow(0px 1px 2px rgba(0, 0, 0, 0.3));\n",
              "      fill: #FFFFFF;\n",
              "    }\n",
              "  </style>\n",
              "\n",
              "      <script>\n",
              "        const buttonEl =\n",
              "          document.querySelector('#df-191619cc-a621-452e-ae75-abdbf3f48bfa button.colab-df-convert');\n",
              "        buttonEl.style.display =\n",
              "          google.colab.kernel.accessAllowed ? 'block' : 'none';\n",
              "\n",
              "        async function convertToInteractive(key) {\n",
              "          const element = document.querySelector('#df-191619cc-a621-452e-ae75-abdbf3f48bfa');\n",
              "          const dataTable =\n",
              "            await google.colab.kernel.invokeFunction('convertToInteractive',\n",
              "                                                     [key], {});\n",
              "          if (!dataTable) return;\n",
              "\n",
              "          const docLinkHtml = 'Like what you see? Visit the ' +\n",
              "            '<a target=\"_blank\" href=https://colab.research.google.com/notebooks/data_table.ipynb>data table notebook</a>'\n",
              "            + ' to learn more about interactive tables.';\n",
              "          element.innerHTML = '';\n",
              "          dataTable['output_type'] = 'display_data';\n",
              "          await google.colab.output.renderOutput(dataTable, element);\n",
              "          const docLink = document.createElement('div');\n",
              "          docLink.innerHTML = docLinkHtml;\n",
              "          element.appendChild(docLink);\n",
              "        }\n",
              "      </script>\n",
              "    </div>\n",
              "  </div>\n",
              "  "
            ]
          },
          "metadata": {},
          "execution_count": 69
        }
      ],
      "source": [
        "df_candidates.head()"
      ]
    },
    {
      "cell_type": "code",
      "execution_count": 70,
      "metadata": {
        "id": "W9qnyj0rvidm"
      },
      "outputs": [],
      "source": [
        "candidates_features = df_candidates.merge(base, on='target')[lr_features] "
      ]
    },
    {
      "cell_type": "code",
      "source": [
        "df_candidates = df_candidates[['Id', 'target']]"
      ],
      "metadata": {
        "id": "rg_uCDayZRjO"
      },
      "execution_count": 71,
      "outputs": []
    },
    {
      "cell_type": "markdown",
      "source": [
        "Получаю вероятности."
      ],
      "metadata": {
        "id": "zSN93qe58CUB"
      }
    },
    {
      "cell_type": "code",
      "execution_count": 72,
      "metadata": {
        "id": "n9_ZYlEzvim3",
        "colab": {
          "base_uri": "https://localhost:8080/"
        },
        "outputId": "1ec6b02c-8f3d-4aff-e8d1-897103a43e06"
      },
      "outputs": [
        {
          "output_type": "execute_result",
          "data": {
            "text/plain": [
              "array([0.60554368, 0.60792227, 0.59095321, ..., 0.48954183, 0.51774251,\n",
              "       0.48435692])"
            ]
          },
          "metadata": {},
          "execution_count": 72
        }
      ],
      "source": [
        "probabilities_valid = model.predict_proba(candidates_features)\n",
        "probabilities_one_valid = probabilities_valid[:, 1]\n",
        "probabilities_one_valid"
      ]
    },
    {
      "cell_type": "code",
      "execution_count": 73,
      "metadata": {
        "id": "jK9BMO9EPst6"
      },
      "outputs": [],
      "source": [
        "del candidates_features"
      ]
    },
    {
      "cell_type": "code",
      "execution_count": 74,
      "metadata": {
        "id": "4oDQ8Lr1vipy"
      },
      "outputs": [],
      "source": [
        "df_candidates['probability'] = probabilities_one_valid"
      ]
    },
    {
      "cell_type": "markdown",
      "source": [
        "Сортирую по убыванию вероятностей и получаю отранжированный топ-10."
      ],
      "metadata": {
        "id": "8-ltWy3z8Gqu"
      }
    },
    {
      "cell_type": "code",
      "execution_count": 75,
      "metadata": {
        "id": "WH3xJVlbR7Hc"
      },
      "outputs": [],
      "source": [
        "df_candidates = df_candidates.sort_values(by=['Id', 'probability'], ascending=[True, False])"
      ]
    },
    {
      "cell_type": "code",
      "execution_count": 76,
      "metadata": {
        "id": "EVJGjcGQR7fc"
      },
      "outputs": [],
      "source": [
        "df_candidates['number'] = df_candidates.groupby('Id').cumcount()"
      ]
    },
    {
      "cell_type": "code",
      "execution_count": 77,
      "metadata": {
        "id": "rJwbJQg8R7jI"
      },
      "outputs": [],
      "source": [
        "results = df_candidates[df_candidates['number'] < 10]"
      ]
    },
    {
      "cell_type": "code",
      "source": [
        "results.head(20)"
      ],
      "metadata": {
        "id": "M5Pqo7EFi5QB",
        "colab": {
          "base_uri": "https://localhost:8080/",
          "height": 677
        },
        "outputId": "fdf2ef6b-efc5-456f-bd65-4e2c1a1d475b"
      },
      "execution_count": 90,
      "outputs": [
        {
          "output_type": "execute_result",
          "data": {
            "text/plain": [
              "         Id        target  probability  number\n",
              "3   0-query   530165-base     0.631472       0\n",
              "11  0-query    91611-base     0.613592       1\n",
              "4   0-query   244376-base     0.612901       2\n",
              "1   0-query  1375561-base     0.607922       3\n",
              "6   0-query  3543241-base     0.606616       4\n",
              "0   0-query   361564-base     0.605544       5\n",
              "12  0-query  1668267-base     0.603633       6\n",
              "9   0-query   877519-base     0.602835       7\n",
              "10  0-query   715085-base     0.598321       8\n",
              "14  0-query  1265224-base     0.595532       9\n",
              "15  1-query    15226-base     0.619360       0\n",
              "29  1-query   165320-base     0.603229       1\n",
              "23  1-query   356353-base     0.601263       2\n",
              "17  1-query   854272-base     0.600565       3\n",
              "25  1-query   511045-base     0.595107       4\n",
              "19  1-query   234491-base     0.594212       5\n",
              "28  1-query   231406-base     0.592375       6\n",
              "22  1-query  1075687-base     0.590392       7\n",
              "26  1-query   365050-base     0.583206       8\n",
              "16  1-query   577617-base     0.582797       9"
            ],
            "text/html": [
              "\n",
              "  <div id=\"df-43cf59e2-1406-4374-97da-dc55d1444f08\">\n",
              "    <div class=\"colab-df-container\">\n",
              "      <div>\n",
              "<style scoped>\n",
              "    .dataframe tbody tr th:only-of-type {\n",
              "        vertical-align: middle;\n",
              "    }\n",
              "\n",
              "    .dataframe tbody tr th {\n",
              "        vertical-align: top;\n",
              "    }\n",
              "\n",
              "    .dataframe thead th {\n",
              "        text-align: right;\n",
              "    }\n",
              "</style>\n",
              "<table border=\"1\" class=\"dataframe\">\n",
              "  <thead>\n",
              "    <tr style=\"text-align: right;\">\n",
              "      <th></th>\n",
              "      <th>Id</th>\n",
              "      <th>target</th>\n",
              "      <th>probability</th>\n",
              "      <th>number</th>\n",
              "    </tr>\n",
              "  </thead>\n",
              "  <tbody>\n",
              "    <tr>\n",
              "      <th>3</th>\n",
              "      <td>0-query</td>\n",
              "      <td>530165-base</td>\n",
              "      <td>0.631472</td>\n",
              "      <td>0</td>\n",
              "    </tr>\n",
              "    <tr>\n",
              "      <th>11</th>\n",
              "      <td>0-query</td>\n",
              "      <td>91611-base</td>\n",
              "      <td>0.613592</td>\n",
              "      <td>1</td>\n",
              "    </tr>\n",
              "    <tr>\n",
              "      <th>4</th>\n",
              "      <td>0-query</td>\n",
              "      <td>244376-base</td>\n",
              "      <td>0.612901</td>\n",
              "      <td>2</td>\n",
              "    </tr>\n",
              "    <tr>\n",
              "      <th>1</th>\n",
              "      <td>0-query</td>\n",
              "      <td>1375561-base</td>\n",
              "      <td>0.607922</td>\n",
              "      <td>3</td>\n",
              "    </tr>\n",
              "    <tr>\n",
              "      <th>6</th>\n",
              "      <td>0-query</td>\n",
              "      <td>3543241-base</td>\n",
              "      <td>0.606616</td>\n",
              "      <td>4</td>\n",
              "    </tr>\n",
              "    <tr>\n",
              "      <th>0</th>\n",
              "      <td>0-query</td>\n",
              "      <td>361564-base</td>\n",
              "      <td>0.605544</td>\n",
              "      <td>5</td>\n",
              "    </tr>\n",
              "    <tr>\n",
              "      <th>12</th>\n",
              "      <td>0-query</td>\n",
              "      <td>1668267-base</td>\n",
              "      <td>0.603633</td>\n",
              "      <td>6</td>\n",
              "    </tr>\n",
              "    <tr>\n",
              "      <th>9</th>\n",
              "      <td>0-query</td>\n",
              "      <td>877519-base</td>\n",
              "      <td>0.602835</td>\n",
              "      <td>7</td>\n",
              "    </tr>\n",
              "    <tr>\n",
              "      <th>10</th>\n",
              "      <td>0-query</td>\n",
              "      <td>715085-base</td>\n",
              "      <td>0.598321</td>\n",
              "      <td>8</td>\n",
              "    </tr>\n",
              "    <tr>\n",
              "      <th>14</th>\n",
              "      <td>0-query</td>\n",
              "      <td>1265224-base</td>\n",
              "      <td>0.595532</td>\n",
              "      <td>9</td>\n",
              "    </tr>\n",
              "    <tr>\n",
              "      <th>15</th>\n",
              "      <td>1-query</td>\n",
              "      <td>15226-base</td>\n",
              "      <td>0.619360</td>\n",
              "      <td>0</td>\n",
              "    </tr>\n",
              "    <tr>\n",
              "      <th>29</th>\n",
              "      <td>1-query</td>\n",
              "      <td>165320-base</td>\n",
              "      <td>0.603229</td>\n",
              "      <td>1</td>\n",
              "    </tr>\n",
              "    <tr>\n",
              "      <th>23</th>\n",
              "      <td>1-query</td>\n",
              "      <td>356353-base</td>\n",
              "      <td>0.601263</td>\n",
              "      <td>2</td>\n",
              "    </tr>\n",
              "    <tr>\n",
              "      <th>17</th>\n",
              "      <td>1-query</td>\n",
              "      <td>854272-base</td>\n",
              "      <td>0.600565</td>\n",
              "      <td>3</td>\n",
              "    </tr>\n",
              "    <tr>\n",
              "      <th>25</th>\n",
              "      <td>1-query</td>\n",
              "      <td>511045-base</td>\n",
              "      <td>0.595107</td>\n",
              "      <td>4</td>\n",
              "    </tr>\n",
              "    <tr>\n",
              "      <th>19</th>\n",
              "      <td>1-query</td>\n",
              "      <td>234491-base</td>\n",
              "      <td>0.594212</td>\n",
              "      <td>5</td>\n",
              "    </tr>\n",
              "    <tr>\n",
              "      <th>28</th>\n",
              "      <td>1-query</td>\n",
              "      <td>231406-base</td>\n",
              "      <td>0.592375</td>\n",
              "      <td>6</td>\n",
              "    </tr>\n",
              "    <tr>\n",
              "      <th>22</th>\n",
              "      <td>1-query</td>\n",
              "      <td>1075687-base</td>\n",
              "      <td>0.590392</td>\n",
              "      <td>7</td>\n",
              "    </tr>\n",
              "    <tr>\n",
              "      <th>26</th>\n",
              "      <td>1-query</td>\n",
              "      <td>365050-base</td>\n",
              "      <td>0.583206</td>\n",
              "      <td>8</td>\n",
              "    </tr>\n",
              "    <tr>\n",
              "      <th>16</th>\n",
              "      <td>1-query</td>\n",
              "      <td>577617-base</td>\n",
              "      <td>0.582797</td>\n",
              "      <td>9</td>\n",
              "    </tr>\n",
              "  </tbody>\n",
              "</table>\n",
              "</div>\n",
              "      <button class=\"colab-df-convert\" onclick=\"convertToInteractive('df-43cf59e2-1406-4374-97da-dc55d1444f08')\"\n",
              "              title=\"Convert this dataframe to an interactive table.\"\n",
              "              style=\"display:none;\">\n",
              "        \n",
              "  <svg xmlns=\"http://www.w3.org/2000/svg\" height=\"24px\"viewBox=\"0 0 24 24\"\n",
              "       width=\"24px\">\n",
              "    <path d=\"M0 0h24v24H0V0z\" fill=\"none\"/>\n",
              "    <path d=\"M18.56 5.44l.94 2.06.94-2.06 2.06-.94-2.06-.94-.94-2.06-.94 2.06-2.06.94zm-11 1L8.5 8.5l.94-2.06 2.06-.94-2.06-.94L8.5 2.5l-.94 2.06-2.06.94zm10 10l.94 2.06.94-2.06 2.06-.94-2.06-.94-.94-2.06-.94 2.06-2.06.94z\"/><path d=\"M17.41 7.96l-1.37-1.37c-.4-.4-.92-.59-1.43-.59-.52 0-1.04.2-1.43.59L10.3 9.45l-7.72 7.72c-.78.78-.78 2.05 0 2.83L4 21.41c.39.39.9.59 1.41.59.51 0 1.02-.2 1.41-.59l7.78-7.78 2.81-2.81c.8-.78.8-2.07 0-2.86zM5.41 20L4 18.59l7.72-7.72 1.47 1.35L5.41 20z\"/>\n",
              "  </svg>\n",
              "      </button>\n",
              "      \n",
              "  <style>\n",
              "    .colab-df-container {\n",
              "      display:flex;\n",
              "      flex-wrap:wrap;\n",
              "      gap: 12px;\n",
              "    }\n",
              "\n",
              "    .colab-df-convert {\n",
              "      background-color: #E8F0FE;\n",
              "      border: none;\n",
              "      border-radius: 50%;\n",
              "      cursor: pointer;\n",
              "      display: none;\n",
              "      fill: #1967D2;\n",
              "      height: 32px;\n",
              "      padding: 0 0 0 0;\n",
              "      width: 32px;\n",
              "    }\n",
              "\n",
              "    .colab-df-convert:hover {\n",
              "      background-color: #E2EBFA;\n",
              "      box-shadow: 0px 1px 2px rgba(60, 64, 67, 0.3), 0px 1px 3px 1px rgba(60, 64, 67, 0.15);\n",
              "      fill: #174EA6;\n",
              "    }\n",
              "\n",
              "    [theme=dark] .colab-df-convert {\n",
              "      background-color: #3B4455;\n",
              "      fill: #D2E3FC;\n",
              "    }\n",
              "\n",
              "    [theme=dark] .colab-df-convert:hover {\n",
              "      background-color: #434B5C;\n",
              "      box-shadow: 0px 1px 3px 1px rgba(0, 0, 0, 0.15);\n",
              "      filter: drop-shadow(0px 1px 2px rgba(0, 0, 0, 0.3));\n",
              "      fill: #FFFFFF;\n",
              "    }\n",
              "  </style>\n",
              "\n",
              "      <script>\n",
              "        const buttonEl =\n",
              "          document.querySelector('#df-43cf59e2-1406-4374-97da-dc55d1444f08 button.colab-df-convert');\n",
              "        buttonEl.style.display =\n",
              "          google.colab.kernel.accessAllowed ? 'block' : 'none';\n",
              "\n",
              "        async function convertToInteractive(key) {\n",
              "          const element = document.querySelector('#df-43cf59e2-1406-4374-97da-dc55d1444f08');\n",
              "          const dataTable =\n",
              "            await google.colab.kernel.invokeFunction('convertToInteractive',\n",
              "                                                     [key], {});\n",
              "          if (!dataTable) return;\n",
              "\n",
              "          const docLinkHtml = 'Like what you see? Visit the ' +\n",
              "            '<a target=\"_blank\" href=https://colab.research.google.com/notebooks/data_table.ipynb>data table notebook</a>'\n",
              "            + ' to learn more about interactive tables.';\n",
              "          element.innerHTML = '';\n",
              "          dataTable['output_type'] = 'display_data';\n",
              "          await google.colab.output.renderOutput(dataTable, element);\n",
              "          const docLink = document.createElement('div');\n",
              "          docLink.innerHTML = docLinkHtml;\n",
              "          element.appendChild(docLink);\n",
              "        }\n",
              "      </script>\n",
              "    </div>\n",
              "  </div>\n",
              "  "
            ]
          },
          "metadata": {},
          "execution_count": 90
        }
      ]
    },
    {
      "cell_type": "code",
      "source": [
        "results1 = results.copy()"
      ],
      "metadata": {
        "id": "AS45-3UZjcZ4"
      },
      "execution_count": 79,
      "outputs": []
    },
    {
      "cell_type": "code",
      "execution_count": 80,
      "metadata": {
        "id": "5YPlRhf-TDDE",
        "colab": {
          "base_uri": "https://localhost:8080/",
          "height": 261
        },
        "outputId": "d84cfb7e-6e36-4ba6-dd27-85fbe545dcbd"
      },
      "outputs": [
        {
          "output_type": "stream",
          "name": "stderr",
          "text": [
            "<ipython-input-80-6c3be2a95eba>:1: FutureWarning: Dropping invalid columns in DataFrameGroupBy.transform is deprecated. In a future version, a TypeError will be raised. Before calling .transform, select only columns which should be valid for the function.\n",
            "  results1['top10'] = results1.groupby('Id').transform(lambda x: ' '.join(x))\n"
          ]
        },
        {
          "output_type": "execute_result",
          "data": {
            "text/plain": [
              "           Id                                              top10\n",
              "0     0-query  530165-base 91611-base 244376-base 1375561-bas...\n",
              "1     1-query  15226-base 165320-base 356353-base 854272-base...\n",
              "2    10-query  3554046-base 3006692-base 1790410-base 418450-...\n",
              "3   100-query  1899-base 2423917-base 1811437-base 1211397-ba...\n",
              "4  1000-query  179355-base 3342261-base 3727283-base 1653160-..."
            ],
            "text/html": [
              "\n",
              "  <div id=\"df-6b5bcaa4-50d3-4036-bffd-37670883f561\">\n",
              "    <div class=\"colab-df-container\">\n",
              "      <div>\n",
              "<style scoped>\n",
              "    .dataframe tbody tr th:only-of-type {\n",
              "        vertical-align: middle;\n",
              "    }\n",
              "\n",
              "    .dataframe tbody tr th {\n",
              "        vertical-align: top;\n",
              "    }\n",
              "\n",
              "    .dataframe thead th {\n",
              "        text-align: right;\n",
              "    }\n",
              "</style>\n",
              "<table border=\"1\" class=\"dataframe\">\n",
              "  <thead>\n",
              "    <tr style=\"text-align: right;\">\n",
              "      <th></th>\n",
              "      <th>Id</th>\n",
              "      <th>top10</th>\n",
              "    </tr>\n",
              "  </thead>\n",
              "  <tbody>\n",
              "    <tr>\n",
              "      <th>0</th>\n",
              "      <td>0-query</td>\n",
              "      <td>530165-base 91611-base 244376-base 1375561-bas...</td>\n",
              "    </tr>\n",
              "    <tr>\n",
              "      <th>1</th>\n",
              "      <td>1-query</td>\n",
              "      <td>15226-base 165320-base 356353-base 854272-base...</td>\n",
              "    </tr>\n",
              "    <tr>\n",
              "      <th>2</th>\n",
              "      <td>10-query</td>\n",
              "      <td>3554046-base 3006692-base 1790410-base 418450-...</td>\n",
              "    </tr>\n",
              "    <tr>\n",
              "      <th>3</th>\n",
              "      <td>100-query</td>\n",
              "      <td>1899-base 2423917-base 1811437-base 1211397-ba...</td>\n",
              "    </tr>\n",
              "    <tr>\n",
              "      <th>4</th>\n",
              "      <td>1000-query</td>\n",
              "      <td>179355-base 3342261-base 3727283-base 1653160-...</td>\n",
              "    </tr>\n",
              "  </tbody>\n",
              "</table>\n",
              "</div>\n",
              "      <button class=\"colab-df-convert\" onclick=\"convertToInteractive('df-6b5bcaa4-50d3-4036-bffd-37670883f561')\"\n",
              "              title=\"Convert this dataframe to an interactive table.\"\n",
              "              style=\"display:none;\">\n",
              "        \n",
              "  <svg xmlns=\"http://www.w3.org/2000/svg\" height=\"24px\"viewBox=\"0 0 24 24\"\n",
              "       width=\"24px\">\n",
              "    <path d=\"M0 0h24v24H0V0z\" fill=\"none\"/>\n",
              "    <path d=\"M18.56 5.44l.94 2.06.94-2.06 2.06-.94-2.06-.94-.94-2.06-.94 2.06-2.06.94zm-11 1L8.5 8.5l.94-2.06 2.06-.94-2.06-.94L8.5 2.5l-.94 2.06-2.06.94zm10 10l.94 2.06.94-2.06 2.06-.94-2.06-.94-.94-2.06-.94 2.06-2.06.94z\"/><path d=\"M17.41 7.96l-1.37-1.37c-.4-.4-.92-.59-1.43-.59-.52 0-1.04.2-1.43.59L10.3 9.45l-7.72 7.72c-.78.78-.78 2.05 0 2.83L4 21.41c.39.39.9.59 1.41.59.51 0 1.02-.2 1.41-.59l7.78-7.78 2.81-2.81c.8-.78.8-2.07 0-2.86zM5.41 20L4 18.59l7.72-7.72 1.47 1.35L5.41 20z\"/>\n",
              "  </svg>\n",
              "      </button>\n",
              "      \n",
              "  <style>\n",
              "    .colab-df-container {\n",
              "      display:flex;\n",
              "      flex-wrap:wrap;\n",
              "      gap: 12px;\n",
              "    }\n",
              "\n",
              "    .colab-df-convert {\n",
              "      background-color: #E8F0FE;\n",
              "      border: none;\n",
              "      border-radius: 50%;\n",
              "      cursor: pointer;\n",
              "      display: none;\n",
              "      fill: #1967D2;\n",
              "      height: 32px;\n",
              "      padding: 0 0 0 0;\n",
              "      width: 32px;\n",
              "    }\n",
              "\n",
              "    .colab-df-convert:hover {\n",
              "      background-color: #E2EBFA;\n",
              "      box-shadow: 0px 1px 2px rgba(60, 64, 67, 0.3), 0px 1px 3px 1px rgba(60, 64, 67, 0.15);\n",
              "      fill: #174EA6;\n",
              "    }\n",
              "\n",
              "    [theme=dark] .colab-df-convert {\n",
              "      background-color: #3B4455;\n",
              "      fill: #D2E3FC;\n",
              "    }\n",
              "\n",
              "    [theme=dark] .colab-df-convert:hover {\n",
              "      background-color: #434B5C;\n",
              "      box-shadow: 0px 1px 3px 1px rgba(0, 0, 0, 0.15);\n",
              "      filter: drop-shadow(0px 1px 2px rgba(0, 0, 0, 0.3));\n",
              "      fill: #FFFFFF;\n",
              "    }\n",
              "  </style>\n",
              "\n",
              "      <script>\n",
              "        const buttonEl =\n",
              "          document.querySelector('#df-6b5bcaa4-50d3-4036-bffd-37670883f561 button.colab-df-convert');\n",
              "        buttonEl.style.display =\n",
              "          google.colab.kernel.accessAllowed ? 'block' : 'none';\n",
              "\n",
              "        async function convertToInteractive(key) {\n",
              "          const element = document.querySelector('#df-6b5bcaa4-50d3-4036-bffd-37670883f561');\n",
              "          const dataTable =\n",
              "            await google.colab.kernel.invokeFunction('convertToInteractive',\n",
              "                                                     [key], {});\n",
              "          if (!dataTable) return;\n",
              "\n",
              "          const docLinkHtml = 'Like what you see? Visit the ' +\n",
              "            '<a target=\"_blank\" href=https://colab.research.google.com/notebooks/data_table.ipynb>data table notebook</a>'\n",
              "            + ' to learn more about interactive tables.';\n",
              "          element.innerHTML = '';\n",
              "          dataTable['output_type'] = 'display_data';\n",
              "          await google.colab.output.renderOutput(dataTable, element);\n",
              "          const docLink = document.createElement('div');\n",
              "          docLink.innerHTML = docLinkHtml;\n",
              "          element.appendChild(docLink);\n",
              "        }\n",
              "      </script>\n",
              "    </div>\n",
              "  </div>\n",
              "  "
            ]
          },
          "metadata": {},
          "execution_count": 80
        }
      ],
      "source": [
        "results1['top10'] = results1.groupby('Id').transform(lambda x: ' '.join(x))\n",
        "results1 = results1[['Id', 'top10']].drop_duplicates().reset_index(drop=True)\n",
        "results1.head()"
      ]
    },
    {
      "cell_type": "markdown",
      "source": [
        "В итоге метрика на топ-10 после ранжирования сильно хуже чем при получении топ-10 только векторным поиском."
      ],
      "metadata": {
        "id": "VB7auRLF8eR5"
      }
    },
    {
      "cell_type": "code",
      "source": [
        "results1 = results1.merge(train[['Id', 'target']], how='inner', on='Id')"
      ],
      "metadata": {
        "id": "p3RFOSMWtI83"
      },
      "execution_count": 85,
      "outputs": []
    },
    {
      "cell_type": "code",
      "execution_count": 86,
      "metadata": {
        "id": "r_kkgka2TDW_"
      },
      "outputs": [],
      "source": [
        "results1['true'] = results1.apply(lambda x: 1 \n",
        "                                if x['target'] in x['top10'].split(' ') else 0, axis=1)"
      ]
    },
    {
      "cell_type": "code",
      "execution_count": 88,
      "metadata": {
        "id": "tj4F79rcS62z",
        "colab": {
          "base_uri": "https://localhost:8080/"
        },
        "outputId": "806c6f36-fb28-45ac-ae91-12b2d8fe736d"
      },
      "outputs": [
        {
          "output_type": "execute_result",
          "data": {
            "text/plain": [
              "0.49648"
            ]
          },
          "metadata": {},
          "execution_count": 88
        }
      ],
      "source": [
        "recall = results1['true'].sum()/results1.shape[0]\n",
        "recall"
      ]
    },
    {
      "cell_type": "markdown",
      "source": [
        "К сожалению, мне не хватило памяти, чтобы брать большее количество кандидатов для ранжирования, чем топ-15, и чтобы поэкспериментировать с разным объемом и балансом классов для логистической регрессии.\n",
        "\n",
        "А для оптимизации (чтоб хватало памяти) не хватило уже времени (:(\n",
        "\n",
        "Большое спасибо за уделенное время и обратную связь.\n",
        "\n",
        "И мне очень понравилась задача и организация воркшопа. Приятно было сотрудничать с командой Самоката и Практикума.\n",
        "\n"
      ],
      "metadata": {
        "id": "DOXUK9iP8q7I"
      }
    }
  ],
  "metadata": {
    "colab": {
      "provenance": [],
      "toc_visible": true,
      "gpuType": "T4"
    },
    "gpuClass": "standard",
    "kernelspec": {
      "display_name": "Python 3",
      "language": "python",
      "name": "python3"
    },
    "language_info": {
      "codemirror_mode": {
        "name": "ipython",
        "version": 3
      },
      "file_extension": ".py",
      "mimetype": "text/x-python",
      "name": "python",
      "nbconvert_exporter": "python",
      "pygments_lexer": "ipython3",
      "version": "3.10.10"
    },
    "accelerator": "GPU"
  },
  "nbformat": 4,
  "nbformat_minor": 0
}