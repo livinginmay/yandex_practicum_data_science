{
 "cells": [
  {
   "cell_type": "markdown",
   "metadata": {
    "id": "AT-4Lhw6nG_m",
    "toc": true
   },
   "source": [
    "<h1>Содержание<span class=\"tocSkip\"></span></h1>\n",
    "<div class=\"toc\"><ul class=\"toc-item\"><li><span><a href=\"#Подготовка\" data-toc-modified-id=\"Подготовка-1\"><span class=\"toc-item-num\">1&nbsp;&nbsp;</span>Подготовка</a></span><ul class=\"toc-item\"><li><span><a href=\"#Установка-и-импорт-библиотек\" data-toc-modified-id=\"Установка-и-импорт-библиотек-1.1\"><span class=\"toc-item-num\">1.1&nbsp;&nbsp;</span>Установка и импорт библиотек</a></span></li><li><span><a href=\"#Общая-информация-о-датасете\" data-toc-modified-id=\"Общая-информация-о-датасете-1.2\"><span class=\"toc-item-num\">1.2&nbsp;&nbsp;</span>Общая информация о датасете</a></span></li><li><span><a href=\"#Баланс-классов\" data-toc-modified-id=\"Баланс-классов-1.3\"><span class=\"toc-item-num\">1.3&nbsp;&nbsp;</span>Баланс классов</a></span></li><li><span><a href=\"#Очистка-текста-и-лемматизация\" data-toc-modified-id=\"Очистка-текста-и-лемматизация-1.4\"><span class=\"toc-item-num\">1.4&nbsp;&nbsp;</span>Очистка текста и лемматизация</a></span></li><li><span><a href=\"#Подготовка-признаков-с-помощью-TF-IDF\" data-toc-modified-id=\"Подготовка-признаков-с-помощью-TF-IDF-1.5\"><span class=\"toc-item-num\">1.5&nbsp;&nbsp;</span>Подготовка признаков с помощью TF-IDF</a></span><ul class=\"toc-item\"><li><span><a href=\"#Разбиение-на-выборки\" data-toc-modified-id=\"Разбиение-на-выборки-1.5.1\"><span class=\"toc-item-num\">1.5.1&nbsp;&nbsp;</span>Разбиение на выборки</a></span></li><li><span><a href=\"#Удаление-стоп-слов-и-получение-признаков\" data-toc-modified-id=\"Удаление-стоп-слов-и-получение-признаков-1.5.2\"><span class=\"toc-item-num\">1.5.2&nbsp;&nbsp;</span>Удаление стоп-слов и получение признаков</a></span></li></ul></li><li><span><a href=\"#Подготовка-признаков-с-помощью-BERT\" data-toc-modified-id=\"Подготовка-признаков-с-помощью-BERT-1.6\"><span class=\"toc-item-num\">1.6&nbsp;&nbsp;</span>Подготовка признаков с помощью BERT</a></span></li></ul></li><li><span><a href=\"#Обучение\" data-toc-modified-id=\"Обучение-2\"><span class=\"toc-item-num\">2&nbsp;&nbsp;</span>Обучение</a></span><ul class=\"toc-item\"><li><span><a href=\"#TF-IDF\" data-toc-modified-id=\"TF-IDF-2.1\"><span class=\"toc-item-num\">2.1&nbsp;&nbsp;</span>TF-IDF</a></span><ul class=\"toc-item\"><li><span><a href=\"#Логистическая-регрессия\" data-toc-modified-id=\"Логистическая-регрессия-2.1.1\"><span class=\"toc-item-num\">2.1.1&nbsp;&nbsp;</span>Логистическая регрессия</a></span></li><li><span><a href=\"#Дерево-решений\" data-toc-modified-id=\"Дерево-решений-2.1.2\"><span class=\"toc-item-num\">2.1.2&nbsp;&nbsp;</span>Дерево решений</a></span></li><li><span><a href=\"#Случайный-лес\" data-toc-modified-id=\"Случайный-лес-2.1.3\"><span class=\"toc-item-num\">2.1.3&nbsp;&nbsp;</span>Случайный лес</a></span></li></ul></li><li><span><a href=\"#BERT\" data-toc-modified-id=\"BERT-2.2\"><span class=\"toc-item-num\">2.2&nbsp;&nbsp;</span>BERT</a></span><ul class=\"toc-item\"><li><span><a href=\"#Логистическая-регрессия\" data-toc-modified-id=\"Логистическая-регрессия-2.2.1\"><span class=\"toc-item-num\">2.2.1&nbsp;&nbsp;</span>Логистическая регрессия</a></span></li><li><span><a href=\"#Дерево-решений\" data-toc-modified-id=\"Дерево-решений-2.2.2\"><span class=\"toc-item-num\">2.2.2&nbsp;&nbsp;</span>Дерево решений</a></span></li><li><span><a href=\"#Случайный-лес\" data-toc-modified-id=\"Случайный-лес-2.2.3\"><span class=\"toc-item-num\">2.2.3&nbsp;&nbsp;</span>Случайный лес</a></span></li></ul></li><li><span><a href=\"#Лучшая-модель\" data-toc-modified-id=\"Лучшая-модель-2.3\"><span class=\"toc-item-num\">2.3&nbsp;&nbsp;</span>Лучшая модель</a></span></li></ul></li><li><span><a href=\"#Выводы\" data-toc-modified-id=\"Выводы-3\"><span class=\"toc-item-num\">3&nbsp;&nbsp;</span>Выводы</a></span></li></ul></div>"
   ]
  },
  {
   "cell_type": "markdown",
   "metadata": {
    "id": "9HC6RNoinG_r"
   },
   "source": [
    "# Выявление токсичных комментариев"
   ]
  },
  {
   "cell_type": "markdown",
   "metadata": {
    "id": "_QfXD5RqnG_s"
   },
   "source": [
    "## Подготовка"
   ]
  },
  {
   "cell_type": "markdown",
   "metadata": {
    "id": "-phRBjCdm_Eg"
   },
   "source": [
    "### Установка и импорт библиотек"
   ]
  },
  {
   "cell_type": "code",
   "execution_count": 1,
   "metadata": {
    "colab": {
     "base_uri": "https://localhost:8080/"
    },
    "id": "ciIk91bzq0vj",
    "outputId": "4ea52caa-d06b-4db2-8784-c8d1922ee686"
   },
   "outputs": [
    {
     "name": "stdout",
     "output_type": "stream",
     "text": [
      "Drive already mounted at /content/drive; to attempt to forcibly remount, call drive.mount(\"/content/drive\", force_remount=True).\n"
     ]
    }
   ],
   "source": [
    "from google.colab import drive\n",
    "drive.mount('/content/drive')"
   ]
  },
  {
   "cell_type": "code",
   "execution_count": 2,
   "metadata": {
    "colab": {
     "base_uri": "https://localhost:8080/"
    },
    "id": "8rPKIdT00bg_",
    "outputId": "21cd63f0-f45d-44d1-cb4a-8fa8cb3d37b4"
   },
   "outputs": [
    {
     "name": "stdout",
     "output_type": "stream",
     "text": [
      "Looking in indexes: https://pypi.org/simple, https://us-python.pkg.dev/colab-wheels/public/simple/\n",
      "Requirement already satisfied: transformers in /usr/local/lib/python3.7/dist-packages (4.21.1)\n",
      "Requirement already satisfied: pyyaml>=5.1 in /usr/local/lib/python3.7/dist-packages (from transformers) (6.0)\n",
      "Requirement already satisfied: requests in /usr/local/lib/python3.7/dist-packages (from transformers) (2.23.0)\n",
      "Requirement already satisfied: regex!=2019.12.17 in /usr/local/lib/python3.7/dist-packages (from transformers) (2022.6.2)\n",
      "Requirement already satisfied: huggingface-hub<1.0,>=0.1.0 in /usr/local/lib/python3.7/dist-packages (from transformers) (0.8.1)\n",
      "Requirement already satisfied: importlib-metadata in /usr/local/lib/python3.7/dist-packages (from transformers) (4.12.0)\n",
      "Requirement already satisfied: tokenizers!=0.11.3,<0.13,>=0.11.1 in /usr/local/lib/python3.7/dist-packages (from transformers) (0.12.1)\n",
      "Requirement already satisfied: filelock in /usr/local/lib/python3.7/dist-packages (from transformers) (3.8.0)\n",
      "Requirement already satisfied: packaging>=20.0 in /usr/local/lib/python3.7/dist-packages (from transformers) (21.3)\n",
      "Requirement already satisfied: tqdm>=4.27 in /usr/local/lib/python3.7/dist-packages (from transformers) (4.64.0)\n",
      "Requirement already satisfied: numpy>=1.17 in /usr/local/lib/python3.7/dist-packages (from transformers) (1.21.6)\n",
      "Requirement already satisfied: typing-extensions>=3.7.4.3 in /usr/local/lib/python3.7/dist-packages (from huggingface-hub<1.0,>=0.1.0->transformers) (4.1.1)\n",
      "Requirement already satisfied: pyparsing!=3.0.5,>=2.0.2 in /usr/local/lib/python3.7/dist-packages (from packaging>=20.0->transformers) (3.0.9)\n",
      "Requirement already satisfied: zipp>=0.5 in /usr/local/lib/python3.7/dist-packages (from importlib-metadata->transformers) (3.8.1)\n",
      "Requirement already satisfied: certifi>=2017.4.17 in /usr/local/lib/python3.7/dist-packages (from requests->transformers) (2022.6.15)\n",
      "Requirement already satisfied: urllib3!=1.25.0,!=1.25.1,<1.26,>=1.21.1 in /usr/local/lib/python3.7/dist-packages (from requests->transformers) (1.24.3)\n",
      "Requirement already satisfied: chardet<4,>=3.0.2 in /usr/local/lib/python3.7/dist-packages (from requests->transformers) (3.0.4)\n",
      "Requirement already satisfied: idna<3,>=2.5 in /usr/local/lib/python3.7/dist-packages (from requests->transformers) (2.10)\n"
     ]
    }
   ],
   "source": [
    "!pip install transformers"
   ]
  },
  {
   "cell_type": "code",
   "execution_count": 3,
   "metadata": {
    "id": "ecwkuLwsnG_t"
   },
   "outputs": [],
   "source": [
    "import pandas as pd\n",
    "\n",
    "import numpy as np\n",
    "\n",
    "# очистка текста и лемматизация\n",
    "import re \n",
    "import spacy\n",
    "\n",
    "# удаление стоп-слов\n",
    "from nltk.corpus import stopwords\n",
    "import nltk\n",
    "\n",
    "from sklearn.feature_extraction.text import TfidfVectorizer\n",
    "\n",
    "from sklearn.model_selection import train_test_split\n",
    "from sklearn.model_selection import cross_val_score\n",
    "from sklearn.model_selection import RandomizedSearchCV\n",
    "\n",
    "from sklearn.utils import shuffle\n",
    "\n",
    "from sklearn.linear_model import LogisticRegression\n",
    "from sklearn.tree import DecisionTreeClassifier\n",
    "from sklearn.ensemble import RandomForestClassifier\n",
    "\n",
    "from sklearn.metrics import f1_score\n",
    "\n",
    "# BERT\n",
    "import transformers\n",
    "import torch\n",
    "from tqdm import notebook\n",
    "\n",
    "from sklearn.pipeline import make_pipeline, Pipeline"
   ]
  },
  {
   "cell_type": "code",
   "execution_count": 4,
   "metadata": {
    "colab": {
     "base_uri": "https://localhost:8080/"
    },
    "id": "zli_euXY9g06",
    "outputId": "60b8e119-9b8e-40b7-c36f-31dfe5dd3a31"
   },
   "outputs": [
    {
     "data": {
      "text/plain": [
       "True"
      ]
     },
     "execution_count": 4,
     "metadata": {},
     "output_type": "execute_result"
    }
   ],
   "source": [
    "spacy.prefer_gpu()"
   ]
  },
  {
   "cell_type": "code",
   "execution_count": 5,
   "metadata": {
    "colab": {
     "base_uri": "https://localhost:8080/"
    },
    "id": "OUZvduQfxzo_",
    "outputId": "c56c25c0-36d5-43e2-c282-e3939f1b5cb6"
   },
   "outputs": [
    {
     "data": {
      "text/plain": [
       "True"
      ]
     },
     "execution_count": 5,
     "metadata": {},
     "output_type": "execute_result"
    }
   ],
   "source": [
    "torch.cuda.is_available()"
   ]
  },
  {
   "cell_type": "code",
   "execution_count": 6,
   "metadata": {
    "colab": {
     "base_uri": "https://localhost:8080/"
    },
    "id": "L-mtZtN7x7WJ",
    "outputId": "e52aae2c-4fd1-419c-9384-c43b913dc9c5"
   },
   "outputs": [
    {
     "data": {
      "text/plain": [
       "device(type='cuda', index=0)"
      ]
     },
     "execution_count": 6,
     "metadata": {},
     "output_type": "execute_result"
    }
   ],
   "source": [
    "device = torch.device(\"cuda:0\") if torch.cuda.is_available() else torch.device(\"cpu\")\n",
    "device"
   ]
  },
  {
   "cell_type": "markdown",
   "metadata": {
    "id": "x-Zw0SbrnG_u"
   },
   "source": [
    "### Общая информация о датасете"
   ]
  },
  {
   "cell_type": "code",
   "execution_count": 7,
   "metadata": {
    "colab": {
     "base_uri": "https://localhost:8080/"
    },
    "id": "qpk8y49fnG_y",
    "outputId": "7cb72116-0d85-428a-89dc-d2238f463457"
   },
   "outputs": [
    {
     "name": "stdout",
     "output_type": "stream",
     "text": [
      "<class 'pandas.core.frame.DataFrame'>\n",
      "RangeIndex: 159571 entries, 0 to 159570\n",
      "Data columns (total 2 columns):\n",
      " #   Column  Non-Null Count   Dtype \n",
      "---  ------  --------------   ----- \n",
      " 0   text    159571 non-null  object\n",
      " 1   toxic   159571 non-null  int64 \n",
      "dtypes: int64(1), object(1)\n",
      "memory usage: 2.4+ MB\n"
     ]
    }
   ],
   "source": [
    "full_data = pd.read_csv('/content/drive/MyDrive/Colab Notebooks/toxic_comments.csv')\n",
    "full_data.info()"
   ]
  },
  {
   "cell_type": "code",
   "execution_count": 8,
   "metadata": {
    "colab": {
     "base_uri": "https://localhost:8080/",
     "height": 0
    },
    "id": "c4Q1xxkNnG_0",
    "outputId": "28e5f17d-f17d-4a6c-ffa1-a388f3ed83ba"
   },
   "outputs": [
    {
     "data": {
      "text/html": [
       "\n",
       "  <div id=\"df-6d978a8d-a5be-4a90-aa32-9b080caf926f\">\n",
       "    <div class=\"colab-df-container\">\n",
       "      <div>\n",
       "<style scoped>\n",
       "    .dataframe tbody tr th:only-of-type {\n",
       "        vertical-align: middle;\n",
       "    }\n",
       "\n",
       "    .dataframe tbody tr th {\n",
       "        vertical-align: top;\n",
       "    }\n",
       "\n",
       "    .dataframe thead th {\n",
       "        text-align: right;\n",
       "    }\n",
       "</style>\n",
       "<table border=\"1\" class=\"dataframe\">\n",
       "  <thead>\n",
       "    <tr style=\"text-align: right;\">\n",
       "      <th></th>\n",
       "      <th>text</th>\n",
       "      <th>toxic</th>\n",
       "    </tr>\n",
       "  </thead>\n",
       "  <tbody>\n",
       "    <tr>\n",
       "      <th>0</th>\n",
       "      <td>Explanation\\nWhy the edits made under my usern...</td>\n",
       "      <td>0</td>\n",
       "    </tr>\n",
       "    <tr>\n",
       "      <th>1</th>\n",
       "      <td>D'aww! He matches this background colour I'm s...</td>\n",
       "      <td>0</td>\n",
       "    </tr>\n",
       "    <tr>\n",
       "      <th>2</th>\n",
       "      <td>Hey man, I'm really not trying to edit war. It...</td>\n",
       "      <td>0</td>\n",
       "    </tr>\n",
       "    <tr>\n",
       "      <th>3</th>\n",
       "      <td>\"\\nMore\\nI can't make any real suggestions on ...</td>\n",
       "      <td>0</td>\n",
       "    </tr>\n",
       "    <tr>\n",
       "      <th>4</th>\n",
       "      <td>You, sir, are my hero. Any chance you remember...</td>\n",
       "      <td>0</td>\n",
       "    </tr>\n",
       "  </tbody>\n",
       "</table>\n",
       "</div>\n",
       "      <button class=\"colab-df-convert\" onclick=\"convertToInteractive('df-6d978a8d-a5be-4a90-aa32-9b080caf926f')\"\n",
       "              title=\"Convert this dataframe to an interactive table.\"\n",
       "              style=\"display:none;\">\n",
       "        \n",
       "  <svg xmlns=\"http://www.w3.org/2000/svg\" height=\"24px\"viewBox=\"0 0 24 24\"\n",
       "       width=\"24px\">\n",
       "    <path d=\"M0 0h24v24H0V0z\" fill=\"none\"/>\n",
       "    <path d=\"M18.56 5.44l.94 2.06.94-2.06 2.06-.94-2.06-.94-.94-2.06-.94 2.06-2.06.94zm-11 1L8.5 8.5l.94-2.06 2.06-.94-2.06-.94L8.5 2.5l-.94 2.06-2.06.94zm10 10l.94 2.06.94-2.06 2.06-.94-2.06-.94-.94-2.06-.94 2.06-2.06.94z\"/><path d=\"M17.41 7.96l-1.37-1.37c-.4-.4-.92-.59-1.43-.59-.52 0-1.04.2-1.43.59L10.3 9.45l-7.72 7.72c-.78.78-.78 2.05 0 2.83L4 21.41c.39.39.9.59 1.41.59.51 0 1.02-.2 1.41-.59l7.78-7.78 2.81-2.81c.8-.78.8-2.07 0-2.86zM5.41 20L4 18.59l7.72-7.72 1.47 1.35L5.41 20z\"/>\n",
       "  </svg>\n",
       "      </button>\n",
       "      \n",
       "  <style>\n",
       "    .colab-df-container {\n",
       "      display:flex;\n",
       "      flex-wrap:wrap;\n",
       "      gap: 12px;\n",
       "    }\n",
       "\n",
       "    .colab-df-convert {\n",
       "      background-color: #E8F0FE;\n",
       "      border: none;\n",
       "      border-radius: 50%;\n",
       "      cursor: pointer;\n",
       "      display: none;\n",
       "      fill: #1967D2;\n",
       "      height: 32px;\n",
       "      padding: 0 0 0 0;\n",
       "      width: 32px;\n",
       "    }\n",
       "\n",
       "    .colab-df-convert:hover {\n",
       "      background-color: #E2EBFA;\n",
       "      box-shadow: 0px 1px 2px rgba(60, 64, 67, 0.3), 0px 1px 3px 1px rgba(60, 64, 67, 0.15);\n",
       "      fill: #174EA6;\n",
       "    }\n",
       "\n",
       "    [theme=dark] .colab-df-convert {\n",
       "      background-color: #3B4455;\n",
       "      fill: #D2E3FC;\n",
       "    }\n",
       "\n",
       "    [theme=dark] .colab-df-convert:hover {\n",
       "      background-color: #434B5C;\n",
       "      box-shadow: 0px 1px 3px 1px rgba(0, 0, 0, 0.15);\n",
       "      filter: drop-shadow(0px 1px 2px rgba(0, 0, 0, 0.3));\n",
       "      fill: #FFFFFF;\n",
       "    }\n",
       "  </style>\n",
       "\n",
       "      <script>\n",
       "        const buttonEl =\n",
       "          document.querySelector('#df-6d978a8d-a5be-4a90-aa32-9b080caf926f button.colab-df-convert');\n",
       "        buttonEl.style.display =\n",
       "          google.colab.kernel.accessAllowed ? 'block' : 'none';\n",
       "\n",
       "        async function convertToInteractive(key) {\n",
       "          const element = document.querySelector('#df-6d978a8d-a5be-4a90-aa32-9b080caf926f');\n",
       "          const dataTable =\n",
       "            await google.colab.kernel.invokeFunction('convertToInteractive',\n",
       "                                                     [key], {});\n",
       "          if (!dataTable) return;\n",
       "\n",
       "          const docLinkHtml = 'Like what you see? Visit the ' +\n",
       "            '<a target=\"_blank\" href=https://colab.research.google.com/notebooks/data_table.ipynb>data table notebook</a>'\n",
       "            + ' to learn more about interactive tables.';\n",
       "          element.innerHTML = '';\n",
       "          dataTable['output_type'] = 'display_data';\n",
       "          await google.colab.output.renderOutput(dataTable, element);\n",
       "          const docLink = document.createElement('div');\n",
       "          docLink.innerHTML = docLinkHtml;\n",
       "          element.appendChild(docLink);\n",
       "        }\n",
       "      </script>\n",
       "    </div>\n",
       "  </div>\n",
       "  "
      ],
      "text/plain": [
       "                                                text  toxic\n",
       "0  Explanation\\nWhy the edits made under my usern...      0\n",
       "1  D'aww! He matches this background colour I'm s...      0\n",
       "2  Hey man, I'm really not trying to edit war. It...      0\n",
       "3  \"\\nMore\\nI can't make any real suggestions on ...      0\n",
       "4  You, sir, are my hero. Any chance you remember...      0"
      ]
     },
     "execution_count": 8,
     "metadata": {},
     "output_type": "execute_result"
    }
   ],
   "source": [
    "full_data.head()"
   ]
  },
  {
   "cell_type": "markdown",
   "metadata": {
    "id": "fQu9eikMmyak"
   },
   "source": [
    "**Вывод**\n",
    "\n",
    "Датасет содержит 159571 строку - комментарии на английском языке. Стиль заголовков соблюден."
   ]
  },
  {
   "cell_type": "markdown",
   "metadata": {
    "id": "L6C57pWsT0G8"
   },
   "source": [
    "### Баланс классов"
   ]
  },
  {
   "cell_type": "code",
   "execution_count": 9,
   "metadata": {
    "colab": {
     "base_uri": "https://localhost:8080/"
    },
    "id": "0BMbUAYzTyr4",
    "outputId": "c0a9c033-8552-4d5c-9ada-689febbc3f31"
   },
   "outputs": [
    {
     "data": {
      "text/plain": [
       "0    0.898321\n",
       "1    0.101679\n",
       "Name: toxic, dtype: float64"
      ]
     },
     "execution_count": 9,
     "metadata": {},
     "output_type": "execute_result"
    }
   ],
   "source": [
    "full_data['toxic'].value_counts(normalize=True)"
   ]
  },
  {
   "cell_type": "code",
   "execution_count": 10,
   "metadata": {
    "id": "bR14n_pEmDZm"
   },
   "outputs": [],
   "source": [
    "def downsample(data, fraction):\n",
    "    data_zeros = data.query('toxic==0')\n",
    "    data_ones = data.query('toxic==1')\n",
    "\n",
    "    data_sample = data_zeros.sample(frac=fraction, random_state=12345)\n",
    "    \n",
    "    data_downsampled = pd.concat([data_sample] + [data_ones])\n",
    "    \n",
    "    data_downsampled = shuffle(data_downsampled, random_state=12345)    \n",
    "    \n",
    "    return data_downsampled"
   ]
  },
  {
   "cell_type": "code",
   "execution_count": 11,
   "metadata": {
    "id": "jYPJnz5NmEO7"
   },
   "outputs": [],
   "source": [
    "data = downsample(full_data, 0.11).reset_index(drop=True)"
   ]
  },
  {
   "cell_type": "code",
   "execution_count": 12,
   "metadata": {
    "colab": {
     "base_uri": "https://localhost:8080/"
    },
    "id": "lZGYeuUSmMbv",
    "outputId": "f8c04d7f-e742-4f98-cd61-7b72f6a3c281"
   },
   "outputs": [
    {
     "data": {
      "text/plain": [
       "1    0.507142\n",
       "0    0.492858\n",
       "Name: toxic, dtype: float64"
      ]
     },
     "execution_count": 12,
     "metadata": {},
     "output_type": "execute_result"
    }
   ],
   "source": [
    "data['toxic'].value_counts(normalize=True)"
   ]
  },
  {
   "cell_type": "code",
   "execution_count": 13,
   "metadata": {
    "colab": {
     "base_uri": "https://localhost:8080/"
    },
    "id": "GU7AzgIqmMet",
    "outputId": "adf22fd8-7bb9-4c7a-ddf0-74d5d35e5ba2"
   },
   "outputs": [
    {
     "name": "stdout",
     "output_type": "stream",
     "text": [
      "<class 'pandas.core.frame.DataFrame'>\n",
      "RangeIndex: 31993 entries, 0 to 31992\n",
      "Data columns (total 2 columns):\n",
      " #   Column  Non-Null Count  Dtype \n",
      "---  ------  --------------  ----- \n",
      " 0   text    31993 non-null  object\n",
      " 1   toxic   31993 non-null  int64 \n",
      "dtypes: int64(1), object(1)\n",
      "memory usage: 500.0+ KB\n"
     ]
    }
   ],
   "source": [
    "data.info()"
   ]
  },
  {
   "cell_type": "markdown",
   "metadata": {
    "id": "CcNBFZivT3sv"
   },
   "source": [
    "**Вывод**\n",
    "\n",
    "В данных наблюдается дисбаланс классов. Т.к. выборка достаточно большая и лемматизация на всем этом объеме не выполняется (происходит зависание на имеющихся ресурсах), то применяю downsampling. Таким образом, получила выборку из 31993 строк вместо 159571."
   ]
  },
  {
   "cell_type": "markdown",
   "metadata": {
    "id": "OKTDbvSXnG_1"
   },
   "source": [
    "### Очистка текста и лемматизация"
   ]
  },
  {
   "cell_type": "code",
   "execution_count": 14,
   "metadata": {
    "id": "UB3tVi6nnG_1"
   },
   "outputs": [],
   "source": [
    "lemmatizer = spacy.load('en_core_web_sm')"
   ]
  },
  {
   "cell_type": "code",
   "execution_count": 15,
   "metadata": {
    "id": "qlphEmk_nG_2"
   },
   "outputs": [],
   "source": [
    "def clear_text(text_full):\n",
    "    \n",
    "    text = text_full.lower()\n",
    "    text = re.sub(r\"[^a-zA-Z]\", ' ', text) # символы заменяются на пробелы\n",
    "    text = ' '.join(text.split())\n",
    "    \n",
    "    doc = lemmatizer(text) # не включает пробелы\n",
    "    text = ' '.join([token.lemma_ for token in doc])  # лемматизированная строка\n",
    "        \n",
    "    text = text.replace('-PRON-', '')\n",
    "    text = ' '.join(text.split())\n",
    "\n",
    "    return text"
   ]
  },
  {
   "cell_type": "code",
   "execution_count": 16,
   "metadata": {
    "colab": {
     "base_uri": "https://localhost:8080/"
    },
    "id": "rF4Yc6ybf7kJ",
    "outputId": "4410506a-b5b3-4775-be54-695120f4ec4e"
   },
   "outputs": [
    {
     "name": "stdout",
     "output_type": "stream",
     "text": [
      "CPU times: user 9min 6s, sys: 2.66 s, total: 9min 9s\n",
      "Wall time: 9min 16s\n"
     ]
    }
   ],
   "source": [
    "%%time\n",
    "data['lemm_text'] = data['text'].apply(clear_text)"
   ]
  },
  {
   "cell_type": "code",
   "execution_count": 17,
   "metadata": {
    "id": "dnzijrxqaaO8"
   },
   "outputs": [],
   "source": [
    "def clear_text_for_bert(text_full):\n",
    "    \n",
    "    text = re.sub(r\"[^a-zA-Z]\", ' ', text_full) # символы заменяются на пробелы\n",
    "    text = ' '.join(text.split())\n",
    "\n",
    "    return text"
   ]
  },
  {
   "cell_type": "code",
   "execution_count": 18,
   "metadata": {
    "colab": {
     "base_uri": "https://localhost:8080/"
    },
    "id": "gUYcgwOHaaXC",
    "outputId": "acf07e1f-5a9a-4d24-f99b-f52a64cf87fd"
   },
   "outputs": [
    {
     "name": "stdout",
     "output_type": "stream",
     "text": [
      "CPU times: user 675 ms, sys: 12 ms, total: 687 ms\n",
      "Wall time: 686 ms\n"
     ]
    }
   ],
   "source": [
    "%%time\n",
    "data['bert_text'] = data['text'].apply(clear_text_for_bert)"
   ]
  },
  {
   "cell_type": "code",
   "execution_count": 19,
   "metadata": {
    "colab": {
     "base_uri": "https://localhost:8080/",
     "height": 363
    },
    "id": "a9S-1KW3dIw_",
    "outputId": "3a6bf890-4b3c-48af-a8bd-0ab97bc62832"
   },
   "outputs": [
    {
     "data": {
      "text/html": [
       "\n",
       "  <div id=\"df-13cbd88a-e12b-412c-9845-76d11c6bff62\">\n",
       "    <div class=\"colab-df-container\">\n",
       "      <div>\n",
       "<style scoped>\n",
       "    .dataframe tbody tr th:only-of-type {\n",
       "        vertical-align: middle;\n",
       "    }\n",
       "\n",
       "    .dataframe tbody tr th {\n",
       "        vertical-align: top;\n",
       "    }\n",
       "\n",
       "    .dataframe thead th {\n",
       "        text-align: right;\n",
       "    }\n",
       "</style>\n",
       "<table border=\"1\" class=\"dataframe\">\n",
       "  <thead>\n",
       "    <tr style=\"text-align: right;\">\n",
       "      <th></th>\n",
       "      <th>text</th>\n",
       "      <th>toxic</th>\n",
       "      <th>lemm_text</th>\n",
       "      <th>bert_text</th>\n",
       "    </tr>\n",
       "  </thead>\n",
       "  <tbody>\n",
       "    <tr>\n",
       "      <th>0</th>\n",
       "      <td>ROZ LIPSCHITZ IS BLOCKED BECAUSE HE IS AN IDIOT!</td>\n",
       "      <td>1</td>\n",
       "      <td>roz lipschitz be block because he be an idiot</td>\n",
       "      <td>ROZ LIPSCHITZ IS BLOCKED BECAUSE HE IS AN IDIOT</td>\n",
       "    </tr>\n",
       "    <tr>\n",
       "      <th>1</th>\n",
       "      <td>Yeah I believe it, how many times have I heard...</td>\n",
       "      <td>1</td>\n",
       "      <td>yeah I believe it how many time have I hear th...</td>\n",
       "      <td>Yeah I believe it how many times have I heard ...</td>\n",
       "    </tr>\n",
       "    <tr>\n",
       "      <th>2</th>\n",
       "      <td>What, you think this block will work better th...</td>\n",
       "      <td>1</td>\n",
       "      <td>what you think this block will work well than ...</td>\n",
       "      <td>What you think this block will work better tha...</td>\n",
       "    </tr>\n",
       "    <tr>\n",
       "      <th>3</th>\n",
       "      <td>Phil Spector is a FUCKING MURDERER !!! You kno...</td>\n",
       "      <td>1</td>\n",
       "      <td>phil spector be a fucking murderer you know it...</td>\n",
       "      <td>Phil Spector is a FUCKING MURDERER You know it...</td>\n",
       "    </tr>\n",
       "    <tr>\n",
       "      <th>4</th>\n",
       "      <td>What the f*** do you want at my talk page. I g...</td>\n",
       "      <td>1</td>\n",
       "      <td>what the f do you want at my talk page I get n...</td>\n",
       "      <td>What the f do you want at my talk page I got n...</td>\n",
       "    </tr>\n",
       "    <tr>\n",
       "      <th>5</th>\n",
       "      <td>Welll well, who else would the Tatar turn to a...</td>\n",
       "      <td>0</td>\n",
       "      <td>welll well who else would the tatar turn to ap...</td>\n",
       "      <td>Welll well who else would the Tatar turn to ap...</td>\n",
       "    </tr>\n",
       "    <tr>\n",
       "      <th>6</th>\n",
       "      <td>Camp Lockett Wiki page begun using Buffalo Sol...</td>\n",
       "      <td>0</td>\n",
       "      <td>camp lockett wiki page begin use buffalo soldi...</td>\n",
       "      <td>Camp Lockett Wiki page begun using Buffalo Sol...</td>\n",
       "    </tr>\n",
       "    <tr>\n",
       "      <th>7</th>\n",
       "      <td>Conrad Devonshire \\n\\nHe's a proven sockpuppet...</td>\n",
       "      <td>1</td>\n",
       "      <td>conrad devonshire he s a prove sockpuppetter I...</td>\n",
       "      <td>Conrad Devonshire He s a proven sockpuppetter ...</td>\n",
       "    </tr>\n",
       "    <tr>\n",
       "      <th>8</th>\n",
       "      <td>\"\\n\\n Please reconsider \\n\\nAll I can say, rea...</td>\n",
       "      <td>0</td>\n",
       "      <td>please reconsider all I can say really be plea...</td>\n",
       "      <td>Please reconsider All I can say really is plea...</td>\n",
       "    </tr>\n",
       "    <tr>\n",
       "      <th>9</th>\n",
       "      <td>Proposed deletion of Disappearance of Megan St...</td>\n",
       "      <td>0</td>\n",
       "      <td>propose deletion of disappearance of megan sta...</td>\n",
       "      <td>Proposed deletion of Disappearance of Megan St...</td>\n",
       "    </tr>\n",
       "  </tbody>\n",
       "</table>\n",
       "</div>\n",
       "      <button class=\"colab-df-convert\" onclick=\"convertToInteractive('df-13cbd88a-e12b-412c-9845-76d11c6bff62')\"\n",
       "              title=\"Convert this dataframe to an interactive table.\"\n",
       "              style=\"display:none;\">\n",
       "        \n",
       "  <svg xmlns=\"http://www.w3.org/2000/svg\" height=\"24px\"viewBox=\"0 0 24 24\"\n",
       "       width=\"24px\">\n",
       "    <path d=\"M0 0h24v24H0V0z\" fill=\"none\"/>\n",
       "    <path d=\"M18.56 5.44l.94 2.06.94-2.06 2.06-.94-2.06-.94-.94-2.06-.94 2.06-2.06.94zm-11 1L8.5 8.5l.94-2.06 2.06-.94-2.06-.94L8.5 2.5l-.94 2.06-2.06.94zm10 10l.94 2.06.94-2.06 2.06-.94-2.06-.94-.94-2.06-.94 2.06-2.06.94z\"/><path d=\"M17.41 7.96l-1.37-1.37c-.4-.4-.92-.59-1.43-.59-.52 0-1.04.2-1.43.59L10.3 9.45l-7.72 7.72c-.78.78-.78 2.05 0 2.83L4 21.41c.39.39.9.59 1.41.59.51 0 1.02-.2 1.41-.59l7.78-7.78 2.81-2.81c.8-.78.8-2.07 0-2.86zM5.41 20L4 18.59l7.72-7.72 1.47 1.35L5.41 20z\"/>\n",
       "  </svg>\n",
       "      </button>\n",
       "      \n",
       "  <style>\n",
       "    .colab-df-container {\n",
       "      display:flex;\n",
       "      flex-wrap:wrap;\n",
       "      gap: 12px;\n",
       "    }\n",
       "\n",
       "    .colab-df-convert {\n",
       "      background-color: #E8F0FE;\n",
       "      border: none;\n",
       "      border-radius: 50%;\n",
       "      cursor: pointer;\n",
       "      display: none;\n",
       "      fill: #1967D2;\n",
       "      height: 32px;\n",
       "      padding: 0 0 0 0;\n",
       "      width: 32px;\n",
       "    }\n",
       "\n",
       "    .colab-df-convert:hover {\n",
       "      background-color: #E2EBFA;\n",
       "      box-shadow: 0px 1px 2px rgba(60, 64, 67, 0.3), 0px 1px 3px 1px rgba(60, 64, 67, 0.15);\n",
       "      fill: #174EA6;\n",
       "    }\n",
       "\n",
       "    [theme=dark] .colab-df-convert {\n",
       "      background-color: #3B4455;\n",
       "      fill: #D2E3FC;\n",
       "    }\n",
       "\n",
       "    [theme=dark] .colab-df-convert:hover {\n",
       "      background-color: #434B5C;\n",
       "      box-shadow: 0px 1px 3px 1px rgba(0, 0, 0, 0.15);\n",
       "      filter: drop-shadow(0px 1px 2px rgba(0, 0, 0, 0.3));\n",
       "      fill: #FFFFFF;\n",
       "    }\n",
       "  </style>\n",
       "\n",
       "      <script>\n",
       "        const buttonEl =\n",
       "          document.querySelector('#df-13cbd88a-e12b-412c-9845-76d11c6bff62 button.colab-df-convert');\n",
       "        buttonEl.style.display =\n",
       "          google.colab.kernel.accessAllowed ? 'block' : 'none';\n",
       "\n",
       "        async function convertToInteractive(key) {\n",
       "          const element = document.querySelector('#df-13cbd88a-e12b-412c-9845-76d11c6bff62');\n",
       "          const dataTable =\n",
       "            await google.colab.kernel.invokeFunction('convertToInteractive',\n",
       "                                                     [key], {});\n",
       "          if (!dataTable) return;\n",
       "\n",
       "          const docLinkHtml = 'Like what you see? Visit the ' +\n",
       "            '<a target=\"_blank\" href=https://colab.research.google.com/notebooks/data_table.ipynb>data table notebook</a>'\n",
       "            + ' to learn more about interactive tables.';\n",
       "          element.innerHTML = '';\n",
       "          dataTable['output_type'] = 'display_data';\n",
       "          await google.colab.output.renderOutput(dataTable, element);\n",
       "          const docLink = document.createElement('div');\n",
       "          docLink.innerHTML = docLinkHtml;\n",
       "          element.appendChild(docLink);\n",
       "        }\n",
       "      </script>\n",
       "    </div>\n",
       "  </div>\n",
       "  "
      ],
      "text/plain": [
       "                                                text  toxic  \\\n",
       "0   ROZ LIPSCHITZ IS BLOCKED BECAUSE HE IS AN IDIOT!      1   \n",
       "1  Yeah I believe it, how many times have I heard...      1   \n",
       "2  What, you think this block will work better th...      1   \n",
       "3  Phil Spector is a FUCKING MURDERER !!! You kno...      1   \n",
       "4  What the f*** do you want at my talk page. I g...      1   \n",
       "5  Welll well, who else would the Tatar turn to a...      0   \n",
       "6  Camp Lockett Wiki page begun using Buffalo Sol...      0   \n",
       "7  Conrad Devonshire \\n\\nHe's a proven sockpuppet...      1   \n",
       "8  \"\\n\\n Please reconsider \\n\\nAll I can say, rea...      0   \n",
       "9  Proposed deletion of Disappearance of Megan St...      0   \n",
       "\n",
       "                                           lemm_text  \\\n",
       "0      roz lipschitz be block because he be an idiot   \n",
       "1  yeah I believe it how many time have I hear th...   \n",
       "2  what you think this block will work well than ...   \n",
       "3  phil spector be a fucking murderer you know it...   \n",
       "4  what the f do you want at my talk page I get n...   \n",
       "5  welll well who else would the tatar turn to ap...   \n",
       "6  camp lockett wiki page begin use buffalo soldi...   \n",
       "7  conrad devonshire he s a prove sockpuppetter I...   \n",
       "8  please reconsider all I can say really be plea...   \n",
       "9  propose deletion of disappearance of megan sta...   \n",
       "\n",
       "                                           bert_text  \n",
       "0    ROZ LIPSCHITZ IS BLOCKED BECAUSE HE IS AN IDIOT  \n",
       "1  Yeah I believe it how many times have I heard ...  \n",
       "2  What you think this block will work better tha...  \n",
       "3  Phil Spector is a FUCKING MURDERER You know it...  \n",
       "4  What the f do you want at my talk page I got n...  \n",
       "5  Welll well who else would the Tatar turn to ap...  \n",
       "6  Camp Lockett Wiki page begun using Buffalo Sol...  \n",
       "7  Conrad Devonshire He s a proven sockpuppetter ...  \n",
       "8  Please reconsider All I can say really is plea...  \n",
       "9  Proposed deletion of Disappearance of Megan St...  "
      ]
     },
     "execution_count": 19,
     "metadata": {},
     "output_type": "execute_result"
    }
   ],
   "source": [
    "data.head(10)"
   ]
  },
  {
   "cell_type": "markdown",
   "metadata": {
    "id": "hejCrravpFtM"
   },
   "source": [
    "**Вывод**\n",
    "\n",
    "На этом этапе предобработки выполнила следующие манипуляции:\n",
    "* преобразование слов к нижнему регистру;\n",
    "* удаление всех символов, кроме латинских букв;\n",
    "* лемматизация;\n",
    "* удаление `-PRON-` (появляется вместо местоимений при лемматизации `spacy`).\n",
    "\n",
    "Для BERT выполнила только удаление всех символов, кроме латинских букв, т.к. остальное модель выполняет сама."
   ]
  },
  {
   "cell_type": "markdown",
   "metadata": {
    "id": "dICFTCgFp5bk"
   },
   "source": [
    "### Подготовка признаков с помощью TF-IDF"
   ]
  },
  {
   "cell_type": "markdown",
   "metadata": {
    "id": "dEGcNRV3nG_4"
   },
   "source": [
    "#### Разбиение на выборки"
   ]
  },
  {
   "cell_type": "code",
   "execution_count": 20,
   "metadata": {
    "id": "PcyD8cAvpZ6t"
   },
   "outputs": [],
   "source": [
    "corpus = data['lemm_text']"
   ]
  },
  {
   "cell_type": "code",
   "execution_count": 21,
   "metadata": {
    "id": "OeHc_uwbnG_4"
   },
   "outputs": [],
   "source": [
    "target = data['toxic']"
   ]
  },
  {
   "cell_type": "code",
   "execution_count": 22,
   "metadata": {
    "id": "KiyiNJVKnG_4"
   },
   "outputs": [],
   "source": [
    "corpus_train, corpus_test, tf_idf_target_train, tf_idf_target_test = train_test_split(corpus, target, test_size=0.2, random_state=12345)"
   ]
  },
  {
   "cell_type": "code",
   "execution_count": 23,
   "metadata": {
    "colab": {
     "base_uri": "https://localhost:8080/"
    },
    "id": "Sfadkp1lp08q",
    "outputId": "87e8f4b1-27d5-4617-8781-0caa2943d5cb"
   },
   "outputs": [
    {
     "data": {
      "text/plain": [
       "((25594,), (25594,))"
      ]
     },
     "execution_count": 23,
     "metadata": {},
     "output_type": "execute_result"
    }
   ],
   "source": [
    "corpus_train.shape, tf_idf_target_train.shape"
   ]
  },
  {
   "cell_type": "code",
   "execution_count": 24,
   "metadata": {
    "colab": {
     "base_uri": "https://localhost:8080/"
    },
    "id": "rjzooho1p1AV",
    "outputId": "a2fa4cfc-6cd5-4b1f-8982-17226a7dfb80"
   },
   "outputs": [
    {
     "data": {
      "text/plain": [
       "((6399,), (6399,))"
      ]
     },
     "execution_count": 24,
     "metadata": {},
     "output_type": "execute_result"
    }
   ],
   "source": [
    "corpus_test.shape, tf_idf_target_test.shape"
   ]
  },
  {
   "cell_type": "markdown",
   "metadata": {
    "id": "DqCzp_Azpaq0"
   },
   "source": [
    "**Вывод**\n",
    "\n",
    "Выделила под тестовую выборку - 20% от датасета, полученного после уменьшения выборки."
   ]
  },
  {
   "cell_type": "markdown",
   "metadata": {
    "id": "C1-E-N52nG_5"
   },
   "source": [
    "#### Удаление стоп-слов и получение признаков"
   ]
  },
  {
   "cell_type": "code",
   "execution_count": 25,
   "metadata": {
    "colab": {
     "base_uri": "https://localhost:8080/"
    },
    "id": "5g0RKbW7nG_5",
    "outputId": "c671ab18-a443-4de3-89a4-7fad202d177b"
   },
   "outputs": [
    {
     "name": "stderr",
     "output_type": "stream",
     "text": [
      "[nltk_data] Downloading package stopwords to /root/nltk_data...\n",
      "[nltk_data]   Package stopwords is already up-to-date!\n"
     ]
    }
   ],
   "source": [
    "nltk.download('stopwords')\n",
    "stop_words = set(stopwords.words('english'))\n",
    "count_tf_idf = TfidfVectorizer(stop_words=stop_words) "
   ]
  },
  {
   "cell_type": "markdown",
   "metadata": {
    "id": "aSjVcOsaqA1U"
   },
   "source": [
    "**Вывод**\n",
    "\n",
    "Подготовлен векторизатор для получения матрицы TF-IDF без учета стоп-слов. Он будет добавлен в пайплайн для кросс-валидации."
   ]
  },
  {
   "cell_type": "markdown",
   "metadata": {
    "id": "Vyc8aSpTpdLG"
   },
   "source": [
    "### Подготовка признаков с помощью BERT"
   ]
  },
  {
   "cell_type": "code",
   "execution_count": 26,
   "metadata": {
    "colab": {
     "base_uri": "https://localhost:8080/"
    },
    "id": "yMZ289Pf6qyP",
    "outputId": "b87c8d8d-a8ff-4635-9c4f-deab75c341db"
   },
   "outputs": [
    {
     "name": "stderr",
     "output_type": "stream",
     "text": [
      "Some weights of the model checkpoint at distilbert-base-uncased were not used when initializing DistilBertModel: ['vocab_layer_norm.weight', 'vocab_projector.weight', 'vocab_transform.weight', 'vocab_layer_norm.bias', 'vocab_projector.bias', 'vocab_transform.bias']\n",
      "- This IS expected if you are initializing DistilBertModel from the checkpoint of a model trained on another task or with another architecture (e.g. initializing a BertForSequenceClassification model from a BertForPreTraining model).\n",
      "- This IS NOT expected if you are initializing DistilBertModel from the checkpoint of a model that you expect to be exactly identical (initializing a BertForSequenceClassification model from a BertForSequenceClassification model).\n"
     ]
    }
   ],
   "source": [
    "pretrained_weights = 'distilbert-base-uncased'\n",
    "tokenizer = transformers.DistilBertTokenizer.from_pretrained(pretrained_weights)\n",
    "model = transformers.DistilBertModel.from_pretrained(pretrained_weights)"
   ]
  },
  {
   "cell_type": "code",
   "execution_count": 27,
   "metadata": {
    "id": "aplArzXUpdjl"
   },
   "outputs": [],
   "source": [
    "tokenized = data['bert_text'].apply(lambda x: tokenizer.encode(x, add_special_tokens=True, truncation=True))\n",
    "\n",
    "n = max(tokenized.apply(lambda x: len(x)))\n",
    "# англ. вектор с отступами\n",
    "padded = np.array([i + [0]*(n - len(i)) for i in tokenized.values])\n",
    "\n",
    "attention_mask = np.where(padded != 0, 1, 0)"
   ]
  },
  {
   "cell_type": "code",
   "execution_count": 28,
   "metadata": {
    "colab": {
     "base_uri": "https://localhost:8080/"
    },
    "id": "3qZ2Z1mmQAJC",
    "outputId": "1962e1f0-5545-42ac-fce6-498598a62dac"
   },
   "outputs": [
    {
     "data": {
      "text/plain": [
       "(31993, 512)"
      ]
     },
     "execution_count": 28,
     "metadata": {},
     "output_type": "execute_result"
    }
   ],
   "source": [
    "padded.shape"
   ]
  },
  {
   "cell_type": "code",
   "execution_count": 29,
   "metadata": {
    "colab": {
     "base_uri": "https://localhost:8080/"
    },
    "id": "TDAm9QaTQE4P",
    "outputId": "c0c81db0-8129-4b85-81f5-017734902f6a"
   },
   "outputs": [
    {
     "data": {
      "text/plain": [
       "(31993, 512)"
      ]
     },
     "execution_count": 29,
     "metadata": {},
     "output_type": "execute_result"
    }
   ],
   "source": [
    "attention_mask.shape"
   ]
  },
  {
   "cell_type": "code",
   "execution_count": 30,
   "metadata": {
    "colab": {
     "base_uri": "https://localhost:8080/",
     "height": 49,
     "referenced_widgets": [
      "fd1350a63b544519af1706bd0f50c05a",
      "f7e34edd3ee84fefba411d0374ab2cdf",
      "882e7a925db0466e8c35989737e0188a",
      "a1fb75957b81431fb196fcf17330da83",
      "d0847f5da00b46e1817afe13460a451f",
      "7385a084c6fe463cb75beda8dba66821",
      "052c2c763dd044ef8c5173b796077f38",
      "b63d36f456214ed5ad74494b7b1ea90b",
      "e004c9b6c6c54dd2b564a302dea31003",
      "0e4ec4fe5d5d4d53a073108fb6d829d0",
      "3d143537974c45e2b8088e9206b6611a"
     ]
    },
    "id": "DqMauIvaul6f",
    "outputId": "2a3f1639-ffa6-4c70-da67-c2282013c4db"
   },
   "outputs": [
    {
     "data": {
      "application/vnd.jupyter.widget-view+json": {
       "model_id": "fd1350a63b544519af1706bd0f50c05a",
       "version_major": 2,
       "version_minor": 0
      },
      "text/plain": [
       "  0%|          | 0/320 [00:00<?, ?it/s]"
      ]
     },
     "metadata": {},
     "output_type": "display_data"
    }
   ],
   "source": [
    "batch_size = 100\n",
    "\n",
    "embeddings = []\n",
    "\n",
    "# добавила +1, чтобы брались записи, ктр не попадали из-за некратности общего количества записей числу 100\n",
    "for i in notebook.tqdm(range(padded.shape[0] // batch_size + 1)): \n",
    "    # преобразуем данные\n",
    "    batch = torch.LongTensor(padded[batch_size*i:batch_size*(i+1)]).to(device)\n",
    "    # преобразуем маску\n",
    "    attention_mask_batch = torch.LongTensor(attention_mask[batch_size*i:batch_size*(i+1)]).to(device)\n",
    "\n",
    "    with torch.no_grad():\n",
    "        model.to(device)\n",
    "        batch_embeddings = model(batch, attention_mask=attention_mask_batch)\n",
    "\n",
    "    # Из полученного тензора извлечём нужные элементы и добавим в список всех эмбеддингов\n",
    "    # преобразуем элементы методом numpy() к типу numpy.array\n",
    "    embeddings.append(batch_embeddings[0][:,0,:].cpu().numpy())\n",
    "\n",
    "    del batch\n",
    "    del attention_mask_batch\n",
    "    del batch_embeddings"
   ]
  },
  {
   "cell_type": "code",
   "execution_count": 31,
   "metadata": {
    "colab": {
     "base_uri": "https://localhost:8080/"
    },
    "id": "SbhyJ_MJu5nO",
    "outputId": "925011d3-818c-4d22-dc2a-abd407dec89d"
   },
   "outputs": [
    {
     "data": {
      "text/plain": [
       "(31993, 768)"
      ]
     },
     "execution_count": 31,
     "metadata": {},
     "output_type": "execute_result"
    }
   ],
   "source": [
    "# Соберём все эмбеддинги в матрицу признаков вызовов функции concatenate()\n",
    "bert_features = np.concatenate(embeddings)\n",
    "bert_features.shape"
   ]
  },
  {
   "cell_type": "code",
   "execution_count": 32,
   "metadata": {
    "colab": {
     "base_uri": "https://localhost:8080/"
    },
    "id": "_BILCRMImoWy",
    "outputId": "ada3665d-581b-463f-bae0-d4ca087d46f9"
   },
   "outputs": [
    {
     "data": {
      "text/plain": [
       "(31993,)"
      ]
     },
     "execution_count": 32,
     "metadata": {},
     "output_type": "execute_result"
    }
   ],
   "source": [
    "bert_target = data['toxic']\n",
    "bert_target.shape"
   ]
  },
  {
   "cell_type": "code",
   "execution_count": 33,
   "metadata": {
    "id": "3nhIUCSMvTmu"
   },
   "outputs": [],
   "source": [
    "bert_features_train, bert_features_test, bert_target_train, bert_target_test = train_test_split(bert_features, bert_target, test_size=0.2, random_state=12345)"
   ]
  },
  {
   "cell_type": "code",
   "execution_count": 34,
   "metadata": {
    "colab": {
     "base_uri": "https://localhost:8080/"
    },
    "id": "DzIxeHXkbWy-",
    "outputId": "b58c7c98-aa93-4fa8-b3b5-61b6339530ab"
   },
   "outputs": [
    {
     "data": {
      "text/plain": [
       "((25594, 768), (25594,))"
      ]
     },
     "execution_count": 34,
     "metadata": {},
     "output_type": "execute_result"
    }
   ],
   "source": [
    "bert_features_train.shape, bert_target_train.shape"
   ]
  },
  {
   "cell_type": "code",
   "execution_count": 35,
   "metadata": {
    "colab": {
     "base_uri": "https://localhost:8080/"
    },
    "id": "GdbEl0c2bW21",
    "outputId": "3d5f5b25-ea5c-400d-a7ae-849770ca77d4"
   },
   "outputs": [
    {
     "data": {
      "text/plain": [
       "((6399, 768), (6399,))"
      ]
     },
     "execution_count": 35,
     "metadata": {},
     "output_type": "execute_result"
    }
   ],
   "source": [
    "bert_features_test.shape, bert_target_test.shape"
   ]
  },
  {
   "cell_type": "markdown",
   "metadata": {
    "id": "wT9UWR9T6vns"
   },
   "source": [
    "**Вывод**\n",
    "\n",
    "Для готового очищенного и лемматизированного текста применила модель `DistilBertModel` для получения признаков.  \n",
    "\n",
    "Также выделила тестовую выборку в 20%."
   ]
  },
  {
   "cell_type": "markdown",
   "metadata": {
    "id": "Yp-4m9KAnG_6"
   },
   "source": [
    "## Обучение"
   ]
  },
  {
   "cell_type": "code",
   "execution_count": 36,
   "metadata": {
    "id": "se6P2Y2OnG_6"
   },
   "outputs": [],
   "source": [
    "metrics = pd.DataFrame(columns = ['nlp_type', 'model_type', 'depth', 'n_estimators', 'f1_score', 'best_model'])"
   ]
  },
  {
   "cell_type": "code",
   "execution_count": 37,
   "metadata": {
    "id": "4V5i3vjbnG_7"
   },
   "outputs": [],
   "source": [
    "MIN_DEPTH = 10\n",
    "MAX_DEPTH = 20\n",
    "MAX_DEPTH_TREE = 30\n",
    "CV = 4 # тестовая выборка 20%, поэтому валдационная тоже при кросс-валидации пусть будет 20% датасета\n",
    "MIN_EST = 1\n",
    "MAX_EST = 50\n",
    "N_ITER = 4    \n",
    "\n",
    "DISTRIBUTIONS_FOREST = {'max_depth':range(MIN_DEPTH, MAX_DEPTH + 1, 5), 'n_estimators':range(MIN_EST,MAX_EST + 1, 10)}\n",
    "DISTRIBUTIONS_TREE = {'max_depth':range(1, MAX_DEPTH_TREE + 1, 5)} "
   ]
  },
  {
   "cell_type": "code",
   "execution_count": 38,
   "metadata": {
    "id": "MIGklw0QnG_7"
   },
   "outputs": [],
   "source": [
    "def get_best_params(model, features_train, target_train, distributions=None, verbose=None):\n",
    "    \n",
    "    if distributions==None:\n",
    "        distributions = DISTRIBUTIONS_FOREST\n",
    "      \n",
    "    grid = RandomizedSearchCV(model, distributions, cv = CV, scoring = 'f1', n_iter=N_ITER, \n",
    "                              n_jobs = -1, random_state=12345)\n",
    "    \n",
    "    if verbose==None:\n",
    "        grid.fit(features_train, target_train)\n",
    "    else:\n",
    "        grid.fit(features_train, target_train, verbose=verbose)\n",
    "    \n",
    "    return grid.best_estimator_, round(grid.best_score_, 3)"
   ]
  },
  {
   "cell_type": "markdown",
   "metadata": {
    "id": "ZGhecBsj7zO7"
   },
   "source": [
    "### TF-IDF"
   ]
  },
  {
   "cell_type": "markdown",
   "metadata": {
    "id": "Qmsb6ZKqnG_7"
   },
   "source": [
    "#### Логистическая регрессия"
   ]
  },
  {
   "cell_type": "code",
   "execution_count": 39,
   "metadata": {
    "colab": {
     "base_uri": "https://localhost:8080/"
    },
    "id": "BfCLzsHKqU9e",
    "outputId": "b8f644d0-1f09-4366-a6aa-8d12139a91cc"
   },
   "outputs": [
    {
     "name": "stdout",
     "output_type": "stream",
     "text": [
      "CPU times: user 4.37 s, sys: 833 ms, total: 5.21 s\n",
      "Wall time: 4.33 s\n"
     ]
    }
   ],
   "source": [
    "%%time\n",
    "model = LogisticRegression(random_state=12345, solver='liblinear')\n",
    "tf_idf_pipeline = make_pipeline(count_tf_idf, model)\n",
    "\n",
    "scores = cross_val_score(tf_idf_pipeline, corpus_train, tf_idf_target_train, scoring='f1', cv=CV)\n",
    "metrics.loc[len(metrics.index)] = ['TF-IDF', 'LogisticRegression', None, None, round(pd.Series(scores).mean(), 3), tf_idf_pipeline]"
   ]
  },
  {
   "cell_type": "markdown",
   "metadata": {
    "id": "zPygK1whnG_7"
   },
   "source": [
    "#### Дерево решений"
   ]
  },
  {
   "cell_type": "code",
   "execution_count": 40,
   "metadata": {
    "colab": {
     "base_uri": "https://localhost:8080/"
    },
    "id": "jbMm8zNAuOp_",
    "outputId": "ad20b7b3-3573-4013-e4e5-795d7c250bff"
   },
   "outputs": [
    {
     "name": "stdout",
     "output_type": "stream",
     "text": [
      "CPU times: user 3.93 s, sys: 298 ms, total: 4.23 s\n",
      "Wall time: 30.4 s\n"
     ]
    }
   ],
   "source": [
    "%%time\n",
    "model = DecisionTreeClassifier(random_state=12345)\n",
    "tf_idf_pipeline = Pipeline([\n",
    "      ('count_tf_idf', count_tf_idf), \n",
    "      ('tree',model)\n",
    "  ])\n",
    "\n",
    "pipeline_distributions = {'tree__' + key: DISTRIBUTIONS_TREE[key] for key in DISTRIBUTIONS_TREE}\n",
    "\n",
    "best_model, best_score = get_best_params(tf_idf_pipeline, corpus_train, tf_idf_target_train, pipeline_distributions)\n",
    "metrics.loc[len(metrics.index)] = ['TF-IDF', 'DecisionTreeClassifier', best_model['tree'].max_depth, None, best_score, best_model] "
   ]
  },
  {
   "cell_type": "markdown",
   "metadata": {
    "id": "_TpkDLqVnG_8"
   },
   "source": [
    "#### Случайный лес"
   ]
  },
  {
   "cell_type": "code",
   "execution_count": 41,
   "metadata": {
    "colab": {
     "base_uri": "https://localhost:8080/"
    },
    "id": "wbCN7Anv1ycQ",
    "outputId": "e4359046-5dfb-41f5-a076-f97ddfd63035"
   },
   "outputs": [
    {
     "name": "stdout",
     "output_type": "stream",
     "text": [
      "CPU times: user 1.89 s, sys: 80.2 ms, total: 1.97 s\n",
      "Wall time: 16.4 s\n"
     ]
    }
   ],
   "source": [
    "%%time\n",
    "\n",
    "model = RandomForestClassifier(random_state=12345)\n",
    "tf_idf_pipeline = Pipeline([\n",
    "      ('count_tf_idf', count_tf_idf), \n",
    "      ('forest',model)\n",
    "  ])\n",
    "\n",
    "pipeline_distributions = {'forest__' + key: DISTRIBUTIONS_FOREST[key] for key in DISTRIBUTIONS_FOREST}\n",
    "\n",
    "best_model, best_score = get_best_params(tf_idf_pipeline, corpus_train, tf_idf_target_train, pipeline_distributions)\n",
    "metrics.loc[len(metrics.index)] = ['TF-IDF', 'RandomForestClassifier', best_model['forest'].max_depth, \n",
    "                                   best_model['forest'].n_estimators, best_score, best_model] "
   ]
  },
  {
   "cell_type": "markdown",
   "metadata": {
    "id": "u3Q8B4PzWIrL"
   },
   "source": [
    "### BERT"
   ]
  },
  {
   "cell_type": "markdown",
   "metadata": {
    "id": "KZ-mIp79WP6F"
   },
   "source": [
    "#### Логистическая регрессия"
   ]
  },
  {
   "cell_type": "code",
   "execution_count": 42,
   "metadata": {
    "colab": {
     "base_uri": "https://localhost:8080/"
    },
    "id": "sGzEne6FWQEY",
    "outputId": "2afa7eab-1dae-4bbe-bd3c-c55bec1879ac"
   },
   "outputs": [
    {
     "name": "stdout",
     "output_type": "stream",
     "text": [
      "CPU times: user 36.5 s, sys: 482 ms, total: 37 s\n",
      "Wall time: 36.4 s\n"
     ]
    }
   ],
   "source": [
    "%%time\n",
    "model = LogisticRegression(random_state=12345, solver='liblinear')\n",
    "scores = cross_val_score(model, bert_features_train, bert_target_train, scoring='f1', cv=CV)\n",
    "metrics.loc[len(metrics.index)] = ['BERT', 'LogisticRegression', None, None, round(pd.Series(scores).mean(), 3), model]"
   ]
  },
  {
   "cell_type": "markdown",
   "metadata": {
    "id": "XcJ9hNVbWQn_"
   },
   "source": [
    "#### Дерево решений"
   ]
  },
  {
   "cell_type": "code",
   "execution_count": 43,
   "metadata": {
    "colab": {
     "base_uri": "https://localhost:8080/"
    },
    "id": "QEZtETHyWQxU",
    "outputId": "367d0b90-d34c-4478-f907-550fd2382f50"
   },
   "outputs": [
    {
     "name": "stdout",
     "output_type": "stream",
     "text": [
      "CPU times: user 34.5 s, sys: 282 ms, total: 34.7 s\n",
      "Wall time: 4min 15s\n"
     ]
    }
   ],
   "source": [
    "%%time\n",
    "model = DecisionTreeClassifier(random_state=12345)\n",
    "best_model, best_score = get_best_params(model, bert_features_train, bert_target_train, DISTRIBUTIONS_TREE)\n",
    "metrics.loc[len(metrics.index)] = ['BERT', 'DecisionTreeClassifier', best_model.max_depth, None, best_score, best_model] "
   ]
  },
  {
   "cell_type": "markdown",
   "metadata": {
    "id": "yZnyaC9UWQ8U"
   },
   "source": [
    "#### Случайный лес"
   ]
  },
  {
   "cell_type": "code",
   "execution_count": 44,
   "metadata": {
    "colab": {
     "base_uri": "https://localhost:8080/"
    },
    "id": "uqDzbbLBWRGA",
    "outputId": "4066f4a8-abda-474a-d35b-1997644efe33"
   },
   "outputs": [
    {
     "name": "stdout",
     "output_type": "stream",
     "text": [
      "CPU times: user 20.6 s, sys: 126 ms, total: 20.7 s\n",
      "Wall time: 1min 42s\n"
     ]
    }
   ],
   "source": [
    "%%time\n",
    "model = RandomForestClassifier(random_state=12345)\n",
    "best_model, best_score = get_best_params(model, bert_features_train, bert_target_train)\n",
    "metrics.loc[len(metrics.index)] = ['BERT', 'RandomForestClassifier', best_model.max_depth, best_model.n_estimators, best_score, \n",
    "                                   best_model] "
   ]
  },
  {
   "cell_type": "markdown",
   "metadata": {
    "id": "Pvu23rcTnG_9"
   },
   "source": [
    "### Лучшая модель"
   ]
  },
  {
   "cell_type": "code",
   "execution_count": 45,
   "metadata": {
    "colab": {
     "base_uri": "https://localhost:8080/",
     "height": 237
    },
    "id": "diW16CbsnG_9",
    "outputId": "c2acfea0-924a-4a1c-8e08-9af28ca72272"
   },
   "outputs": [
    {
     "data": {
      "text/html": [
       "\n",
       "  <div id=\"df-c30304d6-1d44-424b-bda9-bc7da0682e01\">\n",
       "    <div class=\"colab-df-container\">\n",
       "      <div>\n",
       "<style scoped>\n",
       "    .dataframe tbody tr th:only-of-type {\n",
       "        vertical-align: middle;\n",
       "    }\n",
       "\n",
       "    .dataframe tbody tr th {\n",
       "        vertical-align: top;\n",
       "    }\n",
       "\n",
       "    .dataframe thead th {\n",
       "        text-align: right;\n",
       "    }\n",
       "</style>\n",
       "<table border=\"1\" class=\"dataframe\">\n",
       "  <thead>\n",
       "    <tr style=\"text-align: right;\">\n",
       "      <th></th>\n",
       "      <th>nlp_type</th>\n",
       "      <th>model_type</th>\n",
       "      <th>depth</th>\n",
       "      <th>n_estimators</th>\n",
       "      <th>f1_score</th>\n",
       "    </tr>\n",
       "  </thead>\n",
       "  <tbody>\n",
       "    <tr>\n",
       "      <th>0</th>\n",
       "      <td>BERT</td>\n",
       "      <td>LogisticRegression</td>\n",
       "      <td>None</td>\n",
       "      <td>None</td>\n",
       "      <td>0.899</td>\n",
       "    </tr>\n",
       "    <tr>\n",
       "      <th>1</th>\n",
       "      <td>TF-IDF</td>\n",
       "      <td>LogisticRegression</td>\n",
       "      <td>None</td>\n",
       "      <td>None</td>\n",
       "      <td>0.889</td>\n",
       "    </tr>\n",
       "    <tr>\n",
       "      <th>2</th>\n",
       "      <td>BERT</td>\n",
       "      <td>RandomForestClassifier</td>\n",
       "      <td>15</td>\n",
       "      <td>31</td>\n",
       "      <td>0.867</td>\n",
       "    </tr>\n",
       "    <tr>\n",
       "      <th>3</th>\n",
       "      <td>BERT</td>\n",
       "      <td>DecisionTreeClassifier</td>\n",
       "      <td>16</td>\n",
       "      <td>None</td>\n",
       "      <td>0.797</td>\n",
       "    </tr>\n",
       "    <tr>\n",
       "      <th>4</th>\n",
       "      <td>TF-IDF</td>\n",
       "      <td>RandomForestClassifier</td>\n",
       "      <td>15</td>\n",
       "      <td>31</td>\n",
       "      <td>0.788</td>\n",
       "    </tr>\n",
       "    <tr>\n",
       "      <th>5</th>\n",
       "      <td>TF-IDF</td>\n",
       "      <td>DecisionTreeClassifier</td>\n",
       "      <td>26</td>\n",
       "      <td>None</td>\n",
       "      <td>0.744</td>\n",
       "    </tr>\n",
       "  </tbody>\n",
       "</table>\n",
       "</div>\n",
       "      <button class=\"colab-df-convert\" onclick=\"convertToInteractive('df-c30304d6-1d44-424b-bda9-bc7da0682e01')\"\n",
       "              title=\"Convert this dataframe to an interactive table.\"\n",
       "              style=\"display:none;\">\n",
       "        \n",
       "  <svg xmlns=\"http://www.w3.org/2000/svg\" height=\"24px\"viewBox=\"0 0 24 24\"\n",
       "       width=\"24px\">\n",
       "    <path d=\"M0 0h24v24H0V0z\" fill=\"none\"/>\n",
       "    <path d=\"M18.56 5.44l.94 2.06.94-2.06 2.06-.94-2.06-.94-.94-2.06-.94 2.06-2.06.94zm-11 1L8.5 8.5l.94-2.06 2.06-.94-2.06-.94L8.5 2.5l-.94 2.06-2.06.94zm10 10l.94 2.06.94-2.06 2.06-.94-2.06-.94-.94-2.06-.94 2.06-2.06.94z\"/><path d=\"M17.41 7.96l-1.37-1.37c-.4-.4-.92-.59-1.43-.59-.52 0-1.04.2-1.43.59L10.3 9.45l-7.72 7.72c-.78.78-.78 2.05 0 2.83L4 21.41c.39.39.9.59 1.41.59.51 0 1.02-.2 1.41-.59l7.78-7.78 2.81-2.81c.8-.78.8-2.07 0-2.86zM5.41 20L4 18.59l7.72-7.72 1.47 1.35L5.41 20z\"/>\n",
       "  </svg>\n",
       "      </button>\n",
       "      \n",
       "  <style>\n",
       "    .colab-df-container {\n",
       "      display:flex;\n",
       "      flex-wrap:wrap;\n",
       "      gap: 12px;\n",
       "    }\n",
       "\n",
       "    .colab-df-convert {\n",
       "      background-color: #E8F0FE;\n",
       "      border: none;\n",
       "      border-radius: 50%;\n",
       "      cursor: pointer;\n",
       "      display: none;\n",
       "      fill: #1967D2;\n",
       "      height: 32px;\n",
       "      padding: 0 0 0 0;\n",
       "      width: 32px;\n",
       "    }\n",
       "\n",
       "    .colab-df-convert:hover {\n",
       "      background-color: #E2EBFA;\n",
       "      box-shadow: 0px 1px 2px rgba(60, 64, 67, 0.3), 0px 1px 3px 1px rgba(60, 64, 67, 0.15);\n",
       "      fill: #174EA6;\n",
       "    }\n",
       "\n",
       "    [theme=dark] .colab-df-convert {\n",
       "      background-color: #3B4455;\n",
       "      fill: #D2E3FC;\n",
       "    }\n",
       "\n",
       "    [theme=dark] .colab-df-convert:hover {\n",
       "      background-color: #434B5C;\n",
       "      box-shadow: 0px 1px 3px 1px rgba(0, 0, 0, 0.15);\n",
       "      filter: drop-shadow(0px 1px 2px rgba(0, 0, 0, 0.3));\n",
       "      fill: #FFFFFF;\n",
       "    }\n",
       "  </style>\n",
       "\n",
       "      <script>\n",
       "        const buttonEl =\n",
       "          document.querySelector('#df-c30304d6-1d44-424b-bda9-bc7da0682e01 button.colab-df-convert');\n",
       "        buttonEl.style.display =\n",
       "          google.colab.kernel.accessAllowed ? 'block' : 'none';\n",
       "\n",
       "        async function convertToInteractive(key) {\n",
       "          const element = document.querySelector('#df-c30304d6-1d44-424b-bda9-bc7da0682e01');\n",
       "          const dataTable =\n",
       "            await google.colab.kernel.invokeFunction('convertToInteractive',\n",
       "                                                     [key], {});\n",
       "          if (!dataTable) return;\n",
       "\n",
       "          const docLinkHtml = 'Like what you see? Visit the ' +\n",
       "            '<a target=\"_blank\" href=https://colab.research.google.com/notebooks/data_table.ipynb>data table notebook</a>'\n",
       "            + ' to learn more about interactive tables.';\n",
       "          element.innerHTML = '';\n",
       "          dataTable['output_type'] = 'display_data';\n",
       "          await google.colab.output.renderOutput(dataTable, element);\n",
       "          const docLink = document.createElement('div');\n",
       "          docLink.innerHTML = docLinkHtml;\n",
       "          element.appendChild(docLink);\n",
       "        }\n",
       "      </script>\n",
       "    </div>\n",
       "  </div>\n",
       "  "
      ],
      "text/plain": [
       "  nlp_type              model_type depth n_estimators  f1_score\n",
       "0     BERT      LogisticRegression  None         None     0.899\n",
       "1   TF-IDF      LogisticRegression  None         None     0.889\n",
       "2     BERT  RandomForestClassifier    15           31     0.867\n",
       "3     BERT  DecisionTreeClassifier    16         None     0.797\n",
       "4   TF-IDF  RandomForestClassifier    15           31     0.788\n",
       "5   TF-IDF  DecisionTreeClassifier    26         None     0.744"
      ]
     },
     "execution_count": 45,
     "metadata": {},
     "output_type": "execute_result"
    }
   ],
   "source": [
    "metrics = metrics.sort_values('f1_score', ascending=False).reset_index(drop=True)\n",
    "best_model = metrics.loc[0, 'best_model']\n",
    "metrics = metrics.drop('best_model', axis=1)\n",
    "metrics"
   ]
  },
  {
   "cell_type": "code",
   "execution_count": 46,
   "metadata": {
    "colab": {
     "base_uri": "https://localhost:8080/"
    },
    "id": "6zbCvvjMnG_9",
    "outputId": "7e6bb71c-93fb-4bbb-e334-6772830a7089"
   },
   "outputs": [
    {
     "data": {
      "text/plain": [
       "LogisticRegression(random_state=12345, solver='liblinear')"
      ]
     },
     "execution_count": 46,
     "metadata": {},
     "output_type": "execute_result"
    }
   ],
   "source": [
    "best_model"
   ]
  },
  {
   "cell_type": "markdown",
   "metadata": {
    "id": "wAtm0nMa8HJA"
   },
   "source": [
    "**Вывод**\n",
    "\n",
    "Обучила 6 моделей - 3 для TF-IDF, 3 для BERT - логистическая регрессия, дерево решений, случайный лес. Модели градиентного бустинга не использовала из-за большого времени выполнения.\n",
    "\n",
    "В итоге лучшая F1-мера при кросс-валидации на модели логистической регрессии для признаков, подготовленных с помощью BERT."
   ]
  },
  {
   "cell_type": "markdown",
   "metadata": {
    "id": "5guoz-GInG_9"
   },
   "source": [
    "## Выводы"
   ]
  },
  {
   "cell_type": "code",
   "execution_count": 47,
   "metadata": {
    "colab": {
     "base_uri": "https://localhost:8080/"
    },
    "id": "zw5STHEknG_9",
    "outputId": "5bd8da0c-927f-441b-c01c-c7047d4d8cbf"
   },
   "outputs": [
    {
     "name": "stdout",
     "output_type": "stream",
     "text": [
      "0.8986645718774549\n"
     ]
    }
   ],
   "source": [
    "if metrics.loc[0, 'nlp_type'] == 'BERT':\n",
    "  best_model.fit(bert_features_train, bert_target_train)\n",
    "  predictions = best_model.predict(bert_features_test)\n",
    "  print(f1_score(bert_target_test, predictions))\n",
    "else:\n",
    "  best_model.fit(corpus_train, tf_idf_target_train)\n",
    "  predictions = best_model.predict(corpus_test)\n",
    "  print(f1_score(tf_idf_target_test, predictions))"
   ]
  },
  {
   "cell_type": "markdown",
   "metadata": {
    "id": "4ocnMiXL81DD"
   },
   "source": [
    "**Вывод**\n",
    "\n",
    "Лучшая модель - логистическая регрессия для признаков, подготовленных с помощью BERT. Она дает на тестовой выборке F1-меру, равную 0.899.\n",
    "\n",
    "При этом предобработка перед обучением (подготовка признаков для BERT и очистка текста с лемматизацией для TF_IDF) занимает соизмеримое время - в пределах 10 минут для выборки после downsampling, обучение моделей с кросс-валидацией в случае BERT заметно дольше (для случайного леса - 16 секунд против 104), а качество на кросс-валидации отличается на сотые."
   ]
  }
 ],
 "metadata": {
  "ExecuteTimeLog": [
   {
    "duration": 681,
    "start_time": "2022-06-01T10:37:45.525Z"
   },
   {
    "duration": 2446,
    "start_time": "2022-06-01T10:38:31.066Z"
   },
   {
    "duration": 16,
    "start_time": "2022-06-01T10:38:55.002Z"
   },
   {
    "duration": 189,
    "start_time": "2022-06-01T10:43:28.565Z"
   },
   {
    "duration": 4,
    "start_time": "2022-06-01T10:44:25.219Z"
   },
   {
    "duration": 3,
    "start_time": "2022-06-01T10:52:49.759Z"
   },
   {
    "duration": 458,
    "start_time": "2022-06-01T10:58:44.042Z"
   },
   {
    "duration": 887,
    "start_time": "2022-06-01T10:58:44.502Z"
   },
   {
    "duration": 15,
    "start_time": "2022-06-01T10:58:45.390Z"
   },
   {
    "duration": 3,
    "start_time": "2022-06-01T10:58:45.407Z"
   },
   {
    "duration": 84,
    "start_time": "2022-06-01T10:58:45.428Z"
   },
   {
    "duration": 499,
    "start_time": "2022-06-01T10:59:24.017Z"
   },
   {
    "duration": 903,
    "start_time": "2022-06-01T10:59:24.518Z"
   },
   {
    "duration": 20,
    "start_time": "2022-06-01T10:59:25.427Z"
   },
   {
    "duration": 4,
    "start_time": "2022-06-01T10:59:25.450Z"
   },
   {
    "duration": 453,
    "start_time": "2022-06-01T11:03:08.602Z"
   },
   {
    "duration": 897,
    "start_time": "2022-06-01T11:03:09.057Z"
   },
   {
    "duration": 16,
    "start_time": "2022-06-01T11:03:09.955Z"
   },
   {
    "duration": 13,
    "start_time": "2022-06-01T11:03:09.973Z"
   },
   {
    "duration": 7,
    "start_time": "2022-06-01T11:03:09.988Z"
   },
   {
    "duration": 104,
    "start_time": "2022-06-01T11:03:09.997Z"
   },
   {
    "duration": 4,
    "start_time": "2022-06-01T11:03:23.070Z"
   },
   {
    "duration": 473,
    "start_time": "2022-06-01T11:04:38.021Z"
   },
   {
    "duration": 904,
    "start_time": "2022-06-01T11:04:38.496Z"
   },
   {
    "duration": 28,
    "start_time": "2022-06-01T11:04:39.401Z"
   },
   {
    "duration": 11,
    "start_time": "2022-06-01T11:04:39.431Z"
   },
   {
    "duration": 9,
    "start_time": "2022-06-01T11:04:39.445Z"
   },
   {
    "duration": 3418,
    "start_time": "2022-06-01T11:04:39.455Z"
   },
   {
    "duration": 38,
    "start_time": "2022-06-01T11:07:31.878Z"
   },
   {
    "duration": 36,
    "start_time": "2022-06-01T11:08:08.622Z"
   },
   {
    "duration": 79,
    "start_time": "2022-06-01T11:08:25.117Z"
   },
   {
    "duration": 12,
    "start_time": "2022-06-01T11:08:34.493Z"
   },
   {
    "duration": 38,
    "start_time": "2022-06-01T11:08:55.276Z"
   },
   {
    "duration": 4,
    "start_time": "2022-06-01T11:08:59.340Z"
   },
   {
    "duration": 4565,
    "start_time": "2022-06-01T11:09:13.187Z"
   },
   {
    "duration": 464,
    "start_time": "2022-06-01T11:09:54.106Z"
   },
   {
    "duration": 847,
    "start_time": "2022-06-01T11:09:54.572Z"
   },
   {
    "duration": 26,
    "start_time": "2022-06-01T11:09:55.421Z"
   },
   {
    "duration": 23,
    "start_time": "2022-06-01T11:09:55.450Z"
   },
   {
    "duration": 11,
    "start_time": "2022-06-01T11:09:55.475Z"
   },
   {
    "duration": 13,
    "start_time": "2022-06-01T11:09:55.487Z"
   },
   {
    "duration": 279413,
    "start_time": "2022-06-01T11:09:55.501Z"
   },
   {
    "duration": 4841,
    "start_time": "2022-06-01T11:19:31.438Z"
   },
   {
    "duration": 4,
    "start_time": "2022-06-01T11:19:39.789Z"
   },
   {
    "duration": 289,
    "start_time": "2022-06-01T11:20:16.893Z"
   },
   {
    "duration": 2971,
    "start_time": "2022-06-01T11:22:15.709Z"
   },
   {
    "duration": 11597,
    "start_time": "2022-06-01T11:22:26.244Z"
   },
   {
    "duration": 4,
    "start_time": "2022-06-01T11:22:37.843Z"
   },
   {
    "duration": 41,
    "start_time": "2022-06-01T11:22:39.394Z"
   },
   {
    "duration": 3,
    "start_time": "2022-06-01T11:22:43.930Z"
   },
   {
    "duration": 31,
    "start_time": "2022-06-01T11:22:46.881Z"
   },
   {
    "duration": 3,
    "start_time": "2022-06-01T11:32:10.162Z"
   },
   {
    "duration": 10771,
    "start_time": "2022-06-01T11:32:10.167Z"
   },
   {
    "duration": 3732,
    "start_time": "2022-06-01T11:32:20.940Z"
   },
   {
    "duration": 302,
    "start_time": "2022-06-01T11:32:24.674Z"
   },
   {
    "duration": 0,
    "start_time": "2022-06-01T11:32:24.979Z"
   },
   {
    "duration": 0,
    "start_time": "2022-06-01T11:32:24.980Z"
   },
   {
    "duration": 0,
    "start_time": "2022-06-01T11:32:24.981Z"
   },
   {
    "duration": 0,
    "start_time": "2022-06-01T11:32:24.982Z"
   },
   {
    "duration": 0,
    "start_time": "2022-06-01T11:32:24.983Z"
   },
   {
    "duration": 0,
    "start_time": "2022-06-01T11:32:24.984Z"
   },
   {
    "duration": 0,
    "start_time": "2022-06-01T11:32:24.985Z"
   },
   {
    "duration": 3,
    "start_time": "2022-06-01T11:32:31.062Z"
   },
   {
    "duration": 3,
    "start_time": "2022-06-01T11:34:29.402Z"
   },
   {
    "duration": 6,
    "start_time": "2022-06-01T11:34:29.409Z"
   },
   {
    "duration": 3731,
    "start_time": "2022-06-01T11:34:29.417Z"
   },
   {
    "duration": 3,
    "start_time": "2022-06-01T11:34:33.150Z"
   },
   {
    "duration": 781,
    "start_time": "2022-06-01T11:34:33.155Z"
   },
   {
    "duration": 20,
    "start_time": "2022-06-01T11:34:33.942Z"
   },
   {
    "duration": 7,
    "start_time": "2022-06-01T11:34:33.964Z"
   },
   {
    "duration": 6,
    "start_time": "2022-06-01T11:34:33.972Z"
   },
   {
    "duration": 10,
    "start_time": "2022-06-01T11:34:33.981Z"
   },
   {
    "duration": 664,
    "start_time": "2022-06-01T11:34:33.993Z"
   },
   {
    "duration": 249,
    "start_time": "2022-06-01T11:34:34.659Z"
   },
   {
    "duration": 5,
    "start_time": "2022-06-01T11:48:32.496Z"
   },
   {
    "duration": 3,
    "start_time": "2022-06-01T11:48:34.703Z"
   },
   {
    "duration": 5,
    "start_time": "2022-06-01T11:48:52.583Z"
   },
   {
    "duration": 7,
    "start_time": "2022-06-01T11:48:57.271Z"
   },
   {
    "duration": 4,
    "start_time": "2022-06-01T11:50:14.838Z"
   },
   {
    "duration": 189,
    "start_time": "2022-06-01T11:50:18.629Z"
   },
   {
    "duration": 4,
    "start_time": "2022-06-01T11:50:28.118Z"
   },
   {
    "duration": 485,
    "start_time": "2022-06-01T11:50:30.845Z"
   },
   {
    "duration": 5,
    "start_time": "2022-06-01T11:51:08.028Z"
   },
   {
    "duration": 289,
    "start_time": "2022-06-01T11:51:11.477Z"
   },
   {
    "duration": 5,
    "start_time": "2022-06-01T11:51:15.053Z"
   },
   {
    "duration": 832,
    "start_time": "2022-06-01T11:51:17.380Z"
   },
   {
    "duration": 4,
    "start_time": "2022-06-01T11:51:20.653Z"
   },
   {
    "duration": 221,
    "start_time": "2022-06-01T11:51:22.795Z"
   },
   {
    "duration": 3,
    "start_time": "2022-06-01T11:52:14.883Z"
   },
   {
    "duration": 212,
    "start_time": "2022-06-01T11:52:55.283Z"
   },
   {
    "duration": 5,
    "start_time": "2022-06-01T11:53:05.193Z"
   },
   {
    "duration": 313,
    "start_time": "2022-06-01T11:53:15.074Z"
   },
   {
    "duration": 4,
    "start_time": "2022-06-01T11:53:33.266Z"
   },
   {
    "duration": 226,
    "start_time": "2022-06-01T11:53:36.561Z"
   },
   {
    "duration": 280,
    "start_time": "2022-06-01T11:53:45.629Z"
   },
   {
    "duration": 192,
    "start_time": "2022-06-01T11:53:55.162Z"
   },
   {
    "duration": 3864,
    "start_time": "2022-06-01T11:55:02.242Z"
   },
   {
    "duration": 844,
    "start_time": "2022-06-01T11:55:06.108Z"
   },
   {
    "duration": 18,
    "start_time": "2022-06-01T11:55:06.954Z"
   },
   {
    "duration": 4,
    "start_time": "2022-06-01T11:55:06.975Z"
   },
   {
    "duration": 12,
    "start_time": "2022-06-01T11:55:06.980Z"
   },
   {
    "duration": 13,
    "start_time": "2022-06-01T11:55:06.994Z"
   },
   {
    "duration": 711,
    "start_time": "2022-06-01T11:55:07.027Z"
   },
   {
    "duration": 4558,
    "start_time": "2022-06-01T12:24:38.455Z"
   },
   {
    "duration": 846,
    "start_time": "2022-06-01T12:24:43.015Z"
   },
   {
    "duration": 21,
    "start_time": "2022-06-01T12:24:43.863Z"
   },
   {
    "duration": 536,
    "start_time": "2022-06-01T12:24:43.886Z"
   },
   {
    "duration": 3,
    "start_time": "2022-06-01T12:24:44.426Z"
   },
   {
    "duration": 16,
    "start_time": "2022-06-01T12:24:44.432Z"
   },
   {
    "duration": 9,
    "start_time": "2022-06-01T12:24:44.450Z"
   },
   {
    "duration": 14781,
    "start_time": "2022-06-01T12:26:03.237Z"
   },
   {
    "duration": 2462,
    "start_time": "2022-06-01T12:26:18.025Z"
   },
   {
    "duration": 20,
    "start_time": "2022-06-01T12:26:20.490Z"
   },
   {
    "duration": 646,
    "start_time": "2022-06-01T12:26:20.513Z"
   },
   {
    "duration": 4,
    "start_time": "2022-06-01T12:26:21.161Z"
   },
   {
    "duration": 8,
    "start_time": "2022-06-01T12:26:21.167Z"
   },
   {
    "duration": 6,
    "start_time": "2022-06-01T12:26:21.177Z"
   },
   {
    "duration": 14715,
    "start_time": "2022-06-01T12:27:04.828Z"
   },
   {
    "duration": 2417,
    "start_time": "2022-06-01T12:27:19.545Z"
   },
   {
    "duration": 30,
    "start_time": "2022-06-01T12:27:21.964Z"
   },
   {
    "duration": 763,
    "start_time": "2022-06-01T12:27:21.996Z"
   },
   {
    "duration": 3,
    "start_time": "2022-06-01T12:27:22.762Z"
   },
   {
    "duration": 16,
    "start_time": "2022-06-01T12:27:22.767Z"
   },
   {
    "duration": 28,
    "start_time": "2022-06-01T12:27:22.785Z"
   },
   {
    "duration": 22,
    "start_time": "2022-06-01T12:27:22.815Z"
   },
   {
    "duration": 18,
    "start_time": "2022-06-01T12:27:22.839Z"
   },
   {
    "duration": 15,
    "start_time": "2022-06-01T12:27:22.860Z"
   },
   {
    "duration": 31,
    "start_time": "2022-06-01T12:27:22.878Z"
   },
   {
    "duration": 481,
    "start_time": "2022-06-01T12:27:22.912Z"
   },
   {
    "duration": 0,
    "start_time": "2022-06-01T12:27:23.396Z"
   },
   {
    "duration": 0,
    "start_time": "2022-06-01T12:27:23.398Z"
   },
   {
    "duration": 0,
    "start_time": "2022-06-01T12:27:23.399Z"
   },
   {
    "duration": 0,
    "start_time": "2022-06-01T12:27:23.401Z"
   },
   {
    "duration": 0,
    "start_time": "2022-06-01T12:27:23.402Z"
   },
   {
    "duration": 0,
    "start_time": "2022-06-01T12:27:23.404Z"
   },
   {
    "duration": 0,
    "start_time": "2022-06-01T12:27:23.405Z"
   },
   {
    "duration": 0,
    "start_time": "2022-06-01T12:27:23.407Z"
   },
   {
    "duration": 4422,
    "start_time": "2022-06-01T12:28:05.457Z"
   },
   {
    "duration": 885,
    "start_time": "2022-06-01T12:28:09.881Z"
   },
   {
    "duration": 16,
    "start_time": "2022-06-01T12:28:10.768Z"
   },
   {
    "duration": 561,
    "start_time": "2022-06-01T12:28:10.787Z"
   },
   {
    "duration": 3,
    "start_time": "2022-06-01T12:28:11.350Z"
   },
   {
    "duration": 11,
    "start_time": "2022-06-01T12:28:11.355Z"
   },
   {
    "duration": 7,
    "start_time": "2022-06-01T12:28:11.369Z"
   },
   {
    "duration": 7,
    "start_time": "2022-06-01T12:28:11.378Z"
   },
   {
    "duration": 6,
    "start_time": "2022-06-01T12:28:11.387Z"
   },
   {
    "duration": 4,
    "start_time": "2022-06-01T12:28:11.397Z"
   },
   {
    "duration": 5,
    "start_time": "2022-06-01T12:28:11.426Z"
   },
   {
    "duration": 33,
    "start_time": "2022-06-01T12:28:11.433Z"
   },
   {
    "duration": 541,
    "start_time": "2022-06-01T12:28:11.468Z"
   },
   {
    "duration": 0,
    "start_time": "2022-06-01T12:28:12.011Z"
   },
   {
    "duration": 0,
    "start_time": "2022-06-01T12:28:12.012Z"
   },
   {
    "duration": 0,
    "start_time": "2022-06-01T12:28:12.014Z"
   },
   {
    "duration": 0,
    "start_time": "2022-06-01T12:28:12.014Z"
   },
   {
    "duration": 0,
    "start_time": "2022-06-01T12:28:12.016Z"
   },
   {
    "duration": 0,
    "start_time": "2022-06-01T12:28:12.017Z"
   },
   {
    "duration": 0,
    "start_time": "2022-06-01T12:28:12.017Z"
   },
   {
    "duration": 28,
    "start_time": "2022-06-01T12:28:29.429Z"
   },
   {
    "duration": 28,
    "start_time": "2022-06-01T12:28:40.694Z"
   },
   {
    "duration": 6042,
    "start_time": "2022-06-01T12:29:29.242Z"
   },
   {
    "duration": 1119,
    "start_time": "2022-06-01T12:29:35.287Z"
   },
   {
    "duration": 27,
    "start_time": "2022-06-01T12:29:36.409Z"
   },
   {
    "duration": 834,
    "start_time": "2022-06-01T12:29:36.438Z"
   },
   {
    "duration": 7,
    "start_time": "2022-06-01T12:29:37.275Z"
   },
   {
    "duration": 13,
    "start_time": "2022-06-01T12:29:37.284Z"
   },
   {
    "duration": 8,
    "start_time": "2022-06-01T12:29:37.299Z"
   },
   {
    "duration": 18,
    "start_time": "2022-06-01T12:29:37.309Z"
   },
   {
    "duration": 10,
    "start_time": "2022-06-01T12:29:37.330Z"
   },
   {
    "duration": 15,
    "start_time": "2022-06-01T12:29:37.343Z"
   },
   {
    "duration": 14,
    "start_time": "2022-06-01T12:29:37.361Z"
   },
   {
    "duration": 49,
    "start_time": "2022-06-01T12:29:37.377Z"
   },
   {
    "duration": 672,
    "start_time": "2022-06-01T12:29:37.429Z"
   },
   {
    "duration": 0,
    "start_time": "2022-06-01T12:29:38.104Z"
   },
   {
    "duration": 0,
    "start_time": "2022-06-01T12:29:38.105Z"
   },
   {
    "duration": 0,
    "start_time": "2022-06-01T12:29:38.106Z"
   },
   {
    "duration": 0,
    "start_time": "2022-06-01T12:29:38.107Z"
   },
   {
    "duration": 0,
    "start_time": "2022-06-01T12:29:38.108Z"
   },
   {
    "duration": 0,
    "start_time": "2022-06-01T12:29:38.110Z"
   },
   {
    "duration": 0,
    "start_time": "2022-06-01T12:29:38.126Z"
   },
   {
    "duration": 0,
    "start_time": "2022-06-01T12:29:38.127Z"
   },
   {
    "duration": 5164,
    "start_time": "2022-06-01T12:31:06.027Z"
   },
   {
    "duration": 874,
    "start_time": "2022-06-01T12:31:11.193Z"
   },
   {
    "duration": 17,
    "start_time": "2022-06-01T12:31:12.069Z"
   },
   {
    "duration": 778,
    "start_time": "2022-06-01T12:31:12.089Z"
   },
   {
    "duration": 3,
    "start_time": "2022-06-01T12:31:12.869Z"
   },
   {
    "duration": 13,
    "start_time": "2022-06-01T12:31:12.874Z"
   },
   {
    "duration": 15,
    "start_time": "2022-06-01T12:31:12.890Z"
   },
   {
    "duration": 10,
    "start_time": "2022-06-01T12:31:12.907Z"
   },
   {
    "duration": 15,
    "start_time": "2022-06-01T12:31:12.926Z"
   },
   {
    "duration": 25,
    "start_time": "2022-06-01T12:31:12.944Z"
   },
   {
    "duration": 12,
    "start_time": "2022-06-01T12:31:12.972Z"
   },
   {
    "duration": 67,
    "start_time": "2022-06-01T12:31:12.987Z"
   },
   {
    "duration": 729,
    "start_time": "2022-06-01T12:31:13.056Z"
   },
   {
    "duration": 0,
    "start_time": "2022-06-01T12:31:13.787Z"
   },
   {
    "duration": 0,
    "start_time": "2022-06-01T12:31:13.788Z"
   },
   {
    "duration": 0,
    "start_time": "2022-06-01T12:31:13.790Z"
   },
   {
    "duration": 0,
    "start_time": "2022-06-01T12:31:13.793Z"
   },
   {
    "duration": 0,
    "start_time": "2022-06-01T12:31:13.794Z"
   },
   {
    "duration": 0,
    "start_time": "2022-06-01T12:31:13.796Z"
   },
   {
    "duration": 0,
    "start_time": "2022-06-01T12:31:13.797Z"
   },
   {
    "duration": 0,
    "start_time": "2022-06-01T12:31:13.798Z"
   },
   {
    "duration": 4413,
    "start_time": "2022-06-01T12:43:50.118Z"
   },
   {
    "duration": 837,
    "start_time": "2022-06-01T12:43:54.534Z"
   },
   {
    "duration": 21,
    "start_time": "2022-06-01T12:43:55.374Z"
   },
   {
    "duration": 663,
    "start_time": "2022-06-01T12:43:55.398Z"
   },
   {
    "duration": 3,
    "start_time": "2022-06-01T12:43:56.063Z"
   },
   {
    "duration": 12,
    "start_time": "2022-06-01T12:43:56.068Z"
   },
   {
    "duration": 12,
    "start_time": "2022-06-01T12:43:56.081Z"
   },
   {
    "duration": 39,
    "start_time": "2022-06-01T12:43:56.095Z"
   },
   {
    "duration": 8,
    "start_time": "2022-06-01T12:43:56.136Z"
   },
   {
    "duration": 9,
    "start_time": "2022-06-01T12:43:56.147Z"
   },
   {
    "duration": 7,
    "start_time": "2022-06-01T12:43:56.158Z"
   },
   {
    "duration": 36,
    "start_time": "2022-06-01T12:43:56.167Z"
   },
   {
    "duration": 192,
    "start_time": "2022-06-01T12:43:56.205Z"
   },
   {
    "duration": 7699,
    "start_time": "2022-06-01T12:43:56.399Z"
   },
   {
    "duration": 7477,
    "start_time": "2022-06-01T12:44:04.100Z"
   },
   {
    "duration": 1792,
    "start_time": "2022-06-01T12:44:11.579Z"
   },
   {
    "duration": 3,
    "start_time": "2022-06-01T12:44:13.373Z"
   },
   {
    "duration": 14090,
    "start_time": "2022-06-01T12:44:13.378Z"
   },
   {
    "duration": 4,
    "start_time": "2022-06-01T12:44:27.469Z"
   },
   {
    "duration": 340,
    "start_time": "2022-06-01T12:44:27.475Z"
   },
   {
    "duration": 31,
    "start_time": "2022-06-01T12:44:27.817Z"
   },
   {
    "duration": 45068,
    "start_time": "2022-06-01T12:45:47.728Z"
   },
   {
    "duration": 5,
    "start_time": "2022-06-01T12:46:32.798Z"
   },
   {
    "duration": 4,
    "start_time": "2022-06-01T12:50:12.664Z"
   },
   {
    "duration": 4,
    "start_time": "2022-06-01T12:50:18.328Z"
   },
   {
    "duration": 13754,
    "start_time": "2022-06-01T12:50:20.144Z"
   },
   {
    "duration": 4687,
    "start_time": "2022-06-01T12:51:35.523Z"
   },
   {
    "duration": 921,
    "start_time": "2022-06-01T12:51:40.212Z"
   },
   {
    "duration": 20,
    "start_time": "2022-06-01T12:51:41.139Z"
   },
   {
    "duration": 558,
    "start_time": "2022-06-01T12:51:41.162Z"
   },
   {
    "duration": 6,
    "start_time": "2022-06-01T12:51:41.722Z"
   },
   {
    "duration": 27,
    "start_time": "2022-06-01T12:51:41.729Z"
   },
   {
    "duration": 10,
    "start_time": "2022-06-01T12:51:41.758Z"
   },
   {
    "duration": 10,
    "start_time": "2022-06-01T12:51:41.770Z"
   },
   {
    "duration": 15,
    "start_time": "2022-06-01T12:51:41.783Z"
   },
   {
    "duration": 7,
    "start_time": "2022-06-01T12:51:41.802Z"
   },
   {
    "duration": 13,
    "start_time": "2022-06-01T12:51:41.811Z"
   },
   {
    "duration": 39,
    "start_time": "2022-06-01T12:51:41.826Z"
   },
   {
    "duration": 146,
    "start_time": "2022-06-01T12:51:41.867Z"
   },
   {
    "duration": 58,
    "start_time": "2022-06-01T12:51:42.015Z"
   },
   {
    "duration": 38,
    "start_time": "2022-06-01T12:51:42.075Z"
   },
   {
    "duration": 31,
    "start_time": "2022-06-01T12:51:42.116Z"
   },
   {
    "duration": 14,
    "start_time": "2022-06-01T12:51:42.151Z"
   },
   {
    "duration": 17,
    "start_time": "2022-06-01T12:51:42.167Z"
   },
   {
    "duration": 7,
    "start_time": "2022-06-01T12:51:42.186Z"
   },
   {
    "duration": 42,
    "start_time": "2022-06-01T12:51:42.195Z"
   },
   {
    "duration": 6,
    "start_time": "2022-06-01T12:51:42.239Z"
   },
   {
    "duration": 14,
    "start_time": "2022-06-01T12:51:42.250Z"
   },
   {
    "duration": 4646,
    "start_time": "2022-06-01T12:52:20.247Z"
   },
   {
    "duration": 876,
    "start_time": "2022-06-01T12:52:24.896Z"
   },
   {
    "duration": 20,
    "start_time": "2022-06-01T12:52:25.775Z"
   },
   {
    "duration": 644,
    "start_time": "2022-06-01T12:52:25.798Z"
   },
   {
    "duration": 4,
    "start_time": "2022-06-01T12:52:26.444Z"
   },
   {
    "duration": 11,
    "start_time": "2022-06-01T12:52:26.450Z"
   },
   {
    "duration": 10,
    "start_time": "2022-06-01T12:52:26.463Z"
   },
   {
    "duration": 7,
    "start_time": "2022-06-01T12:52:26.475Z"
   },
   {
    "duration": 6,
    "start_time": "2022-06-01T12:52:26.484Z"
   },
   {
    "duration": 5,
    "start_time": "2022-06-01T12:52:26.493Z"
   },
   {
    "duration": 7,
    "start_time": "2022-06-01T12:52:26.499Z"
   },
   {
    "duration": 23,
    "start_time": "2022-06-01T12:52:26.508Z"
   },
   {
    "duration": 134,
    "start_time": "2022-06-01T12:52:26.533Z"
   },
   {
    "duration": 56,
    "start_time": "2022-06-01T12:52:26.669Z"
   },
   {
    "duration": 64,
    "start_time": "2022-06-01T12:52:26.727Z"
   },
   {
    "duration": 34,
    "start_time": "2022-06-01T12:52:26.793Z"
   },
   {
    "duration": 3,
    "start_time": "2022-06-01T12:52:26.829Z"
   },
   {
    "duration": 33,
    "start_time": "2022-06-01T12:52:26.834Z"
   },
   {
    "duration": 10,
    "start_time": "2022-06-01T12:52:26.868Z"
   },
   {
    "duration": 50,
    "start_time": "2022-06-01T12:52:26.880Z"
   },
   {
    "duration": 3,
    "start_time": "2022-06-01T12:52:26.932Z"
   },
   {
    "duration": 23,
    "start_time": "2022-06-01T12:52:26.936Z"
   },
   {
    "duration": 4465,
    "start_time": "2022-06-01T12:52:44.971Z"
   },
   {
    "duration": 975,
    "start_time": "2022-06-01T12:52:49.438Z"
   },
   {
    "duration": 28,
    "start_time": "2022-06-01T12:52:50.415Z"
   },
   {
    "duration": 590,
    "start_time": "2022-06-01T12:52:50.446Z"
   },
   {
    "duration": 3,
    "start_time": "2022-06-01T12:52:51.038Z"
   },
   {
    "duration": 12,
    "start_time": "2022-06-01T12:52:51.043Z"
   },
   {
    "duration": 6,
    "start_time": "2022-06-01T12:52:51.057Z"
   },
   {
    "duration": 15,
    "start_time": "2022-06-01T12:52:51.065Z"
   },
   {
    "duration": 3,
    "start_time": "2022-06-01T12:52:51.083Z"
   },
   {
    "duration": 6,
    "start_time": "2022-06-01T12:52:51.089Z"
   },
   {
    "duration": 10,
    "start_time": "2022-06-01T12:52:51.096Z"
   },
   {
    "duration": 18,
    "start_time": "2022-06-01T12:52:51.110Z"
   },
   {
    "duration": 138,
    "start_time": "2022-06-01T12:52:51.130Z"
   },
   {
    "duration": 216,
    "start_time": "2022-06-01T12:52:51.271Z"
   },
   {
    "duration": 158,
    "start_time": "2022-06-01T12:52:51.489Z"
   },
   {
    "duration": 55,
    "start_time": "2022-06-01T12:52:51.649Z"
   },
   {
    "duration": 19,
    "start_time": "2022-06-01T12:52:51.707Z"
   },
   {
    "duration": 1007,
    "start_time": "2022-06-01T12:52:51.728Z"
   },
   {
    "duration": 3,
    "start_time": "2022-06-01T12:52:52.737Z"
   },
   {
    "duration": 618,
    "start_time": "2022-06-01T12:52:52.826Z"
   },
   {
    "duration": 19,
    "start_time": "2022-06-01T12:52:53.530Z"
   },
   {
    "duration": 276,
    "start_time": "2022-06-01T12:52:53.550Z"
   },
   {
    "duration": 4880,
    "start_time": "2022-06-01T12:53:16.763Z"
   },
   {
    "duration": 897,
    "start_time": "2022-06-01T12:53:21.645Z"
   },
   {
    "duration": 17,
    "start_time": "2022-06-01T12:53:22.544Z"
   },
   {
    "duration": 578,
    "start_time": "2022-06-01T12:53:22.564Z"
   },
   {
    "duration": 5,
    "start_time": "2022-06-01T12:53:23.144Z"
   },
   {
    "duration": 11,
    "start_time": "2022-06-01T12:53:23.151Z"
   },
   {
    "duration": 27,
    "start_time": "2022-06-01T12:53:23.165Z"
   },
   {
    "duration": 11,
    "start_time": "2022-06-01T12:53:23.194Z"
   },
   {
    "duration": 14,
    "start_time": "2022-06-01T12:53:23.207Z"
   },
   {
    "duration": 7,
    "start_time": "2022-06-01T12:53:23.224Z"
   },
   {
    "duration": 6,
    "start_time": "2022-06-01T12:53:23.233Z"
   },
   {
    "duration": 28,
    "start_time": "2022-06-01T12:53:23.241Z"
   },
   {
    "duration": 208,
    "start_time": "2022-06-01T12:53:23.272Z"
   },
   {
    "duration": 635,
    "start_time": "2022-06-01T12:53:23.482Z"
   },
   {
    "duration": 508,
    "start_time": "2022-06-01T12:53:24.120Z"
   },
   {
    "duration": 153,
    "start_time": "2022-06-01T12:53:24.629Z"
   },
   {
    "duration": 3,
    "start_time": "2022-06-01T12:53:24.785Z"
   },
   {
    "duration": 4344,
    "start_time": "2022-06-01T12:53:24.790Z"
   },
   {
    "duration": 3,
    "start_time": "2022-06-01T12:53:29.136Z"
   },
   {
    "duration": 5302,
    "start_time": "2022-06-01T12:53:29.227Z"
   },
   {
    "duration": 2,
    "start_time": "2022-06-01T12:53:34.531Z"
   },
   {
    "duration": 1699,
    "start_time": "2022-06-01T12:53:34.534Z"
   },
   {
    "duration": 4683,
    "start_time": "2022-06-01T12:54:54.729Z"
   },
   {
    "duration": 920,
    "start_time": "2022-06-01T12:54:59.415Z"
   },
   {
    "duration": 16,
    "start_time": "2022-06-01T12:55:00.337Z"
   },
   {
    "duration": 652,
    "start_time": "2022-06-01T12:55:00.356Z"
   },
   {
    "duration": 3,
    "start_time": "2022-06-01T12:55:01.010Z"
   },
   {
    "duration": 5,
    "start_time": "2022-06-01T12:55:01.027Z"
   },
   {
    "duration": 13,
    "start_time": "2022-06-01T12:55:01.034Z"
   },
   {
    "duration": 437,
    "start_time": "2022-06-01T12:55:01.049Z"
   },
   {
    "duration": 3,
    "start_time": "2022-06-01T12:55:01.489Z"
   },
   {
    "duration": 34,
    "start_time": "2022-06-01T12:55:01.495Z"
   },
   {
    "duration": 12,
    "start_time": "2022-06-01T12:55:01.531Z"
   },
   {
    "duration": 179,
    "start_time": "2022-06-01T12:55:01.545Z"
   },
   {
    "duration": 132,
    "start_time": "2022-06-01T12:55:01.726Z"
   },
   {
    "duration": 676,
    "start_time": "2022-06-01T12:55:01.860Z"
   },
   {
    "duration": 669,
    "start_time": "2022-06-01T12:55:02.538Z"
   },
   {
    "duration": 185,
    "start_time": "2022-06-01T12:55:03.209Z"
   },
   {
    "duration": 3,
    "start_time": "2022-06-01T12:55:03.397Z"
   },
   {
    "duration": 6633,
    "start_time": "2022-06-01T12:55:03.402Z"
   },
   {
    "duration": 3,
    "start_time": "2022-06-01T12:55:10.037Z"
   },
   {
    "duration": 26793,
    "start_time": "2022-06-01T12:55:10.042Z"
   },
   {
    "duration": 88,
    "start_time": "2022-06-01T12:55:36.837Z"
   },
   {
    "duration": 10004,
    "start_time": "2022-06-01T12:55:36.927Z"
   },
   {
    "duration": 4803,
    "start_time": "2022-06-01T12:56:32.268Z"
   },
   {
    "duration": 933,
    "start_time": "2022-06-01T12:56:37.074Z"
   },
   {
    "duration": 28,
    "start_time": "2022-06-01T12:56:38.009Z"
   },
   {
    "duration": 588,
    "start_time": "2022-06-01T12:56:38.040Z"
   },
   {
    "duration": 4,
    "start_time": "2022-06-01T12:56:38.631Z"
   },
   {
    "duration": 11,
    "start_time": "2022-06-01T12:56:38.637Z"
   },
   {
    "duration": 7,
    "start_time": "2022-06-01T12:56:38.650Z"
   },
   {
    "duration": 178189,
    "start_time": "2022-06-01T12:56:38.659Z"
   },
   {
    "duration": 4,
    "start_time": "2022-06-01T12:59:36.850Z"
   },
   {
    "duration": 8,
    "start_time": "2022-06-01T12:59:36.857Z"
   },
   {
    "duration": 9,
    "start_time": "2022-06-01T12:59:36.867Z"
   },
   {
    "duration": 181,
    "start_time": "2022-06-01T12:59:36.879Z"
   },
   {
    "duration": 138,
    "start_time": "2022-06-01T12:59:37.063Z"
   },
   {
    "duration": 859,
    "start_time": "2022-06-01T12:59:37.205Z"
   },
   {
    "duration": 597,
    "start_time": "2022-06-01T12:59:38.066Z"
   },
   {
    "duration": 164,
    "start_time": "2022-06-01T12:59:38.666Z"
   },
   {
    "duration": 4,
    "start_time": "2022-06-01T12:59:38.832Z"
   },
   {
    "duration": 591,
    "start_time": "2022-06-01T12:59:38.837Z"
   },
   {
    "duration": 3,
    "start_time": "2022-06-01T12:59:39.432Z"
   },
   {
    "duration": 7090,
    "start_time": "2022-06-01T12:59:39.437Z"
   },
   {
    "duration": 5,
    "start_time": "2022-06-01T12:59:46.529Z"
   },
   {
    "duration": 888,
    "start_time": "2022-06-01T12:59:46.539Z"
   },
   {
    "duration": 4759,
    "start_time": "2022-06-01T13:02:53.726Z"
   },
   {
    "duration": 883,
    "start_time": "2022-06-01T13:02:58.488Z"
   },
   {
    "duration": 15,
    "start_time": "2022-06-01T13:02:59.373Z"
   },
   {
    "duration": 545,
    "start_time": "2022-06-01T13:02:59.391Z"
   },
   {
    "duration": 3,
    "start_time": "2022-06-01T13:02:59.938Z"
   },
   {
    "duration": 11,
    "start_time": "2022-06-01T13:02:59.943Z"
   },
   {
    "duration": 7,
    "start_time": "2022-06-01T13:02:59.956Z"
   },
   {
    "duration": 171321,
    "start_time": "2022-06-01T13:02:59.965Z"
   },
   {
    "duration": 4,
    "start_time": "2022-06-01T13:05:51.289Z"
   },
   {
    "duration": 24,
    "start_time": "2022-06-01T13:05:51.296Z"
   },
   {
    "duration": 12,
    "start_time": "2022-06-01T13:05:51.323Z"
   },
   {
    "duration": 190,
    "start_time": "2022-06-01T13:05:51.337Z"
   },
   {
    "duration": 166,
    "start_time": "2022-06-01T13:05:51.534Z"
   },
   {
    "duration": 641,
    "start_time": "2022-06-01T13:05:51.703Z"
   },
   {
    "duration": 615,
    "start_time": "2022-06-01T13:05:52.347Z"
   },
   {
    "duration": 157,
    "start_time": "2022-06-01T13:05:52.964Z"
   },
   {
    "duration": 10,
    "start_time": "2022-06-01T13:05:53.122Z"
   },
   {
    "duration": 3093,
    "start_time": "2022-06-01T13:05:53.133Z"
   },
   {
    "duration": 3,
    "start_time": "2022-06-01T13:05:56.228Z"
   },
   {
    "duration": 3407,
    "start_time": "2022-06-01T13:05:56.234Z"
   },
   {
    "duration": 5,
    "start_time": "2022-06-01T13:05:59.643Z"
   },
   {
    "duration": 1406,
    "start_time": "2022-06-01T13:05:59.652Z"
   },
   {
    "duration": 4411,
    "start_time": "2022-06-01T13:07:54.895Z"
   },
   {
    "duration": 903,
    "start_time": "2022-06-01T13:07:59.308Z"
   },
   {
    "duration": 28,
    "start_time": "2022-06-01T13:08:00.214Z"
   },
   {
    "duration": 586,
    "start_time": "2022-06-01T13:08:00.247Z"
   },
   {
    "duration": 4,
    "start_time": "2022-06-01T13:08:00.836Z"
   },
   {
    "duration": 23,
    "start_time": "2022-06-01T13:08:00.846Z"
   },
   {
    "duration": 173518,
    "start_time": "2022-06-01T13:08:00.871Z"
   },
   {
    "duration": 5,
    "start_time": "2022-06-01T13:10:54.392Z"
   },
   {
    "duration": 169857,
    "start_time": "2022-06-01T13:10:54.399Z"
   },
   {
    "duration": 3,
    "start_time": "2022-06-01T13:13:44.262Z"
   },
   {
    "duration": 22,
    "start_time": "2022-06-01T13:13:44.267Z"
   },
   {
    "duration": 161,
    "start_time": "2022-06-01T13:13:44.291Z"
   },
   {
    "duration": 441,
    "start_time": "2022-06-01T13:13:44.454Z"
   },
   {
    "duration": 407,
    "start_time": "2022-06-01T13:13:44.896Z"
   },
   {
    "duration": 116,
    "start_time": "2022-06-01T13:13:45.305Z"
   },
   {
    "duration": 12,
    "start_time": "2022-06-01T13:13:45.425Z"
   },
   {
    "duration": 1796,
    "start_time": "2022-06-01T13:13:45.440Z"
   },
   {
    "duration": 15,
    "start_time": "2022-06-01T13:13:47.238Z"
   },
   {
    "duration": 6898,
    "start_time": "2022-06-01T13:13:47.255Z"
   },
   {
    "duration": 70,
    "start_time": "2022-06-01T13:13:54.158Z"
   },
   {
    "duration": 1401,
    "start_time": "2022-06-01T13:13:54.230Z"
   },
   {
    "duration": 7295,
    "start_time": "2022-06-01T13:17:07.178Z"
   },
   {
    "duration": 803,
    "start_time": "2022-06-01T13:17:14.476Z"
   },
   {
    "duration": 13,
    "start_time": "2022-06-01T13:17:15.281Z"
   },
   {
    "duration": 585,
    "start_time": "2022-06-01T13:17:15.296Z"
   },
   {
    "duration": 3,
    "start_time": "2022-06-01T13:17:15.884Z"
   },
   {
    "duration": 8,
    "start_time": "2022-06-01T13:17:15.889Z"
   },
   {
    "duration": 4366,
    "start_time": "2022-06-01T13:18:38.583Z"
   },
   {
    "duration": 855,
    "start_time": "2022-06-01T13:18:42.951Z"
   },
   {
    "duration": 21,
    "start_time": "2022-06-01T13:18:43.808Z"
   },
   {
    "duration": 544,
    "start_time": "2022-06-01T13:18:43.841Z"
   },
   {
    "duration": 11,
    "start_time": "2022-06-01T13:18:44.425Z"
   },
   {
    "duration": 30,
    "start_time": "2022-06-01T13:18:44.438Z"
   },
   {
    "duration": 4313,
    "start_time": "2022-06-01T13:18:52.807Z"
   },
   {
    "duration": 825,
    "start_time": "2022-06-01T13:18:57.123Z"
   },
   {
    "duration": 14,
    "start_time": "2022-06-01T13:18:57.950Z"
   },
   {
    "duration": 562,
    "start_time": "2022-06-01T13:18:57.967Z"
   },
   {
    "duration": 5,
    "start_time": "2022-06-01T13:18:58.534Z"
   },
   {
    "duration": 11,
    "start_time": "2022-06-01T13:18:58.541Z"
   },
   {
    "duration": 168117,
    "start_time": "2022-06-01T13:18:58.553Z"
   },
   {
    "duration": 3,
    "start_time": "2022-06-01T13:21:46.673Z"
   },
   {
    "duration": 165579,
    "start_time": "2022-06-01T13:21:46.678Z"
   },
   {
    "duration": 27,
    "start_time": "2022-06-01T13:24:32.260Z"
   },
   {
    "duration": 10,
    "start_time": "2022-06-01T13:24:32.289Z"
   },
   {
    "duration": 12,
    "start_time": "2022-06-01T13:24:32.301Z"
   },
   {
    "duration": 174,
    "start_time": "2022-06-01T13:24:32.328Z"
   },
   {
    "duration": 510,
    "start_time": "2022-06-01T13:24:32.504Z"
   },
   {
    "duration": 473,
    "start_time": "2022-06-01T13:24:33.016Z"
   },
   {
    "duration": 118,
    "start_time": "2022-06-01T13:24:33.491Z"
   },
   {
    "duration": 2,
    "start_time": "2022-06-01T13:24:33.611Z"
   },
   {
    "duration": 2502,
    "start_time": "2022-06-01T13:24:33.627Z"
   },
   {
    "duration": 6496,
    "start_time": "2022-06-01T13:24:36.133Z"
   },
   {
    "duration": 3,
    "start_time": "2022-06-01T13:24:42.631Z"
   },
   {
    "duration": 1412,
    "start_time": "2022-06-01T13:24:42.635Z"
   },
   {
    "duration": 852,
    "start_time": "2022-06-01T13:25:12.670Z"
   },
   {
    "duration": 1050,
    "start_time": "2022-06-01T13:26:13.677Z"
   },
   {
    "duration": 4333,
    "start_time": "2022-06-01T13:27:04.856Z"
   },
   {
    "duration": 861,
    "start_time": "2022-06-01T13:27:09.192Z"
   },
   {
    "duration": 886,
    "start_time": "2022-06-01T13:27:10.055Z"
   },
   {
    "duration": 19,
    "start_time": "2022-06-01T13:27:10.947Z"
   },
   {
    "duration": 527,
    "start_time": "2022-06-01T13:27:10.968Z"
   },
   {
    "duration": 3,
    "start_time": "2022-06-01T13:27:11.497Z"
   },
   {
    "duration": 9,
    "start_time": "2022-06-01T13:27:11.502Z"
   },
   {
    "duration": 188547,
    "start_time": "2022-06-01T13:27:11.513Z"
   },
   {
    "duration": 4,
    "start_time": "2022-06-01T13:30:20.062Z"
   },
   {
    "duration": 7,
    "start_time": "2022-06-01T13:30:20.069Z"
   },
   {
    "duration": 6,
    "start_time": "2022-06-01T13:30:20.077Z"
   },
   {
    "duration": 7,
    "start_time": "2022-06-01T13:30:20.084Z"
   },
   {
    "duration": 167,
    "start_time": "2022-06-01T13:30:20.093Z"
   },
   {
    "duration": 141,
    "start_time": "2022-06-01T13:30:20.262Z"
   },
   {
    "duration": 598,
    "start_time": "2022-06-01T13:30:20.406Z"
   },
   {
    "duration": 572,
    "start_time": "2022-06-01T13:30:21.006Z"
   },
   {
    "duration": 168,
    "start_time": "2022-06-01T13:30:21.580Z"
   },
   {
    "duration": 3,
    "start_time": "2022-06-01T13:30:21.750Z"
   },
   {
    "duration": 2486,
    "start_time": "2022-06-01T13:30:21.756Z"
   },
   {
    "duration": 6504,
    "start_time": "2022-06-01T13:30:24.244Z"
   },
   {
    "duration": 70,
    "start_time": "2022-06-01T13:30:30.763Z"
   },
   {
    "duration": 1503,
    "start_time": "2022-06-01T13:30:30.853Z"
   },
   {
    "duration": 5,
    "start_time": "2022-06-01T13:33:31.515Z"
   },
   {
    "duration": 28,
    "start_time": "2022-06-01T13:34:04.148Z"
   },
   {
    "duration": 5,
    "start_time": "2022-06-01T13:34:08.485Z"
   },
   {
    "duration": 5439,
    "start_time": "2022-06-01T13:34:20.352Z"
   },
   {
    "duration": 1093,
    "start_time": "2022-06-01T13:34:25.794Z"
   },
   {
    "duration": 1222,
    "start_time": "2022-06-01T13:34:26.890Z"
   },
   {
    "duration": 20,
    "start_time": "2022-06-01T13:34:28.115Z"
   },
   {
    "duration": 723,
    "start_time": "2022-06-01T13:34:28.137Z"
   },
   {
    "duration": 4,
    "start_time": "2022-06-01T13:34:28.862Z"
   },
   {
    "duration": 8,
    "start_time": "2022-06-01T13:34:28.870Z"
   },
   {
    "duration": 19,
    "start_time": "2022-06-01T13:34:28.880Z"
   },
   {
    "duration": 15,
    "start_time": "2022-06-01T13:34:28.901Z"
   },
   {
    "duration": 215295,
    "start_time": "2022-06-01T13:34:28.920Z"
   },
   {
    "duration": 6,
    "start_time": "2022-06-01T13:38:04.218Z"
   },
   {
    "duration": 48,
    "start_time": "2022-06-01T13:38:04.229Z"
   },
   {
    "duration": 6,
    "start_time": "2022-06-01T13:38:04.279Z"
   },
   {
    "duration": 9,
    "start_time": "2022-06-01T13:38:04.286Z"
   },
   {
    "duration": 260,
    "start_time": "2022-06-01T13:38:04.297Z"
   },
   {
    "duration": 657,
    "start_time": "2022-06-01T13:38:04.559Z"
   },
   {
    "duration": 600,
    "start_time": "2022-06-01T13:38:05.218Z"
   },
   {
    "duration": 185,
    "start_time": "2022-06-01T13:38:05.820Z"
   },
   {
    "duration": 3,
    "start_time": "2022-06-01T13:38:06.007Z"
   },
   {
    "duration": 1941,
    "start_time": "2022-06-01T13:38:06.013Z"
   },
   {
    "duration": 4005,
    "start_time": "2022-06-01T13:38:07.968Z"
   },
   {
    "duration": 12,
    "start_time": "2022-06-01T13:38:11.985Z"
   },
   {
    "duration": 848,
    "start_time": "2022-06-01T13:38:12.003Z"
   },
   {
    "duration": 8,
    "start_time": "2022-06-01T13:40:15.765Z"
   },
   {
    "duration": 5,
    "start_time": "2022-06-01T13:40:17.700Z"
   },
   {
    "duration": 7,
    "start_time": "2022-06-01T13:40:20.957Z"
   },
   {
    "duration": 6659,
    "start_time": "2022-06-01T13:40:45.100Z"
   },
   {
    "duration": 5,
    "start_time": "2022-06-01T13:40:51.833Z"
   },
   {
    "duration": 844,
    "start_time": "2022-06-01T13:40:54.188Z"
   },
   {
    "duration": 501,
    "start_time": "2022-06-01T13:41:01.824Z"
   },
   {
    "duration": 14,
    "start_time": "2022-06-01T13:41:09.382Z"
   },
   {
    "duration": 40,
    "start_time": "2022-06-01T13:43:22.993Z"
   },
   {
    "duration": 15,
    "start_time": "2022-06-01T13:43:33.584Z"
   },
   {
    "duration": 6,
    "start_time": "2022-06-01T13:43:35.882Z"
   },
   {
    "duration": 2117,
    "start_time": "2022-06-01T13:43:43.744Z"
   },
   {
    "duration": 4923,
    "start_time": "2022-06-01T13:46:53.641Z"
   },
   {
    "duration": 1039,
    "start_time": "2022-06-01T13:46:58.567Z"
   },
   {
    "duration": 3,
    "start_time": "2022-06-01T13:46:59.608Z"
   },
   {
    "duration": 24,
    "start_time": "2022-06-01T13:46:59.614Z"
   },
   {
    "duration": 564,
    "start_time": "2022-06-01T13:46:59.640Z"
   },
   {
    "duration": 4,
    "start_time": "2022-06-01T13:47:00.207Z"
   },
   {
    "duration": 23,
    "start_time": "2022-06-01T13:47:00.213Z"
   },
   {
    "duration": 2520,
    "start_time": "2022-06-02T23:43:14.031Z"
   },
   {
    "duration": 2139,
    "start_time": "2022-06-02T23:43:16.554Z"
   },
   {
    "duration": 4251,
    "start_time": "2022-06-02T23:43:18.695Z"
   },
   {
    "duration": 2354,
    "start_time": "2022-06-02T23:43:22.949Z"
   },
   {
    "duration": 17,
    "start_time": "2022-06-02T23:43:25.305Z"
   },
   {
    "duration": 12,
    "start_time": "2022-06-02T23:43:25.324Z"
   },
   {
    "duration": 4,
    "start_time": "2022-06-02T23:43:25.338Z"
   },
   {
    "duration": 51,
    "start_time": "2022-06-02T23:43:25.344Z"
   },
   {
    "duration": 7,
    "start_time": "2022-06-02T23:43:25.397Z"
   },
   {
    "duration": 19,
    "start_time": "2022-06-02T23:43:25.406Z"
   },
   {
    "duration": 521,
    "start_time": "2022-06-02T23:43:25.426Z"
   },
   {
    "duration": 4,
    "start_time": "2022-06-02T23:43:36.703Z"
   },
   {
    "duration": 47,
    "start_time": "2022-06-02T23:43:44.885Z"
   },
   {
    "duration": 339,
    "start_time": "2022-06-03T00:01:10.522Z"
   },
   {
    "duration": 3,
    "start_time": "2022-06-03T00:01:15.830Z"
   },
   {
    "duration": 19,
    "start_time": "2022-06-03T00:01:18.407Z"
   },
   {
    "duration": 6,
    "start_time": "2022-06-03T00:01:33.947Z"
   },
   {
    "duration": 71671,
    "start_time": "2022-06-03T00:01:45.308Z"
   },
   {
    "duration": 5,
    "start_time": "2022-06-03T00:04:20.208Z"
   },
   {
    "duration": 24,
    "start_time": "2022-06-03T00:04:20.625Z"
   },
   {
    "duration": 4,
    "start_time": "2022-06-03T00:04:39.219Z"
   },
   {
    "duration": 72,
    "start_time": "2022-06-03T00:04:44.129Z"
   },
   {
    "duration": 319,
    "start_time": "2022-06-03T00:04:47.451Z"
   },
   {
    "duration": 240,
    "start_time": "2022-06-03T00:04:49.243Z"
   },
   {
    "duration": 213,
    "start_time": "2022-06-03T00:04:57.869Z"
   },
   {
    "duration": 70,
    "start_time": "2022-06-03T00:05:06.165Z"
   },
   {
    "duration": 6,
    "start_time": "2022-06-03T00:05:10.315Z"
   },
   {
    "duration": 22,
    "start_time": "2022-06-03T00:05:22.274Z"
   },
   {
    "duration": 3,
    "start_time": "2022-06-03T00:05:31.860Z"
   },
   {
    "duration": 9,
    "start_time": "2022-06-03T00:06:04.615Z"
   },
   {
    "duration": 3,
    "start_time": "2022-06-03T00:06:06.022Z"
   },
   {
    "duration": 5,
    "start_time": "2022-06-03T00:06:07.921Z"
   },
   {
    "duration": 1738,
    "start_time": "2022-06-03T00:06:12.761Z"
   },
   {
    "duration": 15,
    "start_time": "2022-06-03T00:06:31.802Z"
   },
   {
    "duration": 2445,
    "start_time": "2022-06-03T00:06:56.041Z"
   },
   {
    "duration": 2402,
    "start_time": "2022-06-03T00:06:58.489Z"
   },
   {
    "duration": 4541,
    "start_time": "2022-06-03T00:07:00.893Z"
   },
   {
    "duration": 876,
    "start_time": "2022-06-03T00:07:05.437Z"
   },
   {
    "duration": 19,
    "start_time": "2022-06-03T00:07:06.316Z"
   },
   {
    "duration": 8,
    "start_time": "2022-06-03T00:07:06.337Z"
   },
   {
    "duration": 3,
    "start_time": "2022-06-03T00:07:06.347Z"
   },
   {
    "duration": 71,
    "start_time": "2022-06-03T00:07:06.352Z"
   },
   {
    "duration": 7,
    "start_time": "2022-06-03T00:07:06.426Z"
   },
   {
    "duration": 14,
    "start_time": "2022-06-03T00:07:06.436Z"
   },
   {
    "duration": 541,
    "start_time": "2022-06-03T00:07:06.452Z"
   },
   {
    "duration": 4,
    "start_time": "2022-06-03T00:07:06.996Z"
   },
   {
    "duration": 25,
    "start_time": "2022-06-03T00:07:07.003Z"
   },
   {
    "duration": 434728,
    "start_time": "2022-06-03T00:07:07.030Z"
   },
   {
    "duration": 6,
    "start_time": "2022-06-03T00:14:21.765Z"
   },
   {
    "duration": 418,
    "start_time": "2022-06-03T00:14:21.772Z"
   },
   {
    "duration": 12,
    "start_time": "2022-06-03T00:14:22.193Z"
   },
   {
    "duration": 5,
    "start_time": "2022-06-03T00:14:22.207Z"
   },
   {
    "duration": 198,
    "start_time": "2022-06-03T00:14:22.214Z"
   },
   {
    "duration": 1306,
    "start_time": "2022-06-03T00:14:22.414Z"
   },
   {
    "duration": 1265,
    "start_time": "2022-06-03T00:14:23.722Z"
   },
   {
    "duration": 329,
    "start_time": "2022-06-03T00:14:24.988Z"
   },
   {
    "duration": 3,
    "start_time": "2022-06-03T00:14:25.319Z"
   },
   {
    "duration": 653,
    "start_time": "2022-06-03T00:14:25.323Z"
   },
   {
    "duration": 24,
    "start_time": "2022-06-03T00:14:25.978Z"
   },
   {
    "duration": 16,
    "start_time": "2022-06-03T00:14:26.004Z"
   },
   {
    "duration": 12273,
    "start_time": "2022-06-03T00:14:26.024Z"
   },
   {
    "duration": 679,
    "start_time": "2022-06-03T00:14:38.299Z"
   },
   {
    "duration": 5,
    "start_time": "2022-06-03T00:14:38.980Z"
   },
   {
    "duration": 22,
    "start_time": "2022-06-03T00:14:38.987Z"
   },
   {
    "duration": 4603,
    "start_time": "2022-06-03T00:24:03.541Z"
   },
   {
    "duration": 877,
    "start_time": "2022-06-03T00:24:12.029Z"
   },
   {
    "duration": 15,
    "start_time": "2022-06-03T00:24:18.481Z"
   },
   {
    "duration": 5,
    "start_time": "2022-06-03T00:24:18.726Z"
   },
   {
    "duration": 30,
    "start_time": "2022-06-03T00:24:20.136Z"
   },
   {
    "duration": 525,
    "start_time": "2022-06-03T00:24:23.209Z"
   },
   {
    "duration": 6,
    "start_time": "2022-06-03T00:24:23.805Z"
   },
   {
    "duration": 12,
    "start_time": "2022-06-03T00:24:24.292Z"
   },
   {
    "duration": 608636,
    "start_time": "2022-06-03T00:24:27.121Z"
   },
   {
    "duration": 2,
    "start_time": "2022-06-03T00:34:35.760Z"
   },
   {
    "duration": 436,
    "start_time": "2022-06-03T00:34:35.764Z"
   },
   {
    "duration": 142,
    "start_time": "2022-06-03T00:34:36.204Z"
   },
   {
    "duration": 1446,
    "start_time": "2022-06-03T00:34:36.348Z"
   },
   {
    "duration": 1429,
    "start_time": "2022-06-03T00:34:37.796Z"
   },
   {
    "duration": 363,
    "start_time": "2022-06-03T00:34:39.227Z"
   },
   {
    "duration": 3,
    "start_time": "2022-06-03T00:34:39.592Z"
   },
   {
    "duration": 33,
    "start_time": "2022-06-03T00:34:39.597Z"
   },
   {
    "duration": 10,
    "start_time": "2022-06-03T00:34:39.632Z"
   },
   {
    "duration": 8,
    "start_time": "2022-06-03T00:34:39.643Z"
   },
   {
    "duration": 8349,
    "start_time": "2022-06-03T00:34:39.652Z"
   },
   {
    "duration": 375,
    "start_time": "2022-06-03T00:37:56.391Z"
   },
   {
    "duration": 1800,
    "start_time": "2022-06-03T00:38:23.813Z"
   },
   {
    "duration": 4,
    "start_time": "2022-06-03T00:38:34.451Z"
   }
  ],
  "accelerator": "GPU",
  "colab": {
   "collapsed_sections": [
    "x-Zw0SbrnG_u"
   ],
   "name": "toxic_comments_project.ipynb",
   "provenance": []
  },
  "gpuClass": "standard",
  "kernelspec": {
   "display_name": "Python 3 (ipykernel)",
   "language": "python",
   "name": "python3"
  },
  "language_info": {
   "codemirror_mode": {
    "name": "ipython",
    "version": 3
   },
   "file_extension": ".py",
   "mimetype": "text/x-python",
   "name": "python",
   "nbconvert_exporter": "python",
   "pygments_lexer": "ipython3",
   "version": "3.9.5"
  },
  "toc": {
   "base_numbering": 1,
   "nav_menu": {},
   "number_sections": true,
   "sideBar": true,
   "skip_h1_title": true,
   "title_cell": "Содержание",
   "title_sidebar": "Contents",
   "toc_cell": true,
   "toc_position": {
    "height": "calc(100% - 180px)",
    "left": "10px",
    "top": "150px",
    "width": "302.378px"
   },
   "toc_section_display": true,
   "toc_window_display": true
  },
  "widgets": {
   "application/vnd.jupyter.widget-state+json": {
    "052c2c763dd044ef8c5173b796077f38": {
     "model_module": "@jupyter-widgets/controls",
     "model_module_version": "1.5.0",
     "model_name": "DescriptionStyleModel",
     "state": {
      "_model_module": "@jupyter-widgets/controls",
      "_model_module_version": "1.5.0",
      "_model_name": "DescriptionStyleModel",
      "_view_count": null,
      "_view_module": "@jupyter-widgets/base",
      "_view_module_version": "1.2.0",
      "_view_name": "StyleView",
      "description_width": ""
     }
    },
    "0e4ec4fe5d5d4d53a073108fb6d829d0": {
     "model_module": "@jupyter-widgets/base",
     "model_module_version": "1.2.0",
     "model_name": "LayoutModel",
     "state": {
      "_model_module": "@jupyter-widgets/base",
      "_model_module_version": "1.2.0",
      "_model_name": "LayoutModel",
      "_view_count": null,
      "_view_module": "@jupyter-widgets/base",
      "_view_module_version": "1.2.0",
      "_view_name": "LayoutView",
      "align_content": null,
      "align_items": null,
      "align_self": null,
      "border": null,
      "bottom": null,
      "display": null,
      "flex": null,
      "flex_flow": null,
      "grid_area": null,
      "grid_auto_columns": null,
      "grid_auto_flow": null,
      "grid_auto_rows": null,
      "grid_column": null,
      "grid_gap": null,
      "grid_row": null,
      "grid_template_areas": null,
      "grid_template_columns": null,
      "grid_template_rows": null,
      "height": null,
      "justify_content": null,
      "justify_items": null,
      "left": null,
      "margin": null,
      "max_height": null,
      "max_width": null,
      "min_height": null,
      "min_width": null,
      "object_fit": null,
      "object_position": null,
      "order": null,
      "overflow": null,
      "overflow_x": null,
      "overflow_y": null,
      "padding": null,
      "right": null,
      "top": null,
      "visibility": null,
      "width": null
     }
    },
    "3d143537974c45e2b8088e9206b6611a": {
     "model_module": "@jupyter-widgets/controls",
     "model_module_version": "1.5.0",
     "model_name": "DescriptionStyleModel",
     "state": {
      "_model_module": "@jupyter-widgets/controls",
      "_model_module_version": "1.5.0",
      "_model_name": "DescriptionStyleModel",
      "_view_count": null,
      "_view_module": "@jupyter-widgets/base",
      "_view_module_version": "1.2.0",
      "_view_name": "StyleView",
      "description_width": ""
     }
    },
    "7385a084c6fe463cb75beda8dba66821": {
     "model_module": "@jupyter-widgets/base",
     "model_module_version": "1.2.0",
     "model_name": "LayoutModel",
     "state": {
      "_model_module": "@jupyter-widgets/base",
      "_model_module_version": "1.2.0",
      "_model_name": "LayoutModel",
      "_view_count": null,
      "_view_module": "@jupyter-widgets/base",
      "_view_module_version": "1.2.0",
      "_view_name": "LayoutView",
      "align_content": null,
      "align_items": null,
      "align_self": null,
      "border": null,
      "bottom": null,
      "display": null,
      "flex": null,
      "flex_flow": null,
      "grid_area": null,
      "grid_auto_columns": null,
      "grid_auto_flow": null,
      "grid_auto_rows": null,
      "grid_column": null,
      "grid_gap": null,
      "grid_row": null,
      "grid_template_areas": null,
      "grid_template_columns": null,
      "grid_template_rows": null,
      "height": null,
      "justify_content": null,
      "justify_items": null,
      "left": null,
      "margin": null,
      "max_height": null,
      "max_width": null,
      "min_height": null,
      "min_width": null,
      "object_fit": null,
      "object_position": null,
      "order": null,
      "overflow": null,
      "overflow_x": null,
      "overflow_y": null,
      "padding": null,
      "right": null,
      "top": null,
      "visibility": null,
      "width": null
     }
    },
    "882e7a925db0466e8c35989737e0188a": {
     "model_module": "@jupyter-widgets/controls",
     "model_module_version": "1.5.0",
     "model_name": "FloatProgressModel",
     "state": {
      "_dom_classes": [],
      "_model_module": "@jupyter-widgets/controls",
      "_model_module_version": "1.5.0",
      "_model_name": "FloatProgressModel",
      "_view_count": null,
      "_view_module": "@jupyter-widgets/controls",
      "_view_module_version": "1.5.0",
      "_view_name": "ProgressView",
      "bar_style": "success",
      "description": "",
      "description_tooltip": null,
      "layout": "IPY_MODEL_b63d36f456214ed5ad74494b7b1ea90b",
      "max": 320,
      "min": 0,
      "orientation": "horizontal",
      "style": "IPY_MODEL_e004c9b6c6c54dd2b564a302dea31003",
      "value": 320
     }
    },
    "a1fb75957b81431fb196fcf17330da83": {
     "model_module": "@jupyter-widgets/controls",
     "model_module_version": "1.5.0",
     "model_name": "HTMLModel",
     "state": {
      "_dom_classes": [],
      "_model_module": "@jupyter-widgets/controls",
      "_model_module_version": "1.5.0",
      "_model_name": "HTMLModel",
      "_view_count": null,
      "_view_module": "@jupyter-widgets/controls",
      "_view_module_version": "1.5.0",
      "_view_name": "HTMLView",
      "description": "",
      "description_tooltip": null,
      "layout": "IPY_MODEL_0e4ec4fe5d5d4d53a073108fb6d829d0",
      "placeholder": "​",
      "style": "IPY_MODEL_3d143537974c45e2b8088e9206b6611a",
      "value": " 320/320 [09:43&lt;00:00,  1.79s/it]"
     }
    },
    "b63d36f456214ed5ad74494b7b1ea90b": {
     "model_module": "@jupyter-widgets/base",
     "model_module_version": "1.2.0",
     "model_name": "LayoutModel",
     "state": {
      "_model_module": "@jupyter-widgets/base",
      "_model_module_version": "1.2.0",
      "_model_name": "LayoutModel",
      "_view_count": null,
      "_view_module": "@jupyter-widgets/base",
      "_view_module_version": "1.2.0",
      "_view_name": "LayoutView",
      "align_content": null,
      "align_items": null,
      "align_self": null,
      "border": null,
      "bottom": null,
      "display": null,
      "flex": null,
      "flex_flow": null,
      "grid_area": null,
      "grid_auto_columns": null,
      "grid_auto_flow": null,
      "grid_auto_rows": null,
      "grid_column": null,
      "grid_gap": null,
      "grid_row": null,
      "grid_template_areas": null,
      "grid_template_columns": null,
      "grid_template_rows": null,
      "height": null,
      "justify_content": null,
      "justify_items": null,
      "left": null,
      "margin": null,
      "max_height": null,
      "max_width": null,
      "min_height": null,
      "min_width": null,
      "object_fit": null,
      "object_position": null,
      "order": null,
      "overflow": null,
      "overflow_x": null,
      "overflow_y": null,
      "padding": null,
      "right": null,
      "top": null,
      "visibility": null,
      "width": null
     }
    },
    "d0847f5da00b46e1817afe13460a451f": {
     "model_module": "@jupyter-widgets/base",
     "model_module_version": "1.2.0",
     "model_name": "LayoutModel",
     "state": {
      "_model_module": "@jupyter-widgets/base",
      "_model_module_version": "1.2.0",
      "_model_name": "LayoutModel",
      "_view_count": null,
      "_view_module": "@jupyter-widgets/base",
      "_view_module_version": "1.2.0",
      "_view_name": "LayoutView",
      "align_content": null,
      "align_items": null,
      "align_self": null,
      "border": null,
      "bottom": null,
      "display": null,
      "flex": null,
      "flex_flow": null,
      "grid_area": null,
      "grid_auto_columns": null,
      "grid_auto_flow": null,
      "grid_auto_rows": null,
      "grid_column": null,
      "grid_gap": null,
      "grid_row": null,
      "grid_template_areas": null,
      "grid_template_columns": null,
      "grid_template_rows": null,
      "height": null,
      "justify_content": null,
      "justify_items": null,
      "left": null,
      "margin": null,
      "max_height": null,
      "max_width": null,
      "min_height": null,
      "min_width": null,
      "object_fit": null,
      "object_position": null,
      "order": null,
      "overflow": null,
      "overflow_x": null,
      "overflow_y": null,
      "padding": null,
      "right": null,
      "top": null,
      "visibility": null,
      "width": null
     }
    },
    "e004c9b6c6c54dd2b564a302dea31003": {
     "model_module": "@jupyter-widgets/controls",
     "model_module_version": "1.5.0",
     "model_name": "ProgressStyleModel",
     "state": {
      "_model_module": "@jupyter-widgets/controls",
      "_model_module_version": "1.5.0",
      "_model_name": "ProgressStyleModel",
      "_view_count": null,
      "_view_module": "@jupyter-widgets/base",
      "_view_module_version": "1.2.0",
      "_view_name": "StyleView",
      "bar_color": null,
      "description_width": ""
     }
    },
    "f7e34edd3ee84fefba411d0374ab2cdf": {
     "model_module": "@jupyter-widgets/controls",
     "model_module_version": "1.5.0",
     "model_name": "HTMLModel",
     "state": {
      "_dom_classes": [],
      "_model_module": "@jupyter-widgets/controls",
      "_model_module_version": "1.5.0",
      "_model_name": "HTMLModel",
      "_view_count": null,
      "_view_module": "@jupyter-widgets/controls",
      "_view_module_version": "1.5.0",
      "_view_name": "HTMLView",
      "description": "",
      "description_tooltip": null,
      "layout": "IPY_MODEL_7385a084c6fe463cb75beda8dba66821",
      "placeholder": "​",
      "style": "IPY_MODEL_052c2c763dd044ef8c5173b796077f38",
      "value": "100%"
     }
    },
    "fd1350a63b544519af1706bd0f50c05a": {
     "model_module": "@jupyter-widgets/controls",
     "model_module_version": "1.5.0",
     "model_name": "HBoxModel",
     "state": {
      "_dom_classes": [],
      "_model_module": "@jupyter-widgets/controls",
      "_model_module_version": "1.5.0",
      "_model_name": "HBoxModel",
      "_view_count": null,
      "_view_module": "@jupyter-widgets/controls",
      "_view_module_version": "1.5.0",
      "_view_name": "HBoxView",
      "box_style": "",
      "children": [
       "IPY_MODEL_f7e34edd3ee84fefba411d0374ab2cdf",
       "IPY_MODEL_882e7a925db0466e8c35989737e0188a",
       "IPY_MODEL_a1fb75957b81431fb196fcf17330da83"
      ],
      "layout": "IPY_MODEL_d0847f5da00b46e1817afe13460a451f"
     }
    }
   }
  }
 },
 "nbformat": 4,
 "nbformat_minor": 1
}
