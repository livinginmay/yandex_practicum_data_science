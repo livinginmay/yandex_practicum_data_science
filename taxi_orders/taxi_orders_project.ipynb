{
 "cells": [
  {
   "cell_type": "markdown",
   "metadata": {
    "toc": true
   },
   "source": [
    "<h1>Содержание<span class=\"tocSkip\"></span></h1>\n",
    "<div class=\"toc\"><ul class=\"toc-item\"><li><span><a href=\"#Подготовка\" data-toc-modified-id=\"Подготовка-1\"><span class=\"toc-item-num\">1&nbsp;&nbsp;</span>Подготовка</a></span></li><li><span><a href=\"#Анализ\" data-toc-modified-id=\"Анализ-2\"><span class=\"toc-item-num\">2&nbsp;&nbsp;</span>Анализ</a></span></li><li><span><a href=\"#Обучение\" data-toc-modified-id=\"Обучение-3\"><span class=\"toc-item-num\">3&nbsp;&nbsp;</span>Обучение</a></span><ul class=\"toc-item\"><li><span><a href=\"#Создание-признаков\" data-toc-modified-id=\"Создание-признаков-3.1\"><span class=\"toc-item-num\">3.1&nbsp;&nbsp;</span>Создание признаков</a></span></li><li><span><a href=\"#Разбиение-на-выборки\" data-toc-modified-id=\"Разбиение-на-выборки-3.2\"><span class=\"toc-item-num\">3.2&nbsp;&nbsp;</span>Разбиение на выборки</a></span></li><li><span><a href=\"#Обучение-моделей\" data-toc-modified-id=\"Обучение-моделей-3.3\"><span class=\"toc-item-num\">3.3&nbsp;&nbsp;</span>Обучение моделей</a></span><ul class=\"toc-item\"><li><span><a href=\"#Линейная-регрессия\" data-toc-modified-id=\"Линейная-регрессия-3.3.1\"><span class=\"toc-item-num\">3.3.1&nbsp;&nbsp;</span>Линейная регрессия</a></span></li><li><span><a href=\"#Дерево-решений\" data-toc-modified-id=\"Дерево-решений-3.3.2\"><span class=\"toc-item-num\">3.3.2&nbsp;&nbsp;</span>Дерево решений</a></span></li><li><span><a href=\"#Случайный-лес\" data-toc-modified-id=\"Случайный-лес-3.3.3\"><span class=\"toc-item-num\">3.3.3&nbsp;&nbsp;</span>Случайный лес</a></span></li><li><span><a href=\"#CatBoost\" data-toc-modified-id=\"CatBoost-3.3.4\"><span class=\"toc-item-num\">3.3.4&nbsp;&nbsp;</span>CatBoost</a></span></li><li><span><a href=\"#LightGBM\" data-toc-modified-id=\"LightGBM-3.3.5\"><span class=\"toc-item-num\">3.3.5&nbsp;&nbsp;</span>LightGBM</a></span></li><li><span><a href=\"#XGBoost\" data-toc-modified-id=\"XGBoost-3.3.6\"><span class=\"toc-item-num\">3.3.6&nbsp;&nbsp;</span>XGBoost</a></span></li><li><span><a href=\"#Лучшая-модель\" data-toc-modified-id=\"Лучшая-модель-3.3.7\"><span class=\"toc-item-num\">3.3.7&nbsp;&nbsp;</span>Лучшая модель</a></span></li></ul></li></ul></li><li><span><a href=\"#Тестирование\" data-toc-modified-id=\"Тестирование-4\"><span class=\"toc-item-num\">4&nbsp;&nbsp;</span>Тестирование</a></span></li><li><span><a href=\"#Чек-лист-проверки\" data-toc-modified-id=\"Чек-лист-проверки-5\"><span class=\"toc-item-num\">5&nbsp;&nbsp;</span>Чек-лист проверки</a></span></li></ul></div>"
   ]
  },
  {
   "cell_type": "markdown",
   "metadata": {},
   "source": [
    "#  Прогнозирование заказов такси"
   ]
  },
  {
   "cell_type": "markdown",
   "metadata": {},
   "source": [
    "## Подготовка"
   ]
  },
  {
   "cell_type": "code",
   "execution_count": 1,
   "metadata": {},
   "outputs": [],
   "source": [
    "import pandas as pd\n",
    "\n",
    "from statsmodels.tsa.seasonal import seasonal_decompose\n",
    "\n",
    "import matplotlib.pyplot as plt\n",
    "import seaborn as sns\n",
    "\n",
    "from sklearn.model_selection import train_test_split\n",
    "from sklearn.model_selection import RandomizedSearchCV\n",
    "from sklearn.model_selection import TimeSeriesSplit\n",
    "from sklearn.model_selection import cross_val_score\n",
    "\n",
    "from sklearn.linear_model import LinearRegression\n",
    "from sklearn.tree import DecisionTreeRegressor\n",
    "from sklearn.ensemble import RandomForestRegressor\n",
    "\n",
    "from catboost import CatBoostRegressor\n",
    "from lightgbm import LGBMRegressor\n",
    "from xgboost import XGBRegressor\n",
    "\n",
    "from sklearn.metrics import mean_squared_error"
   ]
  },
  {
   "cell_type": "code",
   "execution_count": 2,
   "metadata": {},
   "outputs": [
    {
     "name": "stdout",
     "output_type": "stream",
     "text": [
      "<class 'pandas.core.frame.DataFrame'>\n",
      "DatetimeIndex: 26496 entries, 2018-03-01 00:00:00 to 2018-08-31 23:50:00\n",
      "Data columns (total 1 columns):\n",
      " #   Column      Non-Null Count  Dtype\n",
      "---  ------      --------------  -----\n",
      " 0   num_orders  26496 non-null  int64\n",
      "dtypes: int64(1)\n",
      "memory usage: 414.0 KB\n"
     ]
    }
   ],
   "source": [
    "data = pd.read_csv('/datasets/taxi.csv', index_col=[0], parse_dates=[0])\n",
    "data.info()"
   ]
  },
  {
   "cell_type": "code",
   "execution_count": 3,
   "metadata": {},
   "outputs": [
    {
     "data": {
      "text/html": [
       "<div>\n",
       "<style scoped>\n",
       "    .dataframe tbody tr th:only-of-type {\n",
       "        vertical-align: middle;\n",
       "    }\n",
       "\n",
       "    .dataframe tbody tr th {\n",
       "        vertical-align: top;\n",
       "    }\n",
       "\n",
       "    .dataframe thead th {\n",
       "        text-align: right;\n",
       "    }\n",
       "</style>\n",
       "<table border=\"1\" class=\"dataframe\">\n",
       "  <thead>\n",
       "    <tr style=\"text-align: right;\">\n",
       "      <th></th>\n",
       "      <th>num_orders</th>\n",
       "    </tr>\n",
       "    <tr>\n",
       "      <th>datetime</th>\n",
       "      <th></th>\n",
       "    </tr>\n",
       "  </thead>\n",
       "  <tbody>\n",
       "    <tr>\n",
       "      <th>2018-03-01 00:00:00</th>\n",
       "      <td>9</td>\n",
       "    </tr>\n",
       "    <tr>\n",
       "      <th>2018-03-01 00:10:00</th>\n",
       "      <td>14</td>\n",
       "    </tr>\n",
       "    <tr>\n",
       "      <th>2018-03-01 00:20:00</th>\n",
       "      <td>28</td>\n",
       "    </tr>\n",
       "    <tr>\n",
       "      <th>2018-03-01 00:30:00</th>\n",
       "      <td>20</td>\n",
       "    </tr>\n",
       "    <tr>\n",
       "      <th>2018-03-01 00:40:00</th>\n",
       "      <td>32</td>\n",
       "    </tr>\n",
       "  </tbody>\n",
       "</table>\n",
       "</div>"
      ],
      "text/plain": [
       "                     num_orders\n",
       "datetime                       \n",
       "2018-03-01 00:00:00           9\n",
       "2018-03-01 00:10:00          14\n",
       "2018-03-01 00:20:00          28\n",
       "2018-03-01 00:30:00          20\n",
       "2018-03-01 00:40:00          32"
      ]
     },
     "execution_count": 3,
     "metadata": {},
     "output_type": "execute_result"
    }
   ],
   "source": [
    "data.head()"
   ]
  },
  {
   "cell_type": "code",
   "execution_count": 4,
   "metadata": {},
   "outputs": [
    {
     "data": {
      "text/plain": [
       "True"
      ]
     },
     "execution_count": 4,
     "metadata": {},
     "output_type": "execute_result"
    }
   ],
   "source": [
    "data.index.is_monotonic"
   ]
  },
  {
   "cell_type": "code",
   "execution_count": 5,
   "metadata": {},
   "outputs": [
    {
     "data": {
      "text/html": [
       "<div>\n",
       "<style scoped>\n",
       "    .dataframe tbody tr th:only-of-type {\n",
       "        vertical-align: middle;\n",
       "    }\n",
       "\n",
       "    .dataframe tbody tr th {\n",
       "        vertical-align: top;\n",
       "    }\n",
       "\n",
       "    .dataframe thead th {\n",
       "        text-align: right;\n",
       "    }\n",
       "</style>\n",
       "<table border=\"1\" class=\"dataframe\">\n",
       "  <thead>\n",
       "    <tr style=\"text-align: right;\">\n",
       "      <th></th>\n",
       "      <th>num_orders</th>\n",
       "    </tr>\n",
       "  </thead>\n",
       "  <tbody>\n",
       "    <tr>\n",
       "      <th>count</th>\n",
       "      <td>26496.000000</td>\n",
       "    </tr>\n",
       "    <tr>\n",
       "      <th>mean</th>\n",
       "      <td>14.070463</td>\n",
       "    </tr>\n",
       "    <tr>\n",
       "      <th>std</th>\n",
       "      <td>9.211330</td>\n",
       "    </tr>\n",
       "    <tr>\n",
       "      <th>min</th>\n",
       "      <td>0.000000</td>\n",
       "    </tr>\n",
       "    <tr>\n",
       "      <th>25%</th>\n",
       "      <td>8.000000</td>\n",
       "    </tr>\n",
       "    <tr>\n",
       "      <th>50%</th>\n",
       "      <td>13.000000</td>\n",
       "    </tr>\n",
       "    <tr>\n",
       "      <th>75%</th>\n",
       "      <td>19.000000</td>\n",
       "    </tr>\n",
       "    <tr>\n",
       "      <th>max</th>\n",
       "      <td>119.000000</td>\n",
       "    </tr>\n",
       "  </tbody>\n",
       "</table>\n",
       "</div>"
      ],
      "text/plain": [
       "         num_orders\n",
       "count  26496.000000\n",
       "mean      14.070463\n",
       "std        9.211330\n",
       "min        0.000000\n",
       "25%        8.000000\n",
       "50%       13.000000\n",
       "75%       19.000000\n",
       "max      119.000000"
      ]
     },
     "execution_count": 5,
     "metadata": {},
     "output_type": "execute_result"
    }
   ],
   "source": [
    "data.describe()"
   ]
  },
  {
   "cell_type": "code",
   "execution_count": 6,
   "metadata": {},
   "outputs": [
    {
     "data": {
      "text/html": [
       "<div>\n",
       "<style scoped>\n",
       "    .dataframe tbody tr th:only-of-type {\n",
       "        vertical-align: middle;\n",
       "    }\n",
       "\n",
       "    .dataframe tbody tr th {\n",
       "        vertical-align: top;\n",
       "    }\n",
       "\n",
       "    .dataframe thead th {\n",
       "        text-align: right;\n",
       "    }\n",
       "</style>\n",
       "<table border=\"1\" class=\"dataframe\">\n",
       "  <thead>\n",
       "    <tr style=\"text-align: right;\">\n",
       "      <th></th>\n",
       "      <th>num_orders</th>\n",
       "    </tr>\n",
       "    <tr>\n",
       "      <th>datetime</th>\n",
       "      <th></th>\n",
       "    </tr>\n",
       "  </thead>\n",
       "  <tbody>\n",
       "    <tr>\n",
       "      <th>2018-03-01 00:00:00</th>\n",
       "      <td>124</td>\n",
       "    </tr>\n",
       "    <tr>\n",
       "      <th>2018-03-01 01:00:00</th>\n",
       "      <td>85</td>\n",
       "    </tr>\n",
       "    <tr>\n",
       "      <th>2018-03-01 02:00:00</th>\n",
       "      <td>71</td>\n",
       "    </tr>\n",
       "    <tr>\n",
       "      <th>2018-03-01 03:00:00</th>\n",
       "      <td>66</td>\n",
       "    </tr>\n",
       "    <tr>\n",
       "      <th>2018-03-01 04:00:00</th>\n",
       "      <td>43</td>\n",
       "    </tr>\n",
       "  </tbody>\n",
       "</table>\n",
       "</div>"
      ],
      "text/plain": [
       "                     num_orders\n",
       "datetime                       \n",
       "2018-03-01 00:00:00         124\n",
       "2018-03-01 01:00:00          85\n",
       "2018-03-01 02:00:00          71\n",
       "2018-03-01 03:00:00          66\n",
       "2018-03-01 04:00:00          43"
      ]
     },
     "execution_count": 6,
     "metadata": {},
     "output_type": "execute_result"
    }
   ],
   "source": [
    "data = data.resample('1H').sum()\n",
    "data.head()"
   ]
  },
  {
   "cell_type": "code",
   "execution_count": 7,
   "metadata": {},
   "outputs": [
    {
     "data": {
      "text/html": [
       "<div>\n",
       "<style scoped>\n",
       "    .dataframe tbody tr th:only-of-type {\n",
       "        vertical-align: middle;\n",
       "    }\n",
       "\n",
       "    .dataframe tbody tr th {\n",
       "        vertical-align: top;\n",
       "    }\n",
       "\n",
       "    .dataframe thead th {\n",
       "        text-align: right;\n",
       "    }\n",
       "</style>\n",
       "<table border=\"1\" class=\"dataframe\">\n",
       "  <thead>\n",
       "    <tr style=\"text-align: right;\">\n",
       "      <th></th>\n",
       "      <th>num_orders</th>\n",
       "    </tr>\n",
       "  </thead>\n",
       "  <tbody>\n",
       "    <tr>\n",
       "      <th>count</th>\n",
       "      <td>4416.000000</td>\n",
       "    </tr>\n",
       "    <tr>\n",
       "      <th>mean</th>\n",
       "      <td>84.422781</td>\n",
       "    </tr>\n",
       "    <tr>\n",
       "      <th>std</th>\n",
       "      <td>45.023853</td>\n",
       "    </tr>\n",
       "    <tr>\n",
       "      <th>min</th>\n",
       "      <td>0.000000</td>\n",
       "    </tr>\n",
       "    <tr>\n",
       "      <th>25%</th>\n",
       "      <td>54.000000</td>\n",
       "    </tr>\n",
       "    <tr>\n",
       "      <th>50%</th>\n",
       "      <td>78.000000</td>\n",
       "    </tr>\n",
       "    <tr>\n",
       "      <th>75%</th>\n",
       "      <td>107.000000</td>\n",
       "    </tr>\n",
       "    <tr>\n",
       "      <th>max</th>\n",
       "      <td>462.000000</td>\n",
       "    </tr>\n",
       "  </tbody>\n",
       "</table>\n",
       "</div>"
      ],
      "text/plain": [
       "        num_orders\n",
       "count  4416.000000\n",
       "mean     84.422781\n",
       "std      45.023853\n",
       "min       0.000000\n",
       "25%      54.000000\n",
       "50%      78.000000\n",
       "75%     107.000000\n",
       "max     462.000000"
      ]
     },
     "execution_count": 7,
     "metadata": {},
     "output_type": "execute_result"
    }
   ],
   "source": [
    "data.describe()"
   ]
  },
  {
   "cell_type": "markdown",
   "metadata": {},
   "source": [
    "**Вывод**\n",
    "\n",
    "Датасет содержит 26496 строк - данные о количестве заказов в период 01.03.2018 - 31.08.2018. Пропусков нет. Индекс упорядочен. Стиль заголовков соблюден.\n",
    "\n",
    "Интервал временного ряда исходных данных - 10 минут. Ресемплировала данные по одному часу."
   ]
  },
  {
   "cell_type": "markdown",
   "metadata": {},
   "source": [
    "## Анализ"
   ]
  },
  {
   "cell_type": "code",
   "execution_count": 8,
   "metadata": {},
   "outputs": [],
   "source": [
    "def plots(date1, date2, suptitle):\n",
    "\n",
    "  fig, axes = plt.subplots(1, 3, figsize=(18, 4))\n",
    "  decomposed.trend[date1:date2].plot(title = 'Trend', ax=axes[0]);\n",
    "  decomposed.seasonal[date1:date2].plot(title = 'Seasonality', ax=axes[1]); \n",
    "  decomposed.resid[date1:date2].plot(title = 'Residuals', ax=axes[2]); \n",
    "\n",
    "  fig.suptitle(suptitle)"
   ]
  },
  {
   "cell_type": "code",
   "execution_count": 9,
   "metadata": {},
   "outputs": [
    {
     "data": {
      "image/png": "[encoded data removed]",
      "text/plain": [
       "<Figure size 1296x288 with 3 Axes>"
      ]
     },
     "metadata": {
      "needs_background": "light"
     },
     "output_type": "display_data"
    }
   ],
   "source": [
    "month_data = data.resample('1D').sum() \n",
    "decomposed = seasonal_decompose(month_data)\n",
    "plots(month_data.index.min(), month_data.index.max(), 'Закономерности по месяцам')"
   ]
  },
  {
   "cell_type": "code",
   "execution_count": 10,
   "metadata": {},
   "outputs": [
    {
     "data": {
      "image/png": "[encoded data removed]",
      "text/plain": [
       "<Figure size 1296x288 with 3 Axes>"
      ]
     },
     "metadata": {
      "needs_background": "light"
     },
     "output_type": "display_data"
    }
   ],
   "source": [
    "plots('2018-03', '2018-03', 'Закономерности в течение месяца на примере марта 2018')"
   ]
  },
  {
   "cell_type": "code",
   "execution_count": 11,
   "metadata": {
    "scrolled": true
   },
   "outputs": [
    {
     "data": {
      "image/png": "[encoded data removed]",
      "text/plain": [
       "<Figure size 1296x288 with 3 Axes>"
      ]
     },
     "metadata": {
      "needs_background": "light"
     },
     "output_type": "display_data"
    }
   ],
   "source": [
    "decomposed = seasonal_decompose(data)\n",
    "plots('2018-03-01', '2018-03-02', 'Закономерности в пределах дня на примере 1-2 марта 2018')"
   ]
  },
  {
   "cell_type": "markdown",
   "metadata": {},
   "source": [
    "**Вывод**\n",
    "\n",
    "В тренде по месяцам видно, что спрос на такси неуклонно растет.\n",
    "\n",
    "В сезонности по месяцам видно еженедельную сезонность, которую удобнее рассмотреть на графике за один месяц.\n",
    "На примере марта 2018 самый высокий спрос на такси по понедельникам, чуть меньше по пятницам, падает количество заказов к воскресенью и максимально снижается во вторник.\n",
    "\n",
    "В течение дня минимальный спрос в 6 утра, максимальный в полночь."
   ]
  },
  {
   "cell_type": "markdown",
   "metadata": {},
   "source": [
    "## Обучение"
   ]
  },
  {
   "cell_type": "markdown",
   "metadata": {},
   "source": [
    "### Создание признаков"
   ]
  },
  {
   "cell_type": "code",
   "execution_count": 12,
   "metadata": {},
   "outputs": [],
   "source": [
    "def make_features(data, max_lag, rolling_mean_size):\n",
    "    \n",
    "    completed_data = data.copy()\n",
    "    \n",
    "    completed_data['year'] = data.index.year\n",
    "    completed_data['month'] = data.index.month\n",
    "    completed_data['day'] = data.index.day\n",
    "    completed_data['dayofweek'] = data.index.dayofweek\n",
    "    completed_data['hour'] = data.index.hour\n",
    "    \n",
    "    for lag in range(1, max_lag + 1):\n",
    "        completed_data['lag_{}'.format(lag)] = data['num_orders'].shift(lag)\n",
    "\n",
    "    completed_data['rolling_mean'] = completed_data['lag_1'].rolling(rolling_mean_size).mean()\n",
    "    \n",
    "    return completed_data"
   ]
  },
  {
   "cell_type": "code",
   "execution_count": 13,
   "metadata": {
    "scrolled": false
   },
   "outputs": [
    {
     "data": {
      "text/html": [
       "<div>\n",
       "<style scoped>\n",
       "    .dataframe tbody tr th:only-of-type {\n",
       "        vertical-align: middle;\n",
       "    }\n",
       "\n",
       "    .dataframe tbody tr th {\n",
       "        vertical-align: top;\n",
       "    }\n",
       "\n",
       "    .dataframe thead th {\n",
       "        text-align: right;\n",
       "    }\n",
       "</style>\n",
       "<table border=\"1\" class=\"dataframe\">\n",
       "  <thead>\n",
       "    <tr style=\"text-align: right;\">\n",
       "      <th></th>\n",
       "      <th>num_orders</th>\n",
       "      <th>year</th>\n",
       "      <th>month</th>\n",
       "      <th>day</th>\n",
       "      <th>dayofweek</th>\n",
       "      <th>hour</th>\n",
       "      <th>lag_1</th>\n",
       "      <th>lag_2</th>\n",
       "      <th>lag_3</th>\n",
       "      <th>lag_4</th>\n",
       "      <th>lag_5</th>\n",
       "      <th>lag_6</th>\n",
       "      <th>lag_7</th>\n",
       "      <th>lag_8</th>\n",
       "      <th>lag_9</th>\n",
       "      <th>lag_10</th>\n",
       "      <th>lag_11</th>\n",
       "      <th>lag_12</th>\n",
       "      <th>rolling_mean</th>\n",
       "    </tr>\n",
       "    <tr>\n",
       "      <th>datetime</th>\n",
       "      <th></th>\n",
       "      <th></th>\n",
       "      <th></th>\n",
       "      <th></th>\n",
       "      <th></th>\n",
       "      <th></th>\n",
       "      <th></th>\n",
       "      <th></th>\n",
       "      <th></th>\n",
       "      <th></th>\n",
       "      <th></th>\n",
       "      <th></th>\n",
       "      <th></th>\n",
       "      <th></th>\n",
       "      <th></th>\n",
       "      <th></th>\n",
       "      <th></th>\n",
       "      <th></th>\n",
       "      <th></th>\n",
       "    </tr>\n",
       "  </thead>\n",
       "  <tbody>\n",
       "    <tr>\n",
       "      <th>2018-03-01 12:00:00</th>\n",
       "      <td>30</td>\n",
       "      <td>2018</td>\n",
       "      <td>3</td>\n",
       "      <td>1</td>\n",
       "      <td>3</td>\n",
       "      <td>12</td>\n",
       "      <td>96.0</td>\n",
       "      <td>64.0</td>\n",
       "      <td>69.0</td>\n",
       "      <td>34.0</td>\n",
       "      <td>15.0</td>\n",
       "      <td>12.0</td>\n",
       "      <td>6.0</td>\n",
       "      <td>43.0</td>\n",
       "      <td>66.0</td>\n",
       "      <td>71.0</td>\n",
       "      <td>85.0</td>\n",
       "      <td>124.0</td>\n",
       "      <td>55.6</td>\n",
       "    </tr>\n",
       "    <tr>\n",
       "      <th>2018-03-01 13:00:00</th>\n",
       "      <td>32</td>\n",
       "      <td>2018</td>\n",
       "      <td>3</td>\n",
       "      <td>1</td>\n",
       "      <td>3</td>\n",
       "      <td>13</td>\n",
       "      <td>30.0</td>\n",
       "      <td>96.0</td>\n",
       "      <td>64.0</td>\n",
       "      <td>69.0</td>\n",
       "      <td>34.0</td>\n",
       "      <td>15.0</td>\n",
       "      <td>12.0</td>\n",
       "      <td>6.0</td>\n",
       "      <td>43.0</td>\n",
       "      <td>66.0</td>\n",
       "      <td>71.0</td>\n",
       "      <td>85.0</td>\n",
       "      <td>58.6</td>\n",
       "    </tr>\n",
       "    <tr>\n",
       "      <th>2018-03-01 14:00:00</th>\n",
       "      <td>48</td>\n",
       "      <td>2018</td>\n",
       "      <td>3</td>\n",
       "      <td>1</td>\n",
       "      <td>3</td>\n",
       "      <td>14</td>\n",
       "      <td>32.0</td>\n",
       "      <td>30.0</td>\n",
       "      <td>96.0</td>\n",
       "      <td>64.0</td>\n",
       "      <td>69.0</td>\n",
       "      <td>34.0</td>\n",
       "      <td>15.0</td>\n",
       "      <td>12.0</td>\n",
       "      <td>6.0</td>\n",
       "      <td>43.0</td>\n",
       "      <td>66.0</td>\n",
       "      <td>71.0</td>\n",
       "      <td>58.2</td>\n",
       "    </tr>\n",
       "    <tr>\n",
       "      <th>2018-03-01 15:00:00</th>\n",
       "      <td>66</td>\n",
       "      <td>2018</td>\n",
       "      <td>3</td>\n",
       "      <td>1</td>\n",
       "      <td>3</td>\n",
       "      <td>15</td>\n",
       "      <td>48.0</td>\n",
       "      <td>32.0</td>\n",
       "      <td>30.0</td>\n",
       "      <td>96.0</td>\n",
       "      <td>64.0</td>\n",
       "      <td>69.0</td>\n",
       "      <td>34.0</td>\n",
       "      <td>15.0</td>\n",
       "      <td>12.0</td>\n",
       "      <td>6.0</td>\n",
       "      <td>43.0</td>\n",
       "      <td>66.0</td>\n",
       "      <td>54.0</td>\n",
       "    </tr>\n",
       "    <tr>\n",
       "      <th>2018-03-01 16:00:00</th>\n",
       "      <td>43</td>\n",
       "      <td>2018</td>\n",
       "      <td>3</td>\n",
       "      <td>1</td>\n",
       "      <td>3</td>\n",
       "      <td>16</td>\n",
       "      <td>66.0</td>\n",
       "      <td>48.0</td>\n",
       "      <td>32.0</td>\n",
       "      <td>30.0</td>\n",
       "      <td>96.0</td>\n",
       "      <td>64.0</td>\n",
       "      <td>69.0</td>\n",
       "      <td>34.0</td>\n",
       "      <td>15.0</td>\n",
       "      <td>12.0</td>\n",
       "      <td>6.0</td>\n",
       "      <td>43.0</td>\n",
       "      <td>54.4</td>\n",
       "    </tr>\n",
       "  </tbody>\n",
       "</table>\n",
       "</div>"
      ],
      "text/plain": [
       "                     num_orders  year  month  day  dayofweek  hour  lag_1  \\\n",
       "datetime                                                                    \n",
       "2018-03-01 12:00:00          30  2018      3    1          3    12   96.0   \n",
       "2018-03-01 13:00:00          32  2018      3    1          3    13   30.0   \n",
       "2018-03-01 14:00:00          48  2018      3    1          3    14   32.0   \n",
       "2018-03-01 15:00:00          66  2018      3    1          3    15   48.0   \n",
       "2018-03-01 16:00:00          43  2018      3    1          3    16   66.0   \n",
       "\n",
       "                     lag_2  lag_3  lag_4  lag_5  lag_6  lag_7  lag_8  lag_9  \\\n",
       "datetime                                                                      \n",
       "2018-03-01 12:00:00   64.0   69.0   34.0   15.0   12.0    6.0   43.0   66.0   \n",
       "2018-03-01 13:00:00   96.0   64.0   69.0   34.0   15.0   12.0    6.0   43.0   \n",
       "2018-03-01 14:00:00   30.0   96.0   64.0   69.0   34.0   15.0   12.0    6.0   \n",
       "2018-03-01 15:00:00   32.0   30.0   96.0   64.0   69.0   34.0   15.0   12.0   \n",
       "2018-03-01 16:00:00   48.0   32.0   30.0   96.0   64.0   69.0   34.0   15.0   \n",
       "\n",
       "                     lag_10  lag_11  lag_12  rolling_mean  \n",
       "datetime                                                   \n",
       "2018-03-01 12:00:00    71.0    85.0   124.0          55.6  \n",
       "2018-03-01 13:00:00    66.0    71.0    85.0          58.6  \n",
       "2018-03-01 14:00:00    43.0    66.0    71.0          58.2  \n",
       "2018-03-01 15:00:00     6.0    43.0    66.0          54.0  \n",
       "2018-03-01 16:00:00    12.0     6.0    43.0          54.4  "
      ]
     },
     "execution_count": 13,
     "metadata": {},
     "output_type": "execute_result"
    }
   ],
   "source": [
    "completed_data = make_features(data, 12, 5)\n",
    "completed_data = completed_data.dropna()\n",
    "completed_data.head()"
   ]
  },
  {
   "cell_type": "markdown",
   "metadata": {},
   "source": [
    "**Вывод**\n",
    "\n",
    "Добавила в качестве признаков день, месяц, год, отстающие значения до 12 штук, среднее скользящее с окном 5. Значения получены опытным путем, т.е. дают наименьшую RMSE при прочих равных условиях."
   ]
  },
  {
   "cell_type": "markdown",
   "metadata": {},
   "source": [
    "### Разбиение на выборки"
   ]
  },
  {
   "cell_type": "code",
   "execution_count": 14,
   "metadata": {},
   "outputs": [],
   "source": [
    "features = completed_data.drop('num_orders', axis=1)"
   ]
  },
  {
   "cell_type": "code",
   "execution_count": 15,
   "metadata": {},
   "outputs": [],
   "source": [
    "target = completed_data['num_orders']"
   ]
  },
  {
   "cell_type": "code",
   "execution_count": 16,
   "metadata": {},
   "outputs": [],
   "source": [
    "features_train, features_test, target_train, target_test  = train_test_split(features, target, shuffle=False, test_size=0.1)"
   ]
  },
  {
   "cell_type": "code",
   "execution_count": 17,
   "metadata": {},
   "outputs": [
    {
     "data": {
      "text/plain": [
       "((3963, 18), (3963,))"
      ]
     },
     "execution_count": 17,
     "metadata": {},
     "output_type": "execute_result"
    }
   ],
   "source": [
    "features_train.shape, target_train.shape"
   ]
  },
  {
   "cell_type": "code",
   "execution_count": 18,
   "metadata": {},
   "outputs": [
    {
     "data": {
      "text/html": [
       "<div>\n",
       "<style scoped>\n",
       "    .dataframe tbody tr th:only-of-type {\n",
       "        vertical-align: middle;\n",
       "    }\n",
       "\n",
       "    .dataframe tbody tr th {\n",
       "        vertical-align: top;\n",
       "    }\n",
       "\n",
       "    .dataframe thead th {\n",
       "        text-align: right;\n",
       "    }\n",
       "</style>\n",
       "<table border=\"1\" class=\"dataframe\">\n",
       "  <thead>\n",
       "    <tr style=\"text-align: right;\">\n",
       "      <th></th>\n",
       "      <th>year</th>\n",
       "      <th>month</th>\n",
       "      <th>day</th>\n",
       "      <th>dayofweek</th>\n",
       "      <th>hour</th>\n",
       "      <th>lag_1</th>\n",
       "      <th>lag_2</th>\n",
       "      <th>lag_3</th>\n",
       "      <th>lag_4</th>\n",
       "      <th>lag_5</th>\n",
       "      <th>lag_6</th>\n",
       "      <th>lag_7</th>\n",
       "      <th>lag_8</th>\n",
       "      <th>lag_9</th>\n",
       "      <th>lag_10</th>\n",
       "      <th>lag_11</th>\n",
       "      <th>lag_12</th>\n",
       "      <th>rolling_mean</th>\n",
       "    </tr>\n",
       "  </thead>\n",
       "  <tbody>\n",
       "    <tr>\n",
       "      <th>count</th>\n",
       "      <td>3963.0</td>\n",
       "      <td>3963.000000</td>\n",
       "      <td>3963.000000</td>\n",
       "      <td>3963.000000</td>\n",
       "      <td>3963.000000</td>\n",
       "      <td>3963.000000</td>\n",
       "      <td>3963.000000</td>\n",
       "      <td>3963.000000</td>\n",
       "      <td>3963.000000</td>\n",
       "      <td>3963.000000</td>\n",
       "      <td>3963.000000</td>\n",
       "      <td>3963.000000</td>\n",
       "      <td>3963.000000</td>\n",
       "      <td>3963.000000</td>\n",
       "      <td>3963.000000</td>\n",
       "      <td>3963.000000</td>\n",
       "      <td>3963.000000</td>\n",
       "      <td>3963.000000</td>\n",
       "    </tr>\n",
       "    <tr>\n",
       "      <th>mean</th>\n",
       "      <td>2018.0</td>\n",
       "      <td>5.235428</td>\n",
       "      <td>15.161998</td>\n",
       "      <td>3.024981</td>\n",
       "      <td>11.501136</td>\n",
       "      <td>78.359324</td>\n",
       "      <td>78.345445</td>\n",
       "      <td>78.339642</td>\n",
       "      <td>78.311885</td>\n",
       "      <td>78.276306</td>\n",
       "      <td>78.244764</td>\n",
       "      <td>78.223316</td>\n",
       "      <td>78.224325</td>\n",
       "      <td>78.224325</td>\n",
       "      <td>78.221297</td>\n",
       "      <td>78.206662</td>\n",
       "      <td>78.195559</td>\n",
       "      <td>78.326520</td>\n",
       "    </tr>\n",
       "    <tr>\n",
       "      <th>std</th>\n",
       "      <td>0.0</td>\n",
       "      <td>1.576851</td>\n",
       "      <td>8.858014</td>\n",
       "      <td>2.004823</td>\n",
       "      <td>6.920599</td>\n",
       "      <td>38.661921</td>\n",
       "      <td>38.657200</td>\n",
       "      <td>38.656876</td>\n",
       "      <td>38.649209</td>\n",
       "      <td>38.642573</td>\n",
       "      <td>38.645643</td>\n",
       "      <td>38.662147</td>\n",
       "      <td>38.661175</td>\n",
       "      <td>38.661175</td>\n",
       "      <td>38.661270</td>\n",
       "      <td>38.647718</td>\n",
       "      <td>38.628231</td>\n",
       "      <td>27.982933</td>\n",
       "    </tr>\n",
       "    <tr>\n",
       "      <th>min</th>\n",
       "      <td>2018.0</td>\n",
       "      <td>3.000000</td>\n",
       "      <td>1.000000</td>\n",
       "      <td>0.000000</td>\n",
       "      <td>0.000000</td>\n",
       "      <td>0.000000</td>\n",
       "      <td>0.000000</td>\n",
       "      <td>0.000000</td>\n",
       "      <td>0.000000</td>\n",
       "      <td>0.000000</td>\n",
       "      <td>0.000000</td>\n",
       "      <td>0.000000</td>\n",
       "      <td>0.000000</td>\n",
       "      <td>0.000000</td>\n",
       "      <td>0.000000</td>\n",
       "      <td>0.000000</td>\n",
       "      <td>0.000000</td>\n",
       "      <td>16.000000</td>\n",
       "    </tr>\n",
       "    <tr>\n",
       "      <th>25%</th>\n",
       "      <td>2018.0</td>\n",
       "      <td>4.000000</td>\n",
       "      <td>7.000000</td>\n",
       "      <td>1.000000</td>\n",
       "      <td>6.000000</td>\n",
       "      <td>52.000000</td>\n",
       "      <td>52.000000</td>\n",
       "      <td>52.000000</td>\n",
       "      <td>52.000000</td>\n",
       "      <td>52.000000</td>\n",
       "      <td>52.000000</td>\n",
       "      <td>52.000000</td>\n",
       "      <td>52.000000</td>\n",
       "      <td>52.000000</td>\n",
       "      <td>52.000000</td>\n",
       "      <td>52.000000</td>\n",
       "      <td>52.000000</td>\n",
       "      <td>59.800000</td>\n",
       "    </tr>\n",
       "    <tr>\n",
       "      <th>50%</th>\n",
       "      <td>2018.0</td>\n",
       "      <td>5.000000</td>\n",
       "      <td>15.000000</td>\n",
       "      <td>3.000000</td>\n",
       "      <td>12.000000</td>\n",
       "      <td>75.000000</td>\n",
       "      <td>75.000000</td>\n",
       "      <td>75.000000</td>\n",
       "      <td>75.000000</td>\n",
       "      <td>75.000000</td>\n",
       "      <td>75.000000</td>\n",
       "      <td>75.000000</td>\n",
       "      <td>75.000000</td>\n",
       "      <td>75.000000</td>\n",
       "      <td>75.000000</td>\n",
       "      <td>75.000000</td>\n",
       "      <td>75.000000</td>\n",
       "      <td>75.400000</td>\n",
       "    </tr>\n",
       "    <tr>\n",
       "      <th>75%</th>\n",
       "      <td>2018.0</td>\n",
       "      <td>7.000000</td>\n",
       "      <td>23.000000</td>\n",
       "      <td>5.000000</td>\n",
       "      <td>17.000000</td>\n",
       "      <td>101.000000</td>\n",
       "      <td>101.000000</td>\n",
       "      <td>101.000000</td>\n",
       "      <td>101.000000</td>\n",
       "      <td>101.000000</td>\n",
       "      <td>101.000000</td>\n",
       "      <td>101.000000</td>\n",
       "      <td>101.000000</td>\n",
       "      <td>101.000000</td>\n",
       "      <td>101.000000</td>\n",
       "      <td>101.000000</td>\n",
       "      <td>101.000000</td>\n",
       "      <td>95.400000</td>\n",
       "    </tr>\n",
       "    <tr>\n",
       "      <th>max</th>\n",
       "      <td>2018.0</td>\n",
       "      <td>8.000000</td>\n",
       "      <td>31.000000</td>\n",
       "      <td>6.000000</td>\n",
       "      <td>23.000000</td>\n",
       "      <td>437.000000</td>\n",
       "      <td>437.000000</td>\n",
       "      <td>437.000000</td>\n",
       "      <td>437.000000</td>\n",
       "      <td>437.000000</td>\n",
       "      <td>437.000000</td>\n",
       "      <td>437.000000</td>\n",
       "      <td>437.000000</td>\n",
       "      <td>437.000000</td>\n",
       "      <td>437.000000</td>\n",
       "      <td>437.000000</td>\n",
       "      <td>437.000000</td>\n",
       "      <td>244.600000</td>\n",
       "    </tr>\n",
       "  </tbody>\n",
       "</table>\n",
       "</div>"
      ],
      "text/plain": [
       "         year        month          day    dayofweek         hour  \\\n",
       "count  3963.0  3963.000000  3963.000000  3963.000000  3963.000000   \n",
       "mean   2018.0     5.235428    15.161998     3.024981    11.501136   \n",
       "std       0.0     1.576851     8.858014     2.004823     6.920599   \n",
       "min    2018.0     3.000000     1.000000     0.000000     0.000000   \n",
       "25%    2018.0     4.000000     7.000000     1.000000     6.000000   \n",
       "50%    2018.0     5.000000    15.000000     3.000000    12.000000   \n",
       "75%    2018.0     7.000000    23.000000     5.000000    17.000000   \n",
       "max    2018.0     8.000000    31.000000     6.000000    23.000000   \n",
       "\n",
       "             lag_1        lag_2        lag_3        lag_4        lag_5  \\\n",
       "count  3963.000000  3963.000000  3963.000000  3963.000000  3963.000000   \n",
       "mean     78.359324    78.345445    78.339642    78.311885    78.276306   \n",
       "std      38.661921    38.657200    38.656876    38.649209    38.642573   \n",
       "min       0.000000     0.000000     0.000000     0.000000     0.000000   \n",
       "25%      52.000000    52.000000    52.000000    52.000000    52.000000   \n",
       "50%      75.000000    75.000000    75.000000    75.000000    75.000000   \n",
       "75%     101.000000   101.000000   101.000000   101.000000   101.000000   \n",
       "max     437.000000   437.000000   437.000000   437.000000   437.000000   \n",
       "\n",
       "             lag_6        lag_7        lag_8        lag_9       lag_10  \\\n",
       "count  3963.000000  3963.000000  3963.000000  3963.000000  3963.000000   \n",
       "mean     78.244764    78.223316    78.224325    78.224325    78.221297   \n",
       "std      38.645643    38.662147    38.661175    38.661175    38.661270   \n",
       "min       0.000000     0.000000     0.000000     0.000000     0.000000   \n",
       "25%      52.000000    52.000000    52.000000    52.000000    52.000000   \n",
       "50%      75.000000    75.000000    75.000000    75.000000    75.000000   \n",
       "75%     101.000000   101.000000   101.000000   101.000000   101.000000   \n",
       "max     437.000000   437.000000   437.000000   437.000000   437.000000   \n",
       "\n",
       "            lag_11       lag_12  rolling_mean  \n",
       "count  3963.000000  3963.000000   3963.000000  \n",
       "mean     78.206662    78.195559     78.326520  \n",
       "std      38.647718    38.628231     27.982933  \n",
       "min       0.000000     0.000000     16.000000  \n",
       "25%      52.000000    52.000000     59.800000  \n",
       "50%      75.000000    75.000000     75.400000  \n",
       "75%     101.000000   101.000000     95.400000  \n",
       "max     437.000000   437.000000    244.600000  "
      ]
     },
     "execution_count": 18,
     "metadata": {},
     "output_type": "execute_result"
    }
   ],
   "source": [
    "features_train.describe()"
   ]
  },
  {
   "cell_type": "code",
   "execution_count": 19,
   "metadata": {},
   "outputs": [
    {
     "data": {
      "text/plain": [
       "((441, 18), (441,))"
      ]
     },
     "execution_count": 19,
     "metadata": {},
     "output_type": "execute_result"
    }
   ],
   "source": [
    "features_test.shape, target_test.shape"
   ]
  },
  {
   "cell_type": "code",
   "execution_count": 20,
   "metadata": {
    "scrolled": true
   },
   "outputs": [
    {
     "data": {
      "text/html": [
       "<div>\n",
       "<style scoped>\n",
       "    .dataframe tbody tr th:only-of-type {\n",
       "        vertical-align: middle;\n",
       "    }\n",
       "\n",
       "    .dataframe tbody tr th {\n",
       "        vertical-align: top;\n",
       "    }\n",
       "\n",
       "    .dataframe thead th {\n",
       "        text-align: right;\n",
       "    }\n",
       "</style>\n",
       "<table border=\"1\" class=\"dataframe\">\n",
       "  <thead>\n",
       "    <tr style=\"text-align: right;\">\n",
       "      <th></th>\n",
       "      <th>year</th>\n",
       "      <th>month</th>\n",
       "      <th>day</th>\n",
       "      <th>dayofweek</th>\n",
       "      <th>hour</th>\n",
       "      <th>lag_1</th>\n",
       "      <th>lag_2</th>\n",
       "      <th>lag_3</th>\n",
       "      <th>lag_4</th>\n",
       "      <th>lag_5</th>\n",
       "      <th>lag_6</th>\n",
       "      <th>lag_7</th>\n",
       "      <th>lag_8</th>\n",
       "      <th>lag_9</th>\n",
       "      <th>lag_10</th>\n",
       "      <th>lag_11</th>\n",
       "      <th>lag_12</th>\n",
       "      <th>rolling_mean</th>\n",
       "    </tr>\n",
       "  </thead>\n",
       "  <tbody>\n",
       "    <tr>\n",
       "      <th>count</th>\n",
       "      <td>441.0</td>\n",
       "      <td>441.0</td>\n",
       "      <td>441.000000</td>\n",
       "      <td>441.000000</td>\n",
       "      <td>441.000000</td>\n",
       "      <td>441.000000</td>\n",
       "      <td>441.000000</td>\n",
       "      <td>441.000000</td>\n",
       "      <td>441.000000</td>\n",
       "      <td>441.000000</td>\n",
       "      <td>441.000000</td>\n",
       "      <td>441.000000</td>\n",
       "      <td>441.000000</td>\n",
       "      <td>441.000000</td>\n",
       "      <td>441.000000</td>\n",
       "      <td>441.000000</td>\n",
       "      <td>441.000000</td>\n",
       "      <td>441.000000</td>\n",
       "    </tr>\n",
       "    <tr>\n",
       "      <th>mean</th>\n",
       "      <td>2018.0</td>\n",
       "      <td>8.0</td>\n",
       "      <td>22.306122</td>\n",
       "      <td>2.829932</td>\n",
       "      <td>11.653061</td>\n",
       "      <td>139.408163</td>\n",
       "      <td>139.172336</td>\n",
       "      <td>139.020408</td>\n",
       "      <td>138.997732</td>\n",
       "      <td>139.043084</td>\n",
       "      <td>138.884354</td>\n",
       "      <td>138.598639</td>\n",
       "      <td>138.240363</td>\n",
       "      <td>138.126984</td>\n",
       "      <td>138.013605</td>\n",
       "      <td>137.961451</td>\n",
       "      <td>138.034014</td>\n",
       "      <td>139.128345</td>\n",
       "    </tr>\n",
       "    <tr>\n",
       "      <th>std</th>\n",
       "      <td>0.0</td>\n",
       "      <td>0.0</td>\n",
       "      <td>5.313720</td>\n",
       "      <td>1.880670</td>\n",
       "      <td>6.950461</td>\n",
       "      <td>58.599343</td>\n",
       "      <td>58.471300</td>\n",
       "      <td>58.506698</td>\n",
       "      <td>58.502817</td>\n",
       "      <td>58.508239</td>\n",
       "      <td>58.418340</td>\n",
       "      <td>58.343496</td>\n",
       "      <td>58.469038</td>\n",
       "      <td>58.560670</td>\n",
       "      <td>58.618992</td>\n",
       "      <td>58.604265</td>\n",
       "      <td>58.621639</td>\n",
       "      <td>37.009435</td>\n",
       "    </tr>\n",
       "    <tr>\n",
       "      <th>min</th>\n",
       "      <td>2018.0</td>\n",
       "      <td>8.0</td>\n",
       "      <td>13.000000</td>\n",
       "      <td>0.000000</td>\n",
       "      <td>0.000000</td>\n",
       "      <td>13.000000</td>\n",
       "      <td>13.000000</td>\n",
       "      <td>13.000000</td>\n",
       "      <td>13.000000</td>\n",
       "      <td>13.000000</td>\n",
       "      <td>13.000000</td>\n",
       "      <td>13.000000</td>\n",
       "      <td>13.000000</td>\n",
       "      <td>13.000000</td>\n",
       "      <td>13.000000</td>\n",
       "      <td>13.000000</td>\n",
       "      <td>13.000000</td>\n",
       "      <td>62.600000</td>\n",
       "    </tr>\n",
       "    <tr>\n",
       "      <th>25%</th>\n",
       "      <td>2018.0</td>\n",
       "      <td>8.0</td>\n",
       "      <td>18.000000</td>\n",
       "      <td>1.000000</td>\n",
       "      <td>6.000000</td>\n",
       "      <td>104.000000</td>\n",
       "      <td>104.000000</td>\n",
       "      <td>103.000000</td>\n",
       "      <td>103.000000</td>\n",
       "      <td>103.000000</td>\n",
       "      <td>103.000000</td>\n",
       "      <td>103.000000</td>\n",
       "      <td>103.000000</td>\n",
       "      <td>103.000000</td>\n",
       "      <td>103.000000</td>\n",
       "      <td>103.000000</td>\n",
       "      <td>103.000000</td>\n",
       "      <td>113.400000</td>\n",
       "    </tr>\n",
       "    <tr>\n",
       "      <th>50%</th>\n",
       "      <td>2018.0</td>\n",
       "      <td>8.0</td>\n",
       "      <td>22.000000</td>\n",
       "      <td>3.000000</td>\n",
       "      <td>12.000000</td>\n",
       "      <td>135.000000</td>\n",
       "      <td>134.000000</td>\n",
       "      <td>134.000000</td>\n",
       "      <td>134.000000</td>\n",
       "      <td>134.000000</td>\n",
       "      <td>134.000000</td>\n",
       "      <td>134.000000</td>\n",
       "      <td>134.000000</td>\n",
       "      <td>134.000000</td>\n",
       "      <td>134.000000</td>\n",
       "      <td>134.000000</td>\n",
       "      <td>134.000000</td>\n",
       "      <td>136.600000</td>\n",
       "    </tr>\n",
       "    <tr>\n",
       "      <th>75%</th>\n",
       "      <td>2018.0</td>\n",
       "      <td>8.0</td>\n",
       "      <td>27.000000</td>\n",
       "      <td>4.000000</td>\n",
       "      <td>18.000000</td>\n",
       "      <td>173.000000</td>\n",
       "      <td>173.000000</td>\n",
       "      <td>173.000000</td>\n",
       "      <td>173.000000</td>\n",
       "      <td>173.000000</td>\n",
       "      <td>172.000000</td>\n",
       "      <td>170.000000</td>\n",
       "      <td>170.000000</td>\n",
       "      <td>170.000000</td>\n",
       "      <td>170.000000</td>\n",
       "      <td>170.000000</td>\n",
       "      <td>170.000000</td>\n",
       "      <td>159.000000</td>\n",
       "    </tr>\n",
       "    <tr>\n",
       "      <th>max</th>\n",
       "      <td>2018.0</td>\n",
       "      <td>8.0</td>\n",
       "      <td>31.000000</td>\n",
       "      <td>6.000000</td>\n",
       "      <td>23.000000</td>\n",
       "      <td>462.000000</td>\n",
       "      <td>462.000000</td>\n",
       "      <td>462.000000</td>\n",
       "      <td>462.000000</td>\n",
       "      <td>462.000000</td>\n",
       "      <td>462.000000</td>\n",
       "      <td>462.000000</td>\n",
       "      <td>462.000000</td>\n",
       "      <td>462.000000</td>\n",
       "      <td>462.000000</td>\n",
       "      <td>462.000000</td>\n",
       "      <td>462.000000</td>\n",
       "      <td>286.200000</td>\n",
       "    </tr>\n",
       "  </tbody>\n",
       "</table>\n",
       "</div>"
      ],
      "text/plain": [
       "         year  month         day   dayofweek        hour       lag_1  \\\n",
       "count   441.0  441.0  441.000000  441.000000  441.000000  441.000000   \n",
       "mean   2018.0    8.0   22.306122    2.829932   11.653061  139.408163   \n",
       "std       0.0    0.0    5.313720    1.880670    6.950461   58.599343   \n",
       "min    2018.0    8.0   13.000000    0.000000    0.000000   13.000000   \n",
       "25%    2018.0    8.0   18.000000    1.000000    6.000000  104.000000   \n",
       "50%    2018.0    8.0   22.000000    3.000000   12.000000  135.000000   \n",
       "75%    2018.0    8.0   27.000000    4.000000   18.000000  173.000000   \n",
       "max    2018.0    8.0   31.000000    6.000000   23.000000  462.000000   \n",
       "\n",
       "            lag_2       lag_3       lag_4       lag_5       lag_6       lag_7  \\\n",
       "count  441.000000  441.000000  441.000000  441.000000  441.000000  441.000000   \n",
       "mean   139.172336  139.020408  138.997732  139.043084  138.884354  138.598639   \n",
       "std     58.471300   58.506698   58.502817   58.508239   58.418340   58.343496   \n",
       "min     13.000000   13.000000   13.000000   13.000000   13.000000   13.000000   \n",
       "25%    104.000000  103.000000  103.000000  103.000000  103.000000  103.000000   \n",
       "50%    134.000000  134.000000  134.000000  134.000000  134.000000  134.000000   \n",
       "75%    173.000000  173.000000  173.000000  173.000000  172.000000  170.000000   \n",
       "max    462.000000  462.000000  462.000000  462.000000  462.000000  462.000000   \n",
       "\n",
       "            lag_8       lag_9      lag_10      lag_11      lag_12  \\\n",
       "count  441.000000  441.000000  441.000000  441.000000  441.000000   \n",
       "mean   138.240363  138.126984  138.013605  137.961451  138.034014   \n",
       "std     58.469038   58.560670   58.618992   58.604265   58.621639   \n",
       "min     13.000000   13.000000   13.000000   13.000000   13.000000   \n",
       "25%    103.000000  103.000000  103.000000  103.000000  103.000000   \n",
       "50%    134.000000  134.000000  134.000000  134.000000  134.000000   \n",
       "75%    170.000000  170.000000  170.000000  170.000000  170.000000   \n",
       "max    462.000000  462.000000  462.000000  462.000000  462.000000   \n",
       "\n",
       "       rolling_mean  \n",
       "count    441.000000  \n",
       "mean     139.128345  \n",
       "std       37.009435  \n",
       "min       62.600000  \n",
       "25%      113.400000  \n",
       "50%      136.600000  \n",
       "75%      159.000000  \n",
       "max      286.200000  "
      ]
     },
     "execution_count": 20,
     "metadata": {},
     "output_type": "execute_result"
    }
   ],
   "source": [
    "features_test.describe()"
   ]
  },
  {
   "cell_type": "markdown",
   "metadata": {},
   "source": [
    "**Вывод**\n",
    "\n",
    "Выделила 10% датасета под тестовую выборку."
   ]
  },
  {
   "cell_type": "markdown",
   "metadata": {},
   "source": [
    "### Обучение моделей"
   ]
  },
  {
   "cell_type": "code",
   "execution_count": 21,
   "metadata": {},
   "outputs": [],
   "source": [
    "metrics = pd.DataFrame(columns = ['model_type', 'depth', 'n_estimators', 'rmse', 'best_model'])"
   ]
  },
  {
   "cell_type": "code",
   "execution_count": 22,
   "metadata": {},
   "outputs": [],
   "source": [
    "MIN_DEPTH = 10\n",
    "MAX_DEPTH = 20\n",
    "MAX_DEPTH_TREE = 30\n",
    "MAX_DEPTH_CATBOOST = 16\n",
    "CV = 9 # тестовая выборка 10%, поэтому валдационная тоже при кросс-валидации пусть будет 10% датасета\n",
    "MIN_EST = 1\n",
    "MAX_EST = 50\n",
    "N_ITER = 4    \n",
    "\n",
    "tscv = TimeSeriesSplit(n_splits = CV)"
   ]
  },
  {
   "cell_type": "code",
   "execution_count": 23,
   "metadata": {},
   "outputs": [],
   "source": [
    "def get_best_params(model, distributions=None, verbose=None):\n",
    "    \n",
    "    if distributions==None:\n",
    "        distributions = {'max_depth':range(MIN_DEPTH, MAX_DEPTH + 1, 5), 'n_estimators':range(MIN_EST,MAX_EST + 1, 10)}  \n",
    "\n",
    "    grid = RandomizedSearchCV(model, distributions, cv = tscv, scoring = 'neg_root_mean_squared_error', n_iter=N_ITER, \n",
    "                              n_jobs = -1, random_state=12345)\n",
    "    \n",
    "    if verbose==None:\n",
    "        grid.fit(features_train, target_train)\n",
    "    else:\n",
    "        grid.fit(features_train, target_train, verbose=verbose)\n",
    "    \n",
    "    return grid.best_estimator_, round(-grid.best_score_, 3)"
   ]
  },
  {
   "cell_type": "markdown",
   "metadata": {},
   "source": [
    "#### Линейная регрессия"
   ]
  },
  {
   "cell_type": "code",
   "execution_count": 24,
   "metadata": {},
   "outputs": [
    {
     "name": "stdout",
     "output_type": "stream",
     "text": [
      "CPU times: user 111 ms, sys: 98.5 ms, total: 210 ms\n",
      "Wall time: 160 ms\n"
     ]
    }
   ],
   "source": [
    "%%time\n",
    "model = LinearRegression()\n",
    "scores = cross_val_score(model, features_train, target_train, scoring='neg_root_mean_squared_error', cv=tscv)\n",
    "metrics.loc[len(metrics.index)] = ['LinearRegression', None, None, round(- pd.Series(scores).mean(), 3), model]"
   ]
  },
  {
   "cell_type": "markdown",
   "metadata": {},
   "source": [
    "#### Дерево решений"
   ]
  },
  {
   "cell_type": "code",
   "execution_count": 25,
   "metadata": {},
   "outputs": [
    {
     "name": "stdout",
     "output_type": "stream",
     "text": [
      "CPU times: user 869 ms, sys: 34.4 ms, total: 903 ms\n",
      "Wall time: 931 ms\n"
     ]
    }
   ],
   "source": [
    "%%time\n",
    "distributions = {'max_depth':range(1, MAX_DEPTH_TREE + 1, 5)} \n",
    "model = DecisionTreeRegressor(random_state=12345)\n",
    "best_model, best_score = get_best_params(model, distributions)\n",
    "metrics.loc[len(metrics.index)] = ['DecisionTreeRegressor', best_model.max_depth, None, best_score, best_model] "
   ]
  },
  {
   "cell_type": "markdown",
   "metadata": {},
   "source": [
    "#### Случайный лес"
   ]
  },
  {
   "cell_type": "code",
   "execution_count": 26,
   "metadata": {},
   "outputs": [
    {
     "name": "stdout",
     "output_type": "stream",
     "text": [
      "CPU times: user 9.16 s, sys: 29.8 ms, total: 9.19 s\n",
      "Wall time: 11.3 s\n"
     ]
    }
   ],
   "source": [
    "%%time\n",
    "model = RandomForestRegressor(random_state=12345)\n",
    "best_model, best_score = get_best_params(model)\n",
    "metrics.loc[len(metrics.index)] = ['RandomForestRegressor', best_model.max_depth, best_model.n_estimators, best_score, \n",
    "                                   best_model] "
   ]
  },
  {
   "cell_type": "markdown",
   "metadata": {},
   "source": [
    "#### CatBoost"
   ]
  },
  {
   "cell_type": "code",
   "execution_count": 27,
   "metadata": {},
   "outputs": [
    {
     "name": "stdout",
     "output_type": "stream",
     "text": [
      "CPU times: user 5min 44s, sys: 3min, total: 8min 45s\n",
      "Wall time: 8min 53s\n"
     ]
    }
   ],
   "source": [
    "%%time\n",
    "distributions = {'depth':range(MIN_DEPTH, MAX_DEPTH_CATBOOST + 1, 1), 'iterations':range(MIN_EST,MAX_EST + 1, 10)} \n",
    "\n",
    "model = CatBoostRegressor(random_state=12345, learning_rate = 1, loss_function=\"RMSE\")\n",
    "best_model, best_score = get_best_params(model, distributions, False)\n",
    "\n",
    "all_params = best_model.get_all_params()\n",
    "metrics.loc[len(metrics.index)] = ['CatBoostRegressor', all_params.get('depth'), all_params.get('iterations'), best_score, \n",
    "                                   best_model]"
   ]
  },
  {
   "cell_type": "markdown",
   "metadata": {},
   "source": [
    "#### LightGBM"
   ]
  },
  {
   "cell_type": "code",
   "execution_count": 28,
   "metadata": {},
   "outputs": [
    {
     "name": "stdout",
     "output_type": "stream",
     "text": [
      "CPU times: user 18min 37s, sys: 6.83 s, total: 18min 44s\n",
      "Wall time: 18min 52s\n"
     ]
    }
   ],
   "source": [
    "%%time\n",
    "model = LGBMRegressor(random_state=12345, learning_rate = 1)\n",
    "best_model, best_score = get_best_params(model)\n",
    "metrics.loc[len(metrics.index)] = ['LGBMRegressor', best_model.max_depth, best_model.n_estimators, best_score, best_model] "
   ]
  },
  {
   "cell_type": "markdown",
   "metadata": {},
   "source": [
    "#### XGBoost"
   ]
  },
  {
   "cell_type": "code",
   "execution_count": 29,
   "metadata": {},
   "outputs": [
    {
     "name": "stdout",
     "output_type": "stream",
     "text": [
      "CPU times: user 34min 10s, sys: 12.3 s, total: 34min 22s\n",
      "Wall time: 34min 39s\n"
     ]
    }
   ],
   "source": [
    "%%time\n",
    "model = XGBRegressor(random_state=12345, learning_rate = 1)\n",
    "best_model, best_score = get_best_params(model)\n",
    "metrics.loc[len(metrics.index)] = ['XGBRegressor', best_model.max_depth, best_model.n_estimators, best_score, best_model] "
   ]
  },
  {
   "cell_type": "markdown",
   "metadata": {},
   "source": [
    "#### Лучшая модель"
   ]
  },
  {
   "cell_type": "code",
   "execution_count": 30,
   "metadata": {},
   "outputs": [
    {
     "data": {
      "text/html": [
       "<div>\n",
       "<style scoped>\n",
       "    .dataframe tbody tr th:only-of-type {\n",
       "        vertical-align: middle;\n",
       "    }\n",
       "\n",
       "    .dataframe tbody tr th {\n",
       "        vertical-align: top;\n",
       "    }\n",
       "\n",
       "    .dataframe thead th {\n",
       "        text-align: right;\n",
       "    }\n",
       "</style>\n",
       "<table border=\"1\" class=\"dataframe\">\n",
       "  <thead>\n",
       "    <tr style=\"text-align: right;\">\n",
       "      <th></th>\n",
       "      <th>model_type</th>\n",
       "      <th>depth</th>\n",
       "      <th>n_estimators</th>\n",
       "      <th>rmse</th>\n",
       "    </tr>\n",
       "  </thead>\n",
       "  <tbody>\n",
       "    <tr>\n",
       "      <th>0</th>\n",
       "      <td>RandomForestRegressor</td>\n",
       "      <td>15</td>\n",
       "      <td>31</td>\n",
       "      <td>2.418400e+01</td>\n",
       "    </tr>\n",
       "    <tr>\n",
       "      <th>1</th>\n",
       "      <td>LGBMRegressor</td>\n",
       "      <td>10</td>\n",
       "      <td>1</td>\n",
       "      <td>2.719700e+01</td>\n",
       "    </tr>\n",
       "    <tr>\n",
       "      <th>2</th>\n",
       "      <td>CatBoostRegressor</td>\n",
       "      <td>14</td>\n",
       "      <td>41</td>\n",
       "      <td>2.942500e+01</td>\n",
       "    </tr>\n",
       "    <tr>\n",
       "      <th>3</th>\n",
       "      <td>XGBRegressor</td>\n",
       "      <td>10</td>\n",
       "      <td>1</td>\n",
       "      <td>2.942800e+01</td>\n",
       "    </tr>\n",
       "    <tr>\n",
       "      <th>4</th>\n",
       "      <td>DecisionTreeRegressor</td>\n",
       "      <td>16</td>\n",
       "      <td>None</td>\n",
       "      <td>3.217000e+01</td>\n",
       "    </tr>\n",
       "    <tr>\n",
       "      <th>5</th>\n",
       "      <td>LinearRegression</td>\n",
       "      <td>None</td>\n",
       "      <td>None</td>\n",
       "      <td>1.258706e+08</td>\n",
       "    </tr>\n",
       "  </tbody>\n",
       "</table>\n",
       "</div>"
      ],
      "text/plain": [
       "              model_type depth n_estimators          rmse\n",
       "0  RandomForestRegressor    15           31  2.418400e+01\n",
       "1          LGBMRegressor    10            1  2.719700e+01\n",
       "2      CatBoostRegressor    14           41  2.942500e+01\n",
       "3           XGBRegressor    10            1  2.942800e+01\n",
       "4  DecisionTreeRegressor    16         None  3.217000e+01\n",
       "5       LinearRegression  None         None  1.258706e+08"
      ]
     },
     "execution_count": 30,
     "metadata": {},
     "output_type": "execute_result"
    }
   ],
   "source": [
    "metrics = metrics.sort_values('rmse').reset_index(drop=True)\n",
    "best_model = metrics.loc[0, 'best_model']\n",
    "metrics = metrics.drop('best_model', axis=1)\n",
    "metrics"
   ]
  },
  {
   "cell_type": "code",
   "execution_count": 31,
   "metadata": {},
   "outputs": [
    {
     "data": {
      "text/plain": [
       "RandomForestRegressor(max_depth=15, n_estimators=31, random_state=12345)"
      ]
     },
     "execution_count": 31,
     "metadata": {},
     "output_type": "execute_result"
    }
   ],
   "source": [
    "best_model"
   ]
  },
  {
   "cell_type": "markdown",
   "metadata": {},
   "source": [
    "**Вывод**\n",
    "\n",
    "Лучшая модель по итогам кросс-валидации на рассмотренных гиперпараметрах - случайный лес с количеством деревьев 31 и максимальной глубиной дерева 15."
   ]
  },
  {
   "cell_type": "markdown",
   "metadata": {},
   "source": [
    "## Тестирование"
   ]
  },
  {
   "cell_type": "code",
   "execution_count": 32,
   "metadata": {},
   "outputs": [
    {
     "data": {
      "text/plain": [
       "42.755995104995414"
      ]
     },
     "execution_count": 32,
     "metadata": {},
     "output_type": "execute_result"
    }
   ],
   "source": [
    "best_model.fit(features_train, target_train)\n",
    "predictions = best_model.predict(features_test)\n",
    "mean_squared_error(target_test, predictions)**0.5"
   ]
  },
  {
   "cell_type": "code",
   "execution_count": 33,
   "metadata": {
    "scrolled": false
   },
   "outputs": [
    {
     "data": {
      "image/png": "[encoded data removed]",
      "text/plain": [
       "<Figure size 1296x360 with 1 Axes>"
      ]
     },
     "metadata": {
      "needs_background": "light"
     },
     "output_type": "display_data"
    }
   ],
   "source": [
    "plt.figure(figsize=(18,5))\n",
    "plt.suptitle('Целевой признак и предсказания за весь период тестовой выборки - 13-31.08.2018')\n",
    "target_test.plot(label = 'target', legend = True) \n",
    "pd.Series(predictions, index=target_test.index).plot(label = 'predictions', legend = True);"
   ]
  },
  {
   "cell_type": "code",
   "execution_count": 34,
   "metadata": {
    "scrolled": false
   },
   "outputs": [
    {
     "data": {
      "image/png": "[encoded data removed]",
      "text/plain": [
       "<Figure size 1296x360 with 1 Axes>"
      ]
     },
     "metadata": {
      "needs_background": "light"
     },
     "output_type": "display_data"
    }
   ],
   "source": [
    "plt.figure(figsize=(18,5))\n",
    "plt.suptitle('Целевой признак и предсказания за неделю 13-19.08.2018')\n",
    "target_test['2018-08-13':'2018-08-19'].plot(label = 'target', legend = True) \n",
    "pd.Series(predictions, index=target_test.index)['2018-08-13':'2018-08-19'].plot(label = 'predictions', legend = True);"
   ]
  },
  {
   "cell_type": "markdown",
   "metadata": {},
   "source": [
    "**Вывод**\n",
    "\n",
    "RMSE на тестовой выборке 42.756.\n",
    "\n",
    "Т.к. с марта по август количество перелетов возрастает в связи с наступлением лета и массовых отпусков, то дополнив датасет данными прошлого лета/года и обучав на них модель, мы могли бы получить более точные предсказания."
   ]
  }
 ],
 "metadata": {
  "ExecuteTimeLog": [
   {
    "duration": 4088,
    "start_time": "2022-05-30T19:14:35.936Z"
   },
   {
    "duration": 4,
    "start_time": "2022-05-30T19:14:47.783Z"
   },
   {
    "duration": 138,
    "start_time": "2022-05-30T19:14:52.581Z"
   },
   {
    "duration": 17,
    "start_time": "2022-05-30T19:15:06.918Z"
   },
   {
    "duration": 125,
    "start_time": "2022-05-30T19:15:27.029Z"
   },
   {
    "duration": 11,
    "start_time": "2022-05-30T19:15:31.996Z"
   },
   {
    "duration": 3,
    "start_time": "2022-05-30T19:15:34.428Z"
   },
   {
    "duration": 15,
    "start_time": "2022-05-30T19:15:36.373Z"
   },
   {
    "duration": 13,
    "start_time": "2022-05-30T19:16:05.052Z"
   },
   {
    "duration": 13,
    "start_time": "2022-05-30T19:16:16.056Z"
   },
   {
    "duration": 3,
    "start_time": "2022-05-30T19:17:19.467Z"
   },
   {
    "duration": 688,
    "start_time": "2022-05-30T19:17:40.073Z"
   },
   {
    "duration": 3,
    "start_time": "2022-05-30T19:17:53.874Z"
   },
   {
    "duration": 510,
    "start_time": "2022-05-30T19:17:55.746Z"
   },
   {
    "duration": 3,
    "start_time": "2022-05-30T19:18:04.034Z"
   },
   {
    "duration": 590,
    "start_time": "2022-05-30T19:18:07.297Z"
   },
   {
    "duration": 4,
    "start_time": "2022-05-30T19:18:12.153Z"
   },
   {
    "duration": 500,
    "start_time": "2022-05-30T19:18:19.180Z"
   },
   {
    "duration": 3,
    "start_time": "2022-05-30T19:18:23.665Z"
   },
   {
    "duration": 519,
    "start_time": "2022-05-30T19:18:26.024Z"
   },
   {
    "duration": 4,
    "start_time": "2022-05-30T19:18:34.497Z"
   },
   {
    "duration": 613,
    "start_time": "2022-05-30T19:18:37.592Z"
   },
   {
    "duration": 3,
    "start_time": "2022-05-30T19:18:43.264Z"
   },
   {
    "duration": 490,
    "start_time": "2022-05-30T19:18:48.848Z"
   },
   {
    "duration": 513,
    "start_time": "2022-05-30T19:19:07.440Z"
   },
   {
    "duration": 343,
    "start_time": "2022-05-30T19:19:22.267Z"
   },
   {
    "duration": 4,
    "start_time": "2022-05-30T19:20:31.968Z"
   },
   {
    "duration": 38,
    "start_time": "2022-05-30T19:20:41.438Z"
   },
   {
    "duration": 5,
    "start_time": "2022-05-30T19:21:50.068Z"
   },
   {
    "duration": 2,
    "start_time": "2022-05-30T19:21:52.013Z"
   },
   {
    "duration": 5,
    "start_time": "2022-05-30T19:21:54.004Z"
   },
   {
    "duration": 4,
    "start_time": "2022-05-30T19:22:04.236Z"
   },
   {
    "duration": 56,
    "start_time": "2022-05-30T19:22:14.692Z"
   },
   {
    "duration": 4,
    "start_time": "2022-05-30T19:22:26.860Z"
   },
   {
    "duration": 52,
    "start_time": "2022-05-30T19:22:35.747Z"
   },
   {
    "duration": 4,
    "start_time": "2022-05-30T19:24:06.915Z"
   },
   {
    "duration": 3,
    "start_time": "2022-05-30T19:24:23.786Z"
   },
   {
    "duration": 3,
    "start_time": "2022-05-30T19:24:36.051Z"
   },
   {
    "duration": 324,
    "start_time": "2022-05-30T19:25:19.218Z"
   },
   {
    "duration": 13,
    "start_time": "2022-05-30T19:25:54.441Z"
   },
   {
    "duration": 839,
    "start_time": "2022-05-30T19:26:03.460Z"
   },
   {
    "duration": 9038,
    "start_time": "2022-05-30T19:26:26.425Z"
   },
   {
    "duration": 4,
    "start_time": "2022-05-30T19:27:20.505Z"
   },
   {
    "duration": 182,
    "start_time": "2022-05-30T19:27:23.147Z"
   },
   {
    "duration": 5,
    "start_time": "2022-05-30T19:27:26.704Z"
   },
   {
    "duration": 4,
    "start_time": "2022-05-30T19:27:28.457Z"
   },
   {
    "duration": 4,
    "start_time": "2022-05-30T19:27:30.160Z"
   },
   {
    "duration": 5,
    "start_time": "2022-05-30T19:28:06.511Z"
   },
   {
    "duration": 3,
    "start_time": "2022-05-30T19:28:08.097Z"
   },
   {
    "duration": 4,
    "start_time": "2022-05-30T19:28:09.651Z"
   },
   {
    "duration": 129,
    "start_time": "2022-05-30T19:28:11.406Z"
   },
   {
    "duration": 828,
    "start_time": "2022-05-30T19:28:13.759Z"
   },
   {
    "duration": 8934,
    "start_time": "2022-05-30T19:28:16.560Z"
   },
   {
    "duration": 551099,
    "start_time": "2022-05-30T19:28:28.439Z"
   },
   {
    "duration": 8248,
    "start_time": "2022-05-30T19:38:17.886Z"
   },
   {
    "duration": 52478,
    "start_time": "2022-05-30T19:40:00.563Z"
   },
   {
    "duration": 12,
    "start_time": "2022-05-30T19:41:00.330Z"
   },
   {
    "duration": 4,
    "start_time": "2022-05-30T19:41:07.522Z"
   },
   {
    "duration": 891,
    "start_time": "2022-05-30T19:41:31.722Z"
   },
   {
    "duration": 4,
    "start_time": "2022-05-30T19:43:03.784Z"
   },
   {
    "duration": 852,
    "start_time": "2022-05-30T19:43:07.368Z"
   },
   {
    "duration": 4,
    "start_time": "2022-05-30T19:43:17.656Z"
   },
   {
    "duration": 3,
    "start_time": "2022-05-30T19:43:19.631Z"
   },
   {
    "duration": 4,
    "start_time": "2022-05-30T19:43:21.265Z"
   },
   {
    "duration": 809,
    "start_time": "2022-05-30T19:43:23.545Z"
   },
   {
    "duration": 10,
    "start_time": "2022-05-30T19:43:31.711Z"
   },
   {
    "duration": 4,
    "start_time": "2022-05-30T19:44:02.856Z"
   },
   {
    "duration": 6,
    "start_time": "2022-05-30T19:44:05.903Z"
   },
   {
    "duration": 4,
    "start_time": "2022-05-30T19:44:09.015Z"
   },
   {
    "duration": 824,
    "start_time": "2022-05-30T19:44:13.990Z"
   },
   {
    "duration": 10,
    "start_time": "2022-05-30T19:44:21.447Z"
   },
   {
    "duration": 373,
    "start_time": "2022-05-30T19:45:22.455Z"
   },
   {
    "duration": 1433,
    "start_time": "2022-05-30T19:46:07.232Z"
   },
   {
    "duration": 59,
    "start_time": "2022-05-30T19:46:08.667Z"
   },
   {
    "duration": 10,
    "start_time": "2022-05-30T19:46:08.727Z"
   },
   {
    "duration": 4,
    "start_time": "2022-05-30T19:46:08.739Z"
   },
   {
    "duration": 13,
    "start_time": "2022-05-30T19:46:08.744Z"
   },
   {
    "duration": 11,
    "start_time": "2022-05-30T19:46:08.759Z"
   },
   {
    "duration": 11,
    "start_time": "2022-05-30T19:46:08.771Z"
   },
   {
    "duration": 7,
    "start_time": "2022-05-30T19:46:08.784Z"
   },
   {
    "duration": 577,
    "start_time": "2022-05-30T19:46:08.792Z"
   },
   {
    "duration": 557,
    "start_time": "2022-05-30T19:46:09.371Z"
   },
   {
    "duration": 483,
    "start_time": "2022-05-30T19:46:09.930Z"
   },
   {
    "duration": 4,
    "start_time": "2022-05-30T19:46:10.415Z"
   },
   {
    "duration": 52,
    "start_time": "2022-05-30T19:46:10.421Z"
   },
   {
    "duration": 4,
    "start_time": "2022-05-30T19:46:10.475Z"
   },
   {
    "duration": 14,
    "start_time": "2022-05-30T19:46:10.481Z"
   },
   {
    "duration": 16,
    "start_time": "2022-05-30T19:46:10.496Z"
   },
   {
    "duration": 9,
    "start_time": "2022-05-30T19:46:10.514Z"
   },
   {
    "duration": 71,
    "start_time": "2022-05-30T19:46:10.527Z"
   },
   {
    "duration": 4,
    "start_time": "2022-05-30T19:46:10.600Z"
   },
   {
    "duration": 84,
    "start_time": "2022-05-30T19:46:10.606Z"
   },
   {
    "duration": 4,
    "start_time": "2022-05-30T19:46:10.691Z"
   },
   {
    "duration": 49,
    "start_time": "2022-05-30T19:46:10.697Z"
   },
   {
    "duration": 19,
    "start_time": "2022-05-30T19:46:10.748Z"
   },
   {
    "duration": 166,
    "start_time": "2022-05-30T19:46:10.768Z"
   },
   {
    "duration": 1177,
    "start_time": "2022-05-30T19:46:10.936Z"
   },
   {
    "duration": 9713,
    "start_time": "2022-05-30T19:46:12.115Z"
   },
   {
    "duration": 562066,
    "start_time": "2022-05-30T19:46:21.829Z"
   },
   {
    "duration": 1372,
    "start_time": "2022-05-30T20:20:53.547Z"
   },
   {
    "duration": 66,
    "start_time": "2022-05-30T20:20:54.920Z"
   },
   {
    "duration": 9,
    "start_time": "2022-05-30T20:20:54.988Z"
   },
   {
    "duration": 4,
    "start_time": "2022-05-30T20:20:54.999Z"
   },
   {
    "duration": 14,
    "start_time": "2022-05-30T20:20:55.005Z"
   },
   {
    "duration": 15,
    "start_time": "2022-05-30T20:20:55.020Z"
   },
   {
    "duration": 17,
    "start_time": "2022-05-30T20:20:55.038Z"
   },
   {
    "duration": 3,
    "start_time": "2022-05-30T20:20:55.057Z"
   },
   {
    "duration": 619,
    "start_time": "2022-05-30T20:20:55.062Z"
   },
   {
    "duration": 576,
    "start_time": "2022-05-30T20:20:55.685Z"
   },
   {
    "duration": 542,
    "start_time": "2022-05-30T20:20:56.263Z"
   },
   {
    "duration": 6,
    "start_time": "2022-05-30T20:20:56.807Z"
   },
   {
    "duration": 40,
    "start_time": "2022-05-30T20:20:56.829Z"
   },
   {
    "duration": 4,
    "start_time": "2022-05-30T20:20:56.870Z"
   },
   {
    "duration": 10,
    "start_time": "2022-05-30T20:20:56.876Z"
   },
   {
    "duration": 8,
    "start_time": "2022-05-30T20:20:56.887Z"
   },
   {
    "duration": 6,
    "start_time": "2022-05-30T20:20:56.897Z"
   },
   {
    "duration": 77,
    "start_time": "2022-05-30T20:20:56.905Z"
   },
   {
    "duration": 3,
    "start_time": "2022-05-30T20:20:56.984Z"
   },
   {
    "duration": 77,
    "start_time": "2022-05-30T20:20:56.989Z"
   },
   {
    "duration": 4,
    "start_time": "2022-05-30T20:20:57.068Z"
   },
   {
    "duration": 7,
    "start_time": "2022-05-30T20:20:57.074Z"
   },
   {
    "duration": 7,
    "start_time": "2022-05-30T20:20:57.084Z"
   },
   {
    "duration": 337,
    "start_time": "2022-05-30T20:20:57.093Z"
   },
   {
    "duration": 1007,
    "start_time": "2022-05-30T20:20:57.437Z"
   },
   {
    "duration": 9968,
    "start_time": "2022-05-30T20:20:58.449Z"
   },
   {
    "duration": 578261,
    "start_time": "2022-05-30T20:21:08.418Z"
   },
   {
    "duration": 1516364,
    "start_time": "2022-05-30T20:30:46.686Z"
   },
   {
    "duration": 1723885,
    "start_time": "2022-05-30T20:56:03.055Z"
   },
   {
    "duration": 13,
    "start_time": "2022-05-30T21:24:46.942Z"
   },
   {
    "duration": 18,
    "start_time": "2022-05-30T21:24:46.956Z"
   },
   {
    "duration": 906,
    "start_time": "2022-05-30T21:24:46.975Z"
   },
   {
    "duration": 2103,
    "start_time": "2022-05-31T09:16:57.947Z"
   },
   {
    "duration": 125,
    "start_time": "2022-05-31T09:17:00.052Z"
   },
   {
    "duration": 11,
    "start_time": "2022-05-31T09:17:00.179Z"
   },
   {
    "duration": 11,
    "start_time": "2022-05-31T09:17:00.192Z"
   },
   {
    "duration": 17,
    "start_time": "2022-05-31T09:17:00.205Z"
   },
   {
    "duration": 12,
    "start_time": "2022-05-31T09:17:00.224Z"
   },
   {
    "duration": 25,
    "start_time": "2022-05-31T09:17:00.238Z"
   },
   {
    "duration": 10,
    "start_time": "2022-05-31T09:17:00.264Z"
   },
   {
    "duration": 604,
    "start_time": "2022-05-31T09:17:00.276Z"
   },
   {
    "duration": 532,
    "start_time": "2022-05-31T09:17:00.881Z"
   },
   {
    "duration": 486,
    "start_time": "2022-05-31T09:17:01.415Z"
   },
   {
    "duration": 6,
    "start_time": "2022-05-31T09:17:01.903Z"
   },
   {
    "duration": 276,
    "start_time": "2022-05-31T09:17:01.911Z"
   },
   {
    "duration": 0,
    "start_time": "2022-05-31T09:17:02.189Z"
   },
   {
    "duration": 6,
    "start_time": "2022-05-31T09:17:29.380Z"
   },
   {
    "duration": 57,
    "start_time": "2022-05-31T09:17:29.388Z"
   },
   {
    "duration": 7,
    "start_time": "2022-05-31T09:17:29.447Z"
   },
   {
    "duration": 7,
    "start_time": "2022-05-31T09:17:29.456Z"
   },
   {
    "duration": 18,
    "start_time": "2022-05-31T09:17:29.464Z"
   },
   {
    "duration": 19,
    "start_time": "2022-05-31T09:17:29.484Z"
   },
   {
    "duration": 11,
    "start_time": "2022-05-31T09:17:29.505Z"
   },
   {
    "duration": 5,
    "start_time": "2022-05-31T09:17:29.517Z"
   },
   {
    "duration": 590,
    "start_time": "2022-05-31T09:17:29.524Z"
   },
   {
    "duration": 556,
    "start_time": "2022-05-31T09:17:30.116Z"
   },
   {
    "duration": 415,
    "start_time": "2022-05-31T09:17:30.674Z"
   },
   {
    "duration": 4,
    "start_time": "2022-05-31T09:17:31.091Z"
   },
   {
    "duration": 60,
    "start_time": "2022-05-31T09:17:31.097Z"
   },
   {
    "duration": 8,
    "start_time": "2022-05-31T09:17:31.159Z"
   },
   {
    "duration": 4,
    "start_time": "2022-05-31T09:24:41.502Z"
   },
   {
    "duration": 60,
    "start_time": "2022-05-31T09:24:41.508Z"
   },
   {
    "duration": 6,
    "start_time": "2022-05-31T09:24:41.570Z"
   },
   {
    "duration": 7,
    "start_time": "2022-05-31T09:24:41.578Z"
   },
   {
    "duration": 15,
    "start_time": "2022-05-31T09:24:41.587Z"
   },
   {
    "duration": 10,
    "start_time": "2022-05-31T09:24:41.604Z"
   },
   {
    "duration": 37,
    "start_time": "2022-05-31T09:24:41.616Z"
   },
   {
    "duration": 3,
    "start_time": "2022-05-31T09:24:41.655Z"
   },
   {
    "duration": 640,
    "start_time": "2022-05-31T09:24:41.660Z"
   },
   {
    "duration": 595,
    "start_time": "2022-05-31T09:24:42.302Z"
   },
   {
    "duration": 394,
    "start_time": "2022-05-31T09:24:42.899Z"
   },
   {
    "duration": 5,
    "start_time": "2022-05-31T09:24:43.295Z"
   },
   {
    "duration": 74,
    "start_time": "2022-05-31T09:24:43.302Z"
   },
   {
    "duration": 4,
    "start_time": "2022-05-31T09:24:43.378Z"
   },
   {
    "duration": 6,
    "start_time": "2022-05-31T09:24:43.384Z"
   },
   {
    "duration": 23,
    "start_time": "2022-05-31T09:24:43.391Z"
   },
   {
    "duration": 9,
    "start_time": "2022-05-31T09:24:43.415Z"
   },
   {
    "duration": 61,
    "start_time": "2022-05-31T09:24:43.426Z"
   },
   {
    "duration": 4,
    "start_time": "2022-05-31T09:24:43.489Z"
   },
   {
    "duration": 71,
    "start_time": "2022-05-31T09:24:43.494Z"
   },
   {
    "duration": 6,
    "start_time": "2022-05-31T09:24:43.566Z"
   },
   {
    "duration": 9,
    "start_time": "2022-05-31T09:24:43.573Z"
   },
   {
    "duration": 7,
    "start_time": "2022-05-31T09:24:43.583Z"
   },
   {
    "duration": 278,
    "start_time": "2022-05-31T09:24:43.593Z"
   },
   {
    "duration": 1038,
    "start_time": "2022-05-31T09:24:43.873Z"
   },
   {
    "duration": 11,
    "start_time": "2022-05-31T09:24:51.658Z"
   },
   {
    "duration": 4,
    "start_time": "2022-05-31T09:24:54.396Z"
   },
   {
    "duration": 53,
    "start_time": "2022-05-31T09:24:58.062Z"
   },
   {
    "duration": 9203,
    "start_time": "2022-05-31T09:25:10.026Z"
   },
   {
    "duration": 3,
    "start_time": "2022-05-31T09:25:27.534Z"
   },
   {
    "duration": 53,
    "start_time": "2022-05-31T09:25:27.553Z"
   },
   {
    "duration": 7,
    "start_time": "2022-05-31T09:25:27.608Z"
   },
   {
    "duration": 8,
    "start_time": "2022-05-31T09:25:27.617Z"
   },
   {
    "duration": 19,
    "start_time": "2022-05-31T09:25:27.627Z"
   },
   {
    "duration": 11,
    "start_time": "2022-05-31T09:25:27.648Z"
   },
   {
    "duration": 11,
    "start_time": "2022-05-31T09:25:27.660Z"
   },
   {
    "duration": 10,
    "start_time": "2022-05-31T09:25:27.672Z"
   },
   {
    "duration": 555,
    "start_time": "2022-05-31T09:25:27.684Z"
   },
   {
    "duration": 652,
    "start_time": "2022-05-31T09:25:28.241Z"
   },
   {
    "duration": 379,
    "start_time": "2022-05-31T09:25:28.895Z"
   },
   {
    "duration": 5,
    "start_time": "2022-05-31T09:25:29.276Z"
   },
   {
    "duration": 45,
    "start_time": "2022-05-31T09:25:29.283Z"
   },
   {
    "duration": 4,
    "start_time": "2022-05-31T09:25:29.330Z"
   },
   {
    "duration": 3,
    "start_time": "2022-05-31T09:25:29.353Z"
   },
   {
    "duration": 9,
    "start_time": "2022-05-31T09:25:29.357Z"
   },
   {
    "duration": 7,
    "start_time": "2022-05-31T09:25:29.371Z"
   },
   {
    "duration": 62,
    "start_time": "2022-05-31T09:25:29.380Z"
   },
   {
    "duration": 5,
    "start_time": "2022-05-31T09:25:29.452Z"
   },
   {
    "duration": 60,
    "start_time": "2022-05-31T09:25:29.459Z"
   },
   {
    "duration": 5,
    "start_time": "2022-05-31T09:25:29.521Z"
   },
   {
    "duration": 25,
    "start_time": "2022-05-31T09:25:29.527Z"
   },
   {
    "duration": 5,
    "start_time": "2022-05-31T09:25:29.554Z"
   },
   {
    "duration": 202,
    "start_time": "2022-05-31T09:25:29.560Z"
   },
   {
    "duration": 994,
    "start_time": "2022-05-31T09:25:29.764Z"
   },
   {
    "duration": 9233,
    "start_time": "2022-05-31T09:25:30.760Z"
   },
   {
    "duration": 16,
    "start_time": "2022-05-31T09:26:05.633Z"
   },
   {
    "duration": 3,
    "start_time": "2022-05-31T09:26:08.054Z"
   },
   {
    "duration": 857,
    "start_time": "2022-05-31T09:26:10.669Z"
   },
   {
    "duration": 128,
    "start_time": "2022-05-31T09:26:13.942Z"
   },
   {
    "duration": 126,
    "start_time": "2022-05-31T09:26:21.817Z"
   },
   {
    "duration": 241,
    "start_time": "2022-05-31T09:27:22.547Z"
   },
   {
    "duration": 306,
    "start_time": "2022-05-31T09:27:57.865Z"
   },
   {
    "duration": 310,
    "start_time": "2022-05-31T09:28:04.777Z"
   },
   {
    "duration": 202,
    "start_time": "2022-05-31T09:28:14.382Z"
   },
   {
    "duration": 232,
    "start_time": "2022-05-31T09:28:48.582Z"
   },
   {
    "duration": 199,
    "start_time": "2022-05-31T09:29:29.177Z"
   },
   {
    "duration": 205,
    "start_time": "2022-05-31T09:29:36.570Z"
   },
   {
    "duration": 318,
    "start_time": "2022-05-31T09:29:49.227Z"
   },
   {
    "duration": 38,
    "start_time": "2022-05-31T09:32:34.360Z"
   },
   {
    "duration": 207,
    "start_time": "2022-05-31T09:32:39.569Z"
   },
   {
    "duration": 210,
    "start_time": "2022-05-31T09:32:44.503Z"
   },
   {
    "duration": 518,
    "start_time": "2022-05-31T09:32:56.008Z"
   },
   {
    "duration": 243,
    "start_time": "2022-05-31T09:33:00.919Z"
   },
   {
    "duration": 450,
    "start_time": "2022-05-31T09:33:06.215Z"
   },
   {
    "duration": 314,
    "start_time": "2022-05-31T09:33:14.352Z"
   },
   {
    "duration": 310,
    "start_time": "2022-05-31T09:33:41.095Z"
   },
   {
    "duration": 318,
    "start_time": "2022-05-31T09:33:45.424Z"
   },
   {
    "duration": 264,
    "start_time": "2022-05-31T09:33:50.561Z"
   },
   {
    "duration": 271,
    "start_time": "2022-05-31T09:34:10.872Z"
   },
   {
    "duration": 228,
    "start_time": "2022-05-31T09:34:25.688Z"
   },
   {
    "duration": 364,
    "start_time": "2022-05-31T09:34:30.605Z"
   },
   {
    "duration": 277,
    "start_time": "2022-05-31T09:35:04.204Z"
   },
   {
    "duration": 292,
    "start_time": "2022-05-31T09:35:14.452Z"
   },
   {
    "duration": 19,
    "start_time": "2022-05-31T09:38:05.105Z"
   },
   {
    "duration": 13,
    "start_time": "2022-05-31T09:38:09.472Z"
   },
   {
    "duration": 296,
    "start_time": "2022-05-31T09:38:18.297Z"
   },
   {
    "duration": 244,
    "start_time": "2022-05-31T09:38:47.168Z"
   },
   {
    "duration": 246,
    "start_time": "2022-05-31T09:39:44.763Z"
   },
   {
    "duration": 63,
    "start_time": "2022-05-31T09:40:31.944Z"
   },
   {
    "duration": 253,
    "start_time": "2022-05-31T09:40:35.399Z"
   },
   {
    "duration": 13,
    "start_time": "2022-05-31T09:40:57.287Z"
   },
   {
    "duration": 266,
    "start_time": "2022-05-31T09:41:16.213Z"
   },
   {
    "duration": 17,
    "start_time": "2022-05-31T09:41:35.206Z"
   },
   {
    "duration": 12,
    "start_time": "2022-05-31T09:41:48.388Z"
   },
   {
    "duration": 243,
    "start_time": "2022-05-31T09:42:02.268Z"
   },
   {
    "duration": 17,
    "start_time": "2022-05-31T09:42:14.012Z"
   },
   {
    "duration": 14,
    "start_time": "2022-05-31T09:42:40.967Z"
   },
   {
    "duration": 213,
    "start_time": "2022-05-31T09:45:26.888Z"
   },
   {
    "duration": 19,
    "start_time": "2022-05-31T09:46:40.305Z"
   },
   {
    "duration": 14,
    "start_time": "2022-05-31T09:46:49.676Z"
   },
   {
    "duration": 39,
    "start_time": "2022-05-31T09:46:54.706Z"
   },
   {
    "duration": 247,
    "start_time": "2022-05-31T09:46:58.783Z"
   },
   {
    "duration": 353,
    "start_time": "2022-05-31T09:47:06.319Z"
   },
   {
    "duration": 249,
    "start_time": "2022-05-31T09:47:19.414Z"
   },
   {
    "duration": 848,
    "start_time": "2022-05-31T09:47:40.243Z"
   },
   {
    "duration": 250,
    "start_time": "2022-05-31T09:48:12.179Z"
   },
   {
    "duration": 336,
    "start_time": "2022-05-31T09:48:25.288Z"
   },
   {
    "duration": 258,
    "start_time": "2022-05-31T09:48:30.289Z"
   },
   {
    "duration": 246,
    "start_time": "2022-05-31T09:48:38.590Z"
   },
   {
    "duration": 203,
    "start_time": "2022-05-31T09:49:00.907Z"
   },
   {
    "duration": 378,
    "start_time": "2022-05-31T09:49:15.412Z"
   },
   {
    "duration": 231,
    "start_time": "2022-05-31T09:49:52.538Z"
   },
   {
    "duration": 269,
    "start_time": "2022-05-31T09:51:43.216Z"
   },
   {
    "duration": 413,
    "start_time": "2022-05-31T09:52:05.195Z"
   },
   {
    "duration": 286,
    "start_time": "2022-05-31T09:52:16.719Z"
   },
   {
    "duration": 315,
    "start_time": "2022-05-31T09:52:27.439Z"
   },
   {
    "duration": 259,
    "start_time": "2022-05-31T09:52:54.867Z"
   },
   {
    "duration": 280,
    "start_time": "2022-05-31T09:53:14.414Z"
   },
   {
    "duration": 219,
    "start_time": "2022-05-31T09:53:46.307Z"
   },
   {
    "duration": 218,
    "start_time": "2022-05-31T09:53:57.891Z"
   },
   {
    "duration": 1385,
    "start_time": "2022-05-31T09:58:36.145Z"
   },
   {
    "duration": 58,
    "start_time": "2022-05-31T09:58:37.532Z"
   },
   {
    "duration": 10,
    "start_time": "2022-05-31T09:58:37.592Z"
   },
   {
    "duration": 4,
    "start_time": "2022-05-31T09:58:37.604Z"
   },
   {
    "duration": 14,
    "start_time": "2022-05-31T09:58:37.609Z"
   },
   {
    "duration": 39,
    "start_time": "2022-05-31T09:58:37.625Z"
   },
   {
    "duration": 17,
    "start_time": "2022-05-31T09:58:37.666Z"
   },
   {
    "duration": 4,
    "start_time": "2022-05-31T09:58:37.684Z"
   },
   {
    "duration": 610,
    "start_time": "2022-05-31T09:58:37.690Z"
   },
   {
    "duration": 515,
    "start_time": "2022-05-31T09:58:38.304Z"
   },
   {
    "duration": 483,
    "start_time": "2022-05-31T09:58:38.820Z"
   },
   {
    "duration": 5,
    "start_time": "2022-05-31T09:58:39.305Z"
   },
   {
    "duration": 69,
    "start_time": "2022-05-31T09:58:39.313Z"
   },
   {
    "duration": 4,
    "start_time": "2022-05-31T09:58:39.385Z"
   },
   {
    "duration": 7,
    "start_time": "2022-05-31T09:58:39.391Z"
   },
   {
    "duration": 10,
    "start_time": "2022-05-31T09:58:39.399Z"
   },
   {
    "duration": 7,
    "start_time": "2022-05-31T09:58:39.410Z"
   },
   {
    "duration": 79,
    "start_time": "2022-05-31T09:58:39.418Z"
   },
   {
    "duration": 5,
    "start_time": "2022-05-31T09:58:39.499Z"
   },
   {
    "duration": 74,
    "start_time": "2022-05-31T09:58:39.505Z"
   },
   {
    "duration": 4,
    "start_time": "2022-05-31T09:58:39.581Z"
   },
   {
    "duration": 6,
    "start_time": "2022-05-31T09:58:39.587Z"
   },
   {
    "duration": 8,
    "start_time": "2022-05-31T09:58:39.595Z"
   },
   {
    "duration": 247,
    "start_time": "2022-05-31T09:58:39.605Z"
   },
   {
    "duration": 936,
    "start_time": "2022-05-31T09:58:39.854Z"
   },
   {
    "duration": 11306,
    "start_time": "2022-05-31T09:58:40.792Z"
   },
   {
    "duration": 533387,
    "start_time": "2022-05-31T09:58:52.099Z"
   },
   {
    "duration": 1132969,
    "start_time": "2022-05-31T10:07:45.490Z"
   },
   {
    "duration": 2079820,
    "start_time": "2022-05-31T10:26:38.461Z"
   },
   {
    "duration": 14,
    "start_time": "2022-05-31T11:01:18.283Z"
   },
   {
    "duration": 18,
    "start_time": "2022-05-31T11:01:18.299Z"
   },
   {
    "duration": 1033,
    "start_time": "2022-05-31T11:01:18.351Z"
   },
   {
    "duration": 318,
    "start_time": "2022-05-31T11:01:19.385Z"
   },
   {
    "duration": 266,
    "start_time": "2022-05-31T11:01:19.705Z"
   }
  ],
  "kernelspec": {
   "display_name": "Python 3 (ipykernel)",
   "language": "python",
   "name": "python3"
  },
  "language_info": {
   "codemirror_mode": {
    "name": "ipython",
    "version": 3
   },
   "file_extension": ".py",
   "mimetype": "text/x-python",
   "name": "python",
   "nbconvert_exporter": "python",
   "pygments_lexer": "ipython3",
   "version": "3.9.5"
  },
  "toc": {
   "base_numbering": 1,
   "nav_menu": {},
   "number_sections": true,
   "sideBar": true,
   "skip_h1_title": true,
   "title_cell": "Содержание",
   "title_sidebar": "Contents",
   "toc_cell": true,
   "toc_position": {
    "height": "calc(100% - 180px)",
    "left": "10px",
    "top": "150px",
    "width": "409.097px"
   },
   "toc_section_display": true,
   "toc_window_display": true
  }
 },
 "nbformat": 4,
 "nbformat_minor": 2
}
