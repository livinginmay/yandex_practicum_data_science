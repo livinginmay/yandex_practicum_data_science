{
 "cells": [
  {
   "cell_type": "markdown",
   "metadata": {
    "toc": true
   },
   "source": [
    "<h1>Содержание<span class=\"tocSkip\"></span></h1>\n",
    "<div class=\"toc\"><ul class=\"toc-item\"><li><span><a href=\"#Подготовка-данных\" data-toc-modified-id=\"Подготовка-данных-1\"><span class=\"toc-item-num\">1&nbsp;&nbsp;</span>Подготовка данных</a></span><ul class=\"toc-item\"><li><span><a href=\"#Общая-информация\" data-toc-modified-id=\"Общая-информация-1.1\"><span class=\"toc-item-num\">1.1&nbsp;&nbsp;</span>Общая информация</a></span></li><li><span><a href=\"#Корректировка-колонок\" data-toc-modified-id=\"Корректировка-колонок-1.2\"><span class=\"toc-item-num\">1.2&nbsp;&nbsp;</span>Корректировка колонок</a></span></li><li><span><a href=\"#Обработка-пропусков\" data-toc-modified-id=\"Обработка-пропусков-1.3\"><span class=\"toc-item-num\">1.3&nbsp;&nbsp;</span>Обработка пропусков</a></span></li><li><span><a href=\"#Изменение-типов-данных\" data-toc-modified-id=\"Изменение-типов-данных-1.4\"><span class=\"toc-item-num\">1.4&nbsp;&nbsp;</span>Изменение типов данных</a></span></li><li><span><a href=\"#Обработка-дубликатов\" data-toc-modified-id=\"Обработка-дубликатов-1.5\"><span class=\"toc-item-num\">1.5&nbsp;&nbsp;</span>Обработка дубликатов</a></span></li><li><span><a href=\"#Прямое-кодирование\" data-toc-modified-id=\"Прямое-кодирование-1.6\"><span class=\"toc-item-num\">1.6&nbsp;&nbsp;</span>Прямое кодирование</a></span></li><li><span><a href=\"#Обучающая,-валидационная-и-тестовая-выборки\" data-toc-modified-id=\"Обучающая,-валидационная-и-тестовая-выборки-1.7\"><span class=\"toc-item-num\">1.7&nbsp;&nbsp;</span>Обучающая, валидационная и тестовая выборки</a></span></li><li><span><a href=\"#Обработка-пропусков-отдельно-для-каждой-выборки\" data-toc-modified-id=\"Обработка-пропусков-отдельно-для-каждой-выборки-1.8\"><span class=\"toc-item-num\">1.8&nbsp;&nbsp;</span>Обработка пропусков отдельно для каждой выборки</a></span></li><li><span><a href=\"#Масштабирование-признаков\" data-toc-modified-id=\"Масштабирование-признаков-1.9\"><span class=\"toc-item-num\">1.9&nbsp;&nbsp;</span>Масштабирование признаков</a></span></li></ul></li><li><span><a href=\"#Исследование-задачи\" data-toc-modified-id=\"Исследование-задачи-2\"><span class=\"toc-item-num\">2&nbsp;&nbsp;</span>Исследование задачи</a></span><ul class=\"toc-item\"><li><span><a href=\"#Исследование-баланса-классов\" data-toc-modified-id=\"Исследование-баланса-классов-2.1\"><span class=\"toc-item-num\">2.1&nbsp;&nbsp;</span>Исследование баланса классов</a></span></li><li><span><a href=\"#Логистическая-регрессия\" data-toc-modified-id=\"Логистическая-регрессия-2.2\"><span class=\"toc-item-num\">2.2&nbsp;&nbsp;</span>Логистическая регрессия</a></span></li><li><span><a href=\"#Дерево-решений\" data-toc-modified-id=\"Дерево-решений-2.3\"><span class=\"toc-item-num\">2.3&nbsp;&nbsp;</span>Дерево решений</a></span></li><li><span><a href=\"#Случайный-лес\" data-toc-modified-id=\"Случайный-лес-2.4\"><span class=\"toc-item-num\">2.4&nbsp;&nbsp;</span>Случайный лес</a></span></li><li><span><a href=\"#Общий-вывод\" data-toc-modified-id=\"Общий-вывод-2.5\"><span class=\"toc-item-num\">2.5&nbsp;&nbsp;</span>Общий вывод</a></span></li></ul></li><li><span><a href=\"#Борьба-с-дисбалансом\" data-toc-modified-id=\"Борьба-с-дисбалансом-3\"><span class=\"toc-item-num\">3&nbsp;&nbsp;</span>Борьба с дисбалансом</a></span><ul class=\"toc-item\"><li><span><a href=\"#Взвешивание-классов\" data-toc-modified-id=\"Взвешивание-классов-3.1\"><span class=\"toc-item-num\">3.1&nbsp;&nbsp;</span>Взвешивание классов</a></span><ul class=\"toc-item\"><li><span><a href=\"#Логистическая-регрессия\" data-toc-modified-id=\"Логистическая-регрессия-3.1.1\"><span class=\"toc-item-num\">3.1.1&nbsp;&nbsp;</span>Логистическая регрессия</a></span></li><li><span><a href=\"#Дерево-решений\" data-toc-modified-id=\"Дерево-решений-3.1.2\"><span class=\"toc-item-num\">3.1.2&nbsp;&nbsp;</span>Дерево решений</a></span></li><li><span><a href=\"#Случайный-лес\" data-toc-modified-id=\"Случайный-лес-3.1.3\"><span class=\"toc-item-num\">3.1.3&nbsp;&nbsp;</span>Случайный лес</a></span></li></ul></li><li><span><a href=\"#Увеличение-выборки\" data-toc-modified-id=\"Увеличение-выборки-3.2\"><span class=\"toc-item-num\">3.2&nbsp;&nbsp;</span>Увеличение выборки</a></span><ul class=\"toc-item\"><li><span><a href=\"#Логистическая-регрессия\" data-toc-modified-id=\"Логистическая-регрессия-3.2.1\"><span class=\"toc-item-num\">3.2.1&nbsp;&nbsp;</span>Логистическая регрессия</a></span></li><li><span><a href=\"#Дерево-решений\" data-toc-modified-id=\"Дерево-решений-3.2.2\"><span class=\"toc-item-num\">3.2.2&nbsp;&nbsp;</span>Дерево решений</a></span></li><li><span><a href=\"#Случайный-лес\" data-toc-modified-id=\"Случайный-лес-3.2.3\"><span class=\"toc-item-num\">3.2.3&nbsp;&nbsp;</span>Случайный лес</a></span></li></ul></li><li><span><a href=\"#Уменьшение-выборки\" data-toc-modified-id=\"Уменьшение-выборки-3.3\"><span class=\"toc-item-num\">3.3&nbsp;&nbsp;</span>Уменьшение выборки</a></span><ul class=\"toc-item\"><li><span><a href=\"#Логистическая-регрессия\" data-toc-modified-id=\"Логистическая-регрессия-3.3.1\"><span class=\"toc-item-num\">3.3.1&nbsp;&nbsp;</span>Логистическая регрессия</a></span></li><li><span><a href=\"#Дерево-решений\" data-toc-modified-id=\"Дерево-решений-3.3.2\"><span class=\"toc-item-num\">3.3.2&nbsp;&nbsp;</span>Дерево решений</a></span></li><li><span><a href=\"#Случайный-лес\" data-toc-modified-id=\"Случайный-лес-3.3.3\"><span class=\"toc-item-num\">3.3.3&nbsp;&nbsp;</span>Случайный лес</a></span></li></ul></li></ul></li><li><span><a href=\"#Тестирование-модели\" data-toc-modified-id=\"Тестирование-модели-4\"><span class=\"toc-item-num\">4&nbsp;&nbsp;</span>Тестирование модели</a></span></li><li><span><a href=\"#Общий-вывод\" data-toc-modified-id=\"Общий-вывод-5\"><span class=\"toc-item-num\">5&nbsp;&nbsp;</span>Общий вывод</a></span></li></ul></div>"
   ]
  },
  {
   "cell_type": "markdown",
   "metadata": {},
   "source": [
    "# Отток клиентов"
   ]
  },
  {
   "cell_type": "markdown",
   "metadata": {},
   "source": [
    "## Подготовка данных"
   ]
  },
  {
   "cell_type": "markdown",
   "metadata": {},
   "source": [
    "### Общая информация"
   ]
  },
  {
   "cell_type": "code",
   "execution_count": 1,
   "metadata": {},
   "outputs": [],
   "source": [
    "import pandas as pd\n",
    "import matplotlib.pyplot as plt\n",
    "\n",
    "from sklearn.model_selection import train_test_split\n",
    "\n",
    "from sklearn.preprocessing import StandardScaler\n",
    "pd.options.mode.chained_assignment = None\n",
    "\n",
    "from sklearn.linear_model import LogisticRegression\n",
    "from sklearn.tree import DecisionTreeClassifier\n",
    "from sklearn.ensemble import RandomForestClassifier\n",
    "\n",
    "from sklearn.dummy import DummyClassifier\n",
    "\n",
    "from sklearn.metrics import accuracy_score, f1_score, roc_auc_score, roc_curve\n",
    "\n",
    "from sklearn.utils import shuffle"
   ]
  },
  {
   "cell_type": "code",
   "execution_count": 2,
   "metadata": {
    "scrolled": true
   },
   "outputs": [
    {
     "data": {
      "text/html": [
       "<div>\n",
       "<style scoped>\n",
       "    .dataframe tbody tr th:only-of-type {\n",
       "        vertical-align: middle;\n",
       "    }\n",
       "\n",
       "    .dataframe tbody tr th {\n",
       "        vertical-align: top;\n",
       "    }\n",
       "\n",
       "    .dataframe thead th {\n",
       "        text-align: right;\n",
       "    }\n",
       "</style>\n",
       "<table border=\"1\" class=\"dataframe\">\n",
       "  <thead>\n",
       "    <tr style=\"text-align: right;\">\n",
       "      <th></th>\n",
       "      <th>RowNumber</th>\n",
       "      <th>CustomerId</th>\n",
       "      <th>Surname</th>\n",
       "      <th>CreditScore</th>\n",
       "      <th>Geography</th>\n",
       "      <th>Gender</th>\n",
       "      <th>Age</th>\n",
       "      <th>Tenure</th>\n",
       "      <th>Balance</th>\n",
       "      <th>NumOfProducts</th>\n",
       "      <th>HasCrCard</th>\n",
       "      <th>IsActiveMember</th>\n",
       "      <th>EstimatedSalary</th>\n",
       "      <th>Exited</th>\n",
       "    </tr>\n",
       "  </thead>\n",
       "  <tbody>\n",
       "    <tr>\n",
       "      <th>0</th>\n",
       "      <td>1</td>\n",
       "      <td>15634602</td>\n",
       "      <td>Hargrave</td>\n",
       "      <td>619</td>\n",
       "      <td>France</td>\n",
       "      <td>Female</td>\n",
       "      <td>42</td>\n",
       "      <td>2.0</td>\n",
       "      <td>0.00</td>\n",
       "      <td>1</td>\n",
       "      <td>1</td>\n",
       "      <td>1</td>\n",
       "      <td>101348.88</td>\n",
       "      <td>1</td>\n",
       "    </tr>\n",
       "    <tr>\n",
       "      <th>1</th>\n",
       "      <td>2</td>\n",
       "      <td>15647311</td>\n",
       "      <td>Hill</td>\n",
       "      <td>608</td>\n",
       "      <td>Spain</td>\n",
       "      <td>Female</td>\n",
       "      <td>41</td>\n",
       "      <td>1.0</td>\n",
       "      <td>83807.86</td>\n",
       "      <td>1</td>\n",
       "      <td>0</td>\n",
       "      <td>1</td>\n",
       "      <td>112542.58</td>\n",
       "      <td>0</td>\n",
       "    </tr>\n",
       "    <tr>\n",
       "      <th>2</th>\n",
       "      <td>3</td>\n",
       "      <td>15619304</td>\n",
       "      <td>Onio</td>\n",
       "      <td>502</td>\n",
       "      <td>France</td>\n",
       "      <td>Female</td>\n",
       "      <td>42</td>\n",
       "      <td>8.0</td>\n",
       "      <td>159660.80</td>\n",
       "      <td>3</td>\n",
       "      <td>1</td>\n",
       "      <td>0</td>\n",
       "      <td>113931.57</td>\n",
       "      <td>1</td>\n",
       "    </tr>\n",
       "    <tr>\n",
       "      <th>3</th>\n",
       "      <td>4</td>\n",
       "      <td>15701354</td>\n",
       "      <td>Boni</td>\n",
       "      <td>699</td>\n",
       "      <td>France</td>\n",
       "      <td>Female</td>\n",
       "      <td>39</td>\n",
       "      <td>1.0</td>\n",
       "      <td>0.00</td>\n",
       "      <td>2</td>\n",
       "      <td>0</td>\n",
       "      <td>0</td>\n",
       "      <td>93826.63</td>\n",
       "      <td>0</td>\n",
       "    </tr>\n",
       "    <tr>\n",
       "      <th>4</th>\n",
       "      <td>5</td>\n",
       "      <td>15737888</td>\n",
       "      <td>Mitchell</td>\n",
       "      <td>850</td>\n",
       "      <td>Spain</td>\n",
       "      <td>Female</td>\n",
       "      <td>43</td>\n",
       "      <td>2.0</td>\n",
       "      <td>125510.82</td>\n",
       "      <td>1</td>\n",
       "      <td>1</td>\n",
       "      <td>1</td>\n",
       "      <td>79084.10</td>\n",
       "      <td>0</td>\n",
       "    </tr>\n",
       "  </tbody>\n",
       "</table>\n",
       "</div>"
      ],
      "text/plain": [
       "   RowNumber  CustomerId   Surname  CreditScore Geography  Gender  Age  \\\n",
       "0          1    15634602  Hargrave          619    France  Female   42   \n",
       "1          2    15647311      Hill          608     Spain  Female   41   \n",
       "2          3    15619304      Onio          502    France  Female   42   \n",
       "3          4    15701354      Boni          699    France  Female   39   \n",
       "4          5    15737888  Mitchell          850     Spain  Female   43   \n",
       "\n",
       "   Tenure    Balance  NumOfProducts  HasCrCard  IsActiveMember  \\\n",
       "0     2.0       0.00              1          1               1   \n",
       "1     1.0   83807.86              1          0               1   \n",
       "2     8.0  159660.80              3          1               0   \n",
       "3     1.0       0.00              2          0               0   \n",
       "4     2.0  125510.82              1          1               1   \n",
       "\n",
       "   EstimatedSalary  Exited  \n",
       "0        101348.88       1  \n",
       "1        112542.58       0  \n",
       "2        113931.57       1  \n",
       "3         93826.63       0  \n",
       "4         79084.10       0  "
      ]
     },
     "execution_count": 2,
     "metadata": {},
     "output_type": "execute_result"
    }
   ],
   "source": [
    "data = pd.read_csv('/datasets/Churn.csv')\n",
    "data.head()"
   ]
  },
  {
   "cell_type": "code",
   "execution_count": 3,
   "metadata": {},
   "outputs": [
    {
     "name": "stdout",
     "output_type": "stream",
     "text": [
      "<class 'pandas.core.frame.DataFrame'>\n",
      "RangeIndex: 10000 entries, 0 to 9999\n",
      "Data columns (total 14 columns):\n",
      " #   Column           Non-Null Count  Dtype  \n",
      "---  ------           --------------  -----  \n",
      " 0   RowNumber        10000 non-null  int64  \n",
      " 1   CustomerId       10000 non-null  int64  \n",
      " 2   Surname          10000 non-null  object \n",
      " 3   CreditScore      10000 non-null  int64  \n",
      " 4   Geography        10000 non-null  object \n",
      " 5   Gender           10000 non-null  object \n",
      " 6   Age              10000 non-null  int64  \n",
      " 7   Tenure           9091 non-null   float64\n",
      " 8   Balance          10000 non-null  float64\n",
      " 9   NumOfProducts    10000 non-null  int64  \n",
      " 10  HasCrCard        10000 non-null  int64  \n",
      " 11  IsActiveMember   10000 non-null  int64  \n",
      " 12  EstimatedSalary  10000 non-null  float64\n",
      " 13  Exited           10000 non-null  int64  \n",
      "dtypes: float64(3), int64(8), object(3)\n",
      "memory usage: 1.1+ MB\n"
     ]
    }
   ],
   "source": [
    "data.info()"
   ]
  },
  {
   "cell_type": "markdown",
   "metadata": {},
   "source": [
    "**Вывод**\n",
    "\n",
    "При подготовке данных нужно учесть следующее:\n",
    "* названия колонок не соответствуют общепринятым правилам стиля;\n",
    "* колонки `RowNumber`, `CustomerId`, `Surname` не должны влиять на результаты, их лучше удалить;\n",
    "* есть пропуски в данных о том, сколько лет человек является клиентом банка, и эта колонка не целочисленного типа;\n",
    "* проверить данные на явные и неявные дубли (страна, пол)."
   ]
  },
  {
   "cell_type": "markdown",
   "metadata": {},
   "source": [
    "### Корректировка колонок"
   ]
  },
  {
   "cell_type": "code",
   "execution_count": 4,
   "metadata": {},
   "outputs": [
    {
     "data": {
      "text/html": [
       "<div>\n",
       "<style scoped>\n",
       "    .dataframe tbody tr th:only-of-type {\n",
       "        vertical-align: middle;\n",
       "    }\n",
       "\n",
       "    .dataframe tbody tr th {\n",
       "        vertical-align: top;\n",
       "    }\n",
       "\n",
       "    .dataframe thead th {\n",
       "        text-align: right;\n",
       "    }\n",
       "</style>\n",
       "<table border=\"1\" class=\"dataframe\">\n",
       "  <thead>\n",
       "    <tr style=\"text-align: right;\">\n",
       "      <th></th>\n",
       "      <th>CreditScore</th>\n",
       "      <th>Geography</th>\n",
       "      <th>Gender</th>\n",
       "      <th>Age</th>\n",
       "      <th>Tenure</th>\n",
       "      <th>Balance</th>\n",
       "      <th>NumOfProducts</th>\n",
       "      <th>HasCrCard</th>\n",
       "      <th>IsActiveMember</th>\n",
       "      <th>EstimatedSalary</th>\n",
       "      <th>Exited</th>\n",
       "    </tr>\n",
       "  </thead>\n",
       "  <tbody>\n",
       "    <tr>\n",
       "      <th>0</th>\n",
       "      <td>619</td>\n",
       "      <td>France</td>\n",
       "      <td>Female</td>\n",
       "      <td>42</td>\n",
       "      <td>2.0</td>\n",
       "      <td>0.00</td>\n",
       "      <td>1</td>\n",
       "      <td>1</td>\n",
       "      <td>1</td>\n",
       "      <td>101348.88</td>\n",
       "      <td>1</td>\n",
       "    </tr>\n",
       "    <tr>\n",
       "      <th>1</th>\n",
       "      <td>608</td>\n",
       "      <td>Spain</td>\n",
       "      <td>Female</td>\n",
       "      <td>41</td>\n",
       "      <td>1.0</td>\n",
       "      <td>83807.86</td>\n",
       "      <td>1</td>\n",
       "      <td>0</td>\n",
       "      <td>1</td>\n",
       "      <td>112542.58</td>\n",
       "      <td>0</td>\n",
       "    </tr>\n",
       "    <tr>\n",
       "      <th>2</th>\n",
       "      <td>502</td>\n",
       "      <td>France</td>\n",
       "      <td>Female</td>\n",
       "      <td>42</td>\n",
       "      <td>8.0</td>\n",
       "      <td>159660.80</td>\n",
       "      <td>3</td>\n",
       "      <td>1</td>\n",
       "      <td>0</td>\n",
       "      <td>113931.57</td>\n",
       "      <td>1</td>\n",
       "    </tr>\n",
       "    <tr>\n",
       "      <th>3</th>\n",
       "      <td>699</td>\n",
       "      <td>France</td>\n",
       "      <td>Female</td>\n",
       "      <td>39</td>\n",
       "      <td>1.0</td>\n",
       "      <td>0.00</td>\n",
       "      <td>2</td>\n",
       "      <td>0</td>\n",
       "      <td>0</td>\n",
       "      <td>93826.63</td>\n",
       "      <td>0</td>\n",
       "    </tr>\n",
       "    <tr>\n",
       "      <th>4</th>\n",
       "      <td>850</td>\n",
       "      <td>Spain</td>\n",
       "      <td>Female</td>\n",
       "      <td>43</td>\n",
       "      <td>2.0</td>\n",
       "      <td>125510.82</td>\n",
       "      <td>1</td>\n",
       "      <td>1</td>\n",
       "      <td>1</td>\n",
       "      <td>79084.10</td>\n",
       "      <td>0</td>\n",
       "    </tr>\n",
       "  </tbody>\n",
       "</table>\n",
       "</div>"
      ],
      "text/plain": [
       "   CreditScore Geography  Gender  Age  Tenure    Balance  NumOfProducts  \\\n",
       "0          619    France  Female   42     2.0       0.00              1   \n",
       "1          608     Spain  Female   41     1.0   83807.86              1   \n",
       "2          502    France  Female   42     8.0  159660.80              3   \n",
       "3          699    France  Female   39     1.0       0.00              2   \n",
       "4          850     Spain  Female   43     2.0  125510.82              1   \n",
       "\n",
       "   HasCrCard  IsActiveMember  EstimatedSalary  Exited  \n",
       "0          1               1        101348.88       1  \n",
       "1          0               1        112542.58       0  \n",
       "2          1               0        113931.57       1  \n",
       "3          0               0         93826.63       0  \n",
       "4          1               1         79084.10       0  "
      ]
     },
     "execution_count": 4,
     "metadata": {},
     "output_type": "execute_result"
    }
   ],
   "source": [
    "delete_columns = ['RowNumber', 'CustomerId', 'Surname']\n",
    "for column in delete_columns:\n",
    "    data = data.drop(column, axis=1)\n",
    "data.head()"
   ]
  },
  {
   "cell_type": "code",
   "execution_count": 5,
   "metadata": {},
   "outputs": [
    {
     "data": {
      "text/plain": [
       "Index(['CreditScore', 'Geography', 'Gender', 'Age', 'Tenure', 'Balance',\n",
       "       'NumOfProducts', 'HasCrCard', 'IsActiveMember', 'EstimatedSalary',\n",
       "       'Exited'],\n",
       "      dtype='object')"
      ]
     },
     "execution_count": 5,
     "metadata": {},
     "output_type": "execute_result"
    }
   ],
   "source": [
    "data.columns "
   ]
  },
  {
   "cell_type": "code",
   "execution_count": 6,
   "metadata": {},
   "outputs": [],
   "source": [
    "data.columns = ['credit_score', 'geography', 'gender', 'age', 'tenure', 'balance',\n",
    "       'num_of_products', 'has_cr_card', 'is_active_member', 'estimated_salary',\n",
    "       'exited']"
   ]
  },
  {
   "cell_type": "markdown",
   "metadata": {},
   "source": [
    "**Вывод**\n",
    "\n",
    "Удалила ненужные колонки. Названия оставшихся преообразовала к snake_case."
   ]
  },
  {
   "cell_type": "markdown",
   "metadata": {},
   "source": [
    "###  Обработка пропусков"
   ]
  },
  {
   "cell_type": "code",
   "execution_count": 7,
   "metadata": {},
   "outputs": [
    {
     "data": {
      "text/plain": [
       "credit_score          0\n",
       "geography             0\n",
       "gender                0\n",
       "age                   0\n",
       "tenure              909\n",
       "balance               0\n",
       "num_of_products       0\n",
       "has_cr_card           0\n",
       "is_active_member      0\n",
       "estimated_salary      0\n",
       "exited                0\n",
       "dtype: int64"
      ]
     },
     "execution_count": 7,
     "metadata": {},
     "output_type": "execute_result"
    }
   ],
   "source": [
    "data.isna().sum()"
   ]
  },
  {
   "cell_type": "code",
   "execution_count": 8,
   "metadata": {},
   "outputs": [
    {
     "data": {
      "text/plain": [
       "5.0"
      ]
     },
     "execution_count": 8,
     "metadata": {},
     "output_type": "execute_result"
    }
   ],
   "source": [
    "data['tenure'].median()"
   ]
  },
  {
   "cell_type": "code",
   "execution_count": 9,
   "metadata": {},
   "outputs": [
    {
     "data": {
      "text/plain": [
       "4.997690023099769"
      ]
     },
     "execution_count": 9,
     "metadata": {},
     "output_type": "execute_result"
    }
   ],
   "source": [
    "data['tenure'].mean()"
   ]
  },
  {
   "cell_type": "code",
   "execution_count": 10,
   "metadata": {},
   "outputs": [
    {
     "data": {
      "text/html": [
       "<div>\n",
       "<style scoped>\n",
       "    .dataframe tbody tr th:only-of-type {\n",
       "        vertical-align: middle;\n",
       "    }\n",
       "\n",
       "    .dataframe tbody tr th {\n",
       "        vertical-align: top;\n",
       "    }\n",
       "\n",
       "    .dataframe thead th {\n",
       "        text-align: right;\n",
       "    }\n",
       "</style>\n",
       "<table border=\"1\" class=\"dataframe\">\n",
       "  <thead>\n",
       "    <tr style=\"text-align: right;\">\n",
       "      <th></th>\n",
       "      <th>credit_score</th>\n",
       "      <th>geography</th>\n",
       "      <th>gender</th>\n",
       "      <th>age</th>\n",
       "      <th>tenure</th>\n",
       "      <th>balance</th>\n",
       "      <th>num_of_products</th>\n",
       "      <th>has_cr_card</th>\n",
       "      <th>is_active_member</th>\n",
       "      <th>estimated_salary</th>\n",
       "      <th>exited</th>\n",
       "    </tr>\n",
       "  </thead>\n",
       "  <tbody>\n",
       "    <tr>\n",
       "      <th>30</th>\n",
       "      <td>591</td>\n",
       "      <td>Spain</td>\n",
       "      <td>Female</td>\n",
       "      <td>39</td>\n",
       "      <td>NaN</td>\n",
       "      <td>0.00</td>\n",
       "      <td>3</td>\n",
       "      <td>1</td>\n",
       "      <td>0</td>\n",
       "      <td>140469.38</td>\n",
       "      <td>1</td>\n",
       "    </tr>\n",
       "    <tr>\n",
       "      <th>48</th>\n",
       "      <td>550</td>\n",
       "      <td>Germany</td>\n",
       "      <td>Male</td>\n",
       "      <td>38</td>\n",
       "      <td>NaN</td>\n",
       "      <td>103391.38</td>\n",
       "      <td>1</td>\n",
       "      <td>0</td>\n",
       "      <td>1</td>\n",
       "      <td>90878.13</td>\n",
       "      <td>0</td>\n",
       "    </tr>\n",
       "    <tr>\n",
       "      <th>51</th>\n",
       "      <td>585</td>\n",
       "      <td>Germany</td>\n",
       "      <td>Male</td>\n",
       "      <td>36</td>\n",
       "      <td>NaN</td>\n",
       "      <td>146050.97</td>\n",
       "      <td>2</td>\n",
       "      <td>0</td>\n",
       "      <td>0</td>\n",
       "      <td>86424.57</td>\n",
       "      <td>0</td>\n",
       "    </tr>\n",
       "    <tr>\n",
       "      <th>53</th>\n",
       "      <td>655</td>\n",
       "      <td>Germany</td>\n",
       "      <td>Male</td>\n",
       "      <td>41</td>\n",
       "      <td>NaN</td>\n",
       "      <td>125561.97</td>\n",
       "      <td>1</td>\n",
       "      <td>0</td>\n",
       "      <td>0</td>\n",
       "      <td>164040.94</td>\n",
       "      <td>1</td>\n",
       "    </tr>\n",
       "    <tr>\n",
       "      <th>60</th>\n",
       "      <td>742</td>\n",
       "      <td>Germany</td>\n",
       "      <td>Male</td>\n",
       "      <td>35</td>\n",
       "      <td>NaN</td>\n",
       "      <td>136857.00</td>\n",
       "      <td>1</td>\n",
       "      <td>0</td>\n",
       "      <td>0</td>\n",
       "      <td>84509.57</td>\n",
       "      <td>0</td>\n",
       "    </tr>\n",
       "    <tr>\n",
       "      <th>82</th>\n",
       "      <td>543</td>\n",
       "      <td>France</td>\n",
       "      <td>Female</td>\n",
       "      <td>36</td>\n",
       "      <td>NaN</td>\n",
       "      <td>0.00</td>\n",
       "      <td>2</td>\n",
       "      <td>0</td>\n",
       "      <td>0</td>\n",
       "      <td>26019.59</td>\n",
       "      <td>0</td>\n",
       "    </tr>\n",
       "    <tr>\n",
       "      <th>85</th>\n",
       "      <td>652</td>\n",
       "      <td>Spain</td>\n",
       "      <td>Female</td>\n",
       "      <td>75</td>\n",
       "      <td>NaN</td>\n",
       "      <td>0.00</td>\n",
       "      <td>2</td>\n",
       "      <td>1</td>\n",
       "      <td>1</td>\n",
       "      <td>114675.75</td>\n",
       "      <td>0</td>\n",
       "    </tr>\n",
       "    <tr>\n",
       "      <th>94</th>\n",
       "      <td>730</td>\n",
       "      <td>Spain</td>\n",
       "      <td>Male</td>\n",
       "      <td>42</td>\n",
       "      <td>NaN</td>\n",
       "      <td>0.00</td>\n",
       "      <td>2</td>\n",
       "      <td>0</td>\n",
       "      <td>1</td>\n",
       "      <td>85982.47</td>\n",
       "      <td>0</td>\n",
       "    </tr>\n",
       "    <tr>\n",
       "      <th>99</th>\n",
       "      <td>413</td>\n",
       "      <td>France</td>\n",
       "      <td>Male</td>\n",
       "      <td>34</td>\n",
       "      <td>NaN</td>\n",
       "      <td>0.00</td>\n",
       "      <td>2</td>\n",
       "      <td>0</td>\n",
       "      <td>0</td>\n",
       "      <td>6534.18</td>\n",
       "      <td>0</td>\n",
       "    </tr>\n",
       "    <tr>\n",
       "      <th>111</th>\n",
       "      <td>538</td>\n",
       "      <td>Germany</td>\n",
       "      <td>Male</td>\n",
       "      <td>39</td>\n",
       "      <td>NaN</td>\n",
       "      <td>108055.10</td>\n",
       "      <td>2</td>\n",
       "      <td>1</td>\n",
       "      <td>0</td>\n",
       "      <td>27231.26</td>\n",
       "      <td>0</td>\n",
       "    </tr>\n",
       "    <tr>\n",
       "      <th>123</th>\n",
       "      <td>684</td>\n",
       "      <td>Germany</td>\n",
       "      <td>Female</td>\n",
       "      <td>48</td>\n",
       "      <td>NaN</td>\n",
       "      <td>126384.42</td>\n",
       "      <td>1</td>\n",
       "      <td>1</td>\n",
       "      <td>1</td>\n",
       "      <td>198129.36</td>\n",
       "      <td>0</td>\n",
       "    </tr>\n",
       "    <tr>\n",
       "      <th>125</th>\n",
       "      <td>432</td>\n",
       "      <td>France</td>\n",
       "      <td>Male</td>\n",
       "      <td>42</td>\n",
       "      <td>NaN</td>\n",
       "      <td>152603.45</td>\n",
       "      <td>1</td>\n",
       "      <td>1</td>\n",
       "      <td>0</td>\n",
       "      <td>110265.24</td>\n",
       "      <td>1</td>\n",
       "    </tr>\n",
       "    <tr>\n",
       "      <th>146</th>\n",
       "      <td>635</td>\n",
       "      <td>Spain</td>\n",
       "      <td>Female</td>\n",
       "      <td>29</td>\n",
       "      <td>NaN</td>\n",
       "      <td>138296.94</td>\n",
       "      <td>2</td>\n",
       "      <td>1</td>\n",
       "      <td>0</td>\n",
       "      <td>141075.51</td>\n",
       "      <td>0</td>\n",
       "    </tr>\n",
       "    <tr>\n",
       "      <th>162</th>\n",
       "      <td>800</td>\n",
       "      <td>France</td>\n",
       "      <td>Female</td>\n",
       "      <td>49</td>\n",
       "      <td>NaN</td>\n",
       "      <td>108007.36</td>\n",
       "      <td>1</td>\n",
       "      <td>0</td>\n",
       "      <td>0</td>\n",
       "      <td>47125.11</td>\n",
       "      <td>0</td>\n",
       "    </tr>\n",
       "    <tr>\n",
       "      <th>173</th>\n",
       "      <td>578</td>\n",
       "      <td>France</td>\n",
       "      <td>Male</td>\n",
       "      <td>30</td>\n",
       "      <td>NaN</td>\n",
       "      <td>169462.09</td>\n",
       "      <td>1</td>\n",
       "      <td>1</td>\n",
       "      <td>0</td>\n",
       "      <td>112187.11</td>\n",
       "      <td>0</td>\n",
       "    </tr>\n",
       "    <tr>\n",
       "      <th>180</th>\n",
       "      <td>850</td>\n",
       "      <td>Spain</td>\n",
       "      <td>Female</td>\n",
       "      <td>45</td>\n",
       "      <td>NaN</td>\n",
       "      <td>122311.21</td>\n",
       "      <td>1</td>\n",
       "      <td>1</td>\n",
       "      <td>1</td>\n",
       "      <td>19482.50</td>\n",
       "      <td>0</td>\n",
       "    </tr>\n",
       "    <tr>\n",
       "      <th>217</th>\n",
       "      <td>730</td>\n",
       "      <td>Spain</td>\n",
       "      <td>Female</td>\n",
       "      <td>33</td>\n",
       "      <td>NaN</td>\n",
       "      <td>0.00</td>\n",
       "      <td>2</td>\n",
       "      <td>0</td>\n",
       "      <td>0</td>\n",
       "      <td>176576.62</td>\n",
       "      <td>0</td>\n",
       "    </tr>\n",
       "    <tr>\n",
       "      <th>222</th>\n",
       "      <td>567</td>\n",
       "      <td>France</td>\n",
       "      <td>Male</td>\n",
       "      <td>42</td>\n",
       "      <td>NaN</td>\n",
       "      <td>0.00</td>\n",
       "      <td>2</td>\n",
       "      <td>1</td>\n",
       "      <td>1</td>\n",
       "      <td>167984.61</td>\n",
       "      <td>0</td>\n",
       "    </tr>\n",
       "    <tr>\n",
       "      <th>225</th>\n",
       "      <td>670</td>\n",
       "      <td>France</td>\n",
       "      <td>Male</td>\n",
       "      <td>37</td>\n",
       "      <td>NaN</td>\n",
       "      <td>170557.91</td>\n",
       "      <td>2</td>\n",
       "      <td>1</td>\n",
       "      <td>0</td>\n",
       "      <td>198252.88</td>\n",
       "      <td>0</td>\n",
       "    </tr>\n",
       "    <tr>\n",
       "      <th>237</th>\n",
       "      <td>539</td>\n",
       "      <td>Germany</td>\n",
       "      <td>Female</td>\n",
       "      <td>43</td>\n",
       "      <td>NaN</td>\n",
       "      <td>116220.50</td>\n",
       "      <td>3</td>\n",
       "      <td>1</td>\n",
       "      <td>0</td>\n",
       "      <td>55803.96</td>\n",
       "      <td>1</td>\n",
       "    </tr>\n",
       "  </tbody>\n",
       "</table>\n",
       "</div>"
      ],
      "text/plain": [
       "     credit_score geography  gender  age  tenure    balance  num_of_products  \\\n",
       "30            591     Spain  Female   39     NaN       0.00                3   \n",
       "48            550   Germany    Male   38     NaN  103391.38                1   \n",
       "51            585   Germany    Male   36     NaN  146050.97                2   \n",
       "53            655   Germany    Male   41     NaN  125561.97                1   \n",
       "60            742   Germany    Male   35     NaN  136857.00                1   \n",
       "82            543    France  Female   36     NaN       0.00                2   \n",
       "85            652     Spain  Female   75     NaN       0.00                2   \n",
       "94            730     Spain    Male   42     NaN       0.00                2   \n",
       "99            413    France    Male   34     NaN       0.00                2   \n",
       "111           538   Germany    Male   39     NaN  108055.10                2   \n",
       "123           684   Germany  Female   48     NaN  126384.42                1   \n",
       "125           432    France    Male   42     NaN  152603.45                1   \n",
       "146           635     Spain  Female   29     NaN  138296.94                2   \n",
       "162           800    France  Female   49     NaN  108007.36                1   \n",
       "173           578    France    Male   30     NaN  169462.09                1   \n",
       "180           850     Spain  Female   45     NaN  122311.21                1   \n",
       "217           730     Spain  Female   33     NaN       0.00                2   \n",
       "222           567    France    Male   42     NaN       0.00                2   \n",
       "225           670    France    Male   37     NaN  170557.91                2   \n",
       "237           539   Germany  Female   43     NaN  116220.50                3   \n",
       "\n",
       "     has_cr_card  is_active_member  estimated_salary  exited  \n",
       "30             1                 0         140469.38       1  \n",
       "48             0                 1          90878.13       0  \n",
       "51             0                 0          86424.57       0  \n",
       "53             0                 0         164040.94       1  \n",
       "60             0                 0          84509.57       0  \n",
       "82             0                 0          26019.59       0  \n",
       "85             1                 1         114675.75       0  \n",
       "94             0                 1          85982.47       0  \n",
       "99             0                 0           6534.18       0  \n",
       "111            1                 0          27231.26       0  \n",
       "123            1                 1         198129.36       0  \n",
       "125            1                 0         110265.24       1  \n",
       "146            1                 0         141075.51       0  \n",
       "162            0                 0          47125.11       0  \n",
       "173            1                 0         112187.11       0  \n",
       "180            1                 1          19482.50       0  \n",
       "217            0                 0         176576.62       0  \n",
       "222            1                 1         167984.61       0  \n",
       "225            1                 0         198252.88       0  \n",
       "237            1                 0          55803.96       1  "
      ]
     },
     "execution_count": 10,
     "metadata": {},
     "output_type": "execute_result"
    }
   ],
   "source": [
    "data[data['tenure'].isna()].head(20)"
   ]
  },
  {
   "cell_type": "markdown",
   "metadata": {},
   "source": [
    "**Вывод**\n",
    "\n",
    "Нет каких-то явных признаков для восстановления информации в пропусках в данных о том, сколько лет человек является клиентом банка. Пока оставляю пропуски, заполню их медианным значением отдельно для обучающей, тестовой и валидационной выборки, чтобы обучающие данные не повлияли на остальные."
   ]
  },
  {
   "cell_type": "markdown",
   "metadata": {},
   "source": [
    "### Изменение типов данных"
   ]
  },
  {
   "cell_type": "code",
   "execution_count": 11,
   "metadata": {},
   "outputs": [
    {
     "data": {
      "text/plain": [
       "1.0     952\n",
       "2.0     950\n",
       "8.0     933\n",
       "3.0     928\n",
       "5.0     927\n",
       "7.0     925\n",
       "4.0     885\n",
       "9.0     882\n",
       "6.0     881\n",
       "10.0    446\n",
       "0.0     382\n",
       "Name: tenure, dtype: int64"
      ]
     },
     "execution_count": 11,
     "metadata": {},
     "output_type": "execute_result"
    }
   ],
   "source": [
    "data['tenure'].value_counts()"
   ]
  },
  {
   "cell_type": "code",
   "execution_count": 12,
   "metadata": {},
   "outputs": [
    {
     "name": "stdout",
     "output_type": "stream",
     "text": [
      "<class 'pandas.core.frame.DataFrame'>\n",
      "RangeIndex: 10000 entries, 0 to 9999\n",
      "Data columns (total 11 columns):\n",
      " #   Column            Non-Null Count  Dtype  \n",
      "---  ------            --------------  -----  \n",
      " 0   credit_score      10000 non-null  int64  \n",
      " 1   geography         10000 non-null  object \n",
      " 2   gender            10000 non-null  object \n",
      " 3   age               10000 non-null  int64  \n",
      " 4   tenure            9091 non-null   Int64  \n",
      " 5   balance           10000 non-null  float64\n",
      " 6   num_of_products   10000 non-null  int64  \n",
      " 7   has_cr_card       10000 non-null  int64  \n",
      " 8   is_active_member  10000 non-null  int64  \n",
      " 9   estimated_salary  10000 non-null  float64\n",
      " 10  exited            10000 non-null  int64  \n",
      "dtypes: Int64(1), float64(2), int64(6), object(2)\n",
      "memory usage: 869.3+ KB\n"
     ]
    }
   ],
   "source": [
    "data['tenure'] = data['tenure'].astype('Int64')\n",
    "data.info()"
   ]
  },
  {
   "cell_type": "markdown",
   "metadata": {},
   "source": [
    "**Вывод**\n",
    "\n",
    "Привела колонку `tenure` к целочисленному типу."
   ]
  },
  {
   "cell_type": "markdown",
   "metadata": {},
   "source": [
    "### Обработка дубликатов"
   ]
  },
  {
   "cell_type": "code",
   "execution_count": 13,
   "metadata": {},
   "outputs": [
    {
     "data": {
      "text/plain": [
       "France     5014\n",
       "Germany    2509\n",
       "Spain      2477\n",
       "Name: geography, dtype: int64"
      ]
     },
     "execution_count": 13,
     "metadata": {},
     "output_type": "execute_result"
    }
   ],
   "source": [
    "data['geography'].value_counts()"
   ]
  },
  {
   "cell_type": "code",
   "execution_count": 14,
   "metadata": {},
   "outputs": [
    {
     "data": {
      "text/plain": [
       "Male      5457\n",
       "Female    4543\n",
       "Name: gender, dtype: int64"
      ]
     },
     "execution_count": 14,
     "metadata": {},
     "output_type": "execute_result"
    }
   ],
   "source": [
    "data['gender'].value_counts()"
   ]
  },
  {
   "cell_type": "code",
   "execution_count": 15,
   "metadata": {
    "scrolled": true
   },
   "outputs": [
    {
     "name": "stdout",
     "output_type": "stream",
     "text": [
      "<class 'pandas.core.frame.DataFrame'>\n",
      "RangeIndex: 10000 entries, 0 to 9999\n",
      "Data columns (total 11 columns):\n",
      " #   Column            Non-Null Count  Dtype  \n",
      "---  ------            --------------  -----  \n",
      " 0   credit_score      10000 non-null  int64  \n",
      " 1   geography         10000 non-null  object \n",
      " 2   gender            10000 non-null  object \n",
      " 3   age               10000 non-null  int64  \n",
      " 4   tenure            9091 non-null   Int64  \n",
      " 5   balance           10000 non-null  float64\n",
      " 6   num_of_products   10000 non-null  int64  \n",
      " 7   has_cr_card       10000 non-null  int64  \n",
      " 8   is_active_member  10000 non-null  int64  \n",
      " 9   estimated_salary  10000 non-null  float64\n",
      " 10  exited            10000 non-null  int64  \n",
      "dtypes: Int64(1), float64(2), int64(6), object(2)\n",
      "memory usage: 869.3+ KB\n"
     ]
    }
   ],
   "source": [
    "data.drop_duplicates()\n",
    "data.info()"
   ]
  },
  {
   "cell_type": "markdown",
   "metadata": {},
   "source": [
    "**Вывод**\n",
    "\n",
    "Неявных и полных дубликатов нет."
   ]
  },
  {
   "cell_type": "markdown",
   "metadata": {},
   "source": [
    "### Прямое кодирование"
   ]
  },
  {
   "cell_type": "code",
   "execution_count": 16,
   "metadata": {
    "scrolled": false
   },
   "outputs": [
    {
     "data": {
      "text/html": [
       "<div>\n",
       "<style scoped>\n",
       "    .dataframe tbody tr th:only-of-type {\n",
       "        vertical-align: middle;\n",
       "    }\n",
       "\n",
       "    .dataframe tbody tr th {\n",
       "        vertical-align: top;\n",
       "    }\n",
       "\n",
       "    .dataframe thead th {\n",
       "        text-align: right;\n",
       "    }\n",
       "</style>\n",
       "<table border=\"1\" class=\"dataframe\">\n",
       "  <thead>\n",
       "    <tr style=\"text-align: right;\">\n",
       "      <th></th>\n",
       "      <th>credit_score</th>\n",
       "      <th>age</th>\n",
       "      <th>tenure</th>\n",
       "      <th>balance</th>\n",
       "      <th>num_of_products</th>\n",
       "      <th>has_cr_card</th>\n",
       "      <th>is_active_member</th>\n",
       "      <th>estimated_salary</th>\n",
       "      <th>exited</th>\n",
       "      <th>geography_Germany</th>\n",
       "      <th>geography_Spain</th>\n",
       "      <th>gender_Male</th>\n",
       "    </tr>\n",
       "  </thead>\n",
       "  <tbody>\n",
       "    <tr>\n",
       "      <th>0</th>\n",
       "      <td>619</td>\n",
       "      <td>42</td>\n",
       "      <td>2</td>\n",
       "      <td>0.00</td>\n",
       "      <td>1</td>\n",
       "      <td>1</td>\n",
       "      <td>1</td>\n",
       "      <td>101348.88</td>\n",
       "      <td>1</td>\n",
       "      <td>0</td>\n",
       "      <td>0</td>\n",
       "      <td>0</td>\n",
       "    </tr>\n",
       "    <tr>\n",
       "      <th>1</th>\n",
       "      <td>608</td>\n",
       "      <td>41</td>\n",
       "      <td>1</td>\n",
       "      <td>83807.86</td>\n",
       "      <td>1</td>\n",
       "      <td>0</td>\n",
       "      <td>1</td>\n",
       "      <td>112542.58</td>\n",
       "      <td>0</td>\n",
       "      <td>0</td>\n",
       "      <td>1</td>\n",
       "      <td>0</td>\n",
       "    </tr>\n",
       "    <tr>\n",
       "      <th>2</th>\n",
       "      <td>502</td>\n",
       "      <td>42</td>\n",
       "      <td>8</td>\n",
       "      <td>159660.80</td>\n",
       "      <td>3</td>\n",
       "      <td>1</td>\n",
       "      <td>0</td>\n",
       "      <td>113931.57</td>\n",
       "      <td>1</td>\n",
       "      <td>0</td>\n",
       "      <td>0</td>\n",
       "      <td>0</td>\n",
       "    </tr>\n",
       "    <tr>\n",
       "      <th>3</th>\n",
       "      <td>699</td>\n",
       "      <td>39</td>\n",
       "      <td>1</td>\n",
       "      <td>0.00</td>\n",
       "      <td>2</td>\n",
       "      <td>0</td>\n",
       "      <td>0</td>\n",
       "      <td>93826.63</td>\n",
       "      <td>0</td>\n",
       "      <td>0</td>\n",
       "      <td>0</td>\n",
       "      <td>0</td>\n",
       "    </tr>\n",
       "    <tr>\n",
       "      <th>4</th>\n",
       "      <td>850</td>\n",
       "      <td>43</td>\n",
       "      <td>2</td>\n",
       "      <td>125510.82</td>\n",
       "      <td>1</td>\n",
       "      <td>1</td>\n",
       "      <td>1</td>\n",
       "      <td>79084.10</td>\n",
       "      <td>0</td>\n",
       "      <td>0</td>\n",
       "      <td>1</td>\n",
       "      <td>0</td>\n",
       "    </tr>\n",
       "  </tbody>\n",
       "</table>\n",
       "</div>"
      ],
      "text/plain": [
       "   credit_score  age  tenure    balance  num_of_products  has_cr_card  \\\n",
       "0           619   42       2       0.00                1            1   \n",
       "1           608   41       1   83807.86                1            0   \n",
       "2           502   42       8  159660.80                3            1   \n",
       "3           699   39       1       0.00                2            0   \n",
       "4           850   43       2  125510.82                1            1   \n",
       "\n",
       "   is_active_member  estimated_salary  exited  geography_Germany  \\\n",
       "0                 1         101348.88       1                  0   \n",
       "1                 1         112542.58       0                  0   \n",
       "2                 0         113931.57       1                  0   \n",
       "3                 0          93826.63       0                  0   \n",
       "4                 1          79084.10       0                  0   \n",
       "\n",
       "   geography_Spain  gender_Male  \n",
       "0                0            0  \n",
       "1                1            0  \n",
       "2                0            0  \n",
       "3                0            0  \n",
       "4                1            0  "
      ]
     },
     "execution_count": 16,
     "metadata": {},
     "output_type": "execute_result"
    }
   ],
   "source": [
    "data = pd.get_dummies(data, drop_first=True)\n",
    "data.head()"
   ]
  },
  {
   "cell_type": "markdown",
   "metadata": {},
   "source": [
    "**Вывод**\n",
    "\n",
    "Применила прямое кодирование к датасету, чтобы уйти от категориальных признаков - страна, пол."
   ]
  },
  {
   "cell_type": "markdown",
   "metadata": {},
   "source": [
    "### Обучающая, валидационная и тестовая выборки"
   ]
  },
  {
   "cell_type": "code",
   "execution_count": 17,
   "metadata": {},
   "outputs": [
    {
     "data": {
      "text/html": [
       "<div>\n",
       "<style scoped>\n",
       "    .dataframe tbody tr th:only-of-type {\n",
       "        vertical-align: middle;\n",
       "    }\n",
       "\n",
       "    .dataframe tbody tr th {\n",
       "        vertical-align: top;\n",
       "    }\n",
       "\n",
       "    .dataframe thead th {\n",
       "        text-align: right;\n",
       "    }\n",
       "</style>\n",
       "<table border=\"1\" class=\"dataframe\">\n",
       "  <thead>\n",
       "    <tr style=\"text-align: right;\">\n",
       "      <th></th>\n",
       "      <th>credit_score</th>\n",
       "      <th>age</th>\n",
       "      <th>tenure</th>\n",
       "      <th>balance</th>\n",
       "      <th>num_of_products</th>\n",
       "      <th>has_cr_card</th>\n",
       "      <th>is_active_member</th>\n",
       "      <th>estimated_salary</th>\n",
       "      <th>geography_Germany</th>\n",
       "      <th>geography_Spain</th>\n",
       "      <th>gender_Male</th>\n",
       "    </tr>\n",
       "  </thead>\n",
       "  <tbody>\n",
       "    <tr>\n",
       "      <th>0</th>\n",
       "      <td>619</td>\n",
       "      <td>42</td>\n",
       "      <td>2</td>\n",
       "      <td>0.00</td>\n",
       "      <td>1</td>\n",
       "      <td>1</td>\n",
       "      <td>1</td>\n",
       "      <td>101348.88</td>\n",
       "      <td>0</td>\n",
       "      <td>0</td>\n",
       "      <td>0</td>\n",
       "    </tr>\n",
       "    <tr>\n",
       "      <th>1</th>\n",
       "      <td>608</td>\n",
       "      <td>41</td>\n",
       "      <td>1</td>\n",
       "      <td>83807.86</td>\n",
       "      <td>1</td>\n",
       "      <td>0</td>\n",
       "      <td>1</td>\n",
       "      <td>112542.58</td>\n",
       "      <td>0</td>\n",
       "      <td>1</td>\n",
       "      <td>0</td>\n",
       "    </tr>\n",
       "    <tr>\n",
       "      <th>2</th>\n",
       "      <td>502</td>\n",
       "      <td>42</td>\n",
       "      <td>8</td>\n",
       "      <td>159660.80</td>\n",
       "      <td>3</td>\n",
       "      <td>1</td>\n",
       "      <td>0</td>\n",
       "      <td>113931.57</td>\n",
       "      <td>0</td>\n",
       "      <td>0</td>\n",
       "      <td>0</td>\n",
       "    </tr>\n",
       "    <tr>\n",
       "      <th>3</th>\n",
       "      <td>699</td>\n",
       "      <td>39</td>\n",
       "      <td>1</td>\n",
       "      <td>0.00</td>\n",
       "      <td>2</td>\n",
       "      <td>0</td>\n",
       "      <td>0</td>\n",
       "      <td>93826.63</td>\n",
       "      <td>0</td>\n",
       "      <td>0</td>\n",
       "      <td>0</td>\n",
       "    </tr>\n",
       "    <tr>\n",
       "      <th>4</th>\n",
       "      <td>850</td>\n",
       "      <td>43</td>\n",
       "      <td>2</td>\n",
       "      <td>125510.82</td>\n",
       "      <td>1</td>\n",
       "      <td>1</td>\n",
       "      <td>1</td>\n",
       "      <td>79084.10</td>\n",
       "      <td>0</td>\n",
       "      <td>1</td>\n",
       "      <td>0</td>\n",
       "    </tr>\n",
       "  </tbody>\n",
       "</table>\n",
       "</div>"
      ],
      "text/plain": [
       "   credit_score  age  tenure    balance  num_of_products  has_cr_card  \\\n",
       "0           619   42       2       0.00                1            1   \n",
       "1           608   41       1   83807.86                1            0   \n",
       "2           502   42       8  159660.80                3            1   \n",
       "3           699   39       1       0.00                2            0   \n",
       "4           850   43       2  125510.82                1            1   \n",
       "\n",
       "   is_active_member  estimated_salary  geography_Germany  geography_Spain  \\\n",
       "0                 1         101348.88                  0                0   \n",
       "1                 1         112542.58                  0                1   \n",
       "2                 0         113931.57                  0                0   \n",
       "3                 0          93826.63                  0                0   \n",
       "4                 1          79084.10                  0                1   \n",
       "\n",
       "   gender_Male  \n",
       "0            0  \n",
       "1            0  \n",
       "2            0  \n",
       "3            0  \n",
       "4            0  "
      ]
     },
     "execution_count": 17,
     "metadata": {},
     "output_type": "execute_result"
    }
   ],
   "source": [
    "features = data.drop('exited', axis=1)\n",
    "features.head()"
   ]
  },
  {
   "cell_type": "code",
   "execution_count": 18,
   "metadata": {
    "scrolled": true
   },
   "outputs": [
    {
     "data": {
      "text/plain": [
       "0    1\n",
       "1    0\n",
       "2    1\n",
       "3    0\n",
       "4    0\n",
       "Name: exited, dtype: int64"
      ]
     },
     "execution_count": 18,
     "metadata": {},
     "output_type": "execute_result"
    }
   ],
   "source": [
    "target = data['exited']\n",
    "target.head()"
   ]
  },
  {
   "cell_type": "code",
   "execution_count": 19,
   "metadata": {},
   "outputs": [],
   "source": [
    "features_train, features_valid, target_train, target_valid  = \\\n",
    "    train_test_split(features, target, test_size=0.20, random_state=12345)\n",
    "features_train, features_test, target_train, target_test  = \\\n",
    "    train_test_split(features_train, target_train, test_size=0.25, random_state=12345)"
   ]
  },
  {
   "cell_type": "code",
   "execution_count": 20,
   "metadata": {},
   "outputs": [
    {
     "data": {
      "text/plain": [
       "((6000, 11), (6000,))"
      ]
     },
     "execution_count": 20,
     "metadata": {},
     "output_type": "execute_result"
    }
   ],
   "source": [
    "features_train.shape, target_train.shape"
   ]
  },
  {
   "cell_type": "code",
   "execution_count": 21,
   "metadata": {},
   "outputs": [
    {
     "data": {
      "text/plain": [
       "((2000, 11), (2000,))"
      ]
     },
     "execution_count": 21,
     "metadata": {},
     "output_type": "execute_result"
    }
   ],
   "source": [
    "features_valid.shape, target_valid.shape"
   ]
  },
  {
   "cell_type": "code",
   "execution_count": 22,
   "metadata": {},
   "outputs": [
    {
     "data": {
      "text/plain": [
       "((2000, 11), (2000,))"
      ]
     },
     "execution_count": 22,
     "metadata": {},
     "output_type": "execute_result"
    }
   ],
   "source": [
    "features_test.shape, target_test.shape"
   ]
  },
  {
   "cell_type": "markdown",
   "metadata": {},
   "source": [
    "###  Обработка пропусков отдельно для каждой выборки"
   ]
  },
  {
   "cell_type": "code",
   "execution_count": 23,
   "metadata": {},
   "outputs": [
    {
     "data": {
      "text/plain": [
       "credit_score           0\n",
       "age                    0\n",
       "tenure               570\n",
       "balance                0\n",
       "num_of_products        0\n",
       "has_cr_card            0\n",
       "is_active_member       0\n",
       "estimated_salary       0\n",
       "geography_Germany      0\n",
       "geography_Spain        0\n",
       "gender_Male            0\n",
       "dtype: int64"
      ]
     },
     "execution_count": 23,
     "metadata": {},
     "output_type": "execute_result"
    }
   ],
   "source": [
    "features_train.isna().sum()"
   ]
  },
  {
   "cell_type": "code",
   "execution_count": 24,
   "metadata": {},
   "outputs": [
    {
     "data": {
      "text/plain": [
       "5.0"
      ]
     },
     "execution_count": 24,
     "metadata": {},
     "output_type": "execute_result"
    }
   ],
   "source": [
    "features_train['tenure'].median()"
   ]
  },
  {
   "cell_type": "code",
   "execution_count": 25,
   "metadata": {},
   "outputs": [
    {
     "data": {
      "text/plain": [
       "credit_score         0\n",
       "age                  0\n",
       "tenure               0\n",
       "balance              0\n",
       "num_of_products      0\n",
       "has_cr_card          0\n",
       "is_active_member     0\n",
       "estimated_salary     0\n",
       "geography_Germany    0\n",
       "geography_Spain      0\n",
       "gender_Male          0\n",
       "dtype: int64"
      ]
     },
     "execution_count": 25,
     "metadata": {},
     "output_type": "execute_result"
    }
   ],
   "source": [
    "features_train.fillna(features_train['tenure'].median(), inplace=True)\n",
    "features_train.isna().sum()"
   ]
  },
  {
   "cell_type": "code",
   "execution_count": 26,
   "metadata": {},
   "outputs": [
    {
     "data": {
      "text/plain": [
       "credit_score           0\n",
       "age                    0\n",
       "tenure               166\n",
       "balance                0\n",
       "num_of_products        0\n",
       "has_cr_card            0\n",
       "is_active_member       0\n",
       "estimated_salary       0\n",
       "geography_Germany      0\n",
       "geography_Spain        0\n",
       "gender_Male            0\n",
       "dtype: int64"
      ]
     },
     "execution_count": 26,
     "metadata": {},
     "output_type": "execute_result"
    }
   ],
   "source": [
    "features_valid.isna().sum()"
   ]
  },
  {
   "cell_type": "code",
   "execution_count": 27,
   "metadata": {},
   "outputs": [
    {
     "data": {
      "text/plain": [
       "5.0"
      ]
     },
     "execution_count": 27,
     "metadata": {},
     "output_type": "execute_result"
    }
   ],
   "source": [
    "features_valid['tenure'].median()"
   ]
  },
  {
   "cell_type": "code",
   "execution_count": 28,
   "metadata": {},
   "outputs": [
    {
     "data": {
      "text/plain": [
       "credit_score         0\n",
       "age                  0\n",
       "tenure               0\n",
       "balance              0\n",
       "num_of_products      0\n",
       "has_cr_card          0\n",
       "is_active_member     0\n",
       "estimated_salary     0\n",
       "geography_Germany    0\n",
       "geography_Spain      0\n",
       "gender_Male          0\n",
       "dtype: int64"
      ]
     },
     "execution_count": 28,
     "metadata": {},
     "output_type": "execute_result"
    }
   ],
   "source": [
    "features_valid.fillna(features_valid['tenure'].median(), inplace=True)\n",
    "features_valid.isna().sum()"
   ]
  },
  {
   "cell_type": "code",
   "execution_count": 29,
   "metadata": {},
   "outputs": [
    {
     "data": {
      "text/plain": [
       "credit_score           0\n",
       "age                    0\n",
       "tenure               173\n",
       "balance                0\n",
       "num_of_products        0\n",
       "has_cr_card            0\n",
       "is_active_member       0\n",
       "estimated_salary       0\n",
       "geography_Germany      0\n",
       "geography_Spain        0\n",
       "gender_Male            0\n",
       "dtype: int64"
      ]
     },
     "execution_count": 29,
     "metadata": {},
     "output_type": "execute_result"
    }
   ],
   "source": [
    "features_test.isna().sum()"
   ]
  },
  {
   "cell_type": "code",
   "execution_count": 30,
   "metadata": {},
   "outputs": [
    {
     "data": {
      "text/plain": [
       "5.0"
      ]
     },
     "execution_count": 30,
     "metadata": {},
     "output_type": "execute_result"
    }
   ],
   "source": [
    "features_test['tenure'].median()"
   ]
  },
  {
   "cell_type": "code",
   "execution_count": 31,
   "metadata": {},
   "outputs": [
    {
     "data": {
      "text/plain": [
       "credit_score         0\n",
       "age                  0\n",
       "tenure               0\n",
       "balance              0\n",
       "num_of_products      0\n",
       "has_cr_card          0\n",
       "is_active_member     0\n",
       "estimated_salary     0\n",
       "geography_Germany    0\n",
       "geography_Spain      0\n",
       "gender_Male          0\n",
       "dtype: int64"
      ]
     },
     "execution_count": 31,
     "metadata": {},
     "output_type": "execute_result"
    }
   ],
   "source": [
    "features_test.fillna(features_test['tenure'].median(), inplace=True)\n",
    "features_test.isna().sum()"
   ]
  },
  {
   "cell_type": "markdown",
   "metadata": {},
   "source": [
    "**Вывод**\n",
    "\n",
    "Пропуски в данных о том, сколько лет человек является клиентом банка, заполнила медианным значением отдельно для обучающей, тестовой и валидационной выборки, чтобы обучающие данные не повлияли на остальные. Хотя медианное значение и оказалось одинаковым для всех 3 выборок, это может быть не всегда так."
   ]
  },
  {
   "cell_type": "markdown",
   "metadata": {},
   "source": [
    "### Масштабирование признаков"
   ]
  },
  {
   "cell_type": "code",
   "execution_count": 32,
   "metadata": {},
   "outputs": [
    {
     "data": {
      "text/html": [
       "<div>\n",
       "<style scoped>\n",
       "    .dataframe tbody tr th:only-of-type {\n",
       "        vertical-align: middle;\n",
       "    }\n",
       "\n",
       "    .dataframe tbody tr th {\n",
       "        vertical-align: top;\n",
       "    }\n",
       "\n",
       "    .dataframe thead th {\n",
       "        text-align: right;\n",
       "    }\n",
       "</style>\n",
       "<table border=\"1\" class=\"dataframe\">\n",
       "  <thead>\n",
       "    <tr style=\"text-align: right;\">\n",
       "      <th></th>\n",
       "      <th>credit_score</th>\n",
       "      <th>age</th>\n",
       "      <th>tenure</th>\n",
       "      <th>balance</th>\n",
       "      <th>num_of_products</th>\n",
       "      <th>has_cr_card</th>\n",
       "      <th>is_active_member</th>\n",
       "      <th>estimated_salary</th>\n",
       "      <th>geography_Germany</th>\n",
       "      <th>geography_Spain</th>\n",
       "      <th>gender_Male</th>\n",
       "    </tr>\n",
       "  </thead>\n",
       "  <tbody>\n",
       "    <tr>\n",
       "      <th>492</th>\n",
       "      <td>639</td>\n",
       "      <td>38</td>\n",
       "      <td>4</td>\n",
       "      <td>81550.94</td>\n",
       "      <td>2</td>\n",
       "      <td>0</td>\n",
       "      <td>1</td>\n",
       "      <td>118974.77</td>\n",
       "      <td>0</td>\n",
       "      <td>0</td>\n",
       "      <td>0</td>\n",
       "    </tr>\n",
       "    <tr>\n",
       "      <th>6655</th>\n",
       "      <td>554</td>\n",
       "      <td>44</td>\n",
       "      <td>5</td>\n",
       "      <td>85304.27</td>\n",
       "      <td>1</td>\n",
       "      <td>1</td>\n",
       "      <td>1</td>\n",
       "      <td>58076.52</td>\n",
       "      <td>0</td>\n",
       "      <td>0</td>\n",
       "      <td>1</td>\n",
       "    </tr>\n",
       "    <tr>\n",
       "      <th>4287</th>\n",
       "      <td>714</td>\n",
       "      <td>53</td>\n",
       "      <td>1</td>\n",
       "      <td>99141.86</td>\n",
       "      <td>1</td>\n",
       "      <td>1</td>\n",
       "      <td>1</td>\n",
       "      <td>72496.05</td>\n",
       "      <td>1</td>\n",
       "      <td>0</td>\n",
       "      <td>1</td>\n",
       "    </tr>\n",
       "    <tr>\n",
       "      <th>42</th>\n",
       "      <td>556</td>\n",
       "      <td>61</td>\n",
       "      <td>2</td>\n",
       "      <td>117419.35</td>\n",
       "      <td>1</td>\n",
       "      <td>1</td>\n",
       "      <td>1</td>\n",
       "      <td>94153.83</td>\n",
       "      <td>0</td>\n",
       "      <td>0</td>\n",
       "      <td>0</td>\n",
       "    </tr>\n",
       "    <tr>\n",
       "      <th>8178</th>\n",
       "      <td>707</td>\n",
       "      <td>46</td>\n",
       "      <td>7</td>\n",
       "      <td>127476.73</td>\n",
       "      <td>2</td>\n",
       "      <td>1</td>\n",
       "      <td>1</td>\n",
       "      <td>146011.55</td>\n",
       "      <td>0</td>\n",
       "      <td>0</td>\n",
       "      <td>0</td>\n",
       "    </tr>\n",
       "  </tbody>\n",
       "</table>\n",
       "</div>"
      ],
      "text/plain": [
       "      credit_score  age  tenure    balance  num_of_products  has_cr_card  \\\n",
       "492            639   38       4   81550.94                2            0   \n",
       "6655           554   44       5   85304.27                1            1   \n",
       "4287           714   53       1   99141.86                1            1   \n",
       "42             556   61       2  117419.35                1            1   \n",
       "8178           707   46       7  127476.73                2            1   \n",
       "\n",
       "      is_active_member  estimated_salary  geography_Germany  geography_Spain  \\\n",
       "492                  1         118974.77                  0                0   \n",
       "6655                 1          58076.52                  0                0   \n",
       "4287                 1          72496.05                  1                0   \n",
       "42                   1          94153.83                  0                0   \n",
       "8178                 1         146011.55                  0                0   \n",
       "\n",
       "      gender_Male  \n",
       "492             0  \n",
       "6655            1  \n",
       "4287            1  \n",
       "42              0  \n",
       "8178            0  "
      ]
     },
     "execution_count": 32,
     "metadata": {},
     "output_type": "execute_result"
    }
   ],
   "source": [
    "features_train.head()"
   ]
  },
  {
   "cell_type": "code",
   "execution_count": 33,
   "metadata": {},
   "outputs": [
    {
     "data": {
      "text/plain": [
       "StandardScaler()"
      ]
     },
     "execution_count": 33,
     "metadata": {},
     "output_type": "execute_result"
    }
   ],
   "source": [
    "numeric = ['credit_score', 'age', 'tenure', 'balance', 'num_of_products', 'estimated_salary']\n",
    "\n",
    "scaler = StandardScaler()\n",
    "scaler.fit(features_train[numeric])"
   ]
  },
  {
   "cell_type": "code",
   "execution_count": 34,
   "metadata": {},
   "outputs": [
    {
     "data": {
      "text/html": [
       "<div>\n",
       "<style scoped>\n",
       "    .dataframe tbody tr th:only-of-type {\n",
       "        vertical-align: middle;\n",
       "    }\n",
       "\n",
       "    .dataframe tbody tr th {\n",
       "        vertical-align: top;\n",
       "    }\n",
       "\n",
       "    .dataframe thead th {\n",
       "        text-align: right;\n",
       "    }\n",
       "</style>\n",
       "<table border=\"1\" class=\"dataframe\">\n",
       "  <thead>\n",
       "    <tr style=\"text-align: right;\">\n",
       "      <th></th>\n",
       "      <th>credit_score</th>\n",
       "      <th>age</th>\n",
       "      <th>tenure</th>\n",
       "      <th>balance</th>\n",
       "      <th>num_of_products</th>\n",
       "      <th>has_cr_card</th>\n",
       "      <th>is_active_member</th>\n",
       "      <th>estimated_salary</th>\n",
       "      <th>geography_Germany</th>\n",
       "      <th>geography_Spain</th>\n",
       "      <th>gender_Male</th>\n",
       "    </tr>\n",
       "  </thead>\n",
       "  <tbody>\n",
       "    <tr>\n",
       "      <th>492</th>\n",
       "      <td>-0.134048</td>\n",
       "      <td>-0.078068</td>\n",
       "      <td>-0.369113</td>\n",
       "      <td>0.076163</td>\n",
       "      <td>0.816929</td>\n",
       "      <td>0</td>\n",
       "      <td>1</td>\n",
       "      <td>0.331571</td>\n",
       "      <td>0</td>\n",
       "      <td>0</td>\n",
       "      <td>0</td>\n",
       "    </tr>\n",
       "    <tr>\n",
       "      <th>6655</th>\n",
       "      <td>-1.010798</td>\n",
       "      <td>0.494555</td>\n",
       "      <td>-0.007415</td>\n",
       "      <td>0.136391</td>\n",
       "      <td>-0.896909</td>\n",
       "      <td>1</td>\n",
       "      <td>1</td>\n",
       "      <td>-0.727858</td>\n",
       "      <td>0</td>\n",
       "      <td>0</td>\n",
       "      <td>1</td>\n",
       "    </tr>\n",
       "    <tr>\n",
       "      <th>4287</th>\n",
       "      <td>0.639554</td>\n",
       "      <td>1.353490</td>\n",
       "      <td>-1.454209</td>\n",
       "      <td>0.358435</td>\n",
       "      <td>-0.896909</td>\n",
       "      <td>1</td>\n",
       "      <td>1</td>\n",
       "      <td>-0.477006</td>\n",
       "      <td>1</td>\n",
       "      <td>0</td>\n",
       "      <td>1</td>\n",
       "    </tr>\n",
       "    <tr>\n",
       "      <th>42</th>\n",
       "      <td>-0.990168</td>\n",
       "      <td>2.116987</td>\n",
       "      <td>-1.092511</td>\n",
       "      <td>0.651725</td>\n",
       "      <td>-0.896909</td>\n",
       "      <td>1</td>\n",
       "      <td>1</td>\n",
       "      <td>-0.100232</td>\n",
       "      <td>0</td>\n",
       "      <td>0</td>\n",
       "      <td>0</td>\n",
       "    </tr>\n",
       "    <tr>\n",
       "      <th>8178</th>\n",
       "      <td>0.567351</td>\n",
       "      <td>0.685430</td>\n",
       "      <td>0.715982</td>\n",
       "      <td>0.813110</td>\n",
       "      <td>0.816929</td>\n",
       "      <td>1</td>\n",
       "      <td>1</td>\n",
       "      <td>0.801922</td>\n",
       "      <td>0</td>\n",
       "      <td>0</td>\n",
       "      <td>0</td>\n",
       "    </tr>\n",
       "  </tbody>\n",
       "</table>\n",
       "</div>"
      ],
      "text/plain": [
       "      credit_score       age    tenure   balance  num_of_products  \\\n",
       "492      -0.134048 -0.078068 -0.369113  0.076163         0.816929   \n",
       "6655     -1.010798  0.494555 -0.007415  0.136391        -0.896909   \n",
       "4287      0.639554  1.353490 -1.454209  0.358435        -0.896909   \n",
       "42       -0.990168  2.116987 -1.092511  0.651725        -0.896909   \n",
       "8178      0.567351  0.685430  0.715982  0.813110         0.816929   \n",
       "\n",
       "      has_cr_card  is_active_member  estimated_salary  geography_Germany  \\\n",
       "492             0                 1          0.331571                  0   \n",
       "6655            1                 1         -0.727858                  0   \n",
       "4287            1                 1         -0.477006                  1   \n",
       "42              1                 1         -0.100232                  0   \n",
       "8178            1                 1          0.801922                  0   \n",
       "\n",
       "      geography_Spain  gender_Male  \n",
       "492                 0            0  \n",
       "6655                0            1  \n",
       "4287                0            1  \n",
       "42                  0            0  \n",
       "8178                0            0  "
      ]
     },
     "execution_count": 34,
     "metadata": {},
     "output_type": "execute_result"
    }
   ],
   "source": [
    "features_train[numeric] = scaler.transform(features_train[numeric])\n",
    "features_train.head()"
   ]
  },
  {
   "cell_type": "code",
   "execution_count": 35,
   "metadata": {
    "scrolled": true
   },
   "outputs": [
    {
     "data": {
      "text/html": [
       "<div>\n",
       "<style scoped>\n",
       "    .dataframe tbody tr th:only-of-type {\n",
       "        vertical-align: middle;\n",
       "    }\n",
       "\n",
       "    .dataframe tbody tr th {\n",
       "        vertical-align: top;\n",
       "    }\n",
       "\n",
       "    .dataframe thead th {\n",
       "        text-align: right;\n",
       "    }\n",
       "</style>\n",
       "<table border=\"1\" class=\"dataframe\">\n",
       "  <thead>\n",
       "    <tr style=\"text-align: right;\">\n",
       "      <th></th>\n",
       "      <th>credit_score</th>\n",
       "      <th>age</th>\n",
       "      <th>tenure</th>\n",
       "      <th>balance</th>\n",
       "      <th>num_of_products</th>\n",
       "      <th>has_cr_card</th>\n",
       "      <th>is_active_member</th>\n",
       "      <th>estimated_salary</th>\n",
       "      <th>geography_Germany</th>\n",
       "      <th>geography_Spain</th>\n",
       "      <th>gender_Male</th>\n",
       "    </tr>\n",
       "  </thead>\n",
       "  <tbody>\n",
       "    <tr>\n",
       "      <th>7867</th>\n",
       "      <td>-0.123733</td>\n",
       "      <td>0.685430</td>\n",
       "      <td>-0.730812</td>\n",
       "      <td>-1.232442</td>\n",
       "      <td>-0.896909</td>\n",
       "      <td>1</td>\n",
       "      <td>1</td>\n",
       "      <td>0.980212</td>\n",
       "      <td>0</td>\n",
       "      <td>1</td>\n",
       "      <td>0</td>\n",
       "    </tr>\n",
       "    <tr>\n",
       "      <th>1402</th>\n",
       "      <td>1.083087</td>\n",
       "      <td>-0.937002</td>\n",
       "      <td>1.077681</td>\n",
       "      <td>0.858518</td>\n",
       "      <td>-0.896909</td>\n",
       "      <td>1</td>\n",
       "      <td>0</td>\n",
       "      <td>-0.390486</td>\n",
       "      <td>0</td>\n",
       "      <td>0</td>\n",
       "      <td>1</td>\n",
       "    </tr>\n",
       "    <tr>\n",
       "      <th>8606</th>\n",
       "      <td>1.598822</td>\n",
       "      <td>0.303681</td>\n",
       "      <td>-0.007415</td>\n",
       "      <td>-1.232442</td>\n",
       "      <td>0.816929</td>\n",
       "      <td>1</td>\n",
       "      <td>1</td>\n",
       "      <td>-0.435169</td>\n",
       "      <td>0</td>\n",
       "      <td>1</td>\n",
       "      <td>1</td>\n",
       "    </tr>\n",
       "    <tr>\n",
       "      <th>8885</th>\n",
       "      <td>0.165078</td>\n",
       "      <td>0.589993</td>\n",
       "      <td>-0.369113</td>\n",
       "      <td>0.412100</td>\n",
       "      <td>0.816929</td>\n",
       "      <td>1</td>\n",
       "      <td>1</td>\n",
       "      <td>1.017079</td>\n",
       "      <td>0</td>\n",
       "      <td>1</td>\n",
       "      <td>1</td>\n",
       "    </tr>\n",
       "    <tr>\n",
       "      <th>6494</th>\n",
       "      <td>0.484834</td>\n",
       "      <td>-1.032439</td>\n",
       "      <td>0.715982</td>\n",
       "      <td>-1.232442</td>\n",
       "      <td>0.816929</td>\n",
       "      <td>1</td>\n",
       "      <td>1</td>\n",
       "      <td>-1.343558</td>\n",
       "      <td>0</td>\n",
       "      <td>0</td>\n",
       "      <td>1</td>\n",
       "    </tr>\n",
       "  </tbody>\n",
       "</table>\n",
       "</div>"
      ],
      "text/plain": [
       "      credit_score       age    tenure   balance  num_of_products  \\\n",
       "7867     -0.123733  0.685430 -0.730812 -1.232442        -0.896909   \n",
       "1402      1.083087 -0.937002  1.077681  0.858518        -0.896909   \n",
       "8606      1.598822  0.303681 -0.007415 -1.232442         0.816929   \n",
       "8885      0.165078  0.589993 -0.369113  0.412100         0.816929   \n",
       "6494      0.484834 -1.032439  0.715982 -1.232442         0.816929   \n",
       "\n",
       "      has_cr_card  is_active_member  estimated_salary  geography_Germany  \\\n",
       "7867            1                 1          0.980212                  0   \n",
       "1402            1                 0         -0.390486                  0   \n",
       "8606            1                 1         -0.435169                  0   \n",
       "8885            1                 1          1.017079                  0   \n",
       "6494            1                 1         -1.343558                  0   \n",
       "\n",
       "      geography_Spain  gender_Male  \n",
       "7867                1            0  \n",
       "1402                0            1  \n",
       "8606                1            1  \n",
       "8885                1            1  \n",
       "6494                0            1  "
      ]
     },
     "execution_count": 35,
     "metadata": {},
     "output_type": "execute_result"
    }
   ],
   "source": [
    "features_valid[numeric] = scaler.transform(features_valid[numeric])\n",
    "features_valid.head()"
   ]
  },
  {
   "cell_type": "code",
   "execution_count": 36,
   "metadata": {
    "scrolled": false
   },
   "outputs": [
    {
     "data": {
      "text/html": [
       "<div>\n",
       "<style scoped>\n",
       "    .dataframe tbody tr th:only-of-type {\n",
       "        vertical-align: middle;\n",
       "    }\n",
       "\n",
       "    .dataframe tbody tr th {\n",
       "        vertical-align: top;\n",
       "    }\n",
       "\n",
       "    .dataframe thead th {\n",
       "        text-align: right;\n",
       "    }\n",
       "</style>\n",
       "<table border=\"1\" class=\"dataframe\">\n",
       "  <thead>\n",
       "    <tr style=\"text-align: right;\">\n",
       "      <th></th>\n",
       "      <th>credit_score</th>\n",
       "      <th>age</th>\n",
       "      <th>tenure</th>\n",
       "      <th>balance</th>\n",
       "      <th>num_of_products</th>\n",
       "      <th>has_cr_card</th>\n",
       "      <th>is_active_member</th>\n",
       "      <th>estimated_salary</th>\n",
       "      <th>geography_Germany</th>\n",
       "      <th>geography_Spain</th>\n",
       "      <th>gender_Male</th>\n",
       "    </tr>\n",
       "  </thead>\n",
       "  <tbody>\n",
       "    <tr>\n",
       "      <th>2358</th>\n",
       "      <td>0.175393</td>\n",
       "      <td>0.399118</td>\n",
       "      <td>-1.454209</td>\n",
       "      <td>1.385698</td>\n",
       "      <td>-0.896909</td>\n",
       "      <td>0</td>\n",
       "      <td>1</td>\n",
       "      <td>-1.466761</td>\n",
       "      <td>0</td>\n",
       "      <td>0</td>\n",
       "      <td>1</td>\n",
       "    </tr>\n",
       "    <tr>\n",
       "      <th>8463</th>\n",
       "      <td>-1.299609</td>\n",
       "      <td>0.971741</td>\n",
       "      <td>-1.092511</td>\n",
       "      <td>-1.232442</td>\n",
       "      <td>-0.896909</td>\n",
       "      <td>1</td>\n",
       "      <td>0</td>\n",
       "      <td>0.254415</td>\n",
       "      <td>0</td>\n",
       "      <td>1</td>\n",
       "      <td>1</td>\n",
       "    </tr>\n",
       "    <tr>\n",
       "      <th>163</th>\n",
       "      <td>0.711757</td>\n",
       "      <td>-0.268942</td>\n",
       "      <td>-1.092511</td>\n",
       "      <td>-1.232442</td>\n",
       "      <td>0.816929</td>\n",
       "      <td>1</td>\n",
       "      <td>1</td>\n",
       "      <td>0.122863</td>\n",
       "      <td>0</td>\n",
       "      <td>1</td>\n",
       "      <td>0</td>\n",
       "    </tr>\n",
       "    <tr>\n",
       "      <th>3074</th>\n",
       "      <td>-0.391916</td>\n",
       "      <td>0.494555</td>\n",
       "      <td>0.354284</td>\n",
       "      <td>0.672529</td>\n",
       "      <td>-0.896909</td>\n",
       "      <td>1</td>\n",
       "      <td>0</td>\n",
       "      <td>0.585847</td>\n",
       "      <td>1</td>\n",
       "      <td>0</td>\n",
       "      <td>0</td>\n",
       "    </tr>\n",
       "    <tr>\n",
       "      <th>5989</th>\n",
       "      <td>0.165078</td>\n",
       "      <td>1.353490</td>\n",
       "      <td>1.801078</td>\n",
       "      <td>0.536522</td>\n",
       "      <td>-0.896909</td>\n",
       "      <td>0</td>\n",
       "      <td>0</td>\n",
       "      <td>1.462457</td>\n",
       "      <td>0</td>\n",
       "      <td>0</td>\n",
       "      <td>0</td>\n",
       "    </tr>\n",
       "  </tbody>\n",
       "</table>\n",
       "</div>"
      ],
      "text/plain": [
       "      credit_score       age    tenure   balance  num_of_products  \\\n",
       "2358      0.175393  0.399118 -1.454209  1.385698        -0.896909   \n",
       "8463     -1.299609  0.971741 -1.092511 -1.232442        -0.896909   \n",
       "163       0.711757 -0.268942 -1.092511 -1.232442         0.816929   \n",
       "3074     -0.391916  0.494555  0.354284  0.672529        -0.896909   \n",
       "5989      0.165078  1.353490  1.801078  0.536522        -0.896909   \n",
       "\n",
       "      has_cr_card  is_active_member  estimated_salary  geography_Germany  \\\n",
       "2358            0                 1         -1.466761                  0   \n",
       "8463            1                 0          0.254415                  0   \n",
       "163             1                 1          0.122863                  0   \n",
       "3074            1                 0          0.585847                  1   \n",
       "5989            0                 0          1.462457                  0   \n",
       "\n",
       "      geography_Spain  gender_Male  \n",
       "2358                0            1  \n",
       "8463                1            1  \n",
       "163                 1            0  \n",
       "3074                0            0  \n",
       "5989                0            0  "
      ]
     },
     "execution_count": 36,
     "metadata": {},
     "output_type": "execute_result"
    }
   ],
   "source": [
    "features_test[numeric] = scaler.transform(features_test[numeric])\n",
    "features_test.head()"
   ]
  },
  {
   "cell_type": "markdown",
   "metadata": {},
   "source": [
    "**Вывод**\n",
    "\n",
    "Масштабировала признаки во всех трех выборках с обучением на обучающей."
   ]
  },
  {
   "cell_type": "markdown",
   "metadata": {},
   "source": [
    "## Исследование задачи"
   ]
  },
  {
   "cell_type": "markdown",
   "metadata": {},
   "source": [
    "### Исследование баланса классов"
   ]
  },
  {
   "cell_type": "code",
   "execution_count": 37,
   "metadata": {},
   "outputs": [],
   "source": [
    "def get_metrics(model, samples):\n",
    "    model.fit(samples['features_train'], samples['target_train'])\n",
    "    predictions_valid = model.predict(samples['features_valid'])\n",
    "    \n",
    "    f1_score_value = f1_score(samples['target_valid'], predictions_valid)    \n",
    "    \n",
    "    probabilities_valid = model.predict_proba(samples['features_valid'])\n",
    "    probabilities_one_valid = probabilities_valid[:, 1]\n",
    "    roc_auc_score_value = roc_auc_score(samples['target_valid'], probabilities_one_valid)  \n",
    "    \n",
    "    accuracy_score_value = accuracy_score(samples['target_valid'], predictions_valid)  \n",
    "    \n",
    "    return {'f1_score':f1_score_value, 'roc_auc_score':roc_auc_score_value, 'accuracy_score':accuracy_score_value}\n",
    "\n",
    "samples = {'features_train':features_train, 'target_train':target_train, \\\n",
    "           'features_valid':features_valid, 'target_valid':target_valid}"
   ]
  },
  {
   "cell_type": "code",
   "execution_count": 38,
   "metadata": {},
   "outputs": [
    {
     "data": {
      "text/plain": [
       "0    0.7963\n",
       "1    0.2037\n",
       "Name: exited, dtype: float64"
      ]
     },
     "execution_count": 38,
     "metadata": {},
     "output_type": "execute_result"
    }
   ],
   "source": [
    "data['exited'].value_counts(normalize=True)"
   ]
  },
  {
   "cell_type": "code",
   "execution_count": 39,
   "metadata": {},
   "outputs": [],
   "source": [
    "metrics_df = pd.DataFrame(columns = ['model_type', 'disbalance_method', 'depth', 'n_estimators', 'f1_score', 'roc_auc_score', 'accuracy_score'])"
   ]
  },
  {
   "cell_type": "code",
   "execution_count": 40,
   "metadata": {},
   "outputs": [
    {
     "data": {
      "text/html": [
       "<div>\n",
       "<style scoped>\n",
       "    .dataframe tbody tr th:only-of-type {\n",
       "        vertical-align: middle;\n",
       "    }\n",
       "\n",
       "    .dataframe tbody tr th {\n",
       "        vertical-align: top;\n",
       "    }\n",
       "\n",
       "    .dataframe thead th {\n",
       "        text-align: right;\n",
       "    }\n",
       "</style>\n",
       "<table border=\"1\" class=\"dataframe\">\n",
       "  <thead>\n",
       "    <tr style=\"text-align: right;\">\n",
       "      <th></th>\n",
       "      <th>model_type</th>\n",
       "      <th>disbalance_method</th>\n",
       "      <th>depth</th>\n",
       "      <th>n_estimators</th>\n",
       "      <th>f1_score</th>\n",
       "      <th>roc_auc_score</th>\n",
       "      <th>accuracy_score</th>\n",
       "    </tr>\n",
       "  </thead>\n",
       "  <tbody>\n",
       "    <tr>\n",
       "      <th>0</th>\n",
       "      <td>DummyClassifier</td>\n",
       "      <td>-</td>\n",
       "      <td>-</td>\n",
       "      <td>-</td>\n",
       "      <td>0.0</td>\n",
       "      <td>0.5</td>\n",
       "      <td>0.7865</td>\n",
       "    </tr>\n",
       "  </tbody>\n",
       "</table>\n",
       "</div>"
      ],
      "text/plain": [
       "        model_type disbalance_method depth n_estimators  f1_score  \\\n",
       "0  DummyClassifier                 -     -            -       0.0   \n",
       "\n",
       "   roc_auc_score  accuracy_score  \n",
       "0            0.5          0.7865  "
      ]
     },
     "execution_count": 40,
     "metadata": {},
     "output_type": "execute_result"
    }
   ],
   "source": [
    "model = DummyClassifier(strategy=\"most_frequent\", random_state=12345)\n",
    "metrics = get_metrics(model, samples)\n",
    "metrics_df.loc[len(metrics_df.index)] = \\\n",
    "    ['DummyClassifier', '-', '-', '-', metrics['f1_score'], metrics['roc_auc_score'], metrics['accuracy_score']]\n",
    "metrics_df"
   ]
  },
  {
   "cell_type": "markdown",
   "metadata": {},
   "source": [
    "**Вывод**\n",
    "\n",
    "Доля ушедших клиентов в датасете 20%. При этом доля правильных ответов константной модели на валидационной выборке более 78%. Попробуем обучить модель без учета дисбаланса классов и посмотрим значения других метрик."
   ]
  },
  {
   "cell_type": "markdown",
   "metadata": {},
   "source": [
    "### Логистическая регрессия"
   ]
  },
  {
   "cell_type": "code",
   "execution_count": 41,
   "metadata": {
    "scrolled": true
   },
   "outputs": [],
   "source": [
    "def analysis_logistic_regression(samples, class_weight, metrics_df, model_type, method):\n",
    "    model = LogisticRegression(random_state=12345, solver='liblinear', class_weight = class_weight)\n",
    "    metrics = get_metrics(model, samples)\n",
    "    metrics_df.loc[len(metrics_df.index)] = \\\n",
    "        [model_type, method, '-', '-', metrics['f1_score'], metrics['roc_auc_score'], metrics['accuracy_score']]\n",
    "    metrics_df.sort_values(by='f1_score', inplace=True)"
   ]
  },
  {
   "cell_type": "code",
   "execution_count": 42,
   "metadata": {},
   "outputs": [
    {
     "data": {
      "text/html": [
       "<div>\n",
       "<style scoped>\n",
       "    .dataframe tbody tr th:only-of-type {\n",
       "        vertical-align: middle;\n",
       "    }\n",
       "\n",
       "    .dataframe tbody tr th {\n",
       "        vertical-align: top;\n",
       "    }\n",
       "\n",
       "    .dataframe thead th {\n",
       "        text-align: right;\n",
       "    }\n",
       "</style>\n",
       "<table border=\"1\" class=\"dataframe\">\n",
       "  <thead>\n",
       "    <tr style=\"text-align: right;\">\n",
       "      <th></th>\n",
       "      <th>model_type</th>\n",
       "      <th>disbalance_method</th>\n",
       "      <th>depth</th>\n",
       "      <th>n_estimators</th>\n",
       "      <th>f1_score</th>\n",
       "      <th>roc_auc_score</th>\n",
       "      <th>accuracy_score</th>\n",
       "    </tr>\n",
       "  </thead>\n",
       "  <tbody>\n",
       "    <tr>\n",
       "      <th>0</th>\n",
       "      <td>DummyClassifier</td>\n",
       "      <td>-</td>\n",
       "      <td>-</td>\n",
       "      <td>-</td>\n",
       "      <td>0.000000</td>\n",
       "      <td>0.5000</td>\n",
       "      <td>0.7865</td>\n",
       "    </tr>\n",
       "    <tr>\n",
       "      <th>1</th>\n",
       "      <td>LogisticRegression</td>\n",
       "      <td>-</td>\n",
       "      <td>-</td>\n",
       "      <td>-</td>\n",
       "      <td>0.300699</td>\n",
       "      <td>0.7581</td>\n",
       "      <td>0.8000</td>\n",
       "    </tr>\n",
       "  </tbody>\n",
       "</table>\n",
       "</div>"
      ],
      "text/plain": [
       "           model_type disbalance_method depth n_estimators  f1_score  \\\n",
       "0     DummyClassifier                 -     -            -  0.000000   \n",
       "1  LogisticRegression                 -     -            -  0.300699   \n",
       "\n",
       "   roc_auc_score  accuracy_score  \n",
       "0         0.5000          0.7865  \n",
       "1         0.7581          0.8000  "
      ]
     },
     "execution_count": 42,
     "metadata": {},
     "output_type": "execute_result"
    }
   ],
   "source": [
    "analysis_logistic_regression(samples, None, metrics_df, 'LogisticRegression', '-')    \n",
    "metrics_df"
   ]
  },
  {
   "cell_type": "markdown",
   "metadata": {},
   "source": [
    "**Вывод**\n",
    "\n",
    "Обучила модель \"Логистическая регрессия\" на тренировочной выборке.\n",
    "\n",
    "В итоге accuracy модели на валидационной выборке составляет 0.8, что чуть больше, чем у константной модели. При этом F1-мера 0.300699, площадь под ROC-кривой 0.7581. "
   ]
  },
  {
   "cell_type": "markdown",
   "metadata": {},
   "source": [
    "### Дерево решений"
   ]
  },
  {
   "cell_type": "code",
   "execution_count": 43,
   "metadata": {},
   "outputs": [],
   "source": [
    "def analysis_decision_tree_classifier(samples, class_weight, metrics_df, model_type, method):  \n",
    "    metrics_data = []\n",
    "    best_depth = 0\n",
    "    best_f1_score = 0\n",
    "    best_roc_auc = 0\n",
    "    best_accuracy = 0\n",
    "\n",
    "    for depth in range(1, 26):\n",
    "      model = DecisionTreeClassifier(random_state=12345, max_depth = depth, class_weight = class_weight)  \n",
    "      metrics = get_metrics(model, samples)\n",
    "\n",
    "      metrics_data.append(['f1_score', depth, metrics['f1_score']]) \n",
    "      metrics_data.append(['roc_auc_score', depth, metrics['roc_auc_score']])   \n",
    "      metrics_data.append(['accuracy_score', depth, metrics['accuracy_score']])    \n",
    "\n",
    "      if metrics['f1_score'] > best_f1_score:\n",
    "        best_f1_score = metrics['f1_score']\n",
    "        best_depth = depth\n",
    "        best_roc_auc = metrics['roc_auc_score']\n",
    "        best_accuracy = metrics['accuracy_score']\n",
    "\n",
    "    pd.DataFrame(data = metrics_data, columns = ['metric_name', 'depth', 'metric_value']) \\\n",
    "        .pivot_table(index = 'depth', columns = 'metric_name', values = 'metric_value', aggfunc = 'sum') \\\n",
    "        .plot(title = 'Зависимость значений метрик дерева решений от глубины', grid = True, figsize=(8, 5))    \n",
    "\n",
    "    print('F1-мера наилучшей модели на валидационной выборке:', best_f1_score, 'Глубина дерева:', best_depth, \\\n",
    "          'AUC-ROC', best_roc_auc)    \n",
    "    plt.show()\n",
    "    \n",
    "    metrics_df.loc[len(metrics_df.index)] = \\\n",
    "        [model_type, method, best_depth, '-', best_f1_score, best_roc_auc, best_accuracy]\n",
    "    metrics_df.sort_values(by='f1_score', inplace=True)"
   ]
  },
  {
   "cell_type": "code",
   "execution_count": 44,
   "metadata": {},
   "outputs": [
    {
     "name": "stdout",
     "output_type": "stream",
     "text": [
      "F1-мера наилучшей модели на валидационной выборке: 0.5608011444921316 Глубина дерева: 5 AUC-ROC 0.8468610376210971\n"
     ]
    },
    {
     "data": {
      "image/png": "[encoded data removed]",
      "text/plain": [
       "<Figure size 576x360 with 1 Axes>"
      ]
     },
     "metadata": {
      "needs_background": "light"
     },
     "output_type": "display_data"
    },
    {
     "data": {
      "text/html": [
       "<div>\n",
       "<style scoped>\n",
       "    .dataframe tbody tr th:only-of-type {\n",
       "        vertical-align: middle;\n",
       "    }\n",
       "\n",
       "    .dataframe tbody tr th {\n",
       "        vertical-align: top;\n",
       "    }\n",
       "\n",
       "    .dataframe thead th {\n",
       "        text-align: right;\n",
       "    }\n",
       "</style>\n",
       "<table border=\"1\" class=\"dataframe\">\n",
       "  <thead>\n",
       "    <tr style=\"text-align: right;\">\n",
       "      <th></th>\n",
       "      <th>model_type</th>\n",
       "      <th>disbalance_method</th>\n",
       "      <th>depth</th>\n",
       "      <th>n_estimators</th>\n",
       "      <th>f1_score</th>\n",
       "      <th>roc_auc_score</th>\n",
       "      <th>accuracy_score</th>\n",
       "    </tr>\n",
       "  </thead>\n",
       "  <tbody>\n",
       "    <tr>\n",
       "      <th>0</th>\n",
       "      <td>DummyClassifier</td>\n",
       "      <td>-</td>\n",
       "      <td>-</td>\n",
       "      <td>-</td>\n",
       "      <td>0.000000</td>\n",
       "      <td>0.500000</td>\n",
       "      <td>0.7865</td>\n",
       "    </tr>\n",
       "    <tr>\n",
       "      <th>1</th>\n",
       "      <td>LogisticRegression</td>\n",
       "      <td>-</td>\n",
       "      <td>-</td>\n",
       "      <td>-</td>\n",
       "      <td>0.300699</td>\n",
       "      <td>0.758100</td>\n",
       "      <td>0.8000</td>\n",
       "    </tr>\n",
       "    <tr>\n",
       "      <th>2</th>\n",
       "      <td>DecisionTreeClassifier</td>\n",
       "      <td>-</td>\n",
       "      <td>5</td>\n",
       "      <td>-</td>\n",
       "      <td>0.560801</td>\n",
       "      <td>0.846861</td>\n",
       "      <td>0.8465</td>\n",
       "    </tr>\n",
       "  </tbody>\n",
       "</table>\n",
       "</div>"
      ],
      "text/plain": [
       "               model_type disbalance_method depth n_estimators  f1_score  \\\n",
       "0         DummyClassifier                 -     -            -  0.000000   \n",
       "1      LogisticRegression                 -     -            -  0.300699   \n",
       "2  DecisionTreeClassifier                 -     5            -  0.560801   \n",
       "\n",
       "   roc_auc_score  accuracy_score  \n",
       "0       0.500000          0.7865  \n",
       "1       0.758100          0.8000  \n",
       "2       0.846861          0.8465  "
      ]
     },
     "execution_count": 44,
     "metadata": {},
     "output_type": "execute_result"
    }
   ],
   "source": [
    "analysis_decision_tree_classifier(samples, None, metrics_df, 'DecisionTreeClassifier', '-') \n",
    "metrics_df"
   ]
  },
  {
   "cell_type": "markdown",
   "metadata": {},
   "source": [
    "**Вывод**\n",
    "\n",
    "Обучила модель \"Решающее дерево\" на тренировочной выборке, поэкспериментировав с разной глубиной дерева.\n",
    " \n",
    "В итоге F1-мера наилучшей модели на валидационной выборке составляет 0.560801 - при глубине дерева 5. Площадь под ROC-кривой 0.846861. На графике видим зависимость между accuracy, F1-мерой и AUC-ROC."
   ]
  },
  {
   "cell_type": "markdown",
   "metadata": {},
   "source": [
    "### Случайный лес"
   ]
  },
  {
   "cell_type": "code",
   "execution_count": 45,
   "metadata": {
    "scrolled": true
   },
   "outputs": [],
   "source": [
    "def analysis_random_forest_classifier(samples, class_weight, metrics_df, model_type, method):\n",
    "    metrics_data_best_depth = []\n",
    "    metrics_data_best_est = []\n",
    "    best_depth = 0\n",
    "    best_est = 0\n",
    "    best_f1_score = 0\n",
    "    best_roc_auc = 0\n",
    "    best_accuracy = 0\n",
    "\n",
    "    for est in range(1, 51):\n",
    "        for depth in range(1, 26):\n",
    "          model = RandomForestClassifier(random_state=12345, n_estimators=est, max_depth = depth, class_weight = class_weight)\n",
    "          metrics = get_metrics(model, samples)   \n",
    "\n",
    "          if metrics['f1_score'] > best_f1_score:\n",
    "            best_f1_score = metrics['f1_score']\n",
    "            best_depth = depth\n",
    "            best_est = est\n",
    "            best_roc_auc = metrics['roc_auc_score']  \n",
    "            best_accuracy = metrics['accuracy_score'] \n",
    "\n",
    "    print('F1-мера наилучшей модели на валидационной выборке:', best_f1_score, 'Количество деревьев', best_est, \\\n",
    "          'Глубина дерева:', best_depth, 'AUC-ROC', best_roc_auc)\n",
    "    \n",
    "    for est in range(1, 51):\n",
    "        model = RandomForestClassifier(random_state=12345, n_estimators=est, max_depth = best_depth, class_weight = class_weight)\n",
    "        metrics = get_metrics(model, samples) \n",
    "         \n",
    "        metrics_data_best_depth.append(['f1_score', est, metrics['f1_score']]) \n",
    "        metrics_data_best_depth.append(['roc_auc_score', est, metrics['roc_auc_score']])   \n",
    "        metrics_data_best_depth.append(['accuracy_score', est, metrics['accuracy_score']])        \n",
    "        \n",
    "    pd.DataFrame(data = metrics_data_best_depth, columns = ['metric_name', 'est', 'metric_value']) \\\n",
    "        .pivot_table(index = 'est', columns = 'metric_name', values = 'metric_value', aggfunc = 'sum') \\\n",
    "        .plot(title = f'Зависимость значений метрик дерева решений от количества деревьев при глубине дерева {best_depth}', grid = True, figsize=(8, 5))            \n",
    "        \n",
    "\n",
    "        \n",
    "    for depth in range(1, 26):\n",
    "        model = RandomForestClassifier(random_state=12345, n_estimators=best_est, max_depth = depth, class_weight = class_weight)\n",
    "        metrics = get_metrics(model, samples) \n",
    "         \n",
    "        metrics_data_best_est.append(['f1_score', depth, metrics['f1_score']]) \n",
    "        metrics_data_best_est.append(['roc_auc_score', depth, metrics['roc_auc_score']])   \n",
    "        metrics_data_best_est.append(['accuracy_score', depth, metrics['accuracy_score']])        \n",
    "             \n",
    "    pd.DataFrame(data = metrics_data_best_est, columns = ['metric_name', 'depth', 'metric_value']) \\\n",
    "        .pivot_table(index = 'depth', columns = 'metric_name', values = 'metric_value', aggfunc = 'sum') \\\n",
    "        .plot(title = f'Зависимость значений метрик дерева решений от глубины при количестве деревьев {best_est}', grid = True, figsize=(8, 5))     \n",
    "            \n",
    "    plt.show()    \n",
    "        \n",
    "    metrics_df.loc[len(metrics_df.index)] = \\\n",
    "        [model_type, method, best_depth, best_est, best_f1_score, best_roc_auc, best_accuracy]\n",
    "    metrics_df.sort_values(by='f1_score', inplace=True)"
   ]
  },
  {
   "cell_type": "code",
   "execution_count": 46,
   "metadata": {
    "scrolled": false
   },
   "outputs": [
    {
     "name": "stdout",
     "output_type": "stream",
     "text": [
      "F1-мера наилучшей модели на валидационной выборке: 0.5897435897435896 Количество деревьев 31 Глубина дерева: 20 AUC-ROC 0.8485180988906773\n"
     ]
    },
    {
     "data": {
      "image/png": "[encoded data removed]",
      "text/plain": [
       "<Figure size 576x360 with 1 Axes>"
      ]
     },
     "metadata": {
      "needs_background": "light"
     },
     "output_type": "display_data"
    },
    {
     "data": {
      "image/png": "[encoded data removed]",
      "text/plain": [
       "<Figure size 576x360 with 1 Axes>"
      ]
     },
     "metadata": {
      "needs_background": "light"
     },
     "output_type": "display_data"
    },
    {
     "name": "stdout",
     "output_type": "stream",
     "text": [
      "CPU times: user 3min 16s, sys: 907 ms, total: 3min 17s\n",
      "Wall time: 3min 17s\n"
     ]
    },
    {
     "data": {
      "text/html": [
       "<div>\n",
       "<style scoped>\n",
       "    .dataframe tbody tr th:only-of-type {\n",
       "        vertical-align: middle;\n",
       "    }\n",
       "\n",
       "    .dataframe tbody tr th {\n",
       "        vertical-align: top;\n",
       "    }\n",
       "\n",
       "    .dataframe thead th {\n",
       "        text-align: right;\n",
       "    }\n",
       "</style>\n",
       "<table border=\"1\" class=\"dataframe\">\n",
       "  <thead>\n",
       "    <tr style=\"text-align: right;\">\n",
       "      <th></th>\n",
       "      <th>model_type</th>\n",
       "      <th>disbalance_method</th>\n",
       "      <th>depth</th>\n",
       "      <th>n_estimators</th>\n",
       "      <th>f1_score</th>\n",
       "      <th>roc_auc_score</th>\n",
       "      <th>accuracy_score</th>\n",
       "    </tr>\n",
       "  </thead>\n",
       "  <tbody>\n",
       "    <tr>\n",
       "      <th>0</th>\n",
       "      <td>DummyClassifier</td>\n",
       "      <td>-</td>\n",
       "      <td>-</td>\n",
       "      <td>-</td>\n",
       "      <td>0.000000</td>\n",
       "      <td>0.500000</td>\n",
       "      <td>0.7865</td>\n",
       "    </tr>\n",
       "    <tr>\n",
       "      <th>1</th>\n",
       "      <td>LogisticRegression</td>\n",
       "      <td>-</td>\n",
       "      <td>-</td>\n",
       "      <td>-</td>\n",
       "      <td>0.300699</td>\n",
       "      <td>0.758100</td>\n",
       "      <td>0.8000</td>\n",
       "    </tr>\n",
       "    <tr>\n",
       "      <th>2</th>\n",
       "      <td>DecisionTreeClassifier</td>\n",
       "      <td>-</td>\n",
       "      <td>5</td>\n",
       "      <td>-</td>\n",
       "      <td>0.560801</td>\n",
       "      <td>0.846861</td>\n",
       "      <td>0.8465</td>\n",
       "    </tr>\n",
       "    <tr>\n",
       "      <th>3</th>\n",
       "      <td>RandomForestClassifier</td>\n",
       "      <td>-</td>\n",
       "      <td>20</td>\n",
       "      <td>31</td>\n",
       "      <td>0.589744</td>\n",
       "      <td>0.848518</td>\n",
       "      <td>0.8560</td>\n",
       "    </tr>\n",
       "  </tbody>\n",
       "</table>\n",
       "</div>"
      ],
      "text/plain": [
       "               model_type disbalance_method depth n_estimators  f1_score  \\\n",
       "0         DummyClassifier                 -     -            -  0.000000   \n",
       "1      LogisticRegression                 -     -            -  0.300699   \n",
       "2  DecisionTreeClassifier                 -     5            -  0.560801   \n",
       "3  RandomForestClassifier                 -    20           31  0.589744   \n",
       "\n",
       "   roc_auc_score  accuracy_score  \n",
       "0       0.500000          0.7865  \n",
       "1       0.758100          0.8000  \n",
       "2       0.846861          0.8465  \n",
       "3       0.848518          0.8560  "
      ]
     },
     "execution_count": 46,
     "metadata": {},
     "output_type": "execute_result"
    }
   ],
   "source": [
    "%%time\n",
    "analysis_random_forest_classifier(samples, None, metrics_df, 'RandomForestClassifier', '-') \n",
    "metrics_df"
   ]
  },
  {
   "cell_type": "markdown",
   "metadata": {},
   "source": [
    "**Вывод**\n",
    "\n",
    "Обучила модель \"Случайный лес\" на тренировочной выборке, поэкспериментировав с разным количеством деревьев и глубиной дерева.\n",
    "\n",
    "В итоге F1-мера наилучшей модели на валидационной выборке составляет 0.589744 - при глубине дерева 20 и количестве деревьев 31. Площадь под ROC-кривой 0.848518. \n",
    "\n",
    "Построила графики для количества деревьев 31 и с разной глубиной и для глубины 20 и с разным количеством деревьев."
   ]
  },
  {
   "cell_type": "markdown",
   "metadata": {},
   "source": [
    "### Общий вывод"
   ]
  },
  {
   "cell_type": "markdown",
   "metadata": {},
   "source": [
    "В итоге при дисбалансе классов при доле положительных результатов в 20% наилучшая модель (из трех рассмотренных с разными гиперпараметрами) - случайный лес с количеством деревьев 31 и максимальной глубиной дерева 20. При использовании такой модели F1-мера на валидационной выборке составляет 0.589744. \n",
    "\n",
    "Метрика AUC-ROC демонстрирует прямую зависимость от F1-меры и составляет в этой модели 0.848518."
   ]
  },
  {
   "cell_type": "markdown",
   "metadata": {},
   "source": [
    "## Борьба с дисбалансом"
   ]
  },
  {
   "cell_type": "markdown",
   "metadata": {},
   "source": [
    "### Взвешивание классов"
   ]
  },
  {
   "cell_type": "markdown",
   "metadata": {},
   "source": [
    "#### Логистическая регрессия"
   ]
  },
  {
   "cell_type": "code",
   "execution_count": 47,
   "metadata": {},
   "outputs": [
    {
     "data": {
      "text/html": [
       "<div>\n",
       "<style scoped>\n",
       "    .dataframe tbody tr th:only-of-type {\n",
       "        vertical-align: middle;\n",
       "    }\n",
       "\n",
       "    .dataframe tbody tr th {\n",
       "        vertical-align: top;\n",
       "    }\n",
       "\n",
       "    .dataframe thead th {\n",
       "        text-align: right;\n",
       "    }\n",
       "</style>\n",
       "<table border=\"1\" class=\"dataframe\">\n",
       "  <thead>\n",
       "    <tr style=\"text-align: right;\">\n",
       "      <th></th>\n",
       "      <th>model_type</th>\n",
       "      <th>disbalance_method</th>\n",
       "      <th>depth</th>\n",
       "      <th>n_estimators</th>\n",
       "      <th>f1_score</th>\n",
       "      <th>roc_auc_score</th>\n",
       "      <th>accuracy_score</th>\n",
       "    </tr>\n",
       "  </thead>\n",
       "  <tbody>\n",
       "    <tr>\n",
       "      <th>0</th>\n",
       "      <td>DummyClassifier</td>\n",
       "      <td>-</td>\n",
       "      <td>-</td>\n",
       "      <td>-</td>\n",
       "      <td>0.000000</td>\n",
       "      <td>0.500000</td>\n",
       "      <td>0.7865</td>\n",
       "    </tr>\n",
       "    <tr>\n",
       "      <th>1</th>\n",
       "      <td>LogisticRegression</td>\n",
       "      <td>-</td>\n",
       "      <td>-</td>\n",
       "      <td>-</td>\n",
       "      <td>0.300699</td>\n",
       "      <td>0.758100</td>\n",
       "      <td>0.8000</td>\n",
       "    </tr>\n",
       "    <tr>\n",
       "      <th>4</th>\n",
       "      <td>LogisticRegression</td>\n",
       "      <td>balanced</td>\n",
       "      <td>-</td>\n",
       "      <td>-</td>\n",
       "      <td>0.502934</td>\n",
       "      <td>0.763819</td>\n",
       "      <td>0.7035</td>\n",
       "    </tr>\n",
       "    <tr>\n",
       "      <th>2</th>\n",
       "      <td>DecisionTreeClassifier</td>\n",
       "      <td>-</td>\n",
       "      <td>5</td>\n",
       "      <td>-</td>\n",
       "      <td>0.560801</td>\n",
       "      <td>0.846861</td>\n",
       "      <td>0.8465</td>\n",
       "    </tr>\n",
       "    <tr>\n",
       "      <th>3</th>\n",
       "      <td>RandomForestClassifier</td>\n",
       "      <td>-</td>\n",
       "      <td>20</td>\n",
       "      <td>31</td>\n",
       "      <td>0.589744</td>\n",
       "      <td>0.848518</td>\n",
       "      <td>0.8560</td>\n",
       "    </tr>\n",
       "  </tbody>\n",
       "</table>\n",
       "</div>"
      ],
      "text/plain": [
       "               model_type disbalance_method depth n_estimators  f1_score  \\\n",
       "0         DummyClassifier                 -     -            -  0.000000   \n",
       "1      LogisticRegression                 -     -            -  0.300699   \n",
       "4      LogisticRegression          balanced     -            -  0.502934   \n",
       "2  DecisionTreeClassifier                 -     5            -  0.560801   \n",
       "3  RandomForestClassifier                 -    20           31  0.589744   \n",
       "\n",
       "   roc_auc_score  accuracy_score  \n",
       "0       0.500000          0.7865  \n",
       "1       0.758100          0.8000  \n",
       "4       0.763819          0.7035  \n",
       "2       0.846861          0.8465  \n",
       "3       0.848518          0.8560  "
      ]
     },
     "execution_count": 47,
     "metadata": {},
     "output_type": "execute_result"
    }
   ],
   "source": [
    "analysis_logistic_regression(samples, 'balanced', metrics_df, 'LogisticRegression', 'balanced') \n",
    "metrics_df"
   ]
  },
  {
   "cell_type": "markdown",
   "metadata": {},
   "source": [
    "#### Дерево решений"
   ]
  },
  {
   "cell_type": "code",
   "execution_count": 48,
   "metadata": {},
   "outputs": [
    {
     "name": "stdout",
     "output_type": "stream",
     "text": [
      "F1-мера наилучшей модели на валидационной выборке: 0.595617529880478 Глубина дерева: 8 AUC-ROC 0.8077354835924135\n"
     ]
    },
    {
     "data": {
      "image/png": "[encoded data removed]",
      "text/plain": [
       "<Figure size 576x360 with 1 Axes>"
      ]
     },
     "metadata": {
      "needs_background": "light"
     },
     "output_type": "display_data"
    },
    {
     "data": {
      "text/html": [
       "<div>\n",
       "<style scoped>\n",
       "    .dataframe tbody tr th:only-of-type {\n",
       "        vertical-align: middle;\n",
       "    }\n",
       "\n",
       "    .dataframe tbody tr th {\n",
       "        vertical-align: top;\n",
       "    }\n",
       "\n",
       "    .dataframe thead th {\n",
       "        text-align: right;\n",
       "    }\n",
       "</style>\n",
       "<table border=\"1\" class=\"dataframe\">\n",
       "  <thead>\n",
       "    <tr style=\"text-align: right;\">\n",
       "      <th></th>\n",
       "      <th>model_type</th>\n",
       "      <th>disbalance_method</th>\n",
       "      <th>depth</th>\n",
       "      <th>n_estimators</th>\n",
       "      <th>f1_score</th>\n",
       "      <th>roc_auc_score</th>\n",
       "      <th>accuracy_score</th>\n",
       "    </tr>\n",
       "  </thead>\n",
       "  <tbody>\n",
       "    <tr>\n",
       "      <th>0</th>\n",
       "      <td>DummyClassifier</td>\n",
       "      <td>-</td>\n",
       "      <td>-</td>\n",
       "      <td>-</td>\n",
       "      <td>0.000000</td>\n",
       "      <td>0.500000</td>\n",
       "      <td>0.7865</td>\n",
       "    </tr>\n",
       "    <tr>\n",
       "      <th>1</th>\n",
       "      <td>LogisticRegression</td>\n",
       "      <td>-</td>\n",
       "      <td>-</td>\n",
       "      <td>-</td>\n",
       "      <td>0.300699</td>\n",
       "      <td>0.758100</td>\n",
       "      <td>0.8000</td>\n",
       "    </tr>\n",
       "    <tr>\n",
       "      <th>4</th>\n",
       "      <td>LogisticRegression</td>\n",
       "      <td>balanced</td>\n",
       "      <td>-</td>\n",
       "      <td>-</td>\n",
       "      <td>0.502934</td>\n",
       "      <td>0.763819</td>\n",
       "      <td>0.7035</td>\n",
       "    </tr>\n",
       "    <tr>\n",
       "      <th>2</th>\n",
       "      <td>DecisionTreeClassifier</td>\n",
       "      <td>-</td>\n",
       "      <td>5</td>\n",
       "      <td>-</td>\n",
       "      <td>0.560801</td>\n",
       "      <td>0.846861</td>\n",
       "      <td>0.8465</td>\n",
       "    </tr>\n",
       "    <tr>\n",
       "      <th>3</th>\n",
       "      <td>RandomForestClassifier</td>\n",
       "      <td>-</td>\n",
       "      <td>20</td>\n",
       "      <td>31</td>\n",
       "      <td>0.589744</td>\n",
       "      <td>0.848518</td>\n",
       "      <td>0.8560</td>\n",
       "    </tr>\n",
       "    <tr>\n",
       "      <th>5</th>\n",
       "      <td>DecisionTreeClassifier</td>\n",
       "      <td>balanced</td>\n",
       "      <td>8</td>\n",
       "      <td>-</td>\n",
       "      <td>0.595618</td>\n",
       "      <td>0.807735</td>\n",
       "      <td>0.7970</td>\n",
       "    </tr>\n",
       "  </tbody>\n",
       "</table>\n",
       "</div>"
      ],
      "text/plain": [
       "               model_type disbalance_method depth n_estimators  f1_score  \\\n",
       "0         DummyClassifier                 -     -            -  0.000000   \n",
       "1      LogisticRegression                 -     -            -  0.300699   \n",
       "4      LogisticRegression          balanced     -            -  0.502934   \n",
       "2  DecisionTreeClassifier                 -     5            -  0.560801   \n",
       "3  RandomForestClassifier                 -    20           31  0.589744   \n",
       "5  DecisionTreeClassifier          balanced     8            -  0.595618   \n",
       "\n",
       "   roc_auc_score  accuracy_score  \n",
       "0       0.500000          0.7865  \n",
       "1       0.758100          0.8000  \n",
       "4       0.763819          0.7035  \n",
       "2       0.846861          0.8465  \n",
       "3       0.848518          0.8560  \n",
       "5       0.807735          0.7970  "
      ]
     },
     "execution_count": 48,
     "metadata": {},
     "output_type": "execute_result"
    }
   ],
   "source": [
    "analysis_decision_tree_classifier(samples, 'balanced', metrics_df, 'DecisionTreeClassifier', 'balanced') \n",
    "metrics_df"
   ]
  },
  {
   "cell_type": "markdown",
   "metadata": {},
   "source": [
    "#### Случайный лес"
   ]
  },
  {
   "cell_type": "code",
   "execution_count": 49,
   "metadata": {
    "scrolled": false
   },
   "outputs": [
    {
     "name": "stdout",
     "output_type": "stream",
     "text": [
      "F1-мера наилучшей модели на валидационной выборке: 0.6453546453546454 Количество деревьев 39 Глубина дерева: 7 AUC-ROC 0.8701938895679582\n"
     ]
    },
    {
     "data": {
      "image/png": "[encoded data removed]",
      "text/plain": [
       "<Figure size 576x360 with 1 Axes>"
      ]
     },
     "metadata": {
      "needs_background": "light"
     },
     "output_type": "display_data"
    },
    {
     "data": {
      "image/png": "[encoded data removed]",
      "text/plain": [
       "<Figure size 576x360 with 1 Axes>"
      ]
     },
     "metadata": {
      "needs_background": "light"
     },
     "output_type": "display_data"
    },
    {
     "name": "stdout",
     "output_type": "stream",
     "text": [
      "CPU times: user 3min 17s, sys: 716 ms, total: 3min 18s\n",
      "Wall time: 3min 18s\n"
     ]
    },
    {
     "data": {
      "text/html": [
       "<div>\n",
       "<style scoped>\n",
       "    .dataframe tbody tr th:only-of-type {\n",
       "        vertical-align: middle;\n",
       "    }\n",
       "\n",
       "    .dataframe tbody tr th {\n",
       "        vertical-align: top;\n",
       "    }\n",
       "\n",
       "    .dataframe thead th {\n",
       "        text-align: right;\n",
       "    }\n",
       "</style>\n",
       "<table border=\"1\" class=\"dataframe\">\n",
       "  <thead>\n",
       "    <tr style=\"text-align: right;\">\n",
       "      <th></th>\n",
       "      <th>model_type</th>\n",
       "      <th>disbalance_method</th>\n",
       "      <th>depth</th>\n",
       "      <th>n_estimators</th>\n",
       "      <th>f1_score</th>\n",
       "      <th>roc_auc_score</th>\n",
       "      <th>accuracy_score</th>\n",
       "    </tr>\n",
       "  </thead>\n",
       "  <tbody>\n",
       "    <tr>\n",
       "      <th>0</th>\n",
       "      <td>DummyClassifier</td>\n",
       "      <td>-</td>\n",
       "      <td>-</td>\n",
       "      <td>-</td>\n",
       "      <td>0.000000</td>\n",
       "      <td>0.500000</td>\n",
       "      <td>0.7865</td>\n",
       "    </tr>\n",
       "    <tr>\n",
       "      <th>1</th>\n",
       "      <td>LogisticRegression</td>\n",
       "      <td>-</td>\n",
       "      <td>-</td>\n",
       "      <td>-</td>\n",
       "      <td>0.300699</td>\n",
       "      <td>0.758100</td>\n",
       "      <td>0.8000</td>\n",
       "    </tr>\n",
       "    <tr>\n",
       "      <th>4</th>\n",
       "      <td>LogisticRegression</td>\n",
       "      <td>balanced</td>\n",
       "      <td>-</td>\n",
       "      <td>-</td>\n",
       "      <td>0.502934</td>\n",
       "      <td>0.763819</td>\n",
       "      <td>0.7035</td>\n",
       "    </tr>\n",
       "    <tr>\n",
       "      <th>2</th>\n",
       "      <td>DecisionTreeClassifier</td>\n",
       "      <td>-</td>\n",
       "      <td>5</td>\n",
       "      <td>-</td>\n",
       "      <td>0.560801</td>\n",
       "      <td>0.846861</td>\n",
       "      <td>0.8465</td>\n",
       "    </tr>\n",
       "    <tr>\n",
       "      <th>3</th>\n",
       "      <td>RandomForestClassifier</td>\n",
       "      <td>-</td>\n",
       "      <td>20</td>\n",
       "      <td>31</td>\n",
       "      <td>0.589744</td>\n",
       "      <td>0.848518</td>\n",
       "      <td>0.8560</td>\n",
       "    </tr>\n",
       "    <tr>\n",
       "      <th>5</th>\n",
       "      <td>DecisionTreeClassifier</td>\n",
       "      <td>balanced</td>\n",
       "      <td>8</td>\n",
       "      <td>-</td>\n",
       "      <td>0.595618</td>\n",
       "      <td>0.807735</td>\n",
       "      <td>0.7970</td>\n",
       "    </tr>\n",
       "    <tr>\n",
       "      <th>6</th>\n",
       "      <td>RandomForestClassifier</td>\n",
       "      <td>balanced</td>\n",
       "      <td>7</td>\n",
       "      <td>39</td>\n",
       "      <td>0.645355</td>\n",
       "      <td>0.870194</td>\n",
       "      <td>0.8225</td>\n",
       "    </tr>\n",
       "  </tbody>\n",
       "</table>\n",
       "</div>"
      ],
      "text/plain": [
       "               model_type disbalance_method depth n_estimators  f1_score  \\\n",
       "0         DummyClassifier                 -     -            -  0.000000   \n",
       "1      LogisticRegression                 -     -            -  0.300699   \n",
       "4      LogisticRegression          balanced     -            -  0.502934   \n",
       "2  DecisionTreeClassifier                 -     5            -  0.560801   \n",
       "3  RandomForestClassifier                 -    20           31  0.589744   \n",
       "5  DecisionTreeClassifier          balanced     8            -  0.595618   \n",
       "6  RandomForestClassifier          balanced     7           39  0.645355   \n",
       "\n",
       "   roc_auc_score  accuracy_score  \n",
       "0       0.500000          0.7865  \n",
       "1       0.758100          0.8000  \n",
       "4       0.763819          0.7035  \n",
       "2       0.846861          0.8465  \n",
       "3       0.848518          0.8560  \n",
       "5       0.807735          0.7970  \n",
       "6       0.870194          0.8225  "
      ]
     },
     "execution_count": 49,
     "metadata": {},
     "output_type": "execute_result"
    }
   ],
   "source": [
    "%%time\n",
    "analysis_random_forest_classifier(samples, 'balanced', metrics_df, 'RandomForestClassifier', 'balanced') \n",
    "metrics_df"
   ]
  },
  {
   "cell_type": "markdown",
   "metadata": {},
   "source": [
    "**Вывод**\n",
    "\n",
    "После использования взвешивания классов все виды моделей показывают улучшенный результат. При этом наибольшую F1-меру 0.645355  против 0.589744 дает модель случайного леса при при глубине дерева 7 и количестве деревьев 39. Площадь под ROC-кривой 0.870194 против 0.848518."
   ]
  },
  {
   "cell_type": "markdown",
   "metadata": {},
   "source": [
    "### Увеличение выборки"
   ]
  },
  {
   "cell_type": "code",
   "execution_count": 50,
   "metadata": {},
   "outputs": [],
   "source": [
    "def upsample(features, target, repeat):\n",
    "    features_zeros = features[target == 0]\n",
    "    features_ones = features[target == 1]\n",
    "    target_zeros = target[target == 0]\n",
    "    target_ones = target[target == 1]\n",
    "\n",
    "    features_upsampled = pd.concat([features_zeros] + [features_ones] * repeat)\n",
    "    target_upsampled = pd.concat([target_zeros] + [target_ones] * repeat)\n",
    "    \n",
    "    features_upsampled, target_upsampled = shuffle(\n",
    "        features_upsampled, target_upsampled, random_state=12345)\n",
    "    \n",
    "    return features_upsampled, target_upsampled"
   ]
  },
  {
   "cell_type": "code",
   "execution_count": 51,
   "metadata": {},
   "outputs": [
    {
     "data": {
      "text/plain": [
       "1    0.504919\n",
       "0    0.495081\n",
       "Name: exited, dtype: float64"
      ]
     },
     "execution_count": 51,
     "metadata": {},
     "output_type": "execute_result"
    }
   ],
   "source": [
    "features_upsampled, target_upsampled = upsample(features_train, target_train, 4)\n",
    "\n",
    "samples_upsampled = {'features_train':features_upsampled, 'target_train':target_upsampled, \\\n",
    "           'features_valid':features_valid, 'target_valid':target_valid}\n",
    "\n",
    "target_upsampled.value_counts(normalize=True)"
   ]
  },
  {
   "cell_type": "markdown",
   "metadata": {},
   "source": [
    "#### Логистическая регрессия"
   ]
  },
  {
   "cell_type": "code",
   "execution_count": 52,
   "metadata": {},
   "outputs": [
    {
     "data": {
      "text/html": [
       "<div>\n",
       "<style scoped>\n",
       "    .dataframe tbody tr th:only-of-type {\n",
       "        vertical-align: middle;\n",
       "    }\n",
       "\n",
       "    .dataframe tbody tr th {\n",
       "        vertical-align: top;\n",
       "    }\n",
       "\n",
       "    .dataframe thead th {\n",
       "        text-align: right;\n",
       "    }\n",
       "</style>\n",
       "<table border=\"1\" class=\"dataframe\">\n",
       "  <thead>\n",
       "    <tr style=\"text-align: right;\">\n",
       "      <th></th>\n",
       "      <th>model_type</th>\n",
       "      <th>disbalance_method</th>\n",
       "      <th>depth</th>\n",
       "      <th>n_estimators</th>\n",
       "      <th>f1_score</th>\n",
       "      <th>roc_auc_score</th>\n",
       "      <th>accuracy_score</th>\n",
       "    </tr>\n",
       "  </thead>\n",
       "  <tbody>\n",
       "    <tr>\n",
       "      <th>0</th>\n",
       "      <td>DummyClassifier</td>\n",
       "      <td>-</td>\n",
       "      <td>-</td>\n",
       "      <td>-</td>\n",
       "      <td>0.000000</td>\n",
       "      <td>0.500000</td>\n",
       "      <td>0.7865</td>\n",
       "    </tr>\n",
       "    <tr>\n",
       "      <th>1</th>\n",
       "      <td>LogisticRegression</td>\n",
       "      <td>-</td>\n",
       "      <td>-</td>\n",
       "      <td>-</td>\n",
       "      <td>0.300699</td>\n",
       "      <td>0.758100</td>\n",
       "      <td>0.8000</td>\n",
       "    </tr>\n",
       "    <tr>\n",
       "      <th>4</th>\n",
       "      <td>LogisticRegression</td>\n",
       "      <td>balanced</td>\n",
       "      <td>-</td>\n",
       "      <td>-</td>\n",
       "      <td>0.502934</td>\n",
       "      <td>0.763819</td>\n",
       "      <td>0.7035</td>\n",
       "    </tr>\n",
       "    <tr>\n",
       "      <th>7</th>\n",
       "      <td>LogisticRegression</td>\n",
       "      <td>upsampling</td>\n",
       "      <td>-</td>\n",
       "      <td>-</td>\n",
       "      <td>0.504983</td>\n",
       "      <td>0.763865</td>\n",
       "      <td>0.7020</td>\n",
       "    </tr>\n",
       "    <tr>\n",
       "      <th>2</th>\n",
       "      <td>DecisionTreeClassifier</td>\n",
       "      <td>-</td>\n",
       "      <td>5</td>\n",
       "      <td>-</td>\n",
       "      <td>0.560801</td>\n",
       "      <td>0.846861</td>\n",
       "      <td>0.8465</td>\n",
       "    </tr>\n",
       "    <tr>\n",
       "      <th>3</th>\n",
       "      <td>RandomForestClassifier</td>\n",
       "      <td>-</td>\n",
       "      <td>20</td>\n",
       "      <td>31</td>\n",
       "      <td>0.589744</td>\n",
       "      <td>0.848518</td>\n",
       "      <td>0.8560</td>\n",
       "    </tr>\n",
       "    <tr>\n",
       "      <th>5</th>\n",
       "      <td>DecisionTreeClassifier</td>\n",
       "      <td>balanced</td>\n",
       "      <td>8</td>\n",
       "      <td>-</td>\n",
       "      <td>0.595618</td>\n",
       "      <td>0.807735</td>\n",
       "      <td>0.7970</td>\n",
       "    </tr>\n",
       "    <tr>\n",
       "      <th>6</th>\n",
       "      <td>RandomForestClassifier</td>\n",
       "      <td>balanced</td>\n",
       "      <td>7</td>\n",
       "      <td>39</td>\n",
       "      <td>0.645355</td>\n",
       "      <td>0.870194</td>\n",
       "      <td>0.8225</td>\n",
       "    </tr>\n",
       "  </tbody>\n",
       "</table>\n",
       "</div>"
      ],
      "text/plain": [
       "               model_type disbalance_method depth n_estimators  f1_score  \\\n",
       "0         DummyClassifier                 -     -            -  0.000000   \n",
       "1      LogisticRegression                 -     -            -  0.300699   \n",
       "4      LogisticRegression          balanced     -            -  0.502934   \n",
       "7      LogisticRegression        upsampling     -            -  0.504983   \n",
       "2  DecisionTreeClassifier                 -     5            -  0.560801   \n",
       "3  RandomForestClassifier                 -    20           31  0.589744   \n",
       "5  DecisionTreeClassifier          balanced     8            -  0.595618   \n",
       "6  RandomForestClassifier          balanced     7           39  0.645355   \n",
       "\n",
       "   roc_auc_score  accuracy_score  \n",
       "0       0.500000          0.7865  \n",
       "1       0.758100          0.8000  \n",
       "4       0.763819          0.7035  \n",
       "7       0.763865          0.7020  \n",
       "2       0.846861          0.8465  \n",
       "3       0.848518          0.8560  \n",
       "5       0.807735          0.7970  \n",
       "6       0.870194          0.8225  "
      ]
     },
     "execution_count": 52,
     "metadata": {},
     "output_type": "execute_result"
    }
   ],
   "source": [
    "analysis_logistic_regression(samples_upsampled, None, metrics_df, 'LogisticRegression', 'upsampling')\n",
    "metrics_df "
   ]
  },
  {
   "cell_type": "markdown",
   "metadata": {},
   "source": [
    "#### Дерево решений"
   ]
  },
  {
   "cell_type": "code",
   "execution_count": 53,
   "metadata": {},
   "outputs": [
    {
     "name": "stdout",
     "output_type": "stream",
     "text": [
      "F1-мера наилучшей модели на валидационной выборке: 0.5933852140077821 Глубина дерева: 6 AUC-ROC 0.8190259814700948\n"
     ]
    },
    {
     "data": {
      "image/png": "[encoded data removed]",
      "text/plain": [
       "<Figure size 576x360 with 1 Axes>"
      ]
     },
     "metadata": {
      "needs_background": "light"
     },
     "output_type": "display_data"
    },
    {
     "data": {
      "text/html": [
       "<div>\n",
       "<style scoped>\n",
       "    .dataframe tbody tr th:only-of-type {\n",
       "        vertical-align: middle;\n",
       "    }\n",
       "\n",
       "    .dataframe tbody tr th {\n",
       "        vertical-align: top;\n",
       "    }\n",
       "\n",
       "    .dataframe thead th {\n",
       "        text-align: right;\n",
       "    }\n",
       "</style>\n",
       "<table border=\"1\" class=\"dataframe\">\n",
       "  <thead>\n",
       "    <tr style=\"text-align: right;\">\n",
       "      <th></th>\n",
       "      <th>model_type</th>\n",
       "      <th>disbalance_method</th>\n",
       "      <th>depth</th>\n",
       "      <th>n_estimators</th>\n",
       "      <th>f1_score</th>\n",
       "      <th>roc_auc_score</th>\n",
       "      <th>accuracy_score</th>\n",
       "    </tr>\n",
       "  </thead>\n",
       "  <tbody>\n",
       "    <tr>\n",
       "      <th>0</th>\n",
       "      <td>DummyClassifier</td>\n",
       "      <td>-</td>\n",
       "      <td>-</td>\n",
       "      <td>-</td>\n",
       "      <td>0.000000</td>\n",
       "      <td>0.500000</td>\n",
       "      <td>0.7865</td>\n",
       "    </tr>\n",
       "    <tr>\n",
       "      <th>1</th>\n",
       "      <td>LogisticRegression</td>\n",
       "      <td>-</td>\n",
       "      <td>-</td>\n",
       "      <td>-</td>\n",
       "      <td>0.300699</td>\n",
       "      <td>0.758100</td>\n",
       "      <td>0.8000</td>\n",
       "    </tr>\n",
       "    <tr>\n",
       "      <th>4</th>\n",
       "      <td>LogisticRegression</td>\n",
       "      <td>balanced</td>\n",
       "      <td>-</td>\n",
       "      <td>-</td>\n",
       "      <td>0.502934</td>\n",
       "      <td>0.763819</td>\n",
       "      <td>0.7035</td>\n",
       "    </tr>\n",
       "    <tr>\n",
       "      <th>7</th>\n",
       "      <td>LogisticRegression</td>\n",
       "      <td>upsampling</td>\n",
       "      <td>-</td>\n",
       "      <td>-</td>\n",
       "      <td>0.504983</td>\n",
       "      <td>0.763865</td>\n",
       "      <td>0.7020</td>\n",
       "    </tr>\n",
       "    <tr>\n",
       "      <th>2</th>\n",
       "      <td>DecisionTreeClassifier</td>\n",
       "      <td>-</td>\n",
       "      <td>5</td>\n",
       "      <td>-</td>\n",
       "      <td>0.560801</td>\n",
       "      <td>0.846861</td>\n",
       "      <td>0.8465</td>\n",
       "    </tr>\n",
       "    <tr>\n",
       "      <th>3</th>\n",
       "      <td>RandomForestClassifier</td>\n",
       "      <td>-</td>\n",
       "      <td>20</td>\n",
       "      <td>31</td>\n",
       "      <td>0.589744</td>\n",
       "      <td>0.848518</td>\n",
       "      <td>0.8560</td>\n",
       "    </tr>\n",
       "    <tr>\n",
       "      <th>8</th>\n",
       "      <td>DecisionTreeClassifier</td>\n",
       "      <td>upsampling</td>\n",
       "      <td>6</td>\n",
       "      <td>-</td>\n",
       "      <td>0.593385</td>\n",
       "      <td>0.819026</td>\n",
       "      <td>0.7910</td>\n",
       "    </tr>\n",
       "    <tr>\n",
       "      <th>5</th>\n",
       "      <td>DecisionTreeClassifier</td>\n",
       "      <td>balanced</td>\n",
       "      <td>8</td>\n",
       "      <td>-</td>\n",
       "      <td>0.595618</td>\n",
       "      <td>0.807735</td>\n",
       "      <td>0.7970</td>\n",
       "    </tr>\n",
       "    <tr>\n",
       "      <th>6</th>\n",
       "      <td>RandomForestClassifier</td>\n",
       "      <td>balanced</td>\n",
       "      <td>7</td>\n",
       "      <td>39</td>\n",
       "      <td>0.645355</td>\n",
       "      <td>0.870194</td>\n",
       "      <td>0.8225</td>\n",
       "    </tr>\n",
       "  </tbody>\n",
       "</table>\n",
       "</div>"
      ],
      "text/plain": [
       "               model_type disbalance_method depth n_estimators  f1_score  \\\n",
       "0         DummyClassifier                 -     -            -  0.000000   \n",
       "1      LogisticRegression                 -     -            -  0.300699   \n",
       "4      LogisticRegression          balanced     -            -  0.502934   \n",
       "7      LogisticRegression        upsampling     -            -  0.504983   \n",
       "2  DecisionTreeClassifier                 -     5            -  0.560801   \n",
       "3  RandomForestClassifier                 -    20           31  0.589744   \n",
       "8  DecisionTreeClassifier        upsampling     6            -  0.593385   \n",
       "5  DecisionTreeClassifier          balanced     8            -  0.595618   \n",
       "6  RandomForestClassifier          balanced     7           39  0.645355   \n",
       "\n",
       "   roc_auc_score  accuracy_score  \n",
       "0       0.500000          0.7865  \n",
       "1       0.758100          0.8000  \n",
       "4       0.763819          0.7035  \n",
       "7       0.763865          0.7020  \n",
       "2       0.846861          0.8465  \n",
       "3       0.848518          0.8560  \n",
       "8       0.819026          0.7910  \n",
       "5       0.807735          0.7970  \n",
       "6       0.870194          0.8225  "
      ]
     },
     "execution_count": 53,
     "metadata": {},
     "output_type": "execute_result"
    }
   ],
   "source": [
    "analysis_decision_tree_classifier(samples_upsampled, None, metrics_df, 'DecisionTreeClassifier', 'upsampling') \n",
    "metrics_df"
   ]
  },
  {
   "cell_type": "markdown",
   "metadata": {},
   "source": [
    "#### Случайный лес"
   ]
  },
  {
   "cell_type": "code",
   "execution_count": 54,
   "metadata": {
    "scrolled": false
   },
   "outputs": [
    {
     "name": "stdout",
     "output_type": "stream",
     "text": [
      "F1-мера наилучшей модели на валидационной выборке: 0.6482300884955753 Количество деревьев 39 Глубина дерева: 11 AUC-ROC 0.859944824177313\n"
     ]
    },
    {
     "data": {
      "image/png": "[encoded data removed]",
      "text/plain": [
       "<Figure size 576x360 with 1 Axes>"
      ]
     },
     "metadata": {
      "needs_background": "light"
     },
     "output_type": "display_data"
    },
    {
     "data": {
      "image/png": "[encoded data removed]",
      "text/plain": [
       "<Figure size 576x360 with 1 Axes>"
      ]
     },
     "metadata": {
      "needs_background": "light"
     },
     "output_type": "display_data"
    },
    {
     "name": "stdout",
     "output_type": "stream",
     "text": [
      "CPU times: user 4min 29s, sys: 980 ms, total: 4min 30s\n",
      "Wall time: 4min 31s\n"
     ]
    },
    {
     "data": {
      "text/html": [
       "<div>\n",
       "<style scoped>\n",
       "    .dataframe tbody tr th:only-of-type {\n",
       "        vertical-align: middle;\n",
       "    }\n",
       "\n",
       "    .dataframe tbody tr th {\n",
       "        vertical-align: top;\n",
       "    }\n",
       "\n",
       "    .dataframe thead th {\n",
       "        text-align: right;\n",
       "    }\n",
       "</style>\n",
       "<table border=\"1\" class=\"dataframe\">\n",
       "  <thead>\n",
       "    <tr style=\"text-align: right;\">\n",
       "      <th></th>\n",
       "      <th>model_type</th>\n",
       "      <th>disbalance_method</th>\n",
       "      <th>depth</th>\n",
       "      <th>n_estimators</th>\n",
       "      <th>f1_score</th>\n",
       "      <th>roc_auc_score</th>\n",
       "      <th>accuracy_score</th>\n",
       "    </tr>\n",
       "  </thead>\n",
       "  <tbody>\n",
       "    <tr>\n",
       "      <th>0</th>\n",
       "      <td>DummyClassifier</td>\n",
       "      <td>-</td>\n",
       "      <td>-</td>\n",
       "      <td>-</td>\n",
       "      <td>0.000000</td>\n",
       "      <td>0.500000</td>\n",
       "      <td>0.7865</td>\n",
       "    </tr>\n",
       "    <tr>\n",
       "      <th>1</th>\n",
       "      <td>LogisticRegression</td>\n",
       "      <td>-</td>\n",
       "      <td>-</td>\n",
       "      <td>-</td>\n",
       "      <td>0.300699</td>\n",
       "      <td>0.758100</td>\n",
       "      <td>0.8000</td>\n",
       "    </tr>\n",
       "    <tr>\n",
       "      <th>4</th>\n",
       "      <td>LogisticRegression</td>\n",
       "      <td>balanced</td>\n",
       "      <td>-</td>\n",
       "      <td>-</td>\n",
       "      <td>0.502934</td>\n",
       "      <td>0.763819</td>\n",
       "      <td>0.7035</td>\n",
       "    </tr>\n",
       "    <tr>\n",
       "      <th>7</th>\n",
       "      <td>LogisticRegression</td>\n",
       "      <td>upsampling</td>\n",
       "      <td>-</td>\n",
       "      <td>-</td>\n",
       "      <td>0.504983</td>\n",
       "      <td>0.763865</td>\n",
       "      <td>0.7020</td>\n",
       "    </tr>\n",
       "    <tr>\n",
       "      <th>2</th>\n",
       "      <td>DecisionTreeClassifier</td>\n",
       "      <td>-</td>\n",
       "      <td>5</td>\n",
       "      <td>-</td>\n",
       "      <td>0.560801</td>\n",
       "      <td>0.846861</td>\n",
       "      <td>0.8465</td>\n",
       "    </tr>\n",
       "    <tr>\n",
       "      <th>3</th>\n",
       "      <td>RandomForestClassifier</td>\n",
       "      <td>-</td>\n",
       "      <td>20</td>\n",
       "      <td>31</td>\n",
       "      <td>0.589744</td>\n",
       "      <td>0.848518</td>\n",
       "      <td>0.8560</td>\n",
       "    </tr>\n",
       "    <tr>\n",
       "      <th>8</th>\n",
       "      <td>DecisionTreeClassifier</td>\n",
       "      <td>upsampling</td>\n",
       "      <td>6</td>\n",
       "      <td>-</td>\n",
       "      <td>0.593385</td>\n",
       "      <td>0.819026</td>\n",
       "      <td>0.7910</td>\n",
       "    </tr>\n",
       "    <tr>\n",
       "      <th>5</th>\n",
       "      <td>DecisionTreeClassifier</td>\n",
       "      <td>balanced</td>\n",
       "      <td>8</td>\n",
       "      <td>-</td>\n",
       "      <td>0.595618</td>\n",
       "      <td>0.807735</td>\n",
       "      <td>0.7970</td>\n",
       "    </tr>\n",
       "    <tr>\n",
       "      <th>6</th>\n",
       "      <td>RandomForestClassifier</td>\n",
       "      <td>balanced</td>\n",
       "      <td>7</td>\n",
       "      <td>39</td>\n",
       "      <td>0.645355</td>\n",
       "      <td>0.870194</td>\n",
       "      <td>0.8225</td>\n",
       "    </tr>\n",
       "    <tr>\n",
       "      <th>9</th>\n",
       "      <td>RandomForestClassifier</td>\n",
       "      <td>upsampling</td>\n",
       "      <td>11</td>\n",
       "      <td>39</td>\n",
       "      <td>0.648230</td>\n",
       "      <td>0.859945</td>\n",
       "      <td>0.8410</td>\n",
       "    </tr>\n",
       "  </tbody>\n",
       "</table>\n",
       "</div>"
      ],
      "text/plain": [
       "               model_type disbalance_method depth n_estimators  f1_score  \\\n",
       "0         DummyClassifier                 -     -            -  0.000000   \n",
       "1      LogisticRegression                 -     -            -  0.300699   \n",
       "4      LogisticRegression          balanced     -            -  0.502934   \n",
       "7      LogisticRegression        upsampling     -            -  0.504983   \n",
       "2  DecisionTreeClassifier                 -     5            -  0.560801   \n",
       "3  RandomForestClassifier                 -    20           31  0.589744   \n",
       "8  DecisionTreeClassifier        upsampling     6            -  0.593385   \n",
       "5  DecisionTreeClassifier          balanced     8            -  0.595618   \n",
       "6  RandomForestClassifier          balanced     7           39  0.645355   \n",
       "9  RandomForestClassifier        upsampling    11           39  0.648230   \n",
       "\n",
       "   roc_auc_score  accuracy_score  \n",
       "0       0.500000          0.7865  \n",
       "1       0.758100          0.8000  \n",
       "4       0.763819          0.7035  \n",
       "7       0.763865          0.7020  \n",
       "2       0.846861          0.8465  \n",
       "3       0.848518          0.8560  \n",
       "8       0.819026          0.7910  \n",
       "5       0.807735          0.7970  \n",
       "6       0.870194          0.8225  \n",
       "9       0.859945          0.8410  "
      ]
     },
     "execution_count": 54,
     "metadata": {},
     "output_type": "execute_result"
    }
   ],
   "source": [
    "%%time\n",
    "analysis_random_forest_classifier(samples_upsampled, None, metrics_df, 'RandomForestClassifier', 'upsampling') \n",
    "metrics_df"
   ]
  },
  {
   "cell_type": "markdown",
   "metadata": {},
   "source": [
    "**Вывод**\n",
    "\n",
    "При использовании техники upsampling наибольшую F1-меру 0.64823 дает модель случайного леса при при глубине дерева 11 и количестве деревьев 39. Площадь под ROC-кривой 0.859944. И эти показатели выше наилучшей модели, полученной при использовании взвешивания классов, где F1-мера составляет 0.645355."
   ]
  },
  {
   "cell_type": "markdown",
   "metadata": {},
   "source": [
    "### Уменьшение выборки"
   ]
  },
  {
   "cell_type": "code",
   "execution_count": 55,
   "metadata": {},
   "outputs": [],
   "source": [
    "def downsample(features, target, fraction):\n",
    "    features_zeros = features[target == 0]\n",
    "    features_ones = features[target == 1]\n",
    "    target_zeros = target[target == 0]\n",
    "    target_ones = target[target == 1]\n",
    "\n",
    "    features_sample = features_zeros.sample(frac=fraction, random_state=12345)\n",
    "    target_sample = target_zeros.sample(frac=fraction, random_state=12345)    \n",
    "    \n",
    "    features_downsampled = pd.concat([features_sample] + [features_ones])\n",
    "    target_downsampled = pd.concat([target_sample] + [target_ones])\n",
    "    \n",
    "    features_downsampled, target_downsampled = shuffle(\n",
    "        features_downsampled, target_downsampled, random_state=12345)    \n",
    "    \n",
    "    return features_downsampled, target_downsampled"
   ]
  },
  {
   "cell_type": "code",
   "execution_count": 56,
   "metadata": {},
   "outputs": [
    {
     "data": {
      "text/plain": [
       "1    0.504971\n",
       "0    0.495029\n",
       "Name: exited, dtype: float64"
      ]
     },
     "execution_count": 56,
     "metadata": {},
     "output_type": "execute_result"
    }
   ],
   "source": [
    "features_downsampled, target_downsampled = downsample(features_train, target_train, 0.25)\n",
    "\n",
    "samples_downsampled = {'features_train':features_downsampled, 'target_train':target_downsampled, \\\n",
    "           'features_valid':features_valid, 'target_valid':target_valid}\n",
    "\n",
    "target_downsampled.value_counts(normalize=True)"
   ]
  },
  {
   "cell_type": "markdown",
   "metadata": {},
   "source": [
    "#### Логистическая регрессия"
   ]
  },
  {
   "cell_type": "code",
   "execution_count": 57,
   "metadata": {},
   "outputs": [
    {
     "data": {
      "text/html": [
       "<div>\n",
       "<style scoped>\n",
       "    .dataframe tbody tr th:only-of-type {\n",
       "        vertical-align: middle;\n",
       "    }\n",
       "\n",
       "    .dataframe tbody tr th {\n",
       "        vertical-align: top;\n",
       "    }\n",
       "\n",
       "    .dataframe thead th {\n",
       "        text-align: right;\n",
       "    }\n",
       "</style>\n",
       "<table border=\"1\" class=\"dataframe\">\n",
       "  <thead>\n",
       "    <tr style=\"text-align: right;\">\n",
       "      <th></th>\n",
       "      <th>model_type</th>\n",
       "      <th>disbalance_method</th>\n",
       "      <th>depth</th>\n",
       "      <th>n_estimators</th>\n",
       "      <th>f1_score</th>\n",
       "      <th>roc_auc_score</th>\n",
       "      <th>accuracy_score</th>\n",
       "    </tr>\n",
       "  </thead>\n",
       "  <tbody>\n",
       "    <tr>\n",
       "      <th>0</th>\n",
       "      <td>DummyClassifier</td>\n",
       "      <td>-</td>\n",
       "      <td>-</td>\n",
       "      <td>-</td>\n",
       "      <td>0.000000</td>\n",
       "      <td>0.500000</td>\n",
       "      <td>0.7865</td>\n",
       "    </tr>\n",
       "    <tr>\n",
       "      <th>1</th>\n",
       "      <td>LogisticRegression</td>\n",
       "      <td>-</td>\n",
       "      <td>-</td>\n",
       "      <td>-</td>\n",
       "      <td>0.300699</td>\n",
       "      <td>0.758100</td>\n",
       "      <td>0.8000</td>\n",
       "    </tr>\n",
       "    <tr>\n",
       "      <th>10</th>\n",
       "      <td>LogisticRegression</td>\n",
       "      <td>downsampling</td>\n",
       "      <td>-</td>\n",
       "      <td>-</td>\n",
       "      <td>0.496678</td>\n",
       "      <td>0.766694</td>\n",
       "      <td>0.6970</td>\n",
       "    </tr>\n",
       "    <tr>\n",
       "      <th>4</th>\n",
       "      <td>LogisticRegression</td>\n",
       "      <td>balanced</td>\n",
       "      <td>-</td>\n",
       "      <td>-</td>\n",
       "      <td>0.502934</td>\n",
       "      <td>0.763819</td>\n",
       "      <td>0.7035</td>\n",
       "    </tr>\n",
       "    <tr>\n",
       "      <th>7</th>\n",
       "      <td>LogisticRegression</td>\n",
       "      <td>upsampling</td>\n",
       "      <td>-</td>\n",
       "      <td>-</td>\n",
       "      <td>0.504983</td>\n",
       "      <td>0.763865</td>\n",
       "      <td>0.7020</td>\n",
       "    </tr>\n",
       "    <tr>\n",
       "      <th>2</th>\n",
       "      <td>DecisionTreeClassifier</td>\n",
       "      <td>-</td>\n",
       "      <td>5</td>\n",
       "      <td>-</td>\n",
       "      <td>0.560801</td>\n",
       "      <td>0.846861</td>\n",
       "      <td>0.8465</td>\n",
       "    </tr>\n",
       "    <tr>\n",
       "      <th>3</th>\n",
       "      <td>RandomForestClassifier</td>\n",
       "      <td>-</td>\n",
       "      <td>20</td>\n",
       "      <td>31</td>\n",
       "      <td>0.589744</td>\n",
       "      <td>0.848518</td>\n",
       "      <td>0.8560</td>\n",
       "    </tr>\n",
       "    <tr>\n",
       "      <th>8</th>\n",
       "      <td>DecisionTreeClassifier</td>\n",
       "      <td>upsampling</td>\n",
       "      <td>6</td>\n",
       "      <td>-</td>\n",
       "      <td>0.593385</td>\n",
       "      <td>0.819026</td>\n",
       "      <td>0.7910</td>\n",
       "    </tr>\n",
       "    <tr>\n",
       "      <th>5</th>\n",
       "      <td>DecisionTreeClassifier</td>\n",
       "      <td>balanced</td>\n",
       "      <td>8</td>\n",
       "      <td>-</td>\n",
       "      <td>0.595618</td>\n",
       "      <td>0.807735</td>\n",
       "      <td>0.7970</td>\n",
       "    </tr>\n",
       "    <tr>\n",
       "      <th>6</th>\n",
       "      <td>RandomForestClassifier</td>\n",
       "      <td>balanced</td>\n",
       "      <td>7</td>\n",
       "      <td>39</td>\n",
       "      <td>0.645355</td>\n",
       "      <td>0.870194</td>\n",
       "      <td>0.8225</td>\n",
       "    </tr>\n",
       "    <tr>\n",
       "      <th>9</th>\n",
       "      <td>RandomForestClassifier</td>\n",
       "      <td>upsampling</td>\n",
       "      <td>11</td>\n",
       "      <td>39</td>\n",
       "      <td>0.648230</td>\n",
       "      <td>0.859945</td>\n",
       "      <td>0.8410</td>\n",
       "    </tr>\n",
       "  </tbody>\n",
       "</table>\n",
       "</div>"
      ],
      "text/plain": [
       "                model_type disbalance_method depth n_estimators  f1_score  \\\n",
       "0          DummyClassifier                 -     -            -  0.000000   \n",
       "1       LogisticRegression                 -     -            -  0.300699   \n",
       "10      LogisticRegression      downsampling     -            -  0.496678   \n",
       "4       LogisticRegression          balanced     -            -  0.502934   \n",
       "7       LogisticRegression        upsampling     -            -  0.504983   \n",
       "2   DecisionTreeClassifier                 -     5            -  0.560801   \n",
       "3   RandomForestClassifier                 -    20           31  0.589744   \n",
       "8   DecisionTreeClassifier        upsampling     6            -  0.593385   \n",
       "5   DecisionTreeClassifier          balanced     8            -  0.595618   \n",
       "6   RandomForestClassifier          balanced     7           39  0.645355   \n",
       "9   RandomForestClassifier        upsampling    11           39  0.648230   \n",
       "\n",
       "    roc_auc_score  accuracy_score  \n",
       "0        0.500000          0.7865  \n",
       "1        0.758100          0.8000  \n",
       "10       0.766694          0.6970  \n",
       "4        0.763819          0.7035  \n",
       "7        0.763865          0.7020  \n",
       "2        0.846861          0.8465  \n",
       "3        0.848518          0.8560  \n",
       "8        0.819026          0.7910  \n",
       "5        0.807735          0.7970  \n",
       "6        0.870194          0.8225  \n",
       "9        0.859945          0.8410  "
      ]
     },
     "execution_count": 57,
     "metadata": {},
     "output_type": "execute_result"
    }
   ],
   "source": [
    "analysis_logistic_regression(samples_downsampled, None, metrics_df, 'LogisticRegression', 'downsampling')\n",
    "metrics_df "
   ]
  },
  {
   "cell_type": "markdown",
   "metadata": {},
   "source": [
    "#### Дерево решений"
   ]
  },
  {
   "cell_type": "code",
   "execution_count": 58,
   "metadata": {},
   "outputs": [
    {
     "name": "stdout",
     "output_type": "stream",
     "text": [
      "F1-мера наилучшей модели на валидационной выборке: 0.5839285714285714 Глубина дерева: 7 AUC-ROC 0.818658986319195\n"
     ]
    },
    {
     "data": {
      "image/png": "[encoded data removed]",
      "text/plain": [
       "<Figure size 576x360 with 1 Axes>"
      ]
     },
     "metadata": {
      "needs_background": "light"
     },
     "output_type": "display_data"
    },
    {
     "data": {
      "text/html": [
       "<div>\n",
       "<style scoped>\n",
       "    .dataframe tbody tr th:only-of-type {\n",
       "        vertical-align: middle;\n",
       "    }\n",
       "\n",
       "    .dataframe tbody tr th {\n",
       "        vertical-align: top;\n",
       "    }\n",
       "\n",
       "    .dataframe thead th {\n",
       "        text-align: right;\n",
       "    }\n",
       "</style>\n",
       "<table border=\"1\" class=\"dataframe\">\n",
       "  <thead>\n",
       "    <tr style=\"text-align: right;\">\n",
       "      <th></th>\n",
       "      <th>model_type</th>\n",
       "      <th>disbalance_method</th>\n",
       "      <th>depth</th>\n",
       "      <th>n_estimators</th>\n",
       "      <th>f1_score</th>\n",
       "      <th>roc_auc_score</th>\n",
       "      <th>accuracy_score</th>\n",
       "    </tr>\n",
       "  </thead>\n",
       "  <tbody>\n",
       "    <tr>\n",
       "      <th>0</th>\n",
       "      <td>DummyClassifier</td>\n",
       "      <td>-</td>\n",
       "      <td>-</td>\n",
       "      <td>-</td>\n",
       "      <td>0.000000</td>\n",
       "      <td>0.500000</td>\n",
       "      <td>0.7865</td>\n",
       "    </tr>\n",
       "    <tr>\n",
       "      <th>1</th>\n",
       "      <td>LogisticRegression</td>\n",
       "      <td>-</td>\n",
       "      <td>-</td>\n",
       "      <td>-</td>\n",
       "      <td>0.300699</td>\n",
       "      <td>0.758100</td>\n",
       "      <td>0.8000</td>\n",
       "    </tr>\n",
       "    <tr>\n",
       "      <th>10</th>\n",
       "      <td>LogisticRegression</td>\n",
       "      <td>downsampling</td>\n",
       "      <td>-</td>\n",
       "      <td>-</td>\n",
       "      <td>0.496678</td>\n",
       "      <td>0.766694</td>\n",
       "      <td>0.6970</td>\n",
       "    </tr>\n",
       "    <tr>\n",
       "      <th>4</th>\n",
       "      <td>LogisticRegression</td>\n",
       "      <td>balanced</td>\n",
       "      <td>-</td>\n",
       "      <td>-</td>\n",
       "      <td>0.502934</td>\n",
       "      <td>0.763819</td>\n",
       "      <td>0.7035</td>\n",
       "    </tr>\n",
       "    <tr>\n",
       "      <th>7</th>\n",
       "      <td>LogisticRegression</td>\n",
       "      <td>upsampling</td>\n",
       "      <td>-</td>\n",
       "      <td>-</td>\n",
       "      <td>0.504983</td>\n",
       "      <td>0.763865</td>\n",
       "      <td>0.7020</td>\n",
       "    </tr>\n",
       "    <tr>\n",
       "      <th>2</th>\n",
       "      <td>DecisionTreeClassifier</td>\n",
       "      <td>-</td>\n",
       "      <td>5</td>\n",
       "      <td>-</td>\n",
       "      <td>0.560801</td>\n",
       "      <td>0.846861</td>\n",
       "      <td>0.8465</td>\n",
       "    </tr>\n",
       "    <tr>\n",
       "      <th>11</th>\n",
       "      <td>DecisionTreeClassifier</td>\n",
       "      <td>downsampling</td>\n",
       "      <td>7</td>\n",
       "      <td>-</td>\n",
       "      <td>0.583929</td>\n",
       "      <td>0.818659</td>\n",
       "      <td>0.7670</td>\n",
       "    </tr>\n",
       "    <tr>\n",
       "      <th>3</th>\n",
       "      <td>RandomForestClassifier</td>\n",
       "      <td>-</td>\n",
       "      <td>20</td>\n",
       "      <td>31</td>\n",
       "      <td>0.589744</td>\n",
       "      <td>0.848518</td>\n",
       "      <td>0.8560</td>\n",
       "    </tr>\n",
       "    <tr>\n",
       "      <th>8</th>\n",
       "      <td>DecisionTreeClassifier</td>\n",
       "      <td>upsampling</td>\n",
       "      <td>6</td>\n",
       "      <td>-</td>\n",
       "      <td>0.593385</td>\n",
       "      <td>0.819026</td>\n",
       "      <td>0.7910</td>\n",
       "    </tr>\n",
       "    <tr>\n",
       "      <th>5</th>\n",
       "      <td>DecisionTreeClassifier</td>\n",
       "      <td>balanced</td>\n",
       "      <td>8</td>\n",
       "      <td>-</td>\n",
       "      <td>0.595618</td>\n",
       "      <td>0.807735</td>\n",
       "      <td>0.7970</td>\n",
       "    </tr>\n",
       "    <tr>\n",
       "      <th>6</th>\n",
       "      <td>RandomForestClassifier</td>\n",
       "      <td>balanced</td>\n",
       "      <td>7</td>\n",
       "      <td>39</td>\n",
       "      <td>0.645355</td>\n",
       "      <td>0.870194</td>\n",
       "      <td>0.8225</td>\n",
       "    </tr>\n",
       "    <tr>\n",
       "      <th>9</th>\n",
       "      <td>RandomForestClassifier</td>\n",
       "      <td>upsampling</td>\n",
       "      <td>11</td>\n",
       "      <td>39</td>\n",
       "      <td>0.648230</td>\n",
       "      <td>0.859945</td>\n",
       "      <td>0.8410</td>\n",
       "    </tr>\n",
       "  </tbody>\n",
       "</table>\n",
       "</div>"
      ],
      "text/plain": [
       "                model_type disbalance_method depth n_estimators  f1_score  \\\n",
       "0          DummyClassifier                 -     -            -  0.000000   \n",
       "1       LogisticRegression                 -     -            -  0.300699   \n",
       "10      LogisticRegression      downsampling     -            -  0.496678   \n",
       "4       LogisticRegression          balanced     -            -  0.502934   \n",
       "7       LogisticRegression        upsampling     -            -  0.504983   \n",
       "2   DecisionTreeClassifier                 -     5            -  0.560801   \n",
       "11  DecisionTreeClassifier      downsampling     7            -  0.583929   \n",
       "3   RandomForestClassifier                 -    20           31  0.589744   \n",
       "8   DecisionTreeClassifier        upsampling     6            -  0.593385   \n",
       "5   DecisionTreeClassifier          balanced     8            -  0.595618   \n",
       "6   RandomForestClassifier          balanced     7           39  0.645355   \n",
       "9   RandomForestClassifier        upsampling    11           39  0.648230   \n",
       "\n",
       "    roc_auc_score  accuracy_score  \n",
       "0        0.500000          0.7865  \n",
       "1        0.758100          0.8000  \n",
       "10       0.766694          0.6970  \n",
       "4        0.763819          0.7035  \n",
       "7        0.763865          0.7020  \n",
       "2        0.846861          0.8465  \n",
       "11       0.818659          0.7670  \n",
       "3        0.848518          0.8560  \n",
       "8        0.819026          0.7910  \n",
       "5        0.807735          0.7970  \n",
       "6        0.870194          0.8225  \n",
       "9        0.859945          0.8410  "
      ]
     },
     "execution_count": 58,
     "metadata": {},
     "output_type": "execute_result"
    }
   ],
   "source": [
    "analysis_decision_tree_classifier(samples_downsampled, None, metrics_df, 'DecisionTreeClassifier', 'downsampling') \n",
    "metrics_df "
   ]
  },
  {
   "cell_type": "markdown",
   "metadata": {},
   "source": [
    "#### Случайный лес"
   ]
  },
  {
   "cell_type": "code",
   "execution_count": 60,
   "metadata": {
    "scrolled": false
   },
   "outputs": [
    {
     "name": "stdout",
     "output_type": "stream",
     "text": [
      "F1-мера наилучшей модели на валидационной выборке: 0.6240740740740741 Количество деревьев 22 Глубина дерева: 7 AUC-ROC 0.8618132984749973\n"
     ]
    },
    {
     "data": {
      "image/png": "[encoded data removed]",
      "text/plain": [
       "<Figure size 576x360 with 1 Axes>"
      ]
     },
     "metadata": {
      "needs_background": "light"
     },
     "output_type": "display_data"
    },
    {
     "data": {
      "image/png": "[encoded data removed]",
      "text/plain": [
       "<Figure size 576x360 with 1 Axes>"
      ]
     },
     "metadata": {
      "needs_background": "light"
     },
     "output_type": "display_data"
    },
    {
     "name": "stdout",
     "output_type": "stream",
     "text": [
      "CPU times: user 1min 52s, sys: 552 ms, total: 1min 52s\n",
      "Wall time: 1min 55s\n"
     ]
    },
    {
     "data": {
      "text/html": [
       "<div>\n",
       "<style scoped>\n",
       "    .dataframe tbody tr th:only-of-type {\n",
       "        vertical-align: middle;\n",
       "    }\n",
       "\n",
       "    .dataframe tbody tr th {\n",
       "        vertical-align: top;\n",
       "    }\n",
       "\n",
       "    .dataframe thead th {\n",
       "        text-align: right;\n",
       "    }\n",
       "</style>\n",
       "<table border=\"1\" class=\"dataframe\">\n",
       "  <thead>\n",
       "    <tr style=\"text-align: right;\">\n",
       "      <th></th>\n",
       "      <th>model_type</th>\n",
       "      <th>disbalance_method</th>\n",
       "      <th>depth</th>\n",
       "      <th>n_estimators</th>\n",
       "      <th>f1_score</th>\n",
       "      <th>roc_auc_score</th>\n",
       "      <th>accuracy_score</th>\n",
       "    </tr>\n",
       "  </thead>\n",
       "  <tbody>\n",
       "    <tr>\n",
       "      <th>0</th>\n",
       "      <td>DummyClassifier</td>\n",
       "      <td>-</td>\n",
       "      <td>-</td>\n",
       "      <td>-</td>\n",
       "      <td>0.000000</td>\n",
       "      <td>0.500000</td>\n",
       "      <td>0.7865</td>\n",
       "    </tr>\n",
       "    <tr>\n",
       "      <th>1</th>\n",
       "      <td>LogisticRegression</td>\n",
       "      <td>-</td>\n",
       "      <td>-</td>\n",
       "      <td>-</td>\n",
       "      <td>0.300699</td>\n",
       "      <td>0.758100</td>\n",
       "      <td>0.8000</td>\n",
       "    </tr>\n",
       "    <tr>\n",
       "      <th>10</th>\n",
       "      <td>LogisticRegression</td>\n",
       "      <td>downsampling</td>\n",
       "      <td>-</td>\n",
       "      <td>-</td>\n",
       "      <td>0.496678</td>\n",
       "      <td>0.766694</td>\n",
       "      <td>0.6970</td>\n",
       "    </tr>\n",
       "    <tr>\n",
       "      <th>4</th>\n",
       "      <td>LogisticRegression</td>\n",
       "      <td>balanced</td>\n",
       "      <td>-</td>\n",
       "      <td>-</td>\n",
       "      <td>0.502934</td>\n",
       "      <td>0.763819</td>\n",
       "      <td>0.7035</td>\n",
       "    </tr>\n",
       "    <tr>\n",
       "      <th>7</th>\n",
       "      <td>LogisticRegression</td>\n",
       "      <td>upsampling</td>\n",
       "      <td>-</td>\n",
       "      <td>-</td>\n",
       "      <td>0.504983</td>\n",
       "      <td>0.763865</td>\n",
       "      <td>0.7020</td>\n",
       "    </tr>\n",
       "    <tr>\n",
       "      <th>2</th>\n",
       "      <td>DecisionTreeClassifier</td>\n",
       "      <td>-</td>\n",
       "      <td>5</td>\n",
       "      <td>-</td>\n",
       "      <td>0.560801</td>\n",
       "      <td>0.846861</td>\n",
       "      <td>0.8465</td>\n",
       "    </tr>\n",
       "    <tr>\n",
       "      <th>11</th>\n",
       "      <td>DecisionTreeClassifier</td>\n",
       "      <td>downsampling</td>\n",
       "      <td>7</td>\n",
       "      <td>-</td>\n",
       "      <td>0.583929</td>\n",
       "      <td>0.818659</td>\n",
       "      <td>0.7670</td>\n",
       "    </tr>\n",
       "    <tr>\n",
       "      <th>3</th>\n",
       "      <td>RandomForestClassifier</td>\n",
       "      <td>-</td>\n",
       "      <td>20</td>\n",
       "      <td>31</td>\n",
       "      <td>0.589744</td>\n",
       "      <td>0.848518</td>\n",
       "      <td>0.8560</td>\n",
       "    </tr>\n",
       "    <tr>\n",
       "      <th>8</th>\n",
       "      <td>DecisionTreeClassifier</td>\n",
       "      <td>upsampling</td>\n",
       "      <td>6</td>\n",
       "      <td>-</td>\n",
       "      <td>0.593385</td>\n",
       "      <td>0.819026</td>\n",
       "      <td>0.7910</td>\n",
       "    </tr>\n",
       "    <tr>\n",
       "      <th>5</th>\n",
       "      <td>DecisionTreeClassifier</td>\n",
       "      <td>balanced</td>\n",
       "      <td>8</td>\n",
       "      <td>-</td>\n",
       "      <td>0.595618</td>\n",
       "      <td>0.807735</td>\n",
       "      <td>0.7970</td>\n",
       "    </tr>\n",
       "    <tr>\n",
       "      <th>12</th>\n",
       "      <td>RandomForestClassifier</td>\n",
       "      <td>downsampling</td>\n",
       "      <td>7</td>\n",
       "      <td>22</td>\n",
       "      <td>0.624074</td>\n",
       "      <td>0.861813</td>\n",
       "      <td>0.7970</td>\n",
       "    </tr>\n",
       "    <tr>\n",
       "      <th>6</th>\n",
       "      <td>RandomForestClassifier</td>\n",
       "      <td>balanced</td>\n",
       "      <td>7</td>\n",
       "      <td>39</td>\n",
       "      <td>0.645355</td>\n",
       "      <td>0.870194</td>\n",
       "      <td>0.8225</td>\n",
       "    </tr>\n",
       "    <tr>\n",
       "      <th>9</th>\n",
       "      <td>RandomForestClassifier</td>\n",
       "      <td>upsampling</td>\n",
       "      <td>11</td>\n",
       "      <td>39</td>\n",
       "      <td>0.648230</td>\n",
       "      <td>0.859945</td>\n",
       "      <td>0.8410</td>\n",
       "    </tr>\n",
       "  </tbody>\n",
       "</table>\n",
       "</div>"
      ],
      "text/plain": [
       "                model_type disbalance_method depth n_estimators  f1_score  \\\n",
       "0          DummyClassifier                 -     -            -  0.000000   \n",
       "1       LogisticRegression                 -     -            -  0.300699   \n",
       "10      LogisticRegression      downsampling     -            -  0.496678   \n",
       "4       LogisticRegression          balanced     -            -  0.502934   \n",
       "7       LogisticRegression        upsampling     -            -  0.504983   \n",
       "2   DecisionTreeClassifier                 -     5            -  0.560801   \n",
       "11  DecisionTreeClassifier      downsampling     7            -  0.583929   \n",
       "3   RandomForestClassifier                 -    20           31  0.589744   \n",
       "8   DecisionTreeClassifier        upsampling     6            -  0.593385   \n",
       "5   DecisionTreeClassifier          balanced     8            -  0.595618   \n",
       "12  RandomForestClassifier      downsampling     7           22  0.624074   \n",
       "6   RandomForestClassifier          balanced     7           39  0.645355   \n",
       "9   RandomForestClassifier        upsampling    11           39  0.648230   \n",
       "\n",
       "    roc_auc_score  accuracy_score  \n",
       "0        0.500000          0.7865  \n",
       "1        0.758100          0.8000  \n",
       "10       0.766694          0.6970  \n",
       "4        0.763819          0.7035  \n",
       "7        0.763865          0.7020  \n",
       "2        0.846861          0.8465  \n",
       "11       0.818659          0.7670  \n",
       "3        0.848518          0.8560  \n",
       "8        0.819026          0.7910  \n",
       "5        0.807735          0.7970  \n",
       "12       0.861813          0.7970  \n",
       "6        0.870194          0.8225  \n",
       "9        0.859945          0.8410  "
      ]
     },
     "execution_count": 60,
     "metadata": {},
     "output_type": "execute_result"
    }
   ],
   "source": [
    "%%time\n",
    "analysis_random_forest_classifier(samples_downsampled, None, metrics_df, 'RandomForestClassifier', 'downsampling') \n",
    "metrics_df"
   ]
  },
  {
   "cell_type": "markdown",
   "metadata": {},
   "source": [
    "**Вывод**\n",
    "\n",
    "При использовании техники downsampling наибольшую F1-меру 0.624074 дает модель случайного леса при при глубине дерева 7 и количестве деревьев 22. Площадь под ROC-кривой 0.861813. И эти показатели уступают наилучшей модели, полученной при использовании техники upsampling, где F1-мера составляет 0.64823."
   ]
  },
  {
   "cell_type": "markdown",
   "metadata": {},
   "source": [
    "## Тестирование модели"
   ]
  },
  {
   "cell_type": "code",
   "execution_count": 61,
   "metadata": {},
   "outputs": [
    {
     "data": {
      "text/html": [
       "<div>\n",
       "<style scoped>\n",
       "    .dataframe tbody tr th:only-of-type {\n",
       "        vertical-align: middle;\n",
       "    }\n",
       "\n",
       "    .dataframe tbody tr th {\n",
       "        vertical-align: top;\n",
       "    }\n",
       "\n",
       "    .dataframe thead th {\n",
       "        text-align: right;\n",
       "    }\n",
       "</style>\n",
       "<table border=\"1\" class=\"dataframe\">\n",
       "  <thead>\n",
       "    <tr style=\"text-align: right;\">\n",
       "      <th></th>\n",
       "      <th>model_type</th>\n",
       "      <th>disbalance_method</th>\n",
       "      <th>depth</th>\n",
       "      <th>n_estimators</th>\n",
       "      <th>f1_score</th>\n",
       "      <th>roc_auc_score</th>\n",
       "      <th>accuracy_score</th>\n",
       "    </tr>\n",
       "  </thead>\n",
       "  <tbody>\n",
       "    <tr>\n",
       "      <th>0</th>\n",
       "      <td>DummyClassifier</td>\n",
       "      <td>-</td>\n",
       "      <td>-</td>\n",
       "      <td>-</td>\n",
       "      <td>0.000000</td>\n",
       "      <td>0.500000</td>\n",
       "      <td>0.7865</td>\n",
       "    </tr>\n",
       "    <tr>\n",
       "      <th>1</th>\n",
       "      <td>LogisticRegression</td>\n",
       "      <td>-</td>\n",
       "      <td>-</td>\n",
       "      <td>-</td>\n",
       "      <td>0.300699</td>\n",
       "      <td>0.758100</td>\n",
       "      <td>0.8000</td>\n",
       "    </tr>\n",
       "    <tr>\n",
       "      <th>10</th>\n",
       "      <td>LogisticRegression</td>\n",
       "      <td>downsampling</td>\n",
       "      <td>-</td>\n",
       "      <td>-</td>\n",
       "      <td>0.496678</td>\n",
       "      <td>0.766694</td>\n",
       "      <td>0.6970</td>\n",
       "    </tr>\n",
       "    <tr>\n",
       "      <th>4</th>\n",
       "      <td>LogisticRegression</td>\n",
       "      <td>balanced</td>\n",
       "      <td>-</td>\n",
       "      <td>-</td>\n",
       "      <td>0.502934</td>\n",
       "      <td>0.763819</td>\n",
       "      <td>0.7035</td>\n",
       "    </tr>\n",
       "    <tr>\n",
       "      <th>7</th>\n",
       "      <td>LogisticRegression</td>\n",
       "      <td>upsampling</td>\n",
       "      <td>-</td>\n",
       "      <td>-</td>\n",
       "      <td>0.504983</td>\n",
       "      <td>0.763865</td>\n",
       "      <td>0.7020</td>\n",
       "    </tr>\n",
       "    <tr>\n",
       "      <th>2</th>\n",
       "      <td>DecisionTreeClassifier</td>\n",
       "      <td>-</td>\n",
       "      <td>5</td>\n",
       "      <td>-</td>\n",
       "      <td>0.560801</td>\n",
       "      <td>0.846861</td>\n",
       "      <td>0.8465</td>\n",
       "    </tr>\n",
       "    <tr>\n",
       "      <th>11</th>\n",
       "      <td>DecisionTreeClassifier</td>\n",
       "      <td>downsampling</td>\n",
       "      <td>7</td>\n",
       "      <td>-</td>\n",
       "      <td>0.583929</td>\n",
       "      <td>0.818659</td>\n",
       "      <td>0.7670</td>\n",
       "    </tr>\n",
       "    <tr>\n",
       "      <th>3</th>\n",
       "      <td>RandomForestClassifier</td>\n",
       "      <td>-</td>\n",
       "      <td>20</td>\n",
       "      <td>31</td>\n",
       "      <td>0.589744</td>\n",
       "      <td>0.848518</td>\n",
       "      <td>0.8560</td>\n",
       "    </tr>\n",
       "    <tr>\n",
       "      <th>8</th>\n",
       "      <td>DecisionTreeClassifier</td>\n",
       "      <td>upsampling</td>\n",
       "      <td>6</td>\n",
       "      <td>-</td>\n",
       "      <td>0.593385</td>\n",
       "      <td>0.819026</td>\n",
       "      <td>0.7910</td>\n",
       "    </tr>\n",
       "    <tr>\n",
       "      <th>5</th>\n",
       "      <td>DecisionTreeClassifier</td>\n",
       "      <td>balanced</td>\n",
       "      <td>8</td>\n",
       "      <td>-</td>\n",
       "      <td>0.595618</td>\n",
       "      <td>0.807735</td>\n",
       "      <td>0.7970</td>\n",
       "    </tr>\n",
       "    <tr>\n",
       "      <th>12</th>\n",
       "      <td>RandomForestClassifier</td>\n",
       "      <td>downsampling</td>\n",
       "      <td>7</td>\n",
       "      <td>22</td>\n",
       "      <td>0.624074</td>\n",
       "      <td>0.861813</td>\n",
       "      <td>0.7970</td>\n",
       "    </tr>\n",
       "    <tr>\n",
       "      <th>6</th>\n",
       "      <td>RandomForestClassifier</td>\n",
       "      <td>balanced</td>\n",
       "      <td>7</td>\n",
       "      <td>39</td>\n",
       "      <td>0.645355</td>\n",
       "      <td>0.870194</td>\n",
       "      <td>0.8225</td>\n",
       "    </tr>\n",
       "    <tr>\n",
       "      <th>9</th>\n",
       "      <td>RandomForestClassifier</td>\n",
       "      <td>upsampling</td>\n",
       "      <td>11</td>\n",
       "      <td>39</td>\n",
       "      <td>0.648230</td>\n",
       "      <td>0.859945</td>\n",
       "      <td>0.8410</td>\n",
       "    </tr>\n",
       "  </tbody>\n",
       "</table>\n",
       "</div>"
      ],
      "text/plain": [
       "                model_type disbalance_method depth n_estimators  f1_score  \\\n",
       "0          DummyClassifier                 -     -            -  0.000000   \n",
       "1       LogisticRegression                 -     -            -  0.300699   \n",
       "10      LogisticRegression      downsampling     -            -  0.496678   \n",
       "4       LogisticRegression          balanced     -            -  0.502934   \n",
       "7       LogisticRegression        upsampling     -            -  0.504983   \n",
       "2   DecisionTreeClassifier                 -     5            -  0.560801   \n",
       "11  DecisionTreeClassifier      downsampling     7            -  0.583929   \n",
       "3   RandomForestClassifier                 -    20           31  0.589744   \n",
       "8   DecisionTreeClassifier        upsampling     6            -  0.593385   \n",
       "5   DecisionTreeClassifier          balanced     8            -  0.595618   \n",
       "12  RandomForestClassifier      downsampling     7           22  0.624074   \n",
       "6   RandomForestClassifier          balanced     7           39  0.645355   \n",
       "9   RandomForestClassifier        upsampling    11           39  0.648230   \n",
       "\n",
       "    roc_auc_score  accuracy_score  \n",
       "0        0.500000          0.7865  \n",
       "1        0.758100          0.8000  \n",
       "10       0.766694          0.6970  \n",
       "4        0.763819          0.7035  \n",
       "7        0.763865          0.7020  \n",
       "2        0.846861          0.8465  \n",
       "11       0.818659          0.7670  \n",
       "3        0.848518          0.8560  \n",
       "8        0.819026          0.7910  \n",
       "5        0.807735          0.7970  \n",
       "12       0.861813          0.7970  \n",
       "6        0.870194          0.8225  \n",
       "9        0.859945          0.8410  "
      ]
     },
     "execution_count": 61,
     "metadata": {},
     "output_type": "execute_result"
    }
   ],
   "source": [
    "metrics_df"
   ]
  },
  {
   "cell_type": "code",
   "execution_count": 62,
   "metadata": {},
   "outputs": [],
   "source": [
    "model = RandomForestClassifier(random_state=12345, n_estimators=39, max_depth = 11)\n",
    "metrics = get_metrics(model, samples_upsampled)"
   ]
  },
  {
   "cell_type": "code",
   "execution_count": 68,
   "metadata": {},
   "outputs": [
    {
     "data": {
      "text/plain": [
       "'F1-мера наилучшей модели на тестовой выборке 0.5940828402366862'"
      ]
     },
     "execution_count": 68,
     "metadata": {},
     "output_type": "execute_result"
    }
   ],
   "source": [
    "predictions_test = model.predict(features_test)\n",
    "f'F1-мера наилучшей модели на тестовой выборке {f1_score(target_test, predictions_test)}'"
   ]
  },
  {
   "cell_type": "code",
   "execution_count": 69,
   "metadata": {},
   "outputs": [
    {
     "data": {
      "text/plain": [
       "'ROC-AUC наилучшей модели на тестовой выборке 0.8439897698209718'"
      ]
     },
     "execution_count": 69,
     "metadata": {},
     "output_type": "execute_result"
    }
   ],
   "source": [
    "probabilities_test = model.predict_proba(features_test)\n",
    "probabilities_one_test = probabilities_test[:, 1]\n",
    "f'ROC-AUC наилучшей модели на тестовой выборке {roc_auc_score(target_test, probabilities_one_test)}'"
   ]
  },
  {
   "cell_type": "code",
   "execution_count": 65,
   "metadata": {},
   "outputs": [
    {
     "data": {
      "image/png": "[encoded data removed]",
      "text/plain": [
       "<Figure size 432x288 with 1 Axes>"
      ]
     },
     "metadata": {
      "needs_background": "light"
     },
     "output_type": "display_data"
    }
   ],
   "source": [
    "fpr, tpr, thresholds = roc_curve(target_test, probabilities_one_test)\n",
    "plt.figure()\n",
    "\n",
    "plt.plot(fpr, tpr)\n",
    "\n",
    "# ROC-кривая случайной модели (выглядит как прямая)\n",
    "plt.plot([0, 1], [0, 1], linestyle='--')\n",
    "\n",
    "plt.xlim([0,1])\n",
    "plt.ylim([0, 1])\n",
    "\n",
    "plt.xlabel(\"False Positive Rate\")\n",
    "plt.ylabel(\"True Positive Rate\")\n",
    "plt.title(\"ROC-кривая\")\n",
    "\n",
    "plt.show()"
   ]
  },
  {
   "cell_type": "markdown",
   "metadata": {},
   "source": [
    "## Общий вывод\n",
    "\n",
    "Логистическая регрессия показывает самые плохие результаты при любых способах борьбы с дисбалансом.\n",
    "\n",
    "Из способов борьбы с дисбалансом наилучший результат дает увеличение выборки, потому что она не очень большая для уменьшения.\n",
    "\n",
    "Требуемая для тестовой выборки величина F1-меры, равная  0.594083, достигнута на модели случайного леса с максимальной глубиной дерева 11 и количестве деревьев 39 с использованием увеличения выборки (upsampling)."
   ]
  }
 ],
 "metadata": {
  "ExecuteTimeLog": [
   {
    "duration": 307,
    "start_time": "2022-03-15T12:52:41.261Z"
   },
   {
    "duration": 706,
    "start_time": "2022-03-15T12:52:46.233Z"
   },
   {
    "duration": 5055,
    "start_time": "2022-03-15T12:54:31.119Z"
   },
   {
    "duration": 601,
    "start_time": "2022-03-15T12:55:23.346Z"
   },
   {
    "duration": 4867,
    "start_time": "2022-03-15T13:02:50.453Z"
   },
   {
    "duration": 47,
    "start_time": "2022-03-15T13:05:26.010Z"
   },
   {
    "duration": 64,
    "start_time": "2022-03-15T13:05:50.176Z"
   },
   {
    "duration": 9,
    "start_time": "2022-03-15T13:05:55.353Z"
   },
   {
    "duration": 9,
    "start_time": "2022-03-15T13:17:51.862Z"
   },
   {
    "duration": 8,
    "start_time": "2022-03-15T13:18:14.968Z"
   },
   {
    "duration": 3,
    "start_time": "2022-03-15T13:29:02.192Z"
   },
   {
    "duration": 5,
    "start_time": "2022-03-15T13:30:27.074Z"
   },
   {
    "duration": 26,
    "start_time": "2022-03-15T13:36:34.813Z"
   },
   {
    "duration": 25,
    "start_time": "2022-03-15T13:36:41.347Z"
   },
   {
    "duration": 267,
    "start_time": "2022-03-15T13:37:55.530Z"
   },
   {
    "duration": 2,
    "start_time": "2022-03-15T13:38:04.474Z"
   },
   {
    "duration": 41,
    "start_time": "2022-03-15T13:38:06.176Z"
   },
   {
    "duration": 9,
    "start_time": "2022-03-15T13:38:08.528Z"
   },
   {
    "duration": 18,
    "start_time": "2022-03-15T13:38:11.832Z"
   },
   {
    "duration": 4,
    "start_time": "2022-03-15T13:38:17.144Z"
   },
   {
    "duration": 5,
    "start_time": "2022-03-15T13:41:25.164Z"
   },
   {
    "duration": 13,
    "start_time": "2022-03-15T13:41:37.212Z"
   },
   {
    "duration": 7,
    "start_time": "2022-03-15T13:43:37.041Z"
   },
   {
    "duration": 25,
    "start_time": "2022-03-15T13:43:53.761Z"
   },
   {
    "duration": 258,
    "start_time": "2022-03-15T13:44:36.411Z"
   },
   {
    "duration": 6,
    "start_time": "2022-03-15T13:44:52.912Z"
   },
   {
    "duration": 19,
    "start_time": "2022-03-15T13:48:24.188Z"
   },
   {
    "duration": 9,
    "start_time": "2022-03-15T13:48:53.778Z"
   },
   {
    "duration": 12,
    "start_time": "2022-03-15T13:49:01.956Z"
   },
   {
    "duration": 6,
    "start_time": "2022-03-15T13:51:35.620Z"
   },
   {
    "duration": 4,
    "start_time": "2022-03-15T13:51:39.806Z"
   },
   {
    "duration": 8,
    "start_time": "2022-03-15T13:52:35.405Z"
   },
   {
    "duration": 7,
    "start_time": "2022-03-15T13:53:12.540Z"
   },
   {
    "duration": 9,
    "start_time": "2022-03-15T13:53:55.140Z"
   },
   {
    "duration": 276,
    "start_time": "2022-03-15T13:56:12.656Z"
   },
   {
    "duration": 7,
    "start_time": "2022-03-15T13:56:19.574Z"
   },
   {
    "duration": 10,
    "start_time": "2022-03-15T13:56:35.392Z"
   },
   {
    "duration": 24,
    "start_time": "2022-03-15T13:57:05.723Z"
   },
   {
    "duration": 8,
    "start_time": "2022-03-15T13:57:42.495Z"
   },
   {
    "duration": 13,
    "start_time": "2022-03-15T14:00:31.492Z"
   },
   {
    "duration": 94,
    "start_time": "2022-03-15T14:00:53.926Z"
   },
   {
    "duration": 621,
    "start_time": "2022-03-15T14:09:24.796Z"
   },
   {
    "duration": 52,
    "start_time": "2022-03-15T14:09:25.418Z"
   },
   {
    "duration": 11,
    "start_time": "2022-03-15T14:09:25.472Z"
   },
   {
    "duration": 18,
    "start_time": "2022-03-15T14:09:25.486Z"
   },
   {
    "duration": 28,
    "start_time": "2022-03-15T14:09:25.506Z"
   },
   {
    "duration": 8,
    "start_time": "2022-03-15T14:09:25.536Z"
   },
   {
    "duration": 9,
    "start_time": "2022-03-15T14:09:25.546Z"
   },
   {
    "duration": 29,
    "start_time": "2022-03-15T14:09:41.795Z"
   },
   {
    "duration": 5,
    "start_time": "2022-03-15T14:09:57.700Z"
   },
   {
    "duration": 5,
    "start_time": "2022-03-15T14:10:07.145Z"
   },
   {
    "duration": 84,
    "start_time": "2022-03-15T14:10:59.209Z"
   },
   {
    "duration": 91,
    "start_time": "2022-03-15T14:11:53.704Z"
   },
   {
    "duration": 341,
    "start_time": "2022-03-15T14:11:58.343Z"
   },
   {
    "duration": 90,
    "start_time": "2022-03-15T14:12:20.736Z"
   },
   {
    "duration": 94,
    "start_time": "2022-03-15T14:12:29.847Z"
   },
   {
    "duration": 87,
    "start_time": "2022-03-15T14:12:35.703Z"
   },
   {
    "duration": 23,
    "start_time": "2022-03-15T14:12:48.231Z"
   },
   {
    "duration": 18,
    "start_time": "2022-03-15T14:12:57.577Z"
   },
   {
    "duration": 6,
    "start_time": "2022-03-15T14:18:42.965Z"
   },
   {
    "duration": 252,
    "start_time": "2022-03-15T14:18:45.383Z"
   },
   {
    "duration": 10,
    "start_time": "2022-03-15T14:18:52.458Z"
   },
   {
    "duration": 8,
    "start_time": "2022-03-15T14:19:11.503Z"
   },
   {
    "duration": 7,
    "start_time": "2022-03-15T14:19:13.586Z"
   },
   {
    "duration": 15,
    "start_time": "2022-03-15T14:19:15.590Z"
   },
   {
    "duration": 15,
    "start_time": "2022-03-15T14:28:34.122Z"
   },
   {
    "duration": 25,
    "start_time": "2022-03-15T14:28:43.204Z"
   },
   {
    "duration": 23,
    "start_time": "2022-03-15T14:29:28.740Z"
   },
   {
    "duration": 14,
    "start_time": "2022-03-15T14:37:13.114Z"
   },
   {
    "duration": 5,
    "start_time": "2022-03-15T14:37:59.623Z"
   },
   {
    "duration": 732,
    "start_time": "2022-03-15T14:40:04.914Z"
   },
   {
    "duration": 454,
    "start_time": "2022-03-15T14:40:39.219Z"
   },
   {
    "duration": 16,
    "start_time": "2022-03-15T14:40:46.805Z"
   },
   {
    "duration": 289,
    "start_time": "2022-03-15T14:41:17.730Z"
   },
   {
    "duration": 292,
    "start_time": "2022-03-15T14:41:20.578Z"
   },
   {
    "duration": 261,
    "start_time": "2022-03-15T14:41:27.497Z"
   },
   {
    "duration": 5,
    "start_time": "2022-03-15T14:41:37.137Z"
   },
   {
    "duration": 7,
    "start_time": "2022-03-15T14:41:56.378Z"
   },
   {
    "duration": 5,
    "start_time": "2022-03-15T14:42:12.689Z"
   },
   {
    "duration": 6,
    "start_time": "2022-03-15T14:45:39.189Z"
   },
   {
    "duration": 5,
    "start_time": "2022-03-15T14:45:59.198Z"
   },
   {
    "duration": 5,
    "start_time": "2022-03-15T14:46:04.412Z"
   },
   {
    "duration": 8,
    "start_time": "2022-03-15T14:46:45.014Z"
   },
   {
    "duration": 7,
    "start_time": "2022-03-15T14:47:03.067Z"
   },
   {
    "duration": 6,
    "start_time": "2022-03-15T14:47:14.883Z"
   },
   {
    "duration": 9,
    "start_time": "2022-03-15T14:47:36.219Z"
   },
   {
    "duration": 6,
    "start_time": "2022-03-15T14:48:51.483Z"
   },
   {
    "duration": 6,
    "start_time": "2022-03-15T14:49:05.585Z"
   },
   {
    "duration": 9,
    "start_time": "2022-03-15T14:49:25.016Z"
   },
   {
    "duration": 10,
    "start_time": "2022-03-15T14:49:30.116Z"
   },
   {
    "duration": 1134,
    "start_time": "2022-03-15T14:49:48.039Z"
   },
   {
    "duration": 59,
    "start_time": "2022-03-15T14:49:49.176Z"
   },
   {
    "duration": 9,
    "start_time": "2022-03-15T14:49:49.238Z"
   },
   {
    "duration": 20,
    "start_time": "2022-03-15T14:49:49.249Z"
   },
   {
    "duration": 7,
    "start_time": "2022-03-15T14:49:49.271Z"
   },
   {
    "duration": 5,
    "start_time": "2022-03-15T14:49:49.280Z"
   },
   {
    "duration": 10,
    "start_time": "2022-03-15T14:49:49.286Z"
   },
   {
    "duration": 36,
    "start_time": "2022-03-15T14:49:49.299Z"
   },
   {
    "duration": 5,
    "start_time": "2022-03-15T14:49:49.338Z"
   },
   {
    "duration": 19,
    "start_time": "2022-03-15T14:49:49.344Z"
   },
   {
    "duration": 6,
    "start_time": "2022-03-15T14:49:49.365Z"
   },
   {
    "duration": 13,
    "start_time": "2022-03-15T14:49:49.373Z"
   },
   {
    "duration": 7,
    "start_time": "2022-03-15T14:49:49.387Z"
   },
   {
    "duration": 6,
    "start_time": "2022-03-15T14:49:49.433Z"
   },
   {
    "duration": 18,
    "start_time": "2022-03-15T14:49:49.442Z"
   },
   {
    "duration": 23,
    "start_time": "2022-03-15T14:49:49.462Z"
   },
   {
    "duration": 13,
    "start_time": "2022-03-15T14:49:49.487Z"
   },
   {
    "duration": 34,
    "start_time": "2022-03-15T14:49:49.501Z"
   },
   {
    "duration": 13,
    "start_time": "2022-03-15T14:49:49.537Z"
   },
   {
    "duration": 3,
    "start_time": "2022-03-15T14:49:49.552Z"
   },
   {
    "duration": 6,
    "start_time": "2022-03-15T14:49:49.557Z"
   },
   {
    "duration": 6,
    "start_time": "2022-03-15T14:49:49.565Z"
   },
   {
    "duration": 6,
    "start_time": "2022-03-15T14:49:49.574Z"
   },
   {
    "duration": 5,
    "start_time": "2022-03-15T14:49:49.581Z"
   },
   {
    "duration": 47,
    "start_time": "2022-03-15T14:49:49.587Z"
   },
   {
    "duration": 6,
    "start_time": "2022-03-15T14:49:49.636Z"
   },
   {
    "duration": 6,
    "start_time": "2022-03-15T14:49:49.644Z"
   },
   {
    "duration": 12,
    "start_time": "2022-03-15T14:49:49.652Z"
   },
   {
    "duration": 6,
    "start_time": "2022-03-15T14:49:49.666Z"
   },
   {
    "duration": 7,
    "start_time": "2022-03-15T14:49:49.673Z"
   },
   {
    "duration": 50,
    "start_time": "2022-03-15T14:49:49.681Z"
   },
   {
    "duration": 3,
    "start_time": "2022-03-15T14:55:19.056Z"
   },
   {
    "duration": 13,
    "start_time": "2022-03-15T14:56:37.106Z"
   },
   {
    "duration": 10,
    "start_time": "2022-03-15T14:57:46.478Z"
   },
   {
    "duration": 3,
    "start_time": "2022-03-15T14:57:55.277Z"
   },
   {
    "duration": 4,
    "start_time": "2022-03-15T14:58:15.212Z"
   },
   {
    "duration": 342,
    "start_time": "2022-03-15T14:58:22.436Z"
   },
   {
    "duration": 275,
    "start_time": "2022-03-15T14:58:37.278Z"
   },
   {
    "duration": 6,
    "start_time": "2022-03-15T14:58:39.989Z"
   },
   {
    "duration": 241,
    "start_time": "2022-03-15T14:58:42.755Z"
   },
   {
    "duration": 6,
    "start_time": "2022-03-15T14:58:46.092Z"
   },
   {
    "duration": 4,
    "start_time": "2022-03-15T14:59:00.028Z"
   },
   {
    "duration": 1084,
    "start_time": "2022-03-15T14:59:37.686Z"
   },
   {
    "duration": 49,
    "start_time": "2022-03-15T14:59:38.773Z"
   },
   {
    "duration": 9,
    "start_time": "2022-03-15T14:59:38.824Z"
   },
   {
    "duration": 24,
    "start_time": "2022-03-15T14:59:38.835Z"
   },
   {
    "duration": 8,
    "start_time": "2022-03-15T14:59:38.861Z"
   },
   {
    "duration": 11,
    "start_time": "2022-03-15T14:59:38.871Z"
   },
   {
    "duration": 20,
    "start_time": "2022-03-15T14:59:38.883Z"
   },
   {
    "duration": 16,
    "start_time": "2022-03-15T14:59:38.905Z"
   },
   {
    "duration": 8,
    "start_time": "2022-03-15T14:59:38.923Z"
   },
   {
    "duration": 17,
    "start_time": "2022-03-15T14:59:38.934Z"
   },
   {
    "duration": 16,
    "start_time": "2022-03-15T14:59:38.953Z"
   },
   {
    "duration": 17,
    "start_time": "2022-03-15T14:59:38.971Z"
   },
   {
    "duration": 15,
    "start_time": "2022-03-15T14:59:38.990Z"
   },
   {
    "duration": 21,
    "start_time": "2022-03-15T14:59:39.007Z"
   },
   {
    "duration": 20,
    "start_time": "2022-03-15T14:59:39.030Z"
   },
   {
    "duration": 31,
    "start_time": "2022-03-15T14:59:39.053Z"
   },
   {
    "duration": 16,
    "start_time": "2022-03-15T14:59:39.086Z"
   },
   {
    "duration": 10,
    "start_time": "2022-03-15T14:59:39.104Z"
   },
   {
    "duration": 34,
    "start_time": "2022-03-15T14:59:39.115Z"
   },
   {
    "duration": 8,
    "start_time": "2022-03-15T14:59:39.151Z"
   },
   {
    "duration": 25,
    "start_time": "2022-03-15T14:59:39.160Z"
   },
   {
    "duration": 14,
    "start_time": "2022-03-15T14:59:39.187Z"
   },
   {
    "duration": 24,
    "start_time": "2022-03-15T14:59:39.203Z"
   },
   {
    "duration": 16,
    "start_time": "2022-03-15T14:59:39.229Z"
   },
   {
    "duration": 29,
    "start_time": "2022-03-15T14:59:39.246Z"
   },
   {
    "duration": 21,
    "start_time": "2022-03-15T14:59:39.277Z"
   },
   {
    "duration": 18,
    "start_time": "2022-03-15T14:59:39.301Z"
   },
   {
    "duration": 21,
    "start_time": "2022-03-15T14:59:39.320Z"
   },
   {
    "duration": 22,
    "start_time": "2022-03-15T14:59:39.342Z"
   },
   {
    "duration": 15,
    "start_time": "2022-03-15T14:59:39.365Z"
   },
   {
    "duration": 22,
    "start_time": "2022-03-15T14:59:39.382Z"
   },
   {
    "duration": 13,
    "start_time": "2022-03-15T15:01:53.106Z"
   },
   {
    "duration": 11,
    "start_time": "2022-03-15T15:02:04.059Z"
   },
   {
    "duration": 8,
    "start_time": "2022-03-15T15:02:14.744Z"
   },
   {
    "duration": 4,
    "start_time": "2022-03-15T15:02:21.176Z"
   },
   {
    "duration": 13,
    "start_time": "2022-03-15T15:06:00.891Z"
   },
   {
    "duration": 12,
    "start_time": "2022-03-15T15:07:26.905Z"
   },
   {
    "duration": 11,
    "start_time": "2022-03-15T15:07:29.337Z"
   },
   {
    "duration": 24,
    "start_time": "2022-03-15T15:07:31.937Z"
   },
   {
    "duration": 21,
    "start_time": "2022-03-15T15:08:55.896Z"
   },
   {
    "duration": 22,
    "start_time": "2022-03-15T15:09:25.775Z"
   },
   {
    "duration": 1102,
    "start_time": "2022-03-15T15:10:59.478Z"
   },
   {
    "duration": 51,
    "start_time": "2022-03-15T15:11:00.582Z"
   },
   {
    "duration": 10,
    "start_time": "2022-03-15T15:11:00.636Z"
   },
   {
    "duration": 30,
    "start_time": "2022-03-15T15:11:00.648Z"
   },
   {
    "duration": 23,
    "start_time": "2022-03-15T15:11:00.680Z"
   },
   {
    "duration": 12,
    "start_time": "2022-03-15T15:11:00.705Z"
   },
   {
    "duration": 12,
    "start_time": "2022-03-15T15:11:00.719Z"
   },
   {
    "duration": 7,
    "start_time": "2022-03-15T15:11:00.733Z"
   },
   {
    "duration": 12,
    "start_time": "2022-03-15T15:11:00.742Z"
   },
   {
    "duration": 31,
    "start_time": "2022-03-15T15:11:00.755Z"
   },
   {
    "duration": 6,
    "start_time": "2022-03-15T15:11:00.788Z"
   },
   {
    "duration": 20,
    "start_time": "2022-03-15T15:11:00.796Z"
   },
   {
    "duration": 15,
    "start_time": "2022-03-15T15:11:00.818Z"
   },
   {
    "duration": 44,
    "start_time": "2022-03-15T15:11:00.835Z"
   },
   {
    "duration": 26,
    "start_time": "2022-03-15T15:11:00.881Z"
   },
   {
    "duration": 24,
    "start_time": "2022-03-15T15:11:00.909Z"
   },
   {
    "duration": 20,
    "start_time": "2022-03-15T15:11:00.935Z"
   },
   {
    "duration": 6,
    "start_time": "2022-03-15T15:11:00.957Z"
   },
   {
    "duration": 18,
    "start_time": "2022-03-15T15:11:00.965Z"
   },
   {
    "duration": 4,
    "start_time": "2022-03-15T15:11:00.985Z"
   },
   {
    "duration": 10,
    "start_time": "2022-03-15T15:11:00.990Z"
   },
   {
    "duration": 31,
    "start_time": "2022-03-15T15:11:01.002Z"
   },
   {
    "duration": 6,
    "start_time": "2022-03-15T15:11:01.037Z"
   },
   {
    "duration": 28,
    "start_time": "2022-03-15T15:11:01.045Z"
   },
   {
    "duration": 31,
    "start_time": "2022-03-15T15:11:01.075Z"
   },
   {
    "duration": 16,
    "start_time": "2022-03-15T15:11:01.107Z"
   },
   {
    "duration": 15,
    "start_time": "2022-03-15T15:11:01.125Z"
   },
   {
    "duration": 21,
    "start_time": "2022-03-15T15:11:01.142Z"
   },
   {
    "duration": 19,
    "start_time": "2022-03-15T15:11:01.165Z"
   },
   {
    "duration": 17,
    "start_time": "2022-03-15T15:11:01.185Z"
   },
   {
    "duration": 13,
    "start_time": "2022-03-15T15:11:01.204Z"
   },
   {
    "duration": 15,
    "start_time": "2022-03-15T15:11:01.219Z"
   },
   {
    "duration": 21,
    "start_time": "2022-03-15T15:11:01.236Z"
   },
   {
    "duration": 31,
    "start_time": "2022-03-15T15:11:01.259Z"
   },
   {
    "duration": 22,
    "start_time": "2022-03-15T15:11:01.293Z"
   },
   {
    "duration": 38,
    "start_time": "2022-03-15T15:11:01.318Z"
   },
   {
    "duration": 32,
    "start_time": "2022-03-15T15:21:31.238Z"
   },
   {
    "duration": 39,
    "start_time": "2022-03-15T15:23:07.947Z"
   },
   {
    "duration": 8,
    "start_time": "2022-03-15T15:25:55.887Z"
   },
   {
    "duration": -45,
    "start_time": "2022-03-15T15:26:19.233Z"
   },
   {
    "duration": 6774,
    "start_time": "2022-03-15T15:26:22.351Z"
   },
   {
    "duration": 3230,
    "start_time": "2022-03-15T15:26:40.735Z"
   },
   {
    "duration": 6,
    "start_time": "2022-03-15T15:26:47.825Z"
   },
   {
    "duration": 7,
    "start_time": "2022-03-15T15:27:00.010Z"
   },
   {
    "duration": 6,
    "start_time": "2022-03-15T15:28:26.580Z"
   },
   {
    "duration": 37,
    "start_time": "2022-03-15T15:28:34.948Z"
   },
   {
    "duration": 37,
    "start_time": "2022-03-15T15:29:38.962Z"
   },
   {
    "duration": 236,
    "start_time": "2022-03-15T15:31:17.481Z"
   },
   {
    "duration": 8,
    "start_time": "2022-03-15T15:32:32.712Z"
   },
   {
    "duration": 5,
    "start_time": "2022-03-15T15:34:11.277Z"
   },
   {
    "duration": 303,
    "start_time": "2022-03-15T15:35:27.492Z"
   },
   {
    "duration": 7,
    "start_time": "2022-03-15T15:35:57.683Z"
   },
   {
    "duration": 5,
    "start_time": "2022-03-15T15:37:05.685Z"
   },
   {
    "duration": 271,
    "start_time": "2022-03-15T15:37:20.082Z"
   },
   {
    "duration": 282,
    "start_time": "2022-03-15T15:37:52.641Z"
   },
   {
    "duration": 10,
    "start_time": "2022-03-15T15:38:07.578Z"
   },
   {
    "duration": 283,
    "start_time": "2022-03-16T12:17:00.947Z"
   },
   {
    "duration": 257,
    "start_time": "2022-03-16T12:19:11.640Z"
   },
   {
    "duration": -481,
    "start_time": "2022-03-16T12:19:12.380Z"
   },
   {
    "duration": 1075,
    "start_time": "2022-03-16T12:19:30.531Z"
   },
   {
    "duration": 40,
    "start_time": "2022-03-16T12:19:31.608Z"
   },
   {
    "duration": 13,
    "start_time": "2022-03-16T12:19:31.650Z"
   },
   {
    "duration": 15,
    "start_time": "2022-03-16T12:19:31.665Z"
   },
   {
    "duration": 7,
    "start_time": "2022-03-16T12:19:31.682Z"
   },
   {
    "duration": 5,
    "start_time": "2022-03-16T12:19:31.691Z"
   },
   {
    "duration": 13,
    "start_time": "2022-03-16T12:19:31.697Z"
   },
   {
    "duration": 11,
    "start_time": "2022-03-16T12:19:31.713Z"
   },
   {
    "duration": 13,
    "start_time": "2022-03-16T12:19:31.726Z"
   },
   {
    "duration": 26,
    "start_time": "2022-03-16T12:19:31.741Z"
   },
   {
    "duration": 5,
    "start_time": "2022-03-16T12:19:31.769Z"
   },
   {
    "duration": 10,
    "start_time": "2022-03-16T12:19:31.776Z"
   },
   {
    "duration": 6,
    "start_time": "2022-03-16T12:19:31.787Z"
   },
   {
    "duration": 11,
    "start_time": "2022-03-16T12:19:31.795Z"
   },
   {
    "duration": 26,
    "start_time": "2022-03-16T12:19:31.807Z"
   },
   {
    "duration": 42,
    "start_time": "2022-03-16T12:19:31.835Z"
   },
   {
    "duration": 13,
    "start_time": "2022-03-16T12:19:31.879Z"
   },
   {
    "duration": 5,
    "start_time": "2022-03-16T12:19:31.894Z"
   },
   {
    "duration": 11,
    "start_time": "2022-03-16T12:19:31.901Z"
   },
   {
    "duration": 6,
    "start_time": "2022-03-16T12:19:31.914Z"
   },
   {
    "duration": 8,
    "start_time": "2022-03-16T12:19:31.922Z"
   },
   {
    "duration": 34,
    "start_time": "2022-03-16T12:19:31.932Z"
   },
   {
    "duration": 26,
    "start_time": "2022-03-16T12:19:31.969Z"
   },
   {
    "duration": 11,
    "start_time": "2022-03-16T12:19:31.997Z"
   },
   {
    "duration": 12,
    "start_time": "2022-03-16T12:19:32.009Z"
   },
   {
    "duration": 6,
    "start_time": "2022-03-16T12:19:32.023Z"
   },
   {
    "duration": 4,
    "start_time": "2022-03-16T12:19:32.031Z"
   },
   {
    "duration": 9,
    "start_time": "2022-03-16T12:19:32.036Z"
   },
   {
    "duration": 5,
    "start_time": "2022-03-16T12:19:32.046Z"
   },
   {
    "duration": 13,
    "start_time": "2022-03-16T12:19:32.052Z"
   },
   {
    "duration": 7,
    "start_time": "2022-03-16T12:19:32.067Z"
   },
   {
    "duration": 10,
    "start_time": "2022-03-16T12:19:32.075Z"
   },
   {
    "duration": 13,
    "start_time": "2022-03-16T12:19:32.086Z"
   },
   {
    "duration": 22,
    "start_time": "2022-03-16T12:19:32.101Z"
   },
   {
    "duration": 47,
    "start_time": "2022-03-16T12:19:32.124Z"
   },
   {
    "duration": 18,
    "start_time": "2022-03-16T12:19:32.174Z"
   },
   {
    "duration": 10,
    "start_time": "2022-03-16T12:19:32.194Z"
   },
   {
    "duration": 66,
    "start_time": "2022-03-16T12:19:32.205Z"
   },
   {
    "duration": 5,
    "start_time": "2022-03-16T12:19:32.273Z"
   },
   {
    "duration": 12,
    "start_time": "2022-03-16T12:19:32.279Z"
   },
   {
    "duration": 6,
    "start_time": "2022-03-16T12:20:04.666Z"
   },
   {
    "duration": 7,
    "start_time": "2022-03-16T12:20:18.172Z"
   },
   {
    "duration": 6,
    "start_time": "2022-03-16T12:20:22.491Z"
   },
   {
    "duration": 418,
    "start_time": "2022-03-16T12:30:21.845Z"
   },
   {
    "duration": 313,
    "start_time": "2022-03-16T12:39:54.708Z"
   },
   {
    "duration": 245,
    "start_time": "2022-03-16T12:40:19.253Z"
   },
   {
    "duration": 237,
    "start_time": "2022-03-16T12:40:52.965Z"
   },
   {
    "duration": 1051,
    "start_time": "2022-03-16T12:41:13.046Z"
   },
   {
    "duration": 52,
    "start_time": "2022-03-16T12:41:14.100Z"
   },
   {
    "duration": 11,
    "start_time": "2022-03-16T12:41:14.155Z"
   },
   {
    "duration": 29,
    "start_time": "2022-03-16T12:41:14.169Z"
   },
   {
    "duration": 4,
    "start_time": "2022-03-16T12:41:14.200Z"
   },
   {
    "duration": 4,
    "start_time": "2022-03-16T12:41:14.206Z"
   },
   {
    "duration": 12,
    "start_time": "2022-03-16T12:41:14.212Z"
   },
   {
    "duration": 6,
    "start_time": "2022-03-16T12:41:14.225Z"
   },
   {
    "duration": 32,
    "start_time": "2022-03-16T12:41:14.235Z"
   },
   {
    "duration": 14,
    "start_time": "2022-03-16T12:41:14.269Z"
   },
   {
    "duration": 8,
    "start_time": "2022-03-16T12:41:14.286Z"
   },
   {
    "duration": 10,
    "start_time": "2022-03-16T12:41:14.295Z"
   },
   {
    "duration": 6,
    "start_time": "2022-03-16T12:41:14.306Z"
   },
   {
    "duration": 8,
    "start_time": "2022-03-16T12:41:14.313Z"
   },
   {
    "duration": 48,
    "start_time": "2022-03-16T12:41:14.322Z"
   },
   {
    "duration": 28,
    "start_time": "2022-03-16T12:41:14.372Z"
   },
   {
    "duration": 16,
    "start_time": "2022-03-16T12:41:14.402Z"
   },
   {
    "duration": 5,
    "start_time": "2022-03-16T12:41:14.420Z"
   },
   {
    "duration": 41,
    "start_time": "2022-03-16T12:41:14.427Z"
   },
   {
    "duration": 5,
    "start_time": "2022-03-16T12:41:14.470Z"
   },
   {
    "duration": 10,
    "start_time": "2022-03-16T12:41:14.476Z"
   },
   {
    "duration": 5,
    "start_time": "2022-03-16T12:41:14.488Z"
   },
   {
    "duration": 9,
    "start_time": "2022-03-16T12:41:14.495Z"
   },
   {
    "duration": 5,
    "start_time": "2022-03-16T12:41:14.506Z"
   },
   {
    "duration": 8,
    "start_time": "2022-03-16T12:41:14.513Z"
   },
   {
    "duration": 5,
    "start_time": "2022-03-16T12:41:14.522Z"
   },
   {
    "duration": 36,
    "start_time": "2022-03-16T12:41:14.530Z"
   },
   {
    "duration": 10,
    "start_time": "2022-03-16T12:41:14.568Z"
   },
   {
    "duration": 10,
    "start_time": "2022-03-16T12:41:14.579Z"
   },
   {
    "duration": 9,
    "start_time": "2022-03-16T12:41:14.590Z"
   },
   {
    "duration": 9,
    "start_time": "2022-03-16T12:41:14.600Z"
   },
   {
    "duration": 9,
    "start_time": "2022-03-16T12:41:14.610Z"
   },
   {
    "duration": 10,
    "start_time": "2022-03-16T12:41:14.621Z"
   },
   {
    "duration": 46,
    "start_time": "2022-03-16T12:41:14.632Z"
   },
   {
    "duration": 17,
    "start_time": "2022-03-16T12:41:14.680Z"
   },
   {
    "duration": 19,
    "start_time": "2022-03-16T12:41:14.699Z"
   },
   {
    "duration": 11,
    "start_time": "2022-03-16T12:41:14.720Z"
   },
   {
    "duration": 37,
    "start_time": "2022-03-16T12:41:14.732Z"
   },
   {
    "duration": 52,
    "start_time": "2022-03-16T12:41:14.771Z"
   },
   {
    "duration": 7,
    "start_time": "2022-03-16T12:41:14.825Z"
   },
   {
    "duration": 31,
    "start_time": "2022-03-16T12:41:14.834Z"
   },
   {
    "duration": 603,
    "start_time": "2022-03-16T12:41:14.867Z"
   },
   {
    "duration": 301,
    "start_time": "2022-03-16T12:42:06.615Z"
   },
   {
    "duration": 221,
    "start_time": "2022-03-16T12:42:43.574Z"
   },
   {
    "duration": 447,
    "start_time": "2022-03-16T12:42:50.087Z"
   },
   {
    "duration": 150,
    "start_time": "2022-03-16T12:43:05.846Z"
   },
   {
    "duration": 231,
    "start_time": "2022-03-16T12:43:12.686Z"
   },
   {
    "duration": 1154,
    "start_time": "2022-03-16T12:43:34.146Z"
   },
   {
    "duration": 43,
    "start_time": "2022-03-16T12:43:35.302Z"
   },
   {
    "duration": 15,
    "start_time": "2022-03-16T12:43:35.348Z"
   },
   {
    "duration": 16,
    "start_time": "2022-03-16T12:43:35.365Z"
   },
   {
    "duration": 13,
    "start_time": "2022-03-16T12:43:35.382Z"
   },
   {
    "duration": 7,
    "start_time": "2022-03-16T12:43:35.397Z"
   },
   {
    "duration": 13,
    "start_time": "2022-03-16T12:43:35.405Z"
   },
   {
    "duration": 8,
    "start_time": "2022-03-16T12:43:35.421Z"
   },
   {
    "duration": 5,
    "start_time": "2022-03-16T12:43:35.432Z"
   },
   {
    "duration": 35,
    "start_time": "2022-03-16T12:43:35.439Z"
   },
   {
    "duration": 8,
    "start_time": "2022-03-16T12:43:35.476Z"
   },
   {
    "duration": 12,
    "start_time": "2022-03-16T12:43:35.486Z"
   },
   {
    "duration": 6,
    "start_time": "2022-03-16T12:43:35.500Z"
   },
   {
    "duration": 10,
    "start_time": "2022-03-16T12:43:35.508Z"
   },
   {
    "duration": 49,
    "start_time": "2022-03-16T12:43:35.520Z"
   },
   {
    "duration": 28,
    "start_time": "2022-03-16T12:43:35.571Z"
   },
   {
    "duration": 13,
    "start_time": "2022-03-16T12:43:35.601Z"
   },
   {
    "duration": 5,
    "start_time": "2022-03-16T12:43:35.615Z"
   },
   {
    "duration": 41,
    "start_time": "2022-03-16T12:43:35.622Z"
   },
   {
    "duration": 4,
    "start_time": "2022-03-16T12:43:35.665Z"
   },
   {
    "duration": 8,
    "start_time": "2022-03-16T12:43:35.671Z"
   },
   {
    "duration": 8,
    "start_time": "2022-03-16T12:43:35.680Z"
   },
   {
    "duration": 10,
    "start_time": "2022-03-16T12:43:35.691Z"
   },
   {
    "duration": 6,
    "start_time": "2022-03-16T12:43:35.703Z"
   },
   {
    "duration": 16,
    "start_time": "2022-03-16T12:43:35.710Z"
   },
   {
    "duration": 7,
    "start_time": "2022-03-16T12:43:35.728Z"
   },
   {
    "duration": 6,
    "start_time": "2022-03-16T12:43:35.763Z"
   },
   {
    "duration": 8,
    "start_time": "2022-03-16T12:43:35.771Z"
   },
   {
    "duration": 6,
    "start_time": "2022-03-16T12:43:35.780Z"
   },
   {
    "duration": 8,
    "start_time": "2022-03-16T12:43:35.788Z"
   },
   {
    "duration": 13,
    "start_time": "2022-03-16T12:43:35.798Z"
   },
   {
    "duration": 18,
    "start_time": "2022-03-16T12:43:35.814Z"
   },
   {
    "duration": 13,
    "start_time": "2022-03-16T12:43:35.863Z"
   },
   {
    "duration": 25,
    "start_time": "2022-03-16T12:43:35.878Z"
   },
   {
    "duration": 24,
    "start_time": "2022-03-16T12:43:35.905Z"
   },
   {
    "duration": 45,
    "start_time": "2022-03-16T12:43:35.932Z"
   },
   {
    "duration": 9,
    "start_time": "2022-03-16T12:43:35.979Z"
   },
   {
    "duration": 9,
    "start_time": "2022-03-16T12:43:35.990Z"
   },
   {
    "duration": 68,
    "start_time": "2022-03-16T12:43:36.000Z"
   },
   {
    "duration": 6,
    "start_time": "2022-03-16T12:43:36.070Z"
   },
   {
    "duration": 11,
    "start_time": "2022-03-16T12:43:36.078Z"
   },
   {
    "duration": 496,
    "start_time": "2022-03-16T12:43:36.090Z"
   },
   {
    "duration": 166,
    "start_time": "2022-03-16T12:44:42.113Z"
   },
   {
    "duration": 381,
    "start_time": "2022-03-16T12:44:54.368Z"
   },
   {
    "duration": 244,
    "start_time": "2022-03-16T12:45:32.103Z"
   },
   {
    "duration": 1038,
    "start_time": "2022-03-16T12:45:51.419Z"
   },
   {
    "duration": 44,
    "start_time": "2022-03-16T12:45:52.459Z"
   },
   {
    "duration": 10,
    "start_time": "2022-03-16T12:45:52.505Z"
   },
   {
    "duration": 15,
    "start_time": "2022-03-16T12:45:52.517Z"
   },
   {
    "duration": 4,
    "start_time": "2022-03-16T12:45:52.533Z"
   },
   {
    "duration": 3,
    "start_time": "2022-03-16T12:45:52.539Z"
   },
   {
    "duration": 8,
    "start_time": "2022-03-16T12:45:52.563Z"
   },
   {
    "duration": 4,
    "start_time": "2022-03-16T12:45:52.574Z"
   },
   {
    "duration": 4,
    "start_time": "2022-03-16T12:45:52.580Z"
   },
   {
    "duration": 16,
    "start_time": "2022-03-16T12:45:52.586Z"
   },
   {
    "duration": 6,
    "start_time": "2022-03-16T12:45:52.603Z"
   },
   {
    "duration": 9,
    "start_time": "2022-03-16T12:45:52.611Z"
   },
   {
    "duration": 48,
    "start_time": "2022-03-16T12:45:52.621Z"
   },
   {
    "duration": 7,
    "start_time": "2022-03-16T12:45:52.670Z"
   },
   {
    "duration": 19,
    "start_time": "2022-03-16T12:45:52.678Z"
   },
   {
    "duration": 20,
    "start_time": "2022-03-16T12:45:52.699Z"
   },
   {
    "duration": 13,
    "start_time": "2022-03-16T12:45:52.721Z"
   },
   {
    "duration": 5,
    "start_time": "2022-03-16T12:45:52.764Z"
   },
   {
    "duration": 12,
    "start_time": "2022-03-16T12:45:52.771Z"
   },
   {
    "duration": 5,
    "start_time": "2022-03-16T12:45:52.784Z"
   },
   {
    "duration": 6,
    "start_time": "2022-03-16T12:45:52.791Z"
   },
   {
    "duration": 5,
    "start_time": "2022-03-16T12:45:52.799Z"
   },
   {
    "duration": 6,
    "start_time": "2022-03-16T12:45:52.808Z"
   },
   {
    "duration": 48,
    "start_time": "2022-03-16T12:45:52.816Z"
   },
   {
    "duration": 9,
    "start_time": "2022-03-16T12:45:52.866Z"
   },
   {
    "duration": 5,
    "start_time": "2022-03-16T12:45:52.876Z"
   },
   {
    "duration": 6,
    "start_time": "2022-03-16T12:45:52.883Z"
   },
   {
    "duration": 8,
    "start_time": "2022-03-16T12:45:52.891Z"
   },
   {
    "duration": 5,
    "start_time": "2022-03-16T12:45:52.901Z"
   },
   {
    "duration": 5,
    "start_time": "2022-03-16T12:45:52.907Z"
   },
   {
    "duration": 8,
    "start_time": "2022-03-16T12:45:52.913Z"
   },
   {
    "duration": 50,
    "start_time": "2022-03-16T12:45:52.922Z"
   },
   {
    "duration": 12,
    "start_time": "2022-03-16T12:45:52.973Z"
   },
   {
    "duration": 21,
    "start_time": "2022-03-16T12:45:52.987Z"
   },
   {
    "duration": 19,
    "start_time": "2022-03-16T12:45:53.010Z"
   },
   {
    "duration": 50,
    "start_time": "2022-03-16T12:45:53.031Z"
   },
   {
    "duration": 9,
    "start_time": "2022-03-16T12:45:53.083Z"
   },
   {
    "duration": 7,
    "start_time": "2022-03-16T12:45:53.093Z"
   },
   {
    "duration": 35,
    "start_time": "2022-03-16T12:45:53.101Z"
   },
   {
    "duration": 6,
    "start_time": "2022-03-16T12:45:53.163Z"
   },
   {
    "duration": 24,
    "start_time": "2022-03-16T12:45:53.170Z"
   },
   {
    "duration": 708,
    "start_time": "2022-03-16T12:45:53.196Z"
   },
   {
    "duration": 449,
    "start_time": "2022-03-16T12:50:37.786Z"
   },
   {
    "duration": 369,
    "start_time": "2022-03-16T12:55:04.534Z"
   },
   {
    "duration": 181,
    "start_time": "2022-03-16T12:55:56.731Z"
   },
   {
    "duration": 179,
    "start_time": "2022-03-16T12:57:06.525Z"
   },
   {
    "duration": 382,
    "start_time": "2022-03-16T12:57:34.777Z"
   },
   {
    "duration": 185,
    "start_time": "2022-03-16T12:57:52.936Z"
   },
   {
    "duration": 475,
    "start_time": "2022-03-16T12:59:00.846Z"
   },
   {
    "duration": 376,
    "start_time": "2022-03-16T12:59:26.024Z"
   },
   {
    "duration": 588,
    "start_time": "2022-03-16T12:59:43.578Z"
   },
   {
    "duration": 395,
    "start_time": "2022-03-16T12:59:58.408Z"
   },
   {
    "duration": 796,
    "start_time": "2022-03-16T13:02:24.827Z"
   },
   {
    "duration": 696,
    "start_time": "2022-03-16T13:02:32.966Z"
   },
   {
    "duration": 387,
    "start_time": "2022-03-16T13:02:43.671Z"
   },
   {
    "duration": 72,
    "start_time": "2022-03-16T13:05:24.247Z"
   },
   {
    "duration": 416,
    "start_time": "2022-03-16T13:07:10.308Z"
   },
   {
    "duration": 84,
    "start_time": "2022-03-16T13:08:15.492Z"
   },
   {
    "duration": 404,
    "start_time": "2022-03-16T13:08:20.175Z"
   },
   {
    "duration": 416,
    "start_time": "2022-03-16T13:08:28.694Z"
   },
   {
    "duration": 2,
    "start_time": "2022-03-16T13:08:51.475Z"
   },
   {
    "duration": 3929,
    "start_time": "2022-03-16T13:14:14.794Z"
   },
   {
    "duration": 9027,
    "start_time": "2022-03-16T13:20:17.143Z"
   },
   {
    "duration": 476,
    "start_time": "2022-03-16T13:23:36.556Z"
   },
   {
    "duration": 400,
    "start_time": "2022-03-16T13:23:43.049Z"
   },
   {
    "duration": 471,
    "start_time": "2022-03-16T13:23:49.064Z"
   },
   {
    "duration": 405,
    "start_time": "2022-03-16T13:23:54.739Z"
   },
   {
    "duration": 382,
    "start_time": "2022-03-16T13:23:57.706Z"
   },
   {
    "duration": 400,
    "start_time": "2022-03-16T13:24:04.434Z"
   },
   {
    "duration": 404,
    "start_time": "2022-03-16T13:24:38.593Z"
   },
   {
    "duration": 400,
    "start_time": "2022-03-16T13:24:41.817Z"
   },
   {
    "duration": 397,
    "start_time": "2022-03-16T13:25:44.580Z"
   },
   {
    "duration": 401,
    "start_time": "2022-03-16T13:25:51.864Z"
   },
   {
    "duration": 23946,
    "start_time": "2022-03-16T13:28:58.669Z"
   },
   {
    "duration": 84565,
    "start_time": "2022-03-16T13:32:20.390Z"
   },
   {
    "duration": 3106,
    "start_time": "2022-03-16T13:35:51.914Z"
   },
   {
    "duration": 1018,
    "start_time": "2022-03-16T13:36:29.807Z"
   },
   {
    "duration": 827,
    "start_time": "2022-03-16T13:36:50.099Z"
   },
   {
    "duration": 3246232,
    "start_time": "2022-03-16T13:37:19.771Z"
   },
   {
    "duration": 135403,
    "start_time": "2022-03-16T14:48:52.666Z"
   },
   {
    "duration": 7,
    "start_time": "2022-03-16T14:51:56.734Z"
   },
   {
    "duration": 6,
    "start_time": "2022-03-16T14:52:09.108Z"
   },
   {
    "duration": 6,
    "start_time": "2022-03-16T14:52:11.093Z"
   },
   {
    "duration": 6,
    "start_time": "2022-03-16T14:52:49.558Z"
   },
   {
    "duration": 6,
    "start_time": "2022-03-16T14:52:51.275Z"
   },
   {
    "duration": 7,
    "start_time": "2022-03-16T14:53:34.954Z"
   },
   {
    "duration": 7,
    "start_time": "2022-03-16T14:53:41.289Z"
   },
   {
    "duration": 5,
    "start_time": "2022-03-16T14:53:42.851Z"
   },
   {
    "duration": 6,
    "start_time": "2022-03-16T14:54:03.802Z"
   },
   {
    "duration": 6,
    "start_time": "2022-03-16T14:54:16.298Z"
   },
   {
    "duration": 35,
    "start_time": "2022-03-16T14:55:02.488Z"
   },
   {
    "duration": 6,
    "start_time": "2022-03-16T14:55:27.944Z"
   },
   {
    "duration": 6,
    "start_time": "2022-03-16T14:55:30.120Z"
   },
   {
    "duration": 1040,
    "start_time": "2022-03-16T14:55:49.087Z"
   },
   {
    "duration": 4,
    "start_time": "2022-03-16T15:09:28.472Z"
   },
   {
    "duration": 4,
    "start_time": "2022-03-16T15:10:49.030Z"
   },
   {
    "duration": 548,
    "start_time": "2022-03-16T15:11:46.517Z"
   },
   {
    "duration": 4,
    "start_time": "2022-03-16T15:11:58.389Z"
   },
   {
    "duration": 484,
    "start_time": "2022-03-16T15:12:01.485Z"
   },
   {
    "duration": 4,
    "start_time": "2022-03-16T15:14:47.941Z"
   },
   {
    "duration": 506,
    "start_time": "2022-03-16T15:14:51.539Z"
   },
   {
    "duration": 4,
    "start_time": "2022-03-16T15:15:48.057Z"
   },
   {
    "duration": 452,
    "start_time": "2022-03-16T15:15:51.377Z"
   },
   {
    "duration": 4,
    "start_time": "2022-03-16T15:16:15.601Z"
   },
   {
    "duration": 233,
    "start_time": "2022-03-16T15:16:32.209Z"
   },
   {
    "duration": 10,
    "start_time": "2022-03-16T15:16:56.839Z"
   },
   {
    "duration": 4,
    "start_time": "2022-03-16T15:18:17.023Z"
   },
   {
    "duration": 10,
    "start_time": "2022-03-16T15:18:40.262Z"
   },
   {
    "duration": 11,
    "start_time": "2022-03-16T15:19:03.485Z"
   },
   {
    "duration": 79,
    "start_time": "2022-03-16T15:20:37.686Z"
   },
   {
    "duration": 6,
    "start_time": "2022-03-16T15:20:40.147Z"
   },
   {
    "duration": 7,
    "start_time": "2022-03-16T15:20:42.467Z"
   },
   {
    "duration": 122,
    "start_time": "2022-03-16T15:20:52.250Z"
   },
   {
    "duration": 4273,
    "start_time": "2022-03-16T15:26:41.800Z"
   },
   {
    "duration": 834,
    "start_time": "2022-03-16T15:27:55.089Z"
   },
   {
    "duration": 1240,
    "start_time": "2022-03-16T15:28:41.931Z"
   },
   {
    "duration": 182489,
    "start_time": "2022-03-16T15:30:53.632Z"
   },
   {
    "duration": 191460,
    "start_time": "2022-03-16T15:35:45.019Z"
   },
   {
    "duration": 199412,
    "start_time": "2022-03-16T15:45:10.959Z"
   },
   {
    "duration": 242,
    "start_time": "2022-03-16T15:49:01.914Z"
   },
   {
    "duration": 235,
    "start_time": "2022-03-16T15:50:19.088Z"
   },
   {
    "duration": 367,
    "start_time": "2022-03-16T15:50:48.472Z"
   },
   {
    "duration": 596,
    "start_time": "2022-03-16T15:52:07.006Z"
   },
   {
    "duration": 4,
    "start_time": "2022-03-16T15:52:33.469Z"
   },
   {
    "duration": 355,
    "start_time": "2022-03-16T15:52:39.094Z"
   },
   {
    "duration": 373,
    "start_time": "2022-03-16T15:52:49.774Z"
   },
   {
    "duration": 351,
    "start_time": "2022-03-16T15:53:02.573Z"
   },
   {
    "duration": 377,
    "start_time": "2022-03-16T15:53:14.388Z"
   },
   {
    "duration": 380,
    "start_time": "2022-03-16T15:54:01.244Z"
   },
   {
    "duration": 348,
    "start_time": "2022-03-16T15:54:09.220Z"
   },
   {
    "duration": 350,
    "start_time": "2022-03-16T15:54:55.731Z"
   },
   {
    "duration": 347,
    "start_time": "2022-03-16T15:55:02.283Z"
   },
   {
    "duration": 345,
    "start_time": "2022-03-16T15:55:07.635Z"
   },
   {
    "duration": 368,
    "start_time": "2022-03-16T15:55:13.074Z"
   },
   {
    "duration": 523,
    "start_time": "2022-03-16T15:55:25.682Z"
   },
   {
    "duration": 234,
    "start_time": "2022-03-16T15:55:55.578Z"
   },
   {
    "duration": 4,
    "start_time": "2022-03-16T15:56:06.713Z"
   },
   {
    "duration": 1211,
    "start_time": "2022-03-16T15:56:17.352Z"
   },
   {
    "duration": 135,
    "start_time": "2022-03-16T15:56:18.565Z"
   },
   {
    "duration": 883,
    "start_time": "2022-03-16T15:56:18.702Z"
   },
   {
    "duration": 1042,
    "start_time": "2022-03-16T15:56:19.588Z"
   },
   {
    "duration": 698,
    "start_time": "2022-03-16T15:56:20.632Z"
   },
   {
    "duration": 766,
    "start_time": "2022-03-16T15:56:21.332Z"
   },
   {
    "duration": 460,
    "start_time": "2022-03-16T15:56:22.100Z"
   },
   {
    "duration": 1271,
    "start_time": "2022-03-16T15:56:22.563Z"
   },
   {
    "duration": 1627,
    "start_time": "2022-03-16T15:56:23.837Z"
   },
   {
    "duration": 1069,
    "start_time": "2022-03-16T15:56:25.466Z"
   },
   {
    "duration": 1486,
    "start_time": "2022-03-16T15:56:26.536Z"
   },
   {
    "duration": 1105,
    "start_time": "2022-03-16T15:56:28.025Z"
   },
   {
    "duration": 434,
    "start_time": "2022-03-16T15:56:29.132Z"
   },
   {
    "duration": 413,
    "start_time": "2022-03-16T15:56:29.569Z"
   },
   {
    "duration": 525,
    "start_time": "2022-03-16T15:56:29.984Z"
   },
   {
    "duration": 258,
    "start_time": "2022-03-16T15:56:30.511Z"
   },
   {
    "duration": 358,
    "start_time": "2022-03-16T15:56:30.771Z"
   },
   {
    "duration": 562,
    "start_time": "2022-03-16T15:56:31.131Z"
   },
   {
    "duration": 422,
    "start_time": "2022-03-16T15:56:31.695Z"
   },
   {
    "duration": 564,
    "start_time": "2022-03-16T15:56:32.119Z"
   },
   {
    "duration": 229,
    "start_time": "2022-03-16T15:56:32.685Z"
   },
   {
    "duration": 207,
    "start_time": "2022-03-16T15:56:32.916Z"
   },
   {
    "duration": 240,
    "start_time": "2022-03-16T15:56:33.127Z"
   },
   {
    "duration": 146,
    "start_time": "2022-03-16T15:56:33.369Z"
   },
   {
    "duration": 216,
    "start_time": "2022-03-16T15:56:33.517Z"
   },
   {
    "duration": 113,
    "start_time": "2022-03-16T15:56:33.735Z"
   },
   {
    "duration": 261,
    "start_time": "2022-03-16T15:56:33.850Z"
   },
   {
    "duration": 258,
    "start_time": "2022-03-16T15:56:34.113Z"
   },
   {
    "duration": 578,
    "start_time": "2022-03-16T15:56:34.373Z"
   },
   {
    "duration": 378,
    "start_time": "2022-03-16T15:56:34.953Z"
   },
   {
    "duration": 322,
    "start_time": "2022-03-16T15:56:35.334Z"
   },
   {
    "duration": 403,
    "start_time": "2022-03-16T15:56:35.658Z"
   },
   {
    "duration": 376,
    "start_time": "2022-03-16T15:56:36.063Z"
   },
   {
    "duration": 380,
    "start_time": "2022-03-16T15:56:36.441Z"
   },
   {
    "duration": 435,
    "start_time": "2022-03-16T15:56:36.823Z"
   },
   {
    "duration": 384,
    "start_time": "2022-03-16T15:56:37.260Z"
   },
   {
    "duration": 527,
    "start_time": "2022-03-16T15:56:37.646Z"
   },
   {
    "duration": 575,
    "start_time": "2022-03-16T15:56:38.175Z"
   },
   {
    "duration": 455,
    "start_time": "2022-03-16T15:56:38.753Z"
   },
   {
    "duration": 220,
    "start_time": "2022-03-16T15:56:39.211Z"
   },
   {
    "duration": 1356,
    "start_time": "2022-03-16T15:56:39.464Z"
   },
   {
    "duration": 225998,
    "start_time": "2022-03-16T15:56:40.823Z"
   },
   {
    "duration": 391,
    "start_time": "2022-03-16T16:00:26.823Z"
   },
   {
    "duration": 664,
    "start_time": "2022-03-16T16:00:27.216Z"
   },
   {
    "duration": 225,
    "start_time": "2022-03-16T16:18:36.440Z"
   },
   {
    "duration": 69,
    "start_time": "2022-03-16T16:21:21.836Z"
   },
   {
    "duration": 24,
    "start_time": "2022-03-16T16:21:26.077Z"
   },
   {
    "duration": 71,
    "start_time": "2022-03-16T16:24:20.881Z"
   },
   {
    "duration": 25,
    "start_time": "2022-03-16T16:24:31.049Z"
   },
   {
    "duration": 23,
    "start_time": "2022-03-16T16:24:40.647Z"
   },
   {
    "duration": 25,
    "start_time": "2022-03-16T16:24:54.618Z"
   },
   {
    "duration": 34,
    "start_time": "2022-03-16T16:25:32.368Z"
   },
   {
    "duration": 188,
    "start_time": "2022-03-16T16:26:07.976Z"
   },
   {
    "duration": 904,
    "start_time": "2022-03-16T16:28:28.493Z"
   },
   {
    "duration": 993,
    "start_time": "2022-03-16T16:28:54.580Z"
   },
   {
    "duration": 299,
    "start_time": "2022-03-16T16:31:52.003Z"
   },
   {
    "duration": 307,
    "start_time": "2022-03-16T16:33:15.527Z"
   },
   {
    "duration": 8,
    "start_time": "2022-03-16T16:33:24.553Z"
   },
   {
    "duration": 196765,
    "start_time": "2022-03-16T16:35:31.077Z"
   },
   {
    "duration": 6,
    "start_time": "2022-03-16T16:38:47.844Z"
   },
   {
    "duration": 1375,
    "start_time": "2022-03-16T16:38:47.853Z"
   },
   {
    "duration": 1191,
    "start_time": "2022-03-16T16:40:29.040Z"
   },
   {
    "duration": 57,
    "start_time": "2022-03-16T16:40:30.233Z"
   },
   {
    "duration": 308,
    "start_time": "2022-03-16T16:40:30.292Z"
   },
   {
    "duration": 489,
    "start_time": "2022-03-16T16:40:30.603Z"
   },
   {
    "duration": 379,
    "start_time": "2022-03-16T16:40:31.094Z"
   },
   {
    "duration": 377,
    "start_time": "2022-03-16T16:40:31.476Z"
   },
   {
    "duration": 471,
    "start_time": "2022-03-16T16:40:31.856Z"
   },
   {
    "duration": 671,
    "start_time": "2022-03-16T16:40:32.329Z"
   },
   {
    "duration": 390,
    "start_time": "2022-03-16T16:40:33.002Z"
   },
   {
    "duration": 533,
    "start_time": "2022-03-16T16:40:33.394Z"
   },
   {
    "duration": 371,
    "start_time": "2022-03-16T16:40:33.929Z"
   },
   {
    "duration": 350,
    "start_time": "2022-03-16T16:40:34.302Z"
   },
   {
    "duration": 286,
    "start_time": "2022-03-16T16:40:34.654Z"
   },
   {
    "duration": 355,
    "start_time": "2022-03-16T16:40:34.942Z"
   },
   {
    "duration": 286,
    "start_time": "2022-03-16T16:40:35.299Z"
   },
   {
    "duration": 331,
    "start_time": "2022-03-16T16:40:35.587Z"
   },
   {
    "duration": 490,
    "start_time": "2022-03-16T16:40:35.920Z"
   },
   {
    "duration": 685,
    "start_time": "2022-03-16T16:40:36.412Z"
   },
   {
    "duration": 1119,
    "start_time": "2022-03-16T16:40:37.099Z"
   },
   {
    "duration": 1086,
    "start_time": "2022-03-16T16:40:38.220Z"
   },
   {
    "duration": 1283,
    "start_time": "2022-03-16T16:40:39.307Z"
   },
   {
    "duration": 1793,
    "start_time": "2022-03-16T16:40:40.592Z"
   },
   {
    "duration": 1104,
    "start_time": "2022-03-16T16:40:42.389Z"
   },
   {
    "duration": 840,
    "start_time": "2022-03-16T16:40:43.496Z"
   },
   {
    "duration": 1168,
    "start_time": "2022-03-16T16:40:44.339Z"
   },
   {
    "duration": 901,
    "start_time": "2022-03-16T16:40:45.509Z"
   },
   {
    "duration": 1097,
    "start_time": "2022-03-16T16:40:46.412Z"
   },
   {
    "duration": 1011,
    "start_time": "2022-03-16T16:40:47.511Z"
   },
   {
    "duration": 1432,
    "start_time": "2022-03-16T16:40:48.524Z"
   },
   {
    "duration": 1142,
    "start_time": "2022-03-16T16:40:49.958Z"
   },
   {
    "duration": 698,
    "start_time": "2022-03-16T16:40:51.103Z"
   },
   {
    "duration": 426,
    "start_time": "2022-03-16T16:40:51.803Z"
   },
   {
    "duration": 480,
    "start_time": "2022-03-16T16:40:52.232Z"
   },
   {
    "duration": 838,
    "start_time": "2022-03-16T16:40:52.714Z"
   },
   {
    "duration": 458,
    "start_time": "2022-03-16T16:40:53.555Z"
   },
   {
    "duration": 422,
    "start_time": "2022-03-16T16:40:54.015Z"
   },
   {
    "duration": 664,
    "start_time": "2022-03-16T16:40:54.439Z"
   },
   {
    "duration": 313,
    "start_time": "2022-03-16T16:40:55.105Z"
   },
   {
    "duration": 385,
    "start_time": "2022-03-16T16:40:55.419Z"
   },
   {
    "duration": 277,
    "start_time": "2022-03-16T16:40:55.806Z"
   },
   {
    "duration": 372,
    "start_time": "2022-03-16T16:40:56.085Z"
   },
   {
    "duration": 202,
    "start_time": "2022-03-16T16:40:56.465Z"
   },
   {
    "duration": 1664,
    "start_time": "2022-03-16T16:40:56.669Z"
   },
   {
    "duration": 6,
    "start_time": "2022-03-16T16:40:58.335Z"
   },
   {
    "duration": 201826,
    "start_time": "2022-03-16T16:40:58.343Z"
   },
   {
    "duration": 365,
    "start_time": "2022-03-16T16:44:20.171Z"
   },
   {
    "duration": -283,
    "start_time": "2022-03-16T16:44:20.823Z"
   },
   {
    "duration": -293,
    "start_time": "2022-03-16T16:44:20.834Z"
   },
   {
    "duration": -294,
    "start_time": "2022-03-16T16:44:20.837Z"
   },
   {
    "duration": -294,
    "start_time": "2022-03-16T16:44:20.839Z"
   },
   {
    "duration": 10,
    "start_time": "2022-03-16T16:47:10.453Z"
   },
   {
    "duration": 3,
    "start_time": "2022-03-16T16:47:12.827Z"
   },
   {
    "duration": 3,
    "start_time": "2022-03-16T16:47:21.413Z"
   },
   {
    "duration": 450,
    "start_time": "2022-03-16T16:47:21.419Z"
   },
   {
    "duration": 884,
    "start_time": "2022-03-16T16:47:26.393Z"
   },
   {
    "duration": 1173,
    "start_time": "2022-03-16T16:52:21.651Z"
   },
   {
    "duration": 64,
    "start_time": "2022-03-16T16:52:22.826Z"
   },
   {
    "duration": 276,
    "start_time": "2022-03-16T16:52:22.893Z"
   },
   {
    "duration": 273,
    "start_time": "2022-03-16T16:52:23.172Z"
   },
   {
    "duration": 351,
    "start_time": "2022-03-16T16:52:23.448Z"
   },
   {
    "duration": 300,
    "start_time": "2022-03-16T16:52:23.801Z"
   },
   {
    "duration": 520,
    "start_time": "2022-03-16T16:52:24.103Z"
   },
   {
    "duration": 394,
    "start_time": "2022-03-16T16:52:24.625Z"
   },
   {
    "duration": 200,
    "start_time": "2022-03-16T16:52:25.021Z"
   },
   {
    "duration": 450,
    "start_time": "2022-03-16T16:52:25.223Z"
   },
   {
    "duration": 212,
    "start_time": "2022-03-16T16:52:25.675Z"
   },
   {
    "duration": 591,
    "start_time": "2022-03-16T16:52:25.888Z"
   },
   {
    "duration": 581,
    "start_time": "2022-03-16T16:52:26.480Z"
   },
   {
    "duration": 989,
    "start_time": "2022-03-16T16:52:27.064Z"
   },
   {
    "duration": 961,
    "start_time": "2022-03-16T16:52:28.055Z"
   },
   {
    "duration": 832,
    "start_time": "2022-03-16T16:52:29.019Z"
   },
   {
    "duration": 1392,
    "start_time": "2022-03-16T16:52:29.853Z"
   },
   {
    "duration": 628,
    "start_time": "2022-03-16T16:52:31.248Z"
   },
   {
    "duration": 474,
    "start_time": "2022-03-16T16:52:31.878Z"
   },
   {
    "duration": 345,
    "start_time": "2022-03-16T16:52:32.354Z"
   },
   {
    "duration": 409,
    "start_time": "2022-03-16T16:52:32.700Z"
   },
   {
    "duration": 596,
    "start_time": "2022-03-16T16:52:33.111Z"
   },
   {
    "duration": 347,
    "start_time": "2022-03-16T16:52:33.711Z"
   },
   {
    "duration": 275,
    "start_time": "2022-03-16T16:52:34.061Z"
   },
   {
    "duration": 535,
    "start_time": "2022-03-16T16:52:34.338Z"
   },
   {
    "duration": 427,
    "start_time": "2022-03-16T16:52:34.875Z"
   },
   {
    "duration": 427,
    "start_time": "2022-03-16T16:52:35.304Z"
   },
   {
    "duration": 636,
    "start_time": "2022-03-16T16:52:35.734Z"
   },
   {
    "duration": 1063,
    "start_time": "2022-03-16T16:52:36.373Z"
   },
   {
    "duration": 745,
    "start_time": "2022-03-16T16:52:37.438Z"
   },
   {
    "duration": 1028,
    "start_time": "2022-03-16T16:52:38.185Z"
   },
   {
    "duration": 568,
    "start_time": "2022-03-16T16:52:39.215Z"
   },
   {
    "duration": 715,
    "start_time": "2022-03-16T16:52:39.785Z"
   },
   {
    "duration": 526,
    "start_time": "2022-03-16T16:52:40.502Z"
   },
   {
    "duration": 375,
    "start_time": "2022-03-16T16:52:41.030Z"
   },
   {
    "duration": 608,
    "start_time": "2022-03-16T16:52:41.407Z"
   },
   {
    "duration": 384,
    "start_time": "2022-03-16T16:52:42.017Z"
   },
   {
    "duration": 296,
    "start_time": "2022-03-16T16:52:42.403Z"
   },
   {
    "duration": 569,
    "start_time": "2022-03-16T16:52:42.701Z"
   },
   {
    "duration": 700,
    "start_time": "2022-03-16T16:52:43.272Z"
   },
   {
    "duration": 492,
    "start_time": "2022-03-16T16:52:43.974Z"
   },
   {
    "duration": 322,
    "start_time": "2022-03-16T16:52:44.470Z"
   },
   {
    "duration": 1783,
    "start_time": "2022-03-16T16:52:44.794Z"
   },
   {
    "duration": 9,
    "start_time": "2022-03-16T16:52:46.579Z"
   },
   {
    "duration": 231473,
    "start_time": "2022-03-16T16:52:46.590Z"
   },
   {
    "duration": 3,
    "start_time": "2022-03-16T16:56:38.065Z"
   },
   {
    "duration": 1630,
    "start_time": "2022-03-16T16:56:38.070Z"
   },
   {
    "duration": 964,
    "start_time": "2022-03-16T16:56:39.703Z"
   },
   {
    "duration": 2284,
    "start_time": "2022-03-16T16:56:40.670Z"
   },
   {
    "duration": 192508,
    "start_time": "2022-03-16T16:56:42.964Z"
   },
   {
    "duration": 1201,
    "start_time": "2022-03-16T17:04:00.830Z"
   },
   {
    "duration": 47,
    "start_time": "2022-03-16T17:04:02.033Z"
   },
   {
    "duration": 235,
    "start_time": "2022-03-16T17:04:02.082Z"
   },
   {
    "duration": 424,
    "start_time": "2022-03-16T17:04:02.320Z"
   },
   {
    "duration": 307,
    "start_time": "2022-03-16T17:04:02.746Z"
   },
   {
    "duration": 217,
    "start_time": "2022-03-16T17:04:03.055Z"
   },
   {
    "duration": 229,
    "start_time": "2022-03-16T17:04:03.274Z"
   },
   {
    "duration": 212,
    "start_time": "2022-03-16T17:04:03.505Z"
   },
   {
    "duration": 278,
    "start_time": "2022-03-16T17:04:03.719Z"
   },
   {
    "duration": 391,
    "start_time": "2022-03-16T17:04:03.998Z"
   },
   {
    "duration": 251,
    "start_time": "2022-03-16T17:04:04.391Z"
   },
   {
    "duration": 327,
    "start_time": "2022-03-16T17:04:04.644Z"
   },
   {
    "duration": 330,
    "start_time": "2022-03-16T17:04:04.972Z"
   },
   {
    "duration": 232,
    "start_time": "2022-03-16T17:04:05.304Z"
   },
   {
    "duration": 206,
    "start_time": "2022-03-16T17:04:05.538Z"
   },
   {
    "duration": 181,
    "start_time": "2022-03-16T17:04:05.746Z"
   },
   {
    "duration": 246,
    "start_time": "2022-03-16T17:04:05.929Z"
   },
   {
    "duration": 258,
    "start_time": "2022-03-16T17:04:06.177Z"
   },
   {
    "duration": 234,
    "start_time": "2022-03-16T17:04:06.437Z"
   },
   {
    "duration": 234,
    "start_time": "2022-03-16T17:04:06.672Z"
   },
   {
    "duration": 252,
    "start_time": "2022-03-16T17:04:06.908Z"
   },
   {
    "duration": 255,
    "start_time": "2022-03-16T17:04:07.161Z"
   },
   {
    "duration": 264,
    "start_time": "2022-03-16T17:04:07.420Z"
   },
   {
    "duration": 250,
    "start_time": "2022-03-16T17:04:07.686Z"
   },
   {
    "duration": 270,
    "start_time": "2022-03-16T17:04:07.938Z"
   },
   {
    "duration": 219,
    "start_time": "2022-03-16T17:04:08.210Z"
   },
   {
    "duration": 227,
    "start_time": "2022-03-16T17:04:08.431Z"
   },
   {
    "duration": 202,
    "start_time": "2022-03-16T17:04:08.660Z"
   },
   {
    "duration": 301,
    "start_time": "2022-03-16T17:04:08.864Z"
   },
   {
    "duration": 630,
    "start_time": "2022-03-16T17:04:09.167Z"
   },
   {
    "duration": 937,
    "start_time": "2022-03-16T17:04:09.799Z"
   },
   {
    "duration": 723,
    "start_time": "2022-03-16T17:04:10.738Z"
   },
   {
    "duration": 895,
    "start_time": "2022-03-16T17:04:11.463Z"
   },
   {
    "duration": 1472,
    "start_time": "2022-03-16T17:04:12.361Z"
   },
   {
    "duration": 1127,
    "start_time": "2022-03-16T17:04:13.835Z"
   },
   {
    "duration": 879,
    "start_time": "2022-03-16T17:04:14.964Z"
   },
   {
    "duration": 1298,
    "start_time": "2022-03-16T17:04:15.844Z"
   },
   {
    "duration": 2070,
    "start_time": "2022-03-16T17:04:17.144Z"
   },
   {
    "duration": 1384,
    "start_time": "2022-03-16T17:04:19.217Z"
   },
   {
    "duration": 1457,
    "start_time": "2022-03-16T17:04:20.602Z"
   },
   {
    "duration": 6345,
    "start_time": "2022-03-16T17:04:22.061Z"
   },
   {
    "duration": 1353,
    "start_time": "2022-03-16T17:04:28.465Z"
   },
   {
    "duration": 6979,
    "start_time": "2022-03-16T17:04:29.821Z"
   },
   {
    "duration": 7,
    "start_time": "2022-03-16T17:04:36.802Z"
   },
   {
    "duration": 3651301,
    "start_time": "2022-03-16T17:04:36.811Z"
   },
   {
    "duration": 153,
    "start_time": "2022-03-16T18:05:28.114Z"
   },
   {
    "duration": 3234,
    "start_time": "2022-03-16T18:05:28.270Z"
   },
   {
    "duration": 3390201,
    "start_time": "2022-03-16T18:05:31.506Z"
   },
   {
    "duration": 1801,
    "start_time": "2022-03-17T13:18:27.377Z"
   },
   {
    "duration": 85,
    "start_time": "2022-03-17T13:18:29.182Z"
   },
   {
    "duration": 26,
    "start_time": "2022-03-17T13:18:29.270Z"
   },
   {
    "duration": 27,
    "start_time": "2022-03-17T13:18:29.299Z"
   },
   {
    "duration": 39,
    "start_time": "2022-03-17T13:18:29.330Z"
   },
   {
    "duration": 4,
    "start_time": "2022-03-17T13:18:29.372Z"
   },
   {
    "duration": 14,
    "start_time": "2022-03-17T13:18:29.379Z"
   },
   {
    "duration": 6,
    "start_time": "2022-03-17T13:18:29.395Z"
   },
   {
    "duration": 7,
    "start_time": "2022-03-17T13:18:29.404Z"
   },
   {
    "duration": 64,
    "start_time": "2022-03-17T13:18:29.413Z"
   },
   {
    "duration": 11,
    "start_time": "2022-03-17T13:18:29.480Z"
   },
   {
    "duration": 19,
    "start_time": "2022-03-17T13:18:29.494Z"
   },
   {
    "duration": 8,
    "start_time": "2022-03-17T13:18:29.516Z"
   },
   {
    "duration": 42,
    "start_time": "2022-03-17T13:18:29.529Z"
   },
   {
    "duration": 27,
    "start_time": "2022-03-17T13:18:29.573Z"
   },
   {
    "duration": 28,
    "start_time": "2022-03-17T13:18:29.602Z"
   },
   {
    "duration": 60,
    "start_time": "2022-03-17T13:18:29.632Z"
   },
   {
    "duration": 9,
    "start_time": "2022-03-17T13:18:29.694Z"
   },
   {
    "duration": 18,
    "start_time": "2022-03-17T13:18:29.706Z"
   },
   {
    "duration": 47,
    "start_time": "2022-03-17T13:18:29.727Z"
   },
   {
    "duration": 9,
    "start_time": "2022-03-17T13:18:29.776Z"
   },
   {
    "duration": 11,
    "start_time": "2022-03-17T13:18:29.788Z"
   },
   {
    "duration": 12,
    "start_time": "2022-03-17T13:18:29.802Z"
   },
   {
    "duration": 9,
    "start_time": "2022-03-17T13:18:29.817Z"
   },
   {
    "duration": 12,
    "start_time": "2022-03-17T13:18:29.868Z"
   },
   {
    "duration": 9,
    "start_time": "2022-03-17T13:18:29.882Z"
   },
   {
    "duration": 13,
    "start_time": "2022-03-17T13:18:29.894Z"
   },
   {
    "duration": 11,
    "start_time": "2022-03-17T13:18:29.910Z"
   },
   {
    "duration": 51,
    "start_time": "2022-03-17T13:18:29.924Z"
   },
   {
    "duration": 9,
    "start_time": "2022-03-17T13:18:29.978Z"
   },
   {
    "duration": 13,
    "start_time": "2022-03-17T13:18:29.991Z"
   },
   {
    "duration": 62,
    "start_time": "2022-03-17T13:18:30.006Z"
   },
   {
    "duration": 14,
    "start_time": "2022-03-17T13:18:30.070Z"
   },
   {
    "duration": 34,
    "start_time": "2022-03-17T13:18:30.087Z"
   },
   {
    "duration": 67,
    "start_time": "2022-03-17T13:18:30.123Z"
   },
   {
    "duration": 29,
    "start_time": "2022-03-17T13:18:30.192Z"
   },
   {
    "duration": 6,
    "start_time": "2022-03-17T13:18:30.223Z"
   },
   {
    "duration": 45,
    "start_time": "2022-03-17T13:18:30.232Z"
   },
   {
    "duration": 13,
    "start_time": "2022-03-17T13:18:30.279Z"
   },
   {
    "duration": 5,
    "start_time": "2022-03-17T13:18:30.295Z"
   },
   {
    "duration": 263,
    "start_time": "2022-03-17T13:18:30.305Z"
   },
   {
    "duration": 11,
    "start_time": "2022-03-17T13:18:30.570Z"
   },
   {
    "duration": 2716,
    "start_time": "2022-03-17T13:18:30.584Z"
   },
   {
    "duration": 13,
    "start_time": "2022-03-17T13:20:06.083Z"
   },
   {
    "duration": 1621,
    "start_time": "2022-03-17T13:23:11.026Z"
   },
   {
    "duration": 63,
    "start_time": "2022-03-17T13:23:12.650Z"
   },
   {
    "duration": 23,
    "start_time": "2022-03-17T13:23:12.715Z"
   },
   {
    "duration": 50,
    "start_time": "2022-03-17T13:23:12.741Z"
   },
   {
    "duration": 12,
    "start_time": "2022-03-17T13:23:12.795Z"
   },
   {
    "duration": 16,
    "start_time": "2022-03-17T13:23:12.810Z"
   },
   {
    "duration": 20,
    "start_time": "2022-03-17T13:23:12.829Z"
   },
   {
    "duration": 20,
    "start_time": "2022-03-17T13:23:12.852Z"
   },
   {
    "duration": 10,
    "start_time": "2022-03-17T13:23:12.875Z"
   },
   {
    "duration": 37,
    "start_time": "2022-03-17T13:23:12.887Z"
   },
   {
    "duration": 46,
    "start_time": "2022-03-17T13:23:12.926Z"
   },
   {
    "duration": 21,
    "start_time": "2022-03-17T13:23:12.975Z"
   },
   {
    "duration": 11,
    "start_time": "2022-03-17T13:23:12.998Z"
   },
   {
    "duration": 15,
    "start_time": "2022-03-17T13:23:13.016Z"
   },
   {
    "duration": 62,
    "start_time": "2022-03-17T13:23:13.034Z"
   },
   {
    "duration": 30,
    "start_time": "2022-03-17T13:23:13.099Z"
   },
   {
    "duration": 44,
    "start_time": "2022-03-17T13:23:13.131Z"
   },
   {
    "duration": 6,
    "start_time": "2022-03-17T13:23:13.177Z"
   },
   {
    "duration": 19,
    "start_time": "2022-03-17T13:23:13.185Z"
   },
   {
    "duration": 6,
    "start_time": "2022-03-17T13:23:13.206Z"
   },
   {
    "duration": 7,
    "start_time": "2022-03-17T13:23:13.214Z"
   },
   {
    "duration": 46,
    "start_time": "2022-03-17T13:23:13.223Z"
   },
   {
    "duration": 10,
    "start_time": "2022-03-17T13:23:13.271Z"
   },
   {
    "duration": 8,
    "start_time": "2022-03-17T13:23:13.283Z"
   },
   {
    "duration": 13,
    "start_time": "2022-03-17T13:23:13.293Z"
   },
   {
    "duration": 63,
    "start_time": "2022-03-17T13:23:13.308Z"
   },
   {
    "duration": 15,
    "start_time": "2022-03-17T13:23:13.373Z"
   },
   {
    "duration": 12,
    "start_time": "2022-03-17T13:23:13.393Z"
   },
   {
    "duration": 14,
    "start_time": "2022-03-17T13:23:13.408Z"
   },
   {
    "duration": 49,
    "start_time": "2022-03-17T13:23:13.424Z"
   },
   {
    "duration": 17,
    "start_time": "2022-03-17T13:23:13.476Z"
   },
   {
    "duration": 34,
    "start_time": "2022-03-17T13:23:13.507Z"
   },
   {
    "duration": 26,
    "start_time": "2022-03-17T13:23:13.543Z"
   },
   {
    "duration": 34,
    "start_time": "2022-03-17T13:23:13.572Z"
   },
   {
    "duration": 60,
    "start_time": "2022-03-17T13:23:13.609Z"
   },
   {
    "duration": 31,
    "start_time": "2022-03-17T13:23:13.671Z"
   },
   {
    "duration": 8,
    "start_time": "2022-03-17T13:23:13.704Z"
   },
   {
    "duration": 931,
    "start_time": "2022-03-17T13:23:13.714Z"
   },
   {
    "duration": 15,
    "start_time": "2022-03-17T13:23:14.648Z"
   },
   {
    "duration": 8,
    "start_time": "2022-03-17T13:23:14.666Z"
   },
   {
    "duration": 88,
    "start_time": "2022-03-17T13:23:14.683Z"
   },
   {
    "duration": 13,
    "start_time": "2022-03-17T13:23:14.775Z"
   },
   {
    "duration": 1537,
    "start_time": "2022-03-17T13:23:14.868Z"
   },
   {
    "duration": 13,
    "start_time": "2022-03-17T13:23:16.408Z"
   },
   {
    "duration": 1127459,
    "start_time": "2022-03-17T13:23:16.424Z"
   },
   {
    "duration": 0,
    "start_time": "2022-03-17T13:42:03.885Z"
   },
   {
    "duration": 0,
    "start_time": "2022-03-17T13:42:03.888Z"
   },
   {
    "duration": 0,
    "start_time": "2022-03-17T13:42:03.890Z"
   },
   {
    "duration": 0,
    "start_time": "2022-03-17T13:42:03.891Z"
   },
   {
    "duration": 103,
    "start_time": "2022-03-17T13:54:05.959Z"
   },
   {
    "duration": 7,
    "start_time": "2022-03-17T13:54:29.830Z"
   },
   {
    "duration": 11,
    "start_time": "2022-03-17T13:54:40.336Z"
   },
   {
    "duration": 5,
    "start_time": "2022-03-17T13:54:46.976Z"
   },
   {
    "duration": 1628,
    "start_time": "2022-03-17T13:55:33.626Z"
   },
   {
    "duration": 57,
    "start_time": "2022-03-17T13:55:35.257Z"
   },
   {
    "duration": 19,
    "start_time": "2022-03-17T13:55:35.316Z"
   },
   {
    "duration": 42,
    "start_time": "2022-03-17T13:55:35.339Z"
   },
   {
    "duration": 5,
    "start_time": "2022-03-17T13:55:35.384Z"
   },
   {
    "duration": 7,
    "start_time": "2022-03-17T13:55:35.392Z"
   },
   {
    "duration": 18,
    "start_time": "2022-03-17T13:55:35.401Z"
   },
   {
    "duration": 8,
    "start_time": "2022-03-17T13:55:35.422Z"
   },
   {
    "duration": 40,
    "start_time": "2022-03-17T13:55:35.432Z"
   },
   {
    "duration": 35,
    "start_time": "2022-03-17T13:55:35.477Z"
   },
   {
    "duration": 17,
    "start_time": "2022-03-17T13:55:35.514Z"
   },
   {
    "duration": 48,
    "start_time": "2022-03-17T13:55:35.533Z"
   },
   {
    "duration": 8,
    "start_time": "2022-03-17T13:55:35.584Z"
   },
   {
    "duration": 12,
    "start_time": "2022-03-17T13:55:35.594Z"
   },
   {
    "duration": 25,
    "start_time": "2022-03-17T13:55:35.609Z"
   },
   {
    "duration": 57,
    "start_time": "2022-03-17T13:55:35.636Z"
   },
   {
    "duration": 19,
    "start_time": "2022-03-17T13:55:35.695Z"
   },
   {
    "duration": 8,
    "start_time": "2022-03-17T13:55:35.717Z"
   },
   {
    "duration": 51,
    "start_time": "2022-03-17T13:55:35.728Z"
   },
   {
    "duration": 6,
    "start_time": "2022-03-17T13:55:35.781Z"
   },
   {
    "duration": 7,
    "start_time": "2022-03-17T13:55:35.789Z"
   },
   {
    "duration": 10,
    "start_time": "2022-03-17T13:55:35.798Z"
   },
   {
    "duration": 11,
    "start_time": "2022-03-17T13:55:35.810Z"
   },
   {
    "duration": 6,
    "start_time": "2022-03-17T13:55:35.867Z"
   },
   {
    "duration": 12,
    "start_time": "2022-03-17T13:55:35.875Z"
   },
   {
    "duration": 8,
    "start_time": "2022-03-17T13:55:35.889Z"
   },
   {
    "duration": 7,
    "start_time": "2022-03-17T13:55:35.899Z"
   },
   {
    "duration": 59,
    "start_time": "2022-03-17T13:55:35.912Z"
   },
   {
    "duration": 10,
    "start_time": "2022-03-17T13:55:35.973Z"
   },
   {
    "duration": 8,
    "start_time": "2022-03-17T13:55:35.985Z"
   },
   {
    "duration": 10,
    "start_time": "2022-03-17T13:55:35.995Z"
   },
   {
    "duration": 59,
    "start_time": "2022-03-17T13:55:36.007Z"
   },
   {
    "duration": 14,
    "start_time": "2022-03-17T13:55:36.069Z"
   },
   {
    "duration": 35,
    "start_time": "2022-03-17T13:55:36.085Z"
   },
   {
    "duration": 67,
    "start_time": "2022-03-17T13:55:36.122Z"
   },
   {
    "duration": 39,
    "start_time": "2022-03-17T13:55:36.191Z"
   },
   {
    "duration": 6,
    "start_time": "2022-03-17T13:55:36.232Z"
   },
   {
    "duration": 18,
    "start_time": "2022-03-17T13:55:36.267Z"
   },
   {
    "duration": 12,
    "start_time": "2022-03-17T13:55:36.287Z"
   },
   {
    "duration": 5,
    "start_time": "2022-03-17T13:55:36.301Z"
   },
   {
    "duration": 67,
    "start_time": "2022-03-17T13:55:36.308Z"
   },
   {
    "duration": 92,
    "start_time": "2022-03-17T13:55:36.378Z"
   },
   {
    "duration": 1664,
    "start_time": "2022-03-17T13:55:36.475Z"
   },
   {
    "duration": 26,
    "start_time": "2022-03-17T13:55:38.142Z"
   },
   {
    "duration": 339466,
    "start_time": "2022-03-17T13:55:38.171Z"
   },
   {
    "duration": 0,
    "start_time": "2022-03-17T14:01:17.639Z"
   },
   {
    "duration": 0,
    "start_time": "2022-03-17T14:01:17.641Z"
   },
   {
    "duration": 0,
    "start_time": "2022-03-17T14:01:17.642Z"
   },
   {
    "duration": 0,
    "start_time": "2022-03-17T14:01:17.643Z"
   },
   {
    "duration": 0,
    "start_time": "2022-03-17T14:01:17.645Z"
   },
   {
    "duration": 0,
    "start_time": "2022-03-17T14:01:17.647Z"
   },
   {
    "duration": 0,
    "start_time": "2022-03-17T14:01:17.648Z"
   },
   {
    "duration": 0,
    "start_time": "2022-03-17T14:01:17.650Z"
   },
   {
    "duration": 13,
    "start_time": "2022-03-17T14:04:05.528Z"
   },
   {
    "duration": 27,
    "start_time": "2022-03-17T14:10:21.440Z"
   },
   {
    "duration": 294029,
    "start_time": "2022-03-17T14:10:21.469Z"
   },
   {
    "duration": 1598,
    "start_time": "2022-03-17T14:18:16.537Z"
   },
   {
    "duration": 57,
    "start_time": "2022-03-17T14:18:18.137Z"
   },
   {
    "duration": 24,
    "start_time": "2022-03-17T14:18:18.196Z"
   },
   {
    "duration": 45,
    "start_time": "2022-03-17T14:18:18.223Z"
   },
   {
    "duration": 6,
    "start_time": "2022-03-17T14:18:18.270Z"
   },
   {
    "duration": 14,
    "start_time": "2022-03-17T14:18:18.278Z"
   },
   {
    "duration": 24,
    "start_time": "2022-03-17T14:18:18.295Z"
   },
   {
    "duration": 9,
    "start_time": "2022-03-17T14:18:18.322Z"
   },
   {
    "duration": 8,
    "start_time": "2022-03-17T14:18:18.334Z"
   },
   {
    "duration": 25,
    "start_time": "2022-03-17T14:18:18.370Z"
   },
   {
    "duration": 8,
    "start_time": "2022-03-17T14:18:18.397Z"
   },
   {
    "duration": 33,
    "start_time": "2022-03-17T14:18:18.407Z"
   },
   {
    "duration": 32,
    "start_time": "2022-03-17T14:18:18.443Z"
   },
   {
    "duration": 15,
    "start_time": "2022-03-17T14:18:18.479Z"
   },
   {
    "duration": 25,
    "start_time": "2022-03-17T14:18:18.496Z"
   },
   {
    "duration": 62,
    "start_time": "2022-03-17T14:18:18.523Z"
   },
   {
    "duration": 19,
    "start_time": "2022-03-17T14:18:18.587Z"
   },
   {
    "duration": 6,
    "start_time": "2022-03-17T14:18:18.609Z"
   },
   {
    "duration": 14,
    "start_time": "2022-03-17T14:18:18.617Z"
   },
   {
    "duration": 39,
    "start_time": "2022-03-17T14:18:18.633Z"
   },
   {
    "duration": 7,
    "start_time": "2022-03-17T14:18:18.675Z"
   },
   {
    "duration": 7,
    "start_time": "2022-03-17T14:18:18.684Z"
   },
   {
    "duration": 11,
    "start_time": "2022-03-17T14:18:18.693Z"
   },
   {
    "duration": 7,
    "start_time": "2022-03-17T14:18:18.707Z"
   },
   {
    "duration": 62,
    "start_time": "2022-03-17T14:18:18.716Z"
   },
   {
    "duration": 9,
    "start_time": "2022-03-17T14:18:18.780Z"
   },
   {
    "duration": 9,
    "start_time": "2022-03-17T14:18:18.791Z"
   },
   {
    "duration": 11,
    "start_time": "2022-03-17T14:18:18.808Z"
   },
   {
    "duration": 52,
    "start_time": "2022-03-17T14:18:18.821Z"
   },
   {
    "duration": 7,
    "start_time": "2022-03-17T14:18:18.875Z"
   },
   {
    "duration": 10,
    "start_time": "2022-03-17T14:18:18.884Z"
   },
   {
    "duration": 15,
    "start_time": "2022-03-17T14:18:18.897Z"
   },
   {
    "duration": 67,
    "start_time": "2022-03-17T14:18:18.914Z"
   },
   {
    "duration": 33,
    "start_time": "2022-03-17T14:18:18.983Z"
   },
   {
    "duration": 52,
    "start_time": "2022-03-17T14:18:19.018Z"
   },
   {
    "duration": 29,
    "start_time": "2022-03-17T14:18:19.073Z"
   },
   {
    "duration": 5,
    "start_time": "2022-03-17T14:18:19.105Z"
   },
   {
    "duration": 17,
    "start_time": "2022-03-17T14:18:19.112Z"
   },
   {
    "duration": 45,
    "start_time": "2022-03-17T14:18:19.131Z"
   },
   {
    "duration": 4,
    "start_time": "2022-03-17T14:18:19.179Z"
   },
   {
    "duration": 183,
    "start_time": "2022-03-17T14:18:19.186Z"
   },
   {
    "duration": 10,
    "start_time": "2022-03-17T14:18:19.371Z"
   },
   {
    "duration": 1585,
    "start_time": "2022-03-17T14:18:19.383Z"
   },
   {
    "duration": 13,
    "start_time": "2022-03-17T14:18:20.970Z"
   },
   {
    "duration": 377104,
    "start_time": "2022-03-17T14:18:20.985Z"
   },
   {
    "duration": 90,
    "start_time": "2022-03-17T14:24:38.092Z"
   },
   {
    "duration": 1249,
    "start_time": "2022-03-17T14:24:38.269Z"
   },
   {
    "duration": 293773,
    "start_time": "2022-03-17T14:24:39.521Z"
   },
   {
    "duration": 6,
    "start_time": "2022-03-17T14:29:33.296Z"
   },
   {
    "duration": 192,
    "start_time": "2022-03-17T14:29:33.305Z"
   },
   {
    "duration": 0,
    "start_time": "2022-03-17T14:29:33.500Z"
   },
   {
    "duration": 0,
    "start_time": "2022-03-17T14:29:33.502Z"
   },
   {
    "duration": 0,
    "start_time": "2022-03-17T14:29:33.503Z"
   },
   {
    "duration": 0,
    "start_time": "2022-03-17T14:29:33.505Z"
   },
   {
    "duration": 0,
    "start_time": "2022-03-17T14:29:33.507Z"
   },
   {
    "duration": 0,
    "start_time": "2022-03-17T14:29:33.509Z"
   },
   {
    "duration": 0,
    "start_time": "2022-03-17T14:29:33.510Z"
   },
   {
    "duration": 0,
    "start_time": "2022-03-17T14:29:33.512Z"
   },
   {
    "duration": 6,
    "start_time": "2022-03-17T15:34:00.356Z"
   },
   {
    "duration": 9,
    "start_time": "2022-03-17T15:34:18.012Z"
   },
   {
    "duration": 22,
    "start_time": "2022-03-17T15:34:20.332Z"
   },
   {
    "duration": 92,
    "start_time": "2022-03-17T15:34:22.979Z"
   },
   {
    "duration": 1585,
    "start_time": "2022-03-17T15:34:30.803Z"
   },
   {
    "duration": 439339,
    "start_time": "2022-03-17T15:34:46.692Z"
   },
   {
    "duration": 6,
    "start_time": "2022-03-17T15:42:06.034Z"
   },
   {
    "duration": 33,
    "start_time": "2022-03-17T15:42:06.043Z"
   },
   {
    "duration": 91,
    "start_time": "2022-03-17T15:42:06.079Z"
   },
   {
    "duration": 834,
    "start_time": "2022-03-17T15:42:06.172Z"
   },
   {
    "duration": 159218,
    "start_time": "2022-03-17T15:42:07.009Z"
   },
   {
    "duration": 14,
    "start_time": "2022-03-17T15:52:09.744Z"
   },
   {
    "duration": 299,
    "start_time": "2022-03-17T15:52:34.959Z"
   },
   {
    "duration": 290,
    "start_time": "2022-03-17T15:52:45.000Z"
   },
   {
    "duration": 29,
    "start_time": "2022-03-17T15:54:31.062Z"
   },
   {
    "duration": 9,
    "start_time": "2022-03-17T15:57:40.905Z"
   },
   {
    "duration": 8,
    "start_time": "2022-03-17T15:58:12.528Z"
   },
   {
    "duration": 20,
    "start_time": "2022-03-17T15:58:48.520Z"
   },
   {
    "duration": 26,
    "start_time": "2022-03-17T15:59:08.976Z"
   },
   {
    "duration": 20,
    "start_time": "2022-03-17T15:59:14.103Z"
   },
   {
    "duration": 27,
    "start_time": "2022-03-17T15:59:34.391Z"
   },
   {
    "duration": 19,
    "start_time": "2022-03-17T16:00:07.558Z"
   },
   {
    "duration": 5,
    "start_time": "2022-03-17T16:01:30.634Z"
   },
   {
    "duration": 8,
    "start_time": "2022-03-17T16:01:32.951Z"
   },
   {
    "duration": 13,
    "start_time": "2022-03-17T16:01:36.282Z"
   },
   {
    "duration": 9,
    "start_time": "2022-03-17T16:01:41.091Z"
   },
   {
    "duration": 19,
    "start_time": "2022-03-17T16:01:43.444Z"
   },
   {
    "duration": 239,
    "start_time": "2022-03-17T16:01:49.930Z"
   },
   {
    "duration": 1630,
    "start_time": "2022-03-17T16:01:53.427Z"
   },
   {
    "duration": 441375,
    "start_time": "2022-03-17T16:02:00.899Z"
   },
   {
    "duration": 503,
    "start_time": "2022-03-17T16:25:24.648Z"
   },
   {
    "duration": 33,
    "start_time": "2022-03-17T16:25:29.797Z"
   },
   {
    "duration": 1535,
    "start_time": "2022-03-17T16:27:02.750Z"
   },
   {
    "duration": 60,
    "start_time": "2022-03-17T16:27:04.288Z"
   },
   {
    "duration": 28,
    "start_time": "2022-03-17T16:27:04.350Z"
   },
   {
    "duration": 23,
    "start_time": "2022-03-17T16:27:04.381Z"
   },
   {
    "duration": 5,
    "start_time": "2022-03-17T16:27:04.406Z"
   },
   {
    "duration": 8,
    "start_time": "2022-03-17T16:27:04.413Z"
   },
   {
    "duration": 45,
    "start_time": "2022-03-17T16:27:04.424Z"
   },
   {
    "duration": 7,
    "start_time": "2022-03-17T16:27:04.472Z"
   },
   {
    "duration": 11,
    "start_time": "2022-03-17T16:27:04.481Z"
   },
   {
    "duration": 24,
    "start_time": "2022-03-17T16:27:04.496Z"
   },
   {
    "duration": 8,
    "start_time": "2022-03-17T16:27:04.522Z"
   },
   {
    "duration": 18,
    "start_time": "2022-03-17T16:27:04.568Z"
   },
   {
    "duration": 7,
    "start_time": "2022-03-17T16:27:04.589Z"
   },
   {
    "duration": 8,
    "start_time": "2022-03-17T16:27:04.598Z"
   },
   {
    "duration": 59,
    "start_time": "2022-03-17T16:27:04.608Z"
   },
   {
    "duration": 27,
    "start_time": "2022-03-17T16:27:04.670Z"
   },
   {
    "duration": 19,
    "start_time": "2022-03-17T16:27:04.699Z"
   },
   {
    "duration": 7,
    "start_time": "2022-03-17T16:27:04.720Z"
   },
   {
    "duration": 51,
    "start_time": "2022-03-17T16:27:04.729Z"
   },
   {
    "duration": 6,
    "start_time": "2022-03-17T16:27:04.783Z"
   },
   {
    "duration": 8,
    "start_time": "2022-03-17T16:27:04.792Z"
   },
   {
    "duration": 10,
    "start_time": "2022-03-17T16:27:04.803Z"
   },
   {
    "duration": 11,
    "start_time": "2022-03-17T16:27:04.816Z"
   },
   {
    "duration": 9,
    "start_time": "2022-03-17T16:27:04.868Z"
   },
   {
    "duration": 12,
    "start_time": "2022-03-17T16:27:04.879Z"
   },
   {
    "duration": 10,
    "start_time": "2022-03-17T16:27:04.893Z"
   },
   {
    "duration": 7,
    "start_time": "2022-03-17T16:27:04.906Z"
   },
   {
    "duration": 11,
    "start_time": "2022-03-17T16:27:04.970Z"
   },
   {
    "duration": 10,
    "start_time": "2022-03-17T16:27:04.984Z"
   },
   {
    "duration": 8,
    "start_time": "2022-03-17T16:27:04.997Z"
   },
   {
    "duration": 11,
    "start_time": "2022-03-17T16:27:05.007Z"
   },
   {
    "duration": 17,
    "start_time": "2022-03-17T16:27:05.068Z"
   },
   {
    "duration": 18,
    "start_time": "2022-03-17T16:27:05.087Z"
   },
   {
    "duration": 34,
    "start_time": "2022-03-17T16:27:05.106Z"
   },
   {
    "duration": 28,
    "start_time": "2022-03-17T16:27:05.168Z"
   },
   {
    "duration": 29,
    "start_time": "2022-03-17T16:27:05.198Z"
   },
   {
    "duration": 5,
    "start_time": "2022-03-17T16:27:05.229Z"
   },
   {
    "duration": 41,
    "start_time": "2022-03-17T16:27:05.236Z"
   },
   {
    "duration": 11,
    "start_time": "2022-03-17T16:27:05.279Z"
   },
   {
    "duration": 5,
    "start_time": "2022-03-17T16:27:05.292Z"
   },
   {
    "duration": 78,
    "start_time": "2022-03-17T16:27:05.300Z"
   },
   {
    "duration": 8,
    "start_time": "2022-03-17T16:27:05.469Z"
   },
   {
    "duration": 4828,
    "start_time": "2022-03-17T16:27:05.479Z"
   },
   {
    "duration": 13,
    "start_time": "2022-03-17T16:27:10.310Z"
   },
   {
    "duration": 1707,
    "start_time": "2022-03-17T17:45:44.357Z"
   },
   {
    "duration": 83,
    "start_time": "2022-03-17T17:45:46.067Z"
   },
   {
    "duration": 30,
    "start_time": "2022-03-17T17:45:46.153Z"
   },
   {
    "duration": 30,
    "start_time": "2022-03-17T17:45:46.187Z"
   },
   {
    "duration": 5,
    "start_time": "2022-03-17T17:45:46.219Z"
   },
   {
    "duration": 4,
    "start_time": "2022-03-17T17:45:46.227Z"
   },
   {
    "duration": 10,
    "start_time": "2022-03-17T17:45:46.267Z"
   },
   {
    "duration": 8,
    "start_time": "2022-03-17T17:45:46.280Z"
   },
   {
    "duration": 7,
    "start_time": "2022-03-17T17:45:46.291Z"
   },
   {
    "duration": 26,
    "start_time": "2022-03-17T17:45:46.303Z"
   },
   {
    "duration": 9,
    "start_time": "2022-03-17T17:45:46.368Z"
   },
   {
    "duration": 20,
    "start_time": "2022-03-17T17:45:46.379Z"
   },
   {
    "duration": 8,
    "start_time": "2022-03-17T17:45:46.401Z"
   },
   {
    "duration": 8,
    "start_time": "2022-03-17T17:45:46.412Z"
   },
   {
    "duration": 73,
    "start_time": "2022-03-17T17:45:46.422Z"
   },
   {
    "duration": 35,
    "start_time": "2022-03-17T17:45:46.498Z"
   },
   {
    "duration": 44,
    "start_time": "2022-03-17T17:45:46.535Z"
   },
   {
    "duration": 6,
    "start_time": "2022-03-17T17:45:46.582Z"
   },
   {
    "duration": 14,
    "start_time": "2022-03-17T17:45:46.591Z"
   },
   {
    "duration": 6,
    "start_time": "2022-03-17T17:45:46.607Z"
   },
   {
    "duration": 6,
    "start_time": "2022-03-17T17:45:46.616Z"
   },
   {
    "duration": 48,
    "start_time": "2022-03-17T17:45:46.625Z"
   },
   {
    "duration": 13,
    "start_time": "2022-03-17T17:45:46.675Z"
   },
   {
    "duration": 8,
    "start_time": "2022-03-17T17:45:46.691Z"
   },
   {
    "duration": 11,
    "start_time": "2022-03-17T17:45:46.701Z"
   },
   {
    "duration": 9,
    "start_time": "2022-03-17T17:45:46.714Z"
   },
   {
    "duration": 7,
    "start_time": "2022-03-17T17:45:46.768Z"
   },
   {
    "duration": 11,
    "start_time": "2022-03-17T17:45:46.782Z"
   },
   {
    "duration": 11,
    "start_time": "2022-03-17T17:45:46.795Z"
   },
   {
    "duration": 8,
    "start_time": "2022-03-17T17:45:46.808Z"
   },
   {
    "duration": 57,
    "start_time": "2022-03-17T17:45:46.818Z"
   },
   {
    "duration": 16,
    "start_time": "2022-03-17T17:45:46.877Z"
   },
   {
    "duration": 17,
    "start_time": "2022-03-17T17:45:46.895Z"
   },
   {
    "duration": 65,
    "start_time": "2022-03-17T17:45:46.914Z"
   },
   {
    "duration": 28,
    "start_time": "2022-03-17T17:45:46.982Z"
   },
   {
    "duration": 58,
    "start_time": "2022-03-17T17:45:47.013Z"
   },
   {
    "duration": 6,
    "start_time": "2022-03-17T17:45:47.073Z"
   },
   {
    "duration": 16,
    "start_time": "2022-03-17T17:45:47.081Z"
   },
   {
    "duration": 12,
    "start_time": "2022-03-17T17:45:47.100Z"
   },
   {
    "duration": 4,
    "start_time": "2022-03-17T17:45:47.114Z"
   },
   {
    "duration": 146,
    "start_time": "2022-03-17T17:45:47.120Z"
   },
   {
    "duration": 98,
    "start_time": "2022-03-17T17:45:47.270Z"
   },
   {
    "duration": 4905,
    "start_time": "2022-03-17T17:45:47.371Z"
   },
   {
    "duration": 12,
    "start_time": "2022-03-17T17:45:52.279Z"
   },
   {
    "duration": 5004508,
    "start_time": "2022-03-17T17:45:52.293Z"
   },
   {
    "duration": 71,
    "start_time": "2022-03-17T19:09:16.803Z"
   },
   {
    "duration": 4632,
    "start_time": "2022-03-17T19:09:16.877Z"
   },
   {
    "duration": 5299036,
    "start_time": "2022-03-17T19:09:21.512Z"
   },
   {
    "duration": 6,
    "start_time": "2022-03-17T20:37:40.551Z"
   },
   {
    "duration": 20,
    "start_time": "2022-03-17T20:37:40.569Z"
   },
   {
    "duration": 85,
    "start_time": "2022-03-17T20:37:40.591Z"
   },
   {
    "duration": 5898,
    "start_time": "2022-03-17T20:37:40.679Z"
   },
   {
    "duration": 7599400,
    "start_time": "2022-03-17T20:37:46.580Z"
   },
   {
    "duration": 7,
    "start_time": "2022-03-17T22:44:25.982Z"
   },
   {
    "duration": 21,
    "start_time": "2022-03-17T22:44:25.991Z"
   },
   {
    "duration": 155,
    "start_time": "2022-03-17T22:44:26.014Z"
   },
   {
    "duration": 2510,
    "start_time": "2022-03-17T22:44:26.172Z"
   },
   {
    "duration": 2553753,
    "start_time": "2022-03-17T22:44:28.684Z"
   },
   {
    "duration": 496,
    "start_time": "2022-03-17T23:27:02.440Z"
   },
   {
    "duration": 43,
    "start_time": "2022-03-17T23:27:02.938Z"
   },
   {
    "duration": 51,
    "start_time": "2022-03-18T12:47:20.644Z"
   },
   {
    "duration": 1282,
    "start_time": "2022-03-18T12:50:13.644Z"
   },
   {
    "duration": 48,
    "start_time": "2022-03-18T12:50:14.928Z"
   },
   {
    "duration": 14,
    "start_time": "2022-03-18T12:50:14.978Z"
   },
   {
    "duration": 26,
    "start_time": "2022-03-18T12:50:14.994Z"
   },
   {
    "duration": 37,
    "start_time": "2022-03-18T12:50:15.021Z"
   },
   {
    "duration": 12,
    "start_time": "2022-03-18T12:50:15.060Z"
   },
   {
    "duration": 24,
    "start_time": "2022-03-18T12:50:15.074Z"
   },
   {
    "duration": 10,
    "start_time": "2022-03-18T12:50:15.101Z"
   },
   {
    "duration": 8,
    "start_time": "2022-03-18T12:50:15.113Z"
   },
   {
    "duration": 29,
    "start_time": "2022-03-18T12:50:15.125Z"
   },
   {
    "duration": 12,
    "start_time": "2022-03-18T12:50:15.155Z"
   },
   {
    "duration": 17,
    "start_time": "2022-03-18T12:50:15.169Z"
   },
   {
    "duration": 7,
    "start_time": "2022-03-18T12:50:15.188Z"
   },
   {
    "duration": 15,
    "start_time": "2022-03-18T12:50:15.196Z"
   },
   {
    "duration": 29,
    "start_time": "2022-03-18T12:50:15.213Z"
   },
   {
    "duration": 20,
    "start_time": "2022-03-18T12:50:15.244Z"
   },
   {
    "duration": 13,
    "start_time": "2022-03-18T12:50:15.266Z"
   },
   {
    "duration": 4,
    "start_time": "2022-03-18T12:50:15.281Z"
   },
   {
    "duration": 22,
    "start_time": "2022-03-18T12:50:15.287Z"
   },
   {
    "duration": 21,
    "start_time": "2022-03-18T12:50:15.311Z"
   },
   {
    "duration": 20,
    "start_time": "2022-03-18T12:50:15.334Z"
   },
   {
    "duration": 20,
    "start_time": "2022-03-18T12:50:15.356Z"
   },
   {
    "duration": 29,
    "start_time": "2022-03-18T12:50:15.377Z"
   },
   {
    "duration": 14,
    "start_time": "2022-03-18T12:50:15.408Z"
   },
   {
    "duration": 30,
    "start_time": "2022-03-18T12:50:15.424Z"
   },
   {
    "duration": 9,
    "start_time": "2022-03-18T12:50:15.456Z"
   },
   {
    "duration": 7,
    "start_time": "2022-03-18T12:50:15.467Z"
   },
   {
    "duration": 9,
    "start_time": "2022-03-18T12:50:15.478Z"
   },
   {
    "duration": 6,
    "start_time": "2022-03-18T12:50:15.489Z"
   },
   {
    "duration": 5,
    "start_time": "2022-03-18T12:50:15.497Z"
   },
   {
    "duration": 28,
    "start_time": "2022-03-18T12:50:15.504Z"
   },
   {
    "duration": 12,
    "start_time": "2022-03-18T12:50:15.534Z"
   },
   {
    "duration": 10,
    "start_time": "2022-03-18T12:50:15.548Z"
   },
   {
    "duration": 24,
    "start_time": "2022-03-18T12:50:15.560Z"
   },
   {
    "duration": 58,
    "start_time": "2022-03-18T12:50:15.586Z"
   },
   {
    "duration": 26,
    "start_time": "2022-03-18T12:50:15.645Z"
   },
   {
    "duration": 4,
    "start_time": "2022-03-18T12:50:15.673Z"
   },
   {
    "duration": 10,
    "start_time": "2022-03-18T12:50:15.679Z"
   },
   {
    "duration": 8,
    "start_time": "2022-03-18T12:50:15.691Z"
   },
   {
    "duration": 5,
    "start_time": "2022-03-18T12:50:20.271Z"
   },
   {
    "duration": 10,
    "start_time": "2022-03-18T12:50:24.299Z"
   },
   {
    "duration": 64,
    "start_time": "2022-03-18T12:50:38.733Z"
   },
   {
    "duration": 4,
    "start_time": "2022-03-18T12:50:49.118Z"
   },
   {
    "duration": 15,
    "start_time": "2022-03-18T12:50:55.055Z"
   },
   {
    "duration": 5,
    "start_time": "2022-03-18T12:51:01.399Z"
   },
   {
    "duration": 14,
    "start_time": "2022-03-18T12:51:03.526Z"
   },
   {
    "duration": 339,
    "start_time": "2022-03-18T12:51:08.452Z"
   },
   {
    "duration": 23,
    "start_time": "2022-03-18T12:51:11.366Z"
   },
   {
    "duration": 616,
    "start_time": "2022-03-18T12:51:13.310Z"
   },
   {
    "duration": 35,
    "start_time": "2022-03-18T12:51:19.869Z"
   },
   {
    "duration": 678,
    "start_time": "2022-03-18T12:51:55.452Z"
   },
   {
    "duration": 36,
    "start_time": "2022-03-18T12:51:57.580Z"
   },
   {
    "duration": 725,
    "start_time": "2022-03-18T12:52:00.285Z"
   },
   {
    "duration": 39,
    "start_time": "2022-03-18T12:52:01.972Z"
   },
   {
    "duration": 589,
    "start_time": "2022-03-18T12:52:16.940Z"
   },
   {
    "duration": 34,
    "start_time": "2022-03-18T12:52:19.541Z"
   },
   {
    "duration": 345,
    "start_time": "2022-03-18T13:03:35.423Z"
   },
   {
    "duration": 23,
    "start_time": "2022-03-18T13:03:37.599Z"
   },
   {
    "duration": 476,
    "start_time": "2022-03-18T13:03:53.640Z"
   },
   {
    "duration": 35,
    "start_time": "2022-03-18T13:03:56.206Z"
   },
   {
    "duration": 586,
    "start_time": "2022-03-18T13:04:17.942Z"
   },
   {
    "duration": 31,
    "start_time": "2022-03-18T13:04:21.878Z"
   },
   {
    "duration": 490,
    "start_time": "2022-03-18T13:04:26.832Z"
   },
   {
    "duration": 36,
    "start_time": "2022-03-18T13:04:30.478Z"
   },
   {
    "duration": 344,
    "start_time": "2022-03-18T13:52:03.916Z"
   },
   {
    "duration": 23,
    "start_time": "2022-03-18T13:52:06.028Z"
   },
   {
    "duration": 9,
    "start_time": "2022-03-18T13:53:28.531Z"
   },
   {
    "duration": 1232,
    "start_time": "2022-03-18T13:53:56.629Z"
   },
   {
    "duration": 50,
    "start_time": "2022-03-18T13:53:57.863Z"
   },
   {
    "duration": 19,
    "start_time": "2022-03-18T13:53:57.915Z"
   },
   {
    "duration": 24,
    "start_time": "2022-03-18T13:53:57.938Z"
   },
   {
    "duration": 5,
    "start_time": "2022-03-18T13:53:57.964Z"
   },
   {
    "duration": 6,
    "start_time": "2022-03-18T13:53:57.971Z"
   },
   {
    "duration": 8,
    "start_time": "2022-03-18T13:53:57.979Z"
   },
   {
    "duration": 6,
    "start_time": "2022-03-18T13:53:57.989Z"
   },
   {
    "duration": 37,
    "start_time": "2022-03-18T13:53:57.997Z"
   },
   {
    "duration": 29,
    "start_time": "2022-03-18T13:53:58.038Z"
   },
   {
    "duration": 6,
    "start_time": "2022-03-18T13:53:58.068Z"
   },
   {
    "duration": 15,
    "start_time": "2022-03-18T13:53:58.075Z"
   },
   {
    "duration": 9,
    "start_time": "2022-03-18T13:53:58.092Z"
   },
   {
    "duration": 33,
    "start_time": "2022-03-18T13:53:58.102Z"
   },
   {
    "duration": 19,
    "start_time": "2022-03-18T13:53:58.137Z"
   },
   {
    "duration": 20,
    "start_time": "2022-03-18T13:53:58.159Z"
   },
   {
    "duration": 14,
    "start_time": "2022-03-18T13:53:58.181Z"
   },
   {
    "duration": 5,
    "start_time": "2022-03-18T13:53:58.197Z"
   },
   {
    "duration": 11,
    "start_time": "2022-03-18T13:53:58.232Z"
   },
   {
    "duration": 4,
    "start_time": "2022-03-18T13:53:58.245Z"
   },
   {
    "duration": 8,
    "start_time": "2022-03-18T13:53:58.250Z"
   },
   {
    "duration": 9,
    "start_time": "2022-03-18T13:53:58.260Z"
   },
   {
    "duration": 10,
    "start_time": "2022-03-18T13:53:58.270Z"
   },
   {
    "duration": 6,
    "start_time": "2022-03-18T13:53:58.282Z"
   },
   {
    "duration": 43,
    "start_time": "2022-03-18T13:53:58.290Z"
   },
   {
    "duration": 8,
    "start_time": "2022-03-18T13:53:58.335Z"
   },
   {
    "duration": 7,
    "start_time": "2022-03-18T13:53:58.345Z"
   },
   {
    "duration": 8,
    "start_time": "2022-03-18T13:53:58.358Z"
   },
   {
    "duration": 7,
    "start_time": "2022-03-18T13:53:58.368Z"
   },
   {
    "duration": 6,
    "start_time": "2022-03-18T13:53:58.377Z"
   },
   {
    "duration": 9,
    "start_time": "2022-03-18T13:53:58.432Z"
   },
   {
    "duration": 12,
    "start_time": "2022-03-18T13:53:58.443Z"
   },
   {
    "duration": 15,
    "start_time": "2022-03-18T13:53:58.457Z"
   },
   {
    "duration": 26,
    "start_time": "2022-03-18T13:53:58.473Z"
   },
   {
    "duration": 49,
    "start_time": "2022-03-18T13:53:58.500Z"
   },
   {
    "duration": 20,
    "start_time": "2022-03-18T13:53:58.551Z"
   },
   {
    "duration": 5,
    "start_time": "2022-03-18T13:53:58.573Z"
   },
   {
    "duration": 16,
    "start_time": "2022-03-18T13:53:58.580Z"
   },
   {
    "duration": 36,
    "start_time": "2022-03-18T13:53:58.597Z"
   },
   {
    "duration": 4,
    "start_time": "2022-03-18T13:53:58.634Z"
   },
   {
    "duration": 27,
    "start_time": "2022-03-18T13:53:58.639Z"
   },
   {
    "duration": 8,
    "start_time": "2022-03-18T13:53:58.738Z"
   },
   {
    "duration": 1391,
    "start_time": "2022-03-18T13:53:58.833Z"
   },
   {
    "duration": 11,
    "start_time": "2022-03-18T13:54:00.226Z"
   },
   {
    "duration": 207777,
    "start_time": "2022-03-18T13:54:00.239Z"
   },
   {
    "duration": 115,
    "start_time": "2022-03-18T13:57:28.017Z"
   },
   {
    "duration": 981,
    "start_time": "2022-03-18T13:57:28.135Z"
   },
   {
    "duration": 212377,
    "start_time": "2022-03-18T13:57:29.117Z"
   },
   {
    "duration": 5,
    "start_time": "2022-03-18T14:01:01.496Z"
   },
   {
    "duration": 28,
    "start_time": "2022-03-18T14:01:01.503Z"
   },
   {
    "duration": 102,
    "start_time": "2022-03-18T14:01:01.533Z"
   },
   {
    "duration": 1229,
    "start_time": "2022-03-18T14:01:01.637Z"
   },
   {
    "duration": 284779,
    "start_time": "2022-03-18T14:01:02.868Z"
   },
   {
    "duration": 4,
    "start_time": "2022-03-18T14:05:47.649Z"
   },
   {
    "duration": 21,
    "start_time": "2022-03-18T14:05:47.655Z"
   },
   {
    "duration": 58,
    "start_time": "2022-03-18T14:05:47.678Z"
   },
   {
    "duration": 632,
    "start_time": "2022-03-18T14:05:47.738Z"
   },
   {
    "duration": 113387,
    "start_time": "2022-03-18T14:05:48.371Z"
   },
   {
    "duration": 365,
    "start_time": "2022-03-18T14:07:41.759Z"
   },
   {
    "duration": 26,
    "start_time": "2022-03-18T14:07:42.125Z"
   },
   {
    "duration": 6,
    "start_time": "2022-03-18T19:52:18.474Z"
   },
   {
    "duration": 23,
    "start_time": "2022-03-18T19:56:54.045Z"
   },
   {
    "duration": 23,
    "start_time": "2022-03-18T19:57:57.387Z"
   },
   {
    "duration": 24,
    "start_time": "2022-03-18T19:59:22.473Z"
   },
   {
    "duration": 1309,
    "start_time": "2022-03-18T20:00:24.601Z"
   },
   {
    "duration": 58,
    "start_time": "2022-03-18T20:00:25.913Z"
   },
   {
    "duration": 14,
    "start_time": "2022-03-18T20:00:25.972Z"
   },
   {
    "duration": 23,
    "start_time": "2022-03-18T20:00:25.988Z"
   },
   {
    "duration": 6,
    "start_time": "2022-03-18T20:00:26.013Z"
   },
   {
    "duration": 15,
    "start_time": "2022-03-18T20:00:26.021Z"
   },
   {
    "duration": 12,
    "start_time": "2022-03-18T20:00:26.038Z"
   },
   {
    "duration": 5,
    "start_time": "2022-03-18T20:00:26.052Z"
   },
   {
    "duration": 12,
    "start_time": "2022-03-18T20:00:26.059Z"
   },
   {
    "duration": 21,
    "start_time": "2022-03-18T20:00:26.074Z"
   },
   {
    "duration": 5,
    "start_time": "2022-03-18T20:00:26.097Z"
   },
   {
    "duration": 21,
    "start_time": "2022-03-18T20:00:26.104Z"
   },
   {
    "duration": 9,
    "start_time": "2022-03-18T20:00:26.127Z"
   },
   {
    "duration": 11,
    "start_time": "2022-03-18T20:00:26.137Z"
   },
   {
    "duration": 28,
    "start_time": "2022-03-18T20:00:26.149Z"
   },
   {
    "duration": 18,
    "start_time": "2022-03-18T20:00:26.179Z"
   },
   {
    "duration": 14,
    "start_time": "2022-03-18T20:00:26.199Z"
   },
   {
    "duration": 5,
    "start_time": "2022-03-18T20:00:26.214Z"
   },
   {
    "duration": 14,
    "start_time": "2022-03-18T20:00:26.221Z"
   },
   {
    "duration": 13,
    "start_time": "2022-03-18T20:00:26.237Z"
   },
   {
    "duration": 16,
    "start_time": "2022-03-18T20:00:26.252Z"
   },
   {
    "duration": 11,
    "start_time": "2022-03-18T20:00:26.270Z"
   },
   {
    "duration": 12,
    "start_time": "2022-03-18T20:00:26.283Z"
   },
   {
    "duration": 6,
    "start_time": "2022-03-18T20:00:26.297Z"
   },
   {
    "duration": 14,
    "start_time": "2022-03-18T20:00:26.304Z"
   },
   {
    "duration": 14,
    "start_time": "2022-03-18T20:00:26.320Z"
   },
   {
    "duration": 8,
    "start_time": "2022-03-18T20:00:26.336Z"
   },
   {
    "duration": 9,
    "start_time": "2022-03-18T20:00:26.348Z"
   },
   {
    "duration": 9,
    "start_time": "2022-03-18T20:00:26.358Z"
   },
   {
    "duration": 8,
    "start_time": "2022-03-18T20:00:26.368Z"
   },
   {
    "duration": 7,
    "start_time": "2022-03-18T20:00:26.378Z"
   },
   {
    "duration": 12,
    "start_time": "2022-03-18T20:00:26.387Z"
   },
   {
    "duration": 21,
    "start_time": "2022-03-18T20:00:26.401Z"
   },
   {
    "duration": 26,
    "start_time": "2022-03-18T20:00:26.424Z"
   },
   {
    "duration": 22,
    "start_time": "2022-03-18T20:00:26.451Z"
   },
   {
    "duration": 26,
    "start_time": "2022-03-18T20:00:26.475Z"
   },
   {
    "duration": 4,
    "start_time": "2022-03-18T20:00:26.503Z"
   },
   {
    "duration": 27,
    "start_time": "2022-03-18T20:00:26.509Z"
   },
   {
    "duration": 9,
    "start_time": "2022-03-18T20:00:26.538Z"
   },
   {
    "duration": 7,
    "start_time": "2022-03-18T20:00:26.549Z"
   },
   {
    "duration": 76,
    "start_time": "2022-03-18T20:00:26.558Z"
   },
   {
    "duration": 96,
    "start_time": "2022-03-18T20:00:26.636Z"
   },
   {
    "duration": 1443,
    "start_time": "2022-03-18T20:00:26.734Z"
   },
   {
    "duration": 10,
    "start_time": "2022-03-18T20:00:28.179Z"
   },
   {
    "duration": 221550,
    "start_time": "2022-03-18T20:00:28.191Z"
   },
   {
    "duration": 188,
    "start_time": "2022-03-18T20:04:09.743Z"
   },
   {
    "duration": 961,
    "start_time": "2022-03-18T20:04:09.933Z"
   },
   {
    "duration": 223859,
    "start_time": "2022-03-18T20:04:10.896Z"
   },
   {
    "duration": 5,
    "start_time": "2022-03-18T20:07:54.757Z"
   },
   {
    "duration": 16,
    "start_time": "2022-03-18T20:07:54.763Z"
   },
   {
    "duration": 152,
    "start_time": "2022-03-18T20:07:54.781Z"
   },
   {
    "duration": 1208,
    "start_time": "2022-03-18T20:07:54.936Z"
   },
   {
    "duration": 300998,
    "start_time": "2022-03-18T20:07:56.145Z"
   },
   {
    "duration": 5,
    "start_time": "2022-03-18T20:12:57.144Z"
   },
   {
    "duration": 18,
    "start_time": "2022-03-18T20:12:57.150Z"
   },
   {
    "duration": 68,
    "start_time": "2022-03-18T20:12:57.170Z"
   },
   {
    "duration": 715,
    "start_time": "2022-03-18T20:12:57.240Z"
   },
   {
    "duration": 125704,
    "start_time": "2022-03-18T20:12:57.957Z"
   },
   {
    "duration": 360,
    "start_time": "2022-03-18T20:15:03.662Z"
   },
   {
    "duration": 29,
    "start_time": "2022-03-18T20:15:04.023Z"
   },
   {
    "duration": 26,
    "start_time": "2022-03-18T20:15:04.053Z"
   },
   {
    "duration": 363,
    "start_time": "2022-03-18T20:17:31.311Z"
   },
   {
    "duration": 23,
    "start_time": "2022-03-18T20:17:33.521Z"
   },
   {
    "duration": 23,
    "start_time": "2022-03-18T20:17:35.442Z"
   },
   {
    "duration": 112,
    "start_time": "2022-03-18T20:17:37.330Z"
   },
   {
    "duration": 5,
    "start_time": "2022-03-18T20:18:01.297Z"
   },
   {
    "duration": 11,
    "start_time": "2022-03-18T20:18:06.666Z"
   },
   {
    "duration": 4,
    "start_time": "2022-03-18T20:18:36.937Z"
   },
   {
    "duration": 10,
    "start_time": "2022-03-18T20:18:41.864Z"
   },
   {
    "duration": 135,
    "start_time": "2022-03-18T20:19:02.025Z"
   },
   {
    "duration": 12,
    "start_time": "2022-03-18T20:23:54.352Z"
   },
   {
    "duration": 6,
    "start_time": "2022-03-18T20:24:20.853Z"
   },
   {
    "duration": 7,
    "start_time": "2022-03-18T20:26:18.694Z"
   },
   {
    "duration": 6,
    "start_time": "2022-03-18T20:26:40.264Z"
   },
   {
    "duration": 10,
    "start_time": "2022-03-18T20:27:11.443Z"
   },
   {
    "duration": 27,
    "start_time": "2022-03-18T20:28:52.875Z"
   },
   {
    "duration": 4,
    "start_time": "2022-03-18T20:34:49.335Z"
   },
   {
    "duration": 3660,
    "start_time": "2022-03-18T20:36:24.981Z"
   },
   {
    "duration": 2712,
    "start_time": "2022-03-18T20:37:19.075Z"
   },
   {
    "duration": 2803,
    "start_time": "2022-03-18T20:38:59.954Z"
   },
   {
    "duration": 2614,
    "start_time": "2022-03-18T20:42:20.944Z"
   },
   {
    "duration": 2916,
    "start_time": "2022-03-18T20:43:03.419Z"
   },
   {
    "duration": 2720,
    "start_time": "2022-03-18T20:43:20.744Z"
   },
   {
    "duration": 2663,
    "start_time": "2022-03-18T20:43:32.376Z"
   },
   {
    "duration": 2702,
    "start_time": "2022-03-18T20:44:38.991Z"
   },
   {
    "duration": 31660,
    "start_time": "2022-03-18T20:51:23.929Z"
   },
   {
    "duration": 1504,
    "start_time": "2022-03-19T10:53:28.772Z"
   },
   {
    "duration": 37,
    "start_time": "2022-03-19T10:53:30.278Z"
   },
   {
    "duration": 16,
    "start_time": "2022-03-19T10:53:30.317Z"
   },
   {
    "duration": 20,
    "start_time": "2022-03-19T10:53:30.334Z"
   },
   {
    "duration": 4,
    "start_time": "2022-03-19T10:53:30.355Z"
   },
   {
    "duration": 26,
    "start_time": "2022-03-19T10:53:30.360Z"
   },
   {
    "duration": 21,
    "start_time": "2022-03-19T10:53:30.388Z"
   },
   {
    "duration": 16,
    "start_time": "2022-03-19T10:53:30.411Z"
   },
   {
    "duration": 8,
    "start_time": "2022-03-19T10:53:30.429Z"
   },
   {
    "duration": 22,
    "start_time": "2022-03-19T10:53:30.439Z"
   },
   {
    "duration": 6,
    "start_time": "2022-03-19T10:53:30.462Z"
   },
   {
    "duration": 23,
    "start_time": "2022-03-19T10:53:30.469Z"
   },
   {
    "duration": 9,
    "start_time": "2022-03-19T10:53:30.493Z"
   },
   {
    "duration": 20,
    "start_time": "2022-03-19T10:53:30.504Z"
   },
   {
    "duration": 27,
    "start_time": "2022-03-19T10:53:30.526Z"
   },
   {
    "duration": 21,
    "start_time": "2022-03-19T10:53:30.555Z"
   },
   {
    "duration": 16,
    "start_time": "2022-03-19T10:53:30.577Z"
   },
   {
    "duration": 11,
    "start_time": "2022-03-19T10:53:30.594Z"
   },
   {
    "duration": 21,
    "start_time": "2022-03-19T10:53:30.607Z"
   },
   {
    "duration": 27,
    "start_time": "2022-03-19T10:53:30.630Z"
   },
   {
    "duration": 10,
    "start_time": "2022-03-19T10:53:30.659Z"
   },
   {
    "duration": 11,
    "start_time": "2022-03-19T10:53:30.671Z"
   },
   {
    "duration": 15,
    "start_time": "2022-03-19T10:53:30.683Z"
   },
   {
    "duration": 10,
    "start_time": "2022-03-19T10:53:30.699Z"
   },
   {
    "duration": 9,
    "start_time": "2022-03-19T10:53:30.711Z"
   },
   {
    "duration": 10,
    "start_time": "2022-03-19T10:53:30.721Z"
   },
   {
    "duration": 16,
    "start_time": "2022-03-19T10:53:30.733Z"
   },
   {
    "duration": 15,
    "start_time": "2022-03-19T10:53:30.753Z"
   },
   {
    "duration": 6,
    "start_time": "2022-03-19T10:53:30.770Z"
   },
   {
    "duration": 6,
    "start_time": "2022-03-19T10:53:30.778Z"
   },
   {
    "duration": 16,
    "start_time": "2022-03-19T10:53:30.786Z"
   },
   {
    "duration": 18,
    "start_time": "2022-03-19T10:53:30.803Z"
   },
   {
    "duration": 10,
    "start_time": "2022-03-19T10:53:30.823Z"
   },
   {
    "duration": 22,
    "start_time": "2022-03-19T10:53:30.835Z"
   },
   {
    "duration": 17,
    "start_time": "2022-03-19T10:53:30.859Z"
   },
   {
    "duration": 16,
    "start_time": "2022-03-19T10:53:30.878Z"
   },
   {
    "duration": 37,
    "start_time": "2022-03-19T10:53:30.896Z"
   },
   {
    "duration": 7,
    "start_time": "2022-03-19T10:53:30.935Z"
   },
   {
    "duration": 11,
    "start_time": "2022-03-19T10:53:30.944Z"
   },
   {
    "duration": 5,
    "start_time": "2022-03-19T10:53:30.956Z"
   },
   {
    "duration": 75,
    "start_time": "2022-03-19T10:53:30.963Z"
   },
   {
    "duration": 95,
    "start_time": "2022-03-19T10:53:31.040Z"
   },
   {
    "duration": 851,
    "start_time": "2022-03-19T10:53:31.136Z"
   },
   {
    "duration": 8,
    "start_time": "2022-03-19T10:53:31.989Z"
   },
   {
    "duration": 196259,
    "start_time": "2022-03-19T10:53:31.998Z"
   },
   {
    "duration": 76,
    "start_time": "2022-03-19T10:56:48.259Z"
   },
   {
    "duration": 989,
    "start_time": "2022-03-19T10:56:48.337Z"
   },
   {
    "duration": 194159,
    "start_time": "2022-03-19T10:56:49.327Z"
   },
   {
    "duration": 4,
    "start_time": "2022-03-19T11:00:03.488Z"
   },
   {
    "duration": 22,
    "start_time": "2022-03-19T11:00:03.494Z"
   },
   {
    "duration": 113,
    "start_time": "2022-03-19T11:00:03.519Z"
   },
   {
    "duration": 1113,
    "start_time": "2022-03-19T11:00:03.635Z"
   },
   {
    "duration": 266151,
    "start_time": "2022-03-19T11:00:04.750Z"
   },
   {
    "duration": 5,
    "start_time": "2022-03-19T11:04:30.904Z"
   },
   {
    "duration": 30,
    "start_time": "2022-03-19T11:04:30.911Z"
   },
   {
    "duration": 89,
    "start_time": "2022-03-19T11:04:30.943Z"
   },
   {
    "duration": 604,
    "start_time": "2022-03-19T11:04:31.035Z"
   },
   {
    "duration": 114522,
    "start_time": "2022-03-19T11:04:31.641Z"
   },
   {
    "duration": 322,
    "start_time": "2022-03-19T11:06:26.164Z"
   },
   {
    "duration": 21,
    "start_time": "2022-03-19T11:06:26.487Z"
   },
   {
    "duration": 36,
    "start_time": "2022-03-19T11:06:26.510Z"
   },
   {
    "duration": 111,
    "start_time": "2022-03-19T11:06:26.548Z"
   },
   {
    "duration": 9,
    "start_time": "2022-03-19T11:15:19.538Z"
   },
   {
    "duration": 17,
    "start_time": "2022-03-19T11:18:12.470Z"
   },
   {
    "duration": 108,
    "start_time": "2022-03-19T11:18:47.596Z"
   },
   {
    "duration": 107,
    "start_time": "2022-03-19T11:19:18.357Z"
   },
   {
    "duration": 11,
    "start_time": "2022-03-19T11:21:29.761Z"
   },
   {
    "duration": 17,
    "start_time": "2022-03-19T11:21:35.425Z"
   },
   {
    "duration": 9,
    "start_time": "2022-03-19T11:22:06.647Z"
   },
   {
    "duration": 17,
    "start_time": "2022-03-19T11:22:09.065Z"
   },
   {
    "duration": 8,
    "start_time": "2022-03-19T11:22:22.643Z"
   },
   {
    "duration": 16,
    "start_time": "2022-03-19T11:22:24.416Z"
   },
   {
    "duration": 4,
    "start_time": "2022-03-19T11:23:58.038Z"
   },
   {
    "duration": 38,
    "start_time": "2022-03-19T11:24:00.198Z"
   },
   {
    "duration": 167,
    "start_time": "2022-03-19T11:24:11.166Z"
   },
   {
    "duration": 4,
    "start_time": "2022-03-19T11:24:15.784Z"
   },
   {
    "duration": 5,
    "start_time": "2022-03-19T11:24:21.222Z"
   },
   {
    "duration": 16,
    "start_time": "2022-03-19T11:24:23.038Z"
   },
   {
    "duration": 4,
    "start_time": "2022-03-19T11:24:25.861Z"
   },
   {
    "duration": 111,
    "start_time": "2022-03-19T11:24:27.725Z"
   },
   {
    "duration": 17,
    "start_time": "2022-03-19T11:24:51.934Z"
   },
   {
    "duration": 5,
    "start_time": "2022-03-19T11:24:56.093Z"
   },
   {
    "duration": 16,
    "start_time": "2022-03-19T11:24:57.965Z"
   },
   {
    "duration": 3,
    "start_time": "2022-03-19T11:25:00.645Z"
   },
   {
    "duration": 137,
    "start_time": "2022-03-19T11:25:02.397Z"
   },
   {
    "duration": 4,
    "start_time": "2022-03-19T11:25:13.997Z"
   },
   {
    "duration": 161,
    "start_time": "2022-03-19T11:25:16.573Z"
   },
   {
    "duration": 4,
    "start_time": "2022-03-19T11:27:34.462Z"
   },
   {
    "duration": 35,
    "start_time": "2022-03-19T11:27:34.468Z"
   },
   {
    "duration": 11,
    "start_time": "2022-03-19T11:27:34.504Z"
   },
   {
    "duration": 14,
    "start_time": "2022-03-19T11:27:34.518Z"
   },
   {
    "duration": 8,
    "start_time": "2022-03-19T11:27:34.534Z"
   },
   {
    "duration": 4,
    "start_time": "2022-03-19T11:27:34.544Z"
   },
   {
    "duration": 10,
    "start_time": "2022-03-19T11:27:34.549Z"
   },
   {
    "duration": 4,
    "start_time": "2022-03-19T11:27:34.560Z"
   },
   {
    "duration": 4,
    "start_time": "2022-03-19T11:27:34.567Z"
   },
   {
    "duration": 15,
    "start_time": "2022-03-19T11:27:34.572Z"
   },
   {
    "duration": 10,
    "start_time": "2022-03-19T11:27:34.588Z"
   },
   {
    "duration": 40,
    "start_time": "2022-03-19T11:27:34.600Z"
   },
   {
    "duration": 5,
    "start_time": "2022-03-19T11:27:34.642Z"
   },
   {
    "duration": 10,
    "start_time": "2022-03-19T11:27:34.649Z"
   },
   {
    "duration": 15,
    "start_time": "2022-03-19T11:27:34.661Z"
   },
   {
    "duration": 16,
    "start_time": "2022-03-19T11:27:34.677Z"
   },
   {
    "duration": 40,
    "start_time": "2022-03-19T11:27:34.694Z"
   },
   {
    "duration": 4,
    "start_time": "2022-03-19T11:27:34.736Z"
   },
   {
    "duration": 10,
    "start_time": "2022-03-19T11:27:34.742Z"
   },
   {
    "duration": 3,
    "start_time": "2022-03-19T11:27:34.754Z"
   },
   {
    "duration": 4,
    "start_time": "2022-03-19T11:27:34.759Z"
   },
   {
    "duration": 6,
    "start_time": "2022-03-19T11:27:34.764Z"
   },
   {
    "duration": 5,
    "start_time": "2022-03-19T11:27:34.772Z"
   },
   {
    "duration": 6,
    "start_time": "2022-03-19T11:27:34.780Z"
   },
   {
    "duration": 47,
    "start_time": "2022-03-19T11:27:34.787Z"
   },
   {
    "duration": 7,
    "start_time": "2022-03-19T11:27:34.835Z"
   },
   {
    "duration": 7,
    "start_time": "2022-03-19T11:27:34.843Z"
   },
   {
    "duration": 7,
    "start_time": "2022-03-19T11:27:34.852Z"
   },
   {
    "duration": 6,
    "start_time": "2022-03-19T11:27:34.860Z"
   },
   {
    "duration": 5,
    "start_time": "2022-03-19T11:27:34.867Z"
   },
   {
    "duration": 8,
    "start_time": "2022-03-19T11:27:34.873Z"
   },
   {
    "duration": 10,
    "start_time": "2022-03-19T11:27:34.883Z"
   },
   {
    "duration": 41,
    "start_time": "2022-03-19T11:27:34.894Z"
   },
   {
    "duration": 22,
    "start_time": "2022-03-19T11:27:34.937Z"
   },
   {
    "duration": 18,
    "start_time": "2022-03-19T11:27:34.961Z"
   },
   {
    "duration": 17,
    "start_time": "2022-03-19T11:27:34.980Z"
   },
   {
    "duration": 36,
    "start_time": "2022-03-19T11:27:34.998Z"
   },
   {
    "duration": 11,
    "start_time": "2022-03-19T11:27:35.035Z"
   },
   {
    "duration": 7,
    "start_time": "2022-03-19T11:27:35.047Z"
   },
   {
    "duration": 18,
    "start_time": "2022-03-19T11:27:35.055Z"
   },
   {
    "duration": 2,
    "start_time": "2022-03-19T11:27:35.075Z"
   },
   {
    "duration": 156,
    "start_time": "2022-03-19T11:27:35.079Z"
   },
   {
    "duration": 6,
    "start_time": "2022-03-19T11:32:25.407Z"
   },
   {
    "duration": 815,
    "start_time": "2022-03-19T11:32:27.092Z"
   },
   {
    "duration": 6,
    "start_time": "2022-03-19T11:32:54.868Z"
   },
   {
    "duration": 6,
    "start_time": "2022-03-19T11:33:00.128Z"
   },
   {
    "duration": 6,
    "start_time": "2022-03-19T11:33:06.740Z"
   },
   {
    "duration": 6,
    "start_time": "2022-03-19T11:33:11.007Z"
   },
   {
    "duration": 828,
    "start_time": "2022-03-19T11:33:12.705Z"
   },
   {
    "duration": 517,
    "start_time": "2022-03-19T11:34:54.386Z"
   },
   {
    "duration": 9,
    "start_time": "2022-03-19T11:37:48.168Z"
   },
   {
    "duration": 1344,
    "start_time": "2022-03-19T11:39:46.201Z"
   },
   {
    "duration": 39,
    "start_time": "2022-03-19T11:39:47.548Z"
   },
   {
    "duration": 13,
    "start_time": "2022-03-19T11:39:47.588Z"
   },
   {
    "duration": 16,
    "start_time": "2022-03-19T11:39:47.603Z"
   },
   {
    "duration": 15,
    "start_time": "2022-03-19T11:39:47.620Z"
   },
   {
    "duration": 8,
    "start_time": "2022-03-19T11:39:47.636Z"
   },
   {
    "duration": 10,
    "start_time": "2022-03-19T11:39:47.646Z"
   },
   {
    "duration": 5,
    "start_time": "2022-03-19T11:39:47.658Z"
   },
   {
    "duration": 6,
    "start_time": "2022-03-19T11:39:47.665Z"
   },
   {
    "duration": 19,
    "start_time": "2022-03-19T11:39:47.674Z"
   },
   {
    "duration": 6,
    "start_time": "2022-03-19T11:39:47.695Z"
   },
   {
    "duration": 41,
    "start_time": "2022-03-19T11:39:47.703Z"
   },
   {
    "duration": 6,
    "start_time": "2022-03-19T11:39:47.746Z"
   },
   {
    "duration": 9,
    "start_time": "2022-03-19T11:39:47.754Z"
   },
   {
    "duration": 17,
    "start_time": "2022-03-19T11:39:47.764Z"
   },
   {
    "duration": 17,
    "start_time": "2022-03-19T11:39:47.783Z"
   },
   {
    "duration": 41,
    "start_time": "2022-03-19T11:39:47.801Z"
   },
   {
    "duration": 5,
    "start_time": "2022-03-19T11:39:47.843Z"
   },
   {
    "duration": 14,
    "start_time": "2022-03-19T11:39:47.849Z"
   },
   {
    "duration": 4,
    "start_time": "2022-03-19T11:39:47.864Z"
   },
   {
    "duration": 10,
    "start_time": "2022-03-19T11:39:47.870Z"
   },
   {
    "duration": 7,
    "start_time": "2022-03-19T11:39:47.882Z"
   },
   {
    "duration": 10,
    "start_time": "2022-03-19T11:39:47.891Z"
   },
   {
    "duration": 8,
    "start_time": "2022-03-19T11:39:47.902Z"
   },
   {
    "duration": 8,
    "start_time": "2022-03-19T11:39:47.933Z"
   },
   {
    "duration": 5,
    "start_time": "2022-03-19T11:39:47.943Z"
   },
   {
    "duration": 8,
    "start_time": "2022-03-19T11:39:47.950Z"
   },
   {
    "duration": 7,
    "start_time": "2022-03-19T11:39:47.962Z"
   },
   {
    "duration": 5,
    "start_time": "2022-03-19T11:39:47.970Z"
   },
   {
    "duration": 5,
    "start_time": "2022-03-19T11:39:47.977Z"
   },
   {
    "duration": 9,
    "start_time": "2022-03-19T11:39:47.983Z"
   },
   {
    "duration": 47,
    "start_time": "2022-03-19T11:39:47.993Z"
   },
   {
    "duration": 10,
    "start_time": "2022-03-19T11:39:48.042Z"
   },
   {
    "duration": 23,
    "start_time": "2022-03-19T11:39:48.054Z"
   },
   {
    "duration": 16,
    "start_time": "2022-03-19T11:39:48.078Z"
   },
   {
    "duration": 43,
    "start_time": "2022-03-19T11:39:48.096Z"
   },
   {
    "duration": 5,
    "start_time": "2022-03-19T11:39:48.140Z"
   },
   {
    "duration": 12,
    "start_time": "2022-03-19T11:39:48.146Z"
   },
   {
    "duration": 5,
    "start_time": "2022-03-19T11:39:48.160Z"
   },
   {
    "duration": 18,
    "start_time": "2022-03-19T11:39:48.166Z"
   },
   {
    "duration": 3,
    "start_time": "2022-03-19T11:39:48.186Z"
   },
   {
    "duration": 144,
    "start_time": "2022-03-19T11:39:48.190Z"
   },
   {
    "duration": 98,
    "start_time": "2022-03-19T11:39:48.336Z"
   },
   {
    "duration": 856,
    "start_time": "2022-03-19T11:39:48.435Z"
   },
   {
    "duration": 10,
    "start_time": "2022-03-19T11:39:49.293Z"
   },
   {
    "duration": 198237,
    "start_time": "2022-03-19T11:39:49.304Z"
   },
   {
    "duration": 112,
    "start_time": "2022-03-19T11:43:07.542Z"
   },
   {
    "duration": 0,
    "start_time": "2022-03-19T11:43:07.656Z"
   },
   {
    "duration": 0,
    "start_time": "2022-03-19T11:43:07.657Z"
   },
   {
    "duration": 0,
    "start_time": "2022-03-19T11:43:07.658Z"
   },
   {
    "duration": 0,
    "start_time": "2022-03-19T11:43:07.659Z"
   },
   {
    "duration": 0,
    "start_time": "2022-03-19T11:43:07.660Z"
   },
   {
    "duration": 0,
    "start_time": "2022-03-19T11:43:07.661Z"
   },
   {
    "duration": 0,
    "start_time": "2022-03-19T11:43:07.662Z"
   },
   {
    "duration": 0,
    "start_time": "2022-03-19T11:43:07.663Z"
   },
   {
    "duration": 0,
    "start_time": "2022-03-19T11:43:07.664Z"
   },
   {
    "duration": 0,
    "start_time": "2022-03-19T11:43:07.665Z"
   },
   {
    "duration": 0,
    "start_time": "2022-03-19T11:43:07.666Z"
   },
   {
    "duration": 0,
    "start_time": "2022-03-19T11:43:07.668Z"
   },
   {
    "duration": 0,
    "start_time": "2022-03-19T11:43:07.669Z"
   },
   {
    "duration": 0,
    "start_time": "2022-03-19T11:43:07.670Z"
   },
   {
    "duration": 0,
    "start_time": "2022-03-19T11:43:07.671Z"
   },
   {
    "duration": 0,
    "start_time": "2022-03-19T11:43:07.672Z"
   },
   {
    "duration": 188,
    "start_time": "2022-03-19T11:44:54.746Z"
   },
   {
    "duration": 5,
    "start_time": "2022-03-19T11:47:36.668Z"
   },
   {
    "duration": 17,
    "start_time": "2022-03-19T11:47:38.458Z"
   },
   {
    "duration": 4,
    "start_time": "2022-03-19T11:47:58.131Z"
   },
   {
    "duration": 143,
    "start_time": "2022-03-19T11:48:00.292Z"
   },
   {
    "duration": 6,
    "start_time": "2022-03-19T11:48:14.928Z"
   },
   {
    "duration": 6,
    "start_time": "2022-03-19T11:48:25.972Z"
   },
   {
    "duration": 824,
    "start_time": "2022-03-19T11:48:28.644Z"
   },
   {
    "duration": 1382,
    "start_time": "2022-03-19T11:53:38.542Z"
   },
   {
    "duration": 35,
    "start_time": "2022-03-19T11:53:39.926Z"
   },
   {
    "duration": 15,
    "start_time": "2022-03-19T11:53:39.963Z"
   },
   {
    "duration": 18,
    "start_time": "2022-03-19T11:53:39.980Z"
   },
   {
    "duration": 12,
    "start_time": "2022-03-19T11:53:40.000Z"
   },
   {
    "duration": 19,
    "start_time": "2022-03-19T11:53:40.014Z"
   },
   {
    "duration": 8,
    "start_time": "2022-03-19T11:53:40.035Z"
   },
   {
    "duration": 5,
    "start_time": "2022-03-19T11:53:40.044Z"
   },
   {
    "duration": 5,
    "start_time": "2022-03-19T11:53:40.050Z"
   },
   {
    "duration": 14,
    "start_time": "2022-03-19T11:53:40.058Z"
   },
   {
    "duration": 9,
    "start_time": "2022-03-19T11:53:40.073Z"
   },
   {
    "duration": 48,
    "start_time": "2022-03-19T11:53:40.085Z"
   },
   {
    "duration": 9,
    "start_time": "2022-03-19T11:53:40.135Z"
   },
   {
    "duration": 8,
    "start_time": "2022-03-19T11:53:40.146Z"
   },
   {
    "duration": 21,
    "start_time": "2022-03-19T11:53:40.155Z"
   },
   {
    "duration": 17,
    "start_time": "2022-03-19T11:53:40.178Z"
   },
   {
    "duration": 37,
    "start_time": "2022-03-19T11:53:40.197Z"
   },
   {
    "duration": 4,
    "start_time": "2022-03-19T11:53:40.236Z"
   },
   {
    "duration": 11,
    "start_time": "2022-03-19T11:53:40.241Z"
   },
   {
    "duration": 3,
    "start_time": "2022-03-19T11:53:40.253Z"
   },
   {
    "duration": 4,
    "start_time": "2022-03-19T11:53:40.258Z"
   },
   {
    "duration": 6,
    "start_time": "2022-03-19T11:53:40.263Z"
   },
   {
    "duration": 10,
    "start_time": "2022-03-19T11:53:40.270Z"
   },
   {
    "duration": 5,
    "start_time": "2022-03-19T11:53:40.281Z"
   },
   {
    "duration": 7,
    "start_time": "2022-03-19T11:53:40.287Z"
   },
   {
    "duration": 6,
    "start_time": "2022-03-19T11:53:40.333Z"
   },
   {
    "duration": 7,
    "start_time": "2022-03-19T11:53:40.341Z"
   },
   {
    "duration": 7,
    "start_time": "2022-03-19T11:53:40.351Z"
   },
   {
    "duration": 6,
    "start_time": "2022-03-19T11:53:40.359Z"
   },
   {
    "duration": 5,
    "start_time": "2022-03-19T11:53:40.366Z"
   },
   {
    "duration": 6,
    "start_time": "2022-03-19T11:53:40.372Z"
   },
   {
    "duration": 10,
    "start_time": "2022-03-19T11:53:40.380Z"
   },
   {
    "duration": 51,
    "start_time": "2022-03-19T11:53:40.391Z"
   },
   {
    "duration": 22,
    "start_time": "2022-03-19T11:53:40.443Z"
   },
   {
    "duration": 17,
    "start_time": "2022-03-19T11:53:40.467Z"
   },
   {
    "duration": 16,
    "start_time": "2022-03-19T11:53:40.485Z"
   },
   {
    "duration": 33,
    "start_time": "2022-03-19T11:53:40.503Z"
   },
   {
    "duration": 10,
    "start_time": "2022-03-19T11:53:40.537Z"
   },
   {
    "duration": 5,
    "start_time": "2022-03-19T11:53:40.548Z"
   },
   {
    "duration": 20,
    "start_time": "2022-03-19T11:53:40.554Z"
   },
   {
    "duration": 3,
    "start_time": "2022-03-19T11:53:40.576Z"
   },
   {
    "duration": 157,
    "start_time": "2022-03-19T11:53:40.580Z"
   },
   {
    "duration": 93,
    "start_time": "2022-03-19T11:53:40.740Z"
   },
   {
    "duration": 838,
    "start_time": "2022-03-19T11:53:40.835Z"
   },
   {
    "duration": 9,
    "start_time": "2022-03-19T11:53:41.674Z"
   },
   {
    "duration": 1398,
    "start_time": "2022-03-19T11:57:04.146Z"
   },
   {
    "duration": 36,
    "start_time": "2022-03-19T11:57:05.546Z"
   },
   {
    "duration": 11,
    "start_time": "2022-03-19T11:57:05.584Z"
   },
   {
    "duration": 16,
    "start_time": "2022-03-19T11:57:05.597Z"
   },
   {
    "duration": 19,
    "start_time": "2022-03-19T11:57:05.615Z"
   },
   {
    "duration": 3,
    "start_time": "2022-03-19T11:57:05.635Z"
   },
   {
    "duration": 11,
    "start_time": "2022-03-19T11:57:05.640Z"
   },
   {
    "duration": 5,
    "start_time": "2022-03-19T11:57:05.653Z"
   },
   {
    "duration": 8,
    "start_time": "2022-03-19T11:57:05.659Z"
   },
   {
    "duration": 15,
    "start_time": "2022-03-19T11:57:05.670Z"
   },
   {
    "duration": 9,
    "start_time": "2022-03-19T11:57:05.687Z"
   },
   {
    "duration": 40,
    "start_time": "2022-03-19T11:57:05.698Z"
   },
   {
    "duration": 6,
    "start_time": "2022-03-19T11:57:05.740Z"
   },
   {
    "duration": 10,
    "start_time": "2022-03-19T11:57:05.747Z"
   },
   {
    "duration": 21,
    "start_time": "2022-03-19T11:57:05.758Z"
   },
   {
    "duration": 18,
    "start_time": "2022-03-19T11:57:05.780Z"
   },
   {
    "duration": 37,
    "start_time": "2022-03-19T11:57:05.799Z"
   },
   {
    "duration": 5,
    "start_time": "2022-03-19T11:57:05.838Z"
   },
   {
    "duration": 14,
    "start_time": "2022-03-19T11:57:05.844Z"
   },
   {
    "duration": 4,
    "start_time": "2022-03-19T11:57:05.859Z"
   },
   {
    "duration": 9,
    "start_time": "2022-03-19T11:57:05.864Z"
   },
   {
    "duration": 6,
    "start_time": "2022-03-19T11:57:05.875Z"
   },
   {
    "duration": 8,
    "start_time": "2022-03-19T11:57:05.883Z"
   },
   {
    "duration": 5,
    "start_time": "2022-03-19T11:57:05.893Z"
   },
   {
    "duration": 7,
    "start_time": "2022-03-19T11:57:05.899Z"
   },
   {
    "duration": 7,
    "start_time": "2022-03-19T11:57:05.932Z"
   },
   {
    "duration": 6,
    "start_time": "2022-03-19T11:57:05.941Z"
   },
   {
    "duration": 8,
    "start_time": "2022-03-19T11:57:05.951Z"
   },
   {
    "duration": 6,
    "start_time": "2022-03-19T11:57:05.960Z"
   },
   {
    "duration": 9,
    "start_time": "2022-03-19T11:57:05.968Z"
   },
   {
    "duration": 10,
    "start_time": "2022-03-19T11:57:05.978Z"
   },
   {
    "duration": 44,
    "start_time": "2022-03-19T11:57:05.990Z"
   },
   {
    "duration": 10,
    "start_time": "2022-03-19T11:57:06.036Z"
   },
   {
    "duration": 21,
    "start_time": "2022-03-19T11:57:06.048Z"
   },
   {
    "duration": 17,
    "start_time": "2022-03-19T11:57:06.071Z"
   },
   {
    "duration": 45,
    "start_time": "2022-03-19T11:57:06.089Z"
   },
   {
    "duration": 5,
    "start_time": "2022-03-19T11:57:06.136Z"
   },
   {
    "duration": 10,
    "start_time": "2022-03-19T11:57:06.142Z"
   },
   {
    "duration": 5,
    "start_time": "2022-03-19T11:57:06.153Z"
   },
   {
    "duration": 21,
    "start_time": "2022-03-19T11:57:06.159Z"
   },
   {
    "duration": 3,
    "start_time": "2022-03-19T11:57:06.182Z"
   },
   {
    "duration": 150,
    "start_time": "2022-03-19T11:57:06.187Z"
   },
   {
    "duration": 97,
    "start_time": "2022-03-19T11:57:06.339Z"
   },
   {
    "duration": 869,
    "start_time": "2022-03-19T11:57:06.439Z"
   },
   {
    "duration": 10,
    "start_time": "2022-03-19T11:57:07.310Z"
   },
   {
    "duration": 205192,
    "start_time": "2022-03-19T11:57:07.332Z"
   },
   {
    "duration": 117,
    "start_time": "2022-03-19T12:00:32.534Z"
   },
   {
    "duration": 962,
    "start_time": "2022-03-19T12:00:32.656Z"
   },
   {
    "duration": 198022,
    "start_time": "2022-03-19T12:00:33.620Z"
   },
   {
    "duration": 4,
    "start_time": "2022-03-19T12:03:51.644Z"
   },
   {
    "duration": 15,
    "start_time": "2022-03-19T12:03:51.650Z"
   },
   {
    "duration": 119,
    "start_time": "2022-03-19T12:03:51.666Z"
   },
   {
    "duration": 0,
    "start_time": "2022-03-19T12:03:51.786Z"
   },
   {
    "duration": 0,
    "start_time": "2022-03-19T12:03:51.788Z"
   },
   {
    "duration": 0,
    "start_time": "2022-03-19T12:03:51.789Z"
   },
   {
    "duration": 0,
    "start_time": "2022-03-19T12:03:51.790Z"
   },
   {
    "duration": 0,
    "start_time": "2022-03-19T12:03:51.791Z"
   },
   {
    "duration": 0,
    "start_time": "2022-03-19T12:03:51.793Z"
   },
   {
    "duration": 0,
    "start_time": "2022-03-19T12:03:51.794Z"
   },
   {
    "duration": 0,
    "start_time": "2022-03-19T12:03:51.795Z"
   },
   {
    "duration": 0,
    "start_time": "2022-03-19T12:03:51.796Z"
   },
   {
    "duration": 0,
    "start_time": "2022-03-19T12:03:51.798Z"
   },
   {
    "duration": 0,
    "start_time": "2022-03-19T12:03:51.799Z"
   },
   {
    "duration": 0,
    "start_time": "2022-03-19T12:03:51.800Z"
   },
   {
    "duration": 0,
    "start_time": "2022-03-19T12:03:51.801Z"
   },
   {
    "duration": 0,
    "start_time": "2022-03-19T12:03:51.833Z"
   },
   {
    "duration": 133,
    "start_time": "2022-03-19T12:04:04.302Z"
   },
   {
    "duration": 200,
    "start_time": "2022-03-19T12:04:20.334Z"
   },
   {
    "duration": 1473,
    "start_time": "2022-03-19T12:04:38.605Z"
   },
   {
    "duration": 41,
    "start_time": "2022-03-19T12:04:40.080Z"
   },
   {
    "duration": 13,
    "start_time": "2022-03-19T12:04:40.123Z"
   },
   {
    "duration": 17,
    "start_time": "2022-03-19T12:04:40.137Z"
   },
   {
    "duration": 5,
    "start_time": "2022-03-19T12:04:40.157Z"
   },
   {
    "duration": 5,
    "start_time": "2022-03-19T12:04:40.164Z"
   },
   {
    "duration": 12,
    "start_time": "2022-03-19T12:04:40.171Z"
   },
   {
    "duration": 8,
    "start_time": "2022-03-19T12:04:40.184Z"
   },
   {
    "duration": 5,
    "start_time": "2022-03-19T12:04:40.193Z"
   },
   {
    "duration": 45,
    "start_time": "2022-03-19T12:04:40.199Z"
   },
   {
    "duration": 7,
    "start_time": "2022-03-19T12:04:40.245Z"
   },
   {
    "duration": 14,
    "start_time": "2022-03-19T12:04:40.253Z"
   },
   {
    "duration": 6,
    "start_time": "2022-03-19T12:04:40.269Z"
   },
   {
    "duration": 7,
    "start_time": "2022-03-19T12:04:40.278Z"
   },
   {
    "duration": 46,
    "start_time": "2022-03-19T12:04:40.287Z"
   },
   {
    "duration": 18,
    "start_time": "2022-03-19T12:04:40.335Z"
   },
   {
    "duration": 13,
    "start_time": "2022-03-19T12:04:40.354Z"
   },
   {
    "duration": 5,
    "start_time": "2022-03-19T12:04:40.368Z"
   },
   {
    "duration": 12,
    "start_time": "2022-03-19T12:04:40.374Z"
   },
   {
    "duration": 3,
    "start_time": "2022-03-19T12:04:40.388Z"
   },
   {
    "duration": 5,
    "start_time": "2022-03-19T12:04:40.393Z"
   },
   {
    "duration": 5,
    "start_time": "2022-03-19T12:04:40.432Z"
   },
   {
    "duration": 8,
    "start_time": "2022-03-19T12:04:40.438Z"
   },
   {
    "duration": 5,
    "start_time": "2022-03-19T12:04:40.448Z"
   },
   {
    "duration": 7,
    "start_time": "2022-03-19T12:04:40.454Z"
   },
   {
    "duration": 6,
    "start_time": "2022-03-19T12:04:40.462Z"
   },
   {
    "duration": 5,
    "start_time": "2022-03-19T12:04:40.469Z"
   },
   {
    "duration": 9,
    "start_time": "2022-03-19T12:04:40.476Z"
   },
   {
    "duration": 8,
    "start_time": "2022-03-19T12:04:40.486Z"
   },
   {
    "duration": 42,
    "start_time": "2022-03-19T12:04:40.495Z"
   },
   {
    "duration": 10,
    "start_time": "2022-03-19T12:04:40.538Z"
   },
   {
    "duration": 12,
    "start_time": "2022-03-19T12:04:40.550Z"
   },
   {
    "duration": 12,
    "start_time": "2022-03-19T12:04:40.564Z"
   },
   {
    "duration": 20,
    "start_time": "2022-03-19T12:04:40.577Z"
   },
   {
    "duration": 43,
    "start_time": "2022-03-19T12:04:40.599Z"
   },
   {
    "duration": 17,
    "start_time": "2022-03-19T12:04:40.644Z"
   },
   {
    "duration": 3,
    "start_time": "2022-03-19T12:04:40.663Z"
   },
   {
    "duration": 9,
    "start_time": "2022-03-19T12:04:40.668Z"
   },
   {
    "duration": 5,
    "start_time": "2022-03-19T12:04:40.678Z"
   },
   {
    "duration": 18,
    "start_time": "2022-03-19T12:04:40.684Z"
   },
   {
    "duration": 4,
    "start_time": "2022-03-19T12:04:40.732Z"
   },
   {
    "duration": 199,
    "start_time": "2022-03-19T12:04:40.737Z"
   },
   {
    "duration": 6,
    "start_time": "2022-03-19T12:04:40.938Z"
   },
   {
    "duration": 869,
    "start_time": "2022-03-19T12:04:40.946Z"
   },
   {
    "duration": 16,
    "start_time": "2022-03-19T12:04:41.817Z"
   },
   {
    "duration": 210549,
    "start_time": "2022-03-19T12:04:41.835Z"
   },
   {
    "duration": 150,
    "start_time": "2022-03-19T12:08:12.386Z"
   },
   {
    "duration": 921,
    "start_time": "2022-03-19T12:08:12.538Z"
   },
   {
    "duration": 201223,
    "start_time": "2022-03-19T12:08:13.460Z"
   },
   {
    "duration": 4,
    "start_time": "2022-03-19T12:11:34.685Z"
   },
   {
    "duration": 17,
    "start_time": "2022-03-19T12:11:34.691Z"
   },
   {
    "duration": 112,
    "start_time": "2022-03-19T12:11:34.710Z"
   },
   {
    "duration": 0,
    "start_time": "2022-03-19T12:11:34.823Z"
   },
   {
    "duration": 0,
    "start_time": "2022-03-19T12:11:34.824Z"
   },
   {
    "duration": 0,
    "start_time": "2022-03-19T12:11:34.826Z"
   },
   {
    "duration": 0,
    "start_time": "2022-03-19T12:11:34.834Z"
   },
   {
    "duration": 0,
    "start_time": "2022-03-19T12:11:34.835Z"
   },
   {
    "duration": 0,
    "start_time": "2022-03-19T12:11:34.836Z"
   },
   {
    "duration": 0,
    "start_time": "2022-03-19T12:11:34.839Z"
   },
   {
    "duration": 0,
    "start_time": "2022-03-19T12:11:34.840Z"
   },
   {
    "duration": 0,
    "start_time": "2022-03-19T12:11:34.842Z"
   },
   {
    "duration": 0,
    "start_time": "2022-03-19T12:11:34.843Z"
   },
   {
    "duration": 0,
    "start_time": "2022-03-19T12:11:34.845Z"
   },
   {
    "duration": 0,
    "start_time": "2022-03-19T12:11:34.846Z"
   },
   {
    "duration": 34,
    "start_time": "2022-03-19T12:27:28.908Z"
   },
   {
    "duration": 987,
    "start_time": "2022-03-19T12:27:32.284Z"
   },
   {
    "duration": 4,
    "start_time": "2022-03-19T12:27:45.671Z"
   },
   {
    "duration": 36,
    "start_time": "2022-03-19T12:27:45.677Z"
   },
   {
    "duration": 12,
    "start_time": "2022-03-19T12:27:45.714Z"
   },
   {
    "duration": 15,
    "start_time": "2022-03-19T12:27:45.728Z"
   },
   {
    "duration": 8,
    "start_time": "2022-03-19T12:27:45.744Z"
   },
   {
    "duration": 5,
    "start_time": "2022-03-19T12:27:45.753Z"
   },
   {
    "duration": 12,
    "start_time": "2022-03-19T12:27:45.759Z"
   },
   {
    "duration": 4,
    "start_time": "2022-03-19T12:27:45.772Z"
   },
   {
    "duration": 4,
    "start_time": "2022-03-19T12:27:45.779Z"
   },
   {
    "duration": 50,
    "start_time": "2022-03-19T12:27:45.784Z"
   },
   {
    "duration": 6,
    "start_time": "2022-03-19T12:27:45.835Z"
   },
   {
    "duration": 15,
    "start_time": "2022-03-19T12:27:45.842Z"
   },
   {
    "duration": 5,
    "start_time": "2022-03-19T12:27:45.858Z"
   },
   {
    "duration": 12,
    "start_time": "2022-03-19T12:27:45.865Z"
   },
   {
    "duration": 18,
    "start_time": "2022-03-19T12:27:45.878Z"
   },
   {
    "duration": 42,
    "start_time": "2022-03-19T12:27:45.898Z"
   },
   {
    "duration": 12,
    "start_time": "2022-03-19T12:27:45.941Z"
   },
   {
    "duration": 4,
    "start_time": "2022-03-19T12:27:45.955Z"
   },
   {
    "duration": 8,
    "start_time": "2022-03-19T12:27:45.961Z"
   },
   {
    "duration": 4,
    "start_time": "2022-03-19T12:27:45.971Z"
   },
   {
    "duration": 9,
    "start_time": "2022-03-19T12:27:45.976Z"
   },
   {
    "duration": 8,
    "start_time": "2022-03-19T12:27:45.987Z"
   },
   {
    "duration": 8,
    "start_time": "2022-03-19T12:27:45.997Z"
   },
   {
    "duration": 5,
    "start_time": "2022-03-19T12:27:46.035Z"
   },
   {
    "duration": 8,
    "start_time": "2022-03-19T12:27:46.041Z"
   },
   {
    "duration": 6,
    "start_time": "2022-03-19T12:27:46.050Z"
   },
   {
    "duration": 5,
    "start_time": "2022-03-19T12:27:46.057Z"
   },
   {
    "duration": 8,
    "start_time": "2022-03-19T12:27:46.063Z"
   },
   {
    "duration": 5,
    "start_time": "2022-03-19T12:27:46.072Z"
   },
   {
    "duration": 5,
    "start_time": "2022-03-19T12:27:46.079Z"
   },
   {
    "duration": 8,
    "start_time": "2022-03-19T12:27:46.085Z"
   },
   {
    "duration": 11,
    "start_time": "2022-03-19T12:27:46.133Z"
   },
   {
    "duration": 8,
    "start_time": "2022-03-19T12:27:46.146Z"
   },
   {
    "duration": 21,
    "start_time": "2022-03-19T12:27:46.156Z"
   },
   {
    "duration": 17,
    "start_time": "2022-03-19T12:27:46.178Z"
   },
   {
    "duration": 53,
    "start_time": "2022-03-19T12:27:46.196Z"
   },
   {
    "duration": 4,
    "start_time": "2022-03-19T12:27:46.251Z"
   },
   {
    "duration": 7,
    "start_time": "2022-03-19T12:27:46.256Z"
   },
   {
    "duration": 5,
    "start_time": "2022-03-19T12:27:46.265Z"
   },
   {
    "duration": 20,
    "start_time": "2022-03-19T12:27:46.271Z"
   },
   {
    "duration": 4,
    "start_time": "2022-03-19T12:27:46.293Z"
   },
   {
    "duration": 235,
    "start_time": "2022-03-19T12:27:46.299Z"
   },
   {
    "duration": 6,
    "start_time": "2022-03-19T12:27:46.536Z"
   },
   {
    "duration": 835,
    "start_time": "2022-03-19T12:27:46.543Z"
   },
   {
    "duration": 9,
    "start_time": "2022-03-19T12:27:47.380Z"
   },
   {
    "duration": 1471,
    "start_time": "2022-03-19T12:28:01.999Z"
   },
   {
    "duration": 37,
    "start_time": "2022-03-19T12:28:03.471Z"
   },
   {
    "duration": 12,
    "start_time": "2022-03-19T12:28:03.509Z"
   },
   {
    "duration": 17,
    "start_time": "2022-03-19T12:28:03.533Z"
   },
   {
    "duration": 4,
    "start_time": "2022-03-19T12:28:03.551Z"
   },
   {
    "duration": 6,
    "start_time": "2022-03-19T12:28:03.556Z"
   },
   {
    "duration": 8,
    "start_time": "2022-03-19T12:28:03.563Z"
   },
   {
    "duration": 4,
    "start_time": "2022-03-19T12:28:03.573Z"
   },
   {
    "duration": 7,
    "start_time": "2022-03-19T12:28:03.579Z"
   },
   {
    "duration": 44,
    "start_time": "2022-03-19T12:28:03.588Z"
   },
   {
    "duration": 6,
    "start_time": "2022-03-19T12:28:03.634Z"
   },
   {
    "duration": 15,
    "start_time": "2022-03-19T12:28:03.642Z"
   },
   {
    "duration": 11,
    "start_time": "2022-03-19T12:28:03.658Z"
   },
   {
    "duration": 9,
    "start_time": "2022-03-19T12:28:03.670Z"
   },
   {
    "duration": 27,
    "start_time": "2022-03-19T12:28:03.681Z"
   },
   {
    "duration": 38,
    "start_time": "2022-03-19T12:28:03.709Z"
   },
   {
    "duration": 12,
    "start_time": "2022-03-19T12:28:03.753Z"
   },
   {
    "duration": 5,
    "start_time": "2022-03-19T12:28:03.767Z"
   },
   {
    "duration": 12,
    "start_time": "2022-03-19T12:28:03.774Z"
   },
   {
    "duration": 4,
    "start_time": "2022-03-19T12:28:03.788Z"
   },
   {
    "duration": 5,
    "start_time": "2022-03-19T12:28:03.793Z"
   },
   {
    "duration": 5,
    "start_time": "2022-03-19T12:28:03.799Z"
   },
   {
    "duration": 28,
    "start_time": "2022-03-19T12:28:03.806Z"
   },
   {
    "duration": 5,
    "start_time": "2022-03-19T12:28:03.836Z"
   },
   {
    "duration": 8,
    "start_time": "2022-03-19T12:28:03.842Z"
   },
   {
    "duration": 6,
    "start_time": "2022-03-19T12:28:03.852Z"
   },
   {
    "duration": 5,
    "start_time": "2022-03-19T12:28:03.859Z"
   },
   {
    "duration": 7,
    "start_time": "2022-03-19T12:28:03.867Z"
   },
   {
    "duration": 5,
    "start_time": "2022-03-19T12:28:03.876Z"
   },
   {
    "duration": 51,
    "start_time": "2022-03-19T12:28:03.882Z"
   },
   {
    "duration": 9,
    "start_time": "2022-03-19T12:28:03.934Z"
   },
   {
    "duration": 10,
    "start_time": "2022-03-19T12:28:03.944Z"
   },
   {
    "duration": 10,
    "start_time": "2022-03-19T12:28:03.956Z"
   },
   {
    "duration": 20,
    "start_time": "2022-03-19T12:28:03.967Z"
   },
   {
    "duration": 45,
    "start_time": "2022-03-19T12:28:03.989Z"
   },
   {
    "duration": 17,
    "start_time": "2022-03-19T12:28:04.036Z"
   },
   {
    "duration": 4,
    "start_time": "2022-03-19T12:28:04.054Z"
   },
   {
    "duration": 8,
    "start_time": "2022-03-19T12:28:04.060Z"
   },
   {
    "duration": 4,
    "start_time": "2022-03-19T12:28:04.070Z"
   },
   {
    "duration": 19,
    "start_time": "2022-03-19T12:28:04.075Z"
   },
   {
    "duration": 4,
    "start_time": "2022-03-19T12:28:04.095Z"
   },
   {
    "duration": 201,
    "start_time": "2022-03-19T12:28:04.133Z"
   },
   {
    "duration": 5,
    "start_time": "2022-03-19T12:28:04.336Z"
   },
   {
    "duration": 857,
    "start_time": "2022-03-19T12:28:04.343Z"
   },
   {
    "duration": 9,
    "start_time": "2022-03-19T12:28:05.202Z"
   },
   {
    "duration": 200995,
    "start_time": "2022-03-19T12:28:05.212Z"
   },
   {
    "duration": 225,
    "start_time": "2022-03-19T12:31:26.209Z"
   },
   {
    "duration": 853,
    "start_time": "2022-03-19T12:31:26.436Z"
   },
   {
    "duration": 195151,
    "start_time": "2022-03-19T12:31:27.290Z"
   },
   {
    "duration": 5,
    "start_time": "2022-03-19T12:34:42.443Z"
   },
   {
    "duration": 14,
    "start_time": "2022-03-19T12:34:42.450Z"
   },
   {
    "duration": 167,
    "start_time": "2022-03-19T12:34:42.466Z"
   },
   {
    "duration": 1102,
    "start_time": "2022-03-19T12:34:42.635Z"
   },
   {
    "duration": 269841,
    "start_time": "2022-03-19T12:34:43.739Z"
   },
   {
    "duration": 4,
    "start_time": "2022-03-19T12:39:13.582Z"
   },
   {
    "duration": 29,
    "start_time": "2022-03-19T12:39:13.587Z"
   },
   {
    "duration": 102,
    "start_time": "2022-03-19T12:39:13.618Z"
   },
   {
    "duration": 0,
    "start_time": "2022-03-19T12:39:13.722Z"
   },
   {
    "duration": 0,
    "start_time": "2022-03-19T12:39:13.723Z"
   },
   {
    "duration": 0,
    "start_time": "2022-03-19T12:39:13.724Z"
   },
   {
    "duration": 0,
    "start_time": "2022-03-19T12:39:13.733Z"
   },
   {
    "duration": 0,
    "start_time": "2022-03-19T12:39:13.734Z"
   },
   {
    "duration": 0,
    "start_time": "2022-03-19T12:39:13.735Z"
   },
   {
    "duration": 0,
    "start_time": "2022-03-19T12:39:13.735Z"
   },
   {
    "duration": 148,
    "start_time": "2022-03-19T12:41:02.187Z"
   },
   {
    "duration": 5,
    "start_time": "2022-03-19T12:41:55.105Z"
   },
   {
    "duration": 12,
    "start_time": "2022-03-19T12:41:57.202Z"
   },
   {
    "duration": 186,
    "start_time": "2022-03-19T12:42:00.265Z"
   },
   {
    "duration": 557,
    "start_time": "2022-03-19T12:42:03.242Z"
   },
   {
    "duration": 1408,
    "start_time": "2022-03-19T12:42:15.228Z"
   },
   {
    "duration": 37,
    "start_time": "2022-03-19T12:42:16.638Z"
   },
   {
    "duration": 11,
    "start_time": "2022-03-19T12:42:16.677Z"
   },
   {
    "duration": 18,
    "start_time": "2022-03-19T12:42:16.690Z"
   },
   {
    "duration": 7,
    "start_time": "2022-03-19T12:42:16.710Z"
   },
   {
    "duration": 17,
    "start_time": "2022-03-19T12:42:16.719Z"
   },
   {
    "duration": 9,
    "start_time": "2022-03-19T12:42:16.738Z"
   },
   {
    "duration": 4,
    "start_time": "2022-03-19T12:42:16.749Z"
   },
   {
    "duration": 3,
    "start_time": "2022-03-19T12:42:16.755Z"
   },
   {
    "duration": 16,
    "start_time": "2022-03-19T12:42:16.761Z"
   },
   {
    "duration": 7,
    "start_time": "2022-03-19T12:42:16.778Z"
   },
   {
    "duration": 49,
    "start_time": "2022-03-19T12:42:16.786Z"
   },
   {
    "duration": 6,
    "start_time": "2022-03-19T12:42:16.837Z"
   },
   {
    "duration": 8,
    "start_time": "2022-03-19T12:42:16.845Z"
   },
   {
    "duration": 20,
    "start_time": "2022-03-19T12:42:16.854Z"
   },
   {
    "duration": 18,
    "start_time": "2022-03-19T12:42:16.875Z"
   },
   {
    "duration": 40,
    "start_time": "2022-03-19T12:42:16.894Z"
   },
   {
    "duration": 5,
    "start_time": "2022-03-19T12:42:16.935Z"
   },
   {
    "duration": 11,
    "start_time": "2022-03-19T12:42:16.942Z"
   },
   {
    "duration": 4,
    "start_time": "2022-03-19T12:42:16.955Z"
   },
   {
    "duration": 4,
    "start_time": "2022-03-19T12:42:16.961Z"
   },
   {
    "duration": 6,
    "start_time": "2022-03-19T12:42:16.966Z"
   },
   {
    "duration": 7,
    "start_time": "2022-03-19T12:42:16.974Z"
   },
   {
    "duration": 7,
    "start_time": "2022-03-19T12:42:16.982Z"
   },
   {
    "duration": 44,
    "start_time": "2022-03-19T12:42:16.990Z"
   },
   {
    "duration": 21,
    "start_time": "2022-03-19T12:42:17.036Z"
   },
   {
    "duration": 5,
    "start_time": "2022-03-19T12:42:17.058Z"
   },
   {
    "duration": 7,
    "start_time": "2022-03-19T12:42:17.067Z"
   },
   {
    "duration": 10,
    "start_time": "2022-03-19T12:42:17.076Z"
   },
   {
    "duration": 5,
    "start_time": "2022-03-19T12:42:17.087Z"
   },
   {
    "duration": 11,
    "start_time": "2022-03-19T12:42:17.093Z"
   },
   {
    "duration": 28,
    "start_time": "2022-03-19T12:42:17.105Z"
   },
   {
    "duration": 10,
    "start_time": "2022-03-19T12:42:17.134Z"
   },
   {
    "duration": 23,
    "start_time": "2022-03-19T12:42:17.145Z"
   },
   {
    "duration": 18,
    "start_time": "2022-03-19T12:42:17.169Z"
   },
   {
    "duration": 17,
    "start_time": "2022-03-19T12:42:17.189Z"
   },
   {
    "duration": 29,
    "start_time": "2022-03-19T12:42:17.207Z"
   },
   {
    "duration": 10,
    "start_time": "2022-03-19T12:42:17.237Z"
   },
   {
    "duration": 4,
    "start_time": "2022-03-19T12:42:17.249Z"
   },
   {
    "duration": 20,
    "start_time": "2022-03-19T12:42:17.254Z"
   },
   {
    "duration": 4,
    "start_time": "2022-03-19T12:42:17.275Z"
   },
   {
    "duration": 162,
    "start_time": "2022-03-19T12:42:17.280Z"
   },
   {
    "duration": 7,
    "start_time": "2022-03-19T12:42:17.533Z"
   },
   {
    "duration": 843,
    "start_time": "2022-03-19T12:42:17.541Z"
   },
   {
    "duration": 8,
    "start_time": "2022-03-19T12:42:18.386Z"
   },
   {
    "duration": 197628,
    "start_time": "2022-03-19T12:42:18.396Z"
   },
   {
    "duration": 108,
    "start_time": "2022-03-19T12:45:36.033Z"
   },
   {
    "duration": 863,
    "start_time": "2022-03-19T12:45:36.232Z"
   },
   {
    "duration": 198395,
    "start_time": "2022-03-19T12:45:37.097Z"
   },
   {
    "duration": 5,
    "start_time": "2022-03-19T12:48:55.494Z"
   },
   {
    "duration": 16,
    "start_time": "2022-03-19T12:48:55.500Z"
   },
   {
    "duration": 108,
    "start_time": "2022-03-19T12:48:55.533Z"
   },
   {
    "duration": 977,
    "start_time": "2022-03-19T12:48:55.734Z"
   },
   {
    "duration": 271051,
    "start_time": "2022-03-19T12:48:56.713Z"
   },
   {
    "duration": 5,
    "start_time": "2022-03-19T12:53:27.765Z"
   },
   {
    "duration": 16,
    "start_time": "2022-03-19T12:53:27.771Z"
   },
   {
    "duration": 146,
    "start_time": "2022-03-19T12:53:27.788Z"
   },
   {
    "duration": 619,
    "start_time": "2022-03-19T12:53:27.936Z"
   },
   {
    "duration": 60,
    "start_time": "2022-03-19T12:53:28.557Z"
   },
   {
    "duration": 0,
    "start_time": "2022-03-19T12:53:28.618Z"
   },
   {
    "duration": 0,
    "start_time": "2022-03-19T12:53:28.620Z"
   },
   {
    "duration": 0,
    "start_time": "2022-03-19T12:53:28.621Z"
   },
   {
    "duration": 0,
    "start_time": "2022-03-19T12:53:28.622Z"
   },
   {
    "duration": 0,
    "start_time": "2022-03-19T12:53:28.623Z"
   },
   {
    "duration": 115781,
    "start_time": "2022-03-19T12:58:15.561Z"
   },
   {
    "duration": 12,
    "start_time": "2022-03-19T13:03:10.139Z"
   },
   {
    "duration": 311,
    "start_time": "2022-03-19T13:03:16.395Z"
   },
   {
    "duration": 21,
    "start_time": "2022-03-19T13:03:21.083Z"
   },
   {
    "duration": 22,
    "start_time": "2022-03-19T13:03:29.819Z"
   },
   {
    "duration": 108,
    "start_time": "2022-03-19T13:03:33.810Z"
   },
   {
    "duration": 128,
    "start_time": "2022-03-19T13:04:18.034Z"
   },
   {
    "duration": 22,
    "start_time": "2022-03-19T13:04:21.209Z"
   },
   {
    "duration": 21,
    "start_time": "2022-03-19T13:04:31.498Z"
   },
   {
    "duration": 22,
    "start_time": "2022-03-19T13:05:06.930Z"
   }
  ],
  "kernelspec": {
   "display_name": "Python 3 (ipykernel)",
   "language": "python",
   "name": "python3"
  },
  "language_info": {
   "codemirror_mode": {
    "name": "ipython",
    "version": 3
   },
   "file_extension": ".py",
   "mimetype": "text/x-python",
   "name": "python",
   "nbconvert_exporter": "python",
   "pygments_lexer": "ipython3",
   "version": "3.9.5"
  },
  "toc": {
   "base_numbering": 1,
   "nav_menu": {},
   "number_sections": true,
   "sideBar": true,
   "skip_h1_title": true,
   "title_cell": "Содержание",
   "title_sidebar": "Contents",
   "toc_cell": true,
   "toc_position": {
    "height": "calc(100% - 180px)",
    "left": "10px",
    "top": "150px",
    "width": "316.391px"
   },
   "toc_section_display": true,
   "toc_window_display": true
  }
 },
 "nbformat": 4,
 "nbformat_minor": 2
}
