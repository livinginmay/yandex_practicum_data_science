{
 "cells": [
  {
   "cell_type": "markdown",
   "metadata": {
    "toc": true
   },
   "source": [
    "<h1>Содержание<span class=\"tocSkip\"></span></h1>\n",
    "<div class=\"toc\"><ul class=\"toc-item\"><li><span><a href=\"#Загрузка-данных\" data-toc-modified-id=\"Загрузка-данных-1\"><span class=\"toc-item-num\">1&nbsp;&nbsp;</span>Загрузка данных</a></span></li><li><span><a href=\"#Умножение-матриц\" data-toc-modified-id=\"Умножение-матриц-2\"><span class=\"toc-item-num\">2&nbsp;&nbsp;</span>Умножение матриц</a></span></li><li><span><a href=\"#Алгоритм-преобразования\" data-toc-modified-id=\"Алгоритм-преобразования-3\"><span class=\"toc-item-num\">3&nbsp;&nbsp;</span>Алгоритм преобразования</a></span></li><li><span><a href=\"#Проверка-алгоритма\" data-toc-modified-id=\"Проверка-алгоритма-4\"><span class=\"toc-item-num\">4&nbsp;&nbsp;</span>Проверка алгоритма</a></span></li></ul></div>"
   ]
  },
  {
   "cell_type": "markdown",
   "metadata": {},
   "source": [
    "# Защита персональных данных клиентов"
   ]
  },
  {
   "cell_type": "markdown",
   "metadata": {},
   "source": [
    "## Загрузка данных"
   ]
  },
  {
   "cell_type": "code",
   "execution_count": 2,
   "metadata": {},
   "outputs": [],
   "source": [
    "import pandas as pd\n",
    "\n",
    "from sklearn.model_selection import train_test_split\n",
    "from sklearn.linear_model import LinearRegression\n",
    "from sklearn.metrics import r2_score\n",
    "\n",
    "import numpy as np"
   ]
  },
  {
   "cell_type": "code",
   "execution_count": 3,
   "metadata": {},
   "outputs": [
    {
     "data": {
      "text/html": [
       "<div>\n",
       "<style scoped>\n",
       "    .dataframe tbody tr th:only-of-type {\n",
       "        vertical-align: middle;\n",
       "    }\n",
       "\n",
       "    .dataframe tbody tr th {\n",
       "        vertical-align: top;\n",
       "    }\n",
       "\n",
       "    .dataframe thead th {\n",
       "        text-align: right;\n",
       "    }\n",
       "</style>\n",
       "<table border=\"1\" class=\"dataframe\">\n",
       "  <thead>\n",
       "    <tr style=\"text-align: right;\">\n",
       "      <th></th>\n",
       "      <th>Пол</th>\n",
       "      <th>Возраст</th>\n",
       "      <th>Зарплата</th>\n",
       "      <th>Члены семьи</th>\n",
       "      <th>Страховые выплаты</th>\n",
       "    </tr>\n",
       "  </thead>\n",
       "  <tbody>\n",
       "    <tr>\n",
       "      <th>0</th>\n",
       "      <td>1</td>\n",
       "      <td>41.0</td>\n",
       "      <td>49600.0</td>\n",
       "      <td>1</td>\n",
       "      <td>0</td>\n",
       "    </tr>\n",
       "    <tr>\n",
       "      <th>1</th>\n",
       "      <td>0</td>\n",
       "      <td>46.0</td>\n",
       "      <td>38000.0</td>\n",
       "      <td>1</td>\n",
       "      <td>1</td>\n",
       "    </tr>\n",
       "    <tr>\n",
       "      <th>2</th>\n",
       "      <td>0</td>\n",
       "      <td>29.0</td>\n",
       "      <td>21000.0</td>\n",
       "      <td>0</td>\n",
       "      <td>0</td>\n",
       "    </tr>\n",
       "    <tr>\n",
       "      <th>3</th>\n",
       "      <td>0</td>\n",
       "      <td>21.0</td>\n",
       "      <td>41700.0</td>\n",
       "      <td>2</td>\n",
       "      <td>0</td>\n",
       "    </tr>\n",
       "    <tr>\n",
       "      <th>4</th>\n",
       "      <td>1</td>\n",
       "      <td>28.0</td>\n",
       "      <td>26100.0</td>\n",
       "      <td>0</td>\n",
       "      <td>0</td>\n",
       "    </tr>\n",
       "  </tbody>\n",
       "</table>\n",
       "</div>"
      ],
      "text/plain": [
       "   Пол  Возраст  Зарплата  Члены семьи  Страховые выплаты\n",
       "0    1     41.0   49600.0            1                  0\n",
       "1    0     46.0   38000.0            1                  1\n",
       "2    0     29.0   21000.0            0                  0\n",
       "3    0     21.0   41700.0            2                  0\n",
       "4    1     28.0   26100.0            0                  0"
      ]
     },
     "execution_count": 3,
     "metadata": {},
     "output_type": "execute_result"
    }
   ],
   "source": [
    "data = pd.read_csv('/datasets/insurance.csv')\n",
    "data.head()"
   ]
  },
  {
   "cell_type": "code",
   "execution_count": 4,
   "metadata": {
    "scrolled": true
   },
   "outputs": [
    {
     "name": "stdout",
     "output_type": "stream",
     "text": [
      "<class 'pandas.core.frame.DataFrame'>\n",
      "RangeIndex: 5000 entries, 0 to 4999\n",
      "Data columns (total 5 columns):\n",
      " #   Column             Non-Null Count  Dtype  \n",
      "---  ------             --------------  -----  \n",
      " 0   Пол                5000 non-null   int64  \n",
      " 1   Возраст            5000 non-null   float64\n",
      " 2   Зарплата           5000 non-null   float64\n",
      " 3   Члены семьи        5000 non-null   int64  \n",
      " 4   Страховые выплаты  5000 non-null   int64  \n",
      "dtypes: float64(2), int64(3)\n",
      "memory usage: 195.4 KB\n"
     ]
    }
   ],
   "source": [
    "data.info()"
   ]
  },
  {
   "cell_type": "code",
   "execution_count": 6,
   "metadata": {},
   "outputs": [
    {
     "data": {
      "text/html": [
       "<div>\n",
       "<style scoped>\n",
       "    .dataframe tbody tr th:only-of-type {\n",
       "        vertical-align: middle;\n",
       "    }\n",
       "\n",
       "    .dataframe tbody tr th {\n",
       "        vertical-align: top;\n",
       "    }\n",
       "\n",
       "    .dataframe thead th {\n",
       "        text-align: right;\n",
       "    }\n",
       "</style>\n",
       "<table border=\"1\" class=\"dataframe\">\n",
       "  <thead>\n",
       "    <tr style=\"text-align: right;\">\n",
       "      <th></th>\n",
       "      <th>Пол</th>\n",
       "      <th>Возраст</th>\n",
       "      <th>Зарплата</th>\n",
       "      <th>Члены семьи</th>\n",
       "      <th>Страховые выплаты</th>\n",
       "    </tr>\n",
       "  </thead>\n",
       "  <tbody>\n",
       "    <tr>\n",
       "      <th>count</th>\n",
       "      <td>5000.000000</td>\n",
       "      <td>5000.000000</td>\n",
       "      <td>5000.000000</td>\n",
       "      <td>5000.000000</td>\n",
       "      <td>5000.000000</td>\n",
       "    </tr>\n",
       "    <tr>\n",
       "      <th>mean</th>\n",
       "      <td>0.499000</td>\n",
       "      <td>30.952800</td>\n",
       "      <td>39916.360000</td>\n",
       "      <td>1.194200</td>\n",
       "      <td>0.148000</td>\n",
       "    </tr>\n",
       "    <tr>\n",
       "      <th>std</th>\n",
       "      <td>0.500049</td>\n",
       "      <td>8.440807</td>\n",
       "      <td>9900.083569</td>\n",
       "      <td>1.091387</td>\n",
       "      <td>0.463183</td>\n",
       "    </tr>\n",
       "    <tr>\n",
       "      <th>min</th>\n",
       "      <td>0.000000</td>\n",
       "      <td>18.000000</td>\n",
       "      <td>5300.000000</td>\n",
       "      <td>0.000000</td>\n",
       "      <td>0.000000</td>\n",
       "    </tr>\n",
       "    <tr>\n",
       "      <th>25%</th>\n",
       "      <td>0.000000</td>\n",
       "      <td>24.000000</td>\n",
       "      <td>33300.000000</td>\n",
       "      <td>0.000000</td>\n",
       "      <td>0.000000</td>\n",
       "    </tr>\n",
       "    <tr>\n",
       "      <th>50%</th>\n",
       "      <td>0.000000</td>\n",
       "      <td>30.000000</td>\n",
       "      <td>40200.000000</td>\n",
       "      <td>1.000000</td>\n",
       "      <td>0.000000</td>\n",
       "    </tr>\n",
       "    <tr>\n",
       "      <th>75%</th>\n",
       "      <td>1.000000</td>\n",
       "      <td>37.000000</td>\n",
       "      <td>46600.000000</td>\n",
       "      <td>2.000000</td>\n",
       "      <td>0.000000</td>\n",
       "    </tr>\n",
       "    <tr>\n",
       "      <th>max</th>\n",
       "      <td>1.000000</td>\n",
       "      <td>65.000000</td>\n",
       "      <td>79000.000000</td>\n",
       "      <td>6.000000</td>\n",
       "      <td>5.000000</td>\n",
       "    </tr>\n",
       "  </tbody>\n",
       "</table>\n",
       "</div>"
      ],
      "text/plain": [
       "               Пол      Возраст      Зарплата  Члены семьи  Страховые выплаты\n",
       "count  5000.000000  5000.000000   5000.000000  5000.000000        5000.000000\n",
       "mean      0.499000    30.952800  39916.360000     1.194200           0.148000\n",
       "std       0.500049     8.440807   9900.083569     1.091387           0.463183\n",
       "min       0.000000    18.000000   5300.000000     0.000000           0.000000\n",
       "25%       0.000000    24.000000  33300.000000     0.000000           0.000000\n",
       "50%       0.000000    30.000000  40200.000000     1.000000           0.000000\n",
       "75%       1.000000    37.000000  46600.000000     2.000000           0.000000\n",
       "max       1.000000    65.000000  79000.000000     6.000000           5.000000"
      ]
     },
     "execution_count": 6,
     "metadata": {},
     "output_type": "execute_result"
    }
   ],
   "source": [
    "data.describe()"
   ]
  },
  {
   "cell_type": "code",
   "execution_count": 7,
   "metadata": {},
   "outputs": [
    {
     "data": {
      "text/html": [
       "<div>\n",
       "<style scoped>\n",
       "    .dataframe tbody tr th:only-of-type {\n",
       "        vertical-align: middle;\n",
       "    }\n",
       "\n",
       "    .dataframe tbody tr th {\n",
       "        vertical-align: top;\n",
       "    }\n",
       "\n",
       "    .dataframe thead th {\n",
       "        text-align: right;\n",
       "    }\n",
       "</style>\n",
       "<table border=\"1\" class=\"dataframe\">\n",
       "  <thead>\n",
       "    <tr style=\"text-align: right;\">\n",
       "      <th></th>\n",
       "      <th>Пол</th>\n",
       "      <th>Возраст</th>\n",
       "      <th>Зарплата</th>\n",
       "      <th>Члены семьи</th>\n",
       "      <th>Страховые выплаты</th>\n",
       "    </tr>\n",
       "  </thead>\n",
       "  <tbody>\n",
       "    <tr>\n",
       "      <th>Пол</th>\n",
       "      <td>1.000000</td>\n",
       "      <td>0.002074</td>\n",
       "      <td>0.014910</td>\n",
       "      <td>-0.008991</td>\n",
       "      <td>0.010140</td>\n",
       "    </tr>\n",
       "    <tr>\n",
       "      <th>Возраст</th>\n",
       "      <td>0.002074</td>\n",
       "      <td>1.000000</td>\n",
       "      <td>-0.019093</td>\n",
       "      <td>-0.006692</td>\n",
       "      <td>0.651030</td>\n",
       "    </tr>\n",
       "    <tr>\n",
       "      <th>Зарплата</th>\n",
       "      <td>0.014910</td>\n",
       "      <td>-0.019093</td>\n",
       "      <td>1.000000</td>\n",
       "      <td>-0.030296</td>\n",
       "      <td>-0.014963</td>\n",
       "    </tr>\n",
       "    <tr>\n",
       "      <th>Члены семьи</th>\n",
       "      <td>-0.008991</td>\n",
       "      <td>-0.006692</td>\n",
       "      <td>-0.030296</td>\n",
       "      <td>1.000000</td>\n",
       "      <td>-0.036290</td>\n",
       "    </tr>\n",
       "    <tr>\n",
       "      <th>Страховые выплаты</th>\n",
       "      <td>0.010140</td>\n",
       "      <td>0.651030</td>\n",
       "      <td>-0.014963</td>\n",
       "      <td>-0.036290</td>\n",
       "      <td>1.000000</td>\n",
       "    </tr>\n",
       "  </tbody>\n",
       "</table>\n",
       "</div>"
      ],
      "text/plain": [
       "                        Пол   Возраст  Зарплата  Члены семьи  \\\n",
       "Пол                1.000000  0.002074  0.014910    -0.008991   \n",
       "Возраст            0.002074  1.000000 -0.019093    -0.006692   \n",
       "Зарплата           0.014910 -0.019093  1.000000    -0.030296   \n",
       "Члены семьи       -0.008991 -0.006692 -0.030296     1.000000   \n",
       "Страховые выплаты  0.010140  0.651030 -0.014963    -0.036290   \n",
       "\n",
       "                   Страховые выплаты  \n",
       "Пол                         0.010140  \n",
       "Возраст                     0.651030  \n",
       "Зарплата                   -0.014963  \n",
       "Члены семьи                -0.036290  \n",
       "Страховые выплаты           1.000000  "
      ]
     },
     "execution_count": 7,
     "metadata": {},
     "output_type": "execute_result"
    }
   ],
   "source": [
    "data.corr()"
   ]
  },
  {
   "cell_type": "code",
   "execution_count": 4,
   "metadata": {},
   "outputs": [],
   "source": [
    "data.columns = ['f1', 'f2', 'f3', 'f4', 't']"
   ]
  },
  {
   "cell_type": "code",
   "execution_count": 5,
   "metadata": {},
   "outputs": [
    {
     "data": {
      "text/plain": [
       "array([[1.00e+00, 4.10e+01, 4.96e+04, 1.00e+00],\n",
       "       [0.00e+00, 4.60e+01, 3.80e+04, 1.00e+00],\n",
       "       [0.00e+00, 2.90e+01, 2.10e+04, 0.00e+00],\n",
       "       ...,\n",
       "       [0.00e+00, 2.00e+01, 3.39e+04, 2.00e+00],\n",
       "       [1.00e+00, 2.20e+01, 3.27e+04, 3.00e+00],\n",
       "       [1.00e+00, 2.80e+01, 4.06e+04, 1.00e+00]])"
      ]
     },
     "execution_count": 5,
     "metadata": {},
     "output_type": "execute_result"
    }
   ],
   "source": [
    "features = data.drop('t', axis=1).values\n",
    "features"
   ]
  },
  {
   "cell_type": "code",
   "execution_count": 6,
   "metadata": {
    "scrolled": false
   },
   "outputs": [
    {
     "data": {
      "text/plain": [
       "array([0, 1, 0, ..., 0, 0, 0])"
      ]
     },
     "execution_count": 6,
     "metadata": {},
     "output_type": "execute_result"
    }
   ],
   "source": [
    "target = data['t'].values\n",
    "target"
   ]
  },
  {
   "cell_type": "code",
   "execution_count": 7,
   "metadata": {},
   "outputs": [],
   "source": [
    "features_train, features_valid, target_train, target_valid  = \\\n",
    "    train_test_split(features, target, test_size=0.25, random_state=12345)"
   ]
  },
  {
   "cell_type": "markdown",
   "metadata": {},
   "source": [
    "**Вывод**\n",
    "\n",
    "В исходных данных 5000 строк и 5 колонок, пропусков нет.\n",
    "Переименовала колонки в незначащие названия.\n",
    "Выделила матрицу признаков и вектор целевого признака и разделила на тестовую и обучающую выборку.\n",
    "\n",
    "В таблице данных компании соблюден почти идеальный баланс между мужчинами и женщинами. Средний возраст застрахованного составляет около 31 года, при этом медиана составляет 30. Границы возраста застрахованных приводят к выводу, что компания не занимается страхованием лиц, чей возраст составляет менее 18 и старше 65 лет. Также интересно взглянуть на уровень заработной платы застрахованных - медиана составляет чуть более 40 000 рублей. В целом, в компании скорее представлен средний экономический класс, чем слишком бедные или слишком богатые граждане.\n",
    "\n",
    "Возраст и количество страховых выплат клиенту за последние 5 лет имеют корреляцию 0.651. Вероятно, для компании есть взаимосвязь: чем старше застрахованное лицо, тем более вероятно он потребует страховку чаще, следовательно, несёт в себе больше рисков для предприятия."
   ]
  },
  {
   "cell_type": "markdown",
   "metadata": {},
   "source": [
    "## Умножение матриц"
   ]
  },
  {
   "cell_type": "markdown",
   "metadata": {},
   "source": [
    "Обозначения:\n",
    "\n",
    "- $X$ — матрица признаков (нулевой столбец состоит из единиц)\n",
    "\n",
    "- $y$ — вектор целевого признака\n",
    "\n",
    "- $P$ — матрица, на которую умножаются признаки\n",
    "\n",
    "- $w$ — вектор весов линейной регрессии (нулевой элемент равен сдвигу)"
   ]
  },
  {
   "cell_type": "markdown",
   "metadata": {},
   "source": [
    "Предсказания:\n",
    "\n",
    "$$\n",
    "a = Xw\n",
    "$$\n",
    "\n",
    "Задача обучения:\n",
    "\n",
    "$$\n",
    "w = \\arg\\min_w MSE(Xw, y)\n",
    "$$\n",
    "\n",
    "Формула обучения:\n",
    "\n",
    "$$\n",
    "w = (X^T X)^{-1} X^T y\n",
    "$$"
   ]
  },
  {
   "cell_type": "markdown",
   "metadata": {},
   "source": [
    "**Вопрос:** Изменится ли качество линейной регрессии при умножении признаков на обратимую матрицу?\n",
    "\n",
    "**Ответ:** Не изменится.\n",
    "\n",
    "**Обоснование:**\n",
    "\n",
    "Предсказания в исходной модели:\n",
    "\n",
    "$$\n",
    "a = Xw\n",
    "$$\n",
    "\n",
    "где\n",
    "\n",
    "$$\n",
    "w = (X^T X)^{-1} X^T y\n",
    "$$\n",
    "\n",
    "Предсказания в преобразованной модели:\n",
    "\n",
    "$$\n",
    "a = X P v\n",
    "$$\n",
    "\n",
    "где\n",
    "\n",
    "$$\n",
    "v = ((X P)^T (X P))^{-1} (X P)^T y\n",
    "$$\n",
    "\n",
    "Преобразуем:\n",
    "\n",
    "$$\n",
    "v = (P^T P)^{-1} P^T (X^T X)^{-1} X^T y\n",
    "$$\n",
    "\n",
    "$$\n",
    "v = P^{-1} w\n",
    "$$\n",
    "\n",
    "Подставим полученное в предсказания в преобразованной модели:\n",
    "\n",
    "$$\n",
    "a = X P P^{-1} w\n",
    "$$\n",
    "\n",
    "И получим предсказания в исходной модели:\n",
    "\n",
    "$$\n",
    "a = Xw\n",
    "$$\n",
    "\n",
    "Таким образом, при умножении матрицы признаков на обратимую матрицу результат предсказаний линейной регрессии не меняется."
   ]
  },
  {
   "cell_type": "markdown",
   "metadata": {},
   "source": [
    "## Алгоритм преобразования"
   ]
  },
  {
   "cell_type": "markdown",
   "metadata": {},
   "source": [
    "**Алгоритм**\n",
    "\n",
    "Для \"обезличивания\" персональных данных можно умножить матрицу признаков на случайную обратимую матрицу размером 4х4."
   ]
  },
  {
   "cell_type": "markdown",
   "metadata": {},
   "source": [
    "**Обоснование**\n",
    "\n",
    "Такое преобразование не изменит качество линейной регрессии, т.к. оно будет учтено при расчете вектора коэффициентов модели - матрица, обратная случайной матрице, взятой для преобразования, будет умножена на вектор коэффициентов (какой бы он был при обучении модели без преобразования). И в моделе будут взяты полученные в итоге этого произведения коэффициенты."
   ]
  },
  {
   "cell_type": "markdown",
   "metadata": {},
   "source": [
    "## Проверка алгоритма"
   ]
  },
  {
   "cell_type": "code",
   "execution_count": 8,
   "metadata": {},
   "outputs": [],
   "source": [
    "def get_r2(features_train, features_valid, target_train, target_valid):\n",
    "    model = LinearRegression()\n",
    "    model.fit(features_train, target_train)\n",
    "    return r2_score(target_valid, model.predict(features_valid))"
   ]
  },
  {
   "cell_type": "code",
   "execution_count": 9,
   "metadata": {},
   "outputs": [
    {
     "data": {
      "text/plain": [
       "0.435227571270266"
      ]
     },
     "execution_count": 9,
     "metadata": {},
     "output_type": "execute_result"
    }
   ],
   "source": [
    "get_r2(features_train, features_valid, target_train, target_valid)"
   ]
  },
  {
   "cell_type": "code",
   "execution_count": 10,
   "metadata": {},
   "outputs": [],
   "source": [
    "np.random.seed(12345)\n",
    "p = np.random.sample((4, 4))"
   ]
  },
  {
   "cell_type": "markdown",
   "metadata": {},
   "source": [
    "Проверили, что полученная случайная матрица - обратимая."
   ]
  },
  {
   "cell_type": "code",
   "execution_count": 11,
   "metadata": {},
   "outputs": [
    {
     "data": {
      "text/plain": [
       "array([[ 2.1336149 ,  0.5051926 , -1.71113385,  1.33832486],\n",
       "       [-3.76534462, -2.61352053,  6.72316006, -6.07193701],\n",
       "       [ 0.97426298,  2.9928115 , -3.49875049,  1.84220045],\n",
       "       [ 0.13998298, -0.94454066,  0.52375812,  1.652661  ]])"
      ]
     },
     "execution_count": 11,
     "metadata": {},
     "output_type": "execute_result"
    }
   ],
   "source": [
    "np.linalg.inv(p)"
   ]
  },
  {
   "cell_type": "code",
   "execution_count": 12,
   "metadata": {},
   "outputs": [
    {
     "data": {
      "text/plain": [
       "0.4352275712706706"
      ]
     },
     "execution_count": 12,
     "metadata": {},
     "output_type": "execute_result"
    }
   ],
   "source": [
    "get_r2(features_train @ p, features_valid @ p, target_train, target_valid)"
   ]
  },
  {
   "cell_type": "markdown",
   "metadata": {},
   "source": [
    "В итоге получим такой \"обезличенный\" датасет:"
   ]
  },
  {
   "cell_type": "code",
   "execution_count": 13,
   "metadata": {},
   "outputs": [
    {
     "data": {
      "text/html": [
       "<div>\n",
       "<style scoped>\n",
       "    .dataframe tbody tr th:only-of-type {\n",
       "        vertical-align: middle;\n",
       "    }\n",
       "\n",
       "    .dataframe tbody tr th {\n",
       "        vertical-align: top;\n",
       "    }\n",
       "\n",
       "    .dataframe thead th {\n",
       "        text-align: right;\n",
       "    }\n",
       "</style>\n",
       "<table border=\"1\" class=\"dataframe\">\n",
       "  <thead>\n",
       "    <tr style=\"text-align: right;\">\n",
       "      <th></th>\n",
       "      <th>f1</th>\n",
       "      <th>f2</th>\n",
       "      <th>f3</th>\n",
       "      <th>f4</th>\n",
       "      <th>t</th>\n",
       "    </tr>\n",
       "  </thead>\n",
       "  <tbody>\n",
       "    <tr>\n",
       "      <th>0</th>\n",
       "      <td>37169.983952</td>\n",
       "      <td>32441.905747</td>\n",
       "      <td>37126.682258</td>\n",
       "      <td>47708.455342</td>\n",
       "      <td>0.0</td>\n",
       "    </tr>\n",
       "    <tr>\n",
       "      <th>1</th>\n",
       "      <td>28484.575966</td>\n",
       "      <td>24863.156593</td>\n",
       "      <td>28457.829124</td>\n",
       "      <td>36560.358528</td>\n",
       "      <td>1.0</td>\n",
       "    </tr>\n",
       "    <tr>\n",
       "      <th>2</th>\n",
       "      <td>15743.503414</td>\n",
       "      <td>13742.238084</td>\n",
       "      <td>15729.981916</td>\n",
       "      <td>20206.383593</td>\n",
       "      <td>0.0</td>\n",
       "    </tr>\n",
       "    <tr>\n",
       "      <th>3</th>\n",
       "      <td>31241.345787</td>\n",
       "      <td>27266.582942</td>\n",
       "      <td>31200.559759</td>\n",
       "      <td>40101.520436</td>\n",
       "      <td>0.0</td>\n",
       "    </tr>\n",
       "    <tr>\n",
       "      <th>4</th>\n",
       "      <td>19563.289157</td>\n",
       "      <td>17075.165256</td>\n",
       "      <td>19542.546847</td>\n",
       "      <td>25108.599330</td>\n",
       "      <td>0.0</td>\n",
       "    </tr>\n",
       "  </tbody>\n",
       "</table>\n",
       "</div>"
      ],
      "text/plain": [
       "             f1            f2            f3            f4    t\n",
       "0  37169.983952  32441.905747  37126.682258  47708.455342  0.0\n",
       "1  28484.575966  24863.156593  28457.829124  36560.358528  1.0\n",
       "2  15743.503414  13742.238084  15729.981916  20206.383593  0.0\n",
       "3  31241.345787  27266.582942  31200.559759  40101.520436  0.0\n",
       "4  19563.289157  17075.165256  19542.546847  25108.599330  0.0"
      ]
     },
     "execution_count": 13,
     "metadata": {},
     "output_type": "execute_result"
    }
   ],
   "source": [
    "data = pd.DataFrame(data = np.concatenate((features @ p, np.array([target]).T), axis=1), columns = data.columns)\n",
    "data.head()"
   ]
  },
  {
   "cell_type": "markdown",
   "metadata": {},
   "source": [
    "**Вывод**\n",
    "\n",
    "Эмпирическим путем получили те же выводы, которые были сделаны выше на основе теории.\n",
    "\n",
    "Таким образом, в случае домножения матрицы признаков на случайную обратимую матрицу можно обеспечить защиту данных, не особо потеряв в качестве модели (незначительное отличие вызвано особенностью преобразования матриц и чисел с плавающей точкой, это норма)."
   ]
  }
 ],
 "metadata": {
  "ExecuteTimeLog": [
   {
    "duration": 535,
    "start_time": "2022-04-21T13:48:22.357Z"
   },
   {
    "duration": 15,
    "start_time": "2022-04-21T13:48:53.972Z"
   },
   {
    "duration": 32,
    "start_time": "2022-04-21T13:48:59.004Z"
   },
   {
    "duration": 18,
    "start_time": "2022-04-21T13:49:38.139Z"
   },
   {
    "duration": 111,
    "start_time": "2022-04-21T13:57:59.236Z"
   },
   {
    "duration": 22,
    "start_time": "2022-04-21T13:58:27.431Z"
   },
   {
    "duration": 21,
    "start_time": "2022-04-21T13:58:39.457Z"
   },
   {
    "duration": 19,
    "start_time": "2022-04-21T13:59:50.192Z"
   },
   {
    "duration": 14,
    "start_time": "2022-04-21T13:59:58.166Z"
   },
   {
    "duration": 12,
    "start_time": "2022-04-21T14:00:05.740Z"
   },
   {
    "duration": 8,
    "start_time": "2022-04-21T14:00:10.526Z"
   },
   {
    "duration": 12,
    "start_time": "2022-04-21T14:01:15.238Z"
   },
   {
    "duration": 17,
    "start_time": "2022-04-21T14:01:42.582Z"
   },
   {
    "duration": 15,
    "start_time": "2022-04-21T14:01:47.222Z"
   },
   {
    "duration": 5,
    "start_time": "2022-04-21T14:01:49.747Z"
   },
   {
    "duration": 468,
    "start_time": "2022-04-21T14:01:58.122Z"
   },
   {
    "duration": 32,
    "start_time": "2022-04-21T14:01:58.593Z"
   },
   {
    "duration": 16,
    "start_time": "2022-04-21T14:01:58.627Z"
   },
   {
    "duration": 5,
    "start_time": "2022-04-21T14:01:58.646Z"
   },
   {
    "duration": 32,
    "start_time": "2022-04-21T14:01:58.653Z"
   },
   {
    "duration": 8,
    "start_time": "2022-04-21T14:02:34.899Z"
   },
   {
    "duration": 6,
    "start_time": "2022-04-21T14:03:50.738Z"
   },
   {
    "duration": 1078,
    "start_time": "2022-04-21T14:09:17.436Z"
   },
   {
    "duration": 147,
    "start_time": "2022-04-21T14:11:47.817Z"
   },
   {
    "duration": 4,
    "start_time": "2022-04-21T14:11:52.080Z"
   },
   {
    "duration": 321,
    "start_time": "2022-04-21T14:11:53.817Z"
   },
   {
    "duration": 3,
    "start_time": "2022-04-21T14:12:17.752Z"
   },
   {
    "duration": 4,
    "start_time": "2022-04-21T14:12:23.073Z"
   },
   {
    "duration": 306,
    "start_time": "2022-04-21T14:12:24.880Z"
   },
   {
    "duration": 96,
    "start_time": "2022-04-21T14:12:49.471Z"
   },
   {
    "duration": 4,
    "start_time": "2022-04-21T14:12:59.919Z"
   },
   {
    "duration": 99,
    "start_time": "2022-04-21T14:13:02.367Z"
   },
   {
    "duration": 5,
    "start_time": "2022-04-21T14:13:22.262Z"
   },
   {
    "duration": 735,
    "start_time": "2022-04-21T14:13:24.135Z"
   },
   {
    "duration": 5,
    "start_time": "2022-04-21T14:13:45.975Z"
   },
   {
    "duration": 99,
    "start_time": "2022-04-21T14:13:47.957Z"
   },
   {
    "duration": 4,
    "start_time": "2022-04-21T14:14:10.342Z"
   },
   {
    "duration": 11,
    "start_time": "2022-04-21T14:15:39.972Z"
   },
   {
    "duration": 12,
    "start_time": "2022-04-21T14:16:08.483Z"
   },
   {
    "duration": 5,
    "start_time": "2022-04-21T14:16:14.291Z"
   },
   {
    "duration": 110,
    "start_time": "2022-04-21T14:16:17.739Z"
   },
   {
    "duration": 11,
    "start_time": "2022-04-21T14:17:10.405Z"
   },
   {
    "duration": 112,
    "start_time": "2022-04-21T14:17:13.890Z"
   },
   {
    "duration": 6,
    "start_time": "2022-04-21T14:31:12.433Z"
   },
   {
    "duration": 130,
    "start_time": "2022-04-21T14:31:13.737Z"
   },
   {
    "duration": 7,
    "start_time": "2022-04-21T14:31:16.160Z"
   },
   {
    "duration": 104,
    "start_time": "2022-04-21T14:31:29.891Z"
   },
   {
    "duration": 100,
    "start_time": "2022-04-21T14:31:33.258Z"
   },
   {
    "duration": 7,
    "start_time": "2022-04-21T14:31:56.241Z"
   },
   {
    "duration": 7,
    "start_time": "2022-04-21T14:33:01.016Z"
   },
   {
    "duration": 6,
    "start_time": "2022-04-21T14:36:29.690Z"
   },
   {
    "duration": 6,
    "start_time": "2022-04-21T14:38:34.416Z"
   },
   {
    "duration": 7,
    "start_time": "2022-04-21T14:38:59.105Z"
   },
   {
    "duration": 6,
    "start_time": "2022-04-21T14:39:08.415Z"
   },
   {
    "duration": 6,
    "start_time": "2022-04-21T14:40:15.062Z"
   },
   {
    "duration": 6,
    "start_time": "2022-04-21T14:40:16.999Z"
   },
   {
    "duration": 10,
    "start_time": "2022-04-21T14:41:19.077Z"
   },
   {
    "duration": 7,
    "start_time": "2022-04-21T14:41:28.533Z"
   },
   {
    "duration": 6,
    "start_time": "2022-04-21T14:41:32.197Z"
   },
   {
    "duration": 142,
    "start_time": "2022-04-21T14:41:32.860Z"
   },
   {
    "duration": 6,
    "start_time": "2022-04-21T14:41:38.269Z"
   },
   {
    "duration": 10,
    "start_time": "2022-04-21T14:42:38.196Z"
   },
   {
    "duration": 3,
    "start_time": "2022-04-21T14:42:43.437Z"
   },
   {
    "duration": 7,
    "start_time": "2022-04-21T14:42:44.996Z"
   },
   {
    "duration": 10,
    "start_time": "2022-04-21T14:42:59.092Z"
   },
   {
    "duration": 82,
    "start_time": "2022-04-21T14:43:03.707Z"
   },
   {
    "duration": 83,
    "start_time": "2022-04-21T14:43:13.882Z"
   },
   {
    "duration": 5,
    "start_time": "2022-04-21T14:43:17.314Z"
   },
   {
    "duration": 8,
    "start_time": "2022-04-21T14:43:19.706Z"
   },
   {
    "duration": 8,
    "start_time": "2022-04-21T14:43:22.715Z"
   },
   {
    "duration": 4,
    "start_time": "2022-04-21T14:43:24.994Z"
   },
   {
    "duration": 7,
    "start_time": "2022-04-21T14:43:26.994Z"
   },
   {
    "duration": 83,
    "start_time": "2022-04-21T14:43:29.139Z"
   },
   {
    "duration": 1519,
    "start_time": "2022-04-21T14:43:54.380Z"
   },
   {
    "duration": 33,
    "start_time": "2022-04-21T14:43:55.903Z"
   },
   {
    "duration": 16,
    "start_time": "2022-04-21T14:43:55.938Z"
   },
   {
    "duration": 5,
    "start_time": "2022-04-21T14:43:55.957Z"
   },
   {
    "duration": 24,
    "start_time": "2022-04-21T14:43:55.964Z"
   },
   {
    "duration": 8,
    "start_time": "2022-04-21T14:43:55.990Z"
   },
   {
    "duration": 5,
    "start_time": "2022-04-21T14:43:56.000Z"
   },
   {
    "duration": 129,
    "start_time": "2022-04-21T14:43:56.007Z"
   },
   {
    "duration": 4,
    "start_time": "2022-04-21T14:43:56.138Z"
   },
   {
    "duration": 39,
    "start_time": "2022-04-21T14:43:56.144Z"
   },
   {
    "duration": 157,
    "start_time": "2022-04-21T14:43:56.186Z"
   },
   {
    "duration": 165,
    "start_time": "2022-04-21T14:50:47.696Z"
   },
   {
    "duration": 7,
    "start_time": "2022-04-21T14:50:56.090Z"
   },
   {
    "duration": 1689,
    "start_time": "2022-04-21T14:51:25.179Z"
   },
   {
    "duration": 33,
    "start_time": "2022-04-21T14:51:26.871Z"
   },
   {
    "duration": 16,
    "start_time": "2022-04-21T14:51:26.906Z"
   },
   {
    "duration": 8,
    "start_time": "2022-04-21T14:51:26.924Z"
   },
   {
    "duration": 9,
    "start_time": "2022-04-21T14:51:26.934Z"
   },
   {
    "duration": 8,
    "start_time": "2022-04-21T14:51:26.945Z"
   },
   {
    "duration": 4,
    "start_time": "2022-04-21T14:51:26.982Z"
   },
   {
    "duration": 165,
    "start_time": "2022-04-21T14:51:26.988Z"
   },
   {
    "duration": 0,
    "start_time": "2022-04-21T14:51:27.155Z"
   },
   {
    "duration": 0,
    "start_time": "2022-04-21T14:51:27.156Z"
   },
   {
    "duration": 0,
    "start_time": "2022-04-21T14:51:27.158Z"
   },
   {
    "duration": 100,
    "start_time": "2022-04-21T14:51:59.650Z"
   },
   {
    "duration": 4,
    "start_time": "2022-04-21T14:52:03.929Z"
   },
   {
    "duration": 14,
    "start_time": "2022-04-21T14:52:05.672Z"
   },
   {
    "duration": 5,
    "start_time": "2022-04-21T14:52:07.697Z"
   },
   {
    "duration": 8,
    "start_time": "2022-04-21T14:52:09.552Z"
   },
   {
    "duration": 13,
    "start_time": "2022-04-21T14:52:11.360Z"
   },
   {
    "duration": 4,
    "start_time": "2022-04-21T14:52:38.544Z"
   },
   {
    "duration": 8,
    "start_time": "2022-04-21T14:52:40.464Z"
   },
   {
    "duration": 13,
    "start_time": "2022-04-21T14:52:42.768Z"
   },
   {
    "duration": 3,
    "start_time": "2022-04-21T14:52:48.544Z"
   },
   {
    "duration": 6,
    "start_time": "2022-04-21T14:52:50.944Z"
   },
   {
    "duration": 35,
    "start_time": "2022-04-21T14:52:53.647Z"
   },
   {
    "duration": 4,
    "start_time": "2022-04-21T14:52:57.744Z"
   },
   {
    "duration": 1674,
    "start_time": "2022-04-21T14:53:04.681Z"
   },
   {
    "duration": 34,
    "start_time": "2022-04-21T14:53:06.358Z"
   },
   {
    "duration": 16,
    "start_time": "2022-04-21T14:53:06.401Z"
   },
   {
    "duration": 7,
    "start_time": "2022-04-21T14:53:06.420Z"
   },
   {
    "duration": 11,
    "start_time": "2022-04-21T14:53:06.429Z"
   },
   {
    "duration": 44,
    "start_time": "2022-04-21T14:53:06.442Z"
   },
   {
    "duration": 6,
    "start_time": "2022-04-21T14:53:06.488Z"
   },
   {
    "duration": 15,
    "start_time": "2022-04-21T14:53:06.496Z"
   },
   {
    "duration": 10,
    "start_time": "2022-04-21T14:53:06.581Z"
   },
   {
    "duration": 94,
    "start_time": "2022-04-21T14:53:06.594Z"
   },
   {
    "duration": 104,
    "start_time": "2022-04-21T14:53:06.691Z"
   },
   {
    "duration": 6,
    "start_time": "2022-04-21T14:56:15.042Z"
   },
   {
    "duration": 4,
    "start_time": "2022-04-21T15:41:39.491Z"
   },
   {
    "duration": 139,
    "start_time": "2022-04-21T15:42:11.370Z"
   },
   {
    "duration": 9,
    "start_time": "2022-04-21T15:42:15.978Z"
   },
   {
    "duration": 5,
    "start_time": "2022-04-21T15:42:17.867Z"
   },
   {
    "duration": 5,
    "start_time": "2022-04-21T15:42:19.668Z"
   },
   {
    "duration": 5,
    "start_time": "2022-04-21T15:42:32.075Z"
   },
   {
    "duration": 1572,
    "start_time": "2022-04-21T15:43:27.047Z"
   },
   {
    "duration": 38,
    "start_time": "2022-04-21T15:43:28.621Z"
   },
   {
    "duration": 21,
    "start_time": "2022-04-21T15:43:28.661Z"
   },
   {
    "duration": 10,
    "start_time": "2022-04-21T15:43:28.685Z"
   },
   {
    "duration": 12,
    "start_time": "2022-04-21T15:43:28.697Z"
   },
   {
    "duration": 9,
    "start_time": "2022-04-21T15:43:28.711Z"
   },
   {
    "duration": 8,
    "start_time": "2022-04-21T15:43:28.722Z"
   },
   {
    "duration": 6,
    "start_time": "2022-04-21T15:43:28.732Z"
   },
   {
    "duration": 12,
    "start_time": "2022-04-21T15:43:28.740Z"
   },
   {
    "duration": 5,
    "start_time": "2022-04-21T15:43:28.783Z"
   },
   {
    "duration": 15,
    "start_time": "2022-04-21T15:43:28.790Z"
   },
   {
    "duration": 80,
    "start_time": "2022-04-21T15:43:28.809Z"
   },
   {
    "duration": 7,
    "start_time": "2022-04-21T15:44:17.172Z"
   },
   {
    "duration": 1561,
    "start_time": "2022-04-21T16:00:26.581Z"
   },
   {
    "duration": 35,
    "start_time": "2022-04-21T16:00:28.145Z"
   },
   {
    "duration": 17,
    "start_time": "2022-04-21T16:00:28.182Z"
   },
   {
    "duration": 5,
    "start_time": "2022-04-21T16:00:28.202Z"
   },
   {
    "duration": 12,
    "start_time": "2022-04-21T16:00:28.209Z"
   },
   {
    "duration": 8,
    "start_time": "2022-04-21T16:00:28.224Z"
   },
   {
    "duration": 47,
    "start_time": "2022-04-21T16:00:28.235Z"
   },
   {
    "duration": 6,
    "start_time": "2022-04-21T16:00:28.284Z"
   },
   {
    "duration": 11,
    "start_time": "2022-04-21T16:00:28.292Z"
   },
   {
    "duration": 3,
    "start_time": "2022-04-21T16:00:28.306Z"
   },
   {
    "duration": 12,
    "start_time": "2022-04-21T16:00:28.311Z"
   },
   {
    "duration": 59,
    "start_time": "2022-04-21T16:00:28.325Z"
   },
   {
    "duration": 137,
    "start_time": "2022-04-21T16:04:24.012Z"
   },
   {
    "duration": 1533,
    "start_time": "2022-04-21T16:04:39.748Z"
   },
   {
    "duration": 34,
    "start_time": "2022-04-21T16:04:41.284Z"
   },
   {
    "duration": 24,
    "start_time": "2022-04-21T16:04:41.321Z"
   },
   {
    "duration": 6,
    "start_time": "2022-04-21T16:04:41.349Z"
   },
   {
    "duration": 11,
    "start_time": "2022-04-21T16:04:41.381Z"
   },
   {
    "duration": 7,
    "start_time": "2022-04-21T16:04:41.395Z"
   },
   {
    "duration": 6,
    "start_time": "2022-04-21T16:04:41.405Z"
   },
   {
    "duration": 5,
    "start_time": "2022-04-21T16:04:41.414Z"
   },
   {
    "duration": 15,
    "start_time": "2022-04-21T16:04:41.421Z"
   },
   {
    "duration": 4,
    "start_time": "2022-04-21T16:04:41.484Z"
   },
   {
    "duration": 12,
    "start_time": "2022-04-21T16:04:41.490Z"
   },
   {
    "duration": 84,
    "start_time": "2022-04-21T16:04:41.504Z"
   },
   {
    "duration": 94,
    "start_time": "2022-04-21T16:04:41.591Z"
   },
   {
    "duration": 117,
    "start_time": "2022-04-21T16:04:41.687Z"
   },
   {
    "duration": 150,
    "start_time": "2022-04-21T16:04:48.085Z"
   },
   {
    "duration": 7,
    "start_time": "2022-04-21T16:04:57.982Z"
   },
   {
    "duration": 6,
    "start_time": "2022-04-21T16:05:07.718Z"
   },
   {
    "duration": 127,
    "start_time": "2022-04-21T16:06:18.108Z"
   },
   {
    "duration": 205,
    "start_time": "2022-04-21T16:06:22.627Z"
   },
   {
    "duration": 33,
    "start_time": "2022-04-21T16:06:29.212Z"
   },
   {
    "duration": 6,
    "start_time": "2022-04-21T16:06:49.315Z"
   },
   {
    "duration": 121,
    "start_time": "2022-04-21T16:07:43.740Z"
   },
   {
    "duration": 236,
    "start_time": "2022-04-21T16:07:57.810Z"
   },
   {
    "duration": 112,
    "start_time": "2022-04-21T16:08:12.818Z"
   },
   {
    "duration": 6,
    "start_time": "2022-04-21T16:08:33.817Z"
   },
   {
    "duration": 6,
    "start_time": "2022-04-21T16:08:45.113Z"
   },
   {
    "duration": 121,
    "start_time": "2022-04-21T16:09:03.336Z"
   },
   {
    "duration": 146,
    "start_time": "2022-04-21T16:09:32.793Z"
   },
   {
    "duration": 179,
    "start_time": "2022-04-21T16:09:42.248Z"
   },
   {
    "duration": 128,
    "start_time": "2022-04-21T16:10:25.342Z"
   },
   {
    "duration": 8,
    "start_time": "2022-04-21T16:10:28.494Z"
   },
   {
    "duration": 115,
    "start_time": "2022-04-21T16:10:40.790Z"
   },
   {
    "duration": 142,
    "start_time": "2022-04-21T16:10:45.543Z"
   },
   {
    "duration": 6,
    "start_time": "2022-04-21T16:11:34.726Z"
   },
   {
    "duration": 5,
    "start_time": "2022-04-21T16:11:41.429Z"
   },
   {
    "duration": 107,
    "start_time": "2022-04-21T16:11:50.565Z"
   },
   {
    "duration": 122,
    "start_time": "2022-04-21T16:11:56.646Z"
   },
   {
    "duration": 7,
    "start_time": "2022-04-21T16:12:17.981Z"
   },
   {
    "duration": 7,
    "start_time": "2022-04-21T16:12:29.620Z"
   },
   {
    "duration": 108,
    "start_time": "2022-04-21T16:13:17.029Z"
   },
   {
    "duration": 13,
    "start_time": "2022-04-21T16:13:30.180Z"
   },
   {
    "duration": 122,
    "start_time": "2022-04-21T16:14:06.722Z"
   },
   {
    "duration": 6,
    "start_time": "2022-04-21T16:14:12.915Z"
   },
   {
    "duration": 7,
    "start_time": "2022-04-21T16:14:16.155Z"
   },
   {
    "duration": 102,
    "start_time": "2022-04-21T16:14:56.275Z"
   },
   {
    "duration": 183,
    "start_time": "2022-04-21T16:15:06.299Z"
   },
   {
    "duration": 116,
    "start_time": "2022-04-21T16:15:13.057Z"
   },
   {
    "duration": 120,
    "start_time": "2022-04-21T16:15:45.290Z"
   },
   {
    "duration": 6,
    "start_time": "2022-04-21T16:18:13.630Z"
   },
   {
    "duration": 5,
    "start_time": "2022-04-21T19:39:20.707Z"
   },
   {
    "duration": 5,
    "start_time": "2022-04-21T19:39:35.746Z"
   },
   {
    "duration": 4,
    "start_time": "2022-04-21T19:39:41.546Z"
   },
   {
    "duration": 5,
    "start_time": "2022-04-21T19:39:54.506Z"
   },
   {
    "duration": 14,
    "start_time": "2022-04-21T19:40:31.777Z"
   },
   {
    "duration": 11,
    "start_time": "2022-04-21T19:41:05.569Z"
   },
   {
    "duration": 4,
    "start_time": "2022-04-21T19:41:18.298Z"
   },
   {
    "duration": 4,
    "start_time": "2022-04-21T19:41:24.320Z"
   },
   {
    "duration": 6,
    "start_time": "2022-04-21T19:41:44.599Z"
   },
   {
    "duration": 139,
    "start_time": "2022-04-21T19:42:01.567Z"
   },
   {
    "duration": 6,
    "start_time": "2022-04-21T19:42:20.174Z"
   },
   {
    "duration": 10,
    "start_time": "2022-04-21T19:42:28.982Z"
   },
   {
    "duration": 143,
    "start_time": "2022-04-21T19:43:03.878Z"
   },
   {
    "duration": 193,
    "start_time": "2022-04-21T19:43:15.317Z"
   },
   {
    "duration": 5,
    "start_time": "2022-04-21T19:43:23.861Z"
   },
   {
    "duration": 15,
    "start_time": "2022-04-21T19:43:30.661Z"
   },
   {
    "duration": 17,
    "start_time": "2022-04-21T19:43:38.691Z"
   },
   {
    "duration": 15,
    "start_time": "2022-04-21T19:44:45.565Z"
   },
   {
    "duration": 15,
    "start_time": "2022-04-21T19:44:57.964Z"
   },
   {
    "duration": 1665,
    "start_time": "2022-04-21T19:52:35.753Z"
   },
   {
    "duration": 34,
    "start_time": "2022-04-21T19:52:37.421Z"
   },
   {
    "duration": 17,
    "start_time": "2022-04-21T19:52:37.457Z"
   },
   {
    "duration": 24,
    "start_time": "2022-04-21T19:52:37.476Z"
   },
   {
    "duration": 9,
    "start_time": "2022-04-21T19:52:37.504Z"
   },
   {
    "duration": 6,
    "start_time": "2022-04-21T19:52:37.516Z"
   },
   {
    "duration": 7,
    "start_time": "2022-04-21T19:52:37.525Z"
   },
   {
    "duration": 5,
    "start_time": "2022-04-21T19:52:37.534Z"
   },
   {
    "duration": 53,
    "start_time": "2022-04-21T19:52:37.541Z"
   },
   {
    "duration": 4,
    "start_time": "2022-04-21T19:52:37.597Z"
   },
   {
    "duration": 11,
    "start_time": "2022-04-21T19:52:37.604Z"
   },
   {
    "duration": 71,
    "start_time": "2022-04-21T19:52:37.619Z"
   },
   {
    "duration": 106,
    "start_time": "2022-04-21T19:52:37.696Z"
   },
   {
    "duration": 90,
    "start_time": "2022-04-25T19:06:04.970Z"
   },
   {
    "duration": 1806,
    "start_time": "2022-04-25T19:06:10.999Z"
   },
   {
    "duration": 41,
    "start_time": "2022-04-25T19:06:13.153Z"
   },
   {
    "duration": 18,
    "start_time": "2022-04-25T19:06:15.751Z"
   },
   {
    "duration": 102,
    "start_time": "2022-04-25T19:06:17.903Z"
   },
   {
    "duration": 33,
    "start_time": "2022-04-25T19:06:22.727Z"
   },
   {
    "duration": 13,
    "start_time": "2022-04-25T19:11:19.946Z"
   },
   {
    "duration": 177,
    "start_time": "2022-04-25T19:12:24.313Z"
   }
  ],
  "kernelspec": {
   "display_name": "Python 3 (ipykernel)",
   "language": "python",
   "name": "python3"
  },
  "language_info": {
   "codemirror_mode": {
    "name": "ipython",
    "version": 3
   },
   "file_extension": ".py",
   "mimetype": "text/x-python",
   "name": "python",
   "nbconvert_exporter": "python",
   "pygments_lexer": "ipython3",
   "version": "3.9.5"
  },
  "toc": {
   "base_numbering": 1,
   "nav_menu": {},
   "number_sections": true,
   "sideBar": true,
   "skip_h1_title": true,
   "title_cell": "Содержание",
   "title_sidebar": "Contents",
   "toc_cell": true,
   "toc_position": {},
   "toc_section_display": true,
   "toc_window_display": true
  }
 },
 "nbformat": 4,
 "nbformat_minor": 2
}
