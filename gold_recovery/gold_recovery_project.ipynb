{
 "cells": [
  {
   "cell_type": "markdown",
   "metadata": {
    "toc": true
   },
   "source": [
    "<h1>Содержание<span class=\"tocSkip\"></span></h1>\n",
    "<div class=\"toc\"><ul class=\"toc-item\"><li><span><a href=\"#Подготовка-данных\" data-toc-modified-id=\"Подготовка-данных-1\"><span class=\"toc-item-num\">1&nbsp;&nbsp;</span>Подготовка данных</a></span><ul class=\"toc-item\"><li><span><a href=\"#Общая-информация-о-датасете\" data-toc-modified-id=\"Общая-информация-о-датасете-1.1\"><span class=\"toc-item-num\">1.1&nbsp;&nbsp;</span>Общая информация о датасете</a></span></li><li><span><a href=\"#Проверка-расчета-эффективности-обогащения\" data-toc-modified-id=\"Проверка-расчета-эффективности-обогащения-1.2\"><span class=\"toc-item-num\">1.2&nbsp;&nbsp;</span>Проверка расчета эффективности обогащения</a></span></li><li><span><a href=\"#Признаки,-отсутствующие-в-тестовой-выборке\" data-toc-modified-id=\"Признаки,-отсутствующие-в-тестовой-выборке-1.3\"><span class=\"toc-item-num\">1.3&nbsp;&nbsp;</span>Признаки, отсутствующие в тестовой выборке</a></span></li><li><span><a href=\"#Предобработка-данных\" data-toc-modified-id=\"Предобработка-данных-1.4\"><span class=\"toc-item-num\">1.4&nbsp;&nbsp;</span>Предобработка данных</a></span><ul class=\"toc-item\"><li><span><a href=\"#Обработка-пропусков\" data-toc-modified-id=\"Обработка-пропусков-1.4.1\"><span class=\"toc-item-num\">1.4.1&nbsp;&nbsp;</span>Обработка пропусков</a></span></li></ul></li></ul></li><li><span><a href=\"#Анализ-данных\" data-toc-modified-id=\"Анализ-данных-2\"><span class=\"toc-item-num\">2&nbsp;&nbsp;</span>Анализ данных</a></span><ul class=\"toc-item\"><li><span><a href=\"#Концентрация-металлов-на-различных-этапах-очистки\" data-toc-modified-id=\"Концентрация-металлов-на-различных-этапах-очистки-2.1\"><span class=\"toc-item-num\">2.1&nbsp;&nbsp;</span>Концентрация металлов на различных этапах очистки</a></span></li><li><span><a href=\"#Распределение-размеров-гранул-сырья-на-обучающей-и-тестовой-выборках\" data-toc-modified-id=\"Распределение-размеров-гранул-сырья-на-обучающей-и-тестовой-выборках-2.2\"><span class=\"toc-item-num\">2.2&nbsp;&nbsp;</span>Распределение размеров гранул сырья на обучающей и тестовой выборках</a></span></li><li><span><a href=\"#Суммарная-концентрация-всех-веществ-на-разных-стадиях\" data-toc-modified-id=\"Суммарная-концентрация-всех-веществ-на-разных-стадиях-2.3\"><span class=\"toc-item-num\">2.3&nbsp;&nbsp;</span>Суммарная концентрация всех веществ на разных стадиях</a></span></li><li><span><a href=\"#Удаление-аномалий\" data-toc-modified-id=\"Удаление-аномалий-2.4\"><span class=\"toc-item-num\">2.4&nbsp;&nbsp;</span>Удаление аномалий</a></span></li></ul></li><li><span><a href=\"#Модель\" data-toc-modified-id=\"Модель-3\"><span class=\"toc-item-num\">3&nbsp;&nbsp;</span>Модель</a></span><ul class=\"toc-item\"><li><span><a href=\"#Функция-для-вычисления-итоговой-sMAPE\" data-toc-modified-id=\"Функция-для-вычисления-итоговой-sMAPE-3.1\"><span class=\"toc-item-num\">3.1&nbsp;&nbsp;</span>Функция для вычисления итоговой sMAPE</a></span></li><li><span><a href=\"#Обучение-модели\" data-toc-modified-id=\"Обучение-модели-3.2\"><span class=\"toc-item-num\">3.2&nbsp;&nbsp;</span>Обучение модели</a></span></li><li><span><a href=\"#Обучающая-и-тестовая-выборки\" data-toc-modified-id=\"Обучающая-и-тестовая-выборки-3.3\"><span class=\"toc-item-num\">3.3&nbsp;&nbsp;</span>Обучающая и тестовая выборки</a></span></li><li><span><a href=\"#Масштабирование-признаков\" data-toc-modified-id=\"Масштабирование-признаков-3.4\"><span class=\"toc-item-num\">3.4&nbsp;&nbsp;</span>Масштабирование признаков</a></span></li><li><span><a href=\"#Линейная-регрессия\" data-toc-modified-id=\"Линейная-регрессия-3.5\"><span class=\"toc-item-num\">3.5&nbsp;&nbsp;</span>Линейная регрессия</a></span></li><li><span><a href=\"#Дерево-решений\" data-toc-modified-id=\"Дерево-решений-3.6\"><span class=\"toc-item-num\">3.6&nbsp;&nbsp;</span>Дерево решений</a></span></li><li><span><a href=\"#Случайный-лес\" data-toc-modified-id=\"Случайный-лес-3.7\"><span class=\"toc-item-num\">3.7&nbsp;&nbsp;</span>Случайный лес</a></span></li><li><span><a href=\"#Лучшая-модель-для-прогноза-эффективности-обогащения-чернового-концентрата-rougher.output.recovery\" data-toc-modified-id=\"Лучшая-модель-для-прогноза-эффективности-обогащения-чернового-концентрата-rougher.output.recovery-3.8\"><span class=\"toc-item-num\">3.8&nbsp;&nbsp;</span>Лучшая модель для прогноза эффективности обогащения чернового концентрата <code>rougher.output.recovery</code></a></span></li><li><span><a href=\"#Лучшая-модель-для-прогноза--эффективности-обогащения-финального-продукта-final.output.recovery\" data-toc-modified-id=\"Лучшая-модель-для-прогноза--эффективности-обогащения-финального-продукта-final.output.recovery-3.9\"><span class=\"toc-item-num\">3.9&nbsp;&nbsp;</span>Лучшая модель для прогноза  эффективности обогащения финального продукта <code>final.output.recovery</code></a></span></li><li><span><a href=\"#Тестирование-модели\" data-toc-modified-id=\"Тестирование-модели-3.10\"><span class=\"toc-item-num\">3.10&nbsp;&nbsp;</span>Тестирование модели</a></span></li></ul></li></ul></div>"
   ]
  },
  {
   "cell_type": "markdown",
   "metadata": {},
   "source": [
    "# Восстановление золота из руды"
   ]
  },
  {
   "cell_type": "markdown",
   "metadata": {},
   "source": [
    "## Подготовка данных"
   ]
  },
  {
   "cell_type": "markdown",
   "metadata": {},
   "source": [
    "### Общая информация о датасете"
   ]
  },
  {
   "cell_type": "code",
   "execution_count": 1,
   "metadata": {},
   "outputs": [],
   "source": [
    "import pandas as pd\n",
    "from functools import reduce\n",
    "import numpy as np\n",
    "\n",
    "import seaborn as sns\n",
    "import matplotlib.pyplot as plt\n",
    "\n",
    "from sklearn.metrics import mean_absolute_error\n",
    "from sklearn.metrics import make_scorer\n",
    "\n",
    "from sklearn.preprocessing import StandardScaler\n",
    "pd.options.mode.chained_assignment = None\n",
    "\n",
    "from sklearn.tree import DecisionTreeRegressor \n",
    "from sklearn.ensemble import RandomForestRegressor\n",
    "from sklearn.linear_model import LinearRegression\n",
    "\n",
    "from sklearn.dummy import DummyRegressor\n",
    "\n",
    "from sklearn.model_selection import cross_val_score\n",
    "from sklearn.model_selection import RandomizedSearchCV"
   ]
  },
  {
   "cell_type": "code",
   "execution_count": 2,
   "metadata": {},
   "outputs": [],
   "source": [
    "pd.set_option('display.max_rows', 100)\n",
    "pd.set_option('display.max_columns', 100)"
   ]
  },
  {
   "cell_type": "code",
   "execution_count": 3,
   "metadata": {
    "scrolled": false
   },
   "outputs": [
    {
     "name": "stdout",
     "output_type": "stream",
     "text": [
      "<class 'pandas.core.frame.DataFrame'>\n",
      "DatetimeIndex: 19439 entries, 2016-01-15 00:00:00 to 2018-08-18 10:59:59\n",
      "Data columns (total 86 columns):\n",
      " #   Column                                              Non-Null Count  Dtype  \n",
      "---  ------                                              --------------  -----  \n",
      " 0   final.output.concentrate_ag                         19438 non-null  float64\n",
      " 1   final.output.concentrate_pb                         19438 non-null  float64\n",
      " 2   final.output.concentrate_sol                        19228 non-null  float64\n",
      " 3   final.output.concentrate_au                         19439 non-null  float64\n",
      " 4   final.output.recovery                               19439 non-null  float64\n",
      " 5   final.output.tail_ag                                19438 non-null  float64\n",
      " 6   final.output.tail_pb                                19338 non-null  float64\n",
      " 7   final.output.tail_sol                               19433 non-null  float64\n",
      " 8   final.output.tail_au                                19439 non-null  float64\n",
      " 9   primary_cleaner.input.sulfate                       19415 non-null  float64\n",
      " 10  primary_cleaner.input.depressant                    19402 non-null  float64\n",
      " 11  primary_cleaner.input.feed_size                     19439 non-null  float64\n",
      " 12  primary_cleaner.input.xanthate                      19335 non-null  float64\n",
      " 13  primary_cleaner.output.concentrate_ag               19439 non-null  float64\n",
      " 14  primary_cleaner.output.concentrate_pb               19323 non-null  float64\n",
      " 15  primary_cleaner.output.concentrate_sol              19069 non-null  float64\n",
      " 16  primary_cleaner.output.concentrate_au               19439 non-null  float64\n",
      " 17  primary_cleaner.output.tail_ag                      19435 non-null  float64\n",
      " 18  primary_cleaner.output.tail_pb                      19418 non-null  float64\n",
      " 19  primary_cleaner.output.tail_sol                     19377 non-null  float64\n",
      " 20  primary_cleaner.output.tail_au                      19439 non-null  float64\n",
      " 21  primary_cleaner.state.floatbank8_a_air              19435 non-null  float64\n",
      " 22  primary_cleaner.state.floatbank8_a_level            19438 non-null  float64\n",
      " 23  primary_cleaner.state.floatbank8_b_air              19435 non-null  float64\n",
      " 24  primary_cleaner.state.floatbank8_b_level            19438 non-null  float64\n",
      " 25  primary_cleaner.state.floatbank8_c_air              19437 non-null  float64\n",
      " 26  primary_cleaner.state.floatbank8_c_level            19438 non-null  float64\n",
      " 27  primary_cleaner.state.floatbank8_d_air              19436 non-null  float64\n",
      " 28  primary_cleaner.state.floatbank8_d_level            19438 non-null  float64\n",
      " 29  rougher.calculation.sulfate_to_au_concentrate       19437 non-null  float64\n",
      " 30  rougher.calculation.floatbank10_sulfate_to_au_feed  19437 non-null  float64\n",
      " 31  rougher.calculation.floatbank11_sulfate_to_au_feed  19437 non-null  float64\n",
      " 32  rougher.calculation.au_pb_ratio                     19439 non-null  float64\n",
      " 33  rougher.input.feed_ag                               19439 non-null  float64\n",
      " 34  rougher.input.feed_pb                               19339 non-null  float64\n",
      " 35  rougher.input.feed_rate                             19428 non-null  float64\n",
      " 36  rougher.input.feed_size                             19294 non-null  float64\n",
      " 37  rougher.input.feed_sol                              19340 non-null  float64\n",
      " 38  rougher.input.feed_au                               19439 non-null  float64\n",
      " 39  rougher.input.floatbank10_sulfate                   19405 non-null  float64\n",
      " 40  rougher.input.floatbank10_xanthate                  19431 non-null  float64\n",
      " 41  rougher.input.floatbank11_sulfate                   19395 non-null  float64\n",
      " 42  rougher.input.floatbank11_xanthate                  18986 non-null  float64\n",
      " 43  rougher.output.concentrate_ag                       19439 non-null  float64\n",
      " 44  rougher.output.concentrate_pb                       19439 non-null  float64\n",
      " 45  rougher.output.concentrate_sol                      19416 non-null  float64\n",
      " 46  rougher.output.concentrate_au                       19439 non-null  float64\n",
      " 47  rougher.output.recovery                             19439 non-null  float64\n",
      " 48  rougher.output.tail_ag                              19438 non-null  float64\n",
      " 49  rougher.output.tail_pb                              19439 non-null  float64\n",
      " 50  rougher.output.tail_sol                             19439 non-null  float64\n",
      " 51  rougher.output.tail_au                              19439 non-null  float64\n",
      " 52  rougher.state.floatbank10_a_air                     19438 non-null  float64\n",
      " 53  rougher.state.floatbank10_a_level                   19438 non-null  float64\n",
      " 54  rougher.state.floatbank10_b_air                     19438 non-null  float64\n",
      " 55  rougher.state.floatbank10_b_level                   19438 non-null  float64\n",
      " 56  rougher.state.floatbank10_c_air                     19438 non-null  float64\n",
      " 57  rougher.state.floatbank10_c_level                   19438 non-null  float64\n",
      " 58  rougher.state.floatbank10_d_air                     19439 non-null  float64\n",
      " 59  rougher.state.floatbank10_d_level                   19439 non-null  float64\n",
      " 60  rougher.state.floatbank10_e_air                     19003 non-null  float64\n",
      " 61  rougher.state.floatbank10_e_level                   19439 non-null  float64\n",
      " 62  rougher.state.floatbank10_f_air                     19439 non-null  float64\n",
      " 63  rougher.state.floatbank10_f_level                   19439 non-null  float64\n",
      " 64  secondary_cleaner.output.tail_ag                    19437 non-null  float64\n",
      " 65  secondary_cleaner.output.tail_pb                    19427 non-null  float64\n",
      " 66  secondary_cleaner.output.tail_sol                   17691 non-null  float64\n",
      " 67  secondary_cleaner.output.tail_au                    19439 non-null  float64\n",
      " 68  secondary_cleaner.state.floatbank2_a_air            19219 non-null  float64\n",
      " 69  secondary_cleaner.state.floatbank2_a_level          19438 non-null  float64\n",
      " 70  secondary_cleaner.state.floatbank2_b_air            19416 non-null  float64\n",
      " 71  secondary_cleaner.state.floatbank2_b_level          19438 non-null  float64\n",
      " 72  secondary_cleaner.state.floatbank3_a_air            19426 non-null  float64\n",
      " 73  secondary_cleaner.state.floatbank3_a_level          19438 non-null  float64\n",
      " 74  secondary_cleaner.state.floatbank3_b_air            19438 non-null  float64\n",
      " 75  secondary_cleaner.state.floatbank3_b_level          19438 non-null  float64\n",
      " 76  secondary_cleaner.state.floatbank4_a_air            19433 non-null  float64\n",
      " 77  secondary_cleaner.state.floatbank4_a_level          19438 non-null  float64\n",
      " 78  secondary_cleaner.state.floatbank4_b_air            19438 non-null  float64\n",
      " 79  secondary_cleaner.state.floatbank4_b_level          19438 non-null  float64\n",
      " 80  secondary_cleaner.state.floatbank5_a_air            19438 non-null  float64\n",
      " 81  secondary_cleaner.state.floatbank5_a_level          19438 non-null  float64\n",
      " 82  secondary_cleaner.state.floatbank5_b_air            19438 non-null  float64\n",
      " 83  secondary_cleaner.state.floatbank5_b_level          19438 non-null  float64\n",
      " 84  secondary_cleaner.state.floatbank6_a_air            19437 non-null  float64\n",
      " 85  secondary_cleaner.state.floatbank6_a_level          19438 non-null  float64\n",
      "dtypes: float64(86)\n",
      "memory usage: 12.9 MB\n"
     ]
    }
   ],
   "source": [
    "data_full = pd.read_csv('/datasets/gold_recovery_full_new.csv', index_col=0, parse_dates=True)\n",
    "data_full.info()"
   ]
  },
  {
   "cell_type": "code",
   "execution_count": 4,
   "metadata": {
    "scrolled": true
   },
   "outputs": [
    {
     "name": "stdout",
     "output_type": "stream",
     "text": [
      "<class 'pandas.core.frame.DataFrame'>\n",
      "DatetimeIndex: 14149 entries, 2016-01-15 00:00:00 to 2018-08-18 10:59:59\n",
      "Data columns (total 86 columns):\n",
      " #   Column                                              Non-Null Count  Dtype  \n",
      "---  ------                                              --------------  -----  \n",
      " 0   final.output.concentrate_ag                         14148 non-null  float64\n",
      " 1   final.output.concentrate_pb                         14148 non-null  float64\n",
      " 2   final.output.concentrate_sol                        13938 non-null  float64\n",
      " 3   final.output.concentrate_au                         14149 non-null  float64\n",
      " 4   final.output.recovery                               14149 non-null  float64\n",
      " 5   final.output.tail_ag                                14149 non-null  float64\n",
      " 6   final.output.tail_pb                                14049 non-null  float64\n",
      " 7   final.output.tail_sol                               14144 non-null  float64\n",
      " 8   final.output.tail_au                                14149 non-null  float64\n",
      " 9   primary_cleaner.input.sulfate                       14129 non-null  float64\n",
      " 10  primary_cleaner.input.depressant                    14117 non-null  float64\n",
      " 11  primary_cleaner.input.feed_size                     14149 non-null  float64\n",
      " 12  primary_cleaner.input.xanthate                      14049 non-null  float64\n",
      " 13  primary_cleaner.output.concentrate_ag               14149 non-null  float64\n",
      " 14  primary_cleaner.output.concentrate_pb               14063 non-null  float64\n",
      " 15  primary_cleaner.output.concentrate_sol              13863 non-null  float64\n",
      " 16  primary_cleaner.output.concentrate_au               14149 non-null  float64\n",
      " 17  primary_cleaner.output.tail_ag                      14148 non-null  float64\n",
      " 18  primary_cleaner.output.tail_pb                      14134 non-null  float64\n",
      " 19  primary_cleaner.output.tail_sol                     14103 non-null  float64\n",
      " 20  primary_cleaner.output.tail_au                      14149 non-null  float64\n",
      " 21  primary_cleaner.state.floatbank8_a_air              14145 non-null  float64\n",
      " 22  primary_cleaner.state.floatbank8_a_level            14148 non-null  float64\n",
      " 23  primary_cleaner.state.floatbank8_b_air              14145 non-null  float64\n",
      " 24  primary_cleaner.state.floatbank8_b_level            14148 non-null  float64\n",
      " 25  primary_cleaner.state.floatbank8_c_air              14147 non-null  float64\n",
      " 26  primary_cleaner.state.floatbank8_c_level            14148 non-null  float64\n",
      " 27  primary_cleaner.state.floatbank8_d_air              14146 non-null  float64\n",
      " 28  primary_cleaner.state.floatbank8_d_level            14148 non-null  float64\n",
      " 29  rougher.calculation.sulfate_to_au_concentrate       14148 non-null  float64\n",
      " 30  rougher.calculation.floatbank10_sulfate_to_au_feed  14148 non-null  float64\n",
      " 31  rougher.calculation.floatbank11_sulfate_to_au_feed  14148 non-null  float64\n",
      " 32  rougher.calculation.au_pb_ratio                     14149 non-null  float64\n",
      " 33  rougher.input.feed_ag                               14149 non-null  float64\n",
      " 34  rougher.input.feed_pb                               14049 non-null  float64\n",
      " 35  rougher.input.feed_rate                             14141 non-null  float64\n",
      " 36  rougher.input.feed_size                             14005 non-null  float64\n",
      " 37  rougher.input.feed_sol                              14071 non-null  float64\n",
      " 38  rougher.input.feed_au                               14149 non-null  float64\n",
      " 39  rougher.input.floatbank10_sulfate                   14120 non-null  float64\n",
      " 40  rougher.input.floatbank10_xanthate                  14141 non-null  float64\n",
      " 41  rougher.input.floatbank11_sulfate                   14113 non-null  float64\n",
      " 42  rougher.input.floatbank11_xanthate                  13721 non-null  float64\n",
      " 43  rougher.output.concentrate_ag                       14149 non-null  float64\n",
      " 44  rougher.output.concentrate_pb                       14149 non-null  float64\n",
      " 45  rougher.output.concentrate_sol                      14127 non-null  float64\n",
      " 46  rougher.output.concentrate_au                       14149 non-null  float64\n",
      " 47  rougher.output.recovery                             14149 non-null  float64\n",
      " 48  rougher.output.tail_ag                              14148 non-null  float64\n",
      " 49  rougher.output.tail_pb                              14149 non-null  float64\n",
      " 50  rougher.output.tail_sol                             14149 non-null  float64\n",
      " 51  rougher.output.tail_au                              14149 non-null  float64\n",
      " 52  rougher.state.floatbank10_a_air                     14148 non-null  float64\n",
      " 53  rougher.state.floatbank10_a_level                   14148 non-null  float64\n",
      " 54  rougher.state.floatbank10_b_air                     14148 non-null  float64\n",
      " 55  rougher.state.floatbank10_b_level                   14148 non-null  float64\n",
      " 56  rougher.state.floatbank10_c_air                     14148 non-null  float64\n",
      " 57  rougher.state.floatbank10_c_level                   14148 non-null  float64\n",
      " 58  rougher.state.floatbank10_d_air                     14149 non-null  float64\n",
      " 59  rougher.state.floatbank10_d_level                   14149 non-null  float64\n",
      " 60  rougher.state.floatbank10_e_air                     13713 non-null  float64\n",
      " 61  rougher.state.floatbank10_e_level                   14149 non-null  float64\n",
      " 62  rougher.state.floatbank10_f_air                     14149 non-null  float64\n",
      " 63  rougher.state.floatbank10_f_level                   14149 non-null  float64\n",
      " 64  secondary_cleaner.output.tail_ag                    14147 non-null  float64\n",
      " 65  secondary_cleaner.output.tail_pb                    14139 non-null  float64\n",
      " 66  secondary_cleaner.output.tail_sol                   12544 non-null  float64\n",
      " 67  secondary_cleaner.output.tail_au                    14149 non-null  float64\n",
      " 68  secondary_cleaner.state.floatbank2_a_air            13932 non-null  float64\n",
      " 69  secondary_cleaner.state.floatbank2_a_level          14148 non-null  float64\n",
      " 70  secondary_cleaner.state.floatbank2_b_air            14128 non-null  float64\n",
      " 71  secondary_cleaner.state.floatbank2_b_level          14148 non-null  float64\n",
      " 72  secondary_cleaner.state.floatbank3_a_air            14145 non-null  float64\n",
      " 73  secondary_cleaner.state.floatbank3_a_level          14148 non-null  float64\n",
      " 74  secondary_cleaner.state.floatbank3_b_air            14148 non-null  float64\n",
      " 75  secondary_cleaner.state.floatbank3_b_level          14148 non-null  float64\n",
      " 76  secondary_cleaner.state.floatbank4_a_air            14143 non-null  float64\n",
      " 77  secondary_cleaner.state.floatbank4_a_level          14148 non-null  float64\n",
      " 78  secondary_cleaner.state.floatbank4_b_air            14148 non-null  float64\n",
      " 79  secondary_cleaner.state.floatbank4_b_level          14148 non-null  float64\n",
      " 80  secondary_cleaner.state.floatbank5_a_air            14148 non-null  float64\n",
      " 81  secondary_cleaner.state.floatbank5_a_level          14148 non-null  float64\n",
      " 82  secondary_cleaner.state.floatbank5_b_air            14148 non-null  float64\n",
      " 83  secondary_cleaner.state.floatbank5_b_level          14148 non-null  float64\n",
      " 84  secondary_cleaner.state.floatbank6_a_air            14147 non-null  float64\n",
      " 85  secondary_cleaner.state.floatbank6_a_level          14148 non-null  float64\n",
      "dtypes: float64(86)\n",
      "memory usage: 9.4 MB\n"
     ]
    }
   ],
   "source": [
    "data_train = pd.read_csv('/datasets/gold_recovery_train_new.csv', index_col=0, parse_dates=True)\n",
    "data_train.info()"
   ]
  },
  {
   "cell_type": "code",
   "execution_count": 5,
   "metadata": {
    "scrolled": true
   },
   "outputs": [
    {
     "name": "stdout",
     "output_type": "stream",
     "text": [
      "<class 'pandas.core.frame.DataFrame'>\n",
      "DatetimeIndex: 5290 entries, 2016-09-01 00:59:59 to 2017-12-31 23:59:59\n",
      "Data columns (total 52 columns):\n",
      " #   Column                                      Non-Null Count  Dtype  \n",
      "---  ------                                      --------------  -----  \n",
      " 0   primary_cleaner.input.sulfate               5286 non-null   float64\n",
      " 1   primary_cleaner.input.depressant            5285 non-null   float64\n",
      " 2   primary_cleaner.input.feed_size             5290 non-null   float64\n",
      " 3   primary_cleaner.input.xanthate              5286 non-null   float64\n",
      " 4   primary_cleaner.state.floatbank8_a_air      5290 non-null   float64\n",
      " 5   primary_cleaner.state.floatbank8_a_level    5290 non-null   float64\n",
      " 6   primary_cleaner.state.floatbank8_b_air      5290 non-null   float64\n",
      " 7   primary_cleaner.state.floatbank8_b_level    5290 non-null   float64\n",
      " 8   primary_cleaner.state.floatbank8_c_air      5290 non-null   float64\n",
      " 9   primary_cleaner.state.floatbank8_c_level    5290 non-null   float64\n",
      " 10  primary_cleaner.state.floatbank8_d_air      5290 non-null   float64\n",
      " 11  primary_cleaner.state.floatbank8_d_level    5290 non-null   float64\n",
      " 12  rougher.input.feed_ag                       5290 non-null   float64\n",
      " 13  rougher.input.feed_pb                       5290 non-null   float64\n",
      " 14  rougher.input.feed_rate                     5287 non-null   float64\n",
      " 15  rougher.input.feed_size                     5289 non-null   float64\n",
      " 16  rougher.input.feed_sol                      5269 non-null   float64\n",
      " 17  rougher.input.feed_au                       5290 non-null   float64\n",
      " 18  rougher.input.floatbank10_sulfate           5285 non-null   float64\n",
      " 19  rougher.input.floatbank10_xanthate          5290 non-null   float64\n",
      " 20  rougher.input.floatbank11_sulfate           5282 non-null   float64\n",
      " 21  rougher.input.floatbank11_xanthate          5265 non-null   float64\n",
      " 22  rougher.state.floatbank10_a_air             5290 non-null   float64\n",
      " 23  rougher.state.floatbank10_a_level           5290 non-null   float64\n",
      " 24  rougher.state.floatbank10_b_air             5290 non-null   float64\n",
      " 25  rougher.state.floatbank10_b_level           5290 non-null   float64\n",
      " 26  rougher.state.floatbank10_c_air             5290 non-null   float64\n",
      " 27  rougher.state.floatbank10_c_level           5290 non-null   float64\n",
      " 28  rougher.state.floatbank10_d_air             5290 non-null   float64\n",
      " 29  rougher.state.floatbank10_d_level           5290 non-null   float64\n",
      " 30  rougher.state.floatbank10_e_air             5290 non-null   float64\n",
      " 31  rougher.state.floatbank10_e_level           5290 non-null   float64\n",
      " 32  rougher.state.floatbank10_f_air             5290 non-null   float64\n",
      " 33  rougher.state.floatbank10_f_level           5290 non-null   float64\n",
      " 34  secondary_cleaner.state.floatbank2_a_air    5287 non-null   float64\n",
      " 35  secondary_cleaner.state.floatbank2_a_level  5290 non-null   float64\n",
      " 36  secondary_cleaner.state.floatbank2_b_air    5288 non-null   float64\n",
      " 37  secondary_cleaner.state.floatbank2_b_level  5290 non-null   float64\n",
      " 38  secondary_cleaner.state.floatbank3_a_air    5281 non-null   float64\n",
      " 39  secondary_cleaner.state.floatbank3_a_level  5290 non-null   float64\n",
      " 40  secondary_cleaner.state.floatbank3_b_air    5290 non-null   float64\n",
      " 41  secondary_cleaner.state.floatbank3_b_level  5290 non-null   float64\n",
      " 42  secondary_cleaner.state.floatbank4_a_air    5290 non-null   float64\n",
      " 43  secondary_cleaner.state.floatbank4_a_level  5290 non-null   float64\n",
      " 44  secondary_cleaner.state.floatbank4_b_air    5290 non-null   float64\n",
      " 45  secondary_cleaner.state.floatbank4_b_level  5290 non-null   float64\n",
      " 46  secondary_cleaner.state.floatbank5_a_air    5290 non-null   float64\n",
      " 47  secondary_cleaner.state.floatbank5_a_level  5290 non-null   float64\n",
      " 48  secondary_cleaner.state.floatbank5_b_air    5290 non-null   float64\n",
      " 49  secondary_cleaner.state.floatbank5_b_level  5290 non-null   float64\n",
      " 50  secondary_cleaner.state.floatbank6_a_air    5290 non-null   float64\n",
      " 51  secondary_cleaner.state.floatbank6_a_level  5290 non-null   float64\n",
      "dtypes: float64(52)\n",
      "memory usage: 2.1 MB\n"
     ]
    }
   ],
   "source": [
    "data_test = pd.read_csv('/datasets/gold_recovery_test_new.csv', index_col=0, parse_dates=True)\n",
    "data_test.info()"
   ]
  },
  {
   "cell_type": "markdown",
   "metadata": {},
   "source": [
    "**Вывод**\n",
    "\n",
    "В исходных данных и в обучающей выборке 87 колонок, в тестовой - 53. Их названия не соответствуют общепринятым правилам стиля, но, я думаю, что в данном случае это оправдано, т.к. \".\" служит разделителем отдельных составляющих - этап, тип параметра, название параметра."
   ]
  },
  {
   "cell_type": "markdown",
   "metadata": {},
   "source": [
    "### Проверка расчета эффективности обогащения"
   ]
  },
  {
   "cell_type": "code",
   "execution_count": 6,
   "metadata": {
    "scrolled": true
   },
   "outputs": [
    {
     "data": {
      "text/plain": [
       "9.73512347450521e-15"
      ]
     },
     "execution_count": 6,
     "metadata": {},
     "output_type": "execute_result"
    }
   ],
   "source": [
    "c = data_train['rougher.output.concentrate_au']\n",
    "f = data_train['rougher.input.feed_au']\n",
    "t = data_train['rougher.output.tail_au']\n",
    "\n",
    "rougher_output_recovery_calculated = c*(f-t) / (f*(c-t))*100\n",
    "mean_absolute_error(data_train['rougher.output.recovery'], rougher_output_recovery_calculated)"
   ]
  },
  {
   "cell_type": "markdown",
   "metadata": {},
   "source": [
    "**Вывод**\n",
    "\n",
    "Среднее абсолютное отклонение (MAE) фактических данных относительно расчетных очень мало, значит, данные корректны."
   ]
  },
  {
   "cell_type": "markdown",
   "metadata": {},
   "source": [
    "### Признаки, отсутствующие в тестовой выборке"
   ]
  },
  {
   "cell_type": "code",
   "execution_count": 7,
   "metadata": {
    "scrolled": true
   },
   "outputs": [
    {
     "name": "stdout",
     "output_type": "stream",
     "text": [
      "<class 'pandas.core.frame.DataFrame'>\n",
      "DatetimeIndex: 14149 entries, 2016-01-15 00:00:00 to 2018-08-18 10:59:59\n",
      "Data columns (total 34 columns):\n",
      " #   Column                                              Non-Null Count  Dtype  \n",
      "---  ------                                              --------------  -----  \n",
      " 0   final.output.concentrate_ag                         14148 non-null  float64\n",
      " 1   final.output.concentrate_pb                         14148 non-null  float64\n",
      " 2   final.output.concentrate_sol                        13938 non-null  float64\n",
      " 3   final.output.concentrate_au                         14149 non-null  float64\n",
      " 4   final.output.recovery                               14149 non-null  float64\n",
      " 5   final.output.tail_ag                                14149 non-null  float64\n",
      " 6   final.output.tail_pb                                14049 non-null  float64\n",
      " 7   final.output.tail_sol                               14144 non-null  float64\n",
      " 8   final.output.tail_au                                14149 non-null  float64\n",
      " 9   primary_cleaner.output.concentrate_ag               14149 non-null  float64\n",
      " 10  primary_cleaner.output.concentrate_pb               14063 non-null  float64\n",
      " 11  primary_cleaner.output.concentrate_sol              13863 non-null  float64\n",
      " 12  primary_cleaner.output.concentrate_au               14149 non-null  float64\n",
      " 13  primary_cleaner.output.tail_ag                      14148 non-null  float64\n",
      " 14  primary_cleaner.output.tail_pb                      14134 non-null  float64\n",
      " 15  primary_cleaner.output.tail_sol                     14103 non-null  float64\n",
      " 16  primary_cleaner.output.tail_au                      14149 non-null  float64\n",
      " 17  rougher.calculation.sulfate_to_au_concentrate       14148 non-null  float64\n",
      " 18  rougher.calculation.floatbank10_sulfate_to_au_feed  14148 non-null  float64\n",
      " 19  rougher.calculation.floatbank11_sulfate_to_au_feed  14148 non-null  float64\n",
      " 20  rougher.calculation.au_pb_ratio                     14149 non-null  float64\n",
      " 21  rougher.output.concentrate_ag                       14149 non-null  float64\n",
      " 22  rougher.output.concentrate_pb                       14149 non-null  float64\n",
      " 23  rougher.output.concentrate_sol                      14127 non-null  float64\n",
      " 24  rougher.output.concentrate_au                       14149 non-null  float64\n",
      " 25  rougher.output.recovery                             14149 non-null  float64\n",
      " 26  rougher.output.tail_ag                              14148 non-null  float64\n",
      " 27  rougher.output.tail_pb                              14149 non-null  float64\n",
      " 28  rougher.output.tail_sol                             14149 non-null  float64\n",
      " 29  rougher.output.tail_au                              14149 non-null  float64\n",
      " 30  secondary_cleaner.output.tail_ag                    14147 non-null  float64\n",
      " 31  secondary_cleaner.output.tail_pb                    14139 non-null  float64\n",
      " 32  secondary_cleaner.output.tail_sol                   12544 non-null  float64\n",
      " 33  secondary_cleaner.output.tail_au                    14149 non-null  float64\n",
      "dtypes: float64(34)\n",
      "memory usage: 3.8 MB\n"
     ]
    }
   ],
   "source": [
    "data_train.loc[:,~data_train.columns.isin(data_test.columns)].info()"
   ]
  },
  {
   "cell_type": "code",
   "execution_count": 8,
   "metadata": {},
   "outputs": [
    {
     "data": {
      "text/plain": [
       "34"
      ]
     },
     "execution_count": 8,
     "metadata": {},
     "output_type": "execute_result"
    }
   ],
   "source": [
    "len(data_train.columns[(data_train.columns.str.contains('.output.')) | (data_train.columns.str.contains('.calculation.'))])"
   ]
  },
  {
   "cell_type": "code",
   "execution_count": 9,
   "metadata": {},
   "outputs": [],
   "source": [
    "features_columns = data_test.columns\n",
    "target_column_rougher = 'rougher.output.recovery'\n",
    "final_column_rougher = 'final.output.recovery'"
   ]
  },
  {
   "cell_type": "markdown",
   "metadata": {},
   "source": [
    "**Вывод**\n",
    "\n",
    "В тестовой выборке отсутствуют 34 колонки типа `float64`:\n",
    "* все колонки, связанные с выходными параметрами продукта после очередного этапа технологического процесса - тип параметра `output`;\n",
    "* все расчетные характеристики (они есть только на этапе флотации) - тип параметра `calculation`.\n",
    "\n",
    "Это та информация, которая замеряется/рассчитывается значительно позже, поэтому ее не нужно брать в обучающую выборку на этапе обучения модели (кроме целевых признаков  - `rougher.output.recovery`, `final.output.recovery`)."
   ]
  },
  {
   "cell_type": "markdown",
   "metadata": {},
   "source": [
    "### Предобработка данных"
   ]
  },
  {
   "cell_type": "markdown",
   "metadata": {},
   "source": [
    "#### Обработка пропусков"
   ]
  },
  {
   "cell_type": "markdown",
   "metadata": {},
   "source": [
    "Отберем колонки, в которых есть пропуски.\n",
    "\n",
    "Видим, что пропусков нет в колонках с целевыми признаками `rougher.output.recovery`, `final.output.recovery`, а также в исходных данных `rougher.input.feed_au` (важно, т.к. это исходная доля золота в сырье)."
   ]
  },
  {
   "cell_type": "code",
   "execution_count": 10,
   "metadata": {
    "scrolled": false
   },
   "outputs": [
    {
     "data": {
      "text/plain": [
       "final.output.concentrate_ag                              1\n",
       "final.output.concentrate_pb                              1\n",
       "final.output.concentrate_sol                           211\n",
       "final.output.tail_ag                                     1\n",
       "final.output.tail_pb                                   101\n",
       "final.output.tail_sol                                    6\n",
       "primary_cleaner.input.sulfate                           24\n",
       "primary_cleaner.input.depressant                        37\n",
       "primary_cleaner.input.xanthate                         104\n",
       "primary_cleaner.output.concentrate_pb                  116\n",
       "primary_cleaner.output.concentrate_sol                 370\n",
       "primary_cleaner.output.tail_ag                           4\n",
       "primary_cleaner.output.tail_pb                          21\n",
       "primary_cleaner.output.tail_sol                         62\n",
       "primary_cleaner.state.floatbank8_a_air                   4\n",
       "primary_cleaner.state.floatbank8_a_level                 1\n",
       "primary_cleaner.state.floatbank8_b_air                   4\n",
       "primary_cleaner.state.floatbank8_b_level                 1\n",
       "primary_cleaner.state.floatbank8_c_air                   2\n",
       "primary_cleaner.state.floatbank8_c_level                 1\n",
       "primary_cleaner.state.floatbank8_d_air                   3\n",
       "primary_cleaner.state.floatbank8_d_level                 1\n",
       "rougher.calculation.sulfate_to_au_concentrate            2\n",
       "rougher.calculation.floatbank10_sulfate_to_au_feed       2\n",
       "rougher.calculation.floatbank11_sulfate_to_au_feed       2\n",
       "rougher.input.feed_pb                                  100\n",
       "rougher.input.feed_rate                                 11\n",
       "rougher.input.feed_size                                145\n",
       "rougher.input.feed_sol                                  99\n",
       "rougher.input.floatbank10_sulfate                       34\n",
       "rougher.input.floatbank10_xanthate                       8\n",
       "rougher.input.floatbank11_sulfate                       44\n",
       "rougher.input.floatbank11_xanthate                     453\n",
       "rougher.output.concentrate_sol                          23\n",
       "rougher.output.tail_ag                                   1\n",
       "rougher.state.floatbank10_a_air                          1\n",
       "rougher.state.floatbank10_a_level                        1\n",
       "rougher.state.floatbank10_b_air                          1\n",
       "rougher.state.floatbank10_b_level                        1\n",
       "rougher.state.floatbank10_c_air                          1\n",
       "rougher.state.floatbank10_c_level                        1\n",
       "rougher.state.floatbank10_e_air                        436\n",
       "secondary_cleaner.output.tail_ag                         2\n",
       "secondary_cleaner.output.tail_pb                        12\n",
       "secondary_cleaner.output.tail_sol                     1748\n",
       "secondary_cleaner.state.floatbank2_a_air               220\n",
       "secondary_cleaner.state.floatbank2_a_level               1\n",
       "secondary_cleaner.state.floatbank2_b_air                23\n",
       "secondary_cleaner.state.floatbank2_b_level               1\n",
       "secondary_cleaner.state.floatbank3_a_air                13\n",
       "secondary_cleaner.state.floatbank3_a_level               1\n",
       "secondary_cleaner.state.floatbank3_b_air                 1\n",
       "secondary_cleaner.state.floatbank3_b_level               1\n",
       "secondary_cleaner.state.floatbank4_a_air                 6\n",
       "secondary_cleaner.state.floatbank4_a_level               1\n",
       "secondary_cleaner.state.floatbank4_b_air                 1\n",
       "secondary_cleaner.state.floatbank4_b_level               1\n",
       "secondary_cleaner.state.floatbank5_a_air                 1\n",
       "secondary_cleaner.state.floatbank5_a_level               1\n",
       "secondary_cleaner.state.floatbank5_b_air                 1\n",
       "secondary_cleaner.state.floatbank5_b_level               1\n",
       "secondary_cleaner.state.floatbank6_a_air                 2\n",
       "secondary_cleaner.state.floatbank6_a_level               1\n",
       "dtype: int64"
      ]
     },
     "execution_count": 10,
     "metadata": {},
     "output_type": "execute_result"
    }
   ],
   "source": [
    "data_full.isna().sum()[lambda x: x> 0]"
   ]
  },
  {
   "cell_type": "markdown",
   "metadata": {},
   "source": [
    "Уберем из рассмотрения колонки, которых нет в тестовой выборке - т.е. рассчитываемые позже - они не будут использоваться при обучении модели, а пропуски вероятно говорят о том, что они еще не были рассчитаны для отдельных объектов выборки."
   ]
  },
  {
   "cell_type": "code",
   "execution_count": 11,
   "metadata": {
    "scrolled": false
   },
   "outputs": [
    {
     "data": {
      "text/plain": [
       "primary_cleaner.input.sulfate                  24\n",
       "primary_cleaner.input.depressant               37\n",
       "primary_cleaner.input.xanthate                104\n",
       "primary_cleaner.state.floatbank8_a_air          4\n",
       "primary_cleaner.state.floatbank8_a_level        1\n",
       "primary_cleaner.state.floatbank8_b_air          4\n",
       "primary_cleaner.state.floatbank8_b_level        1\n",
       "primary_cleaner.state.floatbank8_c_air          2\n",
       "primary_cleaner.state.floatbank8_c_level        1\n",
       "primary_cleaner.state.floatbank8_d_air          3\n",
       "primary_cleaner.state.floatbank8_d_level        1\n",
       "rougher.input.feed_pb                         100\n",
       "rougher.input.feed_rate                        11\n",
       "rougher.input.feed_size                       145\n",
       "rougher.input.feed_sol                         99\n",
       "rougher.input.floatbank10_sulfate              34\n",
       "rougher.input.floatbank10_xanthate              8\n",
       "rougher.input.floatbank11_sulfate              44\n",
       "rougher.input.floatbank11_xanthate            453\n",
       "rougher.state.floatbank10_a_air                 1\n",
       "rougher.state.floatbank10_a_level               1\n",
       "rougher.state.floatbank10_b_air                 1\n",
       "rougher.state.floatbank10_b_level               1\n",
       "rougher.state.floatbank10_c_air                 1\n",
       "rougher.state.floatbank10_c_level               1\n",
       "rougher.state.floatbank10_e_air               436\n",
       "secondary_cleaner.state.floatbank2_a_air      220\n",
       "secondary_cleaner.state.floatbank2_a_level      1\n",
       "secondary_cleaner.state.floatbank2_b_air       23\n",
       "secondary_cleaner.state.floatbank2_b_level      1\n",
       "secondary_cleaner.state.floatbank3_a_air       13\n",
       "secondary_cleaner.state.floatbank3_a_level      1\n",
       "secondary_cleaner.state.floatbank3_b_air        1\n",
       "secondary_cleaner.state.floatbank3_b_level      1\n",
       "secondary_cleaner.state.floatbank4_a_air        6\n",
       "secondary_cleaner.state.floatbank4_a_level      1\n",
       "secondary_cleaner.state.floatbank4_b_air        1\n",
       "secondary_cleaner.state.floatbank4_b_level      1\n",
       "secondary_cleaner.state.floatbank5_a_air        1\n",
       "secondary_cleaner.state.floatbank5_a_level      1\n",
       "secondary_cleaner.state.floatbank5_b_air        1\n",
       "secondary_cleaner.state.floatbank5_b_level      1\n",
       "secondary_cleaner.state.floatbank6_a_air        2\n",
       "secondary_cleaner.state.floatbank6_a_level      1\n",
       "dtype: int64"
      ]
     },
     "execution_count": 11,
     "metadata": {},
     "output_type": "execute_result"
    }
   ],
   "source": [
    "null_columns = data_full.loc[:, features_columns].isna().sum()[lambda x: x> 0]\n",
    "null_columns"
   ]
  },
  {
   "cell_type": "code",
   "execution_count": 12,
   "metadata": {},
   "outputs": [],
   "source": [
    "null_columns = null_columns.index"
   ]
  },
  {
   "cell_type": "markdown",
   "metadata": {},
   "source": [
    "В описании проекта сказано, что соседние по  времени параметры часто похожи. Поэтому пропуски в этих колонках заполняю средним между значением в предыдущей и следующей строке - для обучающей и тестовой выборки. Для исходной выборки тоже заполним - по факту значения будут отличаться от остальных выборок, но они не будут нигде использоваться."
   ]
  },
  {
   "cell_type": "code",
   "execution_count": 13,
   "metadata": {
    "scrolled": false
   },
   "outputs": [],
   "source": [
    "datasets = [data_full, data_train, data_test]\n",
    "\n",
    "for dataset in datasets:\n",
    "    dataset[null_columns] = (dataset[null_columns].fillna(method='ffill') + dataset[null_columns].fillna(method='bfill'))/2"
   ]
  },
  {
   "cell_type": "code",
   "execution_count": 14,
   "metadata": {
    "scrolled": true
   },
   "outputs": [
    {
     "data": {
      "text/plain": [
       "final.output.concentrate_ag                              1\n",
       "final.output.concentrate_pb                              1\n",
       "final.output.concentrate_sol                           211\n",
       "final.output.tail_pb                                   100\n",
       "final.output.tail_sol                                    5\n",
       "primary_cleaner.output.concentrate_pb                   86\n",
       "primary_cleaner.output.concentrate_sol                 286\n",
       "primary_cleaner.output.tail_ag                           1\n",
       "primary_cleaner.output.tail_pb                          15\n",
       "primary_cleaner.output.tail_sol                         46\n",
       "rougher.calculation.sulfate_to_au_concentrate            1\n",
       "rougher.calculation.floatbank10_sulfate_to_au_feed       1\n",
       "rougher.calculation.floatbank11_sulfate_to_au_feed       1\n",
       "rougher.output.concentrate_sol                          22\n",
       "rougher.output.tail_ag                                   1\n",
       "secondary_cleaner.output.tail_ag                         2\n",
       "secondary_cleaner.output.tail_pb                        10\n",
       "secondary_cleaner.output.tail_sol                     1605\n",
       "dtype: int64"
      ]
     },
     "execution_count": 14,
     "metadata": {},
     "output_type": "execute_result"
    }
   ],
   "source": [
    "data_train.isna().sum()[lambda x: x> 0]"
   ]
  },
  {
   "cell_type": "code",
   "execution_count": 15,
   "metadata": {},
   "outputs": [
    {
     "data": {
      "text/plain": [
       "Series([], dtype: int64)"
      ]
     },
     "execution_count": 15,
     "metadata": {},
     "output_type": "execute_result"
    }
   ],
   "source": [
    "data_test.isna().sum()[lambda x: x> 0]"
   ]
  },
  {
   "cell_type": "markdown",
   "metadata": {},
   "source": [
    "Для исходной выборки по тому же принципу заполним пропуски в остальных колонках (которых нет в тестовой выборке) - для определения аномалий при иследовательском анализе."
   ]
  },
  {
   "cell_type": "code",
   "execution_count": 16,
   "metadata": {},
   "outputs": [
    {
     "data": {
      "text/plain": [
       "Series([], dtype: int64)"
      ]
     },
     "execution_count": 16,
     "metadata": {},
     "output_type": "execute_result"
    }
   ],
   "source": [
    "data_full = (data_full.fillna(method='ffill') + data_full.fillna(method='bfill'))/2\n",
    "data_full.isna().sum()[lambda x: x> 0]"
   ]
  },
  {
   "cell_type": "markdown",
   "metadata": {},
   "source": [
    "**Вывод**\n",
    "\n",
    "По итогам обработки пропусков:\n",
    "* пропуски в колонках, которых нет в тестовой выборке, в обучающей выборке оставлены без изменений - это данные, рассчитываемые позже - они не будут использоваться при обучении модели, а пропуски вероятно говорят о том, что они еще не были рассчитаны для отдельных объектов выборки;\n",
    "* в исходной выборке они заполнены средним между значением в предыдущей и следующей строке - для проведения исследовательского анализа;\n",
    "* пропуски в остальных колонках заполнила также средним между значением в предыдущей и следующей строке - во всех выборках.\n",
    "\n",
    "Необходимости в какой-либо еще предобработке кроме пропусков не вижу."
   ]
  },
  {
   "cell_type": "markdown",
   "metadata": {},
   "source": [
    "## Анализ данных"
   ]
  },
  {
   "cell_type": "markdown",
   "metadata": {},
   "source": [
    "### Концентрация металлов на различных этапах очистки"
   ]
  },
  {
   "cell_type": "markdown",
   "metadata": {},
   "source": [
    "Построим таблицу структуры, более удобной для анализа."
   ]
  },
  {
   "cell_type": "code",
   "execution_count": 17,
   "metadata": {},
   "outputs": [],
   "source": [
    "stage_columns = ['rougher.input.feed_', 'rougher.output.concentrate_', 'primary_cleaner.output.concentrate_', \\\n",
    "           'final.output.concentrate_']\n",
    "stages = ['1.feed', '2.rougher', '3.primary', '4.final']"
   ]
  },
  {
   "cell_type": "code",
   "execution_count": 18,
   "metadata": {},
   "outputs": [],
   "source": [
    "metal_columns = ['au', 'ag', 'pb', 'sol']"
   ]
  },
  {
   "cell_type": "code",
   "execution_count": 19,
   "metadata": {
    "scrolled": true
   },
   "outputs": [
    {
     "name": "stdout",
     "output_type": "stream",
     "text": [
      "<class 'pandas.core.frame.DataFrame'>\n",
      "RangeIndex: 77756 entries, 0 to 77755\n",
      "Data columns (total 6 columns):\n",
      " #   Column  Non-Null Count  Dtype         \n",
      "---  ------  --------------  -----         \n",
      " 0   au      77756 non-null  float64       \n",
      " 1   date    77756 non-null  datetime64[ns]\n",
      " 2   ag      77756 non-null  float64       \n",
      " 3   pb      77756 non-null  float64       \n",
      " 4   sol     77756 non-null  float64       \n",
      " 5   stage   77756 non-null  object        \n",
      "dtypes: datetime64[ns](1), float64(4), object(1)\n",
      "memory usage: 3.6+ MB\n"
     ]
    }
   ],
   "source": [
    "data_full_analisys = pd.DataFrame(data = [], columns = [])\n",
    "\n",
    "i = 0\n",
    "for stage in stages:\n",
    "    data_stage = pd.DataFrame(data = [], columns = [])\n",
    "    for metal in metal_columns:\n",
    "        data_stage[metal] = data_full[stage_columns[i]+metal]\n",
    "        data_stage['date'] = data_full.index\n",
    "    data_stage['stage'] = pd.Series(stage, data_stage.index) \n",
    "    data_full_analisys = pd.concat([data_full_analisys, data_stage])\n",
    "    i += 1\n",
    "data_full_analisys.reset_index(drop=True, inplace=True)    \n",
    "data_full_analisys.info()    "
   ]
  },
  {
   "cell_type": "code",
   "execution_count": 20,
   "metadata": {
    "scrolled": false
   },
   "outputs": [
    {
     "data": {
      "image/png": "[encoded data removed]",
      "text/plain": [
       "<Figure size 1152x360 with 4 Axes>"
      ]
     },
     "metadata": {
      "needs_background": "light"
     },
     "output_type": "display_data"
    }
   ],
   "source": [
    "fig, axis = plt.subplots(1,4, figsize=(16, 5))\n",
    "fig.suptitle('Изменение средней концентрации вещества на каждом этапе очистки')\n",
    "\n",
    "i = 0\n",
    "for metal in metal_columns:\n",
    "    g = sns.barplot(data = data_full_analisys.pivot_table(index = 'stage', values=metal, aggfunc = 'mean').reset_index(), \\\n",
    "                    x='stage', y=metal, ax=axis[i])\n",
    "    g.set(ylim=(0,50))\n",
    "    g.set_title(metal)\n",
    "    i += 1"
   ]
  },
  {
   "cell_type": "code",
   "execution_count": 21,
   "metadata": {
    "scrolled": false
   },
   "outputs": [
    {
     "data": {
      "image/png": "[encoded data removed]",
      "text/plain": [
       "<Figure size 1152x360 with 2 Axes>"
      ]
     },
     "metadata": {
      "needs_background": "light"
     },
     "output_type": "display_data"
    },
    {
     "data": {
      "image/png": "[encoded data removed]",
      "text/plain": [
       "<Figure size 1152x360 with 2 Axes>"
      ]
     },
     "metadata": {
      "needs_background": "light"
     },
     "output_type": "display_data"
    },
    {
     "data": {
      "image/png": "[encoded data removed]",
      "text/plain": [
       "<Figure size 1152x360 with 2 Axes>"
      ]
     },
     "metadata": {
      "needs_background": "light"
     },
     "output_type": "display_data"
    },
    {
     "data": {
      "image/png": "[encoded data removed]",
      "text/plain": [
       "<Figure size 1152x360 with 2 Axes>"
      ]
     },
     "metadata": {
      "needs_background": "light"
     },
     "output_type": "display_data"
    }
   ],
   "source": [
    "for metal in metal_columns:\n",
    "    fig, axis = plt.subplots(1,2, figsize=(16, 5))\n",
    "    fig.suptitle(f'Распределение концентрации {metal} на каждом этапе очистки')\n",
    "\n",
    "    sns.histplot(data = data_full_analisys,  x=metal, hue='stage', ax=axis[0], fill=False, element=\"step\");\n",
    "    sns.boxplot(data=data_full_analisys, x=metal, y='stage', ax=axis[1]);"
   ]
  },
  {
   "cell_type": "code",
   "execution_count": 22,
   "metadata": {},
   "outputs": [
    {
     "data": {
      "text/plain": [
       "(0, 86)"
      ]
     },
     "execution_count": 22,
     "metadata": {},
     "output_type": "execute_result"
    }
   ],
   "source": [
    "data_full.loc[data_full['rougher.input.feed_au']==0].shape"
   ]
  },
  {
   "cell_type": "code",
   "execution_count": 23,
   "metadata": {},
   "outputs": [
    {
     "data": {
      "text/plain": [
       "(493, 86)"
      ]
     },
     "execution_count": 23,
     "metadata": {},
     "output_type": "execute_result"
    }
   ],
   "source": [
    "data_full.loc[((data_full['rougher.output.concentrate_au']==0) | (data_full['primary_cleaner.output.concentrate_au']==0)) \\\n",
    "              & (data_full['final.output.concentrate_au']!=0)].shape"
   ]
  },
  {
   "cell_type": "code",
   "execution_count": 24,
   "metadata": {},
   "outputs": [
    {
     "data": {
      "text/plain": [
       "(98, 86)"
      ]
     },
     "execution_count": 24,
     "metadata": {},
     "output_type": "execute_result"
    }
   ],
   "source": [
    "data_full.loc[data_full['final.output.concentrate_au']==0].shape"
   ]
  },
  {
   "cell_type": "markdown",
   "metadata": {},
   "source": [
    "**Вывод**\n",
    "\n",
    "По графикам видимо, что концентрация золота с каждым этапом растет, свинца в целом тоже, а серебра и примесей - падает.\n",
    "\n",
    "Привлекает внимание то, что есть объекты, в которых начальная доля вещества в исходном сырье составляет 0. И если для серебра, свинца, сплава это может быть нормально, то для золота такая информация не интересна в рамках исследования. \n",
    "\n",
    "В итоге проверка показала, что для золота таких строк нет. Но есть строки, в которых после флотации и и первого этапа концентрация золота равна 0, но после второго этапа - уже не равна 0.\n",
    "\n",
    "Также есть строки, в которых после финальной обработки нулевая доля золота."
   ]
  },
  {
   "cell_type": "markdown",
   "metadata": {},
   "source": [
    "### Распределение размеров гранул сырья на обучающей и тестовой выборках"
   ]
  },
  {
   "cell_type": "code",
   "execution_count": 40,
   "metadata": {
    "scrolled": false
   },
   "outputs": [
    {
     "data": {
      "image/png": "[encoded data removed]",
      "text/plain": [
       "<Figure size 1152x360 with 2 Axes>"
      ]
     },
     "metadata": {
      "needs_background": "light"
     },
     "output_type": "display_data"
    },
    {
     "data": {
      "image/png": "[encoded data removed]",
      "text/plain": [
       "<Figure size 1152x360 with 2 Axes>"
      ]
     },
     "metadata": {
      "needs_background": "light"
     },
     "output_type": "display_data"
    }
   ],
   "source": [
    "feed_size_columns = ['rougher.input.feed_size', 'primary_cleaner.input.feed_size']\n",
    "\n",
    "for column in feed_size_columns:\n",
    "    fig, axis = plt.subplots(1,2, figsize=(16, 5))\n",
    "    fig.suptitle(f'Распределение размеров гранул сырья {column} на обучающей и тестовой выборках')\n",
    "\n",
    "    sns.histplot(data = data_train,  x = column, ax=axis[0], fill=False, element=\"step\", label = 'train', legend = True, stat=\"density\");\n",
    "    sns.histplot(data = data_test,  x = column, ax=axis[0], fill=False, element=\"step\", label = 'test', legend = True, stat=\"density\");\n",
    "    \n",
    "    axis[0].legend(loc='upper right', labels=['train','test'])\n",
    "    \n",
    "    sns.boxplot(data=data_train, x=column, y = pd.Series('train', data_train.index), ax=axis[1])\n",
    "    sns.boxplot(data=data_test, x=column, y = pd.Series('test', data_test.index), ax=axis[1], order = ['train', 'test']);  "
   ]
  },
  {
   "cell_type": "markdown",
   "metadata": {},
   "source": [
    "**Вывод**\n",
    "\n",
    "Распределения размеров гранул сырья на обучающей и тестовой выборках не сильно отличаются друг от друга. Таким образом, делаю вывод, что данные на выборки разбиты корректно, можно обучать на них модель."
   ]
  },
  {
   "cell_type": "markdown",
   "metadata": {},
   "source": [
    "### Суммарная концентрация всех веществ на разных стадиях"
   ]
  },
  {
   "cell_type": "code",
   "execution_count": 26,
   "metadata": {},
   "outputs": [
    {
     "data": {
      "text/html": [
       "<div>\n",
       "<style scoped>\n",
       "    .dataframe tbody tr th:only-of-type {\n",
       "        vertical-align: middle;\n",
       "    }\n",
       "\n",
       "    .dataframe tbody tr th {\n",
       "        vertical-align: top;\n",
       "    }\n",
       "\n",
       "    .dataframe thead th {\n",
       "        text-align: right;\n",
       "    }\n",
       "</style>\n",
       "<table border=\"1\" class=\"dataframe\">\n",
       "  <thead>\n",
       "    <tr style=\"text-align: right;\">\n",
       "      <th></th>\n",
       "      <th>au</th>\n",
       "      <th>date</th>\n",
       "      <th>ag</th>\n",
       "      <th>pb</th>\n",
       "      <th>sol</th>\n",
       "      <th>stage</th>\n",
       "      <th>total_concentration</th>\n",
       "    </tr>\n",
       "  </thead>\n",
       "  <tbody>\n",
       "    <tr>\n",
       "      <th>0</th>\n",
       "      <td>6.486150</td>\n",
       "      <td>2016-01-15 00:00:00</td>\n",
       "      <td>6.100378</td>\n",
       "      <td>2.284912</td>\n",
       "      <td>36.808594</td>\n",
       "      <td>1.feed</td>\n",
       "      <td>51.680034</td>\n",
       "    </tr>\n",
       "    <tr>\n",
       "      <th>1</th>\n",
       "      <td>6.478583</td>\n",
       "      <td>2016-01-15 01:00:00</td>\n",
       "      <td>6.161113</td>\n",
       "      <td>2.266033</td>\n",
       "      <td>35.753385</td>\n",
       "      <td>1.feed</td>\n",
       "      <td>50.659114</td>\n",
       "    </tr>\n",
       "    <tr>\n",
       "      <th>2</th>\n",
       "      <td>6.362222</td>\n",
       "      <td>2016-01-15 02:00:00</td>\n",
       "      <td>6.116455</td>\n",
       "      <td>2.159622</td>\n",
       "      <td>35.971630</td>\n",
       "      <td>1.feed</td>\n",
       "      <td>50.609929</td>\n",
       "    </tr>\n",
       "    <tr>\n",
       "      <th>3</th>\n",
       "      <td>6.118189</td>\n",
       "      <td>2016-01-15 03:00:00</td>\n",
       "      <td>6.043309</td>\n",
       "      <td>2.037807</td>\n",
       "      <td>36.862241</td>\n",
       "      <td>1.feed</td>\n",
       "      <td>51.061546</td>\n",
       "    </tr>\n",
       "    <tr>\n",
       "      <th>4</th>\n",
       "      <td>5.663707</td>\n",
       "      <td>2016-01-15 04:00:00</td>\n",
       "      <td>6.060915</td>\n",
       "      <td>1.786875</td>\n",
       "      <td>34.347666</td>\n",
       "      <td>1.feed</td>\n",
       "      <td>47.859163</td>\n",
       "    </tr>\n",
       "  </tbody>\n",
       "</table>\n",
       "</div>"
      ],
      "text/plain": [
       "         au                date        ag        pb        sol   stage  \\\n",
       "0  6.486150 2016-01-15 00:00:00  6.100378  2.284912  36.808594  1.feed   \n",
       "1  6.478583 2016-01-15 01:00:00  6.161113  2.266033  35.753385  1.feed   \n",
       "2  6.362222 2016-01-15 02:00:00  6.116455  2.159622  35.971630  1.feed   \n",
       "3  6.118189 2016-01-15 03:00:00  6.043309  2.037807  36.862241  1.feed   \n",
       "4  5.663707 2016-01-15 04:00:00  6.060915  1.786875  34.347666  1.feed   \n",
       "\n",
       "   total_concentration  \n",
       "0            51.680034  \n",
       "1            50.659114  \n",
       "2            50.609929  \n",
       "3            51.061546  \n",
       "4            47.859163  "
      ]
     },
     "execution_count": 26,
     "metadata": {},
     "output_type": "execute_result"
    }
   ],
   "source": [
    "data_full_analisys['total_concentration'] = data_full_analisys[metal_columns].sum(axis=1)\n",
    "data_full_analisys.head()"
   ]
  },
  {
   "cell_type": "code",
   "execution_count": 27,
   "metadata": {
    "scrolled": false
   },
   "outputs": [
    {
     "data": {
      "image/png": "[encoded data removed]",
      "text/plain": [
       "<Figure size 1152x360 with 2 Axes>"
      ]
     },
     "metadata": {
      "needs_background": "light"
     },
     "output_type": "display_data"
    }
   ],
   "source": [
    "fig, axis = plt.subplots(1,2, figsize=(16, 5))\n",
    "fig.suptitle(f'Распределение суммарной концентрации всех веществ на каждом этапе очистки')\n",
    "\n",
    "sns.histplot(data = data_full_analisys,  x='total_concentration', hue='stage', ax=axis[0], fill=False, element=\"step\");\n",
    "sns.boxplot(data=data_full_analisys, x='total_concentration', y='stage', ax=axis[1]);"
   ]
  },
  {
   "cell_type": "markdown",
   "metadata": {},
   "source": [
    "По графикам видно, что на разных этапах обработки есть нулевая суммарная концентрация всех веществ.\n",
    "\n",
    "Рассмотрим эти данные на предмет аномалий."
   ]
  },
  {
   "cell_type": "code",
   "execution_count": 28,
   "metadata": {
    "scrolled": true
   },
   "outputs": [
    {
     "data": {
      "text/html": [
       "<div>\n",
       "<style scoped>\n",
       "    .dataframe tbody tr th:only-of-type {\n",
       "        vertical-align: middle;\n",
       "    }\n",
       "\n",
       "    .dataframe tbody tr th {\n",
       "        vertical-align: top;\n",
       "    }\n",
       "\n",
       "    .dataframe thead th {\n",
       "        text-align: right;\n",
       "    }\n",
       "</style>\n",
       "<table border=\"1\" class=\"dataframe\">\n",
       "  <thead>\n",
       "    <tr style=\"text-align: right;\">\n",
       "      <th></th>\n",
       "      <th>total_concentration_1</th>\n",
       "      <th>total_concentration_2</th>\n",
       "      <th>total_concentration_3</th>\n",
       "      <th>total_concentration_4</th>\n",
       "    </tr>\n",
       "    <tr>\n",
       "      <th>date</th>\n",
       "      <th></th>\n",
       "      <th></th>\n",
       "      <th></th>\n",
       "      <th></th>\n",
       "    </tr>\n",
       "  </thead>\n",
       "  <tbody>\n",
       "    <tr>\n",
       "      <th>2016-01-15 00:00:00</th>\n",
       "      <td>51.680034</td>\n",
       "      <td>66.424950</td>\n",
       "      <td>72.640924</td>\n",
       "      <td>63.644396</td>\n",
       "    </tr>\n",
       "    <tr>\n",
       "      <th>2016-01-15 01:00:00</th>\n",
       "      <td>50.659114</td>\n",
       "      <td>67.012710</td>\n",
       "      <td>72.543485</td>\n",
       "      <td>63.957723</td>\n",
       "    </tr>\n",
       "    <tr>\n",
       "      <th>2016-01-15 02:00:00</th>\n",
       "      <td>50.609929</td>\n",
       "      <td>66.103793</td>\n",
       "      <td>72.095042</td>\n",
       "      <td>64.311180</td>\n",
       "    </tr>\n",
       "    <tr>\n",
       "      <th>2016-01-15 03:00:00</th>\n",
       "      <td>51.061546</td>\n",
       "      <td>65.752751</td>\n",
       "      <td>59.957723</td>\n",
       "      <td>63.573449</td>\n",
       "    </tr>\n",
       "    <tr>\n",
       "      <th>2016-01-15 04:00:00</th>\n",
       "      <td>47.859163</td>\n",
       "      <td>65.908382</td>\n",
       "      <td>71.321010</td>\n",
       "      <td>64.004667</td>\n",
       "    </tr>\n",
       "  </tbody>\n",
       "</table>\n",
       "</div>"
      ],
      "text/plain": [
       "                     total_concentration_1  total_concentration_2  \\\n",
       "date                                                                \n",
       "2016-01-15 00:00:00              51.680034              66.424950   \n",
       "2016-01-15 01:00:00              50.659114              67.012710   \n",
       "2016-01-15 02:00:00              50.609929              66.103793   \n",
       "2016-01-15 03:00:00              51.061546              65.752751   \n",
       "2016-01-15 04:00:00              47.859163              65.908382   \n",
       "\n",
       "                     total_concentration_3  total_concentration_4  \n",
       "date                                                               \n",
       "2016-01-15 00:00:00              72.640924              63.644396  \n",
       "2016-01-15 01:00:00              72.543485              63.957723  \n",
       "2016-01-15 02:00:00              72.095042              64.311180  \n",
       "2016-01-15 03:00:00              59.957723              63.573449  \n",
       "2016-01-15 04:00:00              71.321010              64.004667  "
      ]
     },
     "execution_count": 28,
     "metadata": {},
     "output_type": "execute_result"
    }
   ],
   "source": [
    "data_total_conc = data_full_analisys.pivot_table(index='date', columns='stage', values='total_concentration', aggfunc='sum')\n",
    "data_total_conc.columns = ['total_concentration_1', 'total_concentration_2', 'total_concentration_3', 'total_concentration_4']\n",
    "data_total_conc.head()"
   ]
  },
  {
   "cell_type": "markdown",
   "metadata": {},
   "source": [
    "Объектов выборки, где на старте суммарная концентрация веществ в сырье равна 0 - нет."
   ]
  },
  {
   "cell_type": "code",
   "execution_count": 29,
   "metadata": {},
   "outputs": [
    {
     "data": {
      "text/plain": [
       "0"
      ]
     },
     "execution_count": 29,
     "metadata": {},
     "output_type": "execute_result"
    }
   ],
   "source": [
    "data_total_conc.query('total_concentration_1==0')['total_concentration_1'].count()"
   ]
  },
  {
   "cell_type": "markdown",
   "metadata": {},
   "source": [
    "В 392 строках суммарная концентрация равна 0 после флотации, но не равна 0 после всех этапов обработки. Руководствуясь здравым смыслом, делаю вывод, что это некорректные данные, которые нужно удалить из анализа."
   ]
  },
  {
   "cell_type": "code",
   "execution_count": 30,
   "metadata": {},
   "outputs": [
    {
     "data": {
      "text/plain": [
       "392"
      ]
     },
     "execution_count": 30,
     "metadata": {},
     "output_type": "execute_result"
    }
   ],
   "source": [
    "data_total_conc.query('total_concentration_2==0 and total_concentration_4!=0')['total_concentration_1'].count()"
   ]
  },
  {
   "cell_type": "markdown",
   "metadata": {},
   "source": [
    "В 2 строках, нулевые значения суммарной концентрации веществ идут уже после флотации и до окончания обработки.\n",
    "\n",
    "Но если посмотреть эти строки детальнее, то видим, что при нулевой общей концентрации после флотации в них присутствуют хвосты на одном из двух этапов очистки. Эти строки также аномальные."
   ]
  },
  {
   "cell_type": "code",
   "execution_count": 31,
   "metadata": {
    "scrolled": false
   },
   "outputs": [
    {
     "data": {
      "text/html": [
       "<div>\n",
       "<style scoped>\n",
       "    .dataframe tbody tr th:only-of-type {\n",
       "        vertical-align: middle;\n",
       "    }\n",
       "\n",
       "    .dataframe tbody tr th {\n",
       "        vertical-align: top;\n",
       "    }\n",
       "\n",
       "    .dataframe thead th {\n",
       "        text-align: right;\n",
       "    }\n",
       "</style>\n",
       "<table border=\"1\" class=\"dataframe\">\n",
       "  <thead>\n",
       "    <tr style=\"text-align: right;\">\n",
       "      <th></th>\n",
       "      <th>total_concentration_1</th>\n",
       "      <th>total_concentration_2</th>\n",
       "      <th>total_concentration_3</th>\n",
       "      <th>total_concentration_4</th>\n",
       "    </tr>\n",
       "    <tr>\n",
       "      <th>date</th>\n",
       "      <th></th>\n",
       "      <th></th>\n",
       "      <th></th>\n",
       "      <th></th>\n",
       "    </tr>\n",
       "  </thead>\n",
       "  <tbody>\n",
       "    <tr>\n",
       "      <th>2016-04-09 17:00:00</th>\n",
       "      <td>44.882879</td>\n",
       "      <td>0.0</td>\n",
       "      <td>0.0</td>\n",
       "      <td>0.0</td>\n",
       "    </tr>\n",
       "    <tr>\n",
       "      <th>2016-09-02 06:59:59</th>\n",
       "      <td>4.501868</td>\n",
       "      <td>0.0</td>\n",
       "      <td>0.0</td>\n",
       "      <td>0.0</td>\n",
       "    </tr>\n",
       "  </tbody>\n",
       "</table>\n",
       "</div>"
      ],
      "text/plain": [
       "                     total_concentration_1  total_concentration_2  \\\n",
       "date                                                                \n",
       "2016-04-09 17:00:00              44.882879                    0.0   \n",
       "2016-09-02 06:59:59               4.501868                    0.0   \n",
       "\n",
       "                     total_concentration_3  total_concentration_4  \n",
       "date                                                               \n",
       "2016-04-09 17:00:00                    0.0                    0.0  \n",
       "2016-09-02 06:59:59                    0.0                    0.0  "
      ]
     },
     "execution_count": 31,
     "metadata": {},
     "output_type": "execute_result"
    }
   ],
   "source": [
    "data_total_conc.query('total_concentration_2==0 and total_concentration_4==0')"
   ]
  },
  {
   "cell_type": "code",
   "execution_count": 32,
   "metadata": {
    "scrolled": true
   },
   "outputs": [
    {
     "data": {
      "text/html": [
       "<div>\n",
       "<style scoped>\n",
       "    .dataframe tbody tr th:only-of-type {\n",
       "        vertical-align: middle;\n",
       "    }\n",
       "\n",
       "    .dataframe tbody tr th {\n",
       "        vertical-align: top;\n",
       "    }\n",
       "\n",
       "    .dataframe thead th {\n",
       "        text-align: right;\n",
       "    }\n",
       "</style>\n",
       "<table border=\"1\" class=\"dataframe\">\n",
       "  <thead>\n",
       "    <tr style=\"text-align: right;\">\n",
       "      <th></th>\n",
       "      <th>final.output.tail_ag</th>\n",
       "      <th>final.output.tail_pb</th>\n",
       "      <th>final.output.tail_sol</th>\n",
       "      <th>final.output.tail_au</th>\n",
       "      <th>primary_cleaner.output.tail_ag</th>\n",
       "      <th>primary_cleaner.output.tail_pb</th>\n",
       "      <th>primary_cleaner.output.tail_sol</th>\n",
       "      <th>primary_cleaner.output.tail_au</th>\n",
       "      <th>rougher.output.tail_ag</th>\n",
       "      <th>rougher.output.tail_pb</th>\n",
       "      <th>rougher.output.tail_sol</th>\n",
       "      <th>rougher.output.tail_au</th>\n",
       "      <th>secondary_cleaner.output.tail_ag</th>\n",
       "      <th>secondary_cleaner.output.tail_pb</th>\n",
       "      <th>secondary_cleaner.output.tail_sol</th>\n",
       "      <th>secondary_cleaner.output.tail_au</th>\n",
       "    </tr>\n",
       "    <tr>\n",
       "      <th>date</th>\n",
       "      <th></th>\n",
       "      <th></th>\n",
       "      <th></th>\n",
       "      <th></th>\n",
       "      <th></th>\n",
       "      <th></th>\n",
       "      <th></th>\n",
       "      <th></th>\n",
       "      <th></th>\n",
       "      <th></th>\n",
       "      <th></th>\n",
       "      <th></th>\n",
       "      <th></th>\n",
       "      <th></th>\n",
       "      <th></th>\n",
       "      <th></th>\n",
       "    </tr>\n",
       "  </thead>\n",
       "  <tbody>\n",
       "    <tr>\n",
       "      <th>2016-04-09 17:00:00</th>\n",
       "      <td>2.943613</td>\n",
       "      <td>1.089791</td>\n",
       "      <td>4.050067</td>\n",
       "      <td>2.443084</td>\n",
       "      <td>14.535901</td>\n",
       "      <td>4.067882</td>\n",
       "      <td>7.082465</td>\n",
       "      <td>16.563246</td>\n",
       "      <td>5.553167</td>\n",
       "      <td>0.936074</td>\n",
       "      <td>12.076309</td>\n",
       "      <td>2.674195</td>\n",
       "      <td>0.000000</td>\n",
       "      <td>0.000000</td>\n",
       "      <td>0.000000</td>\n",
       "      <td>0.000000</td>\n",
       "    </tr>\n",
       "    <tr>\n",
       "      <th>2016-09-02 06:59:59</th>\n",
       "      <td>0.837321</td>\n",
       "      <td>0.332786</td>\n",
       "      <td>1.053320</td>\n",
       "      <td>0.406798</td>\n",
       "      <td>0.000000</td>\n",
       "      <td>0.000000</td>\n",
       "      <td>0.000000</td>\n",
       "      <td>0.000000</td>\n",
       "      <td>6.790162</td>\n",
       "      <td>0.165631</td>\n",
       "      <td>15.577148</td>\n",
       "      <td>3.107993</td>\n",
       "      <td>12.870691</td>\n",
       "      <td>5.463488</td>\n",
       "      <td>4.219397</td>\n",
       "      <td>5.552634</td>\n",
       "    </tr>\n",
       "  </tbody>\n",
       "</table>\n",
       "</div>"
      ],
      "text/plain": [
       "                     final.output.tail_ag  final.output.tail_pb  \\\n",
       "date                                                              \n",
       "2016-04-09 17:00:00              2.943613              1.089791   \n",
       "2016-09-02 06:59:59              0.837321              0.332786   \n",
       "\n",
       "                     final.output.tail_sol  final.output.tail_au  \\\n",
       "date                                                               \n",
       "2016-04-09 17:00:00               4.050067              2.443084   \n",
       "2016-09-02 06:59:59               1.053320              0.406798   \n",
       "\n",
       "                     primary_cleaner.output.tail_ag  \\\n",
       "date                                                  \n",
       "2016-04-09 17:00:00                       14.535901   \n",
       "2016-09-02 06:59:59                        0.000000   \n",
       "\n",
       "                     primary_cleaner.output.tail_pb  \\\n",
       "date                                                  \n",
       "2016-04-09 17:00:00                        4.067882   \n",
       "2016-09-02 06:59:59                        0.000000   \n",
       "\n",
       "                     primary_cleaner.output.tail_sol  \\\n",
       "date                                                   \n",
       "2016-04-09 17:00:00                         7.082465   \n",
       "2016-09-02 06:59:59                         0.000000   \n",
       "\n",
       "                     primary_cleaner.output.tail_au  rougher.output.tail_ag  \\\n",
       "date                                                                          \n",
       "2016-04-09 17:00:00                       16.563246                5.553167   \n",
       "2016-09-02 06:59:59                        0.000000                6.790162   \n",
       "\n",
       "                     rougher.output.tail_pb  rougher.output.tail_sol  \\\n",
       "date                                                                   \n",
       "2016-04-09 17:00:00                0.936074                12.076309   \n",
       "2016-09-02 06:59:59                0.165631                15.577148   \n",
       "\n",
       "                     rougher.output.tail_au  secondary_cleaner.output.tail_ag  \\\n",
       "date                                                                            \n",
       "2016-04-09 17:00:00                2.674195                          0.000000   \n",
       "2016-09-02 06:59:59                3.107993                         12.870691   \n",
       "\n",
       "                     secondary_cleaner.output.tail_pb  \\\n",
       "date                                                    \n",
       "2016-04-09 17:00:00                          0.000000   \n",
       "2016-09-02 06:59:59                          5.463488   \n",
       "\n",
       "                     secondary_cleaner.output.tail_sol  \\\n",
       "date                                                     \n",
       "2016-04-09 17:00:00                           0.000000   \n",
       "2016-09-02 06:59:59                           4.219397   \n",
       "\n",
       "                     secondary_cleaner.output.tail_au  \n",
       "date                                                   \n",
       "2016-04-09 17:00:00                          0.000000  \n",
       "2016-09-02 06:59:59                          5.552634  "
      ]
     },
     "execution_count": 32,
     "metadata": {},
     "output_type": "execute_result"
    }
   ],
   "source": [
    "data_full.loc[data_total_conc.query('total_concentration_2==0 and total_concentration_4==0').index, \\\n",
    "              data_full.columns.str.contains('tail')]"
   ]
  },
  {
   "cell_type": "markdown",
   "metadata": {},
   "source": [
    "Еще в 101 строке суммарная концентрация равна 0 после первого этапа очистки, но не равна 0 после второго. Руководствуясь здравым смыслом, делаю вывод, что это некорректные данные, которые нужно удалить из анализа."
   ]
  },
  {
   "cell_type": "code",
   "execution_count": 33,
   "metadata": {},
   "outputs": [
    {
     "data": {
      "text/plain": [
       "101"
      ]
     },
     "execution_count": 33,
     "metadata": {},
     "output_type": "execute_result"
    }
   ],
   "source": [
    "data_total_conc.query('total_concentration_2!=0 and total_concentration_3==0 and total_concentration_4!=0') \\\n",
    "    ['total_concentration_1'].count()"
   ]
  },
  {
   "cell_type": "markdown",
   "metadata": {},
   "source": [
    "В 2 строках, нулевые значения суммарной концентрации веществ идут после первого этапа очистки и до окончания обработки.\n",
    "\n",
    "Но если посмотреть эти строки детальнее, то видим, что во первой строке при нулевой общей концентрации после первого этапа очистки присутствуют хвосты на втором."
   ]
  },
  {
   "cell_type": "code",
   "execution_count": 34,
   "metadata": {},
   "outputs": [
    {
     "data": {
      "text/html": [
       "<div>\n",
       "<style scoped>\n",
       "    .dataframe tbody tr th:only-of-type {\n",
       "        vertical-align: middle;\n",
       "    }\n",
       "\n",
       "    .dataframe tbody tr th {\n",
       "        vertical-align: top;\n",
       "    }\n",
       "\n",
       "    .dataframe thead th {\n",
       "        text-align: right;\n",
       "    }\n",
       "</style>\n",
       "<table border=\"1\" class=\"dataframe\">\n",
       "  <thead>\n",
       "    <tr style=\"text-align: right;\">\n",
       "      <th></th>\n",
       "      <th>total_concentration_1</th>\n",
       "      <th>total_concentration_2</th>\n",
       "      <th>total_concentration_3</th>\n",
       "      <th>total_concentration_4</th>\n",
       "    </tr>\n",
       "    <tr>\n",
       "      <th>date</th>\n",
       "      <th></th>\n",
       "      <th></th>\n",
       "      <th></th>\n",
       "      <th></th>\n",
       "    </tr>\n",
       "  </thead>\n",
       "  <tbody>\n",
       "    <tr>\n",
       "      <th>2017-08-12 03:59:59</th>\n",
       "      <td>46.635418</td>\n",
       "      <td>65.818944</td>\n",
       "      <td>0.0</td>\n",
       "      <td>0.0</td>\n",
       "    </tr>\n",
       "    <tr>\n",
       "      <th>2017-09-26 12:59:59</th>\n",
       "      <td>58.762283</td>\n",
       "      <td>73.070175</td>\n",
       "      <td>0.0</td>\n",
       "      <td>0.0</td>\n",
       "    </tr>\n",
       "  </tbody>\n",
       "</table>\n",
       "</div>"
      ],
      "text/plain": [
       "                     total_concentration_1  total_concentration_2  \\\n",
       "date                                                                \n",
       "2017-08-12 03:59:59              46.635418              65.818944   \n",
       "2017-09-26 12:59:59              58.762283              73.070175   \n",
       "\n",
       "                     total_concentration_3  total_concentration_4  \n",
       "date                                                               \n",
       "2017-08-12 03:59:59                    0.0                    0.0  \n",
       "2017-09-26 12:59:59                    0.0                    0.0  "
      ]
     },
     "execution_count": 34,
     "metadata": {},
     "output_type": "execute_result"
    }
   ],
   "source": [
    "data_total_conc.query('total_concentration_2!=0 and total_concentration_3==0 and total_concentration_4==0')"
   ]
  },
  {
   "cell_type": "code",
   "execution_count": 35,
   "metadata": {
    "scrolled": true
   },
   "outputs": [
    {
     "data": {
      "text/html": [
       "<div>\n",
       "<style scoped>\n",
       "    .dataframe tbody tr th:only-of-type {\n",
       "        vertical-align: middle;\n",
       "    }\n",
       "\n",
       "    .dataframe tbody tr th {\n",
       "        vertical-align: top;\n",
       "    }\n",
       "\n",
       "    .dataframe thead th {\n",
       "        text-align: right;\n",
       "    }\n",
       "</style>\n",
       "<table border=\"1\" class=\"dataframe\">\n",
       "  <thead>\n",
       "    <tr style=\"text-align: right;\">\n",
       "      <th></th>\n",
       "      <th>final.output.tail_ag</th>\n",
       "      <th>final.output.tail_pb</th>\n",
       "      <th>final.output.tail_sol</th>\n",
       "      <th>final.output.tail_au</th>\n",
       "      <th>primary_cleaner.output.tail_ag</th>\n",
       "      <th>primary_cleaner.output.tail_pb</th>\n",
       "      <th>primary_cleaner.output.tail_sol</th>\n",
       "      <th>primary_cleaner.output.tail_au</th>\n",
       "      <th>rougher.output.tail_ag</th>\n",
       "      <th>rougher.output.tail_pb</th>\n",
       "      <th>rougher.output.tail_sol</th>\n",
       "      <th>rougher.output.tail_au</th>\n",
       "      <th>secondary_cleaner.output.tail_ag</th>\n",
       "      <th>secondary_cleaner.output.tail_pb</th>\n",
       "      <th>secondary_cleaner.output.tail_sol</th>\n",
       "      <th>secondary_cleaner.output.tail_au</th>\n",
       "    </tr>\n",
       "    <tr>\n",
       "      <th>date</th>\n",
       "      <th></th>\n",
       "      <th></th>\n",
       "      <th></th>\n",
       "      <th></th>\n",
       "      <th></th>\n",
       "      <th></th>\n",
       "      <th></th>\n",
       "      <th></th>\n",
       "      <th></th>\n",
       "      <th></th>\n",
       "      <th></th>\n",
       "      <th></th>\n",
       "      <th></th>\n",
       "      <th></th>\n",
       "      <th></th>\n",
       "      <th></th>\n",
       "    </tr>\n",
       "  </thead>\n",
       "  <tbody>\n",
       "    <tr>\n",
       "      <th>2017-08-12 03:59:59</th>\n",
       "      <td>6.296368</td>\n",
       "      <td>2.933790</td>\n",
       "      <td>9.373527</td>\n",
       "      <td>4.489584</td>\n",
       "      <td>15.282956</td>\n",
       "      <td>2.725611</td>\n",
       "      <td>2.539365</td>\n",
       "      <td>7.142466</td>\n",
       "      <td>4.980517</td>\n",
       "      <td>0.712774</td>\n",
       "      <td>13.990239</td>\n",
       "      <td>1.759284</td>\n",
       "      <td>11.447753</td>\n",
       "      <td>6.441925</td>\n",
       "      <td>1.061112</td>\n",
       "      <td>7.054461</td>\n",
       "    </tr>\n",
       "    <tr>\n",
       "      <th>2017-09-26 12:59:59</th>\n",
       "      <td>8.334300</td>\n",
       "      <td>3.046638</td>\n",
       "      <td>10.749906</td>\n",
       "      <td>4.045790</td>\n",
       "      <td>0.000000</td>\n",
       "      <td>0.000000</td>\n",
       "      <td>0.000000</td>\n",
       "      <td>0.000000</td>\n",
       "      <td>4.059727</td>\n",
       "      <td>0.454238</td>\n",
       "      <td>12.919548</td>\n",
       "      <td>1.730314</td>\n",
       "      <td>0.000000</td>\n",
       "      <td>0.000000</td>\n",
       "      <td>0.000000</td>\n",
       "      <td>0.000000</td>\n",
       "    </tr>\n",
       "  </tbody>\n",
       "</table>\n",
       "</div>"
      ],
      "text/plain": [
       "                     final.output.tail_ag  final.output.tail_pb  \\\n",
       "date                                                              \n",
       "2017-08-12 03:59:59              6.296368              2.933790   \n",
       "2017-09-26 12:59:59              8.334300              3.046638   \n",
       "\n",
       "                     final.output.tail_sol  final.output.tail_au  \\\n",
       "date                                                               \n",
       "2017-08-12 03:59:59               9.373527              4.489584   \n",
       "2017-09-26 12:59:59              10.749906              4.045790   \n",
       "\n",
       "                     primary_cleaner.output.tail_ag  \\\n",
       "date                                                  \n",
       "2017-08-12 03:59:59                       15.282956   \n",
       "2017-09-26 12:59:59                        0.000000   \n",
       "\n",
       "                     primary_cleaner.output.tail_pb  \\\n",
       "date                                                  \n",
       "2017-08-12 03:59:59                        2.725611   \n",
       "2017-09-26 12:59:59                        0.000000   \n",
       "\n",
       "                     primary_cleaner.output.tail_sol  \\\n",
       "date                                                   \n",
       "2017-08-12 03:59:59                         2.539365   \n",
       "2017-09-26 12:59:59                         0.000000   \n",
       "\n",
       "                     primary_cleaner.output.tail_au  rougher.output.tail_ag  \\\n",
       "date                                                                          \n",
       "2017-08-12 03:59:59                        7.142466                4.980517   \n",
       "2017-09-26 12:59:59                        0.000000                4.059727   \n",
       "\n",
       "                     rougher.output.tail_pb  rougher.output.tail_sol  \\\n",
       "date                                                                   \n",
       "2017-08-12 03:59:59                0.712774                13.990239   \n",
       "2017-09-26 12:59:59                0.454238                12.919548   \n",
       "\n",
       "                     rougher.output.tail_au  secondary_cleaner.output.tail_ag  \\\n",
       "date                                                                            \n",
       "2017-08-12 03:59:59                1.759284                         11.447753   \n",
       "2017-09-26 12:59:59                1.730314                          0.000000   \n",
       "\n",
       "                     secondary_cleaner.output.tail_pb  \\\n",
       "date                                                    \n",
       "2017-08-12 03:59:59                          6.441925   \n",
       "2017-09-26 12:59:59                          0.000000   \n",
       "\n",
       "                     secondary_cleaner.output.tail_sol  \\\n",
       "date                                                     \n",
       "2017-08-12 03:59:59                           1.061112   \n",
       "2017-09-26 12:59:59                           0.000000   \n",
       "\n",
       "                     secondary_cleaner.output.tail_au  \n",
       "date                                                   \n",
       "2017-08-12 03:59:59                          7.054461  \n",
       "2017-09-26 12:59:59                          0.000000  "
      ]
     },
     "execution_count": 35,
     "metadata": {},
     "output_type": "execute_result"
    }
   ],
   "source": [
    "data_full.loc[data_total_conc.query('total_concentration_2!=0 and total_concentration_3==0 and total_concentration_4==0').index,\\\n",
    "              data_full.columns.str.contains('tail')]"
   ]
  },
  {
   "cell_type": "markdown",
   "metadata": {},
   "source": [
    "И есть 94 строки, в которых после всей обработки нулевая концентрация всех веществ. Эффективность обогащения после очистки в этих строках равна 0, это означает - что все ушло в хвосты."
   ]
  },
  {
   "cell_type": "code",
   "execution_count": 36,
   "metadata": {},
   "outputs": [
    {
     "data": {
      "text/plain": [
       "94"
      ]
     },
     "execution_count": 36,
     "metadata": {},
     "output_type": "execute_result"
    }
   ],
   "source": [
    "data_total_conc.query('total_concentration_2!=0 and total_concentration_3!=0 and total_concentration_4==0') \\\n",
    "    ['total_concentration_1'].count()"
   ]
  },
  {
   "cell_type": "code",
   "execution_count": 37,
   "metadata": {
    "scrolled": true
   },
   "outputs": [
    {
     "data": {
      "text/plain": [
       "count    94.0\n",
       "mean      0.0\n",
       "std       0.0\n",
       "min       0.0\n",
       "25%       0.0\n",
       "50%       0.0\n",
       "75%       0.0\n",
       "max       0.0\n",
       "Name: final.output.recovery, dtype: float64"
      ]
     },
     "execution_count": 37,
     "metadata": {},
     "output_type": "execute_result"
    }
   ],
   "source": [
    "data_full.loc[data_total_conc.query('total_concentration_2!=0 and total_concentration_3!=0 and total_concentration_4==0').index,\\\n",
    "              'final.output.recovery'].describe()"
   ]
  },
  {
   "cell_type": "markdown",
   "metadata": {},
   "source": [
    "По итогу соберем в одну переменную все индексы выявленных аномальных строк."
   ]
  },
  {
   "cell_type": "code",
   "execution_count": 38,
   "metadata": {},
   "outputs": [
    {
     "data": {
      "text/plain": [
       "591"
      ]
     },
     "execution_count": 38,
     "metadata": {},
     "output_type": "execute_result"
    }
   ],
   "source": [
    "anomal_raws = data_total_conc.loc[(data_total_conc['total_concentration_2']==0) \\\n",
    "    | (data_total_conc['total_concentration_3']==0) \\\n",
    "    | (data_total_conc['total_concentration_4']==0)].index\n",
    "len(anomal_raws)"
   ]
  },
  {
   "cell_type": "markdown",
   "metadata": {},
   "source": [
    "**Вывод**\n",
    "\n",
    "Выявлено 591 аномальных строк, в которых суммарная концентрация всех веществ:\n",
    "* равна 0 после флотации, но не равна 0 после всех этапов обработки;\n",
    "* равна 0 после флотации и на всех этапах обработки, но в них присутствуют хвосты на одном из двух этапов очистки;\n",
    "* равна 0 после первого этапа очистки, но не равна 0 после второго;\n",
    "* равна 0 на обоих этапах очистки, но присутствуют хвосты на втором;\n",
    "* равна 0 после всех этапов обработки.\n",
    "\n",
    "Аномальные данные говорят о некорректной информации, которую не следует использовать при обучении модели. Такие строки подлежат удалению.\n",
    "\n",
    "*По постановке задачи не нужно было проверять концентрацию после первого этапа отдельно, но мне кажется разумным удаление таких строк тоже.*"
   ]
  },
  {
   "cell_type": "markdown",
   "metadata": {},
   "source": [
    "### Удаление аномалий"
   ]
  },
  {
   "cell_type": "code",
   "execution_count": 39,
   "metadata": {},
   "outputs": [
    {
     "name": "stdout",
     "output_type": "stream",
     "text": [
      "строк до: 19439\n",
      "строк после: 18848\n",
      "\n",
      "строк до: 14149\n",
      "строк после: 13725\n",
      "\n",
      "строк до: 5290\n",
      "строк после: 5123\n",
      "\n"
     ]
    }
   ],
   "source": [
    "for dataset in datasets:\n",
    "    print(f'строк до: {dataset.shape[0]}')\n",
    "    dataset.drop(index=anomal_raws, inplace=True, errors = 'ignore')\n",
    "    print(f'строк после: {dataset.shape[0]}')   \n",
    "    print()"
   ]
  },
  {
   "cell_type": "code",
   "execution_count": 40,
   "metadata": {},
   "outputs": [
    {
     "data": {
      "text/plain": [
       "(493, 86)"
      ]
     },
     "execution_count": 40,
     "metadata": {},
     "output_type": "execute_result"
    }
   ],
   "source": [
    "data_full.loc[((data_full['rougher.output.concentrate_au']==0) | (data_full['primary_cleaner.output.concentrate_au']==0)) \\\n",
    "              & (data_full['final.output.concentrate_au']!=0)].shape"
   ]
  },
  {
   "cell_type": "code",
   "execution_count": 41,
   "metadata": {},
   "outputs": [
    {
     "data": {
      "text/plain": [
       "(98, 86)"
      ]
     },
     "execution_count": 41,
     "metadata": {},
     "output_type": "execute_result"
    }
   ],
   "source": [
    "data_full.loc[data_full['final.output.concentrate_au']==0].shape"
   ]
  },
  {
   "cell_type": "markdown",
   "metadata": {},
   "source": [
    "**Вывод**\n",
    "\n",
    "Удалила аномальные строки из исходных данных и обеих выборок. При этом видим, что аномальные строки, обнаруженные в разделе 2.1 по золоту, были в том же числе."
   ]
  },
  {
   "cell_type": "markdown",
   "metadata": {},
   "source": [
    "## Модель"
   ]
  },
  {
   "cell_type": "markdown",
   "metadata": {},
   "source": [
    "### Функция для вычисления итоговой sMAPE"
   ]
  },
  {
   "cell_type": "code",
   "execution_count": 42,
   "metadata": {},
   "outputs": [],
   "source": [
    "def smape(target, predictions): \n",
    "    return sum(abs(target - predictions) / \n",
    "    np.where((target==0) & (predictions==0), 1, abs(target) + abs(predictions)) * 2) / len(target) * 100\n",
    "\n",
    "def total_smape(rougher_smape, final_smape):\n",
    "    return 0.25 * rougher_smape + 0.75 * final_smape"
   ]
  },
  {
   "cell_type": "code",
   "execution_count": 43,
   "metadata": {},
   "outputs": [
    {
     "data": {
      "text/plain": [
       "133.33333333333331"
      ]
     },
     "execution_count": 43,
     "metadata": {},
     "output_type": "execute_result"
    }
   ],
   "source": [
    "target = [0, 1, 1]\n",
    "predictions = [0, 0, 0]\n",
    "target = pd.Series(target)\n",
    "predictions = pd.Series(predictions)\n",
    "total_smape(smape(target, predictions), smape(target, predictions))"
   ]
  },
  {
   "cell_type": "code",
   "execution_count": 44,
   "metadata": {},
   "outputs": [],
   "source": [
    "smape_score = make_scorer(smape, greater_is_better = False)"
   ]
  },
  {
   "cell_type": "markdown",
   "metadata": {},
   "source": [
    "**Вывод**\n",
    "\n",
    "Подготовила функцию для расчета метрики и проверила ее выполнение. Добавила проверку знаменателя на 0 для случая, когда правильно предсказана нулевая эффективность, т.к. считаю, что модель должна уметь работать с такими данными, чтобы не упустить убыточные случаи."
   ]
  },
  {
   "cell_type": "markdown",
   "metadata": {},
   "source": [
    "### Обучение модели"
   ]
  },
  {
   "cell_type": "markdown",
   "metadata": {},
   "source": [
    "### Обучающая и тестовая выборки"
   ]
  },
  {
   "cell_type": "code",
   "execution_count": 45,
   "metadata": {},
   "outputs": [],
   "source": [
    "features_train = data_train[features_columns]\n",
    "features_test = data_test\n",
    "\n",
    "target_train_1 = data_train[target_column_rougher]\n",
    "target_train_2 = data_train[final_column_rougher]\n",
    "\n",
    "target_test_1 = data_full.loc[data_test.index, target_column_rougher]\n",
    "target_test_2 = data_full.loc[data_test.index, final_column_rougher]"
   ]
  },
  {
   "cell_type": "code",
   "execution_count": 46,
   "metadata": {},
   "outputs": [
    {
     "data": {
      "text/plain": [
       "(13725, 52)"
      ]
     },
     "execution_count": 46,
     "metadata": {},
     "output_type": "execute_result"
    }
   ],
   "source": [
    "features_train.shape"
   ]
  },
  {
   "cell_type": "code",
   "execution_count": 47,
   "metadata": {},
   "outputs": [
    {
     "data": {
      "text/plain": [
       "(5123, 52)"
      ]
     },
     "execution_count": 47,
     "metadata": {},
     "output_type": "execute_result"
    }
   ],
   "source": [
    "features_test.shape"
   ]
  },
  {
   "cell_type": "code",
   "execution_count": 48,
   "metadata": {},
   "outputs": [
    {
     "data": {
      "text/plain": [
       "(13725,)"
      ]
     },
     "execution_count": 48,
     "metadata": {},
     "output_type": "execute_result"
    }
   ],
   "source": [
    "target_train_1.shape"
   ]
  },
  {
   "cell_type": "code",
   "execution_count": 49,
   "metadata": {},
   "outputs": [
    {
     "data": {
      "text/plain": [
       "(13725,)"
      ]
     },
     "execution_count": 49,
     "metadata": {},
     "output_type": "execute_result"
    }
   ],
   "source": [
    "target_train_2.shape"
   ]
  },
  {
   "cell_type": "code",
   "execution_count": 50,
   "metadata": {},
   "outputs": [
    {
     "data": {
      "text/plain": [
       "(5123,)"
      ]
     },
     "execution_count": 50,
     "metadata": {},
     "output_type": "execute_result"
    }
   ],
   "source": [
    "target_test_1.shape"
   ]
  },
  {
   "cell_type": "code",
   "execution_count": 51,
   "metadata": {},
   "outputs": [
    {
     "data": {
      "text/plain": [
       "(5123,)"
      ]
     },
     "execution_count": 51,
     "metadata": {},
     "output_type": "execute_result"
    }
   ],
   "source": [
    "target_test_2.shape"
   ]
  },
  {
   "cell_type": "markdown",
   "metadata": {},
   "source": [
    "**Вывод**\n",
    "\n",
    "Выделила признаки и целевой признак для каждой выборки."
   ]
  },
  {
   "cell_type": "markdown",
   "metadata": {},
   "source": [
    "### Масштабирование признаков"
   ]
  },
  {
   "cell_type": "code",
   "execution_count": 52,
   "metadata": {},
   "outputs": [
    {
     "data": {
      "text/plain": [
       "StandardScaler()"
      ]
     },
     "execution_count": 52,
     "metadata": {},
     "output_type": "execute_result"
    }
   ],
   "source": [
    "scaler = StandardScaler()\n",
    "scaler.fit(features_train)"
   ]
  },
  {
   "cell_type": "code",
   "execution_count": 53,
   "metadata": {},
   "outputs": [],
   "source": [
    "features_train[features_train.columns] = scaler.transform(features_train)"
   ]
  },
  {
   "cell_type": "code",
   "execution_count": 54,
   "metadata": {},
   "outputs": [],
   "source": [
    "features_test[features_test.columns] = scaler.transform(features_test)"
   ]
  },
  {
   "cell_type": "markdown",
   "metadata": {},
   "source": [
    "**Вывод**\n",
    "\n",
    "Масштабировала признаки во обучающей и тестовой выборках с обучением на обучающей (эмпирически - дает небольшое улучшение метрики)."
   ]
  },
  {
   "cell_type": "markdown",
   "metadata": {},
   "source": [
    "### Линейная регрессия"
   ]
  },
  {
   "cell_type": "code",
   "execution_count": 55,
   "metadata": {},
   "outputs": [],
   "source": [
    "metrics = pd.DataFrame(columns = ['target_name', 'model_type', 'depth', 'n_estimators', 'smape', 'model'])"
   ]
  },
  {
   "cell_type": "code",
   "execution_count": 56,
   "metadata": {},
   "outputs": [],
   "source": [
    "def analysis_linear_regression(features, target, target_name):\n",
    "    model = LinearRegression()\n",
    "    scores = cross_val_score(model, features, target, scoring=smape_score)\n",
    "\n",
    "    metrics.loc[len(metrics.index)] = [target_name, 'LinearRegression', '-', '-', pd.Series(scores).mean(), model]    "
   ]
  },
  {
   "cell_type": "markdown",
   "metadata": {},
   "source": [
    "### Дерево решений"
   ]
  },
  {
   "cell_type": "code",
   "execution_count": 57,
   "metadata": {},
   "outputs": [],
   "source": [
    "def analysis_decision_tree_regressor(features, target, target_name):\n",
    "    \n",
    "    MAX_DEPTH = 10\n",
    "    CV = 5\n",
    "    N_ITER = 10    \n",
    "    \n",
    "    model = DecisionTreeRegressor(random_state=12345)\n",
    "    \n",
    "    distributions = {'max_depth':range(1, MAX_DEPTH + 1, 1)}    \n",
    "    grid = RandomizedSearchCV(model, distributions, cv = CV, scoring = smape_score, n_iter=N_ITER, n_jobs = -1, \\\n",
    "        random_state=12345)\n",
    "    \n",
    "    grid.fit(features, target)\n",
    "    \n",
    "    metrics.loc[len(metrics.index)] = [target_name, 'DecisionTreeRegressor', grid.best_estimator_.max_depth, '-', \\\n",
    "        grid.best_score_, grid.best_estimator_]  "
   ]
  },
  {
   "cell_type": "markdown",
   "metadata": {},
   "source": [
    "### Случайный лес"
   ]
  },
  {
   "cell_type": "code",
   "execution_count": 58,
   "metadata": {},
   "outputs": [],
   "source": [
    "def analysis_random_forest_regression(features, target, target_name):\n",
    "    \n",
    "    MAX_DEPTH = 10\n",
    "    CV = 5\n",
    "    MIN_EST = 1\n",
    "    MAX_EST = 50\n",
    "    N_ITER = 20    \n",
    "    \n",
    "    model = RandomForestRegressor(random_state=12345)\n",
    "    \n",
    "    distributions = {'max_depth':range(1, MAX_DEPTH + 1, 1), 'n_estimators':range(MIN_EST,MAX_EST + 1, 1)}    \n",
    "    grid = RandomizedSearchCV(model, distributions, cv = CV, scoring = smape_score, n_iter=N_ITER, n_jobs = -1, \\\n",
    "        random_state=12345)\n",
    "    \n",
    "    grid.fit(features, target)\n",
    "    \n",
    "    metrics.loc[len(metrics.index)] = [target_name, 'RandomForestRegressor', grid.best_estimator_.max_depth, \\\n",
    "        grid.best_estimator_.n_estimators, grid.best_score_, grid.best_estimator_]  "
   ]
  },
  {
   "cell_type": "markdown",
   "metadata": {},
   "source": [
    "### Лучшая модель для прогноза эффективности обогащения чернового концентрата `rougher.output.recovery`"
   ]
  },
  {
   "cell_type": "code",
   "execution_count": 59,
   "metadata": {},
   "outputs": [
    {
     "name": "stdout",
     "output_type": "stream",
     "text": [
      "CPU times: user 552 ms, sys: 1.07 s, total: 1.62 s\n",
      "Wall time: 1.6 s\n"
     ]
    }
   ],
   "source": [
    "%%time\n",
    "analysis_linear_regression(features_train, target_train_1, target_column_rougher)"
   ]
  },
  {
   "cell_type": "code",
   "execution_count": 60,
   "metadata": {
    "scrolled": true
   },
   "outputs": [
    {
     "name": "stdout",
     "output_type": "stream",
     "text": [
      "CPU times: user 14.8 s, sys: 49.3 ms, total: 14.9 s\n",
      "Wall time: 15.1 s\n"
     ]
    }
   ],
   "source": [
    "%%time\n",
    "analysis_decision_tree_regressor(features_train, target_train_1, target_column_rougher)"
   ]
  },
  {
   "cell_type": "code",
   "execution_count": 61,
   "metadata": {
    "scrolled": true
   },
   "outputs": [
    {
     "name": "stdout",
     "output_type": "stream",
     "text": [
      "CPU times: user 8min 24s, sys: 276 ms, total: 8min 24s\n",
      "Wall time: 8min 30s\n"
     ]
    }
   ],
   "source": [
    "%%time\n",
    "analysis_random_forest_regression(features_train, target_train_1, target_column_rougher)"
   ]
  },
  {
   "cell_type": "code",
   "execution_count": 62,
   "metadata": {},
   "outputs": [
    {
     "data": {
      "text/html": [
       "<div>\n",
       "<style scoped>\n",
       "    .dataframe tbody tr th:only-of-type {\n",
       "        vertical-align: middle;\n",
       "    }\n",
       "\n",
       "    .dataframe tbody tr th {\n",
       "        vertical-align: top;\n",
       "    }\n",
       "\n",
       "    .dataframe thead th {\n",
       "        text-align: right;\n",
       "    }\n",
       "</style>\n",
       "<table border=\"1\" class=\"dataframe\">\n",
       "  <thead>\n",
       "    <tr style=\"text-align: right;\">\n",
       "      <th></th>\n",
       "      <th>target_name</th>\n",
       "      <th>model_type</th>\n",
       "      <th>depth</th>\n",
       "      <th>n_estimators</th>\n",
       "      <th>smape</th>\n",
       "    </tr>\n",
       "  </thead>\n",
       "  <tbody>\n",
       "    <tr>\n",
       "      <th>0</th>\n",
       "      <td>rougher.output.recovery</td>\n",
       "      <td>LinearRegression</td>\n",
       "      <td>-</td>\n",
       "      <td>-</td>\n",
       "      <td>-7.211612</td>\n",
       "    </tr>\n",
       "    <tr>\n",
       "      <th>1</th>\n",
       "      <td>rougher.output.recovery</td>\n",
       "      <td>DecisionTreeRegressor</td>\n",
       "      <td>3</td>\n",
       "      <td>-</td>\n",
       "      <td>-7.274441</td>\n",
       "    </tr>\n",
       "    <tr>\n",
       "      <th>2</th>\n",
       "      <td>rougher.output.recovery</td>\n",
       "      <td>RandomForestRegressor</td>\n",
       "      <td>6</td>\n",
       "      <td>49</td>\n",
       "      <td>-6.615285</td>\n",
       "    </tr>\n",
       "  </tbody>\n",
       "</table>\n",
       "</div>"
      ],
      "text/plain": [
       "               target_name             model_type depth n_estimators     smape\n",
       "0  rougher.output.recovery       LinearRegression     -            - -7.211612\n",
       "1  rougher.output.recovery  DecisionTreeRegressor     3            - -7.274441\n",
       "2  rougher.output.recovery  RandomForestRegressor     6           49 -6.615285"
      ]
     },
     "execution_count": 62,
     "metadata": {},
     "output_type": "execute_result"
    }
   ],
   "source": [
    "metrics[['target_name', 'model_type', 'depth', 'n_estimators', 'smape']]"
   ]
  },
  {
   "cell_type": "markdown",
   "metadata": {},
   "source": [
    "### Лучшая модель для прогноза  эффективности обогащения финального продукта `final.output.recovery`"
   ]
  },
  {
   "cell_type": "code",
   "execution_count": 63,
   "metadata": {},
   "outputs": [
    {
     "name": "stdout",
     "output_type": "stream",
     "text": [
      "CPU times: user 654 ms, sys: 1.35 s, total: 2.01 s\n",
      "Wall time: 2.01 s\n"
     ]
    }
   ],
   "source": [
    "%%time\n",
    "analysis_linear_regression(features_train, target_train_2, final_column_rougher)"
   ]
  },
  {
   "cell_type": "code",
   "execution_count": 64,
   "metadata": {
    "scrolled": true
   },
   "outputs": [
    {
     "name": "stdout",
     "output_type": "stream",
     "text": [
      "CPU times: user 14 s, sys: 12 ms, total: 14 s\n",
      "Wall time: 14.3 s\n"
     ]
    }
   ],
   "source": [
    "%%time\n",
    "analysis_decision_tree_regressor(features_train, target_train_2, final_column_rougher)"
   ]
  },
  {
   "cell_type": "code",
   "execution_count": 65,
   "metadata": {},
   "outputs": [
    {
     "name": "stdout",
     "output_type": "stream",
     "text": [
      "CPU times: user 8min 8s, sys: 414 ms, total: 8min 8s\n",
      "Wall time: 8min 14s\n"
     ]
    }
   ],
   "source": [
    "%%time\n",
    "analysis_random_forest_regression(features_train, target_train_2, final_column_rougher)"
   ]
  },
  {
   "cell_type": "code",
   "execution_count": 66,
   "metadata": {},
   "outputs": [
    {
     "data": {
      "text/html": [
       "<div>\n",
       "<style scoped>\n",
       "    .dataframe tbody tr th:only-of-type {\n",
       "        vertical-align: middle;\n",
       "    }\n",
       "\n",
       "    .dataframe tbody tr th {\n",
       "        vertical-align: top;\n",
       "    }\n",
       "\n",
       "    .dataframe thead th {\n",
       "        text-align: right;\n",
       "    }\n",
       "</style>\n",
       "<table border=\"1\" class=\"dataframe\">\n",
       "  <thead>\n",
       "    <tr style=\"text-align: right;\">\n",
       "      <th></th>\n",
       "      <th>target_name</th>\n",
       "      <th>model_type</th>\n",
       "      <th>depth</th>\n",
       "      <th>n_estimators</th>\n",
       "      <th>smape</th>\n",
       "    </tr>\n",
       "  </thead>\n",
       "  <tbody>\n",
       "    <tr>\n",
       "      <th>0</th>\n",
       "      <td>rougher.output.recovery</td>\n",
       "      <td>LinearRegression</td>\n",
       "      <td>-</td>\n",
       "      <td>-</td>\n",
       "      <td>-7.211612</td>\n",
       "    </tr>\n",
       "    <tr>\n",
       "      <th>1</th>\n",
       "      <td>rougher.output.recovery</td>\n",
       "      <td>DecisionTreeRegressor</td>\n",
       "      <td>3</td>\n",
       "      <td>-</td>\n",
       "      <td>-7.274441</td>\n",
       "    </tr>\n",
       "    <tr>\n",
       "      <th>2</th>\n",
       "      <td>rougher.output.recovery</td>\n",
       "      <td>RandomForestRegressor</td>\n",
       "      <td>6</td>\n",
       "      <td>49</td>\n",
       "      <td>-6.615285</td>\n",
       "    </tr>\n",
       "    <tr>\n",
       "      <th>3</th>\n",
       "      <td>final.output.recovery</td>\n",
       "      <td>LinearRegression</td>\n",
       "      <td>-</td>\n",
       "      <td>-</td>\n",
       "      <td>-10.882901</td>\n",
       "    </tr>\n",
       "    <tr>\n",
       "      <th>4</th>\n",
       "      <td>final.output.recovery</td>\n",
       "      <td>DecisionTreeRegressor</td>\n",
       "      <td>2</td>\n",
       "      <td>-</td>\n",
       "      <td>-9.547657</td>\n",
       "    </tr>\n",
       "    <tr>\n",
       "      <th>5</th>\n",
       "      <td>final.output.recovery</td>\n",
       "      <td>RandomForestRegressor</td>\n",
       "      <td>4</td>\n",
       "      <td>42</td>\n",
       "      <td>-8.999139</td>\n",
       "    </tr>\n",
       "  </tbody>\n",
       "</table>\n",
       "</div>"
      ],
      "text/plain": [
       "               target_name             model_type depth n_estimators  \\\n",
       "0  rougher.output.recovery       LinearRegression     -            -   \n",
       "1  rougher.output.recovery  DecisionTreeRegressor     3            -   \n",
       "2  rougher.output.recovery  RandomForestRegressor     6           49   \n",
       "3    final.output.recovery       LinearRegression     -            -   \n",
       "4    final.output.recovery  DecisionTreeRegressor     2            -   \n",
       "5    final.output.recovery  RandomForestRegressor     4           42   \n",
       "\n",
       "       smape  \n",
       "0  -7.211612  \n",
       "1  -7.274441  \n",
       "2  -6.615285  \n",
       "3 -10.882901  \n",
       "4  -9.547657  \n",
       "5  -8.999139  "
      ]
     },
     "execution_count": 66,
     "metadata": {},
     "output_type": "execute_result"
    }
   ],
   "source": [
    "metrics[['target_name', 'model_type', 'depth', 'n_estimators', 'smape']]"
   ]
  },
  {
   "cell_type": "markdown",
   "metadata": {},
   "source": [
    "### Тестирование модели"
   ]
  },
  {
   "cell_type": "code",
   "execution_count": 67,
   "metadata": {},
   "outputs": [],
   "source": [
    "def get_best_model(target_name):\n",
    "\n",
    "    return metrics.query('target_name==@target_name').sort_values('smape', ascending=False).reset_index().loc[0, 'model']\n",
    "\n",
    "model_1 = get_best_model('rougher.output.recovery')\n",
    "model_2 = get_best_model('final.output.recovery')"
   ]
  },
  {
   "cell_type": "code",
   "execution_count": 68,
   "metadata": {},
   "outputs": [],
   "source": [
    "def get_total_smape(model_1, model_2, features_train, target_train_1, target_train_2):\n",
    "    model_1.fit(features_train, target_train_1)\n",
    "    model_2.fit(features_train, target_train_2)\n",
    "    \n",
    "    return total_smape(\n",
    "        smape(target_test_1, model_1.predict(features_test)), \n",
    "        smape(target_test_2, model_2.predict(features_test)))"
   ]
  },
  {
   "cell_type": "code",
   "execution_count": 69,
   "metadata": {},
   "outputs": [
    {
     "name": "stdout",
     "output_type": "stream",
     "text": [
      "Итоговая sMAPE лучших моделей на тестовой выборке 7.3283990667622305\n"
     ]
    }
   ],
   "source": [
    "print(f'Итоговая sMAPE лучших моделей на тестовой выборке {get_total_smape(model_1, model_2, features_train, target_train_1, target_train_2)}')"
   ]
  },
  {
   "cell_type": "code",
   "execution_count": 70,
   "metadata": {},
   "outputs": [
    {
     "name": "stdout",
     "output_type": "stream",
     "text": [
      "Итоговая sMAPE наивной модели на тестовой выборке 7.778089380065665\n"
     ]
    }
   ],
   "source": [
    "dummy_model_1 = DummyRegressor(strategy=\"mean\")\n",
    "dummy_model_2 = DummyRegressor(strategy=\"mean\")\n",
    "print(f'Итоговая sMAPE наивной модели на тестовой выборке {get_total_smape(dummy_model_1, dummy_model_2, features_train, target_train_1, target_train_2)}')"
   ]
  },
  {
   "cell_type": "code",
   "execution_count": 71,
   "metadata": {},
   "outputs": [
    {
     "data": {
      "text/plain": [
       "count    5123.000000\n",
       "mean       86.657027\n",
       "std         5.716215\n",
       "min        10.430587\n",
       "25%        84.757174\n",
       "50%        87.466117\n",
       "75%        89.753819\n",
       "max        99.169699\n",
       "Name: rougher.output.recovery, dtype: float64"
      ]
     },
     "execution_count": 71,
     "metadata": {},
     "output_type": "execute_result"
    }
   ],
   "source": [
    "target_test_1.describe()"
   ]
  },
  {
   "cell_type": "code",
   "execution_count": 72,
   "metadata": {},
   "outputs": [
    {
     "data": {
      "text/plain": [
       "count    5123.000000\n",
       "mean       69.121860\n",
       "std         7.369418\n",
       "min         2.030917\n",
       "25%        65.820501\n",
       "50%        69.988591\n",
       "75%        73.343636\n",
       "max       100.000000\n",
       "Name: final.output.recovery, dtype: float64"
      ]
     },
     "execution_count": 72,
     "metadata": {},
     "output_type": "execute_result"
    }
   ],
   "source": [
    "target_test_2.describe()"
   ]
  },
  {
   "cell_type": "markdown",
   "metadata": {},
   "source": [
    "**Вывод**\n",
    "\n",
    "Провела обучение разных моделей с подбором гиперпараметров и оценкой качества кросс-валидацией.\n",
    "\n",
    "Лучшей моделью оказался случайный лес - для обоих целевых признаков - с разными гиперпараметрами:\n",
    "* количество деревьев 49, максимальная глубина дерева 6 для `rougher.output.recovery`.\n",
    "* количество деревьев 42, максимальная глубина дерева 4 для `final.output.recovery`.\n",
    "\n",
    "Итоговая sMAPE на тестовой выборке составила 7.328, что лучше результата наивной модели, равного 7.778. Это означает, что модель ошибается в рамках 7.3%.\n",
    "\n",
    "Такую небольшую разницу относительно наивной модели можно объяснить тем, что в обоих случаях большинство значений целевых признаков лежат в диапазоне с разницей 6-11% (84-89 для первого и 65-73 для второго). Большей разницей в случае второго целевого признака кстати объясняется и более высокая sMAPE."
   ]
  }
 ],
 "metadata": {
  "ExecuteTimeLog": [
   {
    "duration": 73,
    "start_time": "2022-04-04T13:29:41.202Z"
   },
   {
    "duration": 552,
    "start_time": "2022-04-04T13:29:44.343Z"
   },
   {
    "duration": 131,
    "start_time": "2022-04-04T13:29:46.229Z"
   },
   {
    "duration": 18,
    "start_time": "2022-04-04T13:30:06.032Z"
   },
   {
    "duration": 372,
    "start_time": "2022-04-04T13:30:13.134Z"
   },
   {
    "duration": 6,
    "start_time": "2022-04-04T13:30:54.262Z"
   },
   {
    "duration": 341,
    "start_time": "2022-04-04T13:31:15.315Z"
   },
   {
    "duration": 109,
    "start_time": "2022-04-04T13:32:16.436Z"
   },
   {
    "duration": 451,
    "start_time": "2022-04-04T13:33:09.083Z"
   },
   {
    "duration": 447,
    "start_time": "2022-04-04T13:33:28.810Z"
   },
   {
    "duration": 7,
    "start_time": "2022-04-04T13:56:41.325Z"
   },
   {
    "duration": 7,
    "start_time": "2022-04-04T14:26:53.797Z"
   },
   {
    "duration": 16,
    "start_time": "2022-04-04T14:35:04.168Z"
   },
   {
    "duration": 1048,
    "start_time": "2022-04-04T14:38:32.378Z"
   },
   {
    "duration": 9,
    "start_time": "2022-04-04T14:39:21.157Z"
   },
   {
    "duration": 7,
    "start_time": "2022-04-04T14:47:09.068Z"
   },
   {
    "duration": 40,
    "start_time": "2022-04-04T14:48:14.498Z"
   },
   {
    "duration": 24,
    "start_time": "2022-04-04T14:48:19.075Z"
   },
   {
    "duration": 131,
    "start_time": "2022-04-04T14:49:49.408Z"
   },
   {
    "duration": 7,
    "start_time": "2022-04-04T14:54:12.762Z"
   },
   {
    "duration": 7,
    "start_time": "2022-04-04T14:58:20.936Z"
   },
   {
    "duration": 60,
    "start_time": "2022-04-04T14:58:29.019Z"
   },
   {
    "duration": 7,
    "start_time": "2022-04-04T14:58:36.632Z"
   },
   {
    "duration": 12,
    "start_time": "2022-04-04T14:58:40.854Z"
   },
   {
    "duration": 8,
    "start_time": "2022-04-04T14:58:45.305Z"
   },
   {
    "duration": 16,
    "start_time": "2022-04-04T14:59:05.583Z"
   },
   {
    "duration": 12,
    "start_time": "2022-04-04T14:59:17.264Z"
   },
   {
    "duration": 7,
    "start_time": "2022-04-04T14:59:20.802Z"
   },
   {
    "duration": 116,
    "start_time": "2022-04-04T15:04:53.831Z"
   },
   {
    "duration": 115,
    "start_time": "2022-04-04T15:04:59.073Z"
   },
   {
    "duration": 130,
    "start_time": "2022-04-04T15:05:06.223Z"
   },
   {
    "duration": 138,
    "start_time": "2022-04-04T15:05:23.016Z"
   },
   {
    "duration": 110,
    "start_time": "2022-04-04T15:05:33.559Z"
   },
   {
    "duration": 118,
    "start_time": "2022-04-04T15:05:40.471Z"
   },
   {
    "duration": 25,
    "start_time": "2022-04-04T15:07:07.799Z"
   },
   {
    "duration": 113,
    "start_time": "2022-04-04T15:07:14.897Z"
   },
   {
    "duration": 137,
    "start_time": "2022-04-04T15:07:22.797Z"
   },
   {
    "duration": 12,
    "start_time": "2022-04-04T15:07:39.141Z"
   },
   {
    "duration": 11,
    "start_time": "2022-04-04T15:07:55.613Z"
   },
   {
    "duration": 150,
    "start_time": "2022-04-04T15:08:05.172Z"
   },
   {
    "duration": 24,
    "start_time": "2022-04-04T15:08:08.413Z"
   },
   {
    "duration": 12,
    "start_time": "2022-04-04T15:08:48.491Z"
   },
   {
    "duration": 12,
    "start_time": "2022-04-04T15:08:52.692Z"
   },
   {
    "duration": 23,
    "start_time": "2022-04-04T15:08:56.821Z"
   },
   {
    "duration": 11,
    "start_time": "2022-04-04T15:09:00.419Z"
   },
   {
    "duration": 24,
    "start_time": "2022-04-04T15:09:03.876Z"
   },
   {
    "duration": 19,
    "start_time": "2022-04-04T15:09:37.533Z"
   },
   {
    "duration": 20,
    "start_time": "2022-04-04T15:09:46.674Z"
   },
   {
    "duration": 9,
    "start_time": "2022-04-04T15:14:52.900Z"
   },
   {
    "duration": 8,
    "start_time": "2022-04-04T15:15:04.422Z"
   },
   {
    "duration": 23,
    "start_time": "2022-04-04T15:18:54.224Z"
   },
   {
    "duration": 4,
    "start_time": "2022-04-04T15:26:25.384Z"
   },
   {
    "duration": 12,
    "start_time": "2022-04-04T15:26:52.719Z"
   },
   {
    "duration": 13,
    "start_time": "2022-04-04T15:27:15.713Z"
   },
   {
    "duration": 13,
    "start_time": "2022-04-04T15:27:19.525Z"
   },
   {
    "duration": 11,
    "start_time": "2022-04-04T15:31:13.122Z"
   },
   {
    "duration": 11,
    "start_time": "2022-04-04T15:31:17.226Z"
   },
   {
    "duration": 12,
    "start_time": "2022-04-04T15:31:23.464Z"
   },
   {
    "duration": 18,
    "start_time": "2022-04-04T15:31:43.329Z"
   },
   {
    "duration": 17,
    "start_time": "2022-04-04T15:31:47.200Z"
   },
   {
    "duration": 12,
    "start_time": "2022-04-04T15:31:57.880Z"
   },
   {
    "duration": 4043,
    "start_time": "2022-04-04T15:37:41.634Z"
   },
   {
    "duration": 16,
    "start_time": "2022-04-04T15:37:56.145Z"
   },
   {
    "duration": 966,
    "start_time": "2022-04-04T15:38:57.433Z"
   },
   {
    "duration": 7,
    "start_time": "2022-04-04T15:39:17.472Z"
   },
   {
    "duration": 6,
    "start_time": "2022-04-04T15:39:32.472Z"
   },
   {
    "duration": 890,
    "start_time": "2022-04-04T15:39:56.937Z"
   },
   {
    "duration": 12,
    "start_time": "2022-04-04T15:40:19.000Z"
   },
   {
    "duration": 12,
    "start_time": "2022-04-04T15:40:38.838Z"
   },
   {
    "duration": 13,
    "start_time": "2022-04-04T15:41:21.727Z"
   },
   {
    "duration": 4,
    "start_time": "2022-04-04T15:44:57.602Z"
   },
   {
    "duration": 14,
    "start_time": "2022-04-04T15:45:06.922Z"
   },
   {
    "duration": 4,
    "start_time": "2022-04-04T15:47:40.303Z"
   },
   {
    "duration": 4,
    "start_time": "2022-04-04T15:47:49.399Z"
   },
   {
    "duration": 92,
    "start_time": "2022-04-04T15:48:19.238Z"
   },
   {
    "duration": 1579,
    "start_time": "2022-04-04T15:50:14.700Z"
   },
   {
    "duration": 5,
    "start_time": "2022-04-04T15:50:16.282Z"
   },
   {
    "duration": 501,
    "start_time": "2022-04-04T15:50:16.289Z"
   },
   {
    "duration": 325,
    "start_time": "2022-04-04T15:50:16.794Z"
   },
   {
    "duration": 102,
    "start_time": "2022-04-04T15:50:17.121Z"
   },
   {
    "duration": 21,
    "start_time": "2022-04-04T15:50:17.225Z"
   },
   {
    "duration": 36,
    "start_time": "2022-04-04T15:50:17.248Z"
   },
   {
    "duration": 7,
    "start_time": "2022-04-04T15:50:17.286Z"
   },
   {
    "duration": 14,
    "start_time": "2022-04-04T15:50:17.295Z"
   },
   {
    "duration": 20,
    "start_time": "2022-04-04T15:50:17.312Z"
   },
   {
    "duration": 117,
    "start_time": "2022-04-04T15:50:17.334Z"
   },
   {
    "duration": 93,
    "start_time": "2022-04-04T15:59:05.792Z"
   },
   {
    "duration": 44,
    "start_time": "2022-04-04T19:23:20.571Z"
   },
   {
    "duration": 1121,
    "start_time": "2022-04-04T19:23:27.744Z"
   },
   {
    "duration": 2,
    "start_time": "2022-04-04T19:23:28.867Z"
   },
   {
    "duration": 339,
    "start_time": "2022-04-04T19:23:28.870Z"
   },
   {
    "duration": 239,
    "start_time": "2022-04-04T19:23:29.212Z"
   },
   {
    "duration": 73,
    "start_time": "2022-04-04T19:23:29.453Z"
   },
   {
    "duration": 13,
    "start_time": "2022-04-04T19:23:29.528Z"
   },
   {
    "duration": 30,
    "start_time": "2022-04-04T19:23:29.543Z"
   },
   {
    "duration": 5,
    "start_time": "2022-04-04T19:23:29.575Z"
   },
   {
    "duration": 23,
    "start_time": "2022-04-04T19:23:29.582Z"
   },
   {
    "duration": 17,
    "start_time": "2022-04-04T19:23:29.607Z"
   },
   {
    "duration": 138,
    "start_time": "2022-04-04T19:23:29.626Z"
   },
   {
    "duration": 1,
    "start_time": "2022-04-04T19:23:29.765Z"
   },
   {
    "duration": 4,
    "start_time": "2022-04-04T19:25:50.024Z"
   },
   {
    "duration": 14,
    "start_time": "2022-04-04T19:25:59.544Z"
   },
   {
    "duration": 9,
    "start_time": "2022-04-04T19:26:13.454Z"
   },
   {
    "duration": 6,
    "start_time": "2022-04-04T19:26:21.813Z"
   },
   {
    "duration": 6,
    "start_time": "2022-04-04T19:26:35.726Z"
   },
   {
    "duration": 6,
    "start_time": "2022-04-04T19:26:51.861Z"
   },
   {
    "duration": 5,
    "start_time": "2022-04-04T19:27:06.470Z"
   },
   {
    "duration": 7,
    "start_time": "2022-04-04T19:30:20.240Z"
   },
   {
    "duration": 11,
    "start_time": "2022-04-04T19:30:57.136Z"
   },
   {
    "duration": 51,
    "start_time": "2022-04-04T19:34:20.852Z"
   },
   {
    "duration": 538,
    "start_time": "2022-04-04T19:51:23.009Z"
   },
   {
    "duration": 109,
    "start_time": "2022-04-04T19:51:56.448Z"
   },
   {
    "duration": 110,
    "start_time": "2022-04-04T20:05:22.424Z"
   },
   {
    "duration": 3,
    "start_time": "2022-04-04T20:05:58.328Z"
   },
   {
    "duration": 3,
    "start_time": "2022-04-04T20:06:05.144Z"
   },
   {
    "duration": 2,
    "start_time": "2022-04-04T20:06:29.759Z"
   },
   {
    "duration": 6,
    "start_time": "2022-04-04T20:14:45.060Z"
   },
   {
    "duration": 5,
    "start_time": "2022-04-04T20:14:49.191Z"
   },
   {
    "duration": 7,
    "start_time": "2022-04-04T20:14:52.438Z"
   },
   {
    "duration": 6,
    "start_time": "2022-04-04T20:15:05.470Z"
   },
   {
    "duration": 8,
    "start_time": "2022-04-04T20:16:38.564Z"
   },
   {
    "duration": 12,
    "start_time": "2022-04-04T20:16:42.972Z"
   },
   {
    "duration": 53,
    "start_time": "2022-04-04T20:17:59.938Z"
   },
   {
    "duration": 23,
    "start_time": "2022-04-04T20:18:09.144Z"
   },
   {
    "duration": 135,
    "start_time": "2022-04-04T20:18:15.346Z"
   },
   {
    "duration": 144,
    "start_time": "2022-04-04T20:19:31.929Z"
   },
   {
    "duration": 133,
    "start_time": "2022-04-04T20:19:37.328Z"
   },
   {
    "duration": 9,
    "start_time": "2022-04-04T20:19:41.953Z"
   },
   {
    "duration": 11,
    "start_time": "2022-04-04T20:19:46.008Z"
   },
   {
    "duration": 3,
    "start_time": "2022-04-04T20:20:09.687Z"
   },
   {
    "duration": 444,
    "start_time": "2022-04-04T20:20:18.464Z"
   },
   {
    "duration": 375,
    "start_time": "2022-04-04T20:21:22.759Z"
   },
   {
    "duration": 383,
    "start_time": "2022-04-04T20:24:23.539Z"
   },
   {
    "duration": 2,
    "start_time": "2022-04-04T20:24:41.330Z"
   },
   {
    "duration": 3,
    "start_time": "2022-04-04T20:24:43.482Z"
   },
   {
    "duration": 384,
    "start_time": "2022-04-04T20:24:45.051Z"
   },
   {
    "duration": 3,
    "start_time": "2022-04-04T20:25:20.466Z"
   },
   {
    "duration": 1416,
    "start_time": "2022-04-04T20:26:05.673Z"
   },
   {
    "duration": 1659,
    "start_time": "2022-04-04T20:26:41.985Z"
   },
   {
    "duration": 361,
    "start_time": "2022-04-04T20:26:56.456Z"
   },
   {
    "duration": 2,
    "start_time": "2022-04-04T20:27:27.440Z"
   },
   {
    "duration": 3,
    "start_time": "2022-04-04T20:27:29.526Z"
   },
   {
    "duration": 340,
    "start_time": "2022-04-04T20:27:31.359Z"
   },
   {
    "duration": 3,
    "start_time": "2022-04-04T20:27:42.031Z"
   },
   {
    "duration": 340,
    "start_time": "2022-04-04T20:27:45.886Z"
   },
   {
    "duration": 303,
    "start_time": "2022-04-04T20:27:56.214Z"
   },
   {
    "duration": 291,
    "start_time": "2022-04-04T20:28:57.829Z"
   },
   {
    "duration": 394,
    "start_time": "2022-04-04T20:29:07.822Z"
   },
   {
    "duration": 306,
    "start_time": "2022-04-04T20:30:00.268Z"
   },
   {
    "duration": 300,
    "start_time": "2022-04-04T20:31:17.318Z"
   },
   {
    "duration": 292,
    "start_time": "2022-04-04T20:31:22.099Z"
   },
   {
    "duration": 2951,
    "start_time": "2022-04-04T20:38:01.842Z"
   },
   {
    "duration": 1436,
    "start_time": "2022-04-04T20:38:15.666Z"
   },
   {
    "duration": 293,
    "start_time": "2022-04-04T20:39:26.977Z"
   },
   {
    "duration": 2593,
    "start_time": "2022-04-04T20:39:33.986Z"
   },
   {
    "duration": 1385,
    "start_time": "2022-04-04T20:42:04.852Z"
   },
   {
    "duration": 2038,
    "start_time": "2022-04-05T09:44:40.975Z"
   },
   {
    "duration": 3,
    "start_time": "2022-04-05T09:44:43.030Z"
   },
   {
    "duration": 323,
    "start_time": "2022-04-05T09:44:45.023Z"
   },
   {
    "duration": 248,
    "start_time": "2022-04-05T09:44:58.102Z"
   },
   {
    "duration": 85,
    "start_time": "2022-04-05T09:45:05.735Z"
   },
   {
    "duration": 12,
    "start_time": "2022-04-05T09:45:25.294Z"
   },
   {
    "duration": 13,
    "start_time": "2022-04-05T09:45:34.887Z"
   },
   {
    "duration": 6,
    "start_time": "2022-04-05T09:45:40.030Z"
   },
   {
    "duration": 3,
    "start_time": "2022-04-05T09:45:44.174Z"
   },
   {
    "duration": 11,
    "start_time": "2022-04-05T09:47:00.941Z"
   },
   {
    "duration": 49,
    "start_time": "2022-04-05T09:49:35.174Z"
   },
   {
    "duration": 10,
    "start_time": "2022-04-05T09:49:56.888Z"
   },
   {
    "duration": 8,
    "start_time": "2022-04-05T09:50:17.168Z"
   },
   {
    "duration": 9,
    "start_time": "2022-04-05T09:50:37.848Z"
   },
   {
    "duration": 11,
    "start_time": "2022-04-05T09:51:39.311Z"
   },
   {
    "duration": 99,
    "start_time": "2022-04-05T09:52:01.806Z"
   },
   {
    "duration": 9,
    "start_time": "2022-04-05T09:52:06.782Z"
   },
   {
    "duration": 10,
    "start_time": "2022-04-05T09:52:12.135Z"
   },
   {
    "duration": 16,
    "start_time": "2022-04-05T09:57:32.719Z"
   },
   {
    "duration": 10,
    "start_time": "2022-04-05T09:57:38.581Z"
   },
   {
    "duration": 13,
    "start_time": "2022-04-05T09:58:29.430Z"
   },
   {
    "duration": 13,
    "start_time": "2022-04-05T09:58:44.062Z"
   },
   {
    "duration": 4,
    "start_time": "2022-04-05T10:06:48.564Z"
   },
   {
    "duration": 5,
    "start_time": "2022-04-05T10:07:01.131Z"
   },
   {
    "duration": 4,
    "start_time": "2022-04-05T10:07:22.132Z"
   },
   {
    "duration": 4,
    "start_time": "2022-04-05T10:07:52.971Z"
   },
   {
    "duration": 3,
    "start_time": "2022-04-05T10:08:24.715Z"
   },
   {
    "duration": 4,
    "start_time": "2022-04-05T10:08:26.666Z"
   },
   {
    "duration": 5,
    "start_time": "2022-04-05T10:09:34.697Z"
   },
   {
    "duration": 5,
    "start_time": "2022-04-05T10:09:54.625Z"
   },
   {
    "duration": 9,
    "start_time": "2022-04-05T10:10:26.152Z"
   },
   {
    "duration": 239,
    "start_time": "2022-04-05T10:10:30.392Z"
   },
   {
    "duration": 11,
    "start_time": "2022-04-05T10:10:34.399Z"
   },
   {
    "duration": 11,
    "start_time": "2022-04-05T10:12:42.212Z"
   },
   {
    "duration": 9,
    "start_time": "2022-04-05T10:13:58.082Z"
   },
   {
    "duration": 6,
    "start_time": "2022-04-05T10:14:10.130Z"
   },
   {
    "duration": 7,
    "start_time": "2022-04-05T10:17:00.600Z"
   },
   {
    "duration": 4499,
    "start_time": "2022-04-05T10:18:32.421Z"
   },
   {
    "duration": 4801,
    "start_time": "2022-04-05T10:18:38.893Z"
   },
   {
    "duration": 6866,
    "start_time": "2022-04-05T10:19:01.102Z"
   },
   {
    "duration": 223,
    "start_time": "2022-04-05T10:19:42.036Z"
   },
   {
    "duration": 1092,
    "start_time": "2022-04-05T10:20:15.793Z"
   },
   {
    "duration": 34,
    "start_time": "2022-04-05T10:20:29.195Z"
   },
   {
    "duration": 3,
    "start_time": "2022-04-05T10:33:28.027Z"
   },
   {
    "duration": 3,
    "start_time": "2022-04-05T10:33:31.499Z"
   },
   {
    "duration": 13,
    "start_time": "2022-04-05T10:33:42.043Z"
   },
   {
    "duration": 13,
    "start_time": "2022-04-05T10:34:22.602Z"
   },
   {
    "duration": 10,
    "start_time": "2022-04-05T10:34:29.499Z"
   },
   {
    "duration": 10,
    "start_time": "2022-04-05T10:34:41.370Z"
   },
   {
    "duration": 3,
    "start_time": "2022-04-05T10:35:04.689Z"
   },
   {
    "duration": 4,
    "start_time": "2022-04-05T10:35:15.944Z"
   },
   {
    "duration": 34,
    "start_time": "2022-04-05T10:36:06.595Z"
   },
   {
    "duration": 4,
    "start_time": "2022-04-05T10:36:57.111Z"
   },
   {
    "duration": 5,
    "start_time": "2022-04-05T10:37:55.821Z"
   },
   {
    "duration": 9,
    "start_time": "2022-04-05T10:41:14.900Z"
   },
   {
    "duration": 10,
    "start_time": "2022-04-05T10:41:19.106Z"
   },
   {
    "duration": 13,
    "start_time": "2022-04-05T10:41:47.817Z"
   },
   {
    "duration": 4,
    "start_time": "2022-04-05T10:42:10.912Z"
   },
   {
    "duration": 5,
    "start_time": "2022-04-05T10:42:38.123Z"
   },
   {
    "duration": 13,
    "start_time": "2022-04-05T10:42:53.976Z"
   },
   {
    "duration": 8,
    "start_time": "2022-04-05T10:43:54.342Z"
   },
   {
    "duration": 16,
    "start_time": "2022-04-05T10:44:04.415Z"
   },
   {
    "duration": 27,
    "start_time": "2022-04-05T10:46:02.724Z"
   },
   {
    "duration": 27,
    "start_time": "2022-04-05T10:46:27.532Z"
   },
   {
    "duration": 26,
    "start_time": "2022-04-05T10:46:51.740Z"
   },
   {
    "duration": 26,
    "start_time": "2022-04-05T10:57:01.184Z"
   },
   {
    "duration": 16,
    "start_time": "2022-04-05T10:57:27.659Z"
   },
   {
    "duration": 1504,
    "start_time": "2022-04-05T10:58:22.074Z"
   },
   {
    "duration": 4,
    "start_time": "2022-04-05T10:58:23.580Z"
   },
   {
    "duration": 351,
    "start_time": "2022-04-05T10:58:23.585Z"
   },
   {
    "duration": 245,
    "start_time": "2022-04-05T10:58:23.938Z"
   },
   {
    "duration": 79,
    "start_time": "2022-04-05T10:58:24.185Z"
   },
   {
    "duration": 11,
    "start_time": "2022-04-05T10:58:24.266Z"
   },
   {
    "duration": 34,
    "start_time": "2022-04-05T10:58:24.279Z"
   },
   {
    "duration": 25,
    "start_time": "2022-04-05T10:58:24.315Z"
   },
   {
    "duration": 47,
    "start_time": "2022-04-05T10:58:24.341Z"
   },
   {
    "duration": 39,
    "start_time": "2022-04-05T10:58:24.390Z"
   },
   {
    "duration": 44,
    "start_time": "2022-04-05T10:58:24.430Z"
   },
   {
    "duration": 31,
    "start_time": "2022-04-05T10:58:24.476Z"
   },
   {
    "duration": 106,
    "start_time": "2022-04-05T10:58:41.115Z"
   },
   {
    "duration": 18,
    "start_time": "2022-04-05T10:58:51.803Z"
   },
   {
    "duration": 30,
    "start_time": "2022-04-05T10:59:05.820Z"
   },
   {
    "duration": 21,
    "start_time": "2022-04-05T11:00:12.866Z"
   },
   {
    "duration": 29,
    "start_time": "2022-04-05T11:10:54.793Z"
   },
   {
    "duration": 36,
    "start_time": "2022-04-05T11:11:31.588Z"
   },
   {
    "duration": 83,
    "start_time": "2022-04-05T11:12:48.594Z"
   },
   {
    "duration": 88,
    "start_time": "2022-04-05T11:13:09.473Z"
   },
   {
    "duration": 80,
    "start_time": "2022-04-05T11:14:42.536Z"
   },
   {
    "duration": 71,
    "start_time": "2022-04-05T11:14:49.798Z"
   },
   {
    "duration": 18,
    "start_time": "2022-04-05T11:15:17.215Z"
   },
   {
    "duration": 10,
    "start_time": "2022-04-05T11:16:11.695Z"
   },
   {
    "duration": 1676,
    "start_time": "2022-04-05T11:16:27.568Z"
   },
   {
    "duration": 2,
    "start_time": "2022-04-05T11:16:29.246Z"
   },
   {
    "duration": 336,
    "start_time": "2022-04-05T11:16:29.250Z"
   },
   {
    "duration": 248,
    "start_time": "2022-04-05T11:16:29.588Z"
   },
   {
    "duration": 80,
    "start_time": "2022-04-05T11:16:29.837Z"
   },
   {
    "duration": 10,
    "start_time": "2022-04-05T11:16:29.919Z"
   },
   {
    "duration": 12,
    "start_time": "2022-04-05T11:16:29.931Z"
   },
   {
    "duration": 21,
    "start_time": "2022-04-05T11:16:29.945Z"
   },
   {
    "duration": 6,
    "start_time": "2022-04-05T11:16:29.967Z"
   },
   {
    "duration": 12,
    "start_time": "2022-04-05T11:16:29.976Z"
   },
   {
    "duration": 12,
    "start_time": "2022-04-05T11:16:29.990Z"
   },
   {
    "duration": 3,
    "start_time": "2022-04-05T11:16:30.004Z"
   },
   {
    "duration": 113,
    "start_time": "2022-04-05T11:16:30.008Z"
   },
   {
    "duration": 9,
    "start_time": "2022-04-05T11:16:30.123Z"
   },
   {
    "duration": 68,
    "start_time": "2022-04-05T11:16:30.134Z"
   },
   {
    "duration": 3,
    "start_time": "2022-04-05T11:16:30.204Z"
   },
   {
    "duration": 14,
    "start_time": "2022-04-05T11:16:30.208Z"
   },
   {
    "duration": 307,
    "start_time": "2022-04-05T11:16:30.223Z"
   },
   {
    "duration": 1438,
    "start_time": "2022-04-05T11:16:30.532Z"
   },
   {
    "duration": 10,
    "start_time": "2022-04-05T11:18:33.704Z"
   },
   {
    "duration": 17,
    "start_time": "2022-04-05T11:18:42.039Z"
   },
   {
    "duration": 11,
    "start_time": "2022-04-05T11:19:16.991Z"
   },
   {
    "duration": 9,
    "start_time": "2022-04-05T11:19:28.390Z"
   },
   {
    "duration": 7,
    "start_time": "2022-04-05T11:19:36.887Z"
   },
   {
    "duration": 9,
    "start_time": "2022-04-05T11:20:15.917Z"
   },
   {
    "duration": 2352,
    "start_time": "2022-04-05T14:39:01.249Z"
   },
   {
    "duration": 4,
    "start_time": "2022-04-05T14:39:03.604Z"
   },
   {
    "duration": 480,
    "start_time": "2022-04-05T14:39:03.611Z"
   },
   {
    "duration": 333,
    "start_time": "2022-04-05T14:39:04.095Z"
   },
   {
    "duration": 106,
    "start_time": "2022-04-05T14:39:04.430Z"
   },
   {
    "duration": 17,
    "start_time": "2022-04-05T14:39:04.538Z"
   },
   {
    "duration": 31,
    "start_time": "2022-04-05T14:39:04.557Z"
   },
   {
    "duration": 7,
    "start_time": "2022-04-05T14:39:04.591Z"
   },
   {
    "duration": 35,
    "start_time": "2022-04-05T14:39:04.600Z"
   },
   {
    "duration": 30,
    "start_time": "2022-04-05T14:39:04.639Z"
   },
   {
    "duration": 21,
    "start_time": "2022-04-05T14:39:04.671Z"
   },
   {
    "duration": 10,
    "start_time": "2022-04-05T14:39:04.694Z"
   },
   {
    "duration": 147,
    "start_time": "2022-04-05T14:39:04.706Z"
   },
   {
    "duration": 22,
    "start_time": "2022-04-05T14:39:04.856Z"
   },
   {
    "duration": 104,
    "start_time": "2022-04-05T14:39:04.880Z"
   },
   {
    "duration": 4,
    "start_time": "2022-04-05T14:39:04.986Z"
   },
   {
    "duration": 6,
    "start_time": "2022-04-05T14:39:04.992Z"
   },
   {
    "duration": 581,
    "start_time": "2022-04-05T14:39:05.000Z"
   },
   {
    "duration": 2605,
    "start_time": "2022-04-05T14:39:05.583Z"
   },
   {
    "duration": 5,
    "start_time": "2022-04-05T14:39:35.925Z"
   },
   {
    "duration": 5,
    "start_time": "2022-04-05T14:39:47.004Z"
   },
   {
    "duration": 6,
    "start_time": "2022-04-05T14:39:54.958Z"
   },
   {
    "duration": 92,
    "start_time": "2022-04-05T14:51:20.661Z"
   },
   {
    "duration": 5,
    "start_time": "2022-04-05T14:51:51.307Z"
   },
   {
    "duration": 94,
    "start_time": "2022-04-05T14:52:04.101Z"
   },
   {
    "duration": 418,
    "start_time": "2022-04-05T14:54:45.894Z"
   },
   {
    "duration": 2052,
    "start_time": "2022-04-05T14:57:18.752Z"
   },
   {
    "duration": 4,
    "start_time": "2022-04-05T14:57:20.806Z"
   },
   {
    "duration": 444,
    "start_time": "2022-04-05T14:57:20.812Z"
   },
   {
    "duration": 327,
    "start_time": "2022-04-05T14:57:21.259Z"
   },
   {
    "duration": 104,
    "start_time": "2022-04-05T14:57:21.588Z"
   },
   {
    "duration": 19,
    "start_time": "2022-04-05T14:57:21.694Z"
   },
   {
    "duration": 19,
    "start_time": "2022-04-05T14:57:21.716Z"
   },
   {
    "duration": 36,
    "start_time": "2022-04-05T14:57:21.737Z"
   },
   {
    "duration": 24,
    "start_time": "2022-04-05T14:57:21.775Z"
   },
   {
    "duration": 18,
    "start_time": "2022-04-05T14:57:21.802Z"
   },
   {
    "duration": 20,
    "start_time": "2022-04-05T14:57:21.822Z"
   },
   {
    "duration": 9,
    "start_time": "2022-04-05T14:57:21.844Z"
   },
   {
    "duration": 189,
    "start_time": "2022-04-05T14:57:21.855Z"
   },
   {
    "duration": 29,
    "start_time": "2022-04-05T14:57:22.046Z"
   },
   {
    "duration": 5,
    "start_time": "2022-04-05T14:57:22.077Z"
   },
   {
    "duration": 21,
    "start_time": "2022-04-05T14:57:22.084Z"
   },
   {
    "duration": 19,
    "start_time": "2022-04-05T14:57:22.107Z"
   },
   {
    "duration": 116,
    "start_time": "2022-04-05T14:57:22.127Z"
   },
   {
    "duration": 4,
    "start_time": "2022-04-05T14:57:22.245Z"
   },
   {
    "duration": 16,
    "start_time": "2022-04-05T14:57:22.251Z"
   },
   {
    "duration": 602,
    "start_time": "2022-04-05T14:57:22.270Z"
   },
   {
    "duration": 2581,
    "start_time": "2022-04-05T14:57:22.875Z"
   },
   {
    "duration": 154,
    "start_time": "2022-04-05T15:02:04.929Z"
   },
   {
    "duration": 1715,
    "start_time": "2022-04-05T15:02:09.975Z"
   },
   {
    "duration": 7,
    "start_time": "2022-04-05T15:02:18.911Z"
   },
   {
    "duration": 9,
    "start_time": "2022-04-05T15:05:52.211Z"
   },
   {
    "duration": 16,
    "start_time": "2022-04-05T15:05:56.419Z"
   },
   {
    "duration": 20,
    "start_time": "2022-04-05T15:06:03.666Z"
   },
   {
    "duration": 35,
    "start_time": "2022-04-05T15:06:16.378Z"
   },
   {
    "duration": 41,
    "start_time": "2022-04-05T15:07:06.697Z"
   },
   {
    "duration": 159,
    "start_time": "2022-04-05T15:07:12.464Z"
   },
   {
    "duration": 118,
    "start_time": "2022-04-05T15:07:18.992Z"
   },
   {
    "duration": 31,
    "start_time": "2022-04-05T15:07:35.767Z"
   },
   {
    "duration": 34,
    "start_time": "2022-04-05T15:08:40.543Z"
   },
   {
    "duration": 4,
    "start_time": "2022-04-05T15:23:15.361Z"
   },
   {
    "duration": 17,
    "start_time": "2022-04-05T15:23:15.367Z"
   },
   {
    "duration": 624,
    "start_time": "2022-04-05T15:23:15.386Z"
   },
   {
    "duration": 2424,
    "start_time": "2022-04-05T15:23:22.222Z"
   },
   {
    "duration": 498,
    "start_time": "2022-04-05T15:37:36.218Z"
   },
   {
    "duration": 5991,
    "start_time": "2022-04-05T15:37:49.701Z"
   },
   {
    "duration": 6206,
    "start_time": "2022-04-05T15:39:51.532Z"
   },
   {
    "duration": 6476,
    "start_time": "2022-04-05T15:40:30.633Z"
   },
   {
    "duration": 6073,
    "start_time": "2022-04-05T15:41:22.743Z"
   },
   {
    "duration": 6122,
    "start_time": "2022-04-05T15:43:30.774Z"
   },
   {
    "duration": 6157,
    "start_time": "2022-04-05T15:43:45.116Z"
   },
   {
    "duration": 1866,
    "start_time": "2022-04-05T15:44:07.858Z"
   },
   {
    "duration": 3,
    "start_time": "2022-04-05T15:44:09.727Z"
   },
   {
    "duration": 452,
    "start_time": "2022-04-05T15:44:09.732Z"
   },
   {
    "duration": 321,
    "start_time": "2022-04-05T15:44:10.187Z"
   },
   {
    "duration": 101,
    "start_time": "2022-04-05T15:44:10.510Z"
   },
   {
    "duration": 18,
    "start_time": "2022-04-05T15:44:10.614Z"
   },
   {
    "duration": 42,
    "start_time": "2022-04-05T15:44:10.634Z"
   },
   {
    "duration": 7,
    "start_time": "2022-04-05T15:44:10.680Z"
   },
   {
    "duration": 6,
    "start_time": "2022-04-05T15:44:10.690Z"
   },
   {
    "duration": 16,
    "start_time": "2022-04-05T15:44:10.701Z"
   },
   {
    "duration": 59,
    "start_time": "2022-04-05T15:44:10.720Z"
   },
   {
    "duration": 4,
    "start_time": "2022-04-05T15:44:10.782Z"
   },
   {
    "duration": 199,
    "start_time": "2022-04-05T15:44:10.788Z"
   },
   {
    "duration": 11,
    "start_time": "2022-04-05T15:44:10.989Z"
   },
   {
    "duration": 5,
    "start_time": "2022-04-05T15:44:11.002Z"
   },
   {
    "duration": 7,
    "start_time": "2022-04-05T15:44:11.009Z"
   },
   {
    "duration": 6,
    "start_time": "2022-04-05T15:44:11.018Z"
   },
   {
    "duration": 52,
    "start_time": "2022-04-05T15:44:11.026Z"
   },
   {
    "duration": 6,
    "start_time": "2022-04-05T15:44:11.080Z"
   },
   {
    "duration": 5,
    "start_time": "2022-04-05T15:44:11.089Z"
   },
   {
    "duration": 580,
    "start_time": "2022-04-05T15:44:11.096Z"
   },
   {
    "duration": 5996,
    "start_time": "2022-04-05T15:44:11.678Z"
   },
   {
    "duration": 5855,
    "start_time": "2022-04-05T15:46:52.752Z"
   },
   {
    "duration": 5981,
    "start_time": "2022-04-05T15:47:07.656Z"
   },
   {
    "duration": 6087,
    "start_time": "2022-04-05T15:47:20.821Z"
   },
   {
    "duration": 759,
    "start_time": "2022-04-05T16:36:56.274Z"
   },
   {
    "duration": 7138,
    "start_time": "2022-04-05T16:36:59.964Z"
   },
   {
    "duration": 1866,
    "start_time": "2022-04-05T16:38:22.089Z"
   },
   {
    "duration": 2501,
    "start_time": "2022-04-05T16:38:31.466Z"
   },
   {
    "duration": 1890,
    "start_time": "2022-04-05T16:39:09.618Z"
   },
   {
    "duration": 2107,
    "start_time": "2022-04-05T16:39:32.201Z"
   },
   {
    "duration": 1870,
    "start_time": "2022-04-05T16:40:25.120Z"
   },
   {
    "duration": 2053,
    "start_time": "2022-04-05T16:40:48.472Z"
   },
   {
    "duration": 1962,
    "start_time": "2022-04-05T16:40:55.297Z"
   },
   {
    "duration": 6580,
    "start_time": "2022-04-05T16:41:19.046Z"
   },
   {
    "duration": 6109,
    "start_time": "2022-04-05T16:41:54.998Z"
   },
   {
    "duration": 6536,
    "start_time": "2022-04-05T16:42:25.557Z"
   },
   {
    "duration": 6456,
    "start_time": "2022-04-05T16:42:43.364Z"
   },
   {
    "duration": 6339,
    "start_time": "2022-04-05T16:44:15.107Z"
   },
   {
    "duration": 6582,
    "start_time": "2022-04-05T16:44:43.643Z"
   },
   {
    "duration": 591,
    "start_time": "2022-04-05T16:46:14.785Z"
   },
   {
    "duration": 628,
    "start_time": "2022-04-05T16:46:24.584Z"
   },
   {
    "duration": 546,
    "start_time": "2022-04-05T16:46:37.939Z"
   },
   {
    "duration": 6735,
    "start_time": "2022-04-05T16:46:46.376Z"
   },
   {
    "duration": 6241,
    "start_time": "2022-04-05T16:47:06.945Z"
   },
   {
    "duration": 6621,
    "start_time": "2022-04-05T16:47:20.416Z"
   },
   {
    "duration": 6347,
    "start_time": "2022-04-05T16:48:03.599Z"
   },
   {
    "duration": 6227,
    "start_time": "2022-04-05T16:49:45.813Z"
   },
   {
    "duration": 6,
    "start_time": "2022-04-05T18:42:56.095Z"
   },
   {
    "duration": 16,
    "start_time": "2022-04-05T18:43:02.472Z"
   },
   {
    "duration": 576,
    "start_time": "2022-04-05T18:47:19.728Z"
   },
   {
    "duration": 446,
    "start_time": "2022-04-05T18:47:29.898Z"
   },
   {
    "duration": 829,
    "start_time": "2022-04-05T18:48:08.888Z"
   },
   {
    "duration": 244,
    "start_time": "2022-04-05T18:48:41.889Z"
   },
   {
    "duration": 109,
    "start_time": "2022-04-05T18:48:48.864Z"
   },
   {
    "duration": 444,
    "start_time": "2022-04-05T18:49:22.329Z"
   },
   {
    "duration": 450,
    "start_time": "2022-04-05T18:49:44.120Z"
   },
   {
    "duration": 532,
    "start_time": "2022-04-05T18:53:36.914Z"
   },
   {
    "duration": 538,
    "start_time": "2022-04-05T18:53:50.952Z"
   },
   {
    "duration": 32,
    "start_time": "2022-04-05T18:55:01.168Z"
   },
   {
    "duration": 29,
    "start_time": "2022-04-05T18:55:12.200Z"
   },
   {
    "duration": 551,
    "start_time": "2022-04-05T18:55:20.040Z"
   },
   {
    "duration": 657,
    "start_time": "2022-04-05T18:55:37.489Z"
   },
   {
    "duration": 751,
    "start_time": "2022-04-05T18:56:03.415Z"
   },
   {
    "duration": 406,
    "start_time": "2022-04-05T18:56:41.816Z"
   },
   {
    "duration": 1706,
    "start_time": "2022-04-05T18:56:44.352Z"
   },
   {
    "duration": 442,
    "start_time": "2022-04-05T18:57:05.226Z"
   },
   {
    "duration": 28,
    "start_time": "2022-04-05T18:57:07.654Z"
   },
   {
    "duration": 657,
    "start_time": "2022-04-05T18:57:10.375Z"
   },
   {
    "duration": 30,
    "start_time": "2022-04-05T18:57:14.006Z"
   },
   {
    "duration": 456,
    "start_time": "2022-04-05T18:57:16.888Z"
   },
   {
    "duration": 28,
    "start_time": "2022-04-05T18:57:19.623Z"
   },
   {
    "duration": 454,
    "start_time": "2022-04-05T18:59:48.412Z"
   },
   {
    "duration": 450,
    "start_time": "2022-04-05T19:00:05.955Z"
   },
   {
    "duration": 435,
    "start_time": "2022-04-05T19:00:18.067Z"
   },
   {
    "duration": 29,
    "start_time": "2022-04-05T19:00:20.993Z"
   },
   {
    "duration": 630,
    "start_time": "2022-04-05T19:00:23.762Z"
   },
   {
    "duration": 102,
    "start_time": "2022-04-05T19:01:20.641Z"
   },
   {
    "duration": 690,
    "start_time": "2022-04-05T19:01:44.779Z"
   },
   {
    "duration": 36,
    "start_time": "2022-04-05T19:01:47.770Z"
   },
   {
    "duration": 632,
    "start_time": "2022-04-05T19:01:51.754Z"
   },
   {
    "duration": 639,
    "start_time": "2022-04-05T19:02:08.832Z"
   },
   {
    "duration": 444,
    "start_time": "2022-04-05T19:14:07.708Z"
   },
   {
    "duration": 637,
    "start_time": "2022-04-05T19:14:10.530Z"
   },
   {
    "duration": 474,
    "start_time": "2022-04-05T19:14:22.315Z"
   },
   {
    "duration": 598,
    "start_time": "2022-04-05T19:28:10.098Z"
   },
   {
    "duration": 306,
    "start_time": "2022-04-05T19:32:29.350Z"
   },
   {
    "duration": 1049,
    "start_time": "2022-04-05T19:32:34.725Z"
   },
   {
    "duration": 968,
    "start_time": "2022-04-05T19:32:48.028Z"
   },
   {
    "duration": 1209,
    "start_time": "2022-04-05T19:33:56.660Z"
   },
   {
    "duration": 1023,
    "start_time": "2022-04-05T19:34:29.819Z"
   },
   {
    "duration": 1188,
    "start_time": "2022-04-05T19:35:22.313Z"
   },
   {
    "duration": 1082,
    "start_time": "2022-04-05T19:35:27.409Z"
   },
   {
    "duration": 13,
    "start_time": "2022-04-05T19:36:25.177Z"
   },
   {
    "duration": 4388,
    "start_time": "2022-04-05T19:36:38.641Z"
   },
   {
    "duration": 5479,
    "start_time": "2022-04-05T19:37:32.911Z"
   },
   {
    "duration": 5779,
    "start_time": "2022-04-05T19:41:00.748Z"
   },
   {
    "duration": 799,
    "start_time": "2022-04-05T19:41:37.779Z"
   },
   {
    "duration": 690,
    "start_time": "2022-04-05T19:41:42.363Z"
   },
   {
    "duration": 5371,
    "start_time": "2022-04-05T19:41:48.163Z"
   },
   {
    "duration": 907,
    "start_time": "2022-04-05T19:42:07.505Z"
   },
   {
    "duration": 2605,
    "start_time": "2022-04-05T19:42:12.250Z"
   },
   {
    "duration": 658,
    "start_time": "2022-04-05T19:42:47.297Z"
   },
   {
    "duration": 599,
    "start_time": "2022-04-05T19:42:56.401Z"
   },
   {
    "duration": 3065,
    "start_time": "2022-04-05T19:43:01.369Z"
   },
   {
    "duration": 2657,
    "start_time": "2022-04-05T19:43:33.572Z"
   },
   {
    "duration": 2651,
    "start_time": "2022-04-05T19:43:53.391Z"
   },
   {
    "duration": 6322,
    "start_time": "2022-04-05T19:48:59.643Z"
   },
   {
    "duration": 557,
    "start_time": "2022-04-05T19:59:12.968Z"
   },
   {
    "duration": 595,
    "start_time": "2022-04-05T20:00:39.924Z"
   },
   {
    "duration": 865,
    "start_time": "2022-04-05T20:00:48.604Z"
   },
   {
    "duration": 629,
    "start_time": "2022-04-05T20:04:17.400Z"
   },
   {
    "duration": 635,
    "start_time": "2022-04-05T20:05:41.118Z"
   },
   {
    "duration": 605,
    "start_time": "2022-04-05T20:08:29.324Z"
   },
   {
    "duration": 615,
    "start_time": "2022-04-05T20:09:08.907Z"
   },
   {
    "duration": 611,
    "start_time": "2022-04-05T20:09:18.629Z"
   },
   {
    "duration": 767,
    "start_time": "2022-04-05T20:09:28.082Z"
   },
   {
    "duration": 634,
    "start_time": "2022-04-05T20:09:44.361Z"
   },
   {
    "duration": 657,
    "start_time": "2022-04-05T20:09:59.546Z"
   },
   {
    "duration": 2474,
    "start_time": "2022-04-05T20:10:08.937Z"
   },
   {
    "duration": 2805,
    "start_time": "2022-04-05T20:11:04.128Z"
   },
   {
    "duration": 2582,
    "start_time": "2022-04-05T20:11:53.578Z"
   },
   {
    "duration": 617,
    "start_time": "2022-04-05T20:12:06.839Z"
   },
   {
    "duration": 2733,
    "start_time": "2022-04-05T20:12:16.958Z"
   },
   {
    "duration": 24,
    "start_time": "2022-04-05T20:17:27.033Z"
   },
   {
    "duration": 12,
    "start_time": "2022-04-05T20:17:34.808Z"
   },
   {
    "duration": 15,
    "start_time": "2022-04-05T20:17:53.160Z"
   },
   {
    "duration": 16,
    "start_time": "2022-04-05T20:18:26.134Z"
   },
   {
    "duration": 14,
    "start_time": "2022-04-05T20:18:53.246Z"
   },
   {
    "duration": 492,
    "start_time": "2022-04-05T20:19:43.733Z"
   },
   {
    "duration": 14,
    "start_time": "2022-04-05T20:19:46.646Z"
   },
   {
    "duration": 445,
    "start_time": "2022-04-05T20:19:59.198Z"
   },
   {
    "duration": 13,
    "start_time": "2022-04-05T20:20:06.686Z"
   },
   {
    "duration": 14,
    "start_time": "2022-04-05T20:20:32.133Z"
   },
   {
    "duration": 343,
    "start_time": "2022-04-05T20:20:52.959Z"
   },
   {
    "duration": 13,
    "start_time": "2022-04-05T20:20:55.460Z"
   },
   {
    "duration": 21,
    "start_time": "2022-04-05T20:21:11.532Z"
   },
   {
    "duration": 13,
    "start_time": "2022-04-05T20:21:14.860Z"
   },
   {
    "duration": 12,
    "start_time": "2022-04-05T20:21:23.484Z"
   },
   {
    "duration": 13,
    "start_time": "2022-04-05T20:21:33.979Z"
   },
   {
    "duration": 7,
    "start_time": "2022-04-05T20:22:06.339Z"
   },
   {
    "duration": 754,
    "start_time": "2022-04-05T20:22:14.393Z"
   },
   {
    "duration": 2587,
    "start_time": "2022-04-05T20:22:19.411Z"
   },
   {
    "duration": 12,
    "start_time": "2022-04-05T20:23:02.094Z"
   },
   {
    "duration": 7,
    "start_time": "2022-04-05T20:23:04.418Z"
   },
   {
    "duration": 13,
    "start_time": "2022-04-05T20:23:45.321Z"
   },
   {
    "duration": 208,
    "start_time": "2022-04-05T20:23:48.498Z"
   },
   {
    "duration": 12,
    "start_time": "2022-04-05T20:23:57.817Z"
   },
   {
    "duration": 1518,
    "start_time": "2022-04-05T20:24:01.626Z"
   },
   {
    "duration": 7,
    "start_time": "2022-04-05T20:24:05.280Z"
   },
   {
    "duration": 207,
    "start_time": "2022-04-05T20:24:19.737Z"
   },
   {
    "duration": 6325,
    "start_time": "2022-04-05T20:25:14.464Z"
   },
   {
    "duration": 602,
    "start_time": "2022-04-05T20:26:45.319Z"
   },
   {
    "duration": 108,
    "start_time": "2022-04-05T20:27:09.053Z"
   },
   {
    "duration": 250,
    "start_time": "2022-04-05T20:27:21.102Z"
   },
   {
    "duration": 234,
    "start_time": "2022-04-05T20:27:44.435Z"
   },
   {
    "duration": 3035,
    "start_time": "2022-04-05T20:28:13.942Z"
   },
   {
    "duration": 237,
    "start_time": "2022-04-05T20:49:05.718Z"
   },
   {
    "duration": 5,
    "start_time": "2022-04-05T20:49:35.958Z"
   },
   {
    "duration": 37,
    "start_time": "2022-04-05T20:49:39.181Z"
   },
   {
    "duration": 37,
    "start_time": "2022-04-05T20:50:06.060Z"
   },
   {
    "duration": 139,
    "start_time": "2022-04-05T20:50:18.348Z"
   },
   {
    "duration": 37,
    "start_time": "2022-04-05T20:50:36.310Z"
   },
   {
    "duration": 37,
    "start_time": "2022-04-05T20:50:39.795Z"
   },
   {
    "duration": 37,
    "start_time": "2022-04-05T20:50:47.003Z"
   },
   {
    "duration": 22,
    "start_time": "2022-04-05T20:51:26.490Z"
   },
   {
    "duration": 13,
    "start_time": "2022-04-05T20:51:43.225Z"
   },
   {
    "duration": 23,
    "start_time": "2022-04-05T20:52:08.905Z"
   },
   {
    "duration": 16,
    "start_time": "2022-04-05T20:52:31.184Z"
   },
   {
    "duration": 17,
    "start_time": "2022-04-05T20:53:01.984Z"
   },
   {
    "duration": 14,
    "start_time": "2022-04-05T20:53:11.495Z"
   },
   {
    "duration": 14,
    "start_time": "2022-04-05T20:53:20.256Z"
   },
   {
    "duration": 16,
    "start_time": "2022-04-05T20:53:23.327Z"
   },
   {
    "duration": 21,
    "start_time": "2022-04-05T20:53:28.584Z"
   },
   {
    "duration": 15,
    "start_time": "2022-04-05T20:53:37.520Z"
   },
   {
    "duration": 15,
    "start_time": "2022-04-05T20:53:40.431Z"
   },
   {
    "duration": 42,
    "start_time": "2022-04-05T20:53:45.585Z"
   },
   {
    "duration": 41,
    "start_time": "2022-04-05T20:54:15.304Z"
   },
   {
    "duration": 16,
    "start_time": "2022-04-05T20:54:49.127Z"
   },
   {
    "duration": 23,
    "start_time": "2022-04-05T20:54:52.333Z"
   },
   {
    "duration": 39,
    "start_time": "2022-04-05T20:55:32.805Z"
   },
   {
    "duration": 10,
    "start_time": "2022-04-05T20:55:39.389Z"
   },
   {
    "duration": 90,
    "start_time": "2022-04-05T20:55:56.173Z"
   },
   {
    "duration": 10,
    "start_time": "2022-04-05T20:56:00.453Z"
   },
   {
    "duration": 7,
    "start_time": "2022-04-05T20:56:11.717Z"
   },
   {
    "duration": 118,
    "start_time": "2022-04-05T20:57:37.427Z"
   },
   {
    "duration": 116,
    "start_time": "2022-04-05T20:59:25.489Z"
   },
   {
    "duration": 8,
    "start_time": "2022-04-05T20:59:31.195Z"
   },
   {
    "duration": 9,
    "start_time": "2022-04-05T21:00:55.168Z"
   },
   {
    "duration": 25,
    "start_time": "2022-04-05T21:06:31.850Z"
   },
   {
    "duration": 653,
    "start_time": "2022-04-05T21:08:28.383Z"
   },
   {
    "duration": 13,
    "start_time": "2022-04-05T21:10:17.540Z"
   },
   {
    "duration": 119,
    "start_time": "2022-04-05T21:10:30.164Z"
   },
   {
    "duration": 31,
    "start_time": "2022-04-05T21:10:34.116Z"
   },
   {
    "duration": 16,
    "start_time": "2022-04-05T21:11:06.978Z"
   },
   {
    "duration": 8,
    "start_time": "2022-04-05T21:20:58.041Z"
   },
   {
    "duration": 25,
    "start_time": "2022-04-05T21:24:05.580Z"
   },
   {
    "duration": 74,
    "start_time": "2022-04-06T09:21:52.633Z"
   },
   {
    "duration": 9,
    "start_time": "2022-04-06T09:22:14.968Z"
   },
   {
    "duration": 2876,
    "start_time": "2022-04-06T09:22:21.593Z"
   },
   {
    "duration": 4,
    "start_time": "2022-04-06T09:22:24.472Z"
   },
   {
    "duration": 427,
    "start_time": "2022-04-06T09:22:25.896Z"
   },
   {
    "duration": 315,
    "start_time": "2022-04-06T09:22:36.528Z"
   },
   {
    "duration": 101,
    "start_time": "2022-04-06T09:22:41.173Z"
   },
   {
    "duration": 1885,
    "start_time": "2022-04-06T09:24:29.036Z"
   },
   {
    "duration": 5,
    "start_time": "2022-04-06T09:24:30.924Z"
   },
   {
    "duration": 458,
    "start_time": "2022-04-06T09:24:30.932Z"
   },
   {
    "duration": 320,
    "start_time": "2022-04-06T09:24:31.393Z"
   },
   {
    "duration": 107,
    "start_time": "2022-04-06T09:24:31.716Z"
   },
   {
    "duration": 17,
    "start_time": "2022-04-06T09:24:31.826Z"
   },
   {
    "duration": 34,
    "start_time": "2022-04-06T09:24:31.846Z"
   },
   {
    "duration": 7,
    "start_time": "2022-04-06T09:24:31.882Z"
   },
   {
    "duration": 21,
    "start_time": "2022-04-06T09:24:31.892Z"
   },
   {
    "duration": 41,
    "start_time": "2022-04-06T09:24:31.919Z"
   },
   {
    "duration": 53,
    "start_time": "2022-04-06T09:24:31.963Z"
   },
   {
    "duration": 38,
    "start_time": "2022-04-06T09:24:32.018Z"
   },
   {
    "duration": 153,
    "start_time": "2022-04-06T09:24:32.058Z"
   },
   {
    "duration": 14,
    "start_time": "2022-04-06T09:24:32.213Z"
   },
   {
    "duration": 28,
    "start_time": "2022-04-06T09:24:32.229Z"
   },
   {
    "duration": 33,
    "start_time": "2022-04-06T09:24:32.260Z"
   },
   {
    "duration": 20,
    "start_time": "2022-04-06T09:24:32.296Z"
   },
   {
    "duration": 28,
    "start_time": "2022-04-06T09:24:32.319Z"
   },
   {
    "duration": 15,
    "start_time": "2022-04-06T09:24:32.350Z"
   },
   {
    "duration": 403,
    "start_time": "2022-04-06T09:24:32.368Z"
   },
   {
    "duration": 637,
    "start_time": "2022-04-06T09:24:32.775Z"
   },
   {
    "duration": 2558,
    "start_time": "2022-04-06T09:24:33.415Z"
   },
   {
    "duration": 8,
    "start_time": "2022-04-06T09:24:35.976Z"
   },
   {
    "duration": 11,
    "start_time": "2022-04-06T09:24:35.987Z"
   },
   {
    "duration": 9,
    "start_time": "2022-04-06T09:24:36.000Z"
   },
   {
    "duration": 65,
    "start_time": "2022-04-06T09:24:36.011Z"
   },
   {
    "duration": 737,
    "start_time": "2022-04-06T09:24:36.078Z"
   },
   {
    "duration": 1909,
    "start_time": "2022-04-06T09:26:21.818Z"
   },
   {
    "duration": 3,
    "start_time": "2022-04-06T09:26:23.730Z"
   },
   {
    "duration": 438,
    "start_time": "2022-04-06T09:26:23.735Z"
   },
   {
    "duration": 351,
    "start_time": "2022-04-06T09:26:24.175Z"
   },
   {
    "duration": 103,
    "start_time": "2022-04-06T09:26:24.528Z"
   },
   {
    "duration": 25,
    "start_time": "2022-04-06T09:26:24.633Z"
   },
   {
    "duration": 22,
    "start_time": "2022-04-06T09:26:24.660Z"
   },
   {
    "duration": 8,
    "start_time": "2022-04-06T09:26:24.684Z"
   },
   {
    "duration": 5,
    "start_time": "2022-04-06T09:26:24.694Z"
   },
   {
    "duration": 14,
    "start_time": "2022-04-06T09:26:24.702Z"
   },
   {
    "duration": 18,
    "start_time": "2022-04-06T09:26:24.718Z"
   },
   {
    "duration": 3,
    "start_time": "2022-04-06T09:26:24.738Z"
   },
   {
    "duration": 149,
    "start_time": "2022-04-06T09:26:24.743Z"
   },
   {
    "duration": 12,
    "start_time": "2022-04-06T09:26:24.894Z"
   },
   {
    "duration": 4,
    "start_time": "2022-04-06T09:26:24.909Z"
   },
   {
    "duration": 6,
    "start_time": "2022-04-06T09:26:24.915Z"
   },
   {
    "duration": 7,
    "start_time": "2022-04-06T09:26:24.923Z"
   },
   {
    "duration": 3,
    "start_time": "2022-04-06T09:26:24.975Z"
   },
   {
    "duration": 14,
    "start_time": "2022-04-06T09:26:24.981Z"
   },
   {
    "duration": 513,
    "start_time": "2022-04-06T09:26:24.997Z"
   },
   {
    "duration": 745,
    "start_time": "2022-04-06T09:26:25.512Z"
   },
   {
    "duration": 2569,
    "start_time": "2022-04-06T09:26:26.260Z"
   },
   {
    "duration": 8,
    "start_time": "2022-04-06T09:26:28.832Z"
   },
   {
    "duration": 37,
    "start_time": "2022-04-06T09:26:28.843Z"
   },
   {
    "duration": 17,
    "start_time": "2022-04-06T09:26:28.882Z"
   },
   {
    "duration": 35,
    "start_time": "2022-04-06T09:26:28.902Z"
   },
   {
    "duration": 748,
    "start_time": "2022-04-06T09:26:28.939Z"
   },
   {
    "duration": 404,
    "start_time": "2022-04-06T09:37:17.592Z"
   },
   {
    "duration": 439,
    "start_time": "2022-04-06T09:37:42.696Z"
   },
   {
    "duration": 2076,
    "start_time": "2022-04-06T09:37:59.640Z"
   },
   {
    "duration": 139,
    "start_time": "2022-04-06T09:38:34.119Z"
   },
   {
    "duration": 447,
    "start_time": "2022-04-06T09:38:39.111Z"
   },
   {
    "duration": 553,
    "start_time": "2022-04-06T09:39:08.503Z"
   },
   {
    "duration": 466,
    "start_time": "2022-04-06T09:39:13.487Z"
   },
   {
    "duration": 778,
    "start_time": "2022-04-06T09:40:12.198Z"
   },
   {
    "duration": 746,
    "start_time": "2022-04-06T09:41:25.949Z"
   },
   {
    "duration": 2659,
    "start_time": "2022-04-06T09:41:39.044Z"
   },
   {
    "duration": 788,
    "start_time": "2022-04-06T09:42:21.188Z"
   },
   {
    "duration": 429,
    "start_time": "2022-04-06T09:42:55.203Z"
   },
   {
    "duration": 791,
    "start_time": "2022-04-06T09:43:59.682Z"
   },
   {
    "duration": 799,
    "start_time": "2022-04-06T09:47:47.396Z"
   },
   {
    "duration": 276,
    "start_time": "2022-04-06T09:48:00.381Z"
   },
   {
    "duration": 882,
    "start_time": "2022-04-06T09:48:07.732Z"
   },
   {
    "duration": 894,
    "start_time": "2022-04-06T09:48:24.533Z"
   },
   {
    "duration": 753,
    "start_time": "2022-04-06T09:48:34.116Z"
   },
   {
    "duration": 755,
    "start_time": "2022-04-06T09:53:57.308Z"
   },
   {
    "duration": 768,
    "start_time": "2022-04-06T09:54:34.542Z"
   },
   {
    "duration": 805,
    "start_time": "2022-04-06T09:54:58.812Z"
   },
   {
    "duration": 937,
    "start_time": "2022-04-06T09:56:27.402Z"
   },
   {
    "duration": 810,
    "start_time": "2022-04-06T09:56:42.521Z"
   },
   {
    "duration": 429,
    "start_time": "2022-04-06T09:59:03.271Z"
   },
   {
    "duration": 787,
    "start_time": "2022-04-06T09:59:21.607Z"
   },
   {
    "duration": 757,
    "start_time": "2022-04-06T09:59:27.383Z"
   },
   {
    "duration": 782,
    "start_time": "2022-04-06T09:59:33.127Z"
   },
   {
    "duration": 871,
    "start_time": "2022-04-06T09:59:45.680Z"
   },
   {
    "duration": 797,
    "start_time": "2022-04-06T10:00:28.477Z"
   },
   {
    "duration": 791,
    "start_time": "2022-04-06T10:00:37.229Z"
   },
   {
    "duration": 803,
    "start_time": "2022-04-06T10:00:50.825Z"
   },
   {
    "duration": 769,
    "start_time": "2022-04-06T10:00:56.117Z"
   },
   {
    "duration": 885,
    "start_time": "2022-04-06T10:01:05.301Z"
   },
   {
    "duration": 747,
    "start_time": "2022-04-06T10:01:22.174Z"
   },
   {
    "duration": 769,
    "start_time": "2022-04-06T10:01:33.295Z"
   },
   {
    "duration": 795,
    "start_time": "2022-04-06T10:02:08.308Z"
   },
   {
    "duration": 780,
    "start_time": "2022-04-06T10:02:50.315Z"
   },
   {
    "duration": 155,
    "start_time": "2022-04-06T10:03:04.714Z"
   },
   {
    "duration": 1054,
    "start_time": "2022-04-06T10:03:10.971Z"
   },
   {
    "duration": 884,
    "start_time": "2022-04-06T10:03:45.492Z"
   },
   {
    "duration": 782,
    "start_time": "2022-04-06T10:03:51.169Z"
   },
   {
    "duration": 955,
    "start_time": "2022-04-06T10:03:55.882Z"
   },
   {
    "duration": 863,
    "start_time": "2022-04-06T10:04:06.904Z"
   },
   {
    "duration": 812,
    "start_time": "2022-04-06T10:04:17.817Z"
   },
   {
    "duration": 237,
    "start_time": "2022-04-06T10:04:24.345Z"
   },
   {
    "duration": 1044,
    "start_time": "2022-04-06T10:04:30.489Z"
   },
   {
    "duration": 829,
    "start_time": "2022-04-06T10:04:38.264Z"
   },
   {
    "duration": 830,
    "start_time": "2022-04-06T10:04:47.066Z"
   },
   {
    "duration": 420,
    "start_time": "2022-04-06T10:06:58.895Z"
   },
   {
    "duration": 871,
    "start_time": "2022-04-06T10:07:09.514Z"
   },
   {
    "duration": 29,
    "start_time": "2022-04-06T10:24:16.451Z"
   },
   {
    "duration": 15,
    "start_time": "2022-04-06T10:24:54.664Z"
   },
   {
    "duration": 28,
    "start_time": "2022-04-06T10:25:05.410Z"
   },
   {
    "duration": 15,
    "start_time": "2022-04-06T10:25:24.027Z"
   },
   {
    "duration": 18,
    "start_time": "2022-04-06T11:22:24.157Z"
   },
   {
    "duration": 15,
    "start_time": "2022-04-06T11:22:37.705Z"
   },
   {
    "duration": 17,
    "start_time": "2022-04-06T11:22:56.098Z"
   },
   {
    "duration": 20,
    "start_time": "2022-04-06T11:23:12.633Z"
   },
   {
    "duration": 51,
    "start_time": "2022-04-07T08:44:38.778Z"
   },
   {
    "duration": 1910,
    "start_time": "2022-04-07T08:44:51.861Z"
   },
   {
    "duration": 3,
    "start_time": "2022-04-07T08:44:53.774Z"
   },
   {
    "duration": 399,
    "start_time": "2022-04-07T08:44:53.779Z"
   },
   {
    "duration": 279,
    "start_time": "2022-04-07T08:44:54.181Z"
   },
   {
    "duration": 88,
    "start_time": "2022-04-07T08:44:54.463Z"
   },
   {
    "duration": 79,
    "start_time": "2022-04-07T08:44:54.553Z"
   },
   {
    "duration": 22,
    "start_time": "2022-04-07T08:44:54.634Z"
   },
   {
    "duration": 9,
    "start_time": "2022-04-07T08:44:54.657Z"
   },
   {
    "duration": 16,
    "start_time": "2022-04-07T08:44:54.668Z"
   },
   {
    "duration": 26,
    "start_time": "2022-04-07T08:44:54.689Z"
   },
   {
    "duration": 26,
    "start_time": "2022-04-07T08:44:54.717Z"
   },
   {
    "duration": 3,
    "start_time": "2022-04-07T08:44:54.746Z"
   },
   {
    "duration": 109,
    "start_time": "2022-04-07T08:44:54.751Z"
   },
   {
    "duration": 10,
    "start_time": "2022-04-07T08:44:54.862Z"
   },
   {
    "duration": 4,
    "start_time": "2022-04-07T08:44:54.874Z"
   },
   {
    "duration": 21,
    "start_time": "2022-04-07T08:44:54.879Z"
   },
   {
    "duration": 4,
    "start_time": "2022-04-07T08:44:54.903Z"
   },
   {
    "duration": 8,
    "start_time": "2022-04-07T08:44:54.909Z"
   },
   {
    "duration": 10,
    "start_time": "2022-04-07T08:44:54.919Z"
   },
   {
    "duration": 349,
    "start_time": "2022-04-07T08:44:54.931Z"
   },
   {
    "duration": 432,
    "start_time": "2022-04-07T08:44:55.282Z"
   },
   {
    "duration": 1814,
    "start_time": "2022-04-07T08:44:55.716Z"
   },
   {
    "duration": 6,
    "start_time": "2022-04-07T08:44:57.533Z"
   },
   {
    "duration": 17,
    "start_time": "2022-04-07T08:44:57.541Z"
   },
   {
    "duration": 7,
    "start_time": "2022-04-07T08:44:57.560Z"
   },
   {
    "duration": 739,
    "start_time": "2022-04-07T08:44:57.569Z"
   },
   {
    "duration": 20,
    "start_time": "2022-04-07T08:44:58.310Z"
   },
   {
    "duration": 460,
    "start_time": "2022-04-07T08:44:58.334Z"
   },
   {
    "duration": 20,
    "start_time": "2022-04-07T08:44:58.796Z"
   },
   {
    "duration": 17,
    "start_time": "2022-04-07T08:44:58.818Z"
   },
   {
    "duration": 14,
    "start_time": "2022-04-07T08:44:58.837Z"
   },
   {
    "duration": 9,
    "start_time": "2022-04-07T08:46:13.488Z"
   },
   {
    "duration": 332,
    "start_time": "2022-04-07T08:47:42.718Z"
   },
   {
    "duration": 382,
    "start_time": "2022-04-07T08:47:51.973Z"
   },
   {
    "duration": 1654,
    "start_time": "2022-04-07T08:47:54.893Z"
   },
   {
    "duration": 22,
    "start_time": "2022-04-07T08:56:37.507Z"
   },
   {
    "duration": 1613,
    "start_time": "2022-04-07T08:56:48.490Z"
   },
   {
    "duration": 3,
    "start_time": "2022-04-07T08:56:50.106Z"
   },
   {
    "duration": 370,
    "start_time": "2022-04-07T08:56:50.111Z"
   },
   {
    "duration": 267,
    "start_time": "2022-04-07T08:56:50.484Z"
   },
   {
    "duration": 86,
    "start_time": "2022-04-07T08:56:50.753Z"
   },
   {
    "duration": 13,
    "start_time": "2022-04-07T08:56:50.840Z"
   },
   {
    "duration": 15,
    "start_time": "2022-04-07T08:56:50.854Z"
   },
   {
    "duration": 5,
    "start_time": "2022-04-07T08:56:50.871Z"
   },
   {
    "duration": 3,
    "start_time": "2022-04-07T08:56:50.902Z"
   },
   {
    "duration": 12,
    "start_time": "2022-04-07T08:56:50.909Z"
   },
   {
    "duration": 14,
    "start_time": "2022-04-07T08:56:50.923Z"
   },
   {
    "duration": 3,
    "start_time": "2022-04-07T08:56:50.939Z"
   },
   {
    "duration": 129,
    "start_time": "2022-04-07T08:56:50.944Z"
   },
   {
    "duration": 10,
    "start_time": "2022-04-07T08:56:51.075Z"
   },
   {
    "duration": 4,
    "start_time": "2022-04-07T08:56:51.101Z"
   },
   {
    "duration": 6,
    "start_time": "2022-04-07T08:56:51.107Z"
   },
   {
    "duration": 7,
    "start_time": "2022-04-07T08:56:51.114Z"
   },
   {
    "duration": 5,
    "start_time": "2022-04-07T08:56:51.123Z"
   },
   {
    "duration": 5,
    "start_time": "2022-04-07T08:56:51.130Z"
   },
   {
    "duration": 339,
    "start_time": "2022-04-07T08:56:51.136Z"
   },
   {
    "duration": 465,
    "start_time": "2022-04-07T08:56:51.477Z"
   },
   {
    "duration": 1752,
    "start_time": "2022-04-07T08:56:51.944Z"
   },
   {
    "duration": 5,
    "start_time": "2022-04-07T08:56:53.701Z"
   },
   {
    "duration": 9,
    "start_time": "2022-04-07T08:56:53.708Z"
   },
   {
    "duration": 16,
    "start_time": "2022-04-07T08:56:53.719Z"
   },
   {
    "duration": 664,
    "start_time": "2022-04-07T08:56:53.737Z"
   },
   {
    "duration": 20,
    "start_time": "2022-04-07T08:56:54.403Z"
   },
   {
    "duration": 435,
    "start_time": "2022-04-07T08:56:54.426Z"
   },
   {
    "duration": 18,
    "start_time": "2022-04-07T08:56:54.862Z"
   },
   {
    "duration": 30,
    "start_time": "2022-04-07T08:56:54.882Z"
   },
   {
    "duration": 3,
    "start_time": "2022-04-07T09:02:11.752Z"
   },
   {
    "duration": 534,
    "start_time": "2022-04-07T09:02:34.954Z"
   },
   {
    "duration": 1549,
    "start_time": "2022-04-07T09:08:37.934Z"
   },
   {
    "duration": 2,
    "start_time": "2022-04-07T09:08:39.486Z"
   },
   {
    "duration": 362,
    "start_time": "2022-04-07T09:08:39.490Z"
   },
   {
    "duration": 266,
    "start_time": "2022-04-07T09:08:39.855Z"
   },
   {
    "duration": 93,
    "start_time": "2022-04-07T09:08:40.123Z"
   },
   {
    "duration": 13,
    "start_time": "2022-04-07T09:08:40.218Z"
   },
   {
    "duration": 15,
    "start_time": "2022-04-07T09:08:40.233Z"
   },
   {
    "duration": 21,
    "start_time": "2022-04-07T09:08:40.250Z"
   },
   {
    "duration": 21,
    "start_time": "2022-04-07T09:08:40.272Z"
   },
   {
    "duration": 17,
    "start_time": "2022-04-07T09:08:40.301Z"
   },
   {
    "duration": 27,
    "start_time": "2022-04-07T09:08:40.320Z"
   },
   {
    "duration": 12,
    "start_time": "2022-04-07T09:08:40.349Z"
   },
   {
    "duration": 106,
    "start_time": "2022-04-07T09:08:40.363Z"
   },
   {
    "duration": 34,
    "start_time": "2022-04-07T09:08:40.472Z"
   },
   {
    "duration": 23,
    "start_time": "2022-04-07T09:08:40.508Z"
   },
   {
    "duration": 27,
    "start_time": "2022-04-07T09:08:40.533Z"
   },
   {
    "duration": 33,
    "start_time": "2022-04-07T09:08:40.561Z"
   },
   {
    "duration": 22,
    "start_time": "2022-04-07T09:08:40.596Z"
   },
   {
    "duration": 8,
    "start_time": "2022-04-07T09:08:40.621Z"
   },
   {
    "duration": 317,
    "start_time": "2022-04-07T09:08:40.631Z"
   },
   {
    "duration": 413,
    "start_time": "2022-04-07T09:08:40.950Z"
   },
   {
    "duration": 1686,
    "start_time": "2022-04-07T09:08:41.364Z"
   },
   {
    "duration": 6,
    "start_time": "2022-04-07T09:08:43.052Z"
   },
   {
    "duration": 14,
    "start_time": "2022-04-07T09:08:43.060Z"
   },
   {
    "duration": 25,
    "start_time": "2022-04-07T09:08:43.076Z"
   },
   {
    "duration": 647,
    "start_time": "2022-04-07T09:08:43.103Z"
   },
   {
    "duration": 21,
    "start_time": "2022-04-07T09:08:43.752Z"
   },
   {
    "duration": 443,
    "start_time": "2022-04-07T09:08:43.776Z"
   },
   {
    "duration": 3,
    "start_time": "2022-04-07T09:08:44.221Z"
   },
   {
    "duration": 30,
    "start_time": "2022-04-07T09:08:44.225Z"
   },
   {
    "duration": 17,
    "start_time": "2022-04-07T09:08:44.257Z"
   },
   {
    "duration": 26,
    "start_time": "2022-04-07T09:08:44.276Z"
   },
   {
    "duration": 223,
    "start_time": "2022-04-07T09:10:53.652Z"
   },
   {
    "duration": 112,
    "start_time": "2022-04-07T09:12:05.434Z"
   },
   {
    "duration": 2764,
    "start_time": "2022-04-07T09:12:28.587Z"
   },
   {
    "duration": 35,
    "start_time": "2022-04-07T09:12:40.210Z"
   },
   {
    "duration": 1253,
    "start_time": "2022-04-07T09:12:43.954Z"
   },
   {
    "duration": 2422,
    "start_time": "2022-04-07T09:12:49.114Z"
   },
   {
    "duration": 105,
    "start_time": "2022-04-07T09:12:58.690Z"
   },
   {
    "duration": 24,
    "start_time": "2022-04-07T09:13:08.946Z"
   },
   {
    "duration": 85,
    "start_time": "2022-04-07T09:13:39.058Z"
   },
   {
    "duration": 144,
    "start_time": "2022-04-07T09:17:02.274Z"
   },
   {
    "duration": 142,
    "start_time": "2022-04-07T09:17:27.292Z"
   },
   {
    "duration": 33,
    "start_time": "2022-04-07T09:20:47.215Z"
   },
   {
    "duration": 52,
    "start_time": "2022-04-07T09:21:04.210Z"
   },
   {
    "duration": 84,
    "start_time": "2022-04-07T09:21:51.545Z"
   },
   {
    "duration": 85,
    "start_time": "2022-04-07T09:22:57.374Z"
   },
   {
    "duration": 84,
    "start_time": "2022-04-07T09:23:09.356Z"
   },
   {
    "duration": 10,
    "start_time": "2022-04-07T09:26:07.384Z"
   },
   {
    "duration": 62,
    "start_time": "2022-04-07T09:26:33.599Z"
   },
   {
    "duration": 58,
    "start_time": "2022-04-07T09:28:51.500Z"
   },
   {
    "duration": 69,
    "start_time": "2022-04-07T09:29:02.836Z"
   },
   {
    "duration": 88,
    "start_time": "2022-04-07T09:29:19.221Z"
   },
   {
    "duration": 54,
    "start_time": "2022-04-07T09:29:28.940Z"
   },
   {
    "duration": 60,
    "start_time": "2022-04-07T09:29:32.667Z"
   },
   {
    "duration": 49,
    "start_time": "2022-04-07T09:39:52.653Z"
   },
   {
    "duration": 59,
    "start_time": "2022-04-07T09:39:59.382Z"
   },
   {
    "duration": 58,
    "start_time": "2022-04-07T09:40:10.534Z"
   },
   {
    "duration": 10,
    "start_time": "2022-04-07T09:41:02.805Z"
   },
   {
    "duration": 14,
    "start_time": "2022-04-07T09:41:09.509Z"
   },
   {
    "duration": 13,
    "start_time": "2022-04-07T09:41:40.060Z"
   },
   {
    "duration": 10,
    "start_time": "2022-04-07T09:42:12.508Z"
   },
   {
    "duration": 11,
    "start_time": "2022-04-07T09:42:20.275Z"
   },
   {
    "duration": 12,
    "start_time": "2022-04-07T09:42:24.107Z"
   },
   {
    "duration": 12,
    "start_time": "2022-04-07T09:42:34.587Z"
   },
   {
    "duration": 16,
    "start_time": "2022-04-07T09:42:37.307Z"
   },
   {
    "duration": 8,
    "start_time": "2022-04-07T09:42:44.067Z"
   },
   {
    "duration": 8,
    "start_time": "2022-04-07T09:42:50.146Z"
   },
   {
    "duration": 8,
    "start_time": "2022-04-07T09:43:22.386Z"
   },
   {
    "duration": 9,
    "start_time": "2022-04-07T09:43:47.786Z"
   },
   {
    "duration": 13,
    "start_time": "2022-04-07T09:43:52.561Z"
   },
   {
    "duration": 9,
    "start_time": "2022-04-07T09:44:40.920Z"
   },
   {
    "duration": 9,
    "start_time": "2022-04-07T09:44:59.344Z"
   },
   {
    "duration": 9,
    "start_time": "2022-04-07T09:45:43.743Z"
   },
   {
    "duration": 8,
    "start_time": "2022-04-07T09:45:48.702Z"
   },
   {
    "duration": 14,
    "start_time": "2022-04-07T09:47:06.045Z"
   },
   {
    "duration": 26,
    "start_time": "2022-04-07T09:47:58.164Z"
   },
   {
    "duration": 147,
    "start_time": "2022-04-07T09:48:52.291Z"
   },
   {
    "duration": 8,
    "start_time": "2022-04-07T09:48:58.786Z"
   },
   {
    "duration": 8,
    "start_time": "2022-04-07T09:49:02.701Z"
   },
   {
    "duration": 151,
    "start_time": "2022-04-07T09:50:37.784Z"
   },
   {
    "duration": 8,
    "start_time": "2022-04-07T09:50:45.792Z"
   },
   {
    "duration": 175,
    "start_time": "2022-04-07T09:51:53.912Z"
   },
   {
    "duration": 143,
    "start_time": "2022-04-07T09:53:19.166Z"
   },
   {
    "duration": 136,
    "start_time": "2022-04-07T09:56:26.337Z"
   },
   {
    "duration": 60,
    "start_time": "2022-04-07T09:58:29.944Z"
   },
   {
    "duration": 21,
    "start_time": "2022-04-07T10:02:05.233Z"
   },
   {
    "duration": 19,
    "start_time": "2022-04-07T10:12:05.911Z"
   },
   {
    "duration": 13,
    "start_time": "2022-04-07T10:12:19.848Z"
   },
   {
    "duration": 5,
    "start_time": "2022-04-07T10:12:25.072Z"
   },
   {
    "duration": 15,
    "start_time": "2022-04-07T10:12:44.880Z"
   },
   {
    "duration": 20,
    "start_time": "2022-04-07T10:12:48.191Z"
   },
   {
    "duration": 21,
    "start_time": "2022-04-07T10:13:05.998Z"
   },
   {
    "duration": 21,
    "start_time": "2022-04-07T10:13:16.566Z"
   },
   {
    "duration": 27,
    "start_time": "2022-04-07T10:17:17.425Z"
   },
   {
    "duration": 87,
    "start_time": "2022-04-07T10:17:34.090Z"
   },
   {
    "duration": 11,
    "start_time": "2022-04-07T10:17:37.017Z"
   },
   {
    "duration": 25,
    "start_time": "2022-04-07T10:18:04.633Z"
   },
   {
    "duration": 10,
    "start_time": "2022-04-07T10:18:23.984Z"
   },
   {
    "duration": 269,
    "start_time": "2022-04-07T10:21:29.805Z"
   },
   {
    "duration": 13,
    "start_time": "2022-04-07T10:22:25.967Z"
   },
   {
    "duration": 13,
    "start_time": "2022-04-07T10:22:35.891Z"
   },
   {
    "duration": 12,
    "start_time": "2022-04-07T10:22:41.250Z"
   },
   {
    "duration": 6,
    "start_time": "2022-04-07T10:31:39.592Z"
   },
   {
    "duration": 9,
    "start_time": "2022-04-07T10:31:45.679Z"
   },
   {
    "duration": 12,
    "start_time": "2022-04-07T10:31:57.128Z"
   },
   {
    "duration": 14,
    "start_time": "2022-04-07T10:31:59.992Z"
   },
   {
    "duration": 10,
    "start_time": "2022-04-07T10:32:06.409Z"
   },
   {
    "duration": 9,
    "start_time": "2022-04-07T10:32:37.342Z"
   },
   {
    "duration": 9,
    "start_time": "2022-04-07T10:33:36.214Z"
   },
   {
    "duration": 8,
    "start_time": "2022-04-07T10:33:41.791Z"
   },
   {
    "duration": 73,
    "start_time": "2022-04-07T10:35:01.524Z"
   },
   {
    "duration": 164,
    "start_time": "2022-04-07T10:41:01.194Z"
   },
   {
    "duration": 1631,
    "start_time": "2022-04-07T10:41:25.093Z"
   },
   {
    "duration": 1739,
    "start_time": "2022-04-07T10:41:39.806Z"
   },
   {
    "duration": 72,
    "start_time": "2022-04-07T10:41:48.164Z"
   },
   {
    "duration": 198,
    "start_time": "2022-04-07T10:42:34.124Z"
   },
   {
    "duration": 138,
    "start_time": "2022-04-07T10:42:41.591Z"
   },
   {
    "duration": 1141,
    "start_time": "2022-04-07T10:42:45.899Z"
   },
   {
    "duration": 1157,
    "start_time": "2022-04-07T10:44:03.186Z"
   },
   {
    "duration": 1219,
    "start_time": "2022-04-07T10:44:18.315Z"
   },
   {
    "duration": 1749,
    "start_time": "2022-04-07T10:44:32.481Z"
   },
   {
    "duration": 82,
    "start_time": "2022-04-07T10:44:35.873Z"
   },
   {
    "duration": 248,
    "start_time": "2022-04-07T10:45:01.193Z"
   },
   {
    "duration": 75,
    "start_time": "2022-04-07T10:45:08.993Z"
   },
   {
    "duration": 3,
    "start_time": "2022-04-07T10:45:33.057Z"
   },
   {
    "duration": 5,
    "start_time": "2022-04-07T10:45:39.776Z"
   },
   {
    "duration": 5,
    "start_time": "2022-04-07T10:45:49.523Z"
   },
   {
    "duration": 8,
    "start_time": "2022-04-07T10:46:08.359Z"
   },
   {
    "duration": 9,
    "start_time": "2022-04-07T10:46:12.007Z"
   },
   {
    "duration": 7,
    "start_time": "2022-04-07T10:47:43.725Z"
   },
   {
    "duration": 14,
    "start_time": "2022-04-07T10:48:25.948Z"
   },
   {
    "duration": 5,
    "start_time": "2022-04-07T10:48:34.917Z"
   },
   {
    "duration": 5,
    "start_time": "2022-04-07T10:53:36.215Z"
   },
   {
    "duration": 144,
    "start_time": "2022-04-07T10:58:00.490Z"
   },
   {
    "duration": 165,
    "start_time": "2022-04-07T10:58:17.105Z"
   },
   {
    "duration": 5,
    "start_time": "2022-04-07T10:58:26.240Z"
   },
   {
    "duration": 4,
    "start_time": "2022-04-07T10:58:30.273Z"
   },
   {
    "duration": 7,
    "start_time": "2022-04-07T10:59:04.255Z"
   },
   {
    "duration": 7,
    "start_time": "2022-04-07T10:59:12.312Z"
   },
   {
    "duration": 9,
    "start_time": "2022-04-07T10:59:22.543Z"
   },
   {
    "duration": 6,
    "start_time": "2022-04-07T10:59:33.215Z"
   },
   {
    "duration": 5,
    "start_time": "2022-04-07T11:08:50.965Z"
   },
   {
    "duration": 14,
    "start_time": "2022-04-07T11:08:58.379Z"
   },
   {
    "duration": 11,
    "start_time": "2022-04-07T11:09:08.028Z"
   },
   {
    "duration": 12,
    "start_time": "2022-04-07T11:09:21.147Z"
   },
   {
    "duration": 21,
    "start_time": "2022-04-07T11:09:25.159Z"
   },
   {
    "duration": 4,
    "start_time": "2022-04-07T11:09:54.164Z"
   },
   {
    "duration": 18,
    "start_time": "2022-04-07T11:10:04.938Z"
   },
   {
    "duration": 5,
    "start_time": "2022-04-07T11:10:36.437Z"
   },
   {
    "duration": 18,
    "start_time": "2022-04-07T11:10:49.170Z"
   },
   {
    "duration": 9,
    "start_time": "2022-04-07T11:11:37.689Z"
   },
   {
    "duration": 10,
    "start_time": "2022-04-07T11:11:41.288Z"
   },
   {
    "duration": 14,
    "start_time": "2022-04-07T11:11:50.056Z"
   },
   {
    "duration": 5,
    "start_time": "2022-04-07T11:11:55.008Z"
   },
   {
    "duration": 14,
    "start_time": "2022-04-07T11:12:02.570Z"
   },
   {
    "duration": 5,
    "start_time": "2022-04-07T11:12:05.600Z"
   },
   {
    "duration": 7,
    "start_time": "2022-04-07T11:12:10.824Z"
   },
   {
    "duration": 6,
    "start_time": "2022-04-07T11:12:52.273Z"
   },
   {
    "duration": 5,
    "start_time": "2022-04-07T11:13:16.720Z"
   },
   {
    "duration": 2137,
    "start_time": "2022-04-07T20:37:20.776Z"
   },
   {
    "duration": 4,
    "start_time": "2022-04-07T20:37:22.916Z"
   },
   {
    "duration": 442,
    "start_time": "2022-04-07T20:37:22.922Z"
   },
   {
    "duration": 323,
    "start_time": "2022-04-07T20:37:23.367Z"
   },
   {
    "duration": 159,
    "start_time": "2022-04-07T20:37:23.693Z"
   },
   {
    "duration": 25,
    "start_time": "2022-04-07T20:37:23.855Z"
   },
   {
    "duration": 19,
    "start_time": "2022-04-07T20:37:23.882Z"
   },
   {
    "duration": 9,
    "start_time": "2022-04-07T20:37:23.904Z"
   },
   {
    "duration": 7,
    "start_time": "2022-04-07T20:37:23.915Z"
   },
   {
    "duration": 54,
    "start_time": "2022-04-07T20:37:23.926Z"
   },
   {
    "duration": 21,
    "start_time": "2022-04-07T20:37:23.982Z"
   },
   {
    "duration": 6,
    "start_time": "2022-04-07T20:37:24.006Z"
   },
   {
    "duration": 206,
    "start_time": "2022-04-07T20:37:24.015Z"
   },
   {
    "duration": 12,
    "start_time": "2022-04-07T20:37:24.224Z"
   },
   {
    "duration": 7,
    "start_time": "2022-04-07T20:37:24.238Z"
   },
   {
    "duration": 27,
    "start_time": "2022-04-07T20:37:24.248Z"
   },
   {
    "duration": 9,
    "start_time": "2022-04-07T20:37:24.278Z"
   },
   {
    "duration": 10,
    "start_time": "2022-04-07T20:37:24.289Z"
   },
   {
    "duration": 7,
    "start_time": "2022-04-07T20:37:24.302Z"
   },
   {
    "duration": 557,
    "start_time": "2022-04-07T20:37:24.311Z"
   },
   {
    "duration": 759,
    "start_time": "2022-04-07T20:37:24.870Z"
   },
   {
    "duration": 3047,
    "start_time": "2022-04-07T20:37:25.631Z"
   },
   {
    "duration": 8,
    "start_time": "2022-04-07T20:37:28.681Z"
   },
   {
    "duration": 13,
    "start_time": "2022-04-07T20:37:28.692Z"
   },
   {
    "duration": 15,
    "start_time": "2022-04-07T20:37:28.708Z"
   },
   {
    "duration": 1199,
    "start_time": "2022-04-07T20:37:28.725Z"
   },
   {
    "duration": 28,
    "start_time": "2022-04-07T20:37:29.927Z"
   },
   {
    "duration": 697,
    "start_time": "2022-04-07T20:37:29.981Z"
   },
   {
    "duration": 121,
    "start_time": "2022-04-07T20:37:30.681Z"
   },
   {
    "duration": 11,
    "start_time": "2022-04-07T20:37:30.808Z"
   },
   {
    "duration": 12,
    "start_time": "2022-04-07T20:37:30.821Z"
   },
   {
    "duration": 49,
    "start_time": "2022-04-07T20:37:30.836Z"
   },
   {
    "duration": 41,
    "start_time": "2022-04-07T20:37:30.888Z"
   },
   {
    "duration": 12,
    "start_time": "2022-04-07T20:37:30.932Z"
   },
   {
    "duration": 41,
    "start_time": "2022-04-07T20:37:30.946Z"
   },
   {
    "duration": 36,
    "start_time": "2022-04-07T20:37:30.990Z"
   },
   {
    "duration": 10,
    "start_time": "2022-04-07T20:37:31.028Z"
   },
   {
    "duration": 146,
    "start_time": "2022-04-07T20:37:31.040Z"
   },
   {
    "duration": 12,
    "start_time": "2022-04-07T20:37:31.188Z"
   },
   {
    "duration": 32,
    "start_time": "2022-04-07T20:37:35.178Z"
   },
   {
    "duration": 6,
    "start_time": "2022-04-07T20:37:43.730Z"
   },
   {
    "duration": 7,
    "start_time": "2022-04-07T20:37:47.586Z"
   },
   {
    "duration": 6,
    "start_time": "2022-04-07T20:37:56.400Z"
   },
   {
    "duration": 25,
    "start_time": "2022-04-07T20:38:36.840Z"
   },
   {
    "duration": 19,
    "start_time": "2022-04-07T20:38:41.817Z"
   },
   {
    "duration": 17,
    "start_time": "2022-04-07T20:39:47.632Z"
   },
   {
    "duration": 1898,
    "start_time": "2022-04-07T20:40:16.267Z"
   },
   {
    "duration": 4,
    "start_time": "2022-04-07T20:40:18.168Z"
   },
   {
    "duration": 430,
    "start_time": "2022-04-07T20:40:18.175Z"
   },
   {
    "duration": 317,
    "start_time": "2022-04-07T20:40:18.610Z"
   },
   {
    "duration": 99,
    "start_time": "2022-04-07T20:40:18.930Z"
   },
   {
    "duration": 15,
    "start_time": "2022-04-07T20:40:19.031Z"
   },
   {
    "duration": 36,
    "start_time": "2022-04-07T20:40:19.048Z"
   },
   {
    "duration": 7,
    "start_time": "2022-04-07T20:40:19.086Z"
   },
   {
    "duration": 6,
    "start_time": "2022-04-07T20:40:19.095Z"
   },
   {
    "duration": 14,
    "start_time": "2022-04-07T20:40:19.105Z"
   },
   {
    "duration": 57,
    "start_time": "2022-04-07T20:40:19.121Z"
   },
   {
    "duration": 3,
    "start_time": "2022-04-07T20:40:19.181Z"
   },
   {
    "duration": 148,
    "start_time": "2022-04-07T20:40:19.188Z"
   },
   {
    "duration": 13,
    "start_time": "2022-04-07T20:40:19.338Z"
   },
   {
    "duration": 22,
    "start_time": "2022-04-07T20:40:19.353Z"
   },
   {
    "duration": 7,
    "start_time": "2022-04-07T20:40:19.377Z"
   },
   {
    "duration": 10,
    "start_time": "2022-04-07T20:40:19.386Z"
   },
   {
    "duration": 8,
    "start_time": "2022-04-07T20:40:19.398Z"
   },
   {
    "duration": 6,
    "start_time": "2022-04-07T20:40:19.408Z"
   },
   {
    "duration": 489,
    "start_time": "2022-04-07T20:40:19.416Z"
   },
   {
    "duration": 696,
    "start_time": "2022-04-07T20:40:19.907Z"
   },
   {
    "duration": 3059,
    "start_time": "2022-04-07T20:40:20.606Z"
   },
   {
    "duration": 8,
    "start_time": "2022-04-07T20:40:23.673Z"
   },
   {
    "duration": 13,
    "start_time": "2022-04-07T20:40:23.684Z"
   },
   {
    "duration": 13,
    "start_time": "2022-04-07T20:40:23.699Z"
   },
   {
    "duration": 1254,
    "start_time": "2022-04-07T20:40:23.714Z"
   },
   {
    "duration": 34,
    "start_time": "2022-04-07T20:40:24.973Z"
   },
   {
    "duration": 776,
    "start_time": "2022-04-07T20:40:25.014Z"
   },
   {
    "duration": 99,
    "start_time": "2022-04-07T20:40:25.793Z"
   },
   {
    "duration": 8,
    "start_time": "2022-04-07T20:40:25.894Z"
   },
   {
    "duration": 8,
    "start_time": "2022-04-07T20:40:25.905Z"
   },
   {
    "duration": 15,
    "start_time": "2022-04-07T20:40:25.915Z"
   },
   {
    "duration": 63,
    "start_time": "2022-04-07T20:40:25.932Z"
   },
   {
    "duration": 9,
    "start_time": "2022-04-07T20:40:25.998Z"
   },
   {
    "duration": 16,
    "start_time": "2022-04-07T20:40:26.009Z"
   },
   {
    "duration": 61,
    "start_time": "2022-04-07T20:40:26.027Z"
   },
   {
    "duration": 9,
    "start_time": "2022-04-07T20:40:26.090Z"
   },
   {
    "duration": 14,
    "start_time": "2022-04-07T20:40:26.101Z"
   },
   {
    "duration": 9,
    "start_time": "2022-04-07T20:40:26.117Z"
   },
   {
    "duration": 76,
    "start_time": "2022-04-07T20:40:26.129Z"
   },
   {
    "duration": 11,
    "start_time": "2022-04-07T20:40:26.208Z"
   },
   {
    "duration": 8,
    "start_time": "2022-04-07T20:40:26.221Z"
   },
   {
    "duration": 1478,
    "start_time": "2022-04-08T08:43:59.051Z"
   },
   {
    "duration": 2,
    "start_time": "2022-04-08T08:44:00.532Z"
   },
   {
    "duration": 362,
    "start_time": "2022-04-08T08:44:00.536Z"
   },
   {
    "duration": 253,
    "start_time": "2022-04-08T08:44:00.900Z"
   },
   {
    "duration": 80,
    "start_time": "2022-04-08T08:44:01.154Z"
   },
   {
    "duration": 9,
    "start_time": "2022-04-08T08:44:01.236Z"
   },
   {
    "duration": 13,
    "start_time": "2022-04-08T08:44:01.247Z"
   },
   {
    "duration": 9,
    "start_time": "2022-04-08T08:44:01.261Z"
   },
   {
    "duration": 6,
    "start_time": "2022-04-08T08:44:01.272Z"
   },
   {
    "duration": 32,
    "start_time": "2022-04-08T08:44:01.280Z"
   },
   {
    "duration": 13,
    "start_time": "2022-04-08T08:44:01.314Z"
   },
   {
    "duration": 7,
    "start_time": "2022-04-08T08:44:01.328Z"
   },
   {
    "duration": 104,
    "start_time": "2022-04-08T08:44:01.337Z"
   },
   {
    "duration": 9,
    "start_time": "2022-04-08T08:44:01.443Z"
   },
   {
    "duration": 4,
    "start_time": "2022-04-08T08:44:01.453Z"
   },
   {
    "duration": 7,
    "start_time": "2022-04-08T08:44:01.458Z"
   },
   {
    "duration": 6,
    "start_time": "2022-04-08T08:44:01.466Z"
   },
   {
    "duration": 8,
    "start_time": "2022-04-08T08:44:01.473Z"
   },
   {
    "duration": 29,
    "start_time": "2022-04-08T08:44:01.483Z"
   },
   {
    "duration": 295,
    "start_time": "2022-04-08T08:44:01.513Z"
   },
   {
    "duration": 422,
    "start_time": "2022-04-08T08:44:01.810Z"
   },
   {
    "duration": 1733,
    "start_time": "2022-04-08T08:44:02.234Z"
   },
   {
    "duration": 5,
    "start_time": "2022-04-08T08:44:03.968Z"
   },
   {
    "duration": 20,
    "start_time": "2022-04-08T08:44:03.974Z"
   },
   {
    "duration": 18,
    "start_time": "2022-04-08T08:44:03.995Z"
   },
   {
    "duration": 658,
    "start_time": "2022-04-08T08:44:04.015Z"
   },
   {
    "duration": 20,
    "start_time": "2022-04-08T08:44:04.675Z"
   },
   {
    "duration": 442,
    "start_time": "2022-04-08T08:44:04.708Z"
   },
   {
    "duration": 67,
    "start_time": "2022-04-08T08:44:05.152Z"
   },
   {
    "duration": 7,
    "start_time": "2022-04-08T08:44:05.221Z"
   },
   {
    "duration": 9,
    "start_time": "2022-04-08T08:44:05.229Z"
   },
   {
    "duration": 12,
    "start_time": "2022-04-08T08:44:05.239Z"
   },
   {
    "duration": 20,
    "start_time": "2022-04-08T08:44:05.252Z"
   },
   {
    "duration": 38,
    "start_time": "2022-04-08T08:44:05.273Z"
   },
   {
    "duration": 11,
    "start_time": "2022-04-08T08:44:05.313Z"
   },
   {
    "duration": 20,
    "start_time": "2022-04-08T08:44:05.325Z"
   },
   {
    "duration": 7,
    "start_time": "2022-04-08T08:44:05.347Z"
   },
   {
    "duration": 14,
    "start_time": "2022-04-08T08:44:05.356Z"
   },
   {
    "duration": 41,
    "start_time": "2022-04-08T08:44:05.372Z"
   },
   {
    "duration": 23,
    "start_time": "2022-04-08T08:44:05.415Z"
   },
   {
    "duration": 6,
    "start_time": "2022-04-08T08:44:05.440Z"
   },
   {
    "duration": 5,
    "start_time": "2022-04-08T08:44:05.448Z"
   },
   {
    "duration": 7,
    "start_time": "2022-04-08T08:44:05.454Z"
   },
   {
    "duration": 4,
    "start_time": "2022-04-08T09:00:28.832Z"
   },
   {
    "duration": 110,
    "start_time": "2022-04-08T09:14:47.735Z"
   },
   {
    "duration": 4,
    "start_time": "2022-04-08T09:17:19.546Z"
   },
   {
    "duration": 5,
    "start_time": "2022-04-08T09:17:21.091Z"
   },
   {
    "duration": 5,
    "start_time": "2022-04-08T09:18:12.266Z"
   },
   {
    "duration": 85,
    "start_time": "2022-04-08T09:48:10.390Z"
   },
   {
    "duration": 7,
    "start_time": "2022-04-08T09:48:15.652Z"
   },
   {
    "duration": 5,
    "start_time": "2022-04-08T09:48:26.965Z"
   },
   {
    "duration": 4,
    "start_time": "2022-04-08T09:48:35.958Z"
   },
   {
    "duration": 5,
    "start_time": "2022-04-08T09:48:44.869Z"
   },
   {
    "duration": 3,
    "start_time": "2022-04-08T09:48:53.109Z"
   },
   {
    "duration": 4,
    "start_time": "2022-04-08T09:48:59.973Z"
   },
   {
    "duration": 4,
    "start_time": "2022-04-08T09:49:06.589Z"
   },
   {
    "duration": 48,
    "start_time": "2022-04-08T10:06:40.125Z"
   },
   {
    "duration": 48,
    "start_time": "2022-04-09T15:52:25.320Z"
   },
   {
    "duration": 1529,
    "start_time": "2022-04-09T15:52:32.775Z"
   },
   {
    "duration": 3,
    "start_time": "2022-04-09T15:52:34.306Z"
   },
   {
    "duration": 364,
    "start_time": "2022-04-09T15:52:34.311Z"
   },
   {
    "duration": 253,
    "start_time": "2022-04-09T15:52:34.677Z"
   },
   {
    "duration": 79,
    "start_time": "2022-04-09T15:52:34.932Z"
   },
   {
    "duration": 11,
    "start_time": "2022-04-09T15:52:35.012Z"
   },
   {
    "duration": 31,
    "start_time": "2022-04-09T15:52:35.024Z"
   },
   {
    "duration": 5,
    "start_time": "2022-04-09T15:52:35.057Z"
   },
   {
    "duration": 21,
    "start_time": "2022-04-09T15:52:35.063Z"
   },
   {
    "duration": 11,
    "start_time": "2022-04-09T15:52:35.087Z"
   },
   {
    "duration": 12,
    "start_time": "2022-04-09T15:52:35.100Z"
   },
   {
    "duration": 2,
    "start_time": "2022-04-09T15:52:35.113Z"
   },
   {
    "duration": 99,
    "start_time": "2022-04-09T15:52:35.117Z"
   },
   {
    "duration": 8,
    "start_time": "2022-04-09T15:52:35.218Z"
   },
   {
    "duration": 3,
    "start_time": "2022-04-09T15:52:35.228Z"
   },
   {
    "duration": 16,
    "start_time": "2022-04-09T15:52:35.232Z"
   },
   {
    "duration": 3,
    "start_time": "2022-04-09T15:52:35.249Z"
   },
   {
    "duration": 5,
    "start_time": "2022-04-09T15:52:35.253Z"
   },
   {
    "duration": 5,
    "start_time": "2022-04-09T15:52:35.259Z"
   },
   {
    "duration": 301,
    "start_time": "2022-04-09T15:52:35.265Z"
   },
   {
    "duration": 372,
    "start_time": "2022-04-09T15:52:35.567Z"
   },
   {
    "duration": 1636,
    "start_time": "2022-04-09T15:52:35.941Z"
   },
   {
    "duration": 6,
    "start_time": "2022-04-09T15:52:37.578Z"
   },
   {
    "duration": 16,
    "start_time": "2022-04-09T15:52:37.585Z"
   },
   {
    "duration": 5,
    "start_time": "2022-04-09T15:52:37.602Z"
   },
   {
    "duration": 528,
    "start_time": "2022-04-09T15:52:37.609Z"
   },
   {
    "duration": 26,
    "start_time": "2022-04-09T15:52:38.138Z"
   },
   {
    "duration": 402,
    "start_time": "2022-04-09T15:52:38.168Z"
   },
   {
    "duration": 55,
    "start_time": "2022-04-09T15:52:38.572Z"
   },
   {
    "duration": 20,
    "start_time": "2022-04-09T15:52:38.629Z"
   },
   {
    "duration": 21,
    "start_time": "2022-04-09T15:52:38.650Z"
   },
   {
    "duration": 25,
    "start_time": "2022-04-09T15:52:38.673Z"
   },
   {
    "duration": 28,
    "start_time": "2022-04-09T15:52:38.699Z"
   },
   {
    "duration": 7,
    "start_time": "2022-04-09T15:52:38.728Z"
   },
   {
    "duration": 14,
    "start_time": "2022-04-09T15:52:38.736Z"
   },
   {
    "duration": 17,
    "start_time": "2022-04-09T15:52:38.751Z"
   },
   {
    "duration": 7,
    "start_time": "2022-04-09T15:52:38.769Z"
   },
   {
    "duration": 14,
    "start_time": "2022-04-09T15:52:38.777Z"
   },
   {
    "duration": 6,
    "start_time": "2022-04-09T15:52:38.793Z"
   },
   {
    "duration": 23,
    "start_time": "2022-04-09T15:52:38.801Z"
   },
   {
    "duration": 29,
    "start_time": "2022-04-09T15:52:38.825Z"
   },
   {
    "duration": 6,
    "start_time": "2022-04-09T15:52:38.855Z"
   },
   {
    "duration": 7,
    "start_time": "2022-04-09T15:52:38.863Z"
   },
   {
    "duration": 9,
    "start_time": "2022-04-09T15:52:38.872Z"
   },
   {
    "duration": 10,
    "start_time": "2022-04-09T15:52:38.882Z"
   },
   {
    "duration": 6,
    "start_time": "2022-04-09T15:52:38.893Z"
   },
   {
    "duration": 6,
    "start_time": "2022-04-09T15:52:38.900Z"
   },
   {
    "duration": 6,
    "start_time": "2022-04-09T15:52:38.908Z"
   },
   {
    "duration": 32,
    "start_time": "2022-04-09T15:52:38.916Z"
   },
   {
    "duration": 4,
    "start_time": "2022-04-09T15:52:38.950Z"
   },
   {
    "duration": 7,
    "start_time": "2022-04-09T15:52:38.956Z"
   },
   {
    "duration": 115,
    "start_time": "2022-04-09T15:52:38.964Z"
   },
   {
    "duration": 9,
    "start_time": "2022-04-09T15:52:49.150Z"
   },
   {
    "duration": 4,
    "start_time": "2022-04-09T15:53:36.255Z"
   },
   {
    "duration": 10,
    "start_time": "2022-04-09T15:53:41.228Z"
   },
   {
    "duration": 8,
    "start_time": "2022-04-09T15:54:09.204Z"
   },
   {
    "duration": 9,
    "start_time": "2022-04-09T15:54:21.603Z"
   },
   {
    "duration": 4,
    "start_time": "2022-04-09T15:54:23.451Z"
   },
   {
    "duration": 4,
    "start_time": "2022-04-09T15:54:25.099Z"
   },
   {
    "duration": 5,
    "start_time": "2022-04-09T15:54:27.180Z"
   },
   {
    "duration": 4,
    "start_time": "2022-04-09T15:54:29.570Z"
   },
   {
    "duration": 4,
    "start_time": "2022-04-09T15:54:31.387Z"
   },
   {
    "duration": 4,
    "start_time": "2022-04-09T15:54:34.299Z"
   },
   {
    "duration": 1168,
    "start_time": "2022-04-09T15:54:40.283Z"
   },
   {
    "duration": 3,
    "start_time": "2022-04-09T16:01:50.656Z"
   },
   {
    "duration": 1170,
    "start_time": "2022-04-09T16:01:52.379Z"
   },
   {
    "duration": 1416,
    "start_time": "2022-04-09T16:02:00.738Z"
   },
   {
    "duration": 6,
    "start_time": "2022-04-09T16:11:41.407Z"
   },
   {
    "duration": 14,
    "start_time": "2022-04-09T16:12:07.862Z"
   },
   {
    "duration": 3,
    "start_time": "2022-04-09T16:12:17.503Z"
   },
   {
    "duration": 6,
    "start_time": "2022-04-09T16:12:21.886Z"
   },
   {
    "duration": 5,
    "start_time": "2022-04-09T16:14:22.109Z"
   },
   {
    "duration": 59457,
    "start_time": "2022-04-09T16:14:22.116Z"
   },
   {
    "duration": 63497,
    "start_time": "2022-04-09T16:15:21.574Z"
   },
   {
    "duration": 109,
    "start_time": "2022-04-09T16:30:07.953Z"
   },
   {
    "duration": 5,
    "start_time": "2022-04-09T16:30:18.605Z"
   },
   {
    "duration": 1417,
    "start_time": "2022-04-09T16:31:06.130Z"
   },
   {
    "duration": 3,
    "start_time": "2022-04-09T16:31:07.549Z"
   },
   {
    "duration": 370,
    "start_time": "2022-04-09T16:31:07.554Z"
   },
   {
    "duration": 271,
    "start_time": "2022-04-09T16:31:07.927Z"
   },
   {
    "duration": 87,
    "start_time": "2022-04-09T16:31:08.200Z"
   },
   {
    "duration": 11,
    "start_time": "2022-04-09T16:31:08.289Z"
   },
   {
    "duration": 17,
    "start_time": "2022-04-09T16:31:08.301Z"
   },
   {
    "duration": 6,
    "start_time": "2022-04-09T16:31:08.320Z"
   },
   {
    "duration": 4,
    "start_time": "2022-04-09T16:31:08.348Z"
   },
   {
    "duration": 15,
    "start_time": "2022-04-09T16:31:08.355Z"
   },
   {
    "duration": 14,
    "start_time": "2022-04-09T16:31:08.372Z"
   },
   {
    "duration": 2,
    "start_time": "2022-04-09T16:31:08.387Z"
   },
   {
    "duration": 116,
    "start_time": "2022-04-09T16:31:08.391Z"
   },
   {
    "duration": 8,
    "start_time": "2022-04-09T16:31:08.509Z"
   },
   {
    "duration": 4,
    "start_time": "2022-04-09T16:31:08.518Z"
   },
   {
    "duration": 6,
    "start_time": "2022-04-09T16:31:08.523Z"
   },
   {
    "duration": 21,
    "start_time": "2022-04-09T16:31:08.530Z"
   },
   {
    "duration": 5,
    "start_time": "2022-04-09T16:31:08.552Z"
   },
   {
    "duration": 5,
    "start_time": "2022-04-09T16:31:08.558Z"
   },
   {
    "duration": 305,
    "start_time": "2022-04-09T16:31:08.564Z"
   },
   {
    "duration": 378,
    "start_time": "2022-04-09T16:31:08.871Z"
   },
   {
    "duration": 1655,
    "start_time": "2022-04-09T16:31:09.251Z"
   },
   {
    "duration": 5,
    "start_time": "2022-04-09T16:31:10.908Z"
   },
   {
    "duration": 9,
    "start_time": "2022-04-09T16:31:10.915Z"
   },
   {
    "duration": 5,
    "start_time": "2022-04-09T16:31:10.925Z"
   },
   {
    "duration": 544,
    "start_time": "2022-04-09T16:31:10.948Z"
   },
   {
    "duration": 22,
    "start_time": "2022-04-09T16:31:11.493Z"
   },
   {
    "duration": 421,
    "start_time": "2022-04-09T16:31:11.518Z"
   },
   {
    "duration": 62,
    "start_time": "2022-04-09T16:31:11.941Z"
   },
   {
    "duration": 7,
    "start_time": "2022-04-09T16:31:12.005Z"
   },
   {
    "duration": 20,
    "start_time": "2022-04-09T16:31:12.013Z"
   },
   {
    "duration": 23,
    "start_time": "2022-04-09T16:31:12.035Z"
   },
   {
    "duration": 22,
    "start_time": "2022-04-09T16:31:12.059Z"
   },
   {
    "duration": 11,
    "start_time": "2022-04-09T16:31:12.083Z"
   },
   {
    "duration": 28,
    "start_time": "2022-04-09T16:31:12.096Z"
   },
   {
    "duration": 34,
    "start_time": "2022-04-09T16:31:12.125Z"
   },
   {
    "duration": 7,
    "start_time": "2022-04-09T16:31:12.161Z"
   },
   {
    "duration": 11,
    "start_time": "2022-04-09T16:31:12.170Z"
   },
   {
    "duration": 23,
    "start_time": "2022-04-09T16:31:12.182Z"
   },
   {
    "duration": 33,
    "start_time": "2022-04-09T16:31:12.206Z"
   },
   {
    "duration": 7,
    "start_time": "2022-04-09T16:31:12.247Z"
   },
   {
    "duration": 16,
    "start_time": "2022-04-09T16:31:12.255Z"
   },
   {
    "duration": 11,
    "start_time": "2022-04-09T16:31:12.272Z"
   },
   {
    "duration": 26,
    "start_time": "2022-04-09T16:31:12.284Z"
   },
   {
    "duration": 12,
    "start_time": "2022-04-09T16:31:12.311Z"
   },
   {
    "duration": 9,
    "start_time": "2022-04-09T16:31:12.325Z"
   },
   {
    "duration": 10,
    "start_time": "2022-04-09T16:31:12.335Z"
   },
   {
    "duration": 20,
    "start_time": "2022-04-09T16:31:12.347Z"
   },
   {
    "duration": 7,
    "start_time": "2022-04-09T16:31:12.369Z"
   },
   {
    "duration": 15,
    "start_time": "2022-04-09T16:31:12.378Z"
   },
   {
    "duration": 17,
    "start_time": "2022-04-09T16:31:12.395Z"
   },
   {
    "duration": 5,
    "start_time": "2022-04-09T16:31:12.414Z"
   },
   {
    "duration": 1230,
    "start_time": "2022-04-09T16:31:12.421Z"
   },
   {
    "duration": 1299,
    "start_time": "2022-04-09T16:31:13.653Z"
   },
   {
    "duration": 97,
    "start_time": "2022-04-09T16:31:14.954Z"
   },
   {
    "duration": 2816,
    "start_time": "2022-04-09T16:31:15.053Z"
   },
   {
    "duration": 2822,
    "start_time": "2022-04-09T16:31:17.870Z"
   },
   {
    "duration": 5,
    "start_time": "2022-04-09T16:31:20.694Z"
   },
   {
    "duration": 16141,
    "start_time": "2022-04-09T16:31:20.700Z"
   },
   {
    "duration": 16275,
    "start_time": "2022-04-09T16:31:36.847Z"
   },
   {
    "duration": 3,
    "start_time": "2022-04-09T16:38:13.339Z"
   },
   {
    "duration": 111,
    "start_time": "2022-04-09T16:38:16.677Z"
   },
   {
    "duration": 12,
    "start_time": "2022-04-09T19:48:45.849Z"
   },
   {
    "duration": 66,
    "start_time": "2022-04-09T19:48:48.102Z"
   },
   {
    "duration": 9,
    "start_time": "2022-04-09T19:49:28.973Z"
   },
   {
    "duration": 2362,
    "start_time": "2022-04-09T19:49:39.590Z"
   },
   {
    "duration": 4,
    "start_time": "2022-04-09T19:49:41.955Z"
   },
   {
    "duration": 463,
    "start_time": "2022-04-09T19:49:41.961Z"
   },
   {
    "duration": 342,
    "start_time": "2022-04-09T19:49:42.427Z"
   },
   {
    "duration": 108,
    "start_time": "2022-04-09T19:49:42.773Z"
   },
   {
    "duration": 17,
    "start_time": "2022-04-09T19:49:42.884Z"
   },
   {
    "duration": 43,
    "start_time": "2022-04-09T19:49:42.904Z"
   },
   {
    "duration": 7,
    "start_time": "2022-04-09T19:49:42.950Z"
   },
   {
    "duration": 5,
    "start_time": "2022-04-09T19:49:42.959Z"
   },
   {
    "duration": 17,
    "start_time": "2022-04-09T19:49:42.967Z"
   },
   {
    "duration": 59,
    "start_time": "2022-04-09T19:49:42.987Z"
   },
   {
    "duration": 4,
    "start_time": "2022-04-09T19:49:43.048Z"
   },
   {
    "duration": 144,
    "start_time": "2022-04-09T19:49:43.055Z"
   },
   {
    "duration": 12,
    "start_time": "2022-04-09T19:49:43.204Z"
   },
   {
    "duration": 27,
    "start_time": "2022-04-09T19:49:43.218Z"
   },
   {
    "duration": 8,
    "start_time": "2022-04-09T19:49:43.248Z"
   },
   {
    "duration": 13,
    "start_time": "2022-04-09T19:49:43.258Z"
   },
   {
    "duration": 8,
    "start_time": "2022-04-09T19:49:43.273Z"
   },
   {
    "duration": 8,
    "start_time": "2022-04-09T19:49:43.283Z"
   },
   {
    "duration": 462,
    "start_time": "2022-04-09T19:49:43.293Z"
   },
   {
    "duration": 658,
    "start_time": "2022-04-09T19:49:43.757Z"
   },
   {
    "duration": 4255,
    "start_time": "2022-04-09T19:49:44.418Z"
   },
   {
    "duration": 8,
    "start_time": "2022-04-09T19:49:48.676Z"
   },
   {
    "duration": 16,
    "start_time": "2022-04-09T19:49:48.687Z"
   },
   {
    "duration": 38,
    "start_time": "2022-04-09T19:49:48.706Z"
   },
   {
    "duration": 909,
    "start_time": "2022-04-09T19:49:48.746Z"
   },
   {
    "duration": 30,
    "start_time": "2022-04-09T19:49:49.657Z"
   },
   {
    "duration": 695,
    "start_time": "2022-04-09T19:49:49.689Z"
   },
   {
    "duration": 111,
    "start_time": "2022-04-09T19:49:50.386Z"
   },
   {
    "duration": 10,
    "start_time": "2022-04-09T19:49:50.499Z"
   },
   {
    "duration": 32,
    "start_time": "2022-04-09T19:49:50.512Z"
   },
   {
    "duration": 18,
    "start_time": "2022-04-09T19:49:50.547Z"
   },
   {
    "duration": 31,
    "start_time": "2022-04-09T19:49:50.568Z"
   },
   {
    "duration": 45,
    "start_time": "2022-04-09T19:49:50.602Z"
   },
   {
    "duration": 19,
    "start_time": "2022-04-09T19:49:50.649Z"
   },
   {
    "duration": 44,
    "start_time": "2022-04-09T19:49:50.670Z"
   },
   {
    "duration": 30,
    "start_time": "2022-04-09T19:49:50.719Z"
   },
   {
    "duration": 17,
    "start_time": "2022-04-09T19:49:50.751Z"
   },
   {
    "duration": 12,
    "start_time": "2022-04-09T19:49:50.771Z"
   },
   {
    "duration": 77,
    "start_time": "2022-04-09T19:49:50.785Z"
   },
   {
    "duration": 10,
    "start_time": "2022-04-09T19:49:50.870Z"
   },
   {
    "duration": 10,
    "start_time": "2022-04-09T19:49:50.883Z"
   },
   {
    "duration": 9,
    "start_time": "2022-04-09T19:49:50.896Z"
   },
   {
    "duration": 11,
    "start_time": "2022-04-09T19:49:54.083Z"
   },
   {
    "duration": 2559,
    "start_time": "2022-04-09T19:52:41.504Z"
   },
   {
    "duration": 5,
    "start_time": "2022-04-09T19:52:44.067Z"
   },
   {
    "duration": 494,
    "start_time": "2022-04-09T19:52:44.075Z"
   },
   {
    "duration": 343,
    "start_time": "2022-04-09T19:52:44.574Z"
   },
   {
    "duration": 112,
    "start_time": "2022-04-09T19:52:44.920Z"
   },
   {
    "duration": 21,
    "start_time": "2022-04-09T19:52:45.035Z"
   },
   {
    "duration": 21,
    "start_time": "2022-04-09T19:52:45.058Z"
   },
   {
    "duration": 7,
    "start_time": "2022-04-09T19:52:45.081Z"
   },
   {
    "duration": 6,
    "start_time": "2022-04-09T19:52:45.091Z"
   },
   {
    "duration": 54,
    "start_time": "2022-04-09T19:52:45.100Z"
   },
   {
    "duration": 18,
    "start_time": "2022-04-09T19:52:45.157Z"
   },
   {
    "duration": 4,
    "start_time": "2022-04-09T19:52:45.177Z"
   },
   {
    "duration": 156,
    "start_time": "2022-04-09T19:52:45.183Z"
   },
   {
    "duration": 12,
    "start_time": "2022-04-09T19:52:45.343Z"
   },
   {
    "duration": 14,
    "start_time": "2022-04-09T19:52:45.357Z"
   },
   {
    "duration": 6,
    "start_time": "2022-04-09T19:52:45.374Z"
   },
   {
    "duration": 7,
    "start_time": "2022-04-09T19:52:45.382Z"
   },
   {
    "duration": 7,
    "start_time": "2022-04-09T19:52:45.391Z"
   },
   {
    "duration": 5,
    "start_time": "2022-04-09T19:52:45.400Z"
   },
   {
    "duration": 453,
    "start_time": "2022-04-09T19:52:45.442Z"
   },
   {
    "duration": 1048,
    "start_time": "2022-04-09T19:52:45.898Z"
   },
   {
    "duration": 2663,
    "start_time": "2022-04-09T19:52:46.948Z"
   },
   {
    "duration": 6,
    "start_time": "2022-04-09T19:52:49.614Z"
   },
   {
    "duration": 23,
    "start_time": "2022-04-09T19:52:49.623Z"
   },
   {
    "duration": 11,
    "start_time": "2022-04-09T19:52:49.648Z"
   },
   {
    "duration": 955,
    "start_time": "2022-04-09T19:52:49.661Z"
   },
   {
    "duration": 37,
    "start_time": "2022-04-09T19:52:50.619Z"
   },
   {
    "duration": 678,
    "start_time": "2022-04-09T19:52:50.661Z"
   },
   {
    "duration": 87,
    "start_time": "2022-04-09T19:52:51.342Z"
   },
   {
    "duration": 10,
    "start_time": "2022-04-09T19:52:51.443Z"
   },
   {
    "duration": 13,
    "start_time": "2022-04-09T19:52:51.456Z"
   },
   {
    "duration": 15,
    "start_time": "2022-04-09T19:52:51.471Z"
   },
   {
    "duration": 67,
    "start_time": "2022-04-09T19:52:51.488Z"
   },
   {
    "duration": 14,
    "start_time": "2022-04-09T19:52:51.558Z"
   },
   {
    "duration": 24,
    "start_time": "2022-04-09T19:52:51.576Z"
   },
   {
    "duration": 75,
    "start_time": "2022-04-09T19:52:51.603Z"
   },
   {
    "duration": 14,
    "start_time": "2022-04-09T19:52:51.681Z"
   },
   {
    "duration": 47,
    "start_time": "2022-04-09T19:52:51.698Z"
   },
   {
    "duration": 13,
    "start_time": "2022-04-09T19:52:51.748Z"
   },
   {
    "duration": 42,
    "start_time": "2022-04-09T19:52:51.763Z"
   },
   {
    "duration": 37,
    "start_time": "2022-04-09T19:52:51.808Z"
   },
   {
    "duration": 9,
    "start_time": "2022-04-09T19:52:51.847Z"
   },
   {
    "duration": 7,
    "start_time": "2022-04-09T19:52:51.858Z"
   },
   {
    "duration": 13,
    "start_time": "2022-04-09T19:52:51.867Z"
   },
   {
    "duration": 12,
    "start_time": "2022-04-09T19:52:51.883Z"
   },
   {
    "duration": 47,
    "start_time": "2022-04-09T19:52:51.897Z"
   },
   {
    "duration": 6,
    "start_time": "2022-04-09T19:52:51.947Z"
   },
   {
    "duration": 8,
    "start_time": "2022-04-09T19:52:51.955Z"
   },
   {
    "duration": 8,
    "start_time": "2022-04-09T19:52:51.965Z"
   },
   {
    "duration": 6,
    "start_time": "2022-04-09T19:52:51.975Z"
   },
   {
    "duration": 8,
    "start_time": "2022-04-09T19:52:51.983Z"
   },
   {
    "duration": 5,
    "start_time": "2022-04-09T19:55:00.165Z"
   },
   {
    "duration": 5,
    "start_time": "2022-04-09T19:57:15.859Z"
   },
   {
    "duration": 399,
    "start_time": "2022-04-09T19:57:18.499Z"
   },
   {
    "duration": 5,
    "start_time": "2022-04-09T20:00:07.001Z"
   },
   {
    "duration": 2012,
    "start_time": "2022-04-09T20:00:11.335Z"
   },
   {
    "duration": 5,
    "start_time": "2022-04-09T20:00:38.432Z"
   },
   {
    "duration": 1503,
    "start_time": "2022-04-09T20:00:43.440Z"
   },
   {
    "duration": 1842,
    "start_time": "2022-04-09T20:03:00.506Z"
   },
   {
    "duration": 7,
    "start_time": "2022-04-09T20:07:31.486Z"
   },
   {
    "duration": 10,
    "start_time": "2022-04-09T20:07:33.631Z"
   },
   {
    "duration": 9,
    "start_time": "2022-04-09T20:07:36.802Z"
   },
   {
    "duration": 9,
    "start_time": "2022-04-09T20:07:43.175Z"
   },
   {
    "duration": 5,
    "start_time": "2022-04-09T20:07:46.630Z"
   },
   {
    "duration": 2080,
    "start_time": "2022-04-09T20:07:48.463Z"
   },
   {
    "duration": 1635,
    "start_time": "2022-04-09T20:07:53.030Z"
   },
   {
    "duration": 1513,
    "start_time": "2022-04-09T20:40:11.336Z"
   },
   {
    "duration": 2102,
    "start_time": "2022-04-09T20:40:26.160Z"
   },
   {
    "duration": 6,
    "start_time": "2022-04-09T20:42:01.845Z"
   },
   {
    "duration": 10,
    "start_time": "2022-04-09T20:42:42.198Z"
   },
   {
    "duration": 3986,
    "start_time": "2022-04-09T20:42:52.068Z"
   },
   {
    "duration": 3873,
    "start_time": "2022-04-09T20:43:17.780Z"
   },
   {
    "duration": 7,
    "start_time": "2022-04-09T20:44:07.804Z"
   },
   {
    "duration": 4083,
    "start_time": "2022-04-09T20:44:14.179Z"
   },
   {
    "duration": 3953,
    "start_time": "2022-04-09T20:44:23.099Z"
   },
   {
    "duration": 8,
    "start_time": "2022-04-09T20:44:51.579Z"
   },
   {
    "duration": 22332,
    "start_time": "2022-04-09T20:44:54.882Z"
   },
   {
    "duration": 22492,
    "start_time": "2022-04-09T20:45:35.083Z"
   },
   {
    "duration": 7,
    "start_time": "2022-04-09T20:48:35.172Z"
   },
   {
    "duration": 3592,
    "start_time": "2022-04-09T20:48:37.238Z"
   },
   {
    "duration": 3736,
    "start_time": "2022-04-09T20:48:40.833Z"
   },
   {
    "duration": 2131,
    "start_time": "2022-04-09T20:52:14.955Z"
   },
   {
    "duration": 4,
    "start_time": "2022-04-09T20:52:17.088Z"
   },
   {
    "duration": 472,
    "start_time": "2022-04-09T20:52:17.094Z"
   },
   {
    "duration": 341,
    "start_time": "2022-04-09T20:52:17.569Z"
   },
   {
    "duration": 116,
    "start_time": "2022-04-09T20:52:17.912Z"
   },
   {
    "duration": 27,
    "start_time": "2022-04-09T20:52:18.031Z"
   },
   {
    "duration": 27,
    "start_time": "2022-04-09T20:52:18.061Z"
   },
   {
    "duration": 9,
    "start_time": "2022-04-09T20:52:18.090Z"
   },
   {
    "duration": 41,
    "start_time": "2022-04-09T20:52:18.102Z"
   },
   {
    "duration": 14,
    "start_time": "2022-04-09T20:52:18.148Z"
   },
   {
    "duration": 17,
    "start_time": "2022-04-09T20:52:18.164Z"
   },
   {
    "duration": 4,
    "start_time": "2022-04-09T20:52:18.183Z"
   },
   {
    "duration": 173,
    "start_time": "2022-04-09T20:52:18.189Z"
   },
   {
    "duration": 13,
    "start_time": "2022-04-09T20:52:18.364Z"
   },
   {
    "duration": 6,
    "start_time": "2022-04-09T20:52:18.379Z"
   },
   {
    "duration": 7,
    "start_time": "2022-04-09T20:52:18.388Z"
   },
   {
    "duration": 47,
    "start_time": "2022-04-09T20:52:18.398Z"
   },
   {
    "duration": 4,
    "start_time": "2022-04-09T20:52:18.447Z"
   },
   {
    "duration": 4,
    "start_time": "2022-04-09T20:52:18.455Z"
   },
   {
    "duration": 519,
    "start_time": "2022-04-09T20:52:18.462Z"
   },
   {
    "duration": 974,
    "start_time": "2022-04-09T20:52:18.983Z"
   },
   {
    "duration": 3235,
    "start_time": "2022-04-09T20:52:19.959Z"
   },
   {
    "duration": 8,
    "start_time": "2022-04-09T20:52:23.197Z"
   },
   {
    "duration": 37,
    "start_time": "2022-04-09T20:52:23.208Z"
   },
   {
    "duration": 9,
    "start_time": "2022-04-09T20:52:23.248Z"
   },
   {
    "duration": 939,
    "start_time": "2022-04-09T20:52:23.260Z"
   },
   {
    "duration": 42,
    "start_time": "2022-04-09T20:52:24.202Z"
   },
   {
    "duration": 686,
    "start_time": "2022-04-09T20:52:24.250Z"
   },
   {
    "duration": 113,
    "start_time": "2022-04-09T20:52:24.939Z"
   },
   {
    "duration": 12,
    "start_time": "2022-04-09T20:52:25.055Z"
   },
   {
    "duration": 16,
    "start_time": "2022-04-09T20:52:25.070Z"
   },
   {
    "duration": 19,
    "start_time": "2022-04-09T20:52:25.089Z"
   },
   {
    "duration": 29,
    "start_time": "2022-04-09T20:52:25.144Z"
   },
   {
    "duration": 18,
    "start_time": "2022-04-09T20:52:25.175Z"
   },
   {
    "duration": 55,
    "start_time": "2022-04-09T20:52:25.195Z"
   },
   {
    "duration": 29,
    "start_time": "2022-04-09T20:52:25.253Z"
   },
   {
    "duration": 11,
    "start_time": "2022-04-09T20:52:25.285Z"
   },
   {
    "duration": 54,
    "start_time": "2022-04-09T20:52:25.298Z"
   },
   {
    "duration": 11,
    "start_time": "2022-04-09T20:52:25.355Z"
   },
   {
    "duration": 73,
    "start_time": "2022-04-09T20:52:25.370Z"
   },
   {
    "duration": 12,
    "start_time": "2022-04-09T20:52:25.446Z"
   },
   {
    "duration": 9,
    "start_time": "2022-04-09T20:52:25.461Z"
   },
   {
    "duration": 9,
    "start_time": "2022-04-09T20:52:25.473Z"
   },
   {
    "duration": 26,
    "start_time": "2022-04-09T20:52:25.485Z"
   },
   {
    "duration": 20,
    "start_time": "2022-04-09T20:52:25.543Z"
   },
   {
    "duration": 21,
    "start_time": "2022-04-09T20:52:25.565Z"
   },
   {
    "duration": 11,
    "start_time": "2022-04-09T20:52:25.588Z"
   },
   {
    "duration": 9,
    "start_time": "2022-04-09T20:52:25.603Z"
   },
   {
    "duration": 26,
    "start_time": "2022-04-09T20:52:25.616Z"
   },
   {
    "duration": 9,
    "start_time": "2022-04-09T20:52:25.645Z"
   },
   {
    "duration": 18,
    "start_time": "2022-04-09T20:52:25.656Z"
   },
   {
    "duration": 18,
    "start_time": "2022-04-09T20:52:25.676Z"
   },
   {
    "duration": 7,
    "start_time": "2022-04-09T20:52:25.697Z"
   },
   {
    "duration": 37,
    "start_time": "2022-04-09T20:52:25.706Z"
   },
   {
    "duration": 3706,
    "start_time": "2022-04-09T20:52:25.746Z"
   },
   {
    "duration": 5377,
    "start_time": "2022-04-09T20:52:29.455Z"
   },
   {
    "duration": 24025,
    "start_time": "2022-04-09T20:52:34.835Z"
   },
   {
    "duration": 3926,
    "start_time": "2022-04-09T20:52:58.862Z"
   },
   {
    "duration": 3771,
    "start_time": "2022-04-09T20:53:02.790Z"
   },
   {
    "duration": 24131,
    "start_time": "2022-04-09T20:53:06.563Z"
   },
   {
    "duration": 6,
    "start_time": "2022-04-09T20:55:14.956Z"
   },
   {
    "duration": 8,
    "start_time": "2022-04-09T20:55:14.966Z"
   },
   {
    "duration": 2153,
    "start_time": "2022-04-09T20:55:38.610Z"
   },
   {
    "duration": 3,
    "start_time": "2022-04-09T20:55:40.766Z"
   },
   {
    "duration": 476,
    "start_time": "2022-04-09T20:55:40.771Z"
   },
   {
    "duration": 345,
    "start_time": "2022-04-09T20:55:41.250Z"
   },
   {
    "duration": 108,
    "start_time": "2022-04-09T20:55:41.597Z"
   },
   {
    "duration": 16,
    "start_time": "2022-04-09T20:55:41.707Z"
   },
   {
    "duration": 42,
    "start_time": "2022-04-09T20:55:41.726Z"
   },
   {
    "duration": 10,
    "start_time": "2022-04-09T20:55:41.772Z"
   },
   {
    "duration": 5,
    "start_time": "2022-04-09T20:55:41.785Z"
   },
   {
    "duration": 51,
    "start_time": "2022-04-09T20:55:41.796Z"
   },
   {
    "duration": 17,
    "start_time": "2022-04-09T20:55:41.850Z"
   },
   {
    "duration": 4,
    "start_time": "2022-04-09T20:55:41.870Z"
   },
   {
    "duration": 210,
    "start_time": "2022-04-09T20:55:41.877Z"
   },
   {
    "duration": 17,
    "start_time": "2022-04-09T20:55:42.091Z"
   },
   {
    "duration": 6,
    "start_time": "2022-04-09T20:55:42.111Z"
   },
   {
    "duration": 6,
    "start_time": "2022-04-09T20:55:42.144Z"
   },
   {
    "duration": 10,
    "start_time": "2022-04-09T20:55:42.153Z"
   },
   {
    "duration": 6,
    "start_time": "2022-04-09T20:55:42.165Z"
   },
   {
    "duration": 6,
    "start_time": "2022-04-09T20:55:42.174Z"
   },
   {
    "duration": 477,
    "start_time": "2022-04-09T20:55:42.182Z"
   },
   {
    "duration": 674,
    "start_time": "2022-04-09T20:55:42.662Z"
   },
   {
    "duration": 2739,
    "start_time": "2022-04-09T20:55:43.339Z"
   },
   {
    "duration": 8,
    "start_time": "2022-04-09T20:55:46.081Z"
   },
   {
    "duration": 12,
    "start_time": "2022-04-09T20:55:46.091Z"
   },
   {
    "duration": 8,
    "start_time": "2022-04-09T20:55:46.105Z"
   },
   {
    "duration": 914,
    "start_time": "2022-04-09T20:55:46.143Z"
   },
   {
    "duration": 29,
    "start_time": "2022-04-09T20:55:47.060Z"
   },
   {
    "duration": 669,
    "start_time": "2022-04-09T20:55:47.095Z"
   },
   {
    "duration": 101,
    "start_time": "2022-04-09T20:55:47.766Z"
   },
   {
    "duration": 10,
    "start_time": "2022-04-09T20:55:47.870Z"
   },
   {
    "duration": 15,
    "start_time": "2022-04-09T20:55:47.882Z"
   },
   {
    "duration": 17,
    "start_time": "2022-04-09T20:55:47.899Z"
   },
   {
    "duration": 28,
    "start_time": "2022-04-09T20:55:47.944Z"
   },
   {
    "duration": 29,
    "start_time": "2022-04-09T20:55:47.974Z"
   },
   {
    "duration": 21,
    "start_time": "2022-04-09T20:55:48.005Z"
   },
   {
    "duration": 39,
    "start_time": "2022-04-09T20:55:48.029Z"
   },
   {
    "duration": 10,
    "start_time": "2022-04-09T20:55:48.070Z"
   },
   {
    "duration": 15,
    "start_time": "2022-04-09T20:55:48.083Z"
   },
   {
    "duration": 44,
    "start_time": "2022-04-09T20:55:48.100Z"
   },
   {
    "duration": 34,
    "start_time": "2022-04-09T20:55:48.146Z"
   },
   {
    "duration": 9,
    "start_time": "2022-04-09T20:55:48.182Z"
   },
   {
    "duration": 18,
    "start_time": "2022-04-09T20:55:48.193Z"
   },
   {
    "duration": 37,
    "start_time": "2022-04-09T20:55:48.213Z"
   },
   {
    "duration": 16,
    "start_time": "2022-04-09T20:55:48.253Z"
   },
   {
    "duration": 13,
    "start_time": "2022-04-09T20:55:48.271Z"
   },
   {
    "duration": 6,
    "start_time": "2022-04-09T20:55:48.286Z"
   },
   {
    "duration": 13,
    "start_time": "2022-04-09T20:55:48.295Z"
   },
   {
    "duration": 35,
    "start_time": "2022-04-09T20:55:48.310Z"
   },
   {
    "duration": 6,
    "start_time": "2022-04-09T20:55:48.347Z"
   },
   {
    "duration": 7,
    "start_time": "2022-04-09T20:55:48.355Z"
   },
   {
    "duration": 11,
    "start_time": "2022-04-09T20:55:48.364Z"
   },
   {
    "duration": 8,
    "start_time": "2022-04-09T20:55:48.377Z"
   },
   {
    "duration": 17,
    "start_time": "2022-04-09T20:55:48.388Z"
   },
   {
    "duration": 36,
    "start_time": "2022-04-09T20:55:48.408Z"
   },
   {
    "duration": 1807,
    "start_time": "2022-04-09T20:55:48.447Z"
   },
   {
    "duration": 3898,
    "start_time": "2022-04-09T20:55:50.257Z"
   },
   {
    "duration": 23791,
    "start_time": "2022-04-09T20:55:54.157Z"
   },
   {
    "duration": 1693,
    "start_time": "2022-04-09T20:56:17.950Z"
   },
   {
    "duration": 3858,
    "start_time": "2022-04-09T20:56:19.647Z"
   },
   {
    "duration": 23085,
    "start_time": "2022-04-09T20:56:23.507Z"
   },
   {
    "duration": 4,
    "start_time": "2022-04-09T20:56:46.597Z"
   },
   {
    "duration": 2107,
    "start_time": "2022-04-09T20:57:51.588Z"
   },
   {
    "duration": 4,
    "start_time": "2022-04-09T20:57:53.697Z"
   },
   {
    "duration": 468,
    "start_time": "2022-04-09T20:57:53.703Z"
   },
   {
    "duration": 585,
    "start_time": "2022-04-09T20:57:54.176Z"
   },
   {
    "duration": 159,
    "start_time": "2022-04-09T20:57:54.764Z"
   },
   {
    "duration": 20,
    "start_time": "2022-04-09T20:57:54.926Z"
   },
   {
    "duration": 21,
    "start_time": "2022-04-09T20:57:54.948Z"
   },
   {
    "duration": 8,
    "start_time": "2022-04-09T20:57:54.971Z"
   },
   {
    "duration": 4,
    "start_time": "2022-04-09T20:57:54.983Z"
   },
   {
    "duration": 64,
    "start_time": "2022-04-09T20:57:54.992Z"
   },
   {
    "duration": 21,
    "start_time": "2022-04-09T20:57:55.059Z"
   },
   {
    "duration": 8,
    "start_time": "2022-04-09T20:57:55.083Z"
   },
   {
    "duration": 160,
    "start_time": "2022-04-09T20:57:55.094Z"
   },
   {
    "duration": 15,
    "start_time": "2022-04-09T20:57:55.257Z"
   },
   {
    "duration": 7,
    "start_time": "2022-04-09T20:57:55.275Z"
   },
   {
    "duration": 13,
    "start_time": "2022-04-09T20:57:55.285Z"
   },
   {
    "duration": 45,
    "start_time": "2022-04-09T20:57:55.300Z"
   },
   {
    "duration": 4,
    "start_time": "2022-04-09T20:57:55.348Z"
   },
   {
    "duration": 11,
    "start_time": "2022-04-09T20:57:55.355Z"
   },
   {
    "duration": 753,
    "start_time": "2022-04-09T20:57:55.370Z"
   },
   {
    "duration": 989,
    "start_time": "2022-04-09T20:57:56.126Z"
   },
   {
    "duration": 2996,
    "start_time": "2022-04-09T20:57:57.117Z"
   },
   {
    "duration": 8,
    "start_time": "2022-04-09T20:58:00.116Z"
   },
   {
    "duration": 10,
    "start_time": "2022-04-09T20:58:00.144Z"
   },
   {
    "duration": 8,
    "start_time": "2022-04-09T20:58:00.156Z"
   },
   {
    "duration": 956,
    "start_time": "2022-04-09T20:58:00.166Z"
   },
   {
    "duration": 38,
    "start_time": "2022-04-09T20:58:01.124Z"
   },
   {
    "duration": 708,
    "start_time": "2022-04-09T20:58:01.168Z"
   },
   {
    "duration": 115,
    "start_time": "2022-04-09T20:58:01.879Z"
   },
   {
    "duration": 11,
    "start_time": "2022-04-09T20:58:01.996Z"
   },
   {
    "duration": 35,
    "start_time": "2022-04-09T20:58:02.010Z"
   },
   {
    "duration": 18,
    "start_time": "2022-04-09T20:58:02.048Z"
   },
   {
    "duration": 35,
    "start_time": "2022-04-09T20:58:02.069Z"
   },
   {
    "duration": 41,
    "start_time": "2022-04-09T20:58:02.107Z"
   },
   {
    "duration": 18,
    "start_time": "2022-04-09T20:58:02.150Z"
   },
   {
    "duration": 30,
    "start_time": "2022-04-09T20:58:02.170Z"
   },
   {
    "duration": 47,
    "start_time": "2022-04-09T20:58:02.202Z"
   },
   {
    "duration": 18,
    "start_time": "2022-04-09T20:58:02.252Z"
   },
   {
    "duration": 10,
    "start_time": "2022-04-09T20:58:02.272Z"
   },
   {
    "duration": 77,
    "start_time": "2022-04-09T20:58:02.284Z"
   },
   {
    "duration": 9,
    "start_time": "2022-04-09T20:58:02.364Z"
   },
   {
    "duration": 14,
    "start_time": "2022-04-09T20:58:02.376Z"
   },
   {
    "duration": 7,
    "start_time": "2022-04-09T20:58:02.392Z"
   },
   {
    "duration": 47,
    "start_time": "2022-04-09T20:58:02.401Z"
   },
   {
    "duration": 11,
    "start_time": "2022-04-09T20:58:02.450Z"
   },
   {
    "duration": 16,
    "start_time": "2022-04-09T20:58:02.464Z"
   },
   {
    "duration": 8,
    "start_time": "2022-04-09T20:58:02.483Z"
   },
   {
    "duration": 19,
    "start_time": "2022-04-09T20:58:02.494Z"
   },
   {
    "duration": 32,
    "start_time": "2022-04-09T20:58:02.515Z"
   },
   {
    "duration": 8,
    "start_time": "2022-04-09T20:58:02.550Z"
   },
   {
    "duration": 7,
    "start_time": "2022-04-09T20:58:02.561Z"
   },
   {
    "duration": 9,
    "start_time": "2022-04-09T20:58:02.570Z"
   },
   {
    "duration": 8,
    "start_time": "2022-04-09T20:58:02.582Z"
   },
   {
    "duration": 51,
    "start_time": "2022-04-09T20:58:02.592Z"
   },
   {
    "duration": 9,
    "start_time": "2022-04-09T20:58:02.646Z"
   },
   {
    "duration": 2088,
    "start_time": "2022-04-09T20:58:02.657Z"
   },
   {
    "duration": 5483,
    "start_time": "2022-04-09T20:58:04.749Z"
   },
   {
    "duration": 53214,
    "start_time": "2022-04-09T20:58:10.234Z"
   },
   {
    "duration": 1899,
    "start_time": "2022-04-09T20:59:03.450Z"
   },
   {
    "duration": 5366,
    "start_time": "2022-04-09T20:59:05.352Z"
   },
   {
    "duration": 50659,
    "start_time": "2022-04-09T20:59:10.721Z"
   },
   {
    "duration": 1221,
    "start_time": "2022-04-09T21:04:30.340Z"
   },
   {
    "duration": 1048,
    "start_time": "2022-04-09T21:04:40.822Z"
   },
   {
    "duration": 1307,
    "start_time": "2022-04-09T21:05:25.797Z"
   },
   {
    "duration": 1062,
    "start_time": "2022-04-09T21:06:03.788Z"
   },
   {
    "duration": 1068,
    "start_time": "2022-04-09T21:06:17.656Z"
   },
   {
    "duration": 1417,
    "start_time": "2022-04-09T21:06:20.435Z"
   },
   {
    "duration": 5,
    "start_time": "2022-04-09T21:06:23.436Z"
   },
   {
    "duration": 2157,
    "start_time": "2022-04-09T21:07:38.398Z"
   },
   {
    "duration": 4,
    "start_time": "2022-04-09T21:07:40.557Z"
   },
   {
    "duration": 453,
    "start_time": "2022-04-09T21:07:40.563Z"
   },
   {
    "duration": 334,
    "start_time": "2022-04-09T21:07:41.018Z"
   },
   {
    "duration": 107,
    "start_time": "2022-04-09T21:07:41.356Z"
   },
   {
    "duration": 15,
    "start_time": "2022-04-09T21:07:41.466Z"
   },
   {
    "duration": 18,
    "start_time": "2022-04-09T21:07:41.484Z"
   },
   {
    "duration": 39,
    "start_time": "2022-04-09T21:07:41.504Z"
   },
   {
    "duration": 6,
    "start_time": "2022-04-09T21:07:41.545Z"
   },
   {
    "duration": 16,
    "start_time": "2022-04-09T21:07:41.553Z"
   },
   {
    "duration": 19,
    "start_time": "2022-04-09T21:07:41.572Z"
   },
   {
    "duration": 5,
    "start_time": "2022-04-09T21:07:41.593Z"
   },
   {
    "duration": 160,
    "start_time": "2022-04-09T21:07:41.642Z"
   },
   {
    "duration": 18,
    "start_time": "2022-04-09T21:07:41.810Z"
   },
   {
    "duration": 6,
    "start_time": "2022-04-09T21:07:41.843Z"
   },
   {
    "duration": 5,
    "start_time": "2022-04-09T21:07:41.853Z"
   },
   {
    "duration": 7,
    "start_time": "2022-04-09T21:07:41.860Z"
   },
   {
    "duration": 6,
    "start_time": "2022-04-09T21:07:41.869Z"
   },
   {
    "duration": 8,
    "start_time": "2022-04-09T21:07:41.877Z"
   },
   {
    "duration": 449,
    "start_time": "2022-04-09T21:07:41.887Z"
   },
   {
    "duration": 735,
    "start_time": "2022-04-09T21:07:42.342Z"
   },
   {
    "duration": 2632,
    "start_time": "2022-04-09T21:07:43.080Z"
   },
   {
    "duration": 8,
    "start_time": "2022-04-09T21:07:45.715Z"
   },
   {
    "duration": 24,
    "start_time": "2022-04-09T21:07:45.726Z"
   },
   {
    "duration": 9,
    "start_time": "2022-04-09T21:07:45.753Z"
   },
   {
    "duration": 911,
    "start_time": "2022-04-09T21:07:45.764Z"
   },
   {
    "duration": 31,
    "start_time": "2022-04-09T21:07:46.678Z"
   },
   {
    "duration": 1047,
    "start_time": "2022-04-09T21:07:46.711Z"
   },
   {
    "duration": 135,
    "start_time": "2022-04-09T21:07:47.761Z"
   },
   {
    "duration": 13,
    "start_time": "2022-04-09T21:07:47.899Z"
   },
   {
    "duration": 33,
    "start_time": "2022-04-09T21:07:47.916Z"
   },
   {
    "duration": 24,
    "start_time": "2022-04-09T21:07:47.952Z"
   },
   {
    "duration": 70,
    "start_time": "2022-04-09T21:07:47.979Z"
   },
   {
    "duration": 14,
    "start_time": "2022-04-09T21:07:48.052Z"
   },
   {
    "duration": 25,
    "start_time": "2022-04-09T21:07:48.069Z"
   },
   {
    "duration": 75,
    "start_time": "2022-04-09T21:07:48.097Z"
   },
   {
    "duration": 10,
    "start_time": "2022-04-09T21:07:48.175Z"
   },
   {
    "duration": 17,
    "start_time": "2022-04-09T21:07:48.188Z"
   },
   {
    "duration": 11,
    "start_time": "2022-04-09T21:07:48.207Z"
   },
   {
    "duration": 33,
    "start_time": "2022-04-09T21:07:48.244Z"
   },
   {
    "duration": 9,
    "start_time": "2022-04-09T21:07:48.283Z"
   },
   {
    "duration": 8,
    "start_time": "2022-04-09T21:07:48.295Z"
   },
   {
    "duration": 6,
    "start_time": "2022-04-09T21:07:48.342Z"
   },
   {
    "duration": 11,
    "start_time": "2022-04-09T21:07:48.351Z"
   },
   {
    "duration": 8,
    "start_time": "2022-04-09T21:07:48.365Z"
   },
   {
    "duration": 14,
    "start_time": "2022-04-09T21:07:48.376Z"
   },
   {
    "duration": 14,
    "start_time": "2022-04-09T21:07:48.392Z"
   },
   {
    "duration": 36,
    "start_time": "2022-04-09T21:07:48.409Z"
   },
   {
    "duration": 5,
    "start_time": "2022-04-09T21:07:48.447Z"
   },
   {
    "duration": 13,
    "start_time": "2022-04-09T21:07:48.454Z"
   },
   {
    "duration": 12,
    "start_time": "2022-04-09T21:07:48.469Z"
   },
   {
    "duration": 8,
    "start_time": "2022-04-09T21:07:48.483Z"
   },
   {
    "duration": 9,
    "start_time": "2022-04-09T21:07:48.493Z"
   },
   {
    "duration": 43,
    "start_time": "2022-04-09T21:07:48.504Z"
   },
   {
    "duration": 6,
    "start_time": "2022-04-09T21:07:48.550Z"
   },
   {
    "duration": 1985,
    "start_time": "2022-04-09T21:07:48.558Z"
   },
   {
    "duration": 903237,
    "start_time": "2022-04-09T21:24:50.947Z"
   },
   {
    "duration": 995,
    "start_time": "2022-04-09T21:42:16.559Z"
   },
   {
    "duration": 1272,
    "start_time": "2022-04-09T21:42:19.337Z"
   },
   {
    "duration": 6,
    "start_time": "2022-04-09T21:42:23.480Z"
   },
   {
    "duration": 162,
    "start_time": "2022-04-09T21:42:25.960Z"
   },
   {
    "duration": 5,
    "start_time": "2022-04-09T21:42:31.753Z"
   },
   {
    "duration": 14,
    "start_time": "2022-04-09T21:42:37.713Z"
   },
   {
    "duration": 10,
    "start_time": "2022-04-09T21:43:03.488Z"
   },
   {
    "duration": 9,
    "start_time": "2022-04-09T21:43:22.352Z"
   },
   {
    "duration": 9,
    "start_time": "2022-04-09T21:43:25.087Z"
   },
   {
    "duration": 5,
    "start_time": "2022-04-09T21:43:32.512Z"
   },
   {
    "duration": 6,
    "start_time": "2022-04-09T21:43:43.695Z"
   },
   {
    "duration": 1981,
    "start_time": "2022-04-09T21:46:55.788Z"
   },
   {
    "duration": 4,
    "start_time": "2022-04-09T21:46:57.772Z"
   },
   {
    "duration": 450,
    "start_time": "2022-04-09T21:46:57.782Z"
   },
   {
    "duration": 347,
    "start_time": "2022-04-09T21:46:58.234Z"
   },
   {
    "duration": 105,
    "start_time": "2022-04-09T21:46:58.584Z"
   },
   {
    "duration": 16,
    "start_time": "2022-04-09T21:46:58.691Z"
   },
   {
    "duration": 42,
    "start_time": "2022-04-09T21:46:58.709Z"
   },
   {
    "duration": 7,
    "start_time": "2022-04-09T21:46:58.754Z"
   },
   {
    "duration": 7,
    "start_time": "2022-04-09T21:46:58.765Z"
   },
   {
    "duration": 17,
    "start_time": "2022-04-09T21:46:58.774Z"
   },
   {
    "duration": 49,
    "start_time": "2022-04-09T21:46:58.794Z"
   },
   {
    "duration": 5,
    "start_time": "2022-04-09T21:46:58.845Z"
   },
   {
    "duration": 152,
    "start_time": "2022-04-09T21:46:58.852Z"
   },
   {
    "duration": 12,
    "start_time": "2022-04-09T21:46:59.007Z"
   },
   {
    "duration": 20,
    "start_time": "2022-04-09T21:46:59.022Z"
   },
   {
    "duration": 6,
    "start_time": "2022-04-09T21:46:59.044Z"
   },
   {
    "duration": 8,
    "start_time": "2022-04-09T21:46:59.052Z"
   },
   {
    "duration": 14,
    "start_time": "2022-04-09T21:46:59.062Z"
   },
   {
    "duration": 8,
    "start_time": "2022-04-09T21:46:59.079Z"
   },
   {
    "duration": 415,
    "start_time": "2022-04-09T21:46:59.089Z"
   },
   {
    "duration": 623,
    "start_time": "2022-04-09T21:46:59.506Z"
   },
   {
    "duration": 2591,
    "start_time": "2022-04-09T21:47:00.132Z"
   },
   {
    "duration": 6,
    "start_time": "2022-04-09T21:47:02.725Z"
   },
   {
    "duration": 9,
    "start_time": "2022-04-09T21:47:02.742Z"
   },
   {
    "duration": 13,
    "start_time": "2022-04-09T21:47:02.753Z"
   },
   {
    "duration": 894,
    "start_time": "2022-04-09T21:47:02.768Z"
   },
   {
    "duration": 28,
    "start_time": "2022-04-09T21:47:03.668Z"
   },
   {
    "duration": 756,
    "start_time": "2022-04-09T21:47:03.698Z"
   },
   {
    "duration": 101,
    "start_time": "2022-04-09T21:47:04.457Z"
   },
   {
    "duration": 10,
    "start_time": "2022-04-09T21:47:04.560Z"
   },
   {
    "duration": 9,
    "start_time": "2022-04-09T21:47:04.572Z"
   },
   {
    "duration": 15,
    "start_time": "2022-04-09T21:47:04.584Z"
   },
   {
    "duration": 64,
    "start_time": "2022-04-09T21:47:04.601Z"
   },
   {
    "duration": 12,
    "start_time": "2022-04-09T21:47:04.668Z"
   },
   {
    "duration": 17,
    "start_time": "2022-04-09T21:47:04.683Z"
   },
   {
    "duration": 58,
    "start_time": "2022-04-09T21:47:04.702Z"
   },
   {
    "duration": 12,
    "start_time": "2022-04-09T21:47:04.762Z"
   },
   {
    "duration": 16,
    "start_time": "2022-04-09T21:47:04.777Z"
   },
   {
    "duration": 53,
    "start_time": "2022-04-09T21:47:04.795Z"
   },
   {
    "duration": 33,
    "start_time": "2022-04-09T21:47:04.850Z"
   },
   {
    "duration": 9,
    "start_time": "2022-04-09T21:47:04.885Z"
   },
   {
    "duration": 11,
    "start_time": "2022-04-09T21:47:04.896Z"
   },
   {
    "duration": 38,
    "start_time": "2022-04-09T21:47:04.909Z"
   },
   {
    "duration": 15,
    "start_time": "2022-04-09T21:47:04.949Z"
   },
   {
    "duration": 8,
    "start_time": "2022-04-09T21:47:04.966Z"
   },
   {
    "duration": 15,
    "start_time": "2022-04-09T21:47:04.976Z"
   },
   {
    "duration": 6,
    "start_time": "2022-04-09T21:47:04.993Z"
   },
   {
    "duration": 7,
    "start_time": "2022-04-09T21:47:05.002Z"
   },
   {
    "duration": 5,
    "start_time": "2022-04-09T21:47:05.044Z"
   },
   {
    "duration": 7,
    "start_time": "2022-04-09T21:47:05.052Z"
   },
   {
    "duration": 13,
    "start_time": "2022-04-09T21:47:05.061Z"
   },
   {
    "duration": 7,
    "start_time": "2022-04-09T21:47:05.076Z"
   },
   {
    "duration": 8,
    "start_time": "2022-04-09T21:47:05.085Z"
   },
   {
    "duration": 11,
    "start_time": "2022-04-09T21:47:05.095Z"
   },
   {
    "duration": 41,
    "start_time": "2022-04-09T21:47:05.108Z"
   },
   {
    "duration": 1794,
    "start_time": "2022-04-09T21:47:05.151Z"
   },
   {
    "duration": 958634,
    "start_time": "2022-04-09T21:47:06.947Z"
   },
   {
    "duration": 2497,
    "start_time": "2022-04-10T06:32:07.540Z"
   },
   {
    "duration": 3,
    "start_time": "2022-04-10T06:32:10.040Z"
   },
   {
    "duration": 619,
    "start_time": "2022-04-10T06:32:10.045Z"
   },
   {
    "duration": 346,
    "start_time": "2022-04-10T06:32:10.668Z"
   },
   {
    "duration": 113,
    "start_time": "2022-04-10T06:32:11.016Z"
   },
   {
    "duration": 24,
    "start_time": "2022-04-10T06:32:11.131Z"
   },
   {
    "duration": 20,
    "start_time": "2022-04-10T06:32:11.158Z"
   },
   {
    "duration": 8,
    "start_time": "2022-04-10T06:32:11.181Z"
   },
   {
    "duration": 6,
    "start_time": "2022-04-10T06:32:11.192Z"
   },
   {
    "duration": 14,
    "start_time": "2022-04-10T06:32:11.243Z"
   },
   {
    "duration": 17,
    "start_time": "2022-04-10T06:32:11.259Z"
   },
   {
    "duration": 11,
    "start_time": "2022-04-10T06:32:11.279Z"
   },
   {
    "duration": 156,
    "start_time": "2022-04-10T06:32:11.292Z"
   },
   {
    "duration": 14,
    "start_time": "2022-04-10T06:32:11.450Z"
   },
   {
    "duration": 7,
    "start_time": "2022-04-10T06:32:11.466Z"
   },
   {
    "duration": 8,
    "start_time": "2022-04-10T06:32:11.476Z"
   },
   {
    "duration": 13,
    "start_time": "2022-04-10T06:32:11.486Z"
   },
   {
    "duration": 42,
    "start_time": "2022-04-10T06:32:11.501Z"
   },
   {
    "duration": 4,
    "start_time": "2022-04-10T06:32:11.545Z"
   },
   {
    "duration": 424,
    "start_time": "2022-04-10T06:32:11.551Z"
   },
   {
    "duration": 644,
    "start_time": "2022-04-10T06:32:11.977Z"
   },
   {
    "duration": 2683,
    "start_time": "2022-04-10T06:32:12.623Z"
   },
   {
    "duration": 7,
    "start_time": "2022-04-10T06:32:15.308Z"
   },
   {
    "duration": 30,
    "start_time": "2022-04-10T06:32:15.317Z"
   },
   {
    "duration": 7,
    "start_time": "2022-04-10T06:32:15.349Z"
   },
   {
    "duration": 891,
    "start_time": "2022-04-10T06:32:15.358Z"
   },
   {
    "duration": 29,
    "start_time": "2022-04-10T06:32:16.252Z"
   },
   {
    "duration": 658,
    "start_time": "2022-04-10T06:32:16.287Z"
   },
   {
    "duration": 98,
    "start_time": "2022-04-10T06:32:16.948Z"
   },
   {
    "duration": 10,
    "start_time": "2022-04-10T06:32:17.048Z"
   },
   {
    "duration": 24,
    "start_time": "2022-04-10T06:32:17.061Z"
   },
   {
    "duration": 23,
    "start_time": "2022-04-10T06:32:17.088Z"
   },
   {
    "duration": 43,
    "start_time": "2022-04-10T06:32:17.113Z"
   },
   {
    "duration": 10,
    "start_time": "2022-04-10T06:32:17.158Z"
   },
   {
    "duration": 25,
    "start_time": "2022-04-10T06:32:17.170Z"
   },
   {
    "duration": 47,
    "start_time": "2022-04-10T06:32:17.197Z"
   },
   {
    "duration": 11,
    "start_time": "2022-04-10T06:32:17.246Z"
   },
   {
    "duration": 35,
    "start_time": "2022-04-10T06:32:17.259Z"
   },
   {
    "duration": 9,
    "start_time": "2022-04-10T06:32:17.296Z"
   },
   {
    "duration": 50,
    "start_time": "2022-04-10T06:32:17.307Z"
   },
   {
    "duration": 9,
    "start_time": "2022-04-10T06:32:17.359Z"
   },
   {
    "duration": 7,
    "start_time": "2022-04-10T06:32:17.371Z"
   },
   {
    "duration": 12,
    "start_time": "2022-04-10T06:32:17.380Z"
   },
   {
    "duration": 13,
    "start_time": "2022-04-10T06:32:17.394Z"
   },
   {
    "duration": 9,
    "start_time": "2022-04-10T06:32:17.409Z"
   },
   {
    "duration": 32,
    "start_time": "2022-04-10T06:32:17.420Z"
   },
   {
    "duration": 6,
    "start_time": "2022-04-10T06:32:17.454Z"
   },
   {
    "duration": 6,
    "start_time": "2022-04-10T06:32:17.462Z"
   },
   {
    "duration": 13,
    "start_time": "2022-04-10T06:32:17.470Z"
   },
   {
    "duration": 18,
    "start_time": "2022-04-10T06:32:17.486Z"
   },
   {
    "duration": 38,
    "start_time": "2022-04-10T06:32:17.506Z"
   },
   {
    "duration": 5,
    "start_time": "2022-04-10T06:32:17.546Z"
   },
   {
    "duration": 8,
    "start_time": "2022-04-10T06:32:17.553Z"
   },
   {
    "duration": 20,
    "start_time": "2022-04-10T06:32:17.562Z"
   },
   {
    "duration": 10,
    "start_time": "2022-04-10T06:32:17.583Z"
   },
   {
    "duration": 1647,
    "start_time": "2022-04-10T06:32:17.595Z"
   },
   {
    "duration": 195059,
    "start_time": "2022-04-10T06:32:19.246Z"
   },
   {
    "duration": 7,
    "start_time": "2022-04-10T06:37:25.020Z"
   },
   {
    "duration": 2039,
    "start_time": "2022-04-10T06:38:13.810Z"
   },
   {
    "duration": 4,
    "start_time": "2022-04-10T06:38:15.852Z"
   },
   {
    "duration": 472,
    "start_time": "2022-04-10T06:38:15.858Z"
   },
   {
    "duration": 339,
    "start_time": "2022-04-10T06:38:16.333Z"
   },
   {
    "duration": 105,
    "start_time": "2022-04-10T06:38:16.674Z"
   },
   {
    "duration": 15,
    "start_time": "2022-04-10T06:38:16.781Z"
   },
   {
    "duration": 29,
    "start_time": "2022-04-10T06:38:16.798Z"
   },
   {
    "duration": 18,
    "start_time": "2022-04-10T06:38:16.829Z"
   },
   {
    "duration": 15,
    "start_time": "2022-04-10T06:38:16.849Z"
   },
   {
    "duration": 20,
    "start_time": "2022-04-10T06:38:16.868Z"
   },
   {
    "duration": 27,
    "start_time": "2022-04-10T06:38:16.890Z"
   },
   {
    "duration": 4,
    "start_time": "2022-04-10T06:38:16.920Z"
   },
   {
    "duration": 151,
    "start_time": "2022-04-10T06:38:16.943Z"
   },
   {
    "duration": 13,
    "start_time": "2022-04-10T06:38:17.097Z"
   },
   {
    "duration": 7,
    "start_time": "2022-04-10T06:38:17.112Z"
   },
   {
    "duration": 24,
    "start_time": "2022-04-10T06:38:17.121Z"
   },
   {
    "duration": 9,
    "start_time": "2022-04-10T06:38:17.147Z"
   },
   {
    "duration": 26,
    "start_time": "2022-04-10T06:38:17.158Z"
   },
   {
    "duration": 12,
    "start_time": "2022-04-10T06:38:17.186Z"
   },
   {
    "duration": 443,
    "start_time": "2022-04-10T06:38:17.200Z"
   },
   {
    "duration": 638,
    "start_time": "2022-04-10T06:38:17.645Z"
   },
   {
    "duration": 2582,
    "start_time": "2022-04-10T06:38:18.286Z"
   },
   {
    "duration": 7,
    "start_time": "2022-04-10T06:38:20.870Z"
   },
   {
    "duration": 15,
    "start_time": "2022-04-10T06:38:20.879Z"
   },
   {
    "duration": 8,
    "start_time": "2022-04-10T06:38:20.896Z"
   },
   {
    "duration": 909,
    "start_time": "2022-04-10T06:38:20.906Z"
   },
   {
    "duration": 41,
    "start_time": "2022-04-10T06:38:21.817Z"
   },
   {
    "duration": 645,
    "start_time": "2022-04-10T06:38:21.863Z"
   },
   {
    "duration": 94,
    "start_time": "2022-04-10T06:38:22.510Z"
   },
   {
    "duration": 10,
    "start_time": "2022-04-10T06:38:22.606Z"
   },
   {
    "duration": 28,
    "start_time": "2022-04-10T06:38:22.618Z"
   },
   {
    "duration": 16,
    "start_time": "2022-04-10T06:38:22.648Z"
   },
   {
    "duration": 32,
    "start_time": "2022-04-10T06:38:22.667Z"
   },
   {
    "duration": 10,
    "start_time": "2022-04-10T06:38:22.701Z"
   },
   {
    "duration": 46,
    "start_time": "2022-04-10T06:38:22.713Z"
   },
   {
    "duration": 29,
    "start_time": "2022-04-10T06:38:22.762Z"
   },
   {
    "duration": 11,
    "start_time": "2022-04-10T06:38:22.793Z"
   },
   {
    "duration": 49,
    "start_time": "2022-04-10T06:38:22.806Z"
   },
   {
    "duration": 16,
    "start_time": "2022-04-10T06:38:22.857Z"
   },
   {
    "duration": 38,
    "start_time": "2022-04-10T06:38:22.875Z"
   },
   {
    "duration": 31,
    "start_time": "2022-04-10T06:38:22.915Z"
   },
   {
    "duration": 24,
    "start_time": "2022-04-10T06:38:22.949Z"
   },
   {
    "duration": 9,
    "start_time": "2022-04-10T06:38:22.975Z"
   },
   {
    "duration": 14,
    "start_time": "2022-04-10T06:38:22.985Z"
   },
   {
    "duration": 13,
    "start_time": "2022-04-10T06:38:23.000Z"
   },
   {
    "duration": 29,
    "start_time": "2022-04-10T06:38:23.020Z"
   },
   {
    "duration": 25,
    "start_time": "2022-04-10T06:38:23.051Z"
   },
   {
    "duration": 7,
    "start_time": "2022-04-10T06:38:23.078Z"
   },
   {
    "duration": 6,
    "start_time": "2022-04-10T06:38:23.087Z"
   },
   {
    "duration": 8,
    "start_time": "2022-04-10T06:38:23.095Z"
   },
   {
    "duration": 4,
    "start_time": "2022-04-10T06:38:23.105Z"
   },
   {
    "duration": 36,
    "start_time": "2022-04-10T06:38:23.111Z"
   },
   {
    "duration": 5,
    "start_time": "2022-04-10T06:38:23.149Z"
   },
   {
    "duration": 8,
    "start_time": "2022-04-10T06:38:23.156Z"
   },
   {
    "duration": 8,
    "start_time": "2022-04-10T06:38:23.166Z"
   },
   {
    "duration": 1478,
    "start_time": "2022-04-10T06:38:23.176Z"
   },
   {
    "duration": 195525,
    "start_time": "2022-04-10T06:38:24.744Z"
   },
   {
    "duration": 5,
    "start_time": "2022-04-10T06:41:40.271Z"
   },
   {
    "duration": 1767,
    "start_time": "2022-04-10T06:41:40.279Z"
   },
   {
    "duration": 218003,
    "start_time": "2022-04-10T06:41:42.048Z"
   },
   {
    "duration": 5,
    "start_time": "2022-04-10T06:45:20.053Z"
   },
   {
    "duration": 1012,
    "start_time": "2022-04-10T06:45:20.061Z"
   },
   {
    "duration": 1256,
    "start_time": "2022-04-10T06:45:21.075Z"
   },
   {
    "duration": 13,
    "start_time": "2022-04-10T06:45:22.333Z"
   },
   {
    "duration": 20,
    "start_time": "2022-04-10T06:45:22.348Z"
   },
   {
    "duration": 9,
    "start_time": "2022-04-10T06:45:22.370Z"
   },
   {
    "duration": 10,
    "start_time": "2022-04-10T06:45:22.381Z"
   },
   {
    "duration": 6,
    "start_time": "2022-04-10T06:51:32.624Z"
   },
   {
    "duration": 6,
    "start_time": "2022-04-10T06:52:07.455Z"
   },
   {
    "duration": 6,
    "start_time": "2022-04-10T06:52:10.368Z"
   },
   {
    "duration": 1991,
    "start_time": "2022-04-10T06:52:45.052Z"
   },
   {
    "duration": 4,
    "start_time": "2022-04-10T06:52:47.045Z"
   },
   {
    "duration": 455,
    "start_time": "2022-04-10T06:52:47.051Z"
   },
   {
    "duration": 328,
    "start_time": "2022-04-10T06:52:47.509Z"
   },
   {
    "duration": 105,
    "start_time": "2022-04-10T06:52:47.842Z"
   },
   {
    "duration": 16,
    "start_time": "2022-04-10T06:52:47.949Z"
   },
   {
    "duration": 18,
    "start_time": "2022-04-10T06:52:47.967Z"
   },
   {
    "duration": 7,
    "start_time": "2022-04-10T06:52:47.987Z"
   },
   {
    "duration": 4,
    "start_time": "2022-04-10T06:52:47.996Z"
   },
   {
    "duration": 51,
    "start_time": "2022-04-10T06:52:48.003Z"
   },
   {
    "duration": 17,
    "start_time": "2022-04-10T06:52:48.056Z"
   },
   {
    "duration": 3,
    "start_time": "2022-04-10T06:52:48.076Z"
   },
   {
    "duration": 164,
    "start_time": "2022-04-10T06:52:48.081Z"
   },
   {
    "duration": 12,
    "start_time": "2022-04-10T06:52:48.248Z"
   },
   {
    "duration": 5,
    "start_time": "2022-04-10T06:52:48.262Z"
   },
   {
    "duration": 6,
    "start_time": "2022-04-10T06:52:48.269Z"
   },
   {
    "duration": 8,
    "start_time": "2022-04-10T06:52:48.277Z"
   },
   {
    "duration": 9,
    "start_time": "2022-04-10T06:52:48.287Z"
   },
   {
    "duration": 45,
    "start_time": "2022-04-10T06:52:48.298Z"
   },
   {
    "duration": 429,
    "start_time": "2022-04-10T06:52:48.346Z"
   },
   {
    "duration": 690,
    "start_time": "2022-04-10T06:52:48.777Z"
   },
   {
    "duration": 2573,
    "start_time": "2022-04-10T06:52:49.469Z"
   },
   {
    "duration": 7,
    "start_time": "2022-04-10T06:52:52.044Z"
   },
   {
    "duration": 15,
    "start_time": "2022-04-10T06:52:52.053Z"
   },
   {
    "duration": 20,
    "start_time": "2022-04-10T06:52:52.071Z"
   },
   {
    "duration": 854,
    "start_time": "2022-04-10T06:52:52.093Z"
   },
   {
    "duration": 29,
    "start_time": "2022-04-10T06:52:52.949Z"
   },
   {
    "duration": 636,
    "start_time": "2022-04-10T06:52:52.983Z"
   },
   {
    "duration": 102,
    "start_time": "2022-04-10T06:52:53.621Z"
   },
   {
    "duration": 19,
    "start_time": "2022-04-10T06:52:53.725Z"
   },
   {
    "duration": 9,
    "start_time": "2022-04-10T06:52:53.746Z"
   },
   {
    "duration": 22,
    "start_time": "2022-04-10T06:52:53.757Z"
   },
   {
    "duration": 27,
    "start_time": "2022-04-10T06:52:53.781Z"
   },
   {
    "duration": 39,
    "start_time": "2022-04-10T06:52:53.810Z"
   },
   {
    "duration": 17,
    "start_time": "2022-04-10T06:52:53.852Z"
   },
   {
    "duration": 29,
    "start_time": "2022-04-10T06:52:53.871Z"
   },
   {
    "duration": 47,
    "start_time": "2022-04-10T06:52:53.902Z"
   },
   {
    "duration": 14,
    "start_time": "2022-04-10T06:52:53.952Z"
   },
   {
    "duration": 9,
    "start_time": "2022-04-10T06:52:53.968Z"
   },
   {
    "duration": 68,
    "start_time": "2022-04-10T06:52:53.979Z"
   },
   {
    "duration": 9,
    "start_time": "2022-04-10T06:52:54.049Z"
   },
   {
    "duration": 10,
    "start_time": "2022-04-10T06:52:54.061Z"
   },
   {
    "duration": 9,
    "start_time": "2022-04-10T06:52:54.073Z"
   },
   {
    "duration": 14,
    "start_time": "2022-04-10T06:52:54.084Z"
   },
   {
    "duration": 10,
    "start_time": "2022-04-10T06:52:54.100Z"
   },
   {
    "duration": 39,
    "start_time": "2022-04-10T06:52:54.112Z"
   },
   {
    "duration": 7,
    "start_time": "2022-04-10T06:52:54.153Z"
   },
   {
    "duration": 6,
    "start_time": "2022-04-10T06:52:54.162Z"
   },
   {
    "duration": 6,
    "start_time": "2022-04-10T06:52:54.170Z"
   },
   {
    "duration": 8,
    "start_time": "2022-04-10T06:52:54.178Z"
   },
   {
    "duration": 7,
    "start_time": "2022-04-10T06:52:54.188Z"
   },
   {
    "duration": 49,
    "start_time": "2022-04-10T06:52:54.197Z"
   },
   {
    "duration": 10,
    "start_time": "2022-04-10T06:52:54.248Z"
   },
   {
    "duration": 17,
    "start_time": "2022-04-10T06:52:54.260Z"
   },
   {
    "duration": 18,
    "start_time": "2022-04-10T06:52:54.278Z"
   },
   {
    "duration": 1446,
    "start_time": "2022-04-10T06:52:54.298Z"
   },
   {
    "duration": 431480,
    "start_time": "2022-04-10T06:52:55.748Z"
   },
   {
    "duration": 14,
    "start_time": "2022-04-10T07:00:07.231Z"
   },
   {
    "duration": 1703,
    "start_time": "2022-04-10T07:00:07.248Z"
   },
   {
    "duration": 498541,
    "start_time": "2022-04-10T07:00:09.045Z"
   },
   {
    "duration": 5,
    "start_time": "2022-04-10T07:08:27.588Z"
   },
   {
    "duration": 1051,
    "start_time": "2022-04-10T07:08:27.596Z"
   },
   {
    "duration": 1300,
    "start_time": "2022-04-10T07:08:28.649Z"
   },
   {
    "duration": 5,
    "start_time": "2022-04-10T07:08:29.951Z"
   },
   {
    "duration": 20,
    "start_time": "2022-04-10T07:08:29.958Z"
   },
   {
    "duration": 11,
    "start_time": "2022-04-10T07:08:29.980Z"
   },
   {
    "duration": 6,
    "start_time": "2022-04-10T07:08:29.993Z"
   },
   {
    "duration": 7,
    "start_time": "2022-04-10T07:23:03.111Z"
   },
   {
    "duration": 2669,
    "start_time": "2022-04-10T13:51:03.407Z"
   },
   {
    "duration": 0,
    "start_time": "2022-04-10T13:51:06.082Z"
   },
   {
    "duration": 0,
    "start_time": "2022-04-10T13:51:06.083Z"
   },
   {
    "duration": 0,
    "start_time": "2022-04-10T13:51:06.085Z"
   },
   {
    "duration": 0,
    "start_time": "2022-04-10T13:51:06.087Z"
   },
   {
    "duration": 0,
    "start_time": "2022-04-10T13:51:06.088Z"
   },
   {
    "duration": 0,
    "start_time": "2022-04-10T13:51:06.090Z"
   },
   {
    "duration": 0,
    "start_time": "2022-04-10T13:51:06.091Z"
   },
   {
    "duration": 0,
    "start_time": "2022-04-10T13:51:06.093Z"
   },
   {
    "duration": 0,
    "start_time": "2022-04-10T13:51:06.094Z"
   },
   {
    "duration": 0,
    "start_time": "2022-04-10T13:51:06.095Z"
   },
   {
    "duration": 0,
    "start_time": "2022-04-10T13:51:06.097Z"
   },
   {
    "duration": 0,
    "start_time": "2022-04-10T13:51:06.099Z"
   },
   {
    "duration": 0,
    "start_time": "2022-04-10T13:51:06.101Z"
   },
   {
    "duration": 0,
    "start_time": "2022-04-10T13:51:06.102Z"
   },
   {
    "duration": 0,
    "start_time": "2022-04-10T13:51:06.145Z"
   },
   {
    "duration": 0,
    "start_time": "2022-04-10T13:51:06.147Z"
   },
   {
    "duration": 0,
    "start_time": "2022-04-10T13:51:06.149Z"
   },
   {
    "duration": 0,
    "start_time": "2022-04-10T13:51:06.151Z"
   },
   {
    "duration": 0,
    "start_time": "2022-04-10T13:51:06.153Z"
   },
   {
    "duration": 0,
    "start_time": "2022-04-10T13:51:06.154Z"
   },
   {
    "duration": 0,
    "start_time": "2022-04-10T13:51:06.156Z"
   },
   {
    "duration": 0,
    "start_time": "2022-04-10T13:51:06.158Z"
   },
   {
    "duration": 0,
    "start_time": "2022-04-10T13:51:06.160Z"
   },
   {
    "duration": 0,
    "start_time": "2022-04-10T13:51:06.162Z"
   },
   {
    "duration": 0,
    "start_time": "2022-04-10T13:51:06.164Z"
   },
   {
    "duration": 0,
    "start_time": "2022-04-10T13:51:06.167Z"
   },
   {
    "duration": 0,
    "start_time": "2022-04-10T13:51:06.168Z"
   },
   {
    "duration": 0,
    "start_time": "2022-04-10T13:51:06.170Z"
   },
   {
    "duration": 0,
    "start_time": "2022-04-10T13:51:06.171Z"
   },
   {
    "duration": 0,
    "start_time": "2022-04-10T13:51:06.173Z"
   },
   {
    "duration": 0,
    "start_time": "2022-04-10T13:51:06.174Z"
   },
   {
    "duration": 0,
    "start_time": "2022-04-10T13:51:06.175Z"
   },
   {
    "duration": 0,
    "start_time": "2022-04-10T13:51:06.177Z"
   },
   {
    "duration": 0,
    "start_time": "2022-04-10T13:51:06.180Z"
   },
   {
    "duration": 0,
    "start_time": "2022-04-10T13:51:06.182Z"
   },
   {
    "duration": 0,
    "start_time": "2022-04-10T13:51:06.244Z"
   },
   {
    "duration": 0,
    "start_time": "2022-04-10T13:51:06.245Z"
   },
   {
    "duration": 0,
    "start_time": "2022-04-10T13:51:06.247Z"
   },
   {
    "duration": 0,
    "start_time": "2022-04-10T13:51:06.248Z"
   },
   {
    "duration": 0,
    "start_time": "2022-04-10T13:51:06.249Z"
   },
   {
    "duration": 0,
    "start_time": "2022-04-10T13:51:06.252Z"
   },
   {
    "duration": 0,
    "start_time": "2022-04-10T13:51:06.254Z"
   },
   {
    "duration": 0,
    "start_time": "2022-04-10T13:51:06.255Z"
   },
   {
    "duration": 0,
    "start_time": "2022-04-10T13:51:06.256Z"
   },
   {
    "duration": 0,
    "start_time": "2022-04-10T13:51:06.258Z"
   },
   {
    "duration": 0,
    "start_time": "2022-04-10T13:51:06.260Z"
   },
   {
    "duration": 0,
    "start_time": "2022-04-10T13:51:06.261Z"
   },
   {
    "duration": 0,
    "start_time": "2022-04-10T13:51:06.263Z"
   },
   {
    "duration": 1,
    "start_time": "2022-04-10T13:51:06.264Z"
   },
   {
    "duration": 0,
    "start_time": "2022-04-10T13:51:06.266Z"
   },
   {
    "duration": 0,
    "start_time": "2022-04-10T13:51:06.268Z"
   },
   {
    "duration": 0,
    "start_time": "2022-04-10T13:51:06.270Z"
   },
   {
    "duration": 0,
    "start_time": "2022-04-10T13:51:06.271Z"
   },
   {
    "duration": 0,
    "start_time": "2022-04-10T13:51:06.273Z"
   },
   {
    "duration": 0,
    "start_time": "2022-04-10T13:51:06.275Z"
   },
   {
    "duration": 0,
    "start_time": "2022-04-10T13:51:06.277Z"
   },
   {
    "duration": 0,
    "start_time": "2022-04-10T13:51:06.342Z"
   },
   {
    "duration": 0,
    "start_time": "2022-04-10T13:51:06.344Z"
   },
   {
    "duration": 0,
    "start_time": "2022-04-10T13:51:06.346Z"
   },
   {
    "duration": 0,
    "start_time": "2022-04-10T13:51:06.347Z"
   },
   {
    "duration": 0,
    "start_time": "2022-04-10T13:51:06.349Z"
   },
   {
    "duration": 0,
    "start_time": "2022-04-10T13:51:06.351Z"
   },
   {
    "duration": 0,
    "start_time": "2022-04-10T13:51:06.352Z"
   },
   {
    "duration": 0,
    "start_time": "2022-04-10T13:51:06.354Z"
   },
   {
    "duration": 0,
    "start_time": "2022-04-10T13:51:06.355Z"
   },
   {
    "duration": 6,
    "start_time": "2022-04-10T13:56:29.141Z"
   },
   {
    "duration": 2397,
    "start_time": "2022-04-10T13:56:37.698Z"
   },
   {
    "duration": 4,
    "start_time": "2022-04-10T13:56:40.097Z"
   },
   {
    "duration": 560,
    "start_time": "2022-04-10T13:56:40.103Z"
   },
   {
    "duration": 366,
    "start_time": "2022-04-10T13:56:40.666Z"
   },
   {
    "duration": 115,
    "start_time": "2022-04-10T13:56:41.034Z"
   },
   {
    "duration": 16,
    "start_time": "2022-04-10T13:56:41.152Z"
   },
   {
    "duration": 31,
    "start_time": "2022-04-10T13:56:41.170Z"
   },
   {
    "duration": 7,
    "start_time": "2022-04-10T13:56:41.203Z"
   },
   {
    "duration": 5,
    "start_time": "2022-04-10T13:56:41.212Z"
   },
   {
    "duration": 37,
    "start_time": "2022-04-10T13:56:41.221Z"
   },
   {
    "duration": 20,
    "start_time": "2022-04-10T13:56:41.261Z"
   },
   {
    "duration": 5,
    "start_time": "2022-04-10T13:56:41.284Z"
   },
   {
    "duration": 169,
    "start_time": "2022-04-10T13:56:41.291Z"
   },
   {
    "duration": 13,
    "start_time": "2022-04-10T13:56:41.462Z"
   },
   {
    "duration": 6,
    "start_time": "2022-04-10T13:56:41.477Z"
   },
   {
    "duration": 8,
    "start_time": "2022-04-10T13:56:41.485Z"
   },
   {
    "duration": 12,
    "start_time": "2022-04-10T13:56:41.495Z"
   },
   {
    "duration": 6,
    "start_time": "2022-04-10T13:56:41.548Z"
   },
   {
    "duration": 7,
    "start_time": "2022-04-10T13:56:41.557Z"
   },
   {
    "duration": 485,
    "start_time": "2022-04-10T13:56:41.566Z"
   },
   {
    "duration": 659,
    "start_time": "2022-04-10T13:56:42.053Z"
   },
   {
    "duration": 2722,
    "start_time": "2022-04-10T13:56:42.715Z"
   },
   {
    "duration": 12,
    "start_time": "2022-04-10T13:56:45.443Z"
   },
   {
    "duration": 17,
    "start_time": "2022-04-10T13:56:45.459Z"
   },
   {
    "duration": 7,
    "start_time": "2022-04-10T13:56:45.480Z"
   },
   {
    "duration": 973,
    "start_time": "2022-04-10T13:56:45.490Z"
   },
   {
    "duration": 31,
    "start_time": "2022-04-10T13:56:46.465Z"
   },
   {
    "duration": 813,
    "start_time": "2022-04-10T13:56:46.501Z"
   },
   {
    "duration": 106,
    "start_time": "2022-04-10T13:56:47.317Z"
   },
   {
    "duration": 24,
    "start_time": "2022-04-10T13:56:47.426Z"
   },
   {
    "duration": 21,
    "start_time": "2022-04-10T13:56:47.453Z"
   },
   {
    "duration": 21,
    "start_time": "2022-04-10T13:56:47.476Z"
   },
   {
    "duration": 48,
    "start_time": "2022-04-10T13:56:47.499Z"
   },
   {
    "duration": 11,
    "start_time": "2022-04-10T13:56:47.554Z"
   },
   {
    "duration": 19,
    "start_time": "2022-04-10T13:56:47.567Z"
   },
   {
    "duration": 30,
    "start_time": "2022-04-10T13:56:47.588Z"
   },
   {
    "duration": 11,
    "start_time": "2022-04-10T13:56:47.654Z"
   },
   {
    "duration": 18,
    "start_time": "2022-04-10T13:56:47.667Z"
   },
   {
    "duration": 11,
    "start_time": "2022-04-10T13:56:47.687Z"
   },
   {
    "duration": 61,
    "start_time": "2022-04-10T13:56:47.700Z"
   },
   {
    "duration": 9,
    "start_time": "2022-04-10T13:56:47.764Z"
   },
   {
    "duration": 9,
    "start_time": "2022-04-10T13:56:47.775Z"
   },
   {
    "duration": 9,
    "start_time": "2022-04-10T13:56:47.787Z"
   },
   {
    "duration": 14,
    "start_time": "2022-04-10T13:56:47.798Z"
   },
   {
    "duration": 36,
    "start_time": "2022-04-10T13:56:47.815Z"
   },
   {
    "duration": 19,
    "start_time": "2022-04-10T13:56:47.853Z"
   },
   {
    "duration": 6,
    "start_time": "2022-04-10T13:56:47.874Z"
   },
   {
    "duration": 11,
    "start_time": "2022-04-10T13:56:47.882Z"
   },
   {
    "duration": 16,
    "start_time": "2022-04-10T13:56:47.895Z"
   },
   {
    "duration": 10,
    "start_time": "2022-04-10T13:56:47.913Z"
   },
   {
    "duration": 19,
    "start_time": "2022-04-10T13:56:47.925Z"
   },
   {
    "duration": 20,
    "start_time": "2022-04-10T13:56:47.946Z"
   },
   {
    "duration": 6,
    "start_time": "2022-04-10T13:56:47.968Z"
   },
   {
    "duration": 12,
    "start_time": "2022-04-10T13:56:47.976Z"
   },
   {
    "duration": 2572,
    "start_time": "2022-04-10T13:56:47.990Z"
   },
   {
    "duration": 632,
    "start_time": "2022-04-10T13:56:50.564Z"
   },
   {
    "duration": 5,
    "start_time": "2022-04-10T13:56:51.198Z"
   },
   {
    "duration": 2040,
    "start_time": "2022-04-10T13:56:51.205Z"
   },
   {
    "duration": 307,
    "start_time": "2022-04-10T13:56:53.248Z"
   },
   {
    "duration": 5,
    "start_time": "2022-04-10T13:56:53.558Z"
   },
   {
    "duration": 1116,
    "start_time": "2022-04-10T13:56:53.565Z"
   },
   {
    "duration": 1335,
    "start_time": "2022-04-10T13:56:54.684Z"
   },
   {
    "duration": 21,
    "start_time": "2022-04-10T13:56:56.021Z"
   },
   {
    "duration": 16,
    "start_time": "2022-04-10T13:56:56.048Z"
   },
   {
    "duration": 10,
    "start_time": "2022-04-10T13:56:56.066Z"
   },
   {
    "duration": 11,
    "start_time": "2022-04-10T13:56:56.078Z"
   },
   {
    "duration": 6,
    "start_time": "2022-04-10T14:00:36.704Z"
   },
   {
    "duration": 2415,
    "start_time": "2022-04-10T14:00:42.156Z"
   },
   {
    "duration": 2038,
    "start_time": "2022-04-10T14:02:57.069Z"
   },
   {
    "duration": 4,
    "start_time": "2022-04-10T14:02:59.110Z"
   },
   {
    "duration": 465,
    "start_time": "2022-04-10T14:02:59.116Z"
   },
   {
    "duration": 333,
    "start_time": "2022-04-10T14:02:59.584Z"
   },
   {
    "duration": 111,
    "start_time": "2022-04-10T14:02:59.919Z"
   },
   {
    "duration": 26,
    "start_time": "2022-04-10T14:03:00.032Z"
   },
   {
    "duration": 21,
    "start_time": "2022-04-10T14:03:00.060Z"
   },
   {
    "duration": 7,
    "start_time": "2022-04-10T14:03:00.084Z"
   },
   {
    "duration": 7,
    "start_time": "2022-04-10T14:03:00.093Z"
   },
   {
    "duration": 52,
    "start_time": "2022-04-10T14:03:00.104Z"
   },
   {
    "duration": 16,
    "start_time": "2022-04-10T14:03:00.159Z"
   },
   {
    "duration": 13,
    "start_time": "2022-04-10T14:03:00.177Z"
   },
   {
    "duration": 137,
    "start_time": "2022-04-10T14:03:00.192Z"
   },
   {
    "duration": 14,
    "start_time": "2022-04-10T14:03:00.331Z"
   },
   {
    "duration": 23,
    "start_time": "2022-04-10T14:03:00.347Z"
   },
   {
    "duration": 9,
    "start_time": "2022-04-10T14:03:00.373Z"
   },
   {
    "duration": 10,
    "start_time": "2022-04-10T14:03:00.385Z"
   },
   {
    "duration": 13,
    "start_time": "2022-04-10T14:03:00.398Z"
   },
   {
    "duration": 10,
    "start_time": "2022-04-10T14:03:00.413Z"
   },
   {
    "duration": 474,
    "start_time": "2022-04-10T14:03:00.426Z"
   },
   {
    "duration": 699,
    "start_time": "2022-04-10T14:03:00.902Z"
   },
   {
    "duration": 2765,
    "start_time": "2022-04-10T14:03:01.604Z"
   },
   {
    "duration": 7,
    "start_time": "2022-04-10T14:03:04.371Z"
   },
   {
    "duration": 9,
    "start_time": "2022-04-10T14:03:04.380Z"
   },
   {
    "duration": 8,
    "start_time": "2022-04-10T14:03:04.391Z"
   },
   {
    "duration": 947,
    "start_time": "2022-04-10T14:03:04.401Z"
   },
   {
    "duration": 31,
    "start_time": "2022-04-10T14:03:05.350Z"
   },
   {
    "duration": 681,
    "start_time": "2022-04-10T14:03:05.387Z"
   },
   {
    "duration": 100,
    "start_time": "2022-04-10T14:03:06.070Z"
   },
   {
    "duration": 9,
    "start_time": "2022-04-10T14:03:06.172Z"
   },
   {
    "duration": 12,
    "start_time": "2022-04-10T14:03:06.183Z"
   },
   {
    "duration": 17,
    "start_time": "2022-04-10T14:03:06.197Z"
   },
   {
    "duration": 60,
    "start_time": "2022-04-10T14:03:06.216Z"
   },
   {
    "duration": 10,
    "start_time": "2022-04-10T14:03:06.278Z"
   },
   {
    "duration": 19,
    "start_time": "2022-04-10T14:03:06.290Z"
   },
   {
    "duration": 57,
    "start_time": "2022-04-10T14:03:06.311Z"
   },
   {
    "duration": 15,
    "start_time": "2022-04-10T14:03:06.370Z"
   },
   {
    "duration": 16,
    "start_time": "2022-04-10T14:03:06.387Z"
   },
   {
    "duration": 39,
    "start_time": "2022-04-10T14:03:06.405Z"
   },
   {
    "duration": 39,
    "start_time": "2022-04-10T14:03:06.448Z"
   },
   {
    "duration": 8,
    "start_time": "2022-04-10T14:03:06.490Z"
   },
   {
    "duration": 11,
    "start_time": "2022-04-10T14:03:06.500Z"
   },
   {
    "duration": 33,
    "start_time": "2022-04-10T14:03:06.513Z"
   },
   {
    "duration": 17,
    "start_time": "2022-04-10T14:03:06.551Z"
   },
   {
    "duration": 8,
    "start_time": "2022-04-10T14:03:06.571Z"
   },
   {
    "duration": 22,
    "start_time": "2022-04-10T14:03:06.581Z"
   },
   {
    "duration": 12,
    "start_time": "2022-04-10T14:03:06.605Z"
   },
   {
    "duration": 10,
    "start_time": "2022-04-10T14:03:06.619Z"
   },
   {
    "duration": 15,
    "start_time": "2022-04-10T14:03:06.631Z"
   },
   {
    "duration": 19,
    "start_time": "2022-04-10T14:03:06.648Z"
   },
   {
    "duration": 8,
    "start_time": "2022-04-10T14:03:06.668Z"
   },
   {
    "duration": 6,
    "start_time": "2022-04-10T14:03:06.678Z"
   },
   {
    "duration": 5,
    "start_time": "2022-04-10T14:03:06.685Z"
   },
   {
    "duration": 7,
    "start_time": "2022-04-10T14:03:06.692Z"
   },
   {
    "duration": 1945,
    "start_time": "2022-04-10T14:03:06.701Z"
   },
   {
    "duration": 51972,
    "start_time": "2022-04-10T14:03:08.653Z"
   },
   {
    "duration": 5,
    "start_time": "2022-04-10T14:04:00.627Z"
   },
   {
    "duration": 2200,
    "start_time": "2022-04-10T14:04:00.644Z"
   },
   {
    "duration": 60730,
    "start_time": "2022-04-10T14:04:02.853Z"
   },
   {
    "duration": 5,
    "start_time": "2022-04-10T14:05:03.585Z"
   },
   {
    "duration": 1071,
    "start_time": "2022-04-10T14:05:03.593Z"
   },
   {
    "duration": 1370,
    "start_time": "2022-04-10T14:05:04.666Z"
   },
   {
    "duration": 8,
    "start_time": "2022-04-10T14:05:06.043Z"
   },
   {
    "duration": 13,
    "start_time": "2022-04-10T14:05:06.054Z"
   },
   {
    "duration": 9,
    "start_time": "2022-04-10T14:05:06.070Z"
   },
   {
    "duration": 7,
    "start_time": "2022-04-10T14:05:06.081Z"
   },
   {
    "duration": 7,
    "start_time": "2022-04-10T14:12:58.532Z"
   },
   {
    "duration": 5,
    "start_time": "2022-04-10T14:13:01.877Z"
   },
   {
    "duration": 1723,
    "start_time": "2022-04-10T14:13:42.677Z"
   },
   {
    "duration": 5,
    "start_time": "2022-04-10T14:13:53.637Z"
   },
   {
    "duration": 5,
    "start_time": "2022-04-10T14:14:00.068Z"
   },
   {
    "duration": 1455,
    "start_time": "2022-04-10T14:14:08.405Z"
   },
   {
    "duration": 1642,
    "start_time": "2022-04-10T14:14:32.109Z"
   },
   {
    "duration": 7,
    "start_time": "2022-04-10T14:17:51.753Z"
   },
   {
    "duration": 48184,
    "start_time": "2022-04-10T14:17:57.992Z"
   },
   {
    "duration": 12,
    "start_time": "2022-04-10T14:19:41.558Z"
   },
   {
    "duration": 61688,
    "start_time": "2022-04-10T14:20:26.323Z"
   },
   {
    "duration": 6,
    "start_time": "2022-04-10T14:26:07.425Z"
   },
   {
    "duration": 2824,
    "start_time": "2022-04-10T14:26:47.884Z"
   },
   {
    "duration": 5,
    "start_time": "2022-04-10T14:26:50.712Z"
   },
   {
    "duration": 462,
    "start_time": "2022-04-10T14:26:50.719Z"
   },
   {
    "duration": 331,
    "start_time": "2022-04-10T14:26:51.184Z"
   },
   {
    "duration": 106,
    "start_time": "2022-04-10T14:26:51.518Z"
   },
   {
    "duration": 27,
    "start_time": "2022-04-10T14:26:51.627Z"
   },
   {
    "duration": 23,
    "start_time": "2022-04-10T14:26:51.657Z"
   },
   {
    "duration": 15,
    "start_time": "2022-04-10T14:26:51.682Z"
   },
   {
    "duration": 6,
    "start_time": "2022-04-10T14:26:51.699Z"
   },
   {
    "duration": 47,
    "start_time": "2022-04-10T14:26:51.709Z"
   },
   {
    "duration": 16,
    "start_time": "2022-04-10T14:26:51.758Z"
   },
   {
    "duration": 3,
    "start_time": "2022-04-10T14:26:51.777Z"
   },
   {
    "duration": 176,
    "start_time": "2022-04-10T14:26:51.783Z"
   },
   {
    "duration": 12,
    "start_time": "2022-04-10T14:26:51.962Z"
   },
   {
    "duration": 8,
    "start_time": "2022-04-10T14:26:51.976Z"
   },
   {
    "duration": 10,
    "start_time": "2022-04-10T14:26:51.986Z"
   },
   {
    "duration": 45,
    "start_time": "2022-04-10T14:26:51.999Z"
   },
   {
    "duration": 14,
    "start_time": "2022-04-10T14:26:52.047Z"
   },
   {
    "duration": 15,
    "start_time": "2022-04-10T14:26:52.064Z"
   },
   {
    "duration": 454,
    "start_time": "2022-04-10T14:26:52.081Z"
   },
   {
    "duration": 690,
    "start_time": "2022-04-10T14:26:52.537Z"
   },
   {
    "duration": 2953,
    "start_time": "2022-04-10T14:26:53.230Z"
   },
   {
    "duration": 7,
    "start_time": "2022-04-10T14:26:56.185Z"
   },
   {
    "duration": 11,
    "start_time": "2022-04-10T14:26:56.194Z"
   },
   {
    "duration": 36,
    "start_time": "2022-04-10T14:26:56.208Z"
   },
   {
    "duration": 896,
    "start_time": "2022-04-10T14:26:56.247Z"
   },
   {
    "duration": 28,
    "start_time": "2022-04-10T14:26:57.145Z"
   },
   {
    "duration": 661,
    "start_time": "2022-04-10T14:26:57.179Z"
   },
   {
    "duration": 100,
    "start_time": "2022-04-10T14:26:57.844Z"
   },
   {
    "duration": 11,
    "start_time": "2022-04-10T14:26:57.946Z"
   },
   {
    "duration": 10,
    "start_time": "2022-04-10T14:26:57.960Z"
   },
   {
    "duration": 16,
    "start_time": "2022-04-10T14:26:57.972Z"
   },
   {
    "duration": 68,
    "start_time": "2022-04-10T14:26:57.990Z"
   },
   {
    "duration": 10,
    "start_time": "2022-04-10T14:26:58.061Z"
   },
   {
    "duration": 16,
    "start_time": "2022-04-10T14:26:58.073Z"
   },
   {
    "duration": 65,
    "start_time": "2022-04-10T14:26:58.091Z"
   },
   {
    "duration": 10,
    "start_time": "2022-04-10T14:26:58.159Z"
   },
   {
    "duration": 14,
    "start_time": "2022-04-10T14:26:58.171Z"
   },
   {
    "duration": 10,
    "start_time": "2022-04-10T14:26:58.187Z"
   },
   {
    "duration": 46,
    "start_time": "2022-04-10T14:26:58.244Z"
   },
   {
    "duration": 11,
    "start_time": "2022-04-10T14:26:58.293Z"
   },
   {
    "duration": 42,
    "start_time": "2022-04-10T14:26:58.306Z"
   },
   {
    "duration": 6,
    "start_time": "2022-04-10T14:26:58.351Z"
   },
   {
    "duration": 29,
    "start_time": "2022-04-10T14:26:58.360Z"
   },
   {
    "duration": 9,
    "start_time": "2022-04-10T14:26:58.392Z"
   },
   {
    "duration": 23,
    "start_time": "2022-04-10T14:26:58.404Z"
   },
   {
    "duration": 21,
    "start_time": "2022-04-10T14:26:58.430Z"
   },
   {
    "duration": 19,
    "start_time": "2022-04-10T14:26:58.454Z"
   },
   {
    "duration": 9,
    "start_time": "2022-04-10T14:26:58.476Z"
   },
   {
    "duration": 11,
    "start_time": "2022-04-10T14:26:58.487Z"
   },
   {
    "duration": 6,
    "start_time": "2022-04-10T14:26:58.501Z"
   },
   {
    "duration": 34,
    "start_time": "2022-04-10T14:26:58.510Z"
   },
   {
    "duration": 6,
    "start_time": "2022-04-10T14:26:58.547Z"
   },
   {
    "duration": 10,
    "start_time": "2022-04-10T14:26:58.555Z"
   },
   {
    "duration": 12,
    "start_time": "2022-04-10T14:26:58.567Z"
   },
   {
    "duration": 10,
    "start_time": "2022-04-10T14:26:58.582Z"
   },
   {
    "duration": 1959,
    "start_time": "2022-04-10T14:26:58.594Z"
   },
   {
    "duration": 50881,
    "start_time": "2022-04-10T14:27:00.556Z"
   },
   {
    "duration": 3343889,
    "start_time": "2022-04-10T14:27:51.443Z"
   },
   {
    "duration": 17,
    "start_time": "2022-04-10T15:23:35.335Z"
   },
   {
    "duration": 1790,
    "start_time": "2022-04-10T15:23:35.354Z"
   },
   {
    "duration": 57778,
    "start_time": "2022-04-10T15:23:37.147Z"
   },
   {
    "duration": 3891048,
    "start_time": "2022-04-10T15:24:34.928Z"
   },
   {
    "duration": 13,
    "start_time": "2022-04-10T16:29:25.978Z"
   },
   {
    "duration": 1026,
    "start_time": "2022-04-10T16:29:25.993Z"
   },
   {
    "duration": 1305,
    "start_time": "2022-04-10T16:29:27.021Z"
   },
   {
    "duration": 16,
    "start_time": "2022-04-10T16:29:28.328Z"
   },
   {
    "duration": 16,
    "start_time": "2022-04-10T16:29:28.346Z"
   },
   {
    "duration": 7,
    "start_time": "2022-04-10T16:29:28.365Z"
   },
   {
    "duration": 8,
    "start_time": "2022-04-10T16:29:28.374Z"
   },
   {
    "duration": 47,
    "start_time": "2022-04-10T16:29:28.400Z"
   },
   {
    "duration": 6,
    "start_time": "2022-04-10T16:31:54.002Z"
   },
   {
    "duration": 168,
    "start_time": "2022-04-10T16:31:56.461Z"
   },
   {
    "duration": 5,
    "start_time": "2022-04-10T16:32:03.110Z"
   },
   {
    "duration": 12,
    "start_time": "2022-04-10T16:32:06.876Z"
   },
   {
    "duration": 12,
    "start_time": "2022-04-10T16:32:09.940Z"
   },
   {
    "duration": 4,
    "start_time": "2022-04-10T16:32:15.595Z"
   },
   {
    "duration": 6,
    "start_time": "2022-04-10T16:33:42.978Z"
   },
   {
    "duration": 6,
    "start_time": "2022-04-10T16:33:47.914Z"
   },
   {
    "duration": 1513,
    "start_time": "2022-04-10T16:33:51.041Z"
   },
   {
    "duration": 63601,
    "start_time": "2022-04-10T16:33:54.058Z"
   },
   {
    "duration": 18,
    "start_time": "2022-04-10T16:34:57.663Z"
   },
   {
    "duration": 7,
    "start_time": "2022-04-10T16:35:39.543Z"
   },
   {
    "duration": 29050,
    "start_time": "2022-04-10T16:35:47.623Z"
   },
   {
    "duration": 14,
    "start_time": "2022-04-10T16:36:22.007Z"
   },
   {
    "duration": 30814,
    "start_time": "2022-04-10T16:36:41.781Z"
   },
   {
    "duration": 14,
    "start_time": "2022-04-10T16:37:28.709Z"
   },
   {
    "duration": 6,
    "start_time": "2022-04-10T16:38:45.645Z"
   },
   {
    "duration": 6,
    "start_time": "2022-04-10T16:38:52.437Z"
   },
   {
    "duration": 1955466,
    "start_time": "2022-04-10T16:39:00.763Z"
   },
   {
    "duration": 3140,
    "start_time": "2022-04-10T17:12:08.491Z"
   },
   {
    "duration": 14,
    "start_time": "2022-04-10T17:12:15.653Z"
   },
   {
    "duration": 2078,
    "start_time": "2022-04-10T17:13:14.784Z"
   },
   {
    "duration": 4,
    "start_time": "2022-04-10T17:13:16.864Z"
   },
   {
    "duration": 462,
    "start_time": "2022-04-10T17:13:16.870Z"
   },
   {
    "duration": 326,
    "start_time": "2022-04-10T17:13:17.342Z"
   },
   {
    "duration": 106,
    "start_time": "2022-04-10T17:13:17.670Z"
   },
   {
    "duration": 14,
    "start_time": "2022-04-10T17:13:17.778Z"
   },
   {
    "duration": 22,
    "start_time": "2022-04-10T17:13:17.795Z"
   },
   {
    "duration": 26,
    "start_time": "2022-04-10T17:13:17.819Z"
   },
   {
    "duration": 5,
    "start_time": "2022-04-10T17:13:17.847Z"
   },
   {
    "duration": 17,
    "start_time": "2022-04-10T17:13:17.855Z"
   },
   {
    "duration": 16,
    "start_time": "2022-04-10T17:13:17.874Z"
   },
   {
    "duration": 3,
    "start_time": "2022-04-10T17:13:17.892Z"
   },
   {
    "duration": 166,
    "start_time": "2022-04-10T17:13:17.897Z"
   },
   {
    "duration": 11,
    "start_time": "2022-04-10T17:13:18.065Z"
   },
   {
    "duration": 5,
    "start_time": "2022-04-10T17:13:18.078Z"
   },
   {
    "duration": 6,
    "start_time": "2022-04-10T17:13:18.085Z"
   },
   {
    "duration": 7,
    "start_time": "2022-04-10T17:13:18.093Z"
   },
   {
    "duration": 4,
    "start_time": "2022-04-10T17:13:18.102Z"
   },
   {
    "duration": 4,
    "start_time": "2022-04-10T17:13:18.143Z"
   },
   {
    "duration": 427,
    "start_time": "2022-04-10T17:13:18.148Z"
   },
   {
    "duration": 636,
    "start_time": "2022-04-10T17:13:18.577Z"
   },
   {
    "duration": 2569,
    "start_time": "2022-04-10T17:13:19.215Z"
   },
   {
    "duration": 7,
    "start_time": "2022-04-10T17:13:21.786Z"
   },
   {
    "duration": 9,
    "start_time": "2022-04-10T17:13:21.795Z"
   },
   {
    "duration": 6,
    "start_time": "2022-04-10T17:13:21.806Z"
   },
   {
    "duration": 867,
    "start_time": "2022-04-10T17:13:21.842Z"
   },
   {
    "duration": 41,
    "start_time": "2022-04-10T17:13:22.712Z"
   },
   {
    "duration": 659,
    "start_time": "2022-04-10T17:13:22.761Z"
   },
   {
    "duration": 98,
    "start_time": "2022-04-10T17:13:23.423Z"
   },
   {
    "duration": 21,
    "start_time": "2022-04-10T17:13:23.523Z"
   },
   {
    "duration": 10,
    "start_time": "2022-04-10T17:13:23.546Z"
   },
   {
    "duration": 15,
    "start_time": "2022-04-10T17:13:23.557Z"
   },
   {
    "duration": 32,
    "start_time": "2022-04-10T17:13:23.574Z"
   },
   {
    "duration": 42,
    "start_time": "2022-04-10T17:13:23.608Z"
   },
   {
    "duration": 20,
    "start_time": "2022-04-10T17:13:23.652Z"
   },
   {
    "duration": 29,
    "start_time": "2022-04-10T17:13:23.675Z"
   },
   {
    "duration": 12,
    "start_time": "2022-04-10T17:13:23.742Z"
   },
   {
    "duration": 16,
    "start_time": "2022-04-10T17:13:23.757Z"
   },
   {
    "duration": 12,
    "start_time": "2022-04-10T17:13:23.776Z"
   },
   {
    "duration": 80,
    "start_time": "2022-04-10T17:13:23.790Z"
   },
   {
    "duration": 10,
    "start_time": "2022-04-10T17:13:23.872Z"
   },
   {
    "duration": 9,
    "start_time": "2022-04-10T17:13:23.885Z"
   },
   {
    "duration": 46,
    "start_time": "2022-04-10T17:13:23.897Z"
   },
   {
    "duration": 16,
    "start_time": "2022-04-10T17:13:23.946Z"
   },
   {
    "duration": 6,
    "start_time": "2022-04-10T17:13:23.964Z"
   },
   {
    "duration": 12,
    "start_time": "2022-04-10T17:13:23.972Z"
   },
   {
    "duration": 6,
    "start_time": "2022-04-10T17:13:23.986Z"
   },
   {
    "duration": 5,
    "start_time": "2022-04-10T17:13:23.995Z"
   },
   {
    "duration": 43,
    "start_time": "2022-04-10T17:13:24.002Z"
   },
   {
    "duration": 11,
    "start_time": "2022-04-10T17:13:24.047Z"
   },
   {
    "duration": 9,
    "start_time": "2022-04-10T17:13:24.060Z"
   },
   {
    "duration": 7,
    "start_time": "2022-04-10T17:13:24.071Z"
   },
   {
    "duration": 8,
    "start_time": "2022-04-10T17:13:24.080Z"
   },
   {
    "duration": 7,
    "start_time": "2022-04-10T17:13:24.090Z"
   },
   {
    "duration": 46,
    "start_time": "2022-04-10T17:13:24.099Z"
   },
   {
    "duration": 12,
    "start_time": "2022-04-10T17:13:24.147Z"
   },
   {
    "duration": 1739,
    "start_time": "2022-04-10T17:13:47.410Z"
   },
   {
    "duration": 28705,
    "start_time": "2022-04-10T17:13:49.418Z"
   },
   {
    "duration": 3490,
    "start_time": "2022-04-10T17:14:37.184Z"
   },
   {
    "duration": 16,
    "start_time": "2022-04-10T17:14:54.633Z"
   },
   {
    "duration": 14,
    "start_time": "2022-04-10T17:15:13.201Z"
   },
   {
    "duration": 1303,
    "start_time": "2022-04-10T17:15:25.042Z"
   },
   {
    "duration": 30462,
    "start_time": "2022-04-10T17:15:29.368Z"
   },
   {
    "duration": 15,
    "start_time": "2022-04-10T17:16:35.768Z"
   },
   {
    "duration": 14,
    "start_time": "2022-04-10T17:17:01.030Z"
   },
   {
    "duration": 5,
    "start_time": "2022-04-10T17:17:06.542Z"
   },
   {
    "duration": 22,
    "start_time": "2022-04-10T17:17:12.326Z"
   },
   {
    "duration": 5,
    "start_time": "2022-04-10T17:17:28.854Z"
   },
   {
    "duration": 11,
    "start_time": "2022-04-10T17:17:55.757Z"
   },
   {
    "duration": 18,
    "start_time": "2022-04-10T17:18:03.397Z"
   },
   {
    "duration": 15,
    "start_time": "2022-04-10T17:18:12.860Z"
   },
   {
    "duration": 17,
    "start_time": "2022-04-10T17:18:16.485Z"
   },
   {
    "duration": 11,
    "start_time": "2022-04-10T17:18:21.093Z"
   },
   {
    "duration": 12,
    "start_time": "2022-04-10T17:18:28.175Z"
   },
   {
    "duration": 11,
    "start_time": "2022-04-10T17:18:30.636Z"
   },
   {
    "duration": 4,
    "start_time": "2022-04-10T17:18:32.613Z"
   },
   {
    "duration": 18,
    "start_time": "2022-04-10T17:18:34.644Z"
   },
   {
    "duration": 10,
    "start_time": "2022-04-10T17:18:44.949Z"
   },
   {
    "duration": 6,
    "start_time": "2022-04-10T17:18:56.069Z"
   },
   {
    "duration": 5,
    "start_time": "2022-04-10T17:19:09.772Z"
   },
   {
    "duration": 21,
    "start_time": "2022-04-10T17:19:37.219Z"
   },
   {
    "duration": 12,
    "start_time": "2022-04-10T17:19:46.379Z"
   },
   {
    "duration": 17,
    "start_time": "2022-04-10T17:19:57.260Z"
   },
   {
    "duration": 11,
    "start_time": "2022-04-10T17:20:11.724Z"
   },
   {
    "duration": 14,
    "start_time": "2022-04-10T17:21:17.829Z"
   },
   {
    "duration": 17,
    "start_time": "2022-04-10T17:21:33.370Z"
   },
   {
    "duration": 11,
    "start_time": "2022-04-10T17:21:41.778Z"
   },
   {
    "duration": 18,
    "start_time": "2022-04-10T17:22:02.809Z"
   },
   {
    "duration": 5,
    "start_time": "2022-04-10T17:22:05.849Z"
   },
   {
    "duration": 5,
    "start_time": "2022-04-10T17:22:08.424Z"
   },
   {
    "duration": 433,
    "start_time": "2022-04-10T17:22:10.537Z"
   },
   {
    "duration": 425,
    "start_time": "2022-04-10T17:22:22.064Z"
   },
   {
    "duration": 11,
    "start_time": "2022-04-10T17:22:29.344Z"
   },
   {
    "duration": 13,
    "start_time": "2022-04-10T17:22:35.744Z"
   },
   {
    "duration": 10,
    "start_time": "2022-04-10T17:22:37.695Z"
   },
   {
    "duration": 5,
    "start_time": "2022-04-10T17:22:39.825Z"
   },
   {
    "duration": 2066,
    "start_time": "2022-04-10T17:25:09.992Z"
   },
   {
    "duration": 4,
    "start_time": "2022-04-10T17:25:12.060Z"
   },
   {
    "duration": 462,
    "start_time": "2022-04-10T17:25:12.067Z"
   },
   {
    "duration": 331,
    "start_time": "2022-04-10T17:25:12.533Z"
   },
   {
    "duration": 105,
    "start_time": "2022-04-10T17:25:12.866Z"
   },
   {
    "duration": 16,
    "start_time": "2022-04-10T17:25:12.973Z"
   },
   {
    "duration": 20,
    "start_time": "2022-04-10T17:25:12.991Z"
   },
   {
    "duration": 31,
    "start_time": "2022-04-10T17:25:13.013Z"
   },
   {
    "duration": 4,
    "start_time": "2022-04-10T17:25:13.046Z"
   },
   {
    "duration": 16,
    "start_time": "2022-04-10T17:25:13.054Z"
   },
   {
    "duration": 17,
    "start_time": "2022-04-10T17:25:13.073Z"
   },
   {
    "duration": 3,
    "start_time": "2022-04-10T17:25:13.092Z"
   },
   {
    "duration": 169,
    "start_time": "2022-04-10T17:25:13.097Z"
   },
   {
    "duration": 12,
    "start_time": "2022-04-10T17:25:13.268Z"
   },
   {
    "duration": 13,
    "start_time": "2022-04-10T17:25:13.283Z"
   },
   {
    "duration": 13,
    "start_time": "2022-04-10T17:25:13.298Z"
   },
   {
    "duration": 10,
    "start_time": "2022-04-10T17:25:13.313Z"
   },
   {
    "duration": 3,
    "start_time": "2022-04-10T17:25:13.342Z"
   },
   {
    "duration": 6,
    "start_time": "2022-04-10T17:25:13.348Z"
   },
   {
    "duration": 427,
    "start_time": "2022-04-10T17:25:13.356Z"
   },
   {
    "duration": 633,
    "start_time": "2022-04-10T17:25:13.785Z"
   },
   {
    "duration": 2688,
    "start_time": "2022-04-10T17:25:14.420Z"
   },
   {
    "duration": 7,
    "start_time": "2022-04-10T17:25:17.110Z"
   },
   {
    "duration": 26,
    "start_time": "2022-04-10T17:25:17.120Z"
   },
   {
    "duration": 7,
    "start_time": "2022-04-10T17:25:17.148Z"
   },
   {
    "duration": 899,
    "start_time": "2022-04-10T17:25:17.158Z"
   },
   {
    "duration": 29,
    "start_time": "2022-04-10T17:25:18.060Z"
   },
   {
    "duration": 669,
    "start_time": "2022-04-10T17:25:18.096Z"
   },
   {
    "duration": 103,
    "start_time": "2022-04-10T17:25:18.768Z"
   },
   {
    "duration": 10,
    "start_time": "2022-04-10T17:25:18.873Z"
   },
   {
    "duration": 19,
    "start_time": "2022-04-10T17:25:18.885Z"
   },
   {
    "duration": 22,
    "start_time": "2022-04-10T17:25:18.906Z"
   },
   {
    "duration": 29,
    "start_time": "2022-04-10T17:25:18.942Z"
   },
   {
    "duration": 18,
    "start_time": "2022-04-10T17:25:18.973Z"
   },
   {
    "duration": 29,
    "start_time": "2022-04-10T17:25:18.993Z"
   },
   {
    "duration": 43,
    "start_time": "2022-04-10T17:25:19.024Z"
   },
   {
    "duration": 11,
    "start_time": "2022-04-10T17:25:19.068Z"
   },
   {
    "duration": 36,
    "start_time": "2022-04-10T17:25:19.081Z"
   },
   {
    "duration": 15,
    "start_time": "2022-04-10T17:25:19.119Z"
   },
   {
    "duration": 38,
    "start_time": "2022-04-10T17:25:19.142Z"
   },
   {
    "duration": 9,
    "start_time": "2022-04-10T17:25:19.182Z"
   },
   {
    "duration": 8,
    "start_time": "2022-04-10T17:25:19.192Z"
   },
   {
    "duration": 8,
    "start_time": "2022-04-10T17:25:19.202Z"
   },
   {
    "duration": 41,
    "start_time": "2022-04-10T17:25:19.211Z"
   },
   {
    "duration": 16,
    "start_time": "2022-04-10T17:25:19.254Z"
   },
   {
    "duration": 13,
    "start_time": "2022-04-10T17:25:19.273Z"
   },
   {
    "duration": 6,
    "start_time": "2022-04-10T17:25:19.288Z"
   },
   {
    "duration": 9,
    "start_time": "2022-04-10T17:25:19.296Z"
   },
   {
    "duration": 37,
    "start_time": "2022-04-10T17:25:19.307Z"
   },
   {
    "duration": 7,
    "start_time": "2022-04-10T17:25:19.346Z"
   },
   {
    "duration": 6,
    "start_time": "2022-04-10T17:25:19.356Z"
   },
   {
    "duration": 8,
    "start_time": "2022-04-10T17:25:19.365Z"
   },
   {
    "duration": 9,
    "start_time": "2022-04-10T17:25:19.376Z"
   },
   {
    "duration": 26,
    "start_time": "2022-04-10T17:25:19.387Z"
   },
   {
    "duration": 9,
    "start_time": "2022-04-10T17:25:19.444Z"
   },
   {
    "duration": 28,
    "start_time": "2022-04-10T17:25:19.456Z"
   },
   {
    "duration": 1658,
    "start_time": "2022-04-10T17:25:19.486Z"
   },
   {
    "duration": 30631,
    "start_time": "2022-04-10T17:25:21.146Z"
   },
   {
    "duration": 493606,
    "start_time": "2022-04-10T17:25:51.779Z"
   },
   {
    "duration": 16,
    "start_time": "2022-04-10T17:34:05.388Z"
   },
   {
    "duration": 1536,
    "start_time": "2022-04-10T17:34:05.407Z"
   },
   {
    "duration": 29941,
    "start_time": "2022-04-10T17:34:06.945Z"
   },
   {
    "duration": 513491,
    "start_time": "2022-04-10T17:34:36.888Z"
   },
   {
    "duration": 16,
    "start_time": "2022-04-10T17:43:10.381Z"
   },
   {
    "duration": 28,
    "start_time": "2022-04-10T17:43:10.399Z"
   },
   {
    "duration": 17,
    "start_time": "2022-04-10T17:43:10.430Z"
   },
   {
    "duration": 17315,
    "start_time": "2022-04-10T17:43:10.449Z"
   },
   {
    "duration": 13,
    "start_time": "2022-04-10T17:43:27.767Z"
   },
   {
    "duration": 1073,
    "start_time": "2022-04-10T17:43:27.782Z"
   },
   {
    "duration": 1432,
    "start_time": "2022-04-10T17:43:28.857Z"
   },
   {
    "duration": 6,
    "start_time": "2022-04-10T17:43:30.292Z"
   },
   {
    "duration": 1992,
    "start_time": "2022-04-10T17:48:21.666Z"
   },
   {
    "duration": 4,
    "start_time": "2022-04-10T17:48:23.660Z"
   },
   {
    "duration": 443,
    "start_time": "2022-04-10T17:48:23.666Z"
   },
   {
    "duration": 337,
    "start_time": "2022-04-10T17:48:24.112Z"
   },
   {
    "duration": 106,
    "start_time": "2022-04-10T17:48:24.451Z"
   },
   {
    "duration": 16,
    "start_time": "2022-04-10T17:48:24.559Z"
   },
   {
    "duration": 19,
    "start_time": "2022-04-10T17:48:24.577Z"
   },
   {
    "duration": 8,
    "start_time": "2022-04-10T17:48:24.599Z"
   },
   {
    "duration": 36,
    "start_time": "2022-04-10T17:48:24.609Z"
   },
   {
    "duration": 16,
    "start_time": "2022-04-10T17:48:24.649Z"
   },
   {
    "duration": 16,
    "start_time": "2022-04-10T17:48:24.668Z"
   },
   {
    "duration": 3,
    "start_time": "2022-04-10T17:48:24.686Z"
   },
   {
    "duration": 160,
    "start_time": "2022-04-10T17:48:24.691Z"
   },
   {
    "duration": 12,
    "start_time": "2022-04-10T17:48:24.853Z"
   },
   {
    "duration": 8,
    "start_time": "2022-04-10T17:48:24.867Z"
   },
   {
    "duration": 9,
    "start_time": "2022-04-10T17:48:24.877Z"
   },
   {
    "duration": 9,
    "start_time": "2022-04-10T17:48:24.888Z"
   },
   {
    "duration": 6,
    "start_time": "2022-04-10T17:48:24.899Z"
   },
   {
    "duration": 36,
    "start_time": "2022-04-10T17:48:24.907Z"
   },
   {
    "duration": 422,
    "start_time": "2022-04-10T17:48:24.945Z"
   },
   {
    "duration": 640,
    "start_time": "2022-04-10T17:48:25.370Z"
   },
   {
    "duration": 2657,
    "start_time": "2022-04-10T17:48:26.013Z"
   },
   {
    "duration": 8,
    "start_time": "2022-04-10T17:48:28.673Z"
   },
   {
    "duration": 10,
    "start_time": "2022-04-10T17:48:28.684Z"
   },
   {
    "duration": 7,
    "start_time": "2022-04-10T17:48:28.696Z"
   },
   {
    "duration": 914,
    "start_time": "2022-04-10T17:48:28.705Z"
   },
   {
    "duration": 38,
    "start_time": "2022-04-10T17:48:29.621Z"
   },
   {
    "duration": 782,
    "start_time": "2022-04-10T17:48:29.666Z"
   },
   {
    "duration": 109,
    "start_time": "2022-04-10T17:48:30.450Z"
   },
   {
    "duration": 10,
    "start_time": "2022-04-10T17:48:30.562Z"
   },
   {
    "duration": 26,
    "start_time": "2022-04-10T17:48:30.574Z"
   },
   {
    "duration": 48,
    "start_time": "2022-04-10T17:48:30.603Z"
   },
   {
    "duration": 41,
    "start_time": "2022-04-10T17:48:30.653Z"
   },
   {
    "duration": 12,
    "start_time": "2022-04-10T17:48:30.696Z"
   },
   {
    "duration": 29,
    "start_time": "2022-04-10T17:48:30.710Z"
   },
   {
    "duration": 29,
    "start_time": "2022-04-10T17:48:30.742Z"
   },
   {
    "duration": 12,
    "start_time": "2022-04-10T17:48:30.773Z"
   },
   {
    "duration": 48,
    "start_time": "2022-04-10T17:48:30.787Z"
   },
   {
    "duration": 50,
    "start_time": "2022-04-10T17:48:30.837Z"
   },
   {
    "duration": 58,
    "start_time": "2022-04-10T17:48:30.890Z"
   },
   {
    "duration": 11,
    "start_time": "2022-04-10T17:48:30.951Z"
   },
   {
    "duration": 41,
    "start_time": "2022-04-10T17:48:30.964Z"
   },
   {
    "duration": 23,
    "start_time": "2022-04-10T17:48:31.007Z"
   },
   {
    "duration": 29,
    "start_time": "2022-04-10T17:48:31.032Z"
   },
   {
    "duration": 17,
    "start_time": "2022-04-10T17:48:31.063Z"
   },
   {
    "duration": 37,
    "start_time": "2022-04-10T17:48:31.083Z"
   },
   {
    "duration": 25,
    "start_time": "2022-04-10T17:48:31.123Z"
   },
   {
    "duration": 13,
    "start_time": "2022-04-10T17:48:31.150Z"
   },
   {
    "duration": 16,
    "start_time": "2022-04-10T17:48:31.165Z"
   },
   {
    "duration": 13,
    "start_time": "2022-04-10T17:48:31.184Z"
   },
   {
    "duration": 45,
    "start_time": "2022-04-10T17:48:31.199Z"
   },
   {
    "duration": 71,
    "start_time": "2022-04-10T17:48:31.246Z"
   },
   {
    "duration": 17,
    "start_time": "2022-04-10T17:48:31.320Z"
   },
   {
    "duration": 17,
    "start_time": "2022-04-10T17:48:31.340Z"
   },
   {
    "duration": 18,
    "start_time": "2022-04-10T17:48:31.360Z"
   },
   {
    "duration": 15,
    "start_time": "2022-04-10T17:48:31.380Z"
   },
   {
    "duration": 1848,
    "start_time": "2022-04-10T17:48:31.398Z"
   },
   {
    "duration": 60059,
    "start_time": "2022-04-10T17:48:33.249Z"
   },
   {
    "duration": 842145,
    "start_time": "2022-04-10T17:49:33.310Z"
   },
   {
    "duration": 15,
    "start_time": "2022-04-10T18:03:35.457Z"
   },
   {
    "duration": 1869,
    "start_time": "2022-04-10T18:03:35.474Z"
   },
   {
    "duration": 62210,
    "start_time": "2022-04-10T18:03:37.345Z"
   },
   {
    "duration": 899464,
    "start_time": "2022-04-10T18:04:39.557Z"
   },
   {
    "duration": 24,
    "start_time": "2022-04-10T18:19:39.023Z"
   },
   {
    "duration": 16,
    "start_time": "2022-04-10T18:19:39.049Z"
   },
   {
    "duration": 6,
    "start_time": "2022-04-10T18:19:39.067Z"
   },
   {
    "duration": 13248,
    "start_time": "2022-04-10T18:19:39.075Z"
   },
   {
    "duration": 20,
    "start_time": "2022-04-10T18:19:52.325Z"
   },
   {
    "duration": 1071,
    "start_time": "2022-04-10T18:19:52.348Z"
   },
   {
    "duration": 1491,
    "start_time": "2022-04-10T18:19:53.421Z"
   },
   {
    "duration": 6,
    "start_time": "2022-04-10T18:19:54.914Z"
   },
   {
    "duration": 2096,
    "start_time": "2022-04-10T18:44:16.117Z"
   },
   {
    "duration": 4,
    "start_time": "2022-04-10T18:44:18.215Z"
   },
   {
    "duration": 470,
    "start_time": "2022-04-10T18:44:18.222Z"
   },
   {
    "duration": 336,
    "start_time": "2022-04-10T18:44:18.695Z"
   },
   {
    "duration": 115,
    "start_time": "2022-04-10T18:44:19.033Z"
   },
   {
    "duration": 16,
    "start_time": "2022-04-10T18:44:19.150Z"
   },
   {
    "duration": 19,
    "start_time": "2022-04-10T18:44:19.169Z"
   },
   {
    "duration": 7,
    "start_time": "2022-04-10T18:44:19.190Z"
   },
   {
    "duration": 6,
    "start_time": "2022-04-10T18:44:19.199Z"
   },
   {
    "duration": 45,
    "start_time": "2022-04-10T18:44:19.209Z"
   },
   {
    "duration": 17,
    "start_time": "2022-04-10T18:44:19.256Z"
   },
   {
    "duration": 4,
    "start_time": "2022-04-10T18:44:19.275Z"
   },
   {
    "duration": 154,
    "start_time": "2022-04-10T18:44:19.281Z"
   },
   {
    "duration": 12,
    "start_time": "2022-04-10T18:44:19.437Z"
   },
   {
    "duration": 6,
    "start_time": "2022-04-10T18:44:19.451Z"
   },
   {
    "duration": 18,
    "start_time": "2022-04-10T18:44:19.459Z"
   },
   {
    "duration": 15,
    "start_time": "2022-04-10T18:44:19.479Z"
   },
   {
    "duration": 7,
    "start_time": "2022-04-10T18:44:19.497Z"
   },
   {
    "duration": 8,
    "start_time": "2022-04-10T18:44:19.506Z"
   },
   {
    "duration": 432,
    "start_time": "2022-04-10T18:44:19.516Z"
   },
   {
    "duration": 655,
    "start_time": "2022-04-10T18:44:19.950Z"
   },
   {
    "duration": 2595,
    "start_time": "2022-04-10T18:44:20.607Z"
   },
   {
    "duration": 7,
    "start_time": "2022-04-10T18:44:23.204Z"
   },
   {
    "duration": 20,
    "start_time": "2022-04-10T18:44:23.213Z"
   },
   {
    "duration": 7,
    "start_time": "2022-04-10T18:44:23.243Z"
   },
   {
    "duration": 899,
    "start_time": "2022-04-10T18:44:23.253Z"
   },
   {
    "duration": 28,
    "start_time": "2022-04-10T18:44:24.155Z"
   },
   {
    "duration": 653,
    "start_time": "2022-04-10T18:44:24.190Z"
   },
   {
    "duration": 81,
    "start_time": "2022-04-10T18:44:24.845Z"
   },
   {
    "duration": 22,
    "start_time": "2022-04-10T18:44:24.928Z"
   },
   {
    "duration": 9,
    "start_time": "2022-04-10T18:44:24.953Z"
   },
   {
    "duration": 16,
    "start_time": "2022-04-10T18:44:24.964Z"
   },
   {
    "duration": 69,
    "start_time": "2022-04-10T18:44:24.983Z"
   },
   {
    "duration": 10,
    "start_time": "2022-04-10T18:44:25.054Z"
   },
   {
    "duration": 18,
    "start_time": "2022-04-10T18:44:25.067Z"
   },
   {
    "duration": 59,
    "start_time": "2022-04-10T18:44:25.087Z"
   },
   {
    "duration": 12,
    "start_time": "2022-04-10T18:44:25.149Z"
   },
   {
    "duration": 15,
    "start_time": "2022-04-10T18:44:25.163Z"
   },
   {
    "duration": 16,
    "start_time": "2022-04-10T18:44:25.180Z"
   },
   {
    "duration": 69,
    "start_time": "2022-04-10T18:44:25.198Z"
   },
   {
    "duration": 9,
    "start_time": "2022-04-10T18:44:25.269Z"
   },
   {
    "duration": 15,
    "start_time": "2022-04-10T18:44:25.280Z"
   },
   {
    "duration": 12,
    "start_time": "2022-04-10T18:44:25.297Z"
   },
   {
    "duration": 36,
    "start_time": "2022-04-10T18:44:25.311Z"
   },
   {
    "duration": 13,
    "start_time": "2022-04-10T18:44:25.350Z"
   },
   {
    "duration": 16,
    "start_time": "2022-04-10T18:44:25.365Z"
   },
   {
    "duration": 6,
    "start_time": "2022-04-10T18:44:25.383Z"
   },
   {
    "duration": 14,
    "start_time": "2022-04-10T18:44:25.392Z"
   },
   {
    "duration": 8,
    "start_time": "2022-04-10T18:44:25.408Z"
   },
   {
    "duration": 5,
    "start_time": "2022-04-10T18:44:25.443Z"
   },
   {
    "duration": 23,
    "start_time": "2022-04-10T18:44:25.450Z"
   },
   {
    "duration": 21,
    "start_time": "2022-04-10T18:44:25.476Z"
   },
   {
    "duration": 12,
    "start_time": "2022-04-10T18:44:25.500Z"
   },
   {
    "duration": 11,
    "start_time": "2022-04-10T18:44:25.515Z"
   },
   {
    "duration": 22,
    "start_time": "2022-04-10T18:44:25.529Z"
   },
   {
    "duration": 21,
    "start_time": "2022-04-10T18:44:25.554Z"
   },
   {
    "duration": 1975,
    "start_time": "2022-04-10T18:44:25.577Z"
   },
   {
    "duration": 61169,
    "start_time": "2022-04-10T18:44:27.556Z"
   },
   {
    "duration": 2741526,
    "start_time": "2022-04-10T18:45:28.727Z"
   },
   {
    "duration": 14,
    "start_time": "2022-04-10T19:31:10.256Z"
   },
   {
    "duration": 1896,
    "start_time": "2022-04-10T19:31:10.273Z"
   },
   {
    "duration": 60335,
    "start_time": "2022-04-10T19:31:12.171Z"
   },
   {
    "duration": 3738547,
    "start_time": "2022-04-10T19:32:12.509Z"
   },
   {
    "duration": 16,
    "start_time": "2022-04-10T20:34:31.059Z"
   },
   {
    "duration": 76,
    "start_time": "2022-04-10T20:34:31.077Z"
   },
   {
    "duration": 24,
    "start_time": "2022-04-10T20:34:31.155Z"
   },
   {
    "duration": 83808,
    "start_time": "2022-04-10T20:34:31.182Z"
   },
   {
    "duration": 13,
    "start_time": "2022-04-10T20:35:55.044Z"
   },
   {
    "duration": 2103,
    "start_time": "2022-04-10T20:35:55.060Z"
   },
   {
    "duration": 2906,
    "start_time": "2022-04-10T20:35:57.166Z"
   },
   {
    "duration": 5,
    "start_time": "2022-04-10T20:36:00.074Z"
   },
   {
    "duration": 2513,
    "start_time": "2022-04-10T20:38:11.551Z"
   },
   {
    "duration": 3409,
    "start_time": "2022-04-10T20:39:33.557Z"
   },
   {
    "duration": 13073,
    "start_time": "2022-04-10T20:39:38.702Z"
   },
   {
    "duration": 12565,
    "start_time": "2022-04-10T20:40:26.420Z"
   },
   {
    "duration": 2116,
    "start_time": "2022-04-10T22:01:20.438Z"
   },
   {
    "duration": 3,
    "start_time": "2022-04-10T22:01:22.557Z"
   },
   {
    "duration": 481,
    "start_time": "2022-04-10T22:01:22.563Z"
   },
   {
    "duration": 349,
    "start_time": "2022-04-10T22:01:23.048Z"
   },
   {
    "duration": 122,
    "start_time": "2022-04-10T22:01:23.400Z"
   },
   {
    "duration": 24,
    "start_time": "2022-04-10T22:01:23.524Z"
   },
   {
    "duration": 18,
    "start_time": "2022-04-10T22:01:23.551Z"
   },
   {
    "duration": 6,
    "start_time": "2022-04-10T22:01:23.572Z"
   },
   {
    "duration": 6,
    "start_time": "2022-04-10T22:01:23.580Z"
   },
   {
    "duration": 18,
    "start_time": "2022-04-10T22:01:23.590Z"
   },
   {
    "duration": 16,
    "start_time": "2022-04-10T22:01:23.643Z"
   },
   {
    "duration": 4,
    "start_time": "2022-04-10T22:01:23.661Z"
   },
   {
    "duration": 89,
    "start_time": "2022-04-10T22:01:23.668Z"
   },
   {
    "duration": 14,
    "start_time": "2022-04-10T22:01:23.760Z"
   },
   {
    "duration": 5,
    "start_time": "2022-04-10T22:01:23.777Z"
   },
   {
    "duration": 33,
    "start_time": "2022-04-10T22:01:23.785Z"
   },
   {
    "duration": 8,
    "start_time": "2022-04-10T22:01:23.820Z"
   },
   {
    "duration": 5,
    "start_time": "2022-04-10T22:01:23.843Z"
   },
   {
    "duration": 10,
    "start_time": "2022-04-10T22:01:23.851Z"
   },
   {
    "duration": 476,
    "start_time": "2022-04-10T22:01:23.864Z"
   },
   {
    "duration": 645,
    "start_time": "2022-04-10T22:01:24.342Z"
   },
   {
    "duration": 4209,
    "start_time": "2022-04-10T22:01:24.989Z"
   },
   {
    "duration": 8,
    "start_time": "2022-04-10T22:01:29.202Z"
   },
   {
    "duration": 31,
    "start_time": "2022-04-10T22:01:29.212Z"
   },
   {
    "duration": 8,
    "start_time": "2022-04-10T22:01:29.245Z"
   },
   {
    "duration": 914,
    "start_time": "2022-04-10T22:01:29.255Z"
   },
   {
    "duration": 32,
    "start_time": "2022-04-10T22:01:30.171Z"
   },
   {
    "duration": 761,
    "start_time": "2022-04-10T22:01:30.212Z"
   },
   {
    "duration": 113,
    "start_time": "2022-04-10T22:01:30.976Z"
   },
   {
    "duration": 10,
    "start_time": "2022-04-10T22:01:31.091Z"
   },
   {
    "duration": 23,
    "start_time": "2022-04-10T22:01:31.103Z"
   },
   {
    "duration": 17,
    "start_time": "2022-04-10T22:01:31.142Z"
   },
   {
    "duration": 30,
    "start_time": "2022-04-10T22:01:31.161Z"
   },
   {
    "duration": 11,
    "start_time": "2022-04-10T22:01:31.193Z"
   },
   {
    "duration": 50,
    "start_time": "2022-04-10T22:01:31.206Z"
   },
   {
    "duration": 29,
    "start_time": "2022-04-10T22:01:31.259Z"
   },
   {
    "duration": 10,
    "start_time": "2022-04-10T22:01:31.291Z"
   },
   {
    "duration": 50,
    "start_time": "2022-04-10T22:01:31.303Z"
   },
   {
    "duration": 22,
    "start_time": "2022-04-10T22:01:31.355Z"
   },
   {
    "duration": 51,
    "start_time": "2022-04-10T22:01:31.380Z"
   },
   {
    "duration": 15,
    "start_time": "2022-04-10T22:01:31.434Z"
   },
   {
    "duration": 16,
    "start_time": "2022-04-10T22:01:31.451Z"
   },
   {
    "duration": 85,
    "start_time": "2022-04-10T22:01:31.469Z"
   },
   {
    "duration": 24,
    "start_time": "2022-04-10T22:01:31.557Z"
   },
   {
    "duration": 10,
    "start_time": "2022-04-10T22:01:31.583Z"
   },
   {
    "duration": 20,
    "start_time": "2022-04-10T22:01:31.596Z"
   },
   {
    "duration": 10,
    "start_time": "2022-04-10T22:01:31.619Z"
   },
   {
    "duration": 11,
    "start_time": "2022-04-10T22:01:31.631Z"
   },
   {
    "duration": 11,
    "start_time": "2022-04-10T22:01:31.644Z"
   },
   {
    "duration": 12,
    "start_time": "2022-04-10T22:01:31.657Z"
   },
   {
    "duration": 13,
    "start_time": "2022-04-10T22:01:31.671Z"
   },
   {
    "duration": 11,
    "start_time": "2022-04-10T22:01:31.686Z"
   },
   {
    "duration": 13,
    "start_time": "2022-04-10T22:01:31.699Z"
   },
   {
    "duration": 9,
    "start_time": "2022-04-10T22:01:31.714Z"
   },
   {
    "duration": 10,
    "start_time": "2022-04-10T22:01:31.743Z"
   },
   {
    "duration": 10,
    "start_time": "2022-04-10T22:01:31.756Z"
   },
   {
    "duration": 1678,
    "start_time": "2022-04-10T22:01:31.768Z"
   },
   {
    "duration": 18649,
    "start_time": "2022-04-10T22:01:33.449Z"
   },
   {
    "duration": 10134421,
    "start_time": "2022-04-10T22:01:52.100Z"
   },
   {
    "duration": 26,
    "start_time": "2022-04-11T00:50:46.523Z"
   },
   {
    "duration": 2211,
    "start_time": "2022-04-11T00:50:46.551Z"
   },
   {
    "duration": 18620,
    "start_time": "2022-04-11T00:50:48.765Z"
   },
   {
    "duration": 10224644,
    "start_time": "2022-04-11T00:51:07.387Z"
   },
   {
    "duration": 15,
    "start_time": "2022-04-11T03:41:32.042Z"
   },
   {
    "duration": 17,
    "start_time": "2022-04-11T03:41:32.059Z"
   },
   {
    "duration": 12,
    "start_time": "2022-04-11T03:41:32.078Z"
   },
   {
    "duration": 22127,
    "start_time": "2022-04-11T03:41:32.091Z"
   },
   {
    "duration": 11,
    "start_time": "2022-04-11T03:41:54.220Z"
   },
   {
    "duration": 1032,
    "start_time": "2022-04-11T03:41:54.233Z"
   },
   {
    "duration": 1278,
    "start_time": "2022-04-11T03:41:55.268Z"
   },
   {
    "duration": 5156,
    "start_time": "2022-04-11T03:41:56.548Z"
   },
   {
    "duration": 5,
    "start_time": "2022-04-11T03:42:01.706Z"
   },
   {
    "duration": 1767,
    "start_time": "2022-04-11T13:53:30.942Z"
   },
   {
    "duration": 3,
    "start_time": "2022-04-11T13:53:32.711Z"
   },
   {
    "duration": 321,
    "start_time": "2022-04-11T13:53:32.715Z"
   },
   {
    "duration": 232,
    "start_time": "2022-04-11T13:53:33.038Z"
   },
   {
    "duration": 71,
    "start_time": "2022-04-11T13:53:33.272Z"
   },
   {
    "duration": 10,
    "start_time": "2022-04-11T13:53:33.345Z"
   },
   {
    "duration": 23,
    "start_time": "2022-04-11T13:53:33.356Z"
   },
   {
    "duration": 4,
    "start_time": "2022-04-11T13:53:33.381Z"
   },
   {
    "duration": 4,
    "start_time": "2022-04-11T13:53:33.387Z"
   },
   {
    "duration": 13,
    "start_time": "2022-04-11T13:53:33.393Z"
   },
   {
    "duration": 15,
    "start_time": "2022-04-11T13:53:33.408Z"
   },
   {
    "duration": 3,
    "start_time": "2022-04-11T13:53:33.425Z"
   },
   {
    "duration": 71,
    "start_time": "2022-04-11T13:53:33.430Z"
   },
   {
    "duration": 9,
    "start_time": "2022-04-11T13:53:33.503Z"
   },
   {
    "duration": 4,
    "start_time": "2022-04-11T13:53:33.514Z"
   },
   {
    "duration": 6,
    "start_time": "2022-04-11T13:53:33.519Z"
   },
   {
    "duration": 5,
    "start_time": "2022-04-11T13:53:33.527Z"
   },
   {
    "duration": 8,
    "start_time": "2022-04-11T13:53:33.534Z"
   },
   {
    "duration": 7,
    "start_time": "2022-04-11T13:53:33.543Z"
   },
   {
    "duration": 293,
    "start_time": "2022-04-11T13:53:33.571Z"
   },
   {
    "duration": 359,
    "start_time": "2022-04-11T13:53:33.870Z"
   },
   {
    "duration": 1536,
    "start_time": "2022-04-11T13:53:34.230Z"
   },
   {
    "duration": 6,
    "start_time": "2022-04-11T13:53:35.767Z"
   },
   {
    "duration": 13,
    "start_time": "2022-04-11T13:53:35.775Z"
   },
   {
    "duration": 13,
    "start_time": "2022-04-11T13:53:35.790Z"
   },
   {
    "duration": 497,
    "start_time": "2022-04-11T13:53:35.805Z"
   },
   {
    "duration": 19,
    "start_time": "2022-04-11T13:53:36.304Z"
   },
   {
    "duration": 399,
    "start_time": "2022-04-11T13:53:36.328Z"
   },
   {
    "duration": 62,
    "start_time": "2022-04-11T13:53:36.728Z"
   },
   {
    "duration": 7,
    "start_time": "2022-04-11T13:53:36.791Z"
   },
   {
    "duration": 19,
    "start_time": "2022-04-11T13:53:36.800Z"
   },
   {
    "duration": 22,
    "start_time": "2022-04-11T13:53:36.820Z"
   },
   {
    "duration": 18,
    "start_time": "2022-04-11T13:53:36.844Z"
   },
   {
    "duration": 11,
    "start_time": "2022-04-11T13:53:36.863Z"
   },
   {
    "duration": 11,
    "start_time": "2022-04-11T13:53:36.875Z"
   },
   {
    "duration": 18,
    "start_time": "2022-04-11T13:53:36.888Z"
   },
   {
    "duration": 23,
    "start_time": "2022-04-11T13:53:36.908Z"
   },
   {
    "duration": 21,
    "start_time": "2022-04-11T13:53:36.933Z"
   },
   {
    "duration": 23,
    "start_time": "2022-04-11T13:53:36.955Z"
   },
   {
    "duration": 34,
    "start_time": "2022-04-11T13:53:36.979Z"
   },
   {
    "duration": 6,
    "start_time": "2022-04-11T13:53:37.015Z"
   },
   {
    "duration": 16,
    "start_time": "2022-04-11T13:53:37.022Z"
   },
   {
    "duration": 15,
    "start_time": "2022-04-11T13:53:37.039Z"
   },
   {
    "duration": 21,
    "start_time": "2022-04-11T13:53:37.055Z"
   },
   {
    "duration": 24,
    "start_time": "2022-04-11T13:53:37.077Z"
   },
   {
    "duration": 13,
    "start_time": "2022-04-11T13:53:37.103Z"
   },
   {
    "duration": 16,
    "start_time": "2022-04-11T13:53:37.118Z"
   },
   {
    "duration": 16,
    "start_time": "2022-04-11T13:53:37.136Z"
   },
   {
    "duration": 11,
    "start_time": "2022-04-11T13:53:37.154Z"
   },
   {
    "duration": 18,
    "start_time": "2022-04-11T13:53:37.166Z"
   },
   {
    "duration": 16,
    "start_time": "2022-04-11T13:53:37.185Z"
   },
   {
    "duration": 11,
    "start_time": "2022-04-11T13:53:37.203Z"
   },
   {
    "duration": 15,
    "start_time": "2022-04-11T13:53:37.216Z"
   },
   {
    "duration": 20,
    "start_time": "2022-04-11T13:53:37.232Z"
   },
   {
    "duration": 21,
    "start_time": "2022-04-11T13:53:37.253Z"
   },
   {
    "duration": 26,
    "start_time": "2022-04-11T13:53:37.275Z"
   },
   {
    "duration": 1470,
    "start_time": "2022-04-11T13:53:37.303Z"
   },
   {
    "duration": 12611,
    "start_time": "2022-04-11T13:53:38.775Z"
   },
   {
    "duration": 3,
    "start_time": "2022-04-11T13:53:51.388Z"
   },
   {
    "duration": 13,
    "start_time": "2022-04-11T13:53:51.392Z"
   },
   {
    "duration": 966,
    "start_time": "2022-04-11T13:53:51.406Z"
   },
   {
    "duration": 12726,
    "start_time": "2022-04-11T13:53:52.374Z"
   },
   {
    "duration": 4,
    "start_time": "2022-04-11T13:54:05.101Z"
   },
   {
    "duration": 27,
    "start_time": "2022-04-11T13:54:05.106Z"
   },
   {
    "duration": 30,
    "start_time": "2022-04-11T13:54:05.135Z"
   },
   {
    "duration": 26,
    "start_time": "2022-04-11T13:54:05.167Z"
   },
   {
    "duration": 342,
    "start_time": "2022-04-11T13:54:05.194Z"
   },
   {
    "duration": 7,
    "start_time": "2022-04-11T13:54:05.538Z"
   },
   {
    "duration": 8631,
    "start_time": "2022-04-11T13:54:05.546Z"
   },
   {
    "duration": 7423,
    "start_time": "2022-04-11T13:54:14.178Z"
   },
   {
    "duration": 29196,
    "start_time": "2022-04-11T13:54:21.603Z"
   },
   {
    "duration": 3,
    "start_time": "2022-04-11T13:54:50.801Z"
   },
   {
    "duration": 1466,
    "start_time": "2022-04-11T14:07:26.138Z"
   },
   {
    "duration": 3,
    "start_time": "2022-04-11T14:07:27.605Z"
   },
   {
    "duration": 319,
    "start_time": "2022-04-11T14:07:27.609Z"
   },
   {
    "duration": 231,
    "start_time": "2022-04-11T14:07:27.930Z"
   },
   {
    "duration": 74,
    "start_time": "2022-04-11T14:07:28.162Z"
   },
   {
    "duration": 11,
    "start_time": "2022-04-11T14:07:28.237Z"
   },
   {
    "duration": 25,
    "start_time": "2022-04-11T14:07:28.250Z"
   },
   {
    "duration": 5,
    "start_time": "2022-04-11T14:07:28.277Z"
   },
   {
    "duration": 7,
    "start_time": "2022-04-11T14:07:28.283Z"
   },
   {
    "duration": 14,
    "start_time": "2022-04-11T14:07:28.292Z"
   },
   {
    "duration": 11,
    "start_time": "2022-04-11T14:07:28.308Z"
   },
   {
    "duration": 2,
    "start_time": "2022-04-11T14:07:28.321Z"
   },
   {
    "duration": 47,
    "start_time": "2022-04-11T14:07:28.324Z"
   },
   {
    "duration": 9,
    "start_time": "2022-04-11T14:07:28.372Z"
   },
   {
    "duration": 3,
    "start_time": "2022-04-11T14:07:28.383Z"
   },
   {
    "duration": 5,
    "start_time": "2022-04-11T14:07:28.388Z"
   },
   {
    "duration": 4,
    "start_time": "2022-04-11T14:07:28.395Z"
   },
   {
    "duration": 3,
    "start_time": "2022-04-11T14:07:28.401Z"
   },
   {
    "duration": 4,
    "start_time": "2022-04-11T14:07:28.405Z"
   },
   {
    "duration": 307,
    "start_time": "2022-04-11T14:07:28.411Z"
   },
   {
    "duration": 361,
    "start_time": "2022-04-11T14:07:28.720Z"
   },
   {
    "duration": 1504,
    "start_time": "2022-04-11T14:07:29.083Z"
   },
   {
    "duration": 5,
    "start_time": "2022-04-11T14:07:30.589Z"
   },
   {
    "duration": 40,
    "start_time": "2022-04-11T14:07:30.595Z"
   },
   {
    "duration": 20,
    "start_time": "2022-04-11T14:07:30.637Z"
   },
   {
    "duration": 523,
    "start_time": "2022-04-11T14:07:30.658Z"
   },
   {
    "duration": 19,
    "start_time": "2022-04-11T14:07:31.182Z"
   },
   {
    "duration": 500,
    "start_time": "2022-04-11T14:07:31.204Z"
   },
   {
    "duration": 53,
    "start_time": "2022-04-11T14:07:31.705Z"
   },
   {
    "duration": 17,
    "start_time": "2022-04-11T14:07:31.759Z"
   },
   {
    "duration": 12,
    "start_time": "2022-04-11T14:07:31.778Z"
   },
   {
    "duration": 28,
    "start_time": "2022-04-11T14:07:31.792Z"
   },
   {
    "duration": 18,
    "start_time": "2022-04-11T14:07:31.822Z"
   },
   {
    "duration": 8,
    "start_time": "2022-04-11T14:07:31.842Z"
   },
   {
    "duration": 26,
    "start_time": "2022-04-11T14:07:31.851Z"
   },
   {
    "duration": 16,
    "start_time": "2022-04-11T14:07:31.879Z"
   },
   {
    "duration": 7,
    "start_time": "2022-04-11T14:07:31.897Z"
   },
   {
    "duration": 10,
    "start_time": "2022-04-11T14:07:31.906Z"
   },
   {
    "duration": 9,
    "start_time": "2022-04-11T14:07:31.918Z"
   },
   {
    "duration": 43,
    "start_time": "2022-04-11T14:07:31.928Z"
   },
   {
    "duration": 6,
    "start_time": "2022-04-11T14:07:31.972Z"
   },
   {
    "duration": 7,
    "start_time": "2022-04-11T14:07:31.980Z"
   },
   {
    "duration": 1468,
    "start_time": "2022-04-11T14:10:10.425Z"
   },
   {
    "duration": 3,
    "start_time": "2022-04-11T14:10:11.895Z"
   },
   {
    "duration": 304,
    "start_time": "2022-04-11T14:10:11.899Z"
   },
   {
    "duration": 228,
    "start_time": "2022-04-11T14:10:12.205Z"
   },
   {
    "duration": 71,
    "start_time": "2022-04-11T14:10:12.435Z"
   },
   {
    "duration": 10,
    "start_time": "2022-04-11T14:10:12.508Z"
   },
   {
    "duration": 14,
    "start_time": "2022-04-11T14:10:12.520Z"
   },
   {
    "duration": 6,
    "start_time": "2022-04-11T14:10:12.536Z"
   },
   {
    "duration": 11,
    "start_time": "2022-04-11T14:10:12.543Z"
   },
   {
    "duration": 10,
    "start_time": "2022-04-11T14:10:12.571Z"
   },
   {
    "duration": 10,
    "start_time": "2022-04-11T14:10:12.583Z"
   },
   {
    "duration": 2,
    "start_time": "2022-04-11T14:10:12.595Z"
   },
   {
    "duration": 28,
    "start_time": "2022-04-11T14:10:12.598Z"
   },
   {
    "duration": 10,
    "start_time": "2022-04-11T14:10:12.628Z"
   },
   {
    "duration": 32,
    "start_time": "2022-04-11T14:10:12.639Z"
   },
   {
    "duration": 6,
    "start_time": "2022-04-11T14:10:12.673Z"
   },
   {
    "duration": 10,
    "start_time": "2022-04-11T14:10:12.680Z"
   },
   {
    "duration": 5,
    "start_time": "2022-04-11T14:10:12.692Z"
   },
   {
    "duration": 5,
    "start_time": "2022-04-11T14:10:12.698Z"
   },
   {
    "duration": 291,
    "start_time": "2022-04-11T14:10:12.704Z"
   },
   {
    "duration": 339,
    "start_time": "2022-04-11T14:10:12.997Z"
   },
   {
    "duration": 1480,
    "start_time": "2022-04-11T14:10:13.338Z"
   },
   {
    "duration": 5,
    "start_time": "2022-04-11T14:10:14.819Z"
   },
   {
    "duration": 8,
    "start_time": "2022-04-11T14:10:14.826Z"
   },
   {
    "duration": 5,
    "start_time": "2022-04-11T14:10:14.835Z"
   },
   {
    "duration": 511,
    "start_time": "2022-04-11T14:10:14.841Z"
   },
   {
    "duration": 27,
    "start_time": "2022-04-11T14:10:15.354Z"
   },
   {
    "duration": 380,
    "start_time": "2022-04-11T14:10:15.384Z"
   },
   {
    "duration": 58,
    "start_time": "2022-04-11T14:10:15.765Z"
   },
   {
    "duration": 7,
    "start_time": "2022-04-11T14:10:15.825Z"
   },
   {
    "duration": 13,
    "start_time": "2022-04-11T14:10:15.833Z"
   },
   {
    "duration": 32,
    "start_time": "2022-04-11T14:10:15.847Z"
   },
   {
    "duration": 16,
    "start_time": "2022-04-11T14:10:15.881Z"
   },
   {
    "duration": 6,
    "start_time": "2022-04-11T14:10:15.899Z"
   },
   {
    "duration": 11,
    "start_time": "2022-04-11T14:10:15.907Z"
   },
   {
    "duration": 51,
    "start_time": "2022-04-11T14:10:15.920Z"
   },
   {
    "duration": 6,
    "start_time": "2022-04-11T14:10:15.973Z"
   },
   {
    "duration": 10,
    "start_time": "2022-04-11T14:10:15.981Z"
   },
   {
    "duration": 6,
    "start_time": "2022-04-11T14:10:15.993Z"
   },
   {
    "duration": 25,
    "start_time": "2022-04-11T14:10:16.000Z"
   },
   {
    "duration": 7,
    "start_time": "2022-04-11T14:10:16.026Z"
   },
   {
    "duration": 39,
    "start_time": "2022-04-11T14:10:16.034Z"
   },
   {
    "duration": 1461,
    "start_time": "2022-04-11T14:14:39.951Z"
   },
   {
    "duration": 3,
    "start_time": "2022-04-11T14:14:41.415Z"
   },
   {
    "duration": 328,
    "start_time": "2022-04-11T14:14:41.420Z"
   },
   {
    "duration": 236,
    "start_time": "2022-04-11T14:14:41.750Z"
   },
   {
    "duration": 73,
    "start_time": "2022-04-11T14:14:41.988Z"
   },
   {
    "duration": 15,
    "start_time": "2022-04-11T14:14:42.063Z"
   },
   {
    "duration": 12,
    "start_time": "2022-04-11T14:14:42.080Z"
   },
   {
    "duration": 5,
    "start_time": "2022-04-11T14:14:42.093Z"
   },
   {
    "duration": 4,
    "start_time": "2022-04-11T14:14:42.099Z"
   },
   {
    "duration": 14,
    "start_time": "2022-04-11T14:14:42.105Z"
   },
   {
    "duration": 10,
    "start_time": "2022-04-11T14:14:42.120Z"
   },
   {
    "duration": 2,
    "start_time": "2022-04-11T14:14:42.132Z"
   },
   {
    "duration": 60,
    "start_time": "2022-04-11T14:14:42.135Z"
   },
   {
    "duration": 10,
    "start_time": "2022-04-11T14:14:42.196Z"
   },
   {
    "duration": 5,
    "start_time": "2022-04-11T14:14:42.208Z"
   },
   {
    "duration": 6,
    "start_time": "2022-04-11T14:14:42.215Z"
   },
   {
    "duration": 7,
    "start_time": "2022-04-11T14:14:42.222Z"
   },
   {
    "duration": 8,
    "start_time": "2022-04-11T14:14:42.230Z"
   },
   {
    "duration": 5,
    "start_time": "2022-04-11T14:14:42.239Z"
   },
   {
    "duration": 336,
    "start_time": "2022-04-11T14:14:42.245Z"
   },
   {
    "duration": 385,
    "start_time": "2022-04-11T14:14:42.582Z"
   },
   {
    "duration": 1532,
    "start_time": "2022-04-11T14:14:42.970Z"
   },
   {
    "duration": 5,
    "start_time": "2022-04-11T14:14:44.504Z"
   },
   {
    "duration": 10,
    "start_time": "2022-04-11T14:14:44.511Z"
   },
   {
    "duration": 6,
    "start_time": "2022-04-11T14:14:44.523Z"
   },
   {
    "duration": 527,
    "start_time": "2022-04-11T14:14:44.530Z"
   },
   {
    "duration": 29,
    "start_time": "2022-04-11T14:14:45.059Z"
   },
   {
    "duration": 382,
    "start_time": "2022-04-11T14:14:45.093Z"
   },
   {
    "duration": 52,
    "start_time": "2022-04-11T14:14:45.477Z"
   },
   {
    "duration": 7,
    "start_time": "2022-04-11T14:14:45.531Z"
   },
   {
    "duration": 7,
    "start_time": "2022-04-11T14:14:45.539Z"
   },
   {
    "duration": 27,
    "start_time": "2022-04-11T14:14:45.547Z"
   },
   {
    "duration": 27,
    "start_time": "2022-04-11T14:14:45.576Z"
   },
   {
    "duration": 8,
    "start_time": "2022-04-11T14:14:45.605Z"
   },
   {
    "duration": 9,
    "start_time": "2022-04-11T14:14:45.616Z"
   },
   {
    "duration": 54,
    "start_time": "2022-04-11T14:14:45.627Z"
   },
   {
    "duration": 8,
    "start_time": "2022-04-11T14:14:45.682Z"
   },
   {
    "duration": 10,
    "start_time": "2022-04-11T14:14:45.692Z"
   },
   {
    "duration": 7,
    "start_time": "2022-04-11T14:14:45.704Z"
   },
   {
    "duration": 25,
    "start_time": "2022-04-11T14:14:45.712Z"
   },
   {
    "duration": 33,
    "start_time": "2022-04-11T14:14:45.738Z"
   },
   {
    "duration": 6,
    "start_time": "2022-04-11T14:14:45.773Z"
   },
   {
    "duration": 11,
    "start_time": "2022-04-11T14:14:45.780Z"
   },
   {
    "duration": 10,
    "start_time": "2022-04-11T14:14:45.792Z"
   },
   {
    "duration": 5,
    "start_time": "2022-04-11T14:14:45.804Z"
   },
   {
    "duration": 12,
    "start_time": "2022-04-11T14:14:45.811Z"
   },
   {
    "duration": 4,
    "start_time": "2022-04-11T14:14:45.824Z"
   },
   {
    "duration": 5,
    "start_time": "2022-04-11T14:14:45.829Z"
   },
   {
    "duration": 4,
    "start_time": "2022-04-11T14:14:45.836Z"
   },
   {
    "duration": 30,
    "start_time": "2022-04-11T14:14:45.842Z"
   },
   {
    "duration": 7,
    "start_time": "2022-04-11T14:14:45.873Z"
   },
   {
    "duration": 8,
    "start_time": "2022-04-11T14:14:45.881Z"
   },
   {
    "duration": 9,
    "start_time": "2022-04-11T14:14:45.890Z"
   },
   {
    "duration": 7,
    "start_time": "2022-04-11T14:14:45.901Z"
   },
   {
    "duration": 11,
    "start_time": "2022-04-11T14:14:45.909Z"
   },
   {
    "duration": 8,
    "start_time": "2022-04-11T14:14:45.922Z"
   },
   {
    "duration": 1462,
    "start_time": "2022-04-11T14:14:45.931Z"
   },
   {
    "duration": 13052,
    "start_time": "2022-04-11T14:14:47.395Z"
   },
   {
    "duration": 217710,
    "start_time": "2022-04-11T14:15:00.449Z"
   },
   {
    "duration": 16,
    "start_time": "2022-04-11T14:18:38.161Z"
   },
   {
    "duration": 1492,
    "start_time": "2022-04-11T14:18:38.179Z"
   },
   {
    "duration": 13800,
    "start_time": "2022-04-11T14:18:39.673Z"
   },
   {
    "duration": 230100,
    "start_time": "2022-04-11T14:18:53.475Z"
   },
   {
    "duration": 10,
    "start_time": "2022-04-11T14:22:43.576Z"
   },
   {
    "duration": 18,
    "start_time": "2022-04-11T14:22:43.587Z"
   },
   {
    "duration": 6,
    "start_time": "2022-04-11T14:22:43.606Z"
   },
   {
    "duration": 18169,
    "start_time": "2022-04-11T14:22:43.613Z"
   },
   {
    "duration": 9,
    "start_time": "2022-04-11T14:23:01.784Z"
   },
   {
    "duration": 8770,
    "start_time": "2022-04-11T14:23:01.794Z"
   },
   {
    "duration": 7312,
    "start_time": "2022-04-11T14:23:10.566Z"
   },
   {
    "duration": 29836,
    "start_time": "2022-04-11T14:23:17.879Z"
   },
   {
    "duration": 3,
    "start_time": "2022-04-11T14:23:47.717Z"
   },
   {
    "duration": 8,
    "start_time": "2022-04-11T14:27:13.439Z"
   },
   {
    "duration": 6,
    "start_time": "2022-04-11T14:27:33.674Z"
   },
   {
    "duration": 39,
    "start_time": "2022-04-11T14:30:52.613Z"
   },
   {
    "duration": 8,
    "start_time": "2022-04-11T14:30:54.709Z"
   },
   {
    "duration": 6,
    "start_time": "2022-04-11T14:30:57.318Z"
   },
   {
    "duration": 8,
    "start_time": "2022-04-11T14:31:02.991Z"
   },
   {
    "duration": 31,
    "start_time": "2022-04-11T14:33:13.771Z"
   },
   {
    "duration": 1512,
    "start_time": "2022-04-11T14:35:52.850Z"
   },
   {
    "duration": 3,
    "start_time": "2022-04-11T14:35:54.364Z"
   },
   {
    "duration": 328,
    "start_time": "2022-04-11T14:35:54.368Z"
   },
   {
    "duration": 243,
    "start_time": "2022-04-11T14:35:54.698Z"
   },
   {
    "duration": 79,
    "start_time": "2022-04-11T14:35:54.942Z"
   },
   {
    "duration": 11,
    "start_time": "2022-04-11T14:35:55.023Z"
   },
   {
    "duration": 13,
    "start_time": "2022-04-11T14:35:55.035Z"
   },
   {
    "duration": 22,
    "start_time": "2022-04-11T14:35:55.050Z"
   },
   {
    "duration": 6,
    "start_time": "2022-04-11T14:35:55.073Z"
   },
   {
    "duration": 9,
    "start_time": "2022-04-11T14:35:55.082Z"
   },
   {
    "duration": 11,
    "start_time": "2022-04-11T14:35:55.092Z"
   },
   {
    "duration": 2,
    "start_time": "2022-04-11T14:35:55.105Z"
   },
   {
    "duration": 78,
    "start_time": "2022-04-11T14:35:55.108Z"
   },
   {
    "duration": 7,
    "start_time": "2022-04-11T14:35:55.188Z"
   },
   {
    "duration": 6,
    "start_time": "2022-04-11T14:35:55.197Z"
   },
   {
    "duration": 33,
    "start_time": "2022-04-11T14:35:55.204Z"
   },
   {
    "duration": 2,
    "start_time": "2022-04-11T14:35:55.239Z"
   },
   {
    "duration": 3,
    "start_time": "2022-04-11T14:35:55.270Z"
   },
   {
    "duration": 296,
    "start_time": "2022-04-11T14:35:55.274Z"
   },
   {
    "duration": 368,
    "start_time": "2022-04-11T14:35:55.572Z"
   },
   {
    "duration": 1556,
    "start_time": "2022-04-11T14:35:55.941Z"
   },
   {
    "duration": 5,
    "start_time": "2022-04-11T14:35:57.498Z"
   },
   {
    "duration": 9,
    "start_time": "2022-04-11T14:35:57.504Z"
   },
   {
    "duration": 6,
    "start_time": "2022-04-11T14:35:57.515Z"
   },
   {
    "duration": 6,
    "start_time": "2022-04-11T14:36:12.208Z"
   },
   {
    "duration": 510,
    "start_time": "2022-04-11T14:36:14.696Z"
   },
   {
    "duration": 17,
    "start_time": "2022-04-11T14:36:18.768Z"
   },
   {
    "duration": 407,
    "start_time": "2022-04-11T14:36:21.113Z"
   },
   {
    "duration": 53,
    "start_time": "2022-04-11T14:36:23.991Z"
   },
   {
    "duration": 7,
    "start_time": "2022-04-11T14:36:26.665Z"
   },
   {
    "duration": 9,
    "start_time": "2022-04-11T14:36:28.808Z"
   },
   {
    "duration": 12,
    "start_time": "2022-04-11T14:36:31.775Z"
   },
   {
    "duration": 21,
    "start_time": "2022-04-11T14:36:37.007Z"
   },
   {
    "duration": 7,
    "start_time": "2022-04-11T14:36:40.239Z"
   },
   {
    "duration": 11,
    "start_time": "2022-04-11T14:36:42.727Z"
   },
   {
    "duration": 18,
    "start_time": "2022-04-11T14:36:45.319Z"
   },
   {
    "duration": 7,
    "start_time": "2022-04-11T14:37:40.894Z"
   },
   {
    "duration": 10,
    "start_time": "2022-04-11T14:37:42.919Z"
   },
   {
    "duration": 7,
    "start_time": "2022-04-11T14:37:46.270Z"
   },
   {
    "duration": 1911,
    "start_time": "2022-04-11T14:38:05.646Z"
   },
   {
    "duration": 3,
    "start_time": "2022-04-11T14:38:07.559Z"
   },
   {
    "duration": 487,
    "start_time": "2022-04-11T14:38:07.564Z"
   },
   {
    "duration": 345,
    "start_time": "2022-04-11T14:38:08.053Z"
   },
   {
    "duration": 110,
    "start_time": "2022-04-11T14:38:08.400Z"
   },
   {
    "duration": 13,
    "start_time": "2022-04-11T14:38:08.512Z"
   },
   {
    "duration": 18,
    "start_time": "2022-04-11T14:38:08.527Z"
   },
   {
    "duration": 6,
    "start_time": "2022-04-11T14:38:08.548Z"
   },
   {
    "duration": 3,
    "start_time": "2022-04-11T14:38:08.571Z"
   },
   {
    "duration": 12,
    "start_time": "2022-04-11T14:38:08.578Z"
   },
   {
    "duration": 13,
    "start_time": "2022-04-11T14:38:08.591Z"
   },
   {
    "duration": 3,
    "start_time": "2022-04-11T14:38:08.605Z"
   },
   {
    "duration": 74,
    "start_time": "2022-04-11T14:38:08.609Z"
   },
   {
    "duration": 8,
    "start_time": "2022-04-11T14:38:08.684Z"
   },
   {
    "duration": 7,
    "start_time": "2022-04-11T14:38:08.694Z"
   },
   {
    "duration": 34,
    "start_time": "2022-04-11T14:38:08.703Z"
   },
   {
    "duration": 32,
    "start_time": "2022-04-11T14:38:08.739Z"
   },
   {
    "duration": 5,
    "start_time": "2022-04-11T14:38:08.773Z"
   },
   {
    "duration": 304,
    "start_time": "2022-04-11T14:38:08.779Z"
   },
   {
    "duration": 365,
    "start_time": "2022-04-11T14:38:09.085Z"
   },
   {
    "duration": 1546,
    "start_time": "2022-04-11T14:38:09.452Z"
   },
   {
    "duration": 6,
    "start_time": "2022-04-11T14:38:10.999Z"
   },
   {
    "duration": 8,
    "start_time": "2022-04-11T14:38:11.007Z"
   },
   {
    "duration": 7,
    "start_time": "2022-04-11T14:38:11.017Z"
   },
   {
    "duration": 517,
    "start_time": "2022-04-11T14:38:11.026Z"
   },
   {
    "duration": 16,
    "start_time": "2022-04-11T14:38:11.544Z"
   },
   {
    "duration": 372,
    "start_time": "2022-04-11T14:38:11.561Z"
   },
   {
    "duration": 63,
    "start_time": "2022-04-11T14:38:11.937Z"
   },
   {
    "duration": 6,
    "start_time": "2022-04-11T14:38:12.002Z"
   },
   {
    "duration": 10,
    "start_time": "2022-04-11T14:38:12.009Z"
   },
   {
    "duration": 12,
    "start_time": "2022-04-11T14:38:12.020Z"
   },
   {
    "duration": 39,
    "start_time": "2022-04-11T14:38:12.033Z"
   },
   {
    "duration": 7,
    "start_time": "2022-04-11T14:38:12.074Z"
   },
   {
    "duration": 14,
    "start_time": "2022-04-11T14:38:12.083Z"
   },
   {
    "duration": 17,
    "start_time": "2022-04-11T14:38:12.098Z"
   },
   {
    "duration": 6,
    "start_time": "2022-04-11T14:38:12.117Z"
   },
   {
    "duration": 11,
    "start_time": "2022-04-11T14:38:12.125Z"
   },
   {
    "duration": 35,
    "start_time": "2022-04-11T14:38:12.137Z"
   },
   {
    "duration": 21,
    "start_time": "2022-04-11T14:38:12.173Z"
   },
   {
    "duration": 6,
    "start_time": "2022-04-11T14:38:12.196Z"
   },
   {
    "duration": 5,
    "start_time": "2022-04-11T14:38:12.204Z"
   },
   {
    "duration": 5,
    "start_time": "2022-04-11T14:38:12.211Z"
   },
   {
    "duration": 12,
    "start_time": "2022-04-11T14:38:12.218Z"
   },
   {
    "duration": 9,
    "start_time": "2022-04-11T14:38:12.232Z"
   },
   {
    "duration": 35,
    "start_time": "2022-04-11T14:38:12.243Z"
   },
   {
    "duration": 5,
    "start_time": "2022-04-11T14:38:12.279Z"
   },
   {
    "duration": 5,
    "start_time": "2022-04-11T14:38:12.286Z"
   },
   {
    "duration": 6,
    "start_time": "2022-04-11T14:38:12.293Z"
   },
   {
    "duration": 5,
    "start_time": "2022-04-11T14:38:12.301Z"
   },
   {
    "duration": 6,
    "start_time": "2022-04-11T14:38:12.307Z"
   },
   {
    "duration": 5,
    "start_time": "2022-04-11T14:38:12.314Z"
   },
   {
    "duration": 6,
    "start_time": "2022-04-11T14:38:12.320Z"
   },
   {
    "duration": 5,
    "start_time": "2022-04-11T14:38:12.328Z"
   },
   {
    "duration": 38,
    "start_time": "2022-04-11T14:38:12.334Z"
   },
   {
    "duration": 6,
    "start_time": "2022-04-11T14:38:12.374Z"
   },
   {
    "duration": 1196,
    "start_time": "2022-04-11T14:38:12.382Z"
   },
   {
    "duration": 15651,
    "start_time": "2022-04-11T14:38:13.580Z"
   },
   {
    "duration": 212754,
    "start_time": "2022-04-11T14:38:29.232Z"
   },
   {
    "duration": 9,
    "start_time": "2022-04-11T14:42:01.988Z"
   },
   {
    "duration": 1583,
    "start_time": "2022-04-11T14:42:01.999Z"
   },
   {
    "duration": 12910,
    "start_time": "2022-04-11T14:42:03.584Z"
   },
   {
    "duration": 234776,
    "start_time": "2022-04-11T14:42:16.496Z"
   },
   {
    "duration": 10,
    "start_time": "2022-04-11T14:46:11.274Z"
   },
   {
    "duration": 10,
    "start_time": "2022-04-11T14:46:11.286Z"
   },
   {
    "duration": 5,
    "start_time": "2022-04-11T14:46:11.298Z"
   },
   {
    "duration": 19048,
    "start_time": "2022-04-11T14:46:11.305Z"
   },
   {
    "duration": 17,
    "start_time": "2022-04-11T14:46:30.355Z"
   },
   {
    "duration": 9140,
    "start_time": "2022-04-11T14:46:30.373Z"
   },
   {
    "duration": 8074,
    "start_time": "2022-04-11T14:46:39.514Z"
   },
   {
    "duration": 30983,
    "start_time": "2022-04-11T14:46:47.590Z"
   },
   {
    "duration": 3,
    "start_time": "2022-04-11T14:47:18.575Z"
   },
   {
    "duration": 6,
    "start_time": "2022-04-11T14:48:05.554Z"
   },
   {
    "duration": 1643,
    "start_time": "2022-04-11T14:48:51.703Z"
   },
   {
    "duration": 3,
    "start_time": "2022-04-11T14:48:53.348Z"
   },
   {
    "duration": 419,
    "start_time": "2022-04-11T14:48:53.353Z"
   },
   {
    "duration": 267,
    "start_time": "2022-04-11T14:48:53.774Z"
   },
   {
    "duration": 80,
    "start_time": "2022-04-11T14:48:54.043Z"
   },
   {
    "duration": 13,
    "start_time": "2022-04-11T14:48:54.125Z"
   },
   {
    "duration": 15,
    "start_time": "2022-04-11T14:48:54.140Z"
   },
   {
    "duration": 5,
    "start_time": "2022-04-11T14:48:54.171Z"
   },
   {
    "duration": 9,
    "start_time": "2022-04-11T14:48:54.178Z"
   },
   {
    "duration": 11,
    "start_time": "2022-04-11T14:48:54.190Z"
   },
   {
    "duration": 12,
    "start_time": "2022-04-11T14:48:54.203Z"
   },
   {
    "duration": 3,
    "start_time": "2022-04-11T14:48:54.217Z"
   },
   {
    "duration": 74,
    "start_time": "2022-04-11T14:48:54.222Z"
   },
   {
    "duration": 8,
    "start_time": "2022-04-11T14:48:54.298Z"
   },
   {
    "duration": 14,
    "start_time": "2022-04-11T14:48:54.308Z"
   },
   {
    "duration": 60,
    "start_time": "2022-04-11T14:48:54.325Z"
   },
   {
    "duration": 3,
    "start_time": "2022-04-11T14:48:54.387Z"
   },
   {
    "duration": 7,
    "start_time": "2022-04-11T14:48:54.391Z"
   },
   {
    "duration": 411,
    "start_time": "2022-04-11T14:48:54.399Z"
   },
   {
    "duration": 533,
    "start_time": "2022-04-11T14:48:54.812Z"
   },
   {
    "duration": 1586,
    "start_time": "2022-04-11T14:48:55.346Z"
   },
   {
    "duration": 6,
    "start_time": "2022-04-11T14:48:56.934Z"
   },
   {
    "duration": 9,
    "start_time": "2022-04-11T14:48:56.941Z"
   },
   {
    "duration": 21,
    "start_time": "2022-04-11T14:48:56.952Z"
   },
   {
    "duration": 781,
    "start_time": "2022-04-11T14:48:56.975Z"
   },
   {
    "duration": 22,
    "start_time": "2022-04-11T14:48:57.758Z"
   },
   {
    "duration": 580,
    "start_time": "2022-04-11T14:48:57.782Z"
   },
   {
    "duration": 75,
    "start_time": "2022-04-11T14:48:58.371Z"
   },
   {
    "duration": 8,
    "start_time": "2022-04-11T14:48:58.449Z"
   },
   {
    "duration": 40,
    "start_time": "2022-04-11T14:48:58.471Z"
   },
   {
    "duration": 12,
    "start_time": "2022-04-11T14:48:58.513Z"
   },
   {
    "duration": 16,
    "start_time": "2022-04-11T14:48:58.527Z"
   },
   {
    "duration": 6,
    "start_time": "2022-04-11T14:48:58.545Z"
   },
   {
    "duration": 10,
    "start_time": "2022-04-11T14:48:58.552Z"
   },
   {
    "duration": 16,
    "start_time": "2022-04-11T14:48:58.563Z"
   },
   {
    "duration": 6,
    "start_time": "2022-04-11T14:48:58.580Z"
   },
   {
    "duration": 11,
    "start_time": "2022-04-11T14:48:58.588Z"
   },
   {
    "duration": 4,
    "start_time": "2022-04-11T14:48:58.601Z"
   },
   {
    "duration": 12,
    "start_time": "2022-04-11T14:48:58.607Z"
   },
   {
    "duration": 54,
    "start_time": "2022-04-11T14:48:58.621Z"
   },
   {
    "duration": 5,
    "start_time": "2022-04-11T14:48:58.677Z"
   },
   {
    "duration": 6,
    "start_time": "2022-04-11T14:48:58.684Z"
   },
   {
    "duration": 4,
    "start_time": "2022-04-11T14:48:58.691Z"
   },
   {
    "duration": 9,
    "start_time": "2022-04-11T14:48:58.697Z"
   },
   {
    "duration": 7,
    "start_time": "2022-04-11T14:48:58.708Z"
   },
   {
    "duration": 11,
    "start_time": "2022-04-11T14:48:58.717Z"
   },
   {
    "duration": 4,
    "start_time": "2022-04-11T14:48:58.730Z"
   },
   {
    "duration": 36,
    "start_time": "2022-04-11T14:48:58.736Z"
   },
   {
    "duration": 4,
    "start_time": "2022-04-11T14:48:58.773Z"
   },
   {
    "duration": 7,
    "start_time": "2022-04-11T14:48:58.779Z"
   },
   {
    "duration": 8,
    "start_time": "2022-04-11T14:48:58.788Z"
   },
   {
    "duration": 8,
    "start_time": "2022-04-11T14:48:58.797Z"
   },
   {
    "duration": 12,
    "start_time": "2022-04-11T14:48:58.807Z"
   },
   {
    "duration": 6,
    "start_time": "2022-04-11T14:48:58.820Z"
   },
   {
    "duration": 7,
    "start_time": "2022-04-11T14:48:58.827Z"
   },
   {
    "duration": 5,
    "start_time": "2022-04-11T14:48:58.836Z"
   },
   {
    "duration": 1837,
    "start_time": "2022-04-11T14:48:58.842Z"
   },
   {
    "duration": 13012,
    "start_time": "2022-04-11T14:49:00.680Z"
   },
   {
    "duration": 219363,
    "start_time": "2022-04-11T14:49:13.694Z"
   },
   {
    "duration": 22,
    "start_time": "2022-04-11T14:52:53.059Z"
   },
   {
    "duration": 1607,
    "start_time": "2022-04-11T14:52:53.082Z"
   },
   {
    "duration": 13896,
    "start_time": "2022-04-11T14:52:54.691Z"
   },
   {
    "duration": 221432,
    "start_time": "2022-04-11T14:53:08.588Z"
   },
   {
    "duration": 10,
    "start_time": "2022-04-11T14:56:50.021Z"
   },
   {
    "duration": 13,
    "start_time": "2022-04-11T14:56:50.033Z"
   },
   {
    "duration": 4,
    "start_time": "2022-04-11T14:56:50.048Z"
   },
   {
    "duration": 13169,
    "start_time": "2022-04-11T14:56:50.054Z"
   },
   {
    "duration": 8,
    "start_time": "2022-04-11T14:57:03.225Z"
   },
   {
    "duration": 9269,
    "start_time": "2022-04-11T14:57:03.235Z"
   },
   {
    "duration": 7638,
    "start_time": "2022-04-11T14:57:12.506Z"
   },
   {
    "duration": 29984,
    "start_time": "2022-04-11T14:57:20.146Z"
   },
   {
    "duration": 4,
    "start_time": "2022-04-11T14:57:50.132Z"
   },
   {
    "duration": 1573,
    "start_time": "2022-04-11T15:01:03.555Z"
   },
   {
    "duration": 3,
    "start_time": "2022-04-11T15:01:05.130Z"
   },
   {
    "duration": 356,
    "start_time": "2022-04-11T15:01:05.135Z"
   },
   {
    "duration": 245,
    "start_time": "2022-04-11T15:01:05.493Z"
   },
   {
    "duration": 77,
    "start_time": "2022-04-11T15:01:05.740Z"
   },
   {
    "duration": 10,
    "start_time": "2022-04-11T15:01:05.819Z"
   },
   {
    "duration": 26,
    "start_time": "2022-04-11T15:01:05.831Z"
   },
   {
    "duration": 27,
    "start_time": "2022-04-11T15:01:05.859Z"
   },
   {
    "duration": 16,
    "start_time": "2022-04-11T15:01:05.887Z"
   },
   {
    "duration": 20,
    "start_time": "2022-04-11T15:01:05.906Z"
   },
   {
    "duration": 20,
    "start_time": "2022-04-11T15:01:05.927Z"
   },
   {
    "duration": 18,
    "start_time": "2022-04-11T15:01:05.948Z"
   },
   {
    "duration": 68,
    "start_time": "2022-04-11T15:01:05.967Z"
   },
   {
    "duration": 8,
    "start_time": "2022-04-11T15:01:06.037Z"
   },
   {
    "duration": 21,
    "start_time": "2022-04-11T15:01:06.046Z"
   },
   {
    "duration": 43,
    "start_time": "2022-04-11T15:01:06.068Z"
   },
   {
    "duration": 3,
    "start_time": "2022-04-11T15:01:06.113Z"
   },
   {
    "duration": 6,
    "start_time": "2022-04-11T15:01:06.118Z"
   },
   {
    "duration": 313,
    "start_time": "2022-04-11T15:01:06.125Z"
   },
   {
    "duration": 369,
    "start_time": "2022-04-11T15:01:06.440Z"
   },
   {
    "duration": 1574,
    "start_time": "2022-04-11T15:01:06.811Z"
   },
   {
    "duration": 5,
    "start_time": "2022-04-11T15:01:08.387Z"
   },
   {
    "duration": 7,
    "start_time": "2022-04-11T15:01:08.393Z"
   },
   {
    "duration": 4,
    "start_time": "2022-04-11T15:01:08.401Z"
   },
   {
    "duration": 543,
    "start_time": "2022-04-11T15:01:08.407Z"
   },
   {
    "duration": 34,
    "start_time": "2022-04-11T15:01:08.952Z"
   },
   {
    "duration": 395,
    "start_time": "2022-04-11T15:01:08.987Z"
   },
   {
    "duration": 54,
    "start_time": "2022-04-11T15:01:09.386Z"
   },
   {
    "duration": 6,
    "start_time": "2022-04-11T15:01:09.441Z"
   },
   {
    "duration": 7,
    "start_time": "2022-04-11T15:01:09.449Z"
   },
   {
    "duration": 13,
    "start_time": "2022-04-11T15:01:09.471Z"
   },
   {
    "duration": 17,
    "start_time": "2022-04-11T15:01:09.485Z"
   },
   {
    "duration": 6,
    "start_time": "2022-04-11T15:01:09.503Z"
   },
   {
    "duration": 9,
    "start_time": "2022-04-11T15:01:09.511Z"
   },
   {
    "duration": 15,
    "start_time": "2022-04-11T15:01:09.521Z"
   },
   {
    "duration": 39,
    "start_time": "2022-04-11T15:01:09.537Z"
   },
   {
    "duration": 15,
    "start_time": "2022-04-11T15:01:09.578Z"
   },
   {
    "duration": 3,
    "start_time": "2022-04-11T15:01:09.594Z"
   },
   {
    "duration": 145,
    "start_time": "2022-04-11T15:01:09.598Z"
   },
   {
    "duration": 0,
    "start_time": "2022-04-11T15:01:09.745Z"
   },
   {
    "duration": 0,
    "start_time": "2022-04-11T15:01:09.746Z"
   },
   {
    "duration": 0,
    "start_time": "2022-04-11T15:01:09.747Z"
   },
   {
    "duration": 0,
    "start_time": "2022-04-11T15:01:09.747Z"
   },
   {
    "duration": 0,
    "start_time": "2022-04-11T15:01:09.748Z"
   },
   {
    "duration": 0,
    "start_time": "2022-04-11T15:01:09.749Z"
   },
   {
    "duration": 0,
    "start_time": "2022-04-11T15:01:09.750Z"
   },
   {
    "duration": 0,
    "start_time": "2022-04-11T15:01:09.751Z"
   },
   {
    "duration": 0,
    "start_time": "2022-04-11T15:01:09.752Z"
   },
   {
    "duration": 0,
    "start_time": "2022-04-11T15:01:09.753Z"
   },
   {
    "duration": 0,
    "start_time": "2022-04-11T15:01:09.754Z"
   },
   {
    "duration": 0,
    "start_time": "2022-04-11T15:01:09.754Z"
   },
   {
    "duration": 0,
    "start_time": "2022-04-11T15:01:09.755Z"
   },
   {
    "duration": 0,
    "start_time": "2022-04-11T15:01:09.756Z"
   },
   {
    "duration": 0,
    "start_time": "2022-04-11T15:01:09.757Z"
   },
   {
    "duration": 0,
    "start_time": "2022-04-11T15:01:09.758Z"
   },
   {
    "duration": 0,
    "start_time": "2022-04-11T15:01:09.758Z"
   },
   {
    "duration": 0,
    "start_time": "2022-04-11T15:01:09.759Z"
   },
   {
    "duration": 0,
    "start_time": "2022-04-11T15:01:09.760Z"
   },
   {
    "duration": 0,
    "start_time": "2022-04-11T15:01:09.761Z"
   },
   {
    "duration": 0,
    "start_time": "2022-04-11T15:01:09.762Z"
   },
   {
    "duration": 0,
    "start_time": "2022-04-11T15:01:09.763Z"
   },
   {
    "duration": 0,
    "start_time": "2022-04-11T15:01:09.764Z"
   },
   {
    "duration": 0,
    "start_time": "2022-04-11T15:01:09.765Z"
   },
   {
    "duration": 0,
    "start_time": "2022-04-11T15:01:09.765Z"
   },
   {
    "duration": 0,
    "start_time": "2022-04-11T15:01:09.766Z"
   },
   {
    "duration": 0,
    "start_time": "2022-04-11T15:01:09.767Z"
   },
   {
    "duration": 0,
    "start_time": "2022-04-11T15:01:09.768Z"
   },
   {
    "duration": 0,
    "start_time": "2022-04-11T15:01:09.769Z"
   },
   {
    "duration": 0,
    "start_time": "2022-04-11T15:01:09.774Z"
   },
   {
    "duration": 0,
    "start_time": "2022-04-11T15:01:09.775Z"
   },
   {
    "duration": 0,
    "start_time": "2022-04-11T15:01:09.776Z"
   },
   {
    "duration": 0,
    "start_time": "2022-04-11T15:01:09.777Z"
   },
   {
    "duration": 150,
    "start_time": "2022-04-11T15:06:09.950Z"
   },
   {
    "duration": 6,
    "start_time": "2022-04-11T15:06:15.681Z"
   },
   {
    "duration": 6,
    "start_time": "2022-04-11T15:06:45.169Z"
   },
   {
    "duration": 6,
    "start_time": "2022-04-11T15:06:54.395Z"
   },
   {
    "duration": 6,
    "start_time": "2022-04-11T15:06:58.968Z"
   },
   {
    "duration": 6,
    "start_time": "2022-04-11T15:07:04.257Z"
   },
   {
    "duration": 7,
    "start_time": "2022-04-11T15:07:07.226Z"
   },
   {
    "duration": 7,
    "start_time": "2022-04-11T15:07:16.179Z"
   },
   {
    "duration": 20,
    "start_time": "2022-04-11T15:07:16.188Z"
   },
   {
    "duration": 7,
    "start_time": "2022-04-11T15:07:16.209Z"
   },
   {
    "duration": 6,
    "start_time": "2022-04-11T15:07:16.218Z"
   },
   {
    "duration": 5,
    "start_time": "2022-04-11T15:07:16.226Z"
   },
   {
    "duration": 44,
    "start_time": "2022-04-11T15:07:16.233Z"
   },
   {
    "duration": 4,
    "start_time": "2022-04-11T15:07:16.279Z"
   },
   {
    "duration": 11,
    "start_time": "2022-04-11T15:07:16.284Z"
   },
   {
    "duration": 4,
    "start_time": "2022-04-11T15:07:16.297Z"
   },
   {
    "duration": 4,
    "start_time": "2022-04-11T15:07:16.304Z"
   },
   {
    "duration": 5,
    "start_time": "2022-04-11T15:07:16.309Z"
   },
   {
    "duration": 8,
    "start_time": "2022-04-11T15:07:16.315Z"
   },
   {
    "duration": 5,
    "start_time": "2022-04-11T15:07:16.325Z"
   },
   {
    "duration": 7,
    "start_time": "2022-04-11T15:07:16.332Z"
   },
   {
    "duration": 5,
    "start_time": "2022-04-11T15:07:16.371Z"
   },
   {
    "duration": 6,
    "start_time": "2022-04-11T15:07:16.379Z"
   },
   {
    "duration": 6,
    "start_time": "2022-04-11T15:07:16.386Z"
   },
   {
    "duration": 5,
    "start_time": "2022-04-11T15:07:16.394Z"
   },
   {
    "duration": 1177,
    "start_time": "2022-04-11T15:07:16.400Z"
   },
   {
    "duration": 12635,
    "start_time": "2022-04-11T15:07:17.579Z"
   },
   {
    "duration": 217368,
    "start_time": "2022-04-11T15:07:30.216Z"
   },
   {
    "duration": 9,
    "start_time": "2022-04-11T15:11:07.586Z"
   },
   {
    "duration": 1280,
    "start_time": "2022-04-11T15:11:07.597Z"
   },
   {
    "duration": 12836,
    "start_time": "2022-04-11T15:11:08.879Z"
   },
   {
    "duration": 216107,
    "start_time": "2022-04-11T15:11:21.717Z"
   },
   {
    "duration": 11,
    "start_time": "2022-04-11T15:14:57.826Z"
   },
   {
    "duration": 10,
    "start_time": "2022-04-11T15:14:57.838Z"
   },
   {
    "duration": 19,
    "start_time": "2022-04-11T15:14:57.851Z"
   },
   {
    "duration": 19260,
    "start_time": "2022-04-11T15:14:57.872Z"
   },
   {
    "duration": 7,
    "start_time": "2022-04-11T15:15:17.134Z"
   },
   {
    "duration": 8812,
    "start_time": "2022-04-11T15:15:17.143Z"
   },
   {
    "duration": 7460,
    "start_time": "2022-04-11T15:15:25.956Z"
   },
   {
    "duration": 29603,
    "start_time": "2022-04-11T15:15:33.417Z"
   },
   {
    "duration": 3,
    "start_time": "2022-04-11T15:16:03.022Z"
   },
   {
    "duration": 6,
    "start_time": "2022-04-11T15:25:29.611Z"
   },
   {
    "duration": 1433,
    "start_time": "2022-04-11T15:28:04.284Z"
   },
   {
    "duration": 2,
    "start_time": "2022-04-11T15:28:05.719Z"
   },
   {
    "duration": 331,
    "start_time": "2022-04-11T15:28:05.723Z"
   },
   {
    "duration": 246,
    "start_time": "2022-04-11T15:28:06.056Z"
   },
   {
    "duration": 74,
    "start_time": "2022-04-11T15:28:06.303Z"
   },
   {
    "duration": 9,
    "start_time": "2022-04-11T15:28:06.379Z"
   },
   {
    "duration": 13,
    "start_time": "2022-04-11T15:28:06.389Z"
   },
   {
    "duration": 5,
    "start_time": "2022-04-11T15:28:06.403Z"
   },
   {
    "duration": 6,
    "start_time": "2022-04-11T15:28:06.409Z"
   },
   {
    "duration": 13,
    "start_time": "2022-04-11T15:28:06.417Z"
   },
   {
    "duration": 11,
    "start_time": "2022-04-11T15:28:06.431Z"
   },
   {
    "duration": 3,
    "start_time": "2022-04-11T15:28:06.470Z"
   },
   {
    "duration": 46,
    "start_time": "2022-04-11T15:28:06.475Z"
   },
   {
    "duration": 10,
    "start_time": "2022-04-11T15:28:06.522Z"
   },
   {
    "duration": 7,
    "start_time": "2022-04-11T15:28:06.534Z"
   },
   {
    "duration": 63,
    "start_time": "2022-04-11T15:28:06.542Z"
   },
   {
    "duration": 3,
    "start_time": "2022-04-11T15:28:06.607Z"
   },
   {
    "duration": 6,
    "start_time": "2022-04-11T15:28:06.611Z"
   },
   {
    "duration": 290,
    "start_time": "2022-04-11T15:28:06.618Z"
   },
   {
    "duration": 343,
    "start_time": "2022-04-11T15:28:06.909Z"
   },
   {
    "duration": 1509,
    "start_time": "2022-04-11T15:28:07.254Z"
   },
   {
    "duration": 8,
    "start_time": "2022-04-11T15:28:08.765Z"
   },
   {
    "duration": 8,
    "start_time": "2022-04-11T15:28:08.774Z"
   },
   {
    "duration": 4,
    "start_time": "2022-04-11T15:28:08.784Z"
   },
   {
    "duration": 496,
    "start_time": "2022-04-11T15:28:08.789Z"
   },
   {
    "duration": 15,
    "start_time": "2022-04-11T15:28:09.286Z"
   },
   {
    "duration": 367,
    "start_time": "2022-04-11T15:28:09.303Z"
   },
   {
    "duration": 51,
    "start_time": "2022-04-11T15:28:09.674Z"
   },
   {
    "duration": 6,
    "start_time": "2022-04-11T15:28:09.727Z"
   },
   {
    "duration": 7,
    "start_time": "2022-04-11T15:28:09.734Z"
   },
   {
    "duration": 28,
    "start_time": "2022-04-11T15:28:09.743Z"
   },
   {
    "duration": 16,
    "start_time": "2022-04-11T15:28:09.773Z"
   },
   {
    "duration": 5,
    "start_time": "2022-04-11T15:28:09.791Z"
   },
   {
    "duration": 10,
    "start_time": "2022-04-11T15:28:09.798Z"
   },
   {
    "duration": 20,
    "start_time": "2022-04-11T15:28:09.809Z"
   },
   {
    "duration": 5,
    "start_time": "2022-04-11T15:28:09.831Z"
   },
   {
    "duration": 38,
    "start_time": "2022-04-11T15:28:09.838Z"
   },
   {
    "duration": 5,
    "start_time": "2022-04-11T15:28:09.878Z"
   },
   {
    "duration": 20,
    "start_time": "2022-04-11T15:28:09.884Z"
   },
   {
    "duration": 6,
    "start_time": "2022-04-11T15:28:09.905Z"
   },
   {
    "duration": 6,
    "start_time": "2022-04-11T15:28:09.912Z"
   },
   {
    "duration": 5,
    "start_time": "2022-04-11T15:28:09.919Z"
   },
   {
    "duration": 11,
    "start_time": "2022-04-11T15:28:09.926Z"
   },
   {
    "duration": 9,
    "start_time": "2022-04-11T15:28:09.939Z"
   },
   {
    "duration": 28,
    "start_time": "2022-04-11T15:28:09.949Z"
   },
   {
    "duration": 5,
    "start_time": "2022-04-11T15:28:09.979Z"
   },
   {
    "duration": 5,
    "start_time": "2022-04-11T15:28:09.985Z"
   },
   {
    "duration": 10,
    "start_time": "2022-04-11T15:28:09.991Z"
   },
   {
    "duration": 6,
    "start_time": "2022-04-11T15:28:10.002Z"
   },
   {
    "duration": 8,
    "start_time": "2022-04-11T15:28:10.009Z"
   },
   {
    "duration": 8,
    "start_time": "2022-04-11T15:28:10.018Z"
   },
   {
    "duration": 7,
    "start_time": "2022-04-11T15:28:10.028Z"
   },
   {
    "duration": 8,
    "start_time": "2022-04-11T15:28:10.036Z"
   },
   {
    "duration": 5,
    "start_time": "2022-04-11T15:28:10.045Z"
   },
   {
    "duration": 21,
    "start_time": "2022-04-11T15:28:10.051Z"
   },
   {
    "duration": 1397,
    "start_time": "2022-04-11T15:28:10.074Z"
   },
   {
    "duration": 12651,
    "start_time": "2022-04-11T15:28:11.473Z"
   },
   {
    "duration": 435290,
    "start_time": "2022-04-11T15:28:24.126Z"
   },
   {
    "duration": 12,
    "start_time": "2022-04-11T15:35:39.417Z"
   },
   {
    "duration": 1640,
    "start_time": "2022-04-11T15:35:39.431Z"
   },
   {
    "duration": 16348,
    "start_time": "2022-04-11T15:35:41.073Z"
   },
   {
    "duration": 447125,
    "start_time": "2022-04-11T15:35:57.423Z"
   },
   {
    "duration": 11,
    "start_time": "2022-04-11T15:43:24.549Z"
   },
   {
    "duration": 9,
    "start_time": "2022-04-11T15:43:24.571Z"
   },
   {
    "duration": 5,
    "start_time": "2022-04-11T15:43:24.582Z"
   },
   {
    "duration": 16086,
    "start_time": "2022-04-11T15:43:24.589Z"
   },
   {
    "duration": 6,
    "start_time": "2022-04-11T15:43:40.677Z"
   },
   {
    "duration": 9005,
    "start_time": "2022-04-11T15:43:40.685Z"
   },
   {
    "duration": 7147,
    "start_time": "2022-04-11T15:43:49.691Z"
   },
   {
    "duration": 29067,
    "start_time": "2022-04-11T15:43:56.839Z"
   },
   {
    "duration": 4,
    "start_time": "2022-04-11T15:44:25.908Z"
   },
   {
    "duration": 4,
    "start_time": "2022-04-11T15:50:52.075Z"
   },
   {
    "duration": 1423,
    "start_time": "2022-04-11T15:53:14.882Z"
   },
   {
    "duration": 3,
    "start_time": "2022-04-11T15:53:16.307Z"
   },
   {
    "duration": 333,
    "start_time": "2022-04-11T15:53:16.311Z"
   },
   {
    "duration": 242,
    "start_time": "2022-04-11T15:53:16.646Z"
   },
   {
    "duration": 73,
    "start_time": "2022-04-11T15:53:16.889Z"
   },
   {
    "duration": 14,
    "start_time": "2022-04-11T15:53:16.964Z"
   },
   {
    "duration": 12,
    "start_time": "2022-04-11T15:53:16.979Z"
   },
   {
    "duration": 4,
    "start_time": "2022-04-11T15:53:16.993Z"
   },
   {
    "duration": 4,
    "start_time": "2022-04-11T15:53:16.999Z"
   },
   {
    "duration": 14,
    "start_time": "2022-04-11T15:53:17.005Z"
   },
   {
    "duration": 11,
    "start_time": "2022-04-11T15:53:17.020Z"
   },
   {
    "duration": 3,
    "start_time": "2022-04-11T15:53:17.032Z"
   },
   {
    "duration": 72,
    "start_time": "2022-04-11T15:53:17.036Z"
   },
   {
    "duration": 7,
    "start_time": "2022-04-11T15:53:17.110Z"
   },
   {
    "duration": 5,
    "start_time": "2022-04-11T15:53:17.119Z"
   },
   {
    "duration": 54,
    "start_time": "2022-04-11T15:53:17.125Z"
   },
   {
    "duration": 3,
    "start_time": "2022-04-11T15:53:17.180Z"
   },
   {
    "duration": 4,
    "start_time": "2022-04-11T15:53:17.184Z"
   },
   {
    "duration": 296,
    "start_time": "2022-04-11T15:53:17.190Z"
   },
   {
    "duration": 341,
    "start_time": "2022-04-11T15:53:17.488Z"
   },
   {
    "duration": 1475,
    "start_time": "2022-04-11T15:53:17.831Z"
   },
   {
    "duration": 5,
    "start_time": "2022-04-11T15:53:19.307Z"
   },
   {
    "duration": 8,
    "start_time": "2022-04-11T15:53:19.313Z"
   },
   {
    "duration": 4,
    "start_time": "2022-04-11T15:53:19.323Z"
   },
   {
    "duration": 478,
    "start_time": "2022-04-11T15:53:19.328Z"
   },
   {
    "duration": 15,
    "start_time": "2022-04-11T15:53:19.807Z"
   },
   {
    "duration": 366,
    "start_time": "2022-04-11T15:53:19.823Z"
   },
   {
    "duration": 54,
    "start_time": "2022-04-11T15:53:20.193Z"
   },
   {
    "duration": 6,
    "start_time": "2022-04-11T15:53:20.249Z"
   },
   {
    "duration": 6,
    "start_time": "2022-04-11T15:53:20.271Z"
   },
   {
    "duration": 11,
    "start_time": "2022-04-11T15:53:20.278Z"
   },
   {
    "duration": 15,
    "start_time": "2022-04-11T15:53:20.291Z"
   },
   {
    "duration": 6,
    "start_time": "2022-04-11T15:53:20.308Z"
   },
   {
    "duration": 15,
    "start_time": "2022-04-11T15:53:20.315Z"
   },
   {
    "duration": 41,
    "start_time": "2022-04-11T15:53:20.332Z"
   },
   {
    "duration": 7,
    "start_time": "2022-04-11T15:53:20.375Z"
   },
   {
    "duration": 11,
    "start_time": "2022-04-11T15:53:20.383Z"
   },
   {
    "duration": 7,
    "start_time": "2022-04-11T15:53:20.396Z"
   },
   {
    "duration": 23,
    "start_time": "2022-04-11T15:53:20.404Z"
   },
   {
    "duration": 7,
    "start_time": "2022-04-11T15:53:20.429Z"
   },
   {
    "duration": 7,
    "start_time": "2022-04-11T15:53:20.471Z"
   },
   {
    "duration": 5,
    "start_time": "2022-04-11T15:53:20.480Z"
   },
   {
    "duration": 11,
    "start_time": "2022-04-11T15:53:20.486Z"
   },
   {
    "duration": 9,
    "start_time": "2022-04-11T15:53:20.499Z"
   },
   {
    "duration": 12,
    "start_time": "2022-04-11T15:53:20.509Z"
   },
   {
    "duration": 6,
    "start_time": "2022-04-11T15:53:20.523Z"
   },
   {
    "duration": 7,
    "start_time": "2022-04-11T15:53:20.530Z"
   },
   {
    "duration": 31,
    "start_time": "2022-04-11T15:53:20.539Z"
   },
   {
    "duration": 3,
    "start_time": "2022-04-11T15:53:20.572Z"
   },
   {
    "duration": 5,
    "start_time": "2022-04-11T15:53:20.576Z"
   },
   {
    "duration": 4,
    "start_time": "2022-04-11T15:53:20.583Z"
   },
   {
    "duration": 18,
    "start_time": "2022-04-11T15:53:20.589Z"
   },
   {
    "duration": 9,
    "start_time": "2022-04-11T15:53:20.608Z"
   },
   {
    "duration": 6,
    "start_time": "2022-04-11T15:53:20.619Z"
   },
   {
    "duration": 15,
    "start_time": "2022-04-11T15:53:20.626Z"
   },
   {
    "duration": 5,
    "start_time": "2022-04-11T15:53:20.642Z"
   },
   {
    "duration": 24,
    "start_time": "2022-04-11T15:53:20.648Z"
   },
   {
    "duration": 7,
    "start_time": "2022-04-11T15:53:20.674Z"
   },
   {
    "duration": 994,
    "start_time": "2022-04-11T15:53:20.682Z"
   },
   {
    "duration": 12774,
    "start_time": "2022-04-11T15:53:21.678Z"
   },
   {
    "duration": 452391,
    "start_time": "2022-04-11T15:53:34.454Z"
   },
   {
    "duration": 10,
    "start_time": "2022-04-11T16:01:06.846Z"
   },
   {
    "duration": 1223,
    "start_time": "2022-04-11T16:01:06.857Z"
   },
   {
    "duration": 12809,
    "start_time": "2022-04-11T16:01:08.082Z"
   },
   {
    "duration": 440349,
    "start_time": "2022-04-11T16:01:20.893Z"
   },
   {
    "duration": 10,
    "start_time": "2022-04-11T16:08:41.244Z"
   },
   {
    "duration": 22,
    "start_time": "2022-04-11T16:08:41.255Z"
   },
   {
    "duration": 7,
    "start_time": "2022-04-11T16:08:41.279Z"
   },
   {
    "duration": 16982,
    "start_time": "2022-04-11T16:08:41.288Z"
   },
   {
    "duration": 9,
    "start_time": "2022-04-11T16:08:58.272Z"
   },
   {
    "duration": 9446,
    "start_time": "2022-04-11T16:08:58.283Z"
   },
   {
    "duration": 8180,
    "start_time": "2022-04-11T16:09:07.731Z"
   },
   {
    "duration": 29989,
    "start_time": "2022-04-11T16:09:15.913Z"
   },
   {
    "duration": 3,
    "start_time": "2022-04-11T16:09:45.904Z"
   },
   {
    "duration": 1457,
    "start_time": "2022-04-11T16:16:25.782Z"
   },
   {
    "duration": 3,
    "start_time": "2022-04-11T16:16:27.241Z"
   },
   {
    "duration": 352,
    "start_time": "2022-04-11T16:16:27.245Z"
   },
   {
    "duration": 250,
    "start_time": "2022-04-11T16:16:27.599Z"
   },
   {
    "duration": 82,
    "start_time": "2022-04-11T16:16:27.850Z"
   },
   {
    "duration": 11,
    "start_time": "2022-04-11T16:16:27.934Z"
   },
   {
    "duration": 26,
    "start_time": "2022-04-11T16:16:27.946Z"
   },
   {
    "duration": 5,
    "start_time": "2022-04-11T16:16:27.973Z"
   },
   {
    "duration": 4,
    "start_time": "2022-04-11T16:16:27.980Z"
   },
   {
    "duration": 12,
    "start_time": "2022-04-11T16:16:27.986Z"
   },
   {
    "duration": 12,
    "start_time": "2022-04-11T16:16:27.999Z"
   },
   {
    "duration": 3,
    "start_time": "2022-04-11T16:16:28.012Z"
   },
   {
    "duration": 71,
    "start_time": "2022-04-11T16:16:28.016Z"
   },
   {
    "duration": 8,
    "start_time": "2022-04-11T16:16:28.089Z"
   },
   {
    "duration": 7,
    "start_time": "2022-04-11T16:16:28.098Z"
   },
   {
    "duration": 34,
    "start_time": "2022-04-11T16:16:28.107Z"
   },
   {
    "duration": 28,
    "start_time": "2022-04-11T16:16:28.143Z"
   },
   {
    "duration": 3,
    "start_time": "2022-04-11T16:16:28.172Z"
   },
   {
    "duration": 312,
    "start_time": "2022-04-11T16:16:28.177Z"
   },
   {
    "duration": 386,
    "start_time": "2022-04-11T16:16:28.490Z"
   },
   {
    "duration": 1631,
    "start_time": "2022-04-11T16:16:28.878Z"
   },
   {
    "duration": 6,
    "start_time": "2022-04-11T16:16:30.511Z"
   },
   {
    "duration": 12,
    "start_time": "2022-04-11T16:16:30.519Z"
   },
   {
    "duration": 9,
    "start_time": "2022-04-11T16:16:30.533Z"
   },
   {
    "duration": 535,
    "start_time": "2022-04-11T16:16:30.544Z"
   },
   {
    "duration": 17,
    "start_time": "2022-04-11T16:16:31.081Z"
   },
   {
    "duration": 407,
    "start_time": "2022-04-11T16:16:31.100Z"
   },
   {
    "duration": 61,
    "start_time": "2022-04-11T16:16:31.511Z"
   },
   {
    "duration": 7,
    "start_time": "2022-04-11T16:16:31.573Z"
   },
   {
    "duration": 9,
    "start_time": "2022-04-11T16:16:31.581Z"
   },
   {
    "duration": 11,
    "start_time": "2022-04-11T16:16:31.591Z"
   },
   {
    "duration": 26,
    "start_time": "2022-04-11T16:16:31.603Z"
   },
   {
    "duration": 41,
    "start_time": "2022-04-11T16:16:31.631Z"
   },
   {
    "duration": 16,
    "start_time": "2022-04-11T16:16:31.674Z"
   },
   {
    "duration": 18,
    "start_time": "2022-04-11T16:16:31.692Z"
   },
   {
    "duration": 8,
    "start_time": "2022-04-11T16:16:31.712Z"
   },
   {
    "duration": 13,
    "start_time": "2022-04-11T16:16:31.721Z"
   },
   {
    "duration": 40,
    "start_time": "2022-04-11T16:16:31.736Z"
   },
   {
    "duration": 26,
    "start_time": "2022-04-11T16:16:31.778Z"
   },
   {
    "duration": 7,
    "start_time": "2022-04-11T16:16:31.805Z"
   },
   {
    "duration": 6,
    "start_time": "2022-04-11T16:16:31.814Z"
   },
   {
    "duration": 5,
    "start_time": "2022-04-11T16:16:31.822Z"
   },
   {
    "duration": 17,
    "start_time": "2022-04-11T16:16:31.829Z"
   },
   {
    "duration": 25,
    "start_time": "2022-04-11T16:16:31.847Z"
   },
   {
    "duration": 16,
    "start_time": "2022-04-11T16:16:31.874Z"
   },
   {
    "duration": 10,
    "start_time": "2022-04-11T16:16:31.892Z"
   },
   {
    "duration": 6,
    "start_time": "2022-04-11T16:16:31.904Z"
   },
   {
    "duration": 7,
    "start_time": "2022-04-11T16:16:31.912Z"
   },
   {
    "duration": 5,
    "start_time": "2022-04-11T16:16:31.921Z"
   },
   {
    "duration": 6,
    "start_time": "2022-04-11T16:16:31.928Z"
   },
   {
    "duration": 4,
    "start_time": "2022-04-11T16:16:31.936Z"
   },
   {
    "duration": 45,
    "start_time": "2022-04-11T16:16:31.942Z"
   },
   {
    "duration": 2,
    "start_time": "2022-04-11T16:16:31.989Z"
   },
   {
    "duration": 4,
    "start_time": "2022-04-11T16:16:31.993Z"
   },
   {
    "duration": 9,
    "start_time": "2022-04-11T16:16:31.999Z"
   },
   {
    "duration": 8,
    "start_time": "2022-04-11T16:16:32.009Z"
   },
   {
    "duration": 6,
    "start_time": "2022-04-11T16:16:32.019Z"
   },
   {
    "duration": 7,
    "start_time": "2022-04-11T16:16:32.027Z"
   },
   {
    "duration": 2142,
    "start_time": "2022-04-11T16:16:32.035Z"
   },
   {
    "duration": 13843,
    "start_time": "2022-04-11T16:16:34.179Z"
   },
   {
    "duration": 437380,
    "start_time": "2022-04-11T16:16:48.024Z"
   },
   {
    "duration": 9,
    "start_time": "2022-04-11T16:24:05.406Z"
   },
   {
    "duration": 1359,
    "start_time": "2022-04-11T16:24:05.416Z"
   },
   {
    "duration": 13131,
    "start_time": "2022-04-11T16:24:06.777Z"
   },
   {
    "duration": 457483,
    "start_time": "2022-04-11T16:24:19.910Z"
   },
   {
    "duration": 9,
    "start_time": "2022-04-11T16:31:57.395Z"
   },
   {
    "duration": 10,
    "start_time": "2022-04-11T16:31:57.405Z"
   },
   {
    "duration": 5,
    "start_time": "2022-04-11T16:31:57.416Z"
   },
   {
    "duration": 16376,
    "start_time": "2022-04-11T16:31:57.423Z"
   },
   {
    "duration": 8,
    "start_time": "2022-04-11T16:32:13.801Z"
   },
   {
    "duration": 8663,
    "start_time": "2022-04-11T16:32:13.810Z"
   },
   {
    "duration": 7110,
    "start_time": "2022-04-11T16:32:22.475Z"
   },
   {
    "duration": 29145,
    "start_time": "2022-04-11T16:32:29.587Z"
   },
   {
    "duration": 6,
    "start_time": "2022-04-11T16:32:58.734Z"
   },
   {
    "duration": 11,
    "start_time": "2022-04-11T16:36:51.992Z"
   },
   {
    "duration": 8,
    "start_time": "2022-04-11T16:37:01.048Z"
   },
   {
    "duration": 1588,
    "start_time": "2022-04-11T16:53:55.419Z"
   },
   {
    "duration": 4,
    "start_time": "2022-04-11T16:53:57.009Z"
   },
   {
    "duration": 387,
    "start_time": "2022-04-11T16:53:57.015Z"
   },
   {
    "duration": 279,
    "start_time": "2022-04-11T16:53:57.405Z"
   },
   {
    "duration": 80,
    "start_time": "2022-04-11T16:53:57.686Z"
   },
   {
    "duration": 11,
    "start_time": "2022-04-11T16:53:57.767Z"
   },
   {
    "duration": 27,
    "start_time": "2022-04-11T16:53:57.779Z"
   },
   {
    "duration": 6,
    "start_time": "2022-04-11T16:53:57.808Z"
   },
   {
    "duration": 3,
    "start_time": "2022-04-11T16:53:57.823Z"
   },
   {
    "duration": 10,
    "start_time": "2022-04-11T16:53:57.831Z"
   },
   {
    "duration": 15,
    "start_time": "2022-04-11T16:53:57.843Z"
   },
   {
    "duration": 2,
    "start_time": "2022-04-11T16:53:57.860Z"
   },
   {
    "duration": 82,
    "start_time": "2022-04-11T16:53:57.863Z"
   },
   {
    "duration": 8,
    "start_time": "2022-04-11T16:53:57.946Z"
   },
   {
    "duration": 6,
    "start_time": "2022-04-11T16:53:57.956Z"
   },
   {
    "duration": 64,
    "start_time": "2022-04-11T16:53:57.964Z"
   },
   {
    "duration": 3,
    "start_time": "2022-04-11T16:53:58.030Z"
   },
   {
    "duration": 12,
    "start_time": "2022-04-11T16:53:58.034Z"
   },
   {
    "duration": 307,
    "start_time": "2022-04-11T16:53:58.048Z"
   },
   {
    "duration": 377,
    "start_time": "2022-04-11T16:53:58.357Z"
   },
   {
    "duration": 2318,
    "start_time": "2022-04-11T16:53:58.736Z"
   },
   {
    "duration": 6,
    "start_time": "2022-04-11T16:54:01.056Z"
   },
   {
    "duration": 33,
    "start_time": "2022-04-11T16:54:01.064Z"
   },
   {
    "duration": 12,
    "start_time": "2022-04-11T16:54:01.100Z"
   },
   {
    "duration": 554,
    "start_time": "2022-04-11T16:54:01.113Z"
   },
   {
    "duration": 16,
    "start_time": "2022-04-11T16:54:01.668Z"
   },
   {
    "duration": 417,
    "start_time": "2022-04-11T16:54:01.686Z"
   },
   {
    "duration": 72,
    "start_time": "2022-04-11T16:54:02.107Z"
   },
   {
    "duration": 7,
    "start_time": "2022-04-11T16:54:02.180Z"
   },
   {
    "duration": 10,
    "start_time": "2022-04-11T16:54:02.189Z"
   },
   {
    "duration": 29,
    "start_time": "2022-04-11T16:54:02.200Z"
   },
   {
    "duration": 22,
    "start_time": "2022-04-11T16:54:02.231Z"
   },
   {
    "duration": 9,
    "start_time": "2022-04-11T16:54:02.255Z"
   },
   {
    "duration": 15,
    "start_time": "2022-04-11T16:54:02.266Z"
   },
   {
    "duration": 53,
    "start_time": "2022-04-11T16:54:02.282Z"
   },
   {
    "duration": 7,
    "start_time": "2022-04-11T16:54:02.337Z"
   },
   {
    "duration": 24,
    "start_time": "2022-04-11T16:54:02.346Z"
   },
   {
    "duration": 8,
    "start_time": "2022-04-11T16:54:02.372Z"
   },
   {
    "duration": 49,
    "start_time": "2022-04-11T16:54:02.382Z"
   },
   {
    "duration": 10,
    "start_time": "2022-04-11T16:54:02.433Z"
   },
   {
    "duration": 14,
    "start_time": "2022-04-11T16:54:02.445Z"
   },
   {
    "duration": 5,
    "start_time": "2022-04-11T16:54:02.462Z"
   },
   {
    "duration": 23,
    "start_time": "2022-04-11T16:54:02.469Z"
   },
   {
    "duration": 9,
    "start_time": "2022-04-11T16:54:02.494Z"
   },
   {
    "duration": 26,
    "start_time": "2022-04-11T16:54:02.505Z"
   },
   {
    "duration": 9,
    "start_time": "2022-04-11T16:54:02.534Z"
   },
   {
    "duration": 10,
    "start_time": "2022-04-11T16:54:02.545Z"
   },
   {
    "duration": 10,
    "start_time": "2022-04-11T16:54:02.557Z"
   },
   {
    "duration": 7,
    "start_time": "2022-04-11T16:54:02.569Z"
   },
   {
    "duration": 8,
    "start_time": "2022-04-11T16:54:02.578Z"
   },
   {
    "duration": 5,
    "start_time": "2022-04-11T16:54:02.589Z"
   },
   {
    "duration": 40,
    "start_time": "2022-04-11T16:54:02.596Z"
   },
   {
    "duration": 14,
    "start_time": "2022-04-11T16:54:02.638Z"
   },
   {
    "duration": 8,
    "start_time": "2022-04-11T16:54:02.655Z"
   },
   {
    "duration": 11,
    "start_time": "2022-04-11T16:54:02.665Z"
   },
   {
    "duration": 8,
    "start_time": "2022-04-11T16:54:02.678Z"
   },
   {
    "duration": 5,
    "start_time": "2022-04-11T16:54:02.688Z"
   },
   {
    "duration": 29,
    "start_time": "2022-04-11T16:54:02.695Z"
   },
   {
    "duration": 1606,
    "start_time": "2022-04-11T16:54:02.726Z"
   },
   {
    "duration": 15074,
    "start_time": "2022-04-11T16:54:04.334Z"
   },
   {
    "duration": 510082,
    "start_time": "2022-04-11T16:54:19.410Z"
   },
   {
    "duration": 9,
    "start_time": "2022-04-11T17:02:49.493Z"
   },
   {
    "duration": 2023,
    "start_time": "2022-04-11T17:02:49.504Z"
   },
   {
    "duration": 14347,
    "start_time": "2022-04-11T17:02:51.529Z"
   },
   {
    "duration": 494717,
    "start_time": "2022-04-11T17:03:05.877Z"
   },
   {
    "duration": 9,
    "start_time": "2022-04-11T17:11:20.596Z"
   },
   {
    "duration": 20,
    "start_time": "2022-04-11T17:11:20.606Z"
   },
   {
    "duration": 3,
    "start_time": "2022-04-11T17:11:20.628Z"
   },
   {
    "duration": 16360,
    "start_time": "2022-04-11T17:11:20.632Z"
   },
   {
    "duration": 7,
    "start_time": "2022-04-11T17:11:36.994Z"
   },
   {
    "duration": 20,
    "start_time": "2022-04-11T17:11:37.002Z"
   },
   {
    "duration": 14,
    "start_time": "2022-04-11T17:11:37.023Z"
   },
   {
    "duration": 1996,
    "start_time": "2022-04-12T13:48:57.558Z"
   },
   {
    "duration": 3,
    "start_time": "2022-04-12T13:48:59.556Z"
   },
   {
    "duration": 4478,
    "start_time": "2022-04-12T13:48:59.560Z"
   },
   {
    "duration": 5707,
    "start_time": "2022-04-12T13:49:04.040Z"
   },
   {
    "duration": 840,
    "start_time": "2022-04-12T13:49:09.749Z"
   },
   {
    "duration": 12,
    "start_time": "2022-04-12T13:49:10.591Z"
   },
   {
    "duration": 14,
    "start_time": "2022-04-12T13:49:10.604Z"
   },
   {
    "duration": 12,
    "start_time": "2022-04-12T13:49:10.620Z"
   },
   {
    "duration": 3,
    "start_time": "2022-04-12T13:49:10.636Z"
   },
   {
    "duration": 12,
    "start_time": "2022-04-12T13:49:10.643Z"
   },
   {
    "duration": 19,
    "start_time": "2022-04-12T13:49:10.657Z"
   },
   {
    "duration": 3,
    "start_time": "2022-04-12T13:49:10.678Z"
   },
   {
    "duration": 88,
    "start_time": "2022-04-12T13:49:10.683Z"
   },
   {
    "duration": 8,
    "start_time": "2022-04-12T13:49:10.773Z"
   },
   {
    "duration": 5,
    "start_time": "2022-04-12T13:49:10.783Z"
   },
   {
    "duration": 77,
    "start_time": "2022-04-12T13:49:10.790Z"
   },
   {
    "duration": 3,
    "start_time": "2022-04-12T13:49:10.868Z"
   },
   {
    "duration": 5,
    "start_time": "2022-04-12T13:49:10.872Z"
   },
   {
    "duration": 352,
    "start_time": "2022-04-12T13:49:10.878Z"
   },
   {
    "duration": 429,
    "start_time": "2022-04-12T13:49:11.232Z"
   },
   {
    "duration": 1999,
    "start_time": "2022-04-12T13:49:11.662Z"
   },
   {
    "duration": 5,
    "start_time": "2022-04-12T13:49:13.663Z"
   },
   {
    "duration": 7,
    "start_time": "2022-04-12T13:49:13.670Z"
   },
   {
    "duration": 5,
    "start_time": "2022-04-12T13:49:13.679Z"
   },
   {
    "duration": 313,
    "start_time": "2022-04-12T14:01:43.038Z"
   },
   {
    "duration": 567,
    "start_time": "2022-04-12T14:02:19.573Z"
   },
   {
    "duration": 1349,
    "start_time": "2022-04-12T14:06:12.769Z"
   },
   {
    "duration": 215,
    "start_time": "2022-04-12T14:06:30.521Z"
   },
   {
    "duration": 1639,
    "start_time": "2022-04-12T14:06:37.323Z"
   },
   {
    "duration": 5,
    "start_time": "2022-04-12T14:07:03.093Z"
   },
   {
    "duration": 198,
    "start_time": "2022-04-12T14:07:07.584Z"
   },
   {
    "duration": 178,
    "start_time": "2022-04-12T14:07:14.415Z"
   },
   {
    "duration": 1330,
    "start_time": "2022-04-12T14:07:17.978Z"
   },
   {
    "duration": 1004,
    "start_time": "2022-04-12T14:07:47.526Z"
   },
   {
    "duration": 701,
    "start_time": "2022-04-12T14:08:22.877Z"
   },
   {
    "duration": 1124,
    "start_time": "2022-04-12T14:08:34.126Z"
   },
   {
    "duration": 237,
    "start_time": "2022-04-12T14:09:38.416Z"
   },
   {
    "duration": 1064,
    "start_time": "2022-04-12T14:09:55.479Z"
   },
   {
    "duration": 234,
    "start_time": "2022-04-12T14:10:26.928Z"
   },
   {
    "duration": 589,
    "start_time": "2022-04-12T14:11:23.114Z"
   }
  ],
  "kernelspec": {
   "display_name": "Python 3 (ipykernel)",
   "language": "python",
   "name": "python3"
  },
  "language_info": {
   "codemirror_mode": {
    "name": "ipython",
    "version": 3
   },
   "file_extension": ".py",
   "mimetype": "text/x-python",
   "name": "python",
   "nbconvert_exporter": "python",
   "pygments_lexer": "ipython3",
   "version": "3.9.5"
  },
  "toc": {
   "base_numbering": 1,
   "nav_menu": {},
   "number_sections": true,
   "sideBar": true,
   "skip_h1_title": true,
   "title_cell": "Содержание",
   "title_sidebar": "Contents",
   "toc_cell": true,
   "toc_position": {
    "height": "calc(100% - 180px)",
    "left": "10px",
    "top": "150px",
    "width": "384px"
   },
   "toc_section_display": true,
   "toc_window_display": true
  }
 },
 "nbformat": 4,
 "nbformat_minor": 2
}
